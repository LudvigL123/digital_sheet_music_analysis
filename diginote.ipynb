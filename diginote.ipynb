{
 "cells": [
  {
   "cell_type": "markdown",
   "id": "3bc4f07f",
   "metadata": {},
   "source": [
    "# Digital sheet music analyzer"
   ]
  },
  {
   "cell_type": "markdown",
   "id": "f73e6e0a",
   "metadata": {},
   "source": [
    "## 1 Setting environments and importing necessary packages"
   ]
  },
  {
   "cell_type": "markdown",
   "id": "17c7f008",
   "metadata": {},
   "source": [
    "### Installing MuseScore 3 is necessary for visualization purposes\n",
    "\n",
    "Download link: https://musescore.org/en/download"
   ]
  },
  {
   "cell_type": "code",
   "execution_count": null,
   "id": "2836ff7e",
   "metadata": {},
   "outputs": [],
   "source": [
    "!pip install -r requirements.txt"
   ]
  },
  {
   "cell_type": "code",
   "execution_count": 1,
   "id": "cb1e2d24",
   "metadata": {},
   "outputs": [
    {
     "data": {
      "text/plain": [
       "WindowsPath('C:/Program Files/MuseScore 3/bin/MuseScore3.exe')"
      ]
     },
     "execution_count": 1,
     "metadata": {},
     "output_type": "execute_result"
    }
   ],
   "source": [
    "import re\n",
    "import math\n",
    "import numpy as np\n",
    "from itertools import chain\n",
    "from collections import Counter\n",
    "import nltk\n",
    "from nltk.util import ngrams \n",
    "from music21 import *\n",
    "from pathlib import Path \n",
    "import pandas as pd\n",
    "import os \n",
    "from os import listdir\n",
    "from os.path import isfile, join\n",
    "from itertools import groupby\n",
    "import glob\n",
    "from difflib import SequenceMatcher\n",
    "from timeit import default_timer as timer\n",
    "from datetime import timedelta\n",
    "from IPython.display import display, Markdown, clear_output\n",
    "# widget packages\n",
    "from ipywidgets import widgets, interact\n",
    "from tqdm.notebook import trange, tqdm\n",
    "\n",
    "from tkinter import Tk, filedialog\n",
    "us = environment.UserSettings()\n",
    "\n",
    "#Only for Windows - install and add your path of MuseScore3 here\n",
    "us['musicxmlPath'] = 'C:\\\\Program Files\\\\MuseScore 3\\\\bin\\\\MuseScore3.exe'\n",
    "us['musescoreDirectPNGPath'] = 'C:\\\\Program Files\\\\MuseScore 3\\\\bin\\\\MuseScore3.exe'\n",
    "us['musicxmlPath']"
   ]
  },
  {
   "cell_type": "markdown",
   "id": "3f32fe81",
   "metadata": {},
   "source": [
    "## 2 Algorithms for extracting information from digital sheet note"
   ]
  },
  {
   "cell_type": "markdown",
   "id": "6385c8ca",
   "metadata": {},
   "source": [
    "#### Function to convert fraction objects to floats"
   ]
  },
  {
   "cell_type": "code",
   "execution_count": 2,
   "id": "7d72665d",
   "metadata": {},
   "outputs": [],
   "source": [
    "def convert_to_float(frac_str):\n",
    "    try:\n",
    "        return float(frac_str)\n",
    "    except ValueError:\n",
    "        num, denom = frac_str.split('/')\n",
    "        try:\n",
    "            leading, num = num.split(' ')\n",
    "            whole = float(leading)\n",
    "        except ValueError:\n",
    "            whole = 0\n",
    "        frac = float(num) / float(denom)\n",
    "        decimal = whole - frac if whole < 0 else whole + frac\n",
    "        return round(decimal,3)"
   ]
  },
  {
   "cell_type": "markdown",
   "id": "7a283308",
   "metadata": {},
   "source": [
    "### Extracts measure information from sheet parts"
   ]
  },
  {
   "cell_type": "code",
   "execution_count": 3,
   "id": "9e8389b0",
   "metadata": {},
   "outputs": [],
   "source": [
    "def get_measure_and_notes(part):\n",
    "    measures = []\n",
    "    detailed_seq = [] #Whole note part sequence without meassure markings\n",
    "    for e in part.getElementsByClass('Measure'):\n",
    "        newMeasure = {}        \n",
    "        newMeasure[e.number] = list(e.notesAndRests.elements)\n",
    "        \n",
    "        for elem in newMeasure[e.number]:\n",
    "            off_s = elem.offset\n",
    "            if elem.isNote:\n",
    "                \n",
    "                if not isinstance(elem.duration.quarterLength, float) or not isinstance(off_s, float):\n",
    "                    \n",
    "                    decimal_lenght = convert_to_float(str(elem.duration.quarterLength))\n",
    "                    off_s = convert_to_float(str(off_s))\n",
    "                    detailed_seq.append((e.number, str(elem.pitch.midi), decimal_lenght, off_s))\n",
    "                   \n",
    "                else:\n",
    "                    \n",
    "                    detailed_seq.append((e.number, str(elem.pitch.midi), elem.duration.quarterLength, off_s))\n",
    "                \n",
    "            elif elem.isChord and '<music21.harmony.ChordSymbol' not in str(elem):\n",
    "                notes = []\n",
    "                for c in elem.notes:\n",
    "                    if not isinstance(c.duration.quarterLength, float) or not isinstance(off_s, float):\n",
    "                        decimal_lenght = convert_to_float(str(c.duration.quarterLength))\n",
    "                        off_s = convert_to_float(str(off_s))\n",
    "                        notes.append((e.number, str(c.pitch.midi),decimal_lenght, off_s))\n",
    "                    else:\n",
    "                        notes.append((e.number, str(c.pitch.midi), c.duration.quarterLength, off_s))\n",
    "                        \n",
    "                detailed_seq.append(notes)\n",
    "            elif elem.isRest:\n",
    "                detailed_seq.append((e.number, str(elem.name) + '_'+ str(elem.duration.quarterLength)))\n",
    "        \n",
    "        measures.append(newMeasure)\n",
    "\n",
    "    \n",
    "    dic = {}\n",
    "    \n",
    "    for i in range(len(detailed_seq)):\n",
    "        if len(detailed_seq[i]) != 0:\n",
    "            dic[i] = detailed_seq[i]\n",
    "    return dic\n"
   ]
  },
  {
   "cell_type": "code",
   "execution_count": 35,
   "id": "0550087b",
   "metadata": {},
   "outputs": [],
   "source": [
    "def combine_measures(notes):\n",
    "    part_count = len(notes)\n",
    "\n",
    "    measure1 = list(notes[0]['measures'].values())[0:10]\n",
    "    measure2 = list(notes[1]['measures'].values())[0:10]\n",
    "    \n",
    "    print(measure1)\n",
    "    print(measure2)\n",
    "    "
   ]
  },
  {
   "cell_type": "markdown",
   "id": "925b36ca",
   "metadata": {},
   "source": [
    "### Sheet note information is extracted to datatable"
   ]
  },
  {
   "cell_type": "code",
   "execution_count": 16,
   "id": "49d81e00",
   "metadata": {},
   "outputs": [],
   "source": [
    "def gather_part_info(note, noteName, sheet_path, note_id, k_old, k_new):\n",
    "    allNote = [] #Every part of the instrument is collected here\n",
    "    part_count = 1\n",
    "    for el in note.elements: #Every part is a separately analyzed -> el = PartStaff\n",
    "        #Basic info\n",
    "        partList = {}\n",
    "        partList['note_id'] = note_id\n",
    "        partList['note_part_id'] = str(note_id) + \"_\" + str(part_count)\n",
    "        partList['sheet_name'] = noteName\n",
    "        partList['sheet_path'] = sheet_path\n",
    "        partList['part_name'] = el.partName \n",
    "        partList['original_key'] = k_old \n",
    "        \n",
    "        part_count +=1\n",
    " \n",
    "        partList['transposed_key'] = k_new\n",
    "            \n",
    "        #Find the measures and their content\n",
    "        partList['measures'] = get_measure_and_notes(el)\n",
    "        \n",
    "        allNote.append(partList)\n",
    "    combine_measures(allNote)\n",
    "    return allNote"
   ]
  },
  {
   "cell_type": "markdown",
   "id": "e85d687d",
   "metadata": {},
   "source": [
    "### Key change algoritm (to base key - C-major or a-minor)\n",
    "\n",
    "\n",
    "* What method does note.transpose(i) use? - "
   ]
  },
  {
   "cell_type": "code",
   "execution_count": 6,
   "id": "f1a41c77",
   "metadata": {},
   "outputs": [],
   "source": [
    "#Change all keys to either a-minor or C-major\n",
    "def key_change_to_base(note): \n",
    "    \n",
    "    k = note.analyze('key')\n",
    "\n",
    "    if 'major' in str(k):\n",
    "        i = interval.Interval(k.tonic, pitch.Pitch('c5'))\n",
    "    else:\n",
    "        i = interval.Interval(k.tonic, pitch.Pitch('a4'))\n",
    "    sNew = note.transpose(i)\n",
    "    kNew = sNew.analyze('key')\n",
    "        \n",
    "    return k, kNew, sNew"
   ]
  },
  {
   "cell_type": "markdown",
   "id": "77eafe88",
   "metadata": {},
   "source": [
    "## 3 Importing sheet notes to dataframe"
   ]
  },
  {
   "cell_type": "markdown",
   "id": "4555f86f",
   "metadata": {},
   "source": [
    "### Import folder (database) of music sheets and add them to dataframe"
   ]
  },
  {
   "cell_type": "code",
   "execution_count": 36,
   "id": "316312cb",
   "metadata": {
    "scrolled": true
   },
   "outputs": [
    {
     "name": "stdout",
     "output_type": "stream",
     "text": [
      "You chose: C:/Users/Lleis/Documents/SCHOOL/digimagister/digital_sheet_music_analysis/test_note\n"
     ]
    },
    {
     "data": {
      "application/vnd.jupyter.widget-view+json": {
       "model_id": "c37b4c7642f2432a8403cffc63ebe35b",
       "version_major": 2,
       "version_minor": 0
      },
      "text/plain": [
       "  0%|          | 0/1 [00:00<?, ?it/s]"
      ]
     },
     "metadata": {},
     "output_type": "display_data"
    },
    {
     "name": "stdout",
     "output_type": "stream",
     "text": [
      "[(1, '76', 0.25, 0.0), (1, '75', 0.25, 0.25), (2, '76', 0.25, 0.0), (2, '75', 0.25, 0.25), (2, '76', 0.25, 0.5), (2, '71', 0.25, 0.75), (2, '74', 0.25, 1.0), (2, '72', 0.25, 1.25), (3, '69', 0.5, 0.0), (3, 'rest_0.25')]\n",
      "[(1, 'rest_0.5'), (2, 'rest_1.5'), (3, '45', 0.25, 0.0), (3, '52', 0.25, 0.25), (3, '57', 0.25, 0.5), (3, 'rest_0.25'), (3, 'rest_0.5'), (4, '40', 0.25, 0.0), (4, '52', 0.25, 0.25), (4, '56', 0.25, 0.5)]\n"
     ]
    }
   ],
   "source": [
    "# Imports all files in the directory ending with .mxl:\n",
    "from tkinter import Tk, filedialog\n",
    "root = Tk()\n",
    "root.withdraw() #use to hide tkinter window\n",
    "def search_for_file_path ():\n",
    "    root = Tk()\n",
    "    root.withdraw()\n",
    "    root.attributes('-topmost', True) \n",
    "    currdir = os.getcwd()\n",
    "    tempdir = filedialog.askdirectory(parent=root, initialdir=currdir, title='Please select a directory')\n",
    "    if len(tempdir) > 0:\n",
    "        print (\"You chose: %s\" % tempdir)\n",
    "    return tempdir\n",
    "\n",
    "file_path_variable = search_for_file_path()\n",
    "\n",
    "input_str = file_path_variable +'\\\\*.musicxml' #or .mxl\n",
    "raw_string = r\"{}\".format(input_str)\n",
    "\n",
    "sheets = glob.glob(raw_string)\n",
    "\n",
    "if len(sheets) == 0:\n",
    "    input_str = file_path_variable +'\\\\*.mxl'\n",
    "    raw_string = r\"{}\".format(input_str)\n",
    "\n",
    "    sheets = glob.glob(raw_string)\n",
    "\n",
    "df_info = []\n",
    "for sh in tqdm(range(len(sheets))):\n",
    "    s = converter.parse(sheets[sh])\n",
    "    k_old, k_new, sNew = key_change_to_base(s) #Change key to base key\n",
    "    partStream2 = sNew.parts.stream()\n",
    "    if len(df_info) == 0:\n",
    "        idx = 0\n",
    "    else:\n",
    "        idx = df_info[-1]['note_id'] #Assign id to the note\n",
    "    sheet_name = sheets[sh].split('\\\\')[-1]\n",
    "    \n",
    "    note_info2= gather_part_info(partStream2, sheet_name, sheets[sh], idx+1, k_old, k_new)    \n",
    "    for part in note_info2:\n",
    "        df_info.append(part)\n",
    "\n",
    "df = pd.DataFrame(df_info) #build the dataframe\n",
    "\n",
    "#Some parse errors may come due to broken/unconventional music sheets"
   ]
  },
  {
   "cell_type": "code",
   "execution_count": 26,
   "id": "3d4cd34a",
   "metadata": {
    "scrolled": true
   },
   "outputs": [
    {
     "data": {
      "text/html": [
       "<div>\n",
       "<style scoped>\n",
       "    .dataframe tbody tr th:only-of-type {\n",
       "        vertical-align: middle;\n",
       "    }\n",
       "\n",
       "    .dataframe tbody tr th {\n",
       "        vertical-align: top;\n",
       "    }\n",
       "\n",
       "    .dataframe thead th {\n",
       "        text-align: right;\n",
       "    }\n",
       "</style>\n",
       "<table border=\"1\" class=\"dataframe\">\n",
       "  <thead>\n",
       "    <tr style=\"text-align: right;\">\n",
       "      <th></th>\n",
       "      <th>note_id</th>\n",
       "      <th>note_part_id</th>\n",
       "      <th>sheet_name</th>\n",
       "      <th>sheet_path</th>\n",
       "      <th>part_name</th>\n",
       "      <th>original_key</th>\n",
       "      <th>transposed_key</th>\n",
       "      <th>measures</th>\n",
       "    </tr>\n",
       "  </thead>\n",
       "  <tbody>\n",
       "    <tr>\n",
       "      <th>0</th>\n",
       "      <td>1</td>\n",
       "      <td>1_1</td>\n",
       "      <td>Fr_Elise_WoO_59__Ludwig_va...</td>\n",
       "      <td>C:/Users/Lleis/Documents/S...</td>\n",
       "      <td>Piano</td>\n",
       "      <td>a minor</td>\n",
       "      <td>a minor</td>\n",
       "      <td>{0: (1, '76', 0.25, 0.0), ...</td>\n",
       "    </tr>\n",
       "    <tr>\n",
       "      <th>1</th>\n",
       "      <td>1</td>\n",
       "      <td>1_2</td>\n",
       "      <td>Fr_Elise_WoO_59__Ludwig_va...</td>\n",
       "      <td>C:/Users/Lleis/Documents/S...</td>\n",
       "      <td>Piano</td>\n",
       "      <td>a minor</td>\n",
       "      <td>a minor</td>\n",
       "      <td>{0: (1, 'rest_0.5'), 1: (2...</td>\n",
       "    </tr>\n",
       "  </tbody>\n",
       "</table>\n",
       "</div>"
      ],
      "text/plain": [
       "   note_id note_part_id                     sheet_name  \\\n",
       "0        1          1_1  Fr_Elise_WoO_59__Ludwig_va...   \n",
       "1        1          1_2  Fr_Elise_WoO_59__Ludwig_va...   \n",
       "\n",
       "                      sheet_path part_name original_key transposed_key  \\\n",
       "0  C:/Users/Lleis/Documents/S...     Piano      a minor        a minor   \n",
       "1  C:/Users/Lleis/Documents/S...     Piano      a minor        a minor   \n",
       "\n",
       "                        measures  \n",
       "0  {0: (1, '76', 0.25, 0.0), ...  \n",
       "1  {0: (1, 'rest_0.5'), 1: (2...  "
      ]
     },
     "metadata": {},
     "output_type": "display_data"
    }
   ],
   "source": [
    "with pd.option_context('display.max_colwidth', 30):\n",
    "    display(df.head(10))"
   ]
  },
  {
   "cell_type": "markdown",
   "id": "d1f0c5a7",
   "metadata": {},
   "source": [
    "## 4 Longest Common Consequtive Non-overlapping Subsequence\n",
    "\n",
    "#### Find the longest common, consequtive and non-overlapping subsequences between notes"
   ]
  },
  {
   "cell_type": "markdown",
   "id": "8ba1ea36",
   "metadata": {},
   "source": [
    "### Sheet music information extracting and transformation algorithms for LCCNOSS analysis\n",
    "\n",
    "#### Measures are assembled as following: - [a,b,c,d]\n",
    "\n",
    "* a - measure nr. / index\n",
    "* b - MIDI mark of the note (can retreive note pitch and note octave from it)\n",
    "* c - duration of the note\n",
    "* d - float = off-beat note/element, integer = on-beat note/element"
   ]
  },
  {
   "cell_type": "markdown",
   "id": "7ee8b13f",
   "metadata": {},
   "source": [
    "### Removing rests"
   ]
  },
  {
   "cell_type": "code",
   "execution_count": 10,
   "id": "3f2603ed",
   "metadata": {},
   "outputs": [],
   "source": [
    "def remove_rests(lst):\n",
    "    new_lst =[]\n",
    "    for elem in lst:\n",
    "        if 'rest_' not in elem[1][1]:\n",
    "            new_lst.append(elem)\n",
    "    return new_lst"
   ]
  },
  {
   "cell_type": "markdown",
   "id": "eedd5fe4",
   "metadata": {},
   "source": [
    "### Removing off-beat notes"
   ]
  },
  {
   "cell_type": "code",
   "execution_count": 26,
   "id": "72daa17e",
   "metadata": {},
   "outputs": [],
   "source": [
    "def remove_offbeat(lst):\n",
    "    \n",
    "    #lst_new = remove_rests(lst) - Why we have to remove rests while removing offbeats?\n",
    "    new_lst = []\n",
    "    for elem in lst:\n",
    "        \n",
    "        #el[1] - sheet element (chord, rest, note)\n",
    "        #CHORDS\n",
    "        if isinstance(elem[1], list):\n",
    "            if elem[1][0][-1].is_integer(): # integer - meaning that note is on beat\n",
    "                new_lst.append(elem)\n",
    "    \n",
    "        else:\n",
    "            #RESTS\n",
    "            if 'rest_' in elem[1][1]:\n",
    "                new_lst.append(elem)\n",
    "            \n",
    "            #NOTES\n",
    "            else:\n",
    "                if elem[1][-1].is_integer():\n",
    "                    new_lst.append(elem)\n",
    "    \n",
    "    return new_lst"
   ]
  },
  {
   "cell_type": "markdown",
   "id": "2c3ed639",
   "metadata": {},
   "source": [
    "### Removing repetitive notes"
   ]
  },
  {
   "cell_type": "code",
   "execution_count": 12,
   "id": "4a11d180",
   "metadata": {},
   "outputs": [],
   "source": [
    "def remove_repetitive_notes(lst):\n",
    "    new_lst =[]\n",
    "    repeated_notes = []\n",
    "    for elem in lst:\n",
    "        if not isinstance(elem[1], list):\n",
    "            if 'rest_' not in elem[1][1]:\n",
    "                if len(new_lst) != 0:\n",
    "                    if new_lst[-1][1][1] != elem[1][1]:\n",
    "                        new_lst.append(elem)\n",
    "                    else:\n",
    "                        repeated_notes.append(elem)\n",
    "                else:\n",
    "                    new_lst.append(elem)\n",
    "            else:\n",
    "                new_lst.append(elem)\n",
    "        else:\n",
    "            new_lst.append(elem)\n",
    "    return new_lst"
   ]
  },
  {
   "cell_type": "markdown",
   "id": "9e3a3bae",
   "metadata": {},
   "source": [
    "### Construct the string from note information"
   ]
  },
  {
   "cell_type": "markdown",
   "id": "aa5778f7",
   "metadata": {},
   "source": [
    "For [3] and [4] - they show the index positionis from where the list should be split.\n",
    "\n",
    "**Possible values of variables:**\n",
    "\n",
    "* n -> measure list from dataframe row\n",
    "* if_rest -> True: keep the rests, False: remove the rests\n",
    "* if_chords -> True: keep the chords, False: remove the chords and keep only the highest note of the chord\n",
    "* o = 2 -> if note duration is NOT taken into account OR o = 3 -> if note duration IS taken into account\n",
    "* offset -> True: keep the offset notes, False: remove offset notes \n",
    "* repetition -> True: keep the repetitive notes, False: remove the repetitive (aka consequtive same) notes\n",
    "* oct_val -> showing the convertion of note to higher or lower octave"
   ]
  },
  {
   "cell_type": "code",
   "execution_count": 54,
   "id": "ef31c60a",
   "metadata": {},
   "outputs": [],
   "source": [
    "def construct_strings(n, if_rest, if_chords, o, offset, repetition, oct_val):\n",
    "    \n",
    "    n = ([(k, n[k]) for k in n]) #change dict to list value\n",
    "   \n",
    "    #Remove repetition first if needed\n",
    "    if repetition == False:\n",
    "        n = remove_repetitive_notes(n)\n",
    "    \n",
    "    lst = []\n",
    "    lst_keys = []\n",
    "    if offset == False: \n",
    "        n = remove_offbeat(n)\n",
    "   \n",
    "    if if_rest:\n",
    "        n = remove_rests(n)\n",
    "        \n",
    "    \n",
    "    for el in n:\n",
    "        \n",
    "        # el[0] - element index referring to original note\n",
    "        # el[1] - element itself\n",
    "        \n",
    "        \n",
    "        #CHORDS\n",
    "        if isinstance(el[1], list):\n",
    "            if if_chords: #Takes the upper note of the chord into account\n",
    "                elem = el[1][-1][1:o]\n",
    "                if o == 2:\n",
    "                    #print(elem)\n",
    "                    new_tup = (str(int(elem[0]) + oct_val),)\n",
    "                    #print(new_tup)\n",
    "                else:\n",
    "                    #print(elem)\n",
    "                    new_tup = (str(int(elem[0]) + oct_val), elem[1])\n",
    "                    #print(new_tup)\n",
    "                s = ' '.join(map(str, new_tup))\n",
    "                lst.append(s)\n",
    "                lst_keys.append(el[0])\n",
    "            else: #Takes the whole chord into account\n",
    "                cover_lst = []\n",
    "                for e in el[1]:\n",
    "                    if o == 2:\n",
    "                        elem = e[1:o]\n",
    "                        new_tup = (str(int(elem[0]) + oct_val),)\n",
    "                        cover_lst.append(new_tup)\n",
    "                        \n",
    "                    \n",
    "                    else:\n",
    "                        elem = e[1:o]\n",
    "                        new_tup = (str(int(elem[0]) + oct_val), elem[1])\n",
    "                        #print(new_tup)\n",
    "                        \n",
    "                    cover_lst.append(new_tup)\n",
    "                s = ' '.join(map(str,cover_lst))\n",
    "                lst.append(s)\n",
    "                lst_keys.append(el[0])\n",
    "        \n",
    "        else:\n",
    "            #RESTS\n",
    "            if 'rest_' in el[1][1]:\n",
    "                s = ' '.join(map(str,el[1][1:2]))\n",
    "                lst.append(s)\n",
    "                lst_keys.append(el[0])\n",
    "            #NOTES\n",
    "            else:\n",
    "                note_val = el[1][1:o]\n",
    "                if o == 2:\n",
    "                    #print(note_val)\n",
    "                    new_tup = (str(int(note_val[0]) + oct_val),)\n",
    "                    #print(new_tup)\n",
    "                else:\n",
    "                    #print(note_val)\n",
    "                    new_tup = (str(int(note_val[0]) + oct_val), note_val[1])\n",
    "                    #print(new_tup)\n",
    "                    \n",
    "                s = ' '.join(map(str, new_tup))\n",
    "                lst.append(s)\n",
    "                lst_keys.append(el[0])\n",
    "   \n",
    "    return lst, lst_keys"
   ]
  },
  {
   "cell_type": "markdown",
   "id": "7525a2af",
   "metadata": {},
   "source": [
    "### Generating n-grams and matching sequences - O(N²) — Quadratic Time:"
   ]
  },
  {
   "cell_type": "code",
   "execution_count": 55,
   "id": "744bd2a1",
   "metadata": {},
   "outputs": [],
   "source": [
    "def generate_ngrams(s, n):\n",
    "    \n",
    "    # Use the zip function to help us generate n-grams\n",
    "    # Concatentate the tokens into ngrams and return\n",
    "    \n",
    "    ngrams = zip(*[s[i:] for i in range(n)])\n",
    "    \n",
    "    return [ngram for ngram in ngrams]\n",
    "\n",
    "def match_seq(list1,list2):\n",
    "    output=[]\n",
    "    s = SequenceMatcher(None, list1, list2)\n",
    "    \n",
    "    blocks=s.get_matching_blocks()\n",
    "    for bl in blocks:\n",
    "        for bi in range(bl.size):\n",
    "            cur_a=bl.a+bi\n",
    "            cur_b=bl.b+bi\n",
    "            output.append((cur_a,cur_b))\n",
    "    return output\n",
    "\n",
    "def matched_seq_analysis(a, b, ngram, a_keys, b_keys):\n",
    "    \n",
    "    matched_seq=[]\n",
    "    \n",
    "    a_gram = generate_ngrams(a,ngram)\n",
    "    b_gram = generate_ngrams(b,ngram)\n",
    "    \n",
    "    \n",
    "    for x,y in match_seq(a_gram,b_gram): #x and y represent the 'order number of the specific note'\n",
    "        \n",
    "        k = list(a_gram[x])\n",
    "        k2 = list(b_gram[y])\n",
    "        \n",
    "        idxs_a = [(i, i+len(k)) for i in range(len(a)) if a[i:i+len(k)] == k]\n",
    "        idxs_b = [(i, i+len(k2)) for i in range(len(b)) if b[i:i+len(k2)] == k2]\n",
    "        \n",
    "        a_gram_keys = a_keys[idxs_a[0][0]:idxs_a[0][1]]\n",
    "        b_gram_keys = b_keys[idxs_b[0][0]:idxs_b[0][1]]\n",
    "        \n",
    "        matched_seq.append((x,y, a_gram[x],b_gram[y], a_gram_keys, b_gram_keys))\n",
    "        \n",
    "    return matched_seq"
   ]
  },
  {
   "cell_type": "markdown",
   "id": "44f0f6ab",
   "metadata": {},
   "source": [
    "## Find Different Longest Consecutive Non-Overlapping Subsequences between two strings"
   ]
  },
  {
   "cell_type": "markdown",
   "id": "d835419e",
   "metadata": {},
   "source": [
    "### Finding the longest common subsequence (starting from 4-gram)"
   ]
  },
  {
   "cell_type": "code",
   "execution_count": 56,
   "id": "bbd39ad5",
   "metadata": {},
   "outputs": [],
   "source": [
    "def LCCNOS_combinations(a,b):\n",
    "    \n",
    "    lst_of_matched_seqs = []\n",
    "    counter = 4 #Starting to look for ngrams 4 and above\n",
    "    total_matches = []\n",
    "    if len(a) > len(b):\n",
    "        \n",
    "        total = len(b[0])\n",
    "        \n",
    "        total_matches = []\n",
    "        while counter <= total: \n",
    "            matched = matched_seq_analysis(a[0], b[0], counter, a[1], b[1])\n",
    "            if len(matched) == 0:\n",
    "                break\n",
    "            else:\n",
    "                total_matches = matched\n",
    "            \n",
    "                \n",
    "            counter +=1 \n",
    "    else:\n",
    "       # print(\"ELSE\")\n",
    "        \n",
    "        total = len(a[0])\n",
    "        #print(total)\n",
    "        total_matches = []\n",
    "        while counter <= total:\n",
    "            matched = matched_seq_analysis(a[0],b[0], counter, a[1], b[1])\n",
    "            if len(matched) == 0:\n",
    "                break\n",
    "            else:\n",
    "                total_matches = matched\n",
    "         #   print(counter)\n",
    "          #  print(total_matches)\n",
    "            counter +=1 \n",
    "    \n",
    "    #LCCNOS algorithm\n",
    "    if len(total_matches) == 0:\n",
    "        return 0, 0, 0, 0\n",
    "    else:\n",
    "        idx1 = total_matches[0][0]\n",
    "        idx2 = total_matches[0][1]\n",
    "        seq_length = len(total_matches[0][3])\n",
    "\n",
    "        found_matches = []\n",
    "\n",
    "        range_1 = list(range(idx1, idx1+(counter-1)))\n",
    "        range_2 = list(range(idx2, idx2+(counter-1)))\n",
    "\n",
    "        while seq_length >= 4:\n",
    "            \n",
    "            matched = matched_seq_analysis(a[0], b[0], seq_length, a[1], b[1])\n",
    "\n",
    "            for match in matched:\n",
    "\n",
    "                if match[0] not in range_1 or match[1] not in range_2:\n",
    "                    \n",
    "                    found_matches.append(match)\n",
    "                    range_1 = range_1 + list(range(match[0], match[0]+seq_length))\n",
    "                    range_2 = range_2 + list(range(match[1], match[1]+seq_length))\n",
    "                    range_1.sort()\n",
    "                    range_2.sort()\n",
    "            seq_length= seq_length - 1\n",
    "                \n",
    "        if len(found_matches) == 0:\n",
    "            found_matches_length = 0\n",
    "            found_matches = 0\n",
    "        else:\n",
    "            found_matches_length = len(found_matches)\n",
    "        \n",
    "        \n",
    "        return total_matches, len(total_matches[0][3]), found_matches, found_matches_length"
   ]
  },
  {
   "cell_type": "code",
   "execution_count": 57,
   "id": "6e309775",
   "metadata": {},
   "outputs": [],
   "source": [
    "def LCCNOS(n1, n2, if_rest, if_chords, o, offset, repetition):\n",
    "    a = construct_strings(n1, if_rest, if_chords, o, offset, repetition, 0) \n",
    "    #print(\"ESIMENENOOT\" + str(a))\n",
    "    b = construct_strings(n2, if_rest, if_chords, o, offset, repetition, 0)\n",
    "    #print(\"TEINENOOT\" +str(b))    \n",
    "    \n",
    "    b_upper = construct_strings(n2, if_rest, if_chords, o, offset, repetition, 12) \n",
    "    b_lower = construct_strings(n2, if_rest, if_chords, o, offset, repetition, -12) \n",
    "    \n",
    "    \n",
    "    normal_oct = LCCNOS_combinations(a,b)\n",
    "    upper_oct = LCCNOS_combinations(a,b_upper)\n",
    "    lower_oct = LCCNOS_combinations(a,b_lower)\n",
    "    \n",
    "    if normal_oct[1] >= upper_oct[1] and normal_oct[1] >= lower_oct[1]:\n",
    "        return normal_oct\n",
    "    elif upper_oct[1] >= normal_oct[1] and upper_oct[1] >= lower_oct[1]:\n",
    "        return lower_oct\n",
    "    else:\n",
    "        return lower_oct\n",
    "    "
   ]
  },
  {
   "cell_type": "markdown",
   "id": "21dc8f46",
   "metadata": {},
   "source": [
    "## Matching the longest common sequences\n",
    "\n",
    "### Ways of doing:\n",
    "\n",
    "* Rests:<br>\n",
    "   a) Keep the rests in the note sequeneces <br>\n",
    "   b) Remove all the rests from the note sequences <br><br>\n",
    "\n",
    "* Chords<br>\n",
    "a) Leave chords as they are - KITSENDUS (võimalik oleks ka kõik akordi noodid lisada või siis määrata ära akordi tähtsaim noot? -> .root()) <br>\n",
    "b) Only take account the first note (higher note) of the chord (chord can be harmony starting from 2 consequently sounding notes)<br><br>\n",
    "\n",
    "* Note duration<br>\n",
    "a) Consider note duration in the sequence matching<br>\n",
    "b) Do not consider note duration (note can be in any duration as long as it is the same consequtive note - then it will match)<br><br>\n",
    "\n",
    "* Offset notes<br>\n",
    "a) Leave offset (not on beat notes) into the sheet<br>\n",
    "b) Remove all notes that do not fall on beat<br><br>\n",
    "\n",
    "* Repetition <br>\n",
    "a) Same consequitive notes are kept<br>\n",
    "b) Same consequtive notes are removed<br>"
   ]
  },
  {
   "cell_type": "markdown",
   "id": "22ee411b",
   "metadata": {},
   "source": [
    "### Datatable   \n",
    "   \n",
    "LCCNOS = Longest Common Consequtive Non-Overlapping Sequence"
   ]
  },
  {
   "cell_type": "markdown",
   "id": "fa67a820",
   "metadata": {},
   "source": [
    "### Construct the rules for LCCNOS method"
   ]
  },
  {
   "cell_type": "code",
   "execution_count": 58,
   "id": "99f1a3f3",
   "metadata": {},
   "outputs": [],
   "source": [
    "def construct_LCCNOS(df_base, df_target, i, y, complete, parameters):\n",
    "    \n",
    "    helper_dictionary = {2: 'False', 3: 'True'}\n",
    "    #Test for only one LCS method\n",
    "\n",
    "    if not complete:\n",
    "        \n",
    "        key = str(df_target['note_part_id'][i] + ' + ' + df_base['note_part_id'][y])\n",
    "        \n",
    "        #Example method - change it and choose your own\n",
    "        if parameters[2]:\n",
    "            note_duration = 3\n",
    "        else:\n",
    "            note_duration = 2\n",
    "        \n",
    "        \n",
    "        method = str(parameters[0])[0] + str(parameters[1])[0] + helper_dictionary[note_duration][0] + str(parameters[3])[0] + str(parameters[4])[0]  \n",
    "        LCS_x, l, lccnos, l_lccnos = LCCNOS(df_target['measures'][i],df_base['measures'][y], parameters[0], parameters[1], note_duration, parameters[3], parameters[4])\n",
    "        \n",
    "        data = {'note_part_ids': key,'LCS': LCS_x, 'length_LCS': l, 'LCCNOS': lccnos, 'size_LCCNOS': l_lccnos, 'method_id': method, 'remove_rests':str(parameters[0]),'remove_chords':str(parameters[1]),\n",
    "                                   'consider_note_duration':helper_dictionary[note_duration], 'consider_offset_notes':str(parameters[3]), 'consider_repetition':str(parameters[4])}\n",
    "        \n",
    "        df_whole = pd.DataFrame([data])\n",
    "        \n",
    "    else:\n",
    "    \n",
    "    #Computes all the possible method variants\n",
    "        rests = [True, False]\n",
    "        chords = [True, False]\n",
    "        note_duration = [2,3]\n",
    "        offset_notes = [True, False]\n",
    "        repetition = [True, False]\n",
    "\n",
    "        lst_of_rows =[]\n",
    "        for a in rests:\n",
    "            for b in chords:\n",
    "                    for c in note_duration:\n",
    "                        for d in offset_notes:\n",
    "                            for e in repetition:\n",
    "\n",
    "                                method = str(a)[0]+str(b)[0]+helper_dictionary[c][0]+str(d)[0]+str(e)[0]\n",
    "                                #print(method)\n",
    "                                key = str(df_target['note_part_id'][i] + ' + ' + df_base['note_part_id'][y])\n",
    "\n",
    "                                LCS_x, l, lccnos, l_lccnos = LCCNOS(df_target['measures'][i],df_base['measures'][y],a,b,c,d,e)\n",
    "\n",
    "                                data = {'note_part_ids': key,'LCS': LCS_x, 'length_LCS': l, 'LCCNOS':lccnos, 'size_LCCNOS':l_lccnos, 'method_id':method, 'remove_rests':a,'remove_chords':b,\n",
    "                                       'consider_note_duration':helper_dictionary[c], 'consider_offset_notes':d, 'consider_repetition':e}\n",
    "\n",
    "                                lst_of_rows.append(data)\n",
    "        df_whole = pd.DataFrame(lst_of_rows)\n",
    "                        \n",
    "    return df_whole"
   ]
  },
  {
   "cell_type": "code",
   "execution_count": 59,
   "id": "58b04373",
   "metadata": {},
   "outputs": [],
   "source": [
    "#Look for similar sequence between two different notes OR against all the notes in the dataframe\n",
    "def LCCNOS_analysis(df_base, df_target, i, one_note_bool, if_complete, parameters):\n",
    "    df_whole = pd.DataFrame()\n",
    "    note_dict = {}\n",
    "    \n",
    "    if one_note_bool != -1: #Compare to all the notes in the dataframe\n",
    "        \n",
    "        y =  one_note_bool\n",
    "        df_whole = construct_LCCNOS(df_base, df_target, i, y, if_complete, parameters)\n",
    "        \n",
    "    else: #Compare to specific note in the dataframe (based on index)\n",
    "        for y in range(len(df_base)):\n",
    "            #no need to check for note_part_id match, because they are different anyways\n",
    "            df_part = construct_LCCNOS(df_base, df_target, i, y, if_complete, parameters)\n",
    "            df_whole = df_whole.append(df_part, ignore_index = True) \n",
    "                \n",
    "    return df_whole"
   ]
  },
  {
   "cell_type": "markdown",
   "id": "65b8723a",
   "metadata": {},
   "source": [
    "### Import note you want to compare against the dataframe notes\n",
    "\n",
    "#### Note shouldn't be in the dataframe"
   ]
  },
  {
   "cell_type": "code",
   "execution_count": 60,
   "id": "097e82f6",
   "metadata": {},
   "outputs": [
    {
     "name": "stdout",
     "output_type": "stream",
     "text": [
      "You chose: C:/Users/Lleis/Documents/SCHOOL/digimagister/digital_sheet_music_analysis/test_notes/bond.musicxml\n"
     ]
    }
   ],
   "source": [
    "from tkinter import messagebox\n",
    "root = Tk()\n",
    "root.withdraw() #use to hide tkinter window\n",
    "def search_for_file_path():\n",
    "    root = Tk()\n",
    "    root.withdraw()\n",
    "    root.attributes('-topmost', True) \n",
    "    currdir = os.getcwd()\n",
    "    tempfile = filedialog.askopenfilename(parent=root, initialdir=currdir, title='Please select a .mxl file')\n",
    "\n",
    "    if tempfile=='':\n",
    "        return messagebox.showinfo(\"Faili avamine\", \"Ühtegi faili ei valitud või fail on tühi. Vali MusicXML-fail\")\n",
    "    elif  tempfile.lower().endswith(('.musicxml', '.mxl')) == False:\n",
    "        return messagebox.showinfo(\"Vale fail\", \"Sisestatud fail on vale, sisesta MusicXML-fail.\")\n",
    "    else:\n",
    "        print (\"You chose: %s\" % tempfile)\n",
    "    return tempfile\n",
    "\n",
    "\n",
    "file_path_variable = search_for_file_path()"
   ]
  },
  {
   "cell_type": "code",
   "execution_count": 61,
   "id": "e54ed3df",
   "metadata": {},
   "outputs": [
    {
     "data": {
      "text/html": [
       "<div>\n",
       "<style scoped>\n",
       "    .dataframe tbody tr th:only-of-type {\n",
       "        vertical-align: middle;\n",
       "    }\n",
       "\n",
       "    .dataframe tbody tr th {\n",
       "        vertical-align: top;\n",
       "    }\n",
       "\n",
       "    .dataframe thead th {\n",
       "        text-align: right;\n",
       "    }\n",
       "</style>\n",
       "<table border=\"1\" class=\"dataframe\">\n",
       "  <thead>\n",
       "    <tr style=\"text-align: right;\">\n",
       "      <th></th>\n",
       "      <th>note_id</th>\n",
       "      <th>note_part_id</th>\n",
       "      <th>sheet_name</th>\n",
       "      <th>sheet_path</th>\n",
       "      <th>part_name</th>\n",
       "      <th>original_key</th>\n",
       "      <th>transposed_key</th>\n",
       "      <th>measures</th>\n",
       "    </tr>\n",
       "  </thead>\n",
       "  <tbody>\n",
       "    <tr>\n",
       "      <th>0</th>\n",
       "      <td>1</td>\n",
       "      <td>1_1</td>\n",
       "      <td>bond.musicxml</td>\n",
       "      <td>C:/Users/Lleis/Documents/SCHOOL/digimagister/d...</td>\n",
       "      <td>Piano</td>\n",
       "      <td>e minor</td>\n",
       "      <td>a minor</td>\n",
       "      <td>{0: (1, '69', 0.5, 0.0), 1: (1, '64', 0.5, 0.5...</td>\n",
       "    </tr>\n",
       "    <tr>\n",
       "      <th>1</th>\n",
       "      <td>1</td>\n",
       "      <td>1_2</td>\n",
       "      <td>bond.musicxml</td>\n",
       "      <td>C:/Users/Lleis/Documents/SCHOOL/digimagister/d...</td>\n",
       "      <td>Piano</td>\n",
       "      <td>e minor</td>\n",
       "      <td>a minor</td>\n",
       "      <td>{0: [(1, '45', 3.0, 0.0), (1, '57', 3.0, 0.0)]...</td>\n",
       "    </tr>\n",
       "  </tbody>\n",
       "</table>\n",
       "</div>"
      ],
      "text/plain": [
       "   note_id note_part_id     sheet_name  \\\n",
       "0        1          1_1  bond.musicxml   \n",
       "1        1          1_2  bond.musicxml   \n",
       "\n",
       "                                          sheet_path part_name original_key  \\\n",
       "0  C:/Users/Lleis/Documents/SCHOOL/digimagister/d...     Piano      e minor   \n",
       "1  C:/Users/Lleis/Documents/SCHOOL/digimagister/d...     Piano      e minor   \n",
       "\n",
       "  transposed_key                                           measures  \n",
       "0        a minor  {0: (1, '69', 0.5, 0.0), 1: (1, '64', 0.5, 0.5...  \n",
       "1        a minor  {0: [(1, '45', 3.0, 0.0), (1, '57', 3.0, 0.0)]...  "
      ]
     },
     "execution_count": 61,
     "metadata": {},
     "output_type": "execute_result"
    }
   ],
   "source": [
    "df_input_note = pd.DataFrame()\n",
    "s = converter.parse(file_path_variable)\n",
    "k_old, k_new, sNew = key_change_to_base(s) #Change key to base key\n",
    "partStream2 = sNew.parts.stream()\n",
    "\n",
    "idx = 0\n",
    "\n",
    "sheet_name = str(file_path_variable).split('/')[-1]\n",
    "\n",
    "note_info2= gather_part_info(partStream2, sheet_name, file_path_variable, idx+1, k_old, k_new)    \n",
    "df_input_note = pd.DataFrame(note_info2)\n",
    "df_input_note\n",
    "#df_input_note['measures'].iloc[0]"
   ]
  },
  {
   "cell_type": "markdown",
   "id": "a8d4f7d5",
   "metadata": {},
   "source": [
    "## Choose a method from the options:"
   ]
  },
  {
   "cell_type": "code",
   "execution_count": 21,
   "id": "c4b9243d",
   "metadata": {},
   "outputs": [
    {
     "data": {
      "application/vnd.jupyter.widget-view+json": {
       "model_id": "8931e5e6955b442eb5f969bd2491e053",
       "version_major": 2,
       "version_minor": 0
      },
      "text/plain": [
       "HBox(children=(VBox(children=(Checkbox(value=False, description='Remove rests'), Checkbox(value=False, descrip…"
      ]
     },
     "metadata": {},
     "output_type": "display_data"
    }
   ],
   "source": [
    "import ipywidgets as widgets\n",
    "\n",
    "wid1 = widgets.Checkbox(\n",
    "    value=False,\n",
    "    description='Remove rests',\n",
    "    disabled=False\n",
    ")\n",
    "wid2 = widgets.Checkbox(\n",
    "    value=False,\n",
    "    description='Remove chords',\n",
    "    disabled=False\n",
    ")\n",
    "\n",
    "wid3 = widgets.Checkbox(\n",
    "    value=True,\n",
    "    description='Consider note duration',\n",
    "    disabled=False\n",
    ")\n",
    "\n",
    "wid4 = widgets.Checkbox(\n",
    "    value=True,\n",
    "    description='Consider offset notes',\n",
    "    disabled=False\n",
    ")\n",
    "\n",
    "wid5 = widgets.Checkbox(\n",
    "    value=True,\n",
    "    description='Consider repetitive notes',\n",
    "    disabled=False\n",
    ")\n",
    "\n",
    "\n",
    "items = [wid1,wid2, wid3, wid4, wid5]\n",
    "left_box = widgets.VBox([items[0], items[1]])\n",
    "middle_box = widgets.VBox([items[2], items[3]])\n",
    "right_box = widgets.VBox([items[4]])\n",
    "widgets.HBox([left_box, middle_box, right_box])"
   ]
  },
  {
   "cell_type": "markdown",
   "id": "262fa457",
   "metadata": {},
   "source": [
    "### LCCNOS_analysis (dataframe, input_note_idx, target_note_idx, methods_boolean):\n",
    "\n",
    "* dataframe - Choose the dataframe (by default: 'df')\n",
    "* input_note_idx - Choose a note part you want to analyze based on df_input_note dataframe index (by default: 0)\n",
    "* target_note_idx - Choose a target note index you want to compare the input note against OR write -1 for analysis against all the notes in the dataframe\n",
    "* methods_boolean - TRUE - note part will be compared with all the 32 methods, FALSE - note part will be compared with one chosen method in 'parameters'\n",
    "* parameters - checked boxes of method options\n",
    "\n",
    "\n",
    "\n"
   ]
  },
  {
   "cell_type": "markdown",
   "id": "55eaf242",
   "metadata": {},
   "source": [
    "### <font color='blue'>Do you want to compare the note with all the methods or only chosen one?</font>"
   ]
  },
  {
   "cell_type": "code",
   "execution_count": 22,
   "id": "1f9128a9",
   "metadata": {},
   "outputs": [
    {
     "data": {
      "application/vnd.jupyter.widget-view+json": {
       "model_id": "07b421e278654f6da06dbcefec37e507",
       "version_major": 2,
       "version_minor": 0
      },
      "text/plain": [
       "HBox(children=(VBox(children=(Checkbox(value=False, description='Compare note parts with every (32 different) …"
      ]
     },
     "metadata": {},
     "output_type": "display_data"
    }
   ],
   "source": [
    "layout = widgets.Layout(width='auto', height='40px') #set width and height\n",
    "\n",
    "wid6 = widgets.Checkbox(\n",
    "    value=False,\n",
    "    description='Compare note parts with every (32 different) method combination',\n",
    "    disabled=False,\n",
    "    layout=layout,\n",
    "    indent=False,\n",
    ")\n",
    "items = [wid6]\n",
    "left_box = widgets.VBox([items[0]])\n",
    "widgets.HBox([left_box])"
   ]
  },
  {
   "cell_type": "code",
   "execution_count": 23,
   "id": "4580e72e",
   "metadata": {},
   "outputs": [],
   "source": [
    "input_note_idx = 0 #Add the note index here what you want to compare:"
   ]
  },
  {
   "cell_type": "markdown",
   "id": "9fcd2b0a",
   "metadata": {},
   "source": [
    "### <font color='blue'>Choose - do you want to compare with all the notes (value: -1) or a specific note (choose target note index value)</font>"
   ]
  },
  {
   "cell_type": "code",
   "execution_count": 62,
   "id": "41306384",
   "metadata": {},
   "outputs": [],
   "source": [
    "target_note_idx = -1 #Change the value here"
   ]
  },
  {
   "cell_type": "code",
   "execution_count": 63,
   "id": "0bc71064",
   "metadata": {},
   "outputs": [
    {
     "data": {
      "text/html": [
       "<div>\n",
       "<style scoped>\n",
       "    .dataframe tbody tr th:only-of-type {\n",
       "        vertical-align: middle;\n",
       "    }\n",
       "\n",
       "    .dataframe tbody tr th {\n",
       "        vertical-align: top;\n",
       "    }\n",
       "\n",
       "    .dataframe thead th {\n",
       "        text-align: right;\n",
       "    }\n",
       "</style>\n",
       "<table border=\"1\" class=\"dataframe\">\n",
       "  <thead>\n",
       "    <tr style=\"text-align: right;\">\n",
       "      <th></th>\n",
       "      <th>note_part_ids</th>\n",
       "      <th>LCS</th>\n",
       "      <th>length_LCS</th>\n",
       "      <th>LCCNOS</th>\n",
       "      <th>size_LCCNOS</th>\n",
       "      <th>method_id</th>\n",
       "      <th>remove_rests</th>\n",
       "      <th>remove_chords</th>\n",
       "      <th>consider_note_duration</th>\n",
       "      <th>consider_offset_notes</th>\n",
       "      <th>consider_repetition</th>\n",
       "    </tr>\n",
       "  </thead>\n",
       "  <tbody>\n",
       "    <tr>\n",
       "      <th>1473</th>\n",
       "      <td>1_1 + 24_1</td>\n",
       "      <td>[(575, 380, (83, 84, 86, 88, 84, 83, 84, 81, 8...</td>\n",
       "      <td>11</td>\n",
       "      <td>[(572, 294, (84, 83, 81, 83, 84, 86, 88), (84,...</td>\n",
       "      <td>5</td>\n",
       "      <td>TTFTF</td>\n",
       "      <td>True</td>\n",
       "      <td>True</td>\n",
       "      <td>False</td>\n",
       "      <td>True</td>\n",
       "      <td>False</td>\n",
       "    </tr>\n",
       "    <tr>\n",
       "      <th>1481</th>\n",
       "      <td>1_1 + 24_1</td>\n",
       "      <td>[(575, 380, (83, 84, 86, 88, 84, 83, 84, 81, 8...</td>\n",
       "      <td>11</td>\n",
       "      <td>[(572, 294, (84, 83, 81, 83, 84, 86, 88), (84,...</td>\n",
       "      <td>5</td>\n",
       "      <td>TFFTF</td>\n",
       "      <td>True</td>\n",
       "      <td>False</td>\n",
       "      <td>False</td>\n",
       "      <td>True</td>\n",
       "      <td>False</td>\n",
       "    </tr>\n",
       "    <tr>\n",
       "      <th>1</th>\n",
       "      <td>1_1 + 1_1</td>\n",
       "      <td>[(63, 913, (76, 77, 76, 77, 76, 77, 76, 77, 76...</td>\n",
       "      <td>9</td>\n",
       "      <td>[(68, 1006, (77, 76, 77, 76, 72, 71), (77, 76,...</td>\n",
       "      <td>5</td>\n",
       "      <td>TTFTF</td>\n",
       "      <td>True</td>\n",
       "      <td>True</td>\n",
       "      <td>False</td>\n",
       "      <td>True</td>\n",
       "      <td>False</td>\n",
       "    </tr>\n",
       "    <tr>\n",
       "      <th>9</th>\n",
       "      <td>1_1 + 1_1</td>\n",
       "      <td>[(63, 913, (76, 77, 76, 77, 76, 77, 76, 77, 76...</td>\n",
       "      <td>9</td>\n",
       "      <td>[(68, 1006, (77, 76, 77, 76, 72, 71), (77, 76,...</td>\n",
       "      <td>5</td>\n",
       "      <td>TFFTF</td>\n",
       "      <td>True</td>\n",
       "      <td>False</td>\n",
       "      <td>False</td>\n",
       "      <td>True</td>\n",
       "      <td>False</td>\n",
       "    </tr>\n",
       "    <tr>\n",
       "      <th>17</th>\n",
       "      <td>1_1 + 1_1</td>\n",
       "      <td>[(67, 1063, (76, 77, 76, 77, 76, 77, 76, 77, 7...</td>\n",
       "      <td>9</td>\n",
       "      <td>[(44, 2, (81, 79, 77, 76), (81, 79, 77, 76), [...</td>\n",
       "      <td>5</td>\n",
       "      <td>FTFTF</td>\n",
       "      <td>False</td>\n",
       "      <td>True</td>\n",
       "      <td>False</td>\n",
       "      <td>True</td>\n",
       "      <td>False</td>\n",
       "    </tr>\n",
       "    <tr>\n",
       "      <th>...</th>\n",
       "      <td>...</td>\n",
       "      <td>...</td>\n",
       "      <td>...</td>\n",
       "      <td>...</td>\n",
       "      <td>...</td>\n",
       "      <td>...</td>\n",
       "      <td>...</td>\n",
       "      <td>...</td>\n",
       "      <td>...</td>\n",
       "      <td>...</td>\n",
       "      <td>...</td>\n",
       "    </tr>\n",
       "    <tr>\n",
       "      <th>2715</th>\n",
       "      <td>1_1 + 42_2</td>\n",
       "      <td>0</td>\n",
       "      <td>0</td>\n",
       "      <td>0</td>\n",
       "      <td>0</td>\n",
       "      <td>FFFFF</td>\n",
       "      <td>False</td>\n",
       "      <td>False</td>\n",
       "      <td>False</td>\n",
       "      <td>False</td>\n",
       "      <td>False</td>\n",
       "    </tr>\n",
       "    <tr>\n",
       "      <th>2716</th>\n",
       "      <td>1_1 + 42_2</td>\n",
       "      <td>0</td>\n",
       "      <td>0</td>\n",
       "      <td>0</td>\n",
       "      <td>0</td>\n",
       "      <td>FFTTT</td>\n",
       "      <td>False</td>\n",
       "      <td>False</td>\n",
       "      <td>True</td>\n",
       "      <td>True</td>\n",
       "      <td>True</td>\n",
       "    </tr>\n",
       "    <tr>\n",
       "      <th>2717</th>\n",
       "      <td>1_1 + 42_2</td>\n",
       "      <td>0</td>\n",
       "      <td>0</td>\n",
       "      <td>0</td>\n",
       "      <td>0</td>\n",
       "      <td>FFTTF</td>\n",
       "      <td>False</td>\n",
       "      <td>False</td>\n",
       "      <td>True</td>\n",
       "      <td>True</td>\n",
       "      <td>False</td>\n",
       "    </tr>\n",
       "    <tr>\n",
       "      <th>2718</th>\n",
       "      <td>1_1 + 42_2</td>\n",
       "      <td>0</td>\n",
       "      <td>0</td>\n",
       "      <td>0</td>\n",
       "      <td>0</td>\n",
       "      <td>FFTFT</td>\n",
       "      <td>False</td>\n",
       "      <td>False</td>\n",
       "      <td>True</td>\n",
       "      <td>False</td>\n",
       "      <td>True</td>\n",
       "    </tr>\n",
       "    <tr>\n",
       "      <th>2719</th>\n",
       "      <td>1_1 + 42_2</td>\n",
       "      <td>0</td>\n",
       "      <td>0</td>\n",
       "      <td>0</td>\n",
       "      <td>0</td>\n",
       "      <td>FFTFF</td>\n",
       "      <td>False</td>\n",
       "      <td>False</td>\n",
       "      <td>True</td>\n",
       "      <td>False</td>\n",
       "      <td>False</td>\n",
       "    </tr>\n",
       "  </tbody>\n",
       "</table>\n",
       "<p>2720 rows × 11 columns</p>\n",
       "</div>"
      ],
      "text/plain": [
       "     note_part_ids                                                LCS  \\\n",
       "1473    1_1 + 24_1  [(575, 380, (83, 84, 86, 88, 84, 83, 84, 81, 8...   \n",
       "1481    1_1 + 24_1  [(575, 380, (83, 84, 86, 88, 84, 83, 84, 81, 8...   \n",
       "1        1_1 + 1_1  [(63, 913, (76, 77, 76, 77, 76, 77, 76, 77, 76...   \n",
       "9        1_1 + 1_1  [(63, 913, (76, 77, 76, 77, 76, 77, 76, 77, 76...   \n",
       "17       1_1 + 1_1  [(67, 1063, (76, 77, 76, 77, 76, 77, 76, 77, 7...   \n",
       "...            ...                                                ...   \n",
       "2715    1_1 + 42_2                                                  0   \n",
       "2716    1_1 + 42_2                                                  0   \n",
       "2717    1_1 + 42_2                                                  0   \n",
       "2718    1_1 + 42_2                                                  0   \n",
       "2719    1_1 + 42_2                                                  0   \n",
       "\n",
       "      length_LCS                                             LCCNOS  \\\n",
       "1473          11  [(572, 294, (84, 83, 81, 83, 84, 86, 88), (84,...   \n",
       "1481          11  [(572, 294, (84, 83, 81, 83, 84, 86, 88), (84,...   \n",
       "1              9  [(68, 1006, (77, 76, 77, 76, 72, 71), (77, 76,...   \n",
       "9              9  [(68, 1006, (77, 76, 77, 76, 72, 71), (77, 76,...   \n",
       "17             9  [(44, 2, (81, 79, 77, 76), (81, 79, 77, 76), [...   \n",
       "...          ...                                                ...   \n",
       "2715           0                                                  0   \n",
       "2716           0                                                  0   \n",
       "2717           0                                                  0   \n",
       "2718           0                                                  0   \n",
       "2719           0                                                  0   \n",
       "\n",
       "      size_LCCNOS method_id  remove_rests  remove_chords  \\\n",
       "1473            5     TTFTF          True           True   \n",
       "1481            5     TFFTF          True          False   \n",
       "1               5     TTFTF          True           True   \n",
       "9               5     TFFTF          True          False   \n",
       "17              5     FTFTF         False           True   \n",
       "...           ...       ...           ...            ...   \n",
       "2715            0     FFFFF         False          False   \n",
       "2716            0     FFTTT         False          False   \n",
       "2717            0     FFTTF         False          False   \n",
       "2718            0     FFTFT         False          False   \n",
       "2719            0     FFTFF         False          False   \n",
       "\n",
       "     consider_note_duration  consider_offset_notes  consider_repetition  \n",
       "1473                  False                   True                False  \n",
       "1481                  False                   True                False  \n",
       "1                     False                   True                False  \n",
       "9                     False                   True                False  \n",
       "17                    False                   True                False  \n",
       "...                     ...                    ...                  ...  \n",
       "2715                  False                  False                False  \n",
       "2716                   True                   True                 True  \n",
       "2717                   True                   True                False  \n",
       "2718                   True                  False                 True  \n",
       "2719                   True                  False                False  \n",
       "\n",
       "[2720 rows x 11 columns]"
      ]
     },
     "execution_count": 63,
     "metadata": {},
     "output_type": "execute_result"
    }
   ],
   "source": [
    "parameters = [wid1.value, wid2.value, wid3.value, wid4.value, wid5.value]\n",
    "df_whole = LCCNOS_analysis(df, df_input_note, input_note_idx, target_note_idx, wid6.value, parameters) \n",
    "df_whole = df_whole.sort_values(['length_LCS', 'size_LCCNOS'], ascending=[False, False])\n",
    "df_whole"
   ]
  },
  {
   "cell_type": "code",
   "execution_count": 64,
   "id": "60687a9c",
   "metadata": {},
   "outputs": [
    {
     "data": {
      "text/plain": [
       "[(575,\n",
       "  380,\n",
       "  ('83', '84', '86', '88', '84', '83', '84', '81', '84', '83', '84'),\n",
       "  ('83', '84', '86', '88', '84', '83', '84', '81', '84', '83', '84'),\n",
       "  [632, 633, 634, 635, 637, 638, 640, 641, 644, 645, 646],\n",
       "  [385, 386, 387, 388, 389, 390, 391, 392, 393, 394, 395])]"
      ]
     },
     "execution_count": 64,
     "metadata": {},
     "output_type": "execute_result"
    }
   ],
   "source": [
    "df_whole['LCS'].iloc[0]"
   ]
  },
  {
   "cell_type": "markdown",
   "id": "82869fdd",
   "metadata": {},
   "source": [
    "## 4 Visualization"
   ]
  },
  {
   "cell_type": "markdown",
   "id": "9e3ec105",
   "metadata": {},
   "source": [
    "### Algorithms for visualizing subs"
   ]
  },
  {
   "cell_type": "code",
   "execution_count": 65,
   "id": "f90e760b",
   "metadata": {},
   "outputs": [],
   "source": [
    "import matplotlib.pyplot as plt\n",
    "%matplotlib inline\n",
    "\n",
    "def check_int (sub1, sub2):\n",
    "    if isinstance(sub1, int) and isinstance(sub2, int):\n",
    "        return sub1, sub2\n",
    "    else:\n",
    "        if isinstance(sub1, tuple) and isinstance(sub2, tuple):\n",
    "            return sub1[0], sub2[0]\n",
    "        else:\n",
    "            if isinstance(sub1, tuple):\n",
    "                return sub1[0], sub2\n",
    "            else:\n",
    "                return sub1, sub2[0]\n",
    "            \n",
    "            \n",
    "\n",
    "def visualize_subs(name1, name2, part_id_1, part_id_2, seq1, seq2):\n",
    "    \n",
    "    #if it's a Bach corpus note or note from local directory\n",
    "    if 'bwv' in name1:\n",
    "        s1 = corpus.parse('bach/'+name1)\n",
    "    else:\n",
    "        s1 = converter.parse(name1)\n",
    "        \n",
    "    if 'bwv' in name2:\n",
    "        s2 = corpus.parse('bach/'+name2)\n",
    "    else:\n",
    "        s2 = converter.parse(name2)\n",
    "    \n",
    "    k_old, k_new, sNew1 = key_change_to_base(s1)\n",
    "    partStream1 = sNew1.parts.stream()\n",
    "    k_old, k_new, sNew2 = key_change_to_base(s2)\n",
    "    partStream2 = sNew2.parts.stream()\n",
    "      \n",
    "    print(seq1)\n",
    "    print(seq2)\n",
    "    print('-----')\n",
    "    print('Length of the similar note sequence is: ' + str(len(seq1)))\n",
    "    \n",
    "    measure_start_1, measure_end_1 = check_int(seq1[0][0],seq1[-1][0])\n",
    "    measure_start_2, measure_end_2 = check_int(seq2[0][0],seq2[-1][0])\n",
    "    \n",
    "\n",
    "    sNew1.parts[int(part_id_1)-1].measures(measure_start_1, measure_end_1).show()\n",
    "    sNew2.parts[int(part_id_2)-1].measures(measure_start_2, measure_end_2).show()\n",
    "    \n",
    "    sNew1.parts[int(part_id_1)-1].measures(measure_start_1, measure_end_1).show('midi')\n",
    "    sNew2.parts[int(part_id_2)-1].measures(measure_start_2, measure_end_2).show('midi')\n",
    "    \n",
    "    \n",
    "    return sNew1.parts[int(part_id_1)-1].measures(measure_start_1, measure_end_1).plot().run(), sNew2.parts[int(part_id_2)-1].measures(measure_start_2, measure_end_2).plot().run()"
   ]
  },
  {
   "cell_type": "markdown",
   "id": "31595842",
   "metadata": {},
   "source": [
    "## References back to original notes "
   ]
  },
  {
   "cell_type": "code",
   "execution_count": 66,
   "id": "bb01e056",
   "metadata": {},
   "outputs": [],
   "source": [
    "def separate_note_names(notes):\n",
    "    \n",
    "    splitted_note_names = notes.split()\n",
    "   \n",
    "    note1 = splitted_note_names[0]\n",
    "    note2 = splitted_note_names[2]\n",
    "\n",
    "    return note1, note2\n",
    "\n",
    "def get_actual_notes(notes, idxs):\n",
    "    \n",
    "    actual_notes = []\n",
    "    for i in idxs:\n",
    "        actual_notes.append(notes[i])\n",
    "    \n",
    "    return actual_notes\n",
    "\n",
    "def get_whole_actual_seq(notes, idxs):\n",
    "    \n",
    "    actual_seq = []\n",
    "    \n",
    "    start_id = idxs[0]\n",
    "    end_id = idxs[-1]\n",
    "    \n",
    "    while start_id != end_id:\n",
    "        actual_seq.append(notes[start_id])\n",
    "        start_id= start_id +1 \n",
    "      \n",
    "    return actual_seq\n",
    "        \n",
    "def get_notes(notes, lcs, df_base, df_target):\n",
    "    \n",
    "    note1, note2 = separate_note_names(notes)\n",
    "    part_a_measures = df_target.loc[df_target['note_part_id'] == note1]['measures'].values[0]\n",
    "    part_b_measures = df_base.loc[df_base['note_part_id'] == note2]['measures'].values[0]\n",
    "    \n",
    "   \n",
    "    part_a_notes_idxs  = lcs[0][4]\n",
    "    part_b_notes_idxs  = lcs[0][5]\n",
    "    \n",
    "  \n",
    "    \n",
    "    #Notes without indexes\n",
    "    part_a_actual_notes = get_actual_notes(part_a_measures,part_a_notes_idxs)\n",
    "    part_b_actual_notes = get_actual_notes(part_b_measures,part_b_notes_idxs)\n",
    "    \n",
    "    \n",
    "        \n",
    "    part_a_actual_seq = get_whole_actual_seq(part_a_measures,part_a_notes_idxs)\n",
    "    part_b_actual_seq = get_whole_actual_seq(part_b_measures,part_b_notes_idxs)\n",
    " \n",
    "    if df_base['sheet_path'].values[0] == 'corpus':\n",
    "        \n",
    "        n1_name = df_target.loc[df_target['note_part_id'] == note1]['sheet_name'].values[0]\n",
    "        n2_name = df_base.loc[df_base['note_part_id'] == note2]['sheet_name'].values[0]\n",
    "        \n",
    "    else:\n",
    "        \n",
    "        n1_name = df_target.loc[df_target['note_part_id'] == note1]['sheet_path'].values[0]\n",
    "        n2_name = df_base.loc[df_base['note_part_id'] == note2]['sheet_path'].values[0]\n",
    "\n",
    "    splitted_note_names = notes.split()\n",
    "    \n",
    "    part_id_1 = splitted_note_names[0].split('_')[-1]\n",
    "    part_id_2 = splitted_note_names[2].split('_')[-1]\n",
    "        \n",
    "    visualize_subs(n1_name, n2_name, part_id_1, part_id_2, part_a_actual_notes, part_b_actual_notes)"
   ]
  },
  {
   "cell_type": "markdown",
   "id": "cb5a3d5d",
   "metadata": {},
   "source": [
    "## Visualizing all the longest repeating non-overlapping unique subsequences "
   ]
  },
  {
   "cell_type": "code",
   "execution_count": 67,
   "id": "1da65cdb",
   "metadata": {},
   "outputs": [
    {
     "name": "stdout",
     "output_type": "stream",
     "text": [
      "[(66, '84', 0.25, 0.5), (66, '83', 0.25, 1.5), (66, '81', 0.25, 1.75), (66, '83', 0.5, 2.5), (66, '84', 0.5, 3.0), (66, '86', 0.25, 3.5), (66, '88', 0.25, 3.75)]\n",
      "[(21, '84', 0.25, 0.0), (21, '83', 0.25, 0.25), (21, '81', 0.25, 0.5), (21, '83', 0.25, 0.75), (21, '84', 0.25, 1.0), (21, '86', 0.25, 1.25), (21, '88', 0.25, 1.5)]\n",
      "-----\n",
      "Length of the similar note sequence is: 7\n"
     ]
    },
    {
     "data": {
      "image/png": "[encoded data removed]",
      "text/plain": [
       "<IPython.core.display.Image object>"
      ]
     },
     "metadata": {
      "image/png": {
       "height": 156,
       "width": 708
      }
     },
     "output_type": "display_data"
    },
    {
     "data": {
      "image/png": "[encoded data removed]",
      "text/plain": [
       "<IPython.core.display.Image object>"
      ]
     },
     "metadata": {
      "image/png": {
       "height": 158,
       "width": 674
      }
     },
     "output_type": "display_data"
    },
    {
     "data": {
      "text/html": [
       "\n",
       "                <div id='midiPlayerDiv719257'></div>\n",
       "                <link rel=\"stylesheet\" href=\"//cuthbertLab.github.io/music21j/css/m21.css\"\n",
       "                    type=\"text/css\" />\n",
       "                <script>\n",
       "                require.config({\n",
       "                    paths: {'music21': '//cuthbertLab.github.io/music21j/src/music21'}\n",
       "                });\n",
       "                require(['music21'], function() {\n",
       "                               mp = new music21.miditools.MidiPlayer();\n",
       "                               mp.addPlayer('#midiPlayerDiv719257');\n",
       "                               mp.base64Load('data:audio/midi;base64,TVRoZAAAAAYAAQACBABNVHJrAAAAGgD/WQIAAAD/WAQEAhgIAP9RAwehIIgA/y8ATVRyawAAAGoA/wMFUGlhbm8AwAAA4ABAAMAAiACQWFqEAIBYAACQVFqCAIBUAACQVFqGAIBUAACQU1qCAIBTAACQUVqGAIBRAACQU1qEAIBTAACQVFqEAIBUAACQVlqCAIBWAACQWFqCAIBYAIgA/y8A');\n",
       "                        });\n",
       "                </script>"
      ],
      "text/plain": [
       "<IPython.core.display.HTML object>"
      ]
     },
     "metadata": {},
     "output_type": "display_data"
    },
    {
     "data": {
      "text/html": [
       "\n",
       "                <div id='midiPlayerDiv719422'></div>\n",
       "                <link rel=\"stylesheet\" href=\"//cuthbertLab.github.io/music21j/css/m21.css\"\n",
       "                    type=\"text/css\" />\n",
       "                <script>\n",
       "                require.config({\n",
       "                    paths: {'music21': '//cuthbertLab.github.io/music21j/src/music21'}\n",
       "                });\n",
       "                require(['music21'], function() {\n",
       "                               mp = new music21.miditools.MidiPlayer();\n",
       "                               mp.addPlayer('#midiPlayerDiv719422');\n",
       "                               mp.base64Load('data:audio/midi;base64,TVRoZAAAAAYAAQACBABNVHJrAAAAGgD/WQIAAAD/WAQEAhgIAP9RAwehIIgA/y8ATVRyawAAAJQA/wMFUGlhbm8AwAAA4ABAAMAAiACQVFqCAIBUAACQU1qCAIBTAACQUVqCAIBRAACQU1qCAIBTAACQVFqCAIBUAACQVlqCAIBWAACQWFqCAIBYAACQTFqCAIBMAACQTVqEAIBNAACQWFqEAIBYAACQVlqGAIBWAACQVFpVgFQAAJBWWlWAVgABkFRaVYBUAIgA/y8A');\n",
       "                        });\n",
       "                </script>"
      ],
      "text/plain": [
       "<IPython.core.display.HTML object>"
      ]
     },
     "metadata": {},
     "output_type": "display_data"
    },
    {
     "data": {
      "image/png": "[encoded data removed]",
      "text/plain": [
       "<Figure size 720x432 with 1 Axes>"
      ]
     },
     "metadata": {
      "image/png": {
       "height": 382,
       "width": 584
      }
     },
     "output_type": "display_data"
    },
    {
     "data": {
      "image/png": "[encoded data removed]",
      "text/plain": [
       "<Figure size 720x432 with 1 Axes>"
      ]
     },
     "metadata": {
      "image/png": {
       "height": 382,
       "width": 584
      }
     },
     "output_type": "display_data"
    }
   ],
   "source": [
    "df_idx = 0 # Change this value here\n",
    "\n",
    "if df_whole['LCCNOS'].iloc[df_idx] != 0:\n",
    "    get_notes(df_whole['note_part_ids'].iloc[df_idx], df_whole['LCCNOS'].iloc[df_idx], df, df_input_note)\n",
    "else:\n",
    "    print(\"Value is empty.\")\n",
    "    "
   ]
  },
  {
   "cell_type": "markdown",
   "id": "22aa48b2",
   "metadata": {},
   "source": [
    "## Visualizing best match of longest common subsequence\n",
    "\n",
    "#### Change the df_idx number if you want to visualize a specific result"
   ]
  },
  {
   "cell_type": "code",
   "execution_count": 68,
   "id": "b55eccc2",
   "metadata": {},
   "outputs": [
    {
     "name": "stdout",
     "output_type": "stream",
     "text": [
      "[(66, '83', 0.5, 2.5), (66, '84', 0.5, 3.0), (66, '86', 0.25, 3.5), (66, '88', 0.25, 3.75), (67, '84', 1.0, 1.0), (67, '83', 1.0, 2.0), (67, '84', 0.25, 3.5), (67, '81', 0.25, 3.75), (68, '84', 0.5, 1.5), (68, '83', 0.5, 2.0), (68, '84', 0.5, 2.5)]\n",
      "[(28, '83', 0.5, 2.5), (28, '84', 0.5, 3.0), (28, '86', 0.5, 3.5), (29, '88', 0.25, 0.0), (29, '84', 0.25, 0.25), (29, '83', 0.25, 0.5), (29, '84', 0.25, 0.75), (29, '81', 0.25, 1.0), (29, '84', 0.25, 1.25), (29, '83', 0.25, 1.5), (29, '84', 0.25, 1.75)]\n",
      "-----\n",
      "Length of the similar note sequence is: 11\n"
     ]
    },
    {
     "data": {
      "image/png": "[encoded data removed]",
      "text/plain": [
       "<IPython.core.display.Image object>"
      ]
     },
     "metadata": {
      "image/png": {
       "height": 287,
       "width": 708
      }
     },
     "output_type": "display_data"
    },
    {
     "data": {
      "image/png": "[encoded data removed]",
      "text/plain": [
       "<IPython.core.display.Image object>"
      ]
     },
     "metadata": {
      "image/png": {
       "height": 156,
       "width": 674
      }
     },
     "output_type": "display_data"
    },
    {
     "data": {
      "text/html": [
       "\n",
       "                <div id='midiPlayerDiv752362'></div>\n",
       "                <link rel=\"stylesheet\" href=\"//cuthbertLab.github.io/music21j/css/m21.css\"\n",
       "                    type=\"text/css\" />\n",
       "                <script>\n",
       "                require.config({\n",
       "                    paths: {'music21': '//cuthbertLab.github.io/music21j/src/music21'}\n",
       "                });\n",
       "                require(['music21'], function() {\n",
       "                               mp = new music21.miditools.MidiPlayer();\n",
       "                               mp.addPlayer('#midiPlayerDiv752362');\n",
       "                               mp.base64Load('data:audio/midi;base64,TVRoZAAAAAYAAQACBABNVHJrAAAAGgD/WQIAAAD/WAQEAhgIAP9RAwehIIgA/y8ATVRyawAAAMUA/wMFUGlhbm8AwAAA4ABAAMAAiACQWFqEAIBYAACQVFqCAIBUAACQVFqGAIBUAACQU1qCAIBTAACQUVqGAIBRAACQU1qEAIBTAACQVFqEAIBUAACQVlqCAIBWAACQWFqKAIBYAACQVFqIAIBUAACQU1qMAIBTAACQVFqCAIBUAACQUVqKAIBRAIQAkFRahACAVAAAkFNahACAUwAAkFRahACAVAAAkFNahACAUwAAkFRaggCAVAAAkFFaggCAUQCIAP8vAA==');\n",
       "                        });\n",
       "                </script>"
      ],
      "text/plain": [
       "<IPython.core.display.HTML object>"
      ]
     },
     "metadata": {},
     "output_type": "display_data"
    },
    {
     "data": {
      "text/html": [
       "\n",
       "                <div id='midiPlayerDiv752632'></div>\n",
       "                <link rel=\"stylesheet\" href=\"//cuthbertLab.github.io/music21j/css/m21.css\"\n",
       "                    type=\"text/css\" />\n",
       "                <script>\n",
       "                require.config({\n",
       "                    paths: {'music21': '//cuthbertLab.github.io/music21j/src/music21'}\n",
       "                });\n",
       "                require(['music21'], function() {\n",
       "                               mp = new music21.miditools.MidiPlayer();\n",
       "                               mp.addPlayer('#midiPlayerDiv752632');\n",
       "                               mp.base64Load('data:audio/midi;base64,TVRoZAAAAAYAAQACBABNVHJrAAAAGwD/WQIAAAD/WAQEAhgIkAD/UQMLcbCIAP8vAE1UcmsAAADxAP8DBVBpYW5vAMAAAOAAQADAAIgAkFBahgCAUAAAkFBaggCAUAAAkFFahACAUQAAkFNahACAUwAAkFRahACAVAAAkFNahACAUwAAkFRahACAVAAAkFZahACAVgAAkFhaggCAWAAAkFRaggCAVAAAkFNaggCAUwAAkFRaggCAVAAAkFFaggCAUQAAkFRaggCAVAAAkFNaggCAUwAAkFRaggCAVAAAkFhaggCAWAAAkFRaggCAVAAAkFNaggCAUwAAkFRaggCAVAAAkFFaggCAUQAAkFRaggCAVAAAkFNaggCAUwAAkFRaggCAVACIAP8vAA==');\n",
       "                        });\n",
       "                </script>"
      ],
      "text/plain": [
       "<IPython.core.display.HTML object>"
      ]
     },
     "metadata": {},
     "output_type": "display_data"
    },
    {
     "data": {
      "image/png": "[encoded data removed]",
      "text/plain": [
       "<Figure size 720x432 with 1 Axes>"
      ]
     },
     "metadata": {
      "image/png": {
       "height": 382,
       "width": 584
      }
     },
     "output_type": "display_data"
    },
    {
     "data": {
      "image/png": "[encoded data removed]",
      "text/plain": [
       "<Figure size 720x432 with 1 Axes>"
      ]
     },
     "metadata": {
      "image/png": {
       "height": 382,
       "width": 588
      }
     },
     "output_type": "display_data"
    }
   ],
   "source": [
    "df_idx = 0 # Change this value here\n",
    "\n",
    "get_notes(df_whole['note_part_ids'].iloc[df_idx], df_whole['LCS'].iloc[df_idx], df, df_input_note)"
   ]
  },
  {
   "cell_type": "markdown",
   "id": "4e252f4b",
   "metadata": {},
   "source": [
    "### Add results to Excel file for further analysis"
   ]
  },
  {
   "cell_type": "code",
   "execution_count": null,
   "id": "d3acab60",
   "metadata": {},
   "outputs": [],
   "source": [
    "df_whole.to_csv('whole_notes.csv')"
   ]
  },
  {
   "cell_type": "markdown",
   "id": "04aedf9a",
   "metadata": {},
   "source": [
    "****"
   ]
  },
  {
   "cell_type": "markdown",
   "id": "94800bc9",
   "metadata": {},
   "source": [
    "# End of notebook"
   ]
  },
  {
   "cell_type": "markdown",
   "id": "4c2c1f00",
   "metadata": {},
   "source": [
    "***"
   ]
  },
  {
   "cell_type": "markdown",
   "id": "8b8d8029",
   "metadata": {},
   "source": [
    "## Checking differences between key transposing and interval analysis"
   ]
  },
  {
   "cell_type": "code",
   "execution_count": null,
   "id": "6f47a5ed",
   "metadata": {},
   "outputs": [],
   "source": [
    "def check_semitones(st_inter, intervals):\n",
    "    if st_inter > 12:\n",
    "        st_inter = st_inter % 12  \n",
    "    elif st_inter < -12:\n",
    "        st_inter = st_inter % -12\n",
    "    intervals.append(st_inter)\n",
    "    \n",
    "def find_intervals(allInfo):\n",
    "    intervals= []\n",
    "    i=1 \n",
    "    while i != len(allInfo) and len(allInfo) != 0 and len(allInfo) != 1:\n",
    "       \n",
    "        inter = interval.Interval(noteStart=allInfo[i-1], noteEnd=allInfo[i]).semitones\n",
    "        check_semitones(inter,intervals)\n",
    "            \n",
    "        i+=1\n",
    "    return intervals\n",
    "\n",
    "def convert_to_interval(lst):\n",
    "    n = ([(k, lst[k]) for k in lst])\n",
    "    lst_1 = remove_rests(n)\n",
    "    part_notes = []\n",
    "    intervals = []\n",
    "    \n",
    "    \n",
    "    for elem in lst_1:\n",
    "        \n",
    "        if isinstance(elem[1], list):\n",
    "            continue\n",
    "        elif 'rest' in elem[1][1]:\n",
    "            continue\n",
    "        else:\n",
    "            n_int = int(elem[1][1])\n",
    "        n = note.Note(n_int).nameWithOctave\n",
    "        new_n = note.Note(n)\n",
    "        part_notes.append(new_n)\n",
    "    \n",
    "    new_lst = find_intervals(part_notes)\n",
    "    \n",
    "    #print(new_lst)\n",
    "    return new_lst\n",
    "    \n"
   ]
  },
  {
   "cell_type": "code",
   "execution_count": null,
   "id": "6b3e2529",
   "metadata": {},
   "outputs": [],
   "source": [
    "c5 = converter.parse(r'C:\\Users\\Lleis\\Documents\\SCHOOL\\digimagister\\digital_sheet_music_analysis\\notes\\Canon_in_D.mxl')\n",
    "partStream2 = c5.parts.stream()\n",
    "note_info2= gather_part_info(partStream2, 'int', 'test', 2)\n",
    "\n",
    "#Add first note to the dataframe to create it\n",
    "df_test = pd.DataFrame(note_info2)\n",
    "\n",
    "print(c5.analyze('key'))\n",
    "c5New = key_change_to_base(c5)\n",
    "\n",
    "print(c5New.analyze('key'))\n",
    "partStream3 = c5New.parts.stream()\n",
    "idx = df_test['note_id'].iloc[-1]\n",
    "\n",
    "note_info3= gather_part_info(partStream3, 'int_changed', 'test', idx+1)\n",
    "df_new = pd.DataFrame(note_info3)\n",
    "\n",
    "df_test= df_test.append(df_new, ignore_index = True)\n",
    "\n",
    "df_test"
   ]
  },
  {
   "cell_type": "code",
   "execution_count": null,
   "id": "7a400b8c",
   "metadata": {},
   "outputs": [],
   "source": [
    "df_test"
   ]
  },
  {
   "cell_type": "code",
   "execution_count": null,
   "id": "d9dc62b5",
   "metadata": {},
   "outputs": [],
   "source": [
    "converted_1 = convert_to_interval(df_test['measures'][0])\n",
    "converted_2 = convert_to_interval(df_test['measures'][2])\n",
    "print(converted_1==converted_2)"
   ]
  }
 ],
 "metadata": {
  "kernelspec": {
   "display_name": "Python 3 (ipykernel)",
   "language": "python",
   "name": "python3"
  },
  "language_info": {
   "codemirror_mode": {
    "name": "ipython",
    "version": 3
   },
   "file_extension": ".py",
   "mimetype": "text/x-python",
   "name": "python",
   "nbconvert_exporter": "python",
   "pygments_lexer": "ipython3",
   "version": "3.9.6"
  }
 },
 "nbformat": 4,
 "nbformat_minor": 5
}
