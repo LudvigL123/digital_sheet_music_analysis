{
 "cells": [
  {
   "cell_type": "markdown",
   "id": "3bc4f07f",
   "metadata": {},
   "source": [
    "# Identification and visualization of similar sequences in digital sheet music - Bach corpus"
   ]
  },
  {
   "cell_type": "markdown",
   "id": "f73e6e0a",
   "metadata": {},
   "source": [
    "## 1 Setting environments and importing necessary packages (tested only on Windows)"
   ]
  },
  {
   "cell_type": "markdown",
   "id": "17c7f008",
   "metadata": {},
   "source": [
    "###  <font color='blue'> Install MuseScore 3 is necessary for visualization purposes </font>\n",
    "\n",
    "#### <font color='red'> Download link: https://musescore.org/en/download </font>"
   ]
  },
  {
   "cell_type": "code",
   "execution_count": 1,
   "id": "2836ff7e",
   "metadata": {},
   "outputs": [
    {
     "name": "stdout",
     "output_type": "stream",
     "text": [
      "Requirement already satisfied: matplotlib==3.4.3 in c:\\users\\lleis\\appdata\\local\\programs\\python\\python39\\lib\\site-packages (from -r requirements.txt (line 1)) (3.4.3)\n",
      "Requirement already satisfied: music21==7.1.0 in c:\\users\\lleis\\appdata\\local\\programs\\python\\python39\\lib\\site-packages (from -r requirements.txt (line 2)) (7.1.0)\n",
      "Requirement already satisfied: numpy==1.19.5 in c:\\users\\lleis\\appdata\\local\\programs\\python\\python39\\lib\\site-packages (from -r requirements.txt (line 3)) (1.19.5)\n",
      "Requirement already satisfied: kiwisolver>=1.0.1 in c:\\users\\lleis\\appdata\\local\\programs\\python\\python39\\lib\\site-packages (from matplotlib==3.4.3->-r requirements.txt (line 1)) (1.3.2)\n",
      "Requirement already satisfied: pyparsing>=2.2.1 in c:\\users\\lleis\\appdata\\local\\programs\\python\\python39\\lib\\site-packages (from matplotlib==3.4.3->-r requirements.txt (line 1)) (2.4.7)\n",
      "Requirement already satisfied: cycler>=0.10 in c:\\users\\lleis\\appdata\\local\\programs\\python\\python39\\lib\\site-packages (from matplotlib==3.4.3->-r requirements.txt (line 1)) (0.10.0)\n",
      "Requirement already satisfied: python-dateutil>=2.7 in c:\\users\\lleis\\appdata\\local\\programs\\python\\python39\\lib\\site-packages (from matplotlib==3.4.3->-r requirements.txt (line 1)) (2.8.2)\n",
      "Requirement already satisfied: pillow>=6.2.0 in c:\\users\\lleis\\appdata\\local\\programs\\python\\python39\\lib\\site-packages (from matplotlib==3.4.3->-r requirements.txt (line 1)) (8.3.2)\n",
      "Requirement already satisfied: chardet in c:\\users\\lleis\\appdata\\local\\programs\\python\\python39\\lib\\site-packages (from music21==7.1.0->-r requirements.txt (line 2)) (4.0.0)\n",
      "Requirement already satisfied: joblib in c:\\users\\lleis\\appdata\\local\\programs\\python\\python39\\lib\\site-packages (from music21==7.1.0->-r requirements.txt (line 2)) (1.0.1)\n",
      "Requirement already satisfied: jsonpickle in c:\\users\\lleis\\appdata\\local\\programs\\python\\python39\\lib\\site-packages (from music21==7.1.0->-r requirements.txt (line 2)) (2.0.0)\n",
      "Requirement already satisfied: more_itertools in c:\\users\\lleis\\appdata\\local\\programs\\python\\python39\\lib\\site-packages (from music21==7.1.0->-r requirements.txt (line 2)) (8.10.0)\n",
      "Requirement already satisfied: webcolors>=1.5 in c:\\users\\lleis\\appdata\\local\\programs\\python\\python39\\lib\\site-packages (from music21==7.1.0->-r requirements.txt (line 2)) (1.11.1)\n",
      "Requirement already satisfied: six in c:\\users\\lleis\\appdata\\local\\programs\\python\\python39\\lib\\site-packages (from cycler>=0.10->matplotlib==3.4.3->-r requirements.txt (line 1)) (1.15.0)\n"
     ]
    }
   ],
   "source": [
    " !pip install -r requirements.txt"
   ]
  },
  {
   "cell_type": "code",
   "execution_count": 1,
   "id": "cb1e2d24",
   "metadata": {},
   "outputs": [
    {
     "data": {
      "text/plain": [
       "WindowsPath('C:/Program Files/MuseScore 3/bin/MuseScore3.exe')"
      ]
     },
     "execution_count": 1,
     "metadata": {},
     "output_type": "execute_result"
    }
   ],
   "source": [
    "import re\n",
    "import math\n",
    "import ast \n",
    "import numpy as np\n",
    "from itertools import chain\n",
    "from collections import Counter\n",
    "import nltk\n",
    "from nltk.util import ngrams \n",
    "from music21 import *\n",
    "from pathlib import Path \n",
    "import pandas as pd\n",
    "import os \n",
    "from os import listdir\n",
    "from os.path import isfile, join\n",
    "from itertools import groupby\n",
    "import glob\n",
    "from difflib import SequenceMatcher\n",
    "from timeit import default_timer as timer\n",
    "from datetime import timedelta\n",
    "from IPython.display import display, Markdown, clear_output\n",
    "\n",
    "# widget and UX packages\n",
    "from ipywidgets import widgets, interact\n",
    "from tqdm.notebook import trange, tqdm\n",
    "from tkinter import Tk, filedialog\n",
    "\n",
    "\n",
    "us = environment.UserSettings()\n",
    "\n",
    "#Only for Windows - install and add your path of MuseScore3 here\n",
    "us['musicxmlPath'] = 'C:\\\\Program Files\\\\MuseScore 3\\\\bin\\\\MuseScore3.exe'\n",
    "us['musescoreDirectPNGPath'] = 'C:\\\\Program Files\\\\MuseScore 3\\\\bin\\\\MuseScore3.exe'\n",
    "us['musicxmlPath']\n",
    "\n",
    "#For Linux users\n",
    "#us = environment.UserSettings()\n",
    "#us['musescoreDirectPNGPath'] = '/usr/bin/musescore3'\n",
    "#us['directoryScratch'] = '/tmp'\n",
    "#us['musicxmlPath'] ='/usr/bin/musescore3'"
   ]
  },
  {
   "cell_type": "markdown",
   "id": "3f32fe81",
   "metadata": {},
   "source": [
    "## 2 Algorithms for extracting information from digital sheet note"
   ]
  },
  {
   "cell_type": "markdown",
   "id": "6385c8ca",
   "metadata": {},
   "source": [
    "### Function to convert fraction objects to floats"
   ]
  },
  {
   "cell_type": "code",
   "execution_count": 2,
   "id": "7d72665d",
   "metadata": {},
   "outputs": [],
   "source": [
    "def convert_to_float(frac_str):\n",
    "    try:\n",
    "        return float(frac_str)\n",
    "    except ValueError:\n",
    "        num, denom = frac_str.split('/')\n",
    "        try:\n",
    "            leading, num = num.split(' ')\n",
    "            whole = float(leading)\n",
    "        except ValueError:\n",
    "            whole = 0\n",
    "        frac = float(num) / float(denom)\n",
    "        decimal = whole - frac if whole < 0 else whole + frac\n",
    "        return round(decimal,3)"
   ]
  },
  {
   "cell_type": "markdown",
   "id": "7a283308",
   "metadata": {},
   "source": [
    "### Extracts measure information from sheet parts"
   ]
  },
  {
   "cell_type": "code",
   "execution_count": 3,
   "id": "9e8389b0",
   "metadata": {},
   "outputs": [],
   "source": [
    "def get_measure_and_notes(part):\n",
    "    measures = []\n",
    "    detailed_seq = [] #Whole note part sequence without meassure markings\n",
    "    for e in part.getElementsByClass('Measure'):\n",
    "        newMeasure = {}        \n",
    "        newMeasure[e.number] = list(e.notesAndRests.elements)\n",
    "        \n",
    "        for elem in newMeasure[e.number]:\n",
    "            off_s = elem.offset\n",
    "            if elem.isNote:\n",
    "                \n",
    "                if not isinstance(elem.duration.quarterLength, float) or not isinstance(off_s, float):\n",
    "                    \n",
    "                    decimal_lenght = convert_to_float(str(elem.duration.quarterLength))\n",
    "                    off_s = convert_to_float(str(off_s))\n",
    "                    detailed_seq.append((e.number, str(elem.pitch.midi), decimal_lenght, off_s))\n",
    "                   \n",
    "                else:\n",
    "                    \n",
    "                    detailed_seq.append((e.number, str(elem.pitch.midi), elem.duration.quarterLength, off_s))\n",
    "                \n",
    "            elif elem.isChord and '<music21.harmony.ChordSymbol' not in str(elem):\n",
    "                notes = []\n",
    "                \n",
    "                for c in elem.notes:\n",
    "                    if not isinstance(c.duration.quarterLength, float) or not isinstance(off_s, float):\n",
    "                        decimal_lenght = convert_to_float(str(c.duration.quarterLength))\n",
    "                        off_s = convert_to_float(str(off_s))\n",
    "                        notes.append((e.number, str(c.pitch.midi),decimal_lenght, off_s))\n",
    "                    else:\n",
    "                        notes.append((e.number, str(c.pitch.midi), c.duration.quarterLength, off_s))\n",
    "                        \n",
    "                detailed_seq.append(notes)\n",
    "            elif elem.isRest:\n",
    "                detailed_seq.append((e.number, str(elem.name) + '_'+ str(elem.duration.quarterLength)))\n",
    "        \n",
    "        measures.append(newMeasure)\n",
    "\n",
    "    \n",
    "    dic = {}\n",
    "    \n",
    "    for i in range(len(detailed_seq)):\n",
    "        if len(detailed_seq[i]) != 0:\n",
    "            dic[i] = detailed_seq[i]\n",
    "    return dic\n"
   ]
  },
  {
   "cell_type": "markdown",
   "id": "925b36ca",
   "metadata": {},
   "source": [
    "### Sheet note information is extracted to datatable"
   ]
  },
  {
   "cell_type": "code",
   "execution_count": 4,
   "id": "49d81e00",
   "metadata": {},
   "outputs": [],
   "source": [
    "def gather_part_info(note, noteName, sheet_path, note_id, k_old, k_new):\n",
    "    allNote = [] #Every part of the instrument is collected here\n",
    "    part_count = 1\n",
    "    for el in note.elements: #Every part is a separately analyzed -> el = PartStaff\n",
    "        #Basic info\n",
    "        partList = {}\n",
    "        partList['note_id'] = note_id\n",
    "        partList['note_part_id'] = str(note_id) + \"_\" + str(part_count)\n",
    "        partList['sheet_name'] = noteName\n",
    "        partList['sheet_path'] = sheet_path\n",
    "        partList['partName'] = el.partName \n",
    "        partList['original_key'] = k_old \n",
    "        \n",
    "        part_count +=1\n",
    " \n",
    "        partList['transposed_key'] = k_new\n",
    "            \n",
    "        #Find the measures and their content\n",
    "        partList['measures'] = get_measure_and_notes(el)\n",
    "        \n",
    "        allNote.append(partList)\n",
    "    \n",
    "    return allNote"
   ]
  },
  {
   "cell_type": "markdown",
   "id": "e85d687d",
   "metadata": {},
   "source": [
    "### Key change algoritm (to base key - C major or a minor)"
   ]
  },
  {
   "cell_type": "code",
   "execution_count": 5,
   "id": "f1a41c77",
   "metadata": {},
   "outputs": [],
   "source": [
    "#Change all keys to either a-minor or C-major\n",
    "def key_change_to_base(note): \n",
    "    \n",
    "    k = note.analyze('key')\n",
    "    if str(k) == \"C major\" or str(k) == \"a minor\":\n",
    "        \n",
    "        return k, k, note\n",
    "\n",
    "    if 'major' in str(k):\n",
    "        i = interval.Interval(k.tonic, pitch.Pitch('c5'))\n",
    "    else:\n",
    "        i = interval.Interval(k.tonic, pitch.Pitch('a4'))\n",
    "    sNew = note.transpose(i)\n",
    "    kNew = sNew.analyze('key')\n",
    "        \n",
    "    return k, kNew, sNew"
   ]
  },
  {
   "cell_type": "markdown",
   "id": "77eafe88",
   "metadata": {},
   "source": [
    "## 3 Importing sheet notes to dataframe"
   ]
  },
  {
   "cell_type": "markdown",
   "id": "4555f86f",
   "metadata": {},
   "source": [
    "## Bach's corpus analysis \n",
    "#### (last index is 412, after that are .krn files which are not included)"
   ]
  },
  {
   "cell_type": "code",
   "execution_count": 7,
   "id": "316312cb",
   "metadata": {
    "scrolled": true
   },
   "outputs": [
    {
     "data": {
      "text/html": [
       "<div>\n",
       "<style scoped>\n",
       "    .dataframe tbody tr th:only-of-type {\n",
       "        vertical-align: middle;\n",
       "    }\n",
       "\n",
       "    .dataframe tbody tr th {\n",
       "        vertical-align: top;\n",
       "    }\n",
       "\n",
       "    .dataframe thead th {\n",
       "        text-align: right;\n",
       "    }\n",
       "</style>\n",
       "<table border=\"1\" class=\"dataframe\">\n",
       "  <thead>\n",
       "    <tr style=\"text-align: right;\">\n",
       "      <th></th>\n",
       "      <th>note_id</th>\n",
       "      <th>note_part_id</th>\n",
       "      <th>sheet_name</th>\n",
       "      <th>sheet_path</th>\n",
       "      <th>partName</th>\n",
       "      <th>original_key</th>\n",
       "      <th>transposed_key</th>\n",
       "      <th>measures</th>\n",
       "    </tr>\n",
       "  </thead>\n",
       "  <tbody>\n",
       "    <tr>\n",
       "      <th>0</th>\n",
       "      <td>1</td>\n",
       "      <td>1_1</td>\n",
       "      <td>bwv1.6.mxl</td>\n",
       "      <td>corpus</td>\n",
       "      <td>Horn 2</td>\n",
       "      <td>F major</td>\n",
       "      <td>C major</td>\n",
       "      <td>{0: (0, '72', 1.0, 0.0), 1: (1, '74', 0.5, 0.0...</td>\n",
       "    </tr>\n",
       "    <tr>\n",
       "      <th>1</th>\n",
       "      <td>1</td>\n",
       "      <td>1_2</td>\n",
       "      <td>bwv1.6.mxl</td>\n",
       "      <td>corpus</td>\n",
       "      <td>Soprano</td>\n",
       "      <td>F major</td>\n",
       "      <td>C major</td>\n",
       "      <td>{0: (0, '72', 1.0, 0.0), 1: (1, '79', 1.0, 0.0...</td>\n",
       "    </tr>\n",
       "    <tr>\n",
       "      <th>2</th>\n",
       "      <td>1</td>\n",
       "      <td>1_3</td>\n",
       "      <td>bwv1.6.mxl</td>\n",
       "      <td>corpus</td>\n",
       "      <td>Alto</td>\n",
       "      <td>F major</td>\n",
       "      <td>C major</td>\n",
       "      <td>{0: (0, '67', 1.0, 0.0), 1: (1, '67', 1.0, 0.0...</td>\n",
       "    </tr>\n",
       "    <tr>\n",
       "      <th>3</th>\n",
       "      <td>1</td>\n",
       "      <td>1_4</td>\n",
       "      <td>bwv1.6.mxl</td>\n",
       "      <td>corpus</td>\n",
       "      <td>Tenor</td>\n",
       "      <td>F major</td>\n",
       "      <td>C major</td>\n",
       "      <td>{0: (0, '64', 1.0, 0.0), 1: (1, '62', 1.0, 0.0...</td>\n",
       "    </tr>\n",
       "    <tr>\n",
       "      <th>4</th>\n",
       "      <td>1</td>\n",
       "      <td>1_5</td>\n",
       "      <td>bwv1.6.mxl</td>\n",
       "      <td>corpus</td>\n",
       "      <td>Bass</td>\n",
       "      <td>F major</td>\n",
       "      <td>C major</td>\n",
       "      <td>{0: (0, '60', 1.0, 0.0), 1: (1, '59', 1.0, 0.0...</td>\n",
       "    </tr>\n",
       "    <tr>\n",
       "      <th>...</th>\n",
       "      <td>...</td>\n",
       "      <td>...</td>\n",
       "      <td>...</td>\n",
       "      <td>...</td>\n",
       "      <td>...</td>\n",
       "      <td>...</td>\n",
       "      <td>...</td>\n",
       "      <td>...</td>\n",
       "    </tr>\n",
       "    <tr>\n",
       "      <th>1750</th>\n",
       "      <td>407</td>\n",
       "      <td>407_7</td>\n",
       "      <td>bwv97.9.mxl</td>\n",
       "      <td>corpus</td>\n",
       "      <td>Bass</td>\n",
       "      <td>B- major</td>\n",
       "      <td>C major</td>\n",
       "      <td>{0: (0, '48', 1.0, 0.0), 1: (1, '60', 1.0, 0.0...</td>\n",
       "    </tr>\n",
       "    <tr>\n",
       "      <th>1751</th>\n",
       "      <td>408</td>\n",
       "      <td>408_1</td>\n",
       "      <td>bwv99.6.mxl</td>\n",
       "      <td>corpus</td>\n",
       "      <td>Soprano</td>\n",
       "      <td>G major</td>\n",
       "      <td>C major</td>\n",
       "      <td>{0: (0, '67', 1.0, 0.0), 1: (1, '72', 1.0, 0.0...</td>\n",
       "    </tr>\n",
       "    <tr>\n",
       "      <th>1752</th>\n",
       "      <td>408</td>\n",
       "      <td>408_2</td>\n",
       "      <td>bwv99.6.mxl</td>\n",
       "      <td>corpus</td>\n",
       "      <td>Alto</td>\n",
       "      <td>G major</td>\n",
       "      <td>C major</td>\n",
       "      <td>{0: (0, '64', 0.5, 0.0), 1: (0, '65', 0.5, 0.5...</td>\n",
       "    </tr>\n",
       "    <tr>\n",
       "      <th>1753</th>\n",
       "      <td>408</td>\n",
       "      <td>408_3</td>\n",
       "      <td>bwv99.6.mxl</td>\n",
       "      <td>corpus</td>\n",
       "      <td>Tenor</td>\n",
       "      <td>G major</td>\n",
       "      <td>C major</td>\n",
       "      <td>{0: (0, '60', 0.5, 0.0), 1: (0, '62', 0.5, 0.5...</td>\n",
       "    </tr>\n",
       "    <tr>\n",
       "      <th>1754</th>\n",
       "      <td>408</td>\n",
       "      <td>408_4</td>\n",
       "      <td>bwv99.6.mxl</td>\n",
       "      <td>corpus</td>\n",
       "      <td>Bass</td>\n",
       "      <td>G major</td>\n",
       "      <td>C major</td>\n",
       "      <td>{0: (0, '48', 1.0, 0.0), 1: (1, '60', 1.0, 0.0...</td>\n",
       "    </tr>\n",
       "  </tbody>\n",
       "</table>\n",
       "<p>1755 rows × 8 columns</p>\n",
       "</div>"
      ],
      "text/plain": [
       "      note_id note_part_id   sheet_name sheet_path partName original_key  \\\n",
       "0           1          1_1   bwv1.6.mxl     corpus   Horn 2      F major   \n",
       "1           1          1_2   bwv1.6.mxl     corpus  Soprano      F major   \n",
       "2           1          1_3   bwv1.6.mxl     corpus     Alto      F major   \n",
       "3           1          1_4   bwv1.6.mxl     corpus    Tenor      F major   \n",
       "4           1          1_5   bwv1.6.mxl     corpus     Bass      F major   \n",
       "...       ...          ...          ...        ...      ...          ...   \n",
       "1750      407        407_7  bwv97.9.mxl     corpus     Bass     B- major   \n",
       "1751      408        408_1  bwv99.6.mxl     corpus  Soprano      G major   \n",
       "1752      408        408_2  bwv99.6.mxl     corpus     Alto      G major   \n",
       "1753      408        408_3  bwv99.6.mxl     corpus    Tenor      G major   \n",
       "1754      408        408_4  bwv99.6.mxl     corpus     Bass      G major   \n",
       "\n",
       "     transposed_key                                           measures  \n",
       "0           C major  {0: (0, '72', 1.0, 0.0), 1: (1, '74', 0.5, 0.0...  \n",
       "1           C major  {0: (0, '72', 1.0, 0.0), 1: (1, '79', 1.0, 0.0...  \n",
       "2           C major  {0: (0, '67', 1.0, 0.0), 1: (1, '67', 1.0, 0.0...  \n",
       "3           C major  {0: (0, '64', 1.0, 0.0), 1: (1, '62', 1.0, 0.0...  \n",
       "4           C major  {0: (0, '60', 1.0, 0.0), 1: (1, '59', 1.0, 0.0...  \n",
       "...             ...                                                ...  \n",
       "1750        C major  {0: (0, '48', 1.0, 0.0), 1: (1, '60', 1.0, 0.0...  \n",
       "1751        C major  {0: (0, '67', 1.0, 0.0), 1: (1, '72', 1.0, 0.0...  \n",
       "1752        C major  {0: (0, '64', 0.5, 0.0), 1: (0, '65', 0.5, 0.5...  \n",
       "1753        C major  {0: (0, '60', 0.5, 0.0), 1: (0, '62', 0.5, 0.5...  \n",
       "1754        C major  {0: (0, '48', 1.0, 0.0), 1: (1, '60', 1.0, 0.0...  \n",
       "\n",
       "[1755 rows x 8 columns]"
      ]
     },
     "execution_count": 7,
     "metadata": {},
     "output_type": "execute_result"
    }
   ],
   "source": [
    "def construct_bach_corpus_df(key_change):\n",
    "    \n",
    "    file_exists = os.path.exists(\"bach_corpus.csv\") \n",
    "    \n",
    "    if file_exists:\n",
    "        df = pd.read_csv(\"bach_corpus.csv\", index_col=[0])\n",
    "        return df\n",
    "    else:\n",
    "    \n",
    "        list_of_music = []\n",
    "        paths = corpus.getComposer('bach')\n",
    "        for i in paths:\n",
    "            list_of_music.append(i.name)\n",
    "\n",
    "        bach_notes = list_of_music[0:413]\n",
    "        lst_note_info = []\n",
    "        for note_idx in tqdm(range(len(bach_notes))):\n",
    "            if '.mxl' in bach_notes[note_idx]:\n",
    "                s = corpus.parse('bach/' + bach_notes[note_idx])\n",
    "                if key_change:\n",
    "                    k_old,k_new, sNew = key_change_to_base(s)\n",
    "                    partStream2 = sNew.parts.stream()\n",
    "                else:\n",
    "                    partStream2 = s.parts.stream()\n",
    "                if len(lst_note_info) == 0:\n",
    "                    idx = 0\n",
    "                else:\n",
    "                    idx = lst_note_info[-1]['note_id']\n",
    "\n",
    "                note_info2= gather_part_info(partStream2, bach_notes[note_idx], 'corpus', idx+1, k_old, k_new)\n",
    "                for elem in note_info2:\n",
    "                    lst_note_info.append(elem)\n",
    "\n",
    "        df = pd.DataFrame(lst_note_info)\n",
    "        df.to_csv(\"./bach_corpus.csv\")\n",
    "    return df\n",
    "\n",
    "df_complete = construct_bach_corpus_df(True)\n",
    "df_complete"
   ]
  },
  {
   "cell_type": "markdown",
   "id": "d1f0c5a7",
   "metadata": {},
   "source": [
    "## 4 Longest Common Consequtive Non-overlapping Subsequence"
   ]
  },
  {
   "cell_type": "markdown",
   "id": "8ba1ea36",
   "metadata": {},
   "source": [
    "### Sheet music information extracting and transformation algorithms for LCCNOS analysis\n",
    "\n",
    "#### Measures are assembled as following: - [a,b,c,d]\n",
    "\n",
    "* a - measure nr. / index\n",
    "* b - MIDI mark of the note (can retreive note pitch and note octave from it)\n",
    "* c - duration of the note\n",
    "* d - float = off-beat note/element, integer = on-beat note/element"
   ]
  },
  {
   "cell_type": "markdown",
   "id": "7ee8b13f",
   "metadata": {},
   "source": [
    "### Removing rests"
   ]
  },
  {
   "cell_type": "code",
   "execution_count": 8,
   "id": "3f2603ed",
   "metadata": {},
   "outputs": [],
   "source": [
    "def remove_rests(lst):\n",
    "    new_lst =[]\n",
    "    for elem in lst:\n",
    "        if 'rest_' not in elem[1][1]:\n",
    "            new_lst.append(elem)\n",
    "    return new_lst"
   ]
  },
  {
   "cell_type": "markdown",
   "id": "eedd5fe4",
   "metadata": {},
   "source": [
    "### Removing off-beat notes"
   ]
  },
  {
   "cell_type": "code",
   "execution_count": 9,
   "id": "72daa17e",
   "metadata": {},
   "outputs": [],
   "source": [
    "def remove_offbeat(lst):\n",
    "    #lst_new = remove_rests(lst) - Why we have to remove rests while removing offbeats?\n",
    "    new_lst = []\n",
    "    for elem in lst:\n",
    "        \n",
    "        #el[1] - sheet element (chord, rest, note)\n",
    "        #CHORDS\n",
    "        if isinstance(elem[1], list):\n",
    "            if elem[1][0][-1].is_integer(): # integer - meaning that note is on beat\n",
    "                new_lst.append(elem)\n",
    "    \n",
    "        else:\n",
    "            #RESTS\n",
    "            if 'rest_' in elem[1][1]:\n",
    "                new_lst.append(elem)\n",
    "            \n",
    "            #NOTES\n",
    "            else:\n",
    "                if elem[1][-1].is_integer():\n",
    "                    new_lst.append(elem)\n",
    "    \n",
    "    return new_lst"
   ]
  },
  {
   "cell_type": "markdown",
   "id": "2c3ed639",
   "metadata": {},
   "source": [
    "### Removing repetitive notes"
   ]
  },
  {
   "cell_type": "code",
   "execution_count": 10,
   "id": "4a11d180",
   "metadata": {},
   "outputs": [],
   "source": [
    "def remove_repetitive_notes(lst):\n",
    "    new_lst =[]\n",
    "    repeated_notes = []\n",
    "    for elem in lst:\n",
    "        if not isinstance(elem[1], list):\n",
    "            if 'rest_' not in elem[1][1]:\n",
    "                if len(new_lst) != 0:\n",
    "                    if new_lst[-1][1][1] != elem[1][1]:\n",
    "                        new_lst.append(elem)\n",
    "                    else:\n",
    "                        repeated_notes.append(elem)\n",
    "                else:\n",
    "                    new_lst.append(elem)\n",
    "            else:\n",
    "                new_lst.append(elem)\n",
    "        else:\n",
    "            new_lst.append(elem)\n",
    "    return new_lst"
   ]
  },
  {
   "cell_type": "markdown",
   "id": "9e3a3bae",
   "metadata": {},
   "source": [
    "### Construct the string from note information"
   ]
  },
  {
   "cell_type": "markdown",
   "id": "aa5778f7",
   "metadata": {},
   "source": [
    "**Possible values of variables:**\n",
    "\n",
    "* n -> measure list from dataframe row\n",
    "* if_rest -> True: keep the rests, False: remove the rests\n",
    "* if_chords -> True: keep the chords, False: remove the chords and keep only the highest note of the chord\n",
    "* o = 2 -> if note duration is NOT taken into account OR o = 3 -> if note duration IS taken into account\n",
    "* offset -> True: keep the offset notes, False: remove offset notes \n",
    "* repetition -> True: keep the repetitive notes, False: remove the repetitive (aka consequtive same) notes\n",
    "* oct_val -> converting notes to upper or lower octave"
   ]
  },
  {
   "cell_type": "code",
   "execution_count": 11,
   "id": "b672e228",
   "metadata": {},
   "outputs": [],
   "source": [
    "def construct_strings(n, if_rest, if_chords, o, offset, repetition, oct_val):\n",
    "    \n",
    "    #If data is read from a .csv file then the data types are lost.\n",
    "    if isinstance(n, str):\n",
    "        n = ast.literal_eval(n)\n",
    "    \n",
    "   \n",
    "    n = ([(k, n[k]) for k in n]) #change dict to list value\n",
    "   \n",
    "    #Remove repetition first if needed\n",
    "    if repetition == False:\n",
    "        n = remove_repetitive_notes(n)\n",
    "    \n",
    "    lst = []\n",
    "    lst_keys = []\n",
    "    if offset == False: \n",
    "        n = remove_offbeat(n)\n",
    "   \n",
    "    if if_rest:\n",
    "        n = remove_rests(n)\n",
    "        \n",
    "    \n",
    "    for el in n:\n",
    "        \n",
    "        # el[0] - element index referring to original note\n",
    "        # el[1] - element itself\n",
    "        \n",
    "        #CHORDS\n",
    "        if isinstance(el[1], list):\n",
    "            if if_chords: #Takes the upper note of the chord into account\n",
    "                elem = el[1][-1][1:o]\n",
    "                if o == 2:\n",
    "                    #print(elem)\n",
    "                    new_tup = (str(int(elem[0]) + oct_val),)\n",
    "                    #print(new_tup)\n",
    "                else:\n",
    "                    #print(elem)\n",
    "                    new_tup = (str(int(elem[0]) + oct_val), elem[1])\n",
    "                    #print(new_tup)\n",
    "                s = ' '.join(map(str, new_tup))\n",
    "                lst.append(s)\n",
    "                lst_keys.append(el[0])\n",
    "            else: #Takes the whole chord into account\n",
    "                cover_lst = []\n",
    "                for e in el[1]:\n",
    "                    if o == 2:\n",
    "                        elem = e[1:o]\n",
    "                        new_tup = (str(int(elem[0]) + oct_val),)\n",
    "                        cover_lst.append(new_tup)\n",
    "                        \n",
    "                    \n",
    "                    else:\n",
    "                        elem = e[1:o]\n",
    "                        new_tup = (str(int(elem[0]) + oct_val), elem[1])\n",
    "                        #print(new_tup)\n",
    "                        \n",
    "                    cover_lst.append(new_tup)\n",
    "                s = ' '.join(map(str,cover_lst))\n",
    "                lst.append(s)\n",
    "                lst_keys.append(el[0])\n",
    "        \n",
    "        else:\n",
    "            #RESTS\n",
    "            if 'rest_' in el[1][1]:\n",
    "                s = ' '.join(map(str,el[1][1:2]))\n",
    "                lst.append(s)\n",
    "                lst_keys.append(el[0])\n",
    "            #NOTES\n",
    "            else:\n",
    "                note_val = el[1][1:o]\n",
    "                if o == 2:\n",
    "                    #print(note_val)\n",
    "                    new_tup = (str(int(note_val[0]) + oct_val),)\n",
    "                    #print(new_tup)\n",
    "                else:\n",
    "                    #print(note_val)\n",
    "                    new_tup = (str(int(note_val[0]) + oct_val), note_val[1])\n",
    "                    #print(new_tup)\n",
    "                    \n",
    "                s = ' '.join(map(str, new_tup))\n",
    "                lst.append(s)\n",
    "                lst_keys.append(el[0])\n",
    "   \n",
    "    return lst, lst_keys"
   ]
  },
  {
   "cell_type": "markdown",
   "id": "7525a2af",
   "metadata": {},
   "source": [
    "### Generating n-grams and matching sequences - O(N²) — Quadratic Time:"
   ]
  },
  {
   "cell_type": "code",
   "execution_count": 12,
   "id": "744bd2a1",
   "metadata": {},
   "outputs": [],
   "source": [
    "def generate_ngrams(s, n):\n",
    "    \n",
    "    # Use the zip function to help us generate n-grams\n",
    "    # Concatentate the tokens into ngrams and return\n",
    "    \n",
    "    ngrams = zip(*[s[i:] for i in range(n)])\n",
    "\n",
    "    return [ngram for ngram in ngrams]\n",
    "\n",
    "def match_seq(list1,list2):\n",
    "    output=[]\n",
    "    s = SequenceMatcher(None, list1, list2)\n",
    "   \n",
    "    blocks=s.get_matching_blocks()\n",
    "    for bl in blocks:\n",
    "        for bi in range(bl.size):\n",
    "            cur_a=bl.a+bi\n",
    "            cur_b=bl.b+bi\n",
    "            output.append((cur_a,cur_b))\n",
    "    return output\n",
    "\n",
    "def matched_seq_analysis(a, b, ngram, a_keys, b_keys):\n",
    "    \n",
    "    matched_seq=[]\n",
    "    \n",
    "    a_gram = generate_ngrams(a,ngram)\n",
    "    b_gram = generate_ngrams(b,ngram)\n",
    "    \n",
    "    \n",
    "    for x,y in match_seq(a_gram,b_gram): #x and y represent the 'number order of the specific note'\n",
    "        \n",
    "        k = list(a_gram[x])\n",
    "        k2 = list(b_gram[y])\n",
    "        \n",
    "        idxs_a = [(i, i+len(k)) for i in range(len(a)) if a[i:i+len(k)] == k]\n",
    "        idxs_b = [(i, i+len(k2)) for i in range(len(b)) if b[i:i+len(k2)] == k2]\n",
    "        \n",
    "        a_gram_keys = a_keys[idxs_a[0][0]:idxs_a[0][1]]\n",
    "        b_gram_keys = b_keys[idxs_b[0][0]:idxs_b[0][1]]\n",
    "        \n",
    "        matched_seq.append((x,y,a_gram[x],b_gram[y], a_gram_keys, b_gram_keys))\n",
    "        \n",
    "    return matched_seq"
   ]
  },
  {
   "cell_type": "markdown",
   "id": "44f0f6ab",
   "metadata": {},
   "source": [
    "## Find Different Longest Consecutive Non-Overlapping Subsequences between two strings"
   ]
  },
  {
   "cell_type": "markdown",
   "id": "d835419e",
   "metadata": {},
   "source": [
    "### Finding the longest common subsequence (starting from 4-gram)"
   ]
  },
  {
   "cell_type": "markdown",
   "id": "f3f1703e",
   "metadata": {},
   "source": [
    "#### Total maches = (x,y, a_gram[x],b_gram[y], a_gram_keys, b_gram_keys)\n",
    "\n",
    "* x - the order of the note from the part from where does the matched sequence start, for searching unique non-overlapping sequences\n",
    "* y - the order of the note from the second part from where does the mached sequence start, for searching unique non-overlapping sequences\n",
    "* a_gram[x] - the matched sequence in midi notes\n",
    "* b_gram[y] - the matched sequence in midi notes\n",
    "* a_gram_keys - the keys of the first note's notes referring to original notes\n",
    "* b_gram_keys - the keys of the second note's notes referring to original notes"
   ]
  },
  {
   "cell_type": "code",
   "execution_count": 13,
   "id": "bbd39ad5",
   "metadata": {},
   "outputs": [],
   "source": [
    "def LCCNOS_combinations(a,b):\n",
    "    \n",
    "    lst_of_matched_seqs = []\n",
    "    counter = 4 #Starting to look for ngrams 4 and above\n",
    "    total_matches = []\n",
    "    if len(a) > len(b):\n",
    "        \n",
    "        total = len(b[0])\n",
    "        total_matches = []\n",
    "        while counter <= total: \n",
    "            matched = matched_seq_analysis(a[0], b[0], counter, a[1], b[1])\n",
    "            if len(matched) == 0:\n",
    "                break\n",
    "            else:\n",
    "                total_matches = matched\n",
    "                \n",
    "            counter +=1 \n",
    "    else:\n",
    "        total = len(a[0])\n",
    "        total_matches = []\n",
    "        while counter <= total:\n",
    "            matched = matched_seq_analysis(a[0],b[0], counter, a[1], b[1])\n",
    "            if len(matched) == 0:\n",
    "                break\n",
    "            else:\n",
    "                total_matches = matched\n",
    "               \n",
    "            counter +=1 \n",
    "    \n",
    "    #LCCNOS algorithm\n",
    "    if len(total_matches) == 0:\n",
    "        return 0, 0, 0, 0\n",
    "    else:\n",
    "        idx1 = total_matches[0][0]\n",
    "        idx2 = total_matches[0][1]\n",
    "        seq_length = len(total_matches[0][3])\n",
    "\n",
    "        found_matches = []\n",
    "\n",
    "        range_1 = list(range(idx1, idx1+(counter-1)))\n",
    "        range_2 = list(range(idx2, idx2+(counter-1)))\n",
    "\n",
    "        while seq_length >= 4:\n",
    "            \n",
    "            matched = matched_seq_analysis(a[0], b[0], seq_length, a[1], b[1])\n",
    "\n",
    "            for match in matched:\n",
    "\n",
    "                if match[0] not in range_1 or match[1] not in range_2:\n",
    "                    \n",
    "                    found_matches.append(match)\n",
    "                    range_1 = range_1 + list(range(match[0], match[0]+seq_length))\n",
    "                    range_2 = range_2 + list(range(match[1], match[1]+seq_length))\n",
    "                    range_1.sort()\n",
    "                    range_2.sort()\n",
    "            seq_length= seq_length - 1\n",
    "        \n",
    "        \n",
    "                \n",
    "        if len(found_matches) == 0:\n",
    "            found_matches_length = 0\n",
    "            found_matches = 0\n",
    "        else:\n",
    "            found_matches_length = len(found_matches)\n",
    "        \n",
    "        \n",
    "        return total_matches, len(total_matches[0][3]), found_matches, found_matches_length"
   ]
  },
  {
   "cell_type": "code",
   "execution_count": 14,
   "id": "71a7300f",
   "metadata": {},
   "outputs": [],
   "source": [
    "def LCCNOS(n1, n2, if_rest, if_chords, o, offset, repetition):\n",
    "    a = construct_strings(n1, if_rest, if_chords, o, offset, repetition, 0) \n",
    "    b = construct_strings(n2, if_rest, if_chords, o, offset, repetition, 0)\n",
    "        \n",
    "    #Transpose the target note to octave higher or lower to assess whether interval transposition is done right in the beginning\n",
    "    b_upper = construct_strings(n2, if_rest, if_chords, o, offset, repetition, 12) \n",
    "    b_lower = construct_strings(n2, if_rest, if_chords, o, offset, repetition, -12) \n",
    "    \n",
    "    #b_d_upper = construct_strings(n2, if_rest, if_chords, o, offset, repetition, 24) \n",
    "    #b_d_lower = construct_strings(n2, if_rest, if_chords, o, offset, repetition, -24) \n",
    "    \n",
    "   \n",
    "    \n",
    "    \n",
    "    normal_oct = LCCNOS_combinations(a,b)\n",
    "    upper_oct = LCCNOS_combinations(a,b_upper)\n",
    "    lower_oct = LCCNOS_combinations(a,b_lower)\n",
    "    #upper_oct2 = LCCNOS_combinations(a,b_d_upper)\n",
    "    #lower_oct2 = LCCNOS_combinations(a,b_d_lower)\n",
    "    \n",
    "    \n",
    "    lst = [normal_oct[1], upper_oct[1], lower_oct[1]]\n",
    "    \n",
    "   \n",
    "    keys2 = {0:\"normal\", 1:\"upper\", 2:\"lower\"}\n",
    "    \n",
    "    \n",
    "    val = keys2[lst.index(max(lst))]\n",
    "    \n",
    "    #Add double odtave change or not?\n",
    "    if normal_oct[1] >= upper_oct[1] and normal_oct[1] >= lower_oct[1]:\n",
    "        #print(\"normal\")\n",
    "        return normal_oct, val\n",
    "    elif upper_oct[1] >= normal_oct[1] and upper_oct[1] >= lower_oct[1]:\n",
    "        #print(\"upper\")\n",
    "        return lower_oct, val\n",
    "    else:\n",
    "        #print(\"lower\")\n",
    "        return lower_oct, val"
   ]
  },
  {
   "cell_type": "markdown",
   "id": "21dc8f46",
   "metadata": {},
   "source": [
    "## Matching the longest common sequences\n",
    "\n",
    "### Choices of methods:\n",
    "\n",
    "* Rests:<br>\n",
    "   a) Keep the rests in the note sequeneces <br>\n",
    "   b) Remove all the rests from the note sequences <br><br>\n",
    "\n",
    "* Chords<br>\n",
    "a) Leave chords as they are - KITSENDUS (võimalik oleks ka kõik akordi noodid lisada või siis määrata ära akordi tähtsaim noot? -> .root()) <br>\n",
    "b) Only take account the first note (higher note) of the chord (chord can be harmony starting from 2 consequently sounding notes)<br><br>\n",
    "\n",
    "* Note duration<br>\n",
    "a) Consider note duration in the sequence matching<br>\n",
    "b) Do not consider note duration (note can be in any duration as long as it is the same consequtive note - then it will match)<br><br>\n",
    "\n",
    "* Offset notes<br>\n",
    "a) Leave offset (not on beat notes) into the sheet<br>\n",
    "b) Remove all notes that do not fall on beat<br><br>\n",
    "\n",
    "* Repetition <br>\n",
    "a) Same consequitive notes are kept<br>\n",
    "b) Same consequtive notes are removed<br>"
   ]
  },
  {
   "cell_type": "markdown",
   "id": "22ee411b",
   "metadata": {},
   "source": [
    "### Datatable   \n",
    "   \n",
    "LCCNOS = Longest Common Consequtive Non-Overlapping Sequence"
   ]
  },
  {
   "cell_type": "markdown",
   "id": "fa67a820",
   "metadata": {},
   "source": [
    "### Construct the rules for LCCNOS method"
   ]
  },
  {
   "cell_type": "code",
   "execution_count": 15,
   "id": "99f1a3f3",
   "metadata": {},
   "outputs": [],
   "source": [
    "def construct_LCCNOS(df_base, i, y, complete, parameters):\n",
    "    \n",
    "    helper_dictionary = {2:'False', 3: 'True'}\n",
    "    #Test for only one LCS method\n",
    "\n",
    "    if not complete:\n",
    "        \n",
    "        key = str(df_base['note_part_id'][i] + ' + ' + df_base['note_part_id'][y])\n",
    "        \n",
    "        #Example method - change it and choose your own\n",
    "      \n",
    "        if parameters[2]:\n",
    "            note_duration = 3\n",
    "        else:\n",
    "            note_duration = 2\n",
    "        \n",
    "        method = str(parameters[0])[0] + str(parameters[1])[0] + helper_dictionary[note_duration][0] + str(parameters[3])[0] + str(parameters[4])[0]  \n",
    "        \n",
    "        \n",
    "        (LCS_x, l, lccnos, l_lccnos), val = LCCNOS(df_base['measures'][i],df_base['measures'][y], parameters[0], parameters[1], note_duration, parameters[3], parameters[4])\n",
    "        \n",
    "        data = {'note_part_ids': key,'LCS': LCS_x, 'length_LCS': l, 'LCCNOS': lccnos, 'size_LCCNOS': l_lccnos, 'method_id': method, 'remove_rests':str(parameters[0]),'remove_chords':str(parameters[1]),\n",
    "                                   'consider_note_duration': helper_dictionary[note_duration], 'consider_offset_notes':str(parameters[3]), 'consider_repetition':str(parameters[4])}\n",
    "        \n",
    "        df_whole = pd.DataFrame([data])\n",
    "        \n",
    "    else:\n",
    "    \n",
    "    #Computes all the possible method variants\n",
    "        rests = [True, False]\n",
    "        chords = [True, False]\n",
    "        note_duration = [2,3]\n",
    "        offset_notes = [True, False]\n",
    "        repetition = [True, False]\n",
    "\n",
    "        lst_of_rows =[]\n",
    "        for a in rests:\n",
    "            for b in chords:\n",
    "                    for c in note_duration:\n",
    "                        for d in offset_notes:\n",
    "                            for e in repetition:\n",
    "\n",
    "                                method = str(a)[0]+str(b)[0]+helper_dictionary[c][0]+str(d)[0]+str(e)[0]\n",
    "                                \n",
    "                                key = str(df_base['note_part_id'][i] + ' + ' + df_base['note_part_id'][y])\n",
    "\n",
    "                                (LCS_x, l, lccnos, l_lccnos), val = LCCNOS(df_base['measures'][i],df_base['measures'][y],a,b,c,d,e)\n",
    "\n",
    "                                data = {'note_part_ids': key,'LCS': LCS_x, 'length_LCS': l, 'LCCNOS':lccnos, 'size_LCCNOS': l_lccnos, 'method_id':method, 'remove_rests':a,'remove_chords':b,\n",
    "                                       'consider_note_duration':helper_dictionary[c], 'consider_offset_notes':d, 'consider_repetition':e}\n",
    "\n",
    "                                lst_of_rows.append(data)\n",
    "                                #print(val)\n",
    "        df_whole = pd.DataFrame(lst_of_rows)\n",
    "                        \n",
    "    return df_whole"
   ]
  },
  {
   "cell_type": "code",
   "execution_count": 16,
   "id": "58b04373",
   "metadata": {},
   "outputs": [],
   "source": [
    "#Look for similar sequence between two different notes OR against all the notes in the dataframe\n",
    "def LCCNOS_analysis(df_base, i, one_note_bool, if_complete, parameters):\n",
    "    df_whole = pd.DataFrame()\n",
    "    note_dict = {}\n",
    "    \n",
    "    if one_note_bool != -1: #Compare to all the notes in the dataframe\n",
    "        \n",
    "        y =  one_note_bool\n",
    "        df_whole = construct_LCCNOS(df_base, i, y, if_complete, parameters)\n",
    "        \n",
    "    else: #Compare to specific note in the dataframe (based on index)\n",
    "        for y in range(len(df_base)):\n",
    "            if i !=y:\n",
    "                df_part = construct_LCCNOS(df_base, i, y, if_complete, parameters)\n",
    "                df_whole = df_whole.append(df_part, ignore_index = True) \n",
    "                \n",
    "    return df_whole"
   ]
  },
  {
   "cell_type": "markdown",
   "id": "65b8723a",
   "metadata": {},
   "source": [
    "# Choose a bach note you want to compare against the dataframe notes"
   ]
  },
  {
   "cell_type": "markdown",
   "id": "4e813bf3",
   "metadata": {},
   "source": [
    "### <font color='blue'>Choose a method from the options:</font>"
   ]
  },
  {
   "cell_type": "code",
   "execution_count": 17,
   "id": "4bb5b26a",
   "metadata": {},
   "outputs": [
    {
     "data": {
      "application/vnd.jupyter.widget-view+json": {
       "model_id": "2ec5c996e0f641bd9a55532186f2e7c9",
       "version_major": 2,
       "version_minor": 0
      },
      "text/plain": [
       "HBox(children=(VBox(children=(Checkbox(value=False, description='Remove rests'), Checkbox(value=False, descrip…"
      ]
     },
     "metadata": {},
     "output_type": "display_data"
    }
   ],
   "source": [
    "import ipywidgets as widgets\n",
    "\n",
    "wid1 = widgets.Checkbox(\n",
    "    value=False,\n",
    "    description='Remove rests',\n",
    "    disabled=False\n",
    ")\n",
    "wid2 = widgets.Checkbox(\n",
    "    value=False,\n",
    "    description='Remove chords',\n",
    "    disabled=False\n",
    ")\n",
    "\n",
    "\n",
    "wid3 = widgets.Checkbox(\n",
    "    value=True,\n",
    "    description='Consider note duration',\n",
    "    disabled=False\n",
    ")\n",
    "\n",
    "wid4 = widgets.Checkbox(\n",
    "    value=True,\n",
    "    description='Consider offset notes',\n",
    "    disabled=False\n",
    ")\n",
    "\n",
    "wid5 = widgets.Checkbox(\n",
    "    value=True,\n",
    "    description='Consider repetitive notes',\n",
    "    disabled=False\n",
    ")\n",
    "\n",
    "\n",
    "items = [wid1,wid2, wid3, wid4, wid5]\n",
    "left_box = widgets.VBox([items[0], items[1]])\n",
    "middle_box = widgets.VBox([items[2], items[3]])\n",
    "right_box = widgets.VBox([items[4]])\n",
    "widgets.HBox([left_box, middle_box, right_box])"
   ]
  },
  {
   "cell_type": "markdown",
   "id": "5297de5a",
   "metadata": {},
   "source": [
    "### LCCNOS_analysis (dataframe, input_note_idx, target_note_idx, methods_boolean):\n",
    "\n",
    "* dataframe - Choose the dataframe (by default: 'df')\n",
    "* input_note_idx - Choose a note part you want to analyze based on df_input_note dataframe index (by default: 0)\n",
    "* target_note_idx - Choose a target note you want to compare the input note against OR write -1 for analysis against all the notes in the dataframe\n",
    "* methods_boolean - TRUE - note part will be compared with all the 64 methods, FALSE - note part will be compared with one chosen method in 'parameters'\n",
    "* parameters - checked boxes of method options\n",
    "\n",
    "\n",
    "\n"
   ]
  },
  {
   "cell_type": "markdown",
   "id": "106db4f6",
   "metadata": {},
   "source": [
    "### <font color='blue'>Do you want to compare the note with all the methods or only chosen one?</font>"
   ]
  },
  {
   "cell_type": "code",
   "execution_count": 18,
   "id": "a8039659",
   "metadata": {},
   "outputs": [
    {
     "data": {
      "application/vnd.jupyter.widget-view+json": {
       "model_id": "c99db0fd6d5644f5b721f9f39a4addc2",
       "version_major": 2,
       "version_minor": 0
      },
      "text/plain": [
       "HBox(children=(VBox(children=(Checkbox(value=False, description='Compare note parts with every (32 different) …"
      ]
     },
     "metadata": {},
     "output_type": "display_data"
    }
   ],
   "source": [
    "layout = widgets.Layout(width='auto', height='40px') #set width and height\n",
    "\n",
    "wid6 = widgets.Checkbox(\n",
    "    value=False,\n",
    "    description='Compare note parts with every (32 different) method combination',\n",
    "    disabled=False,\n",
    "    layout=layout,\n",
    "    indent=False,\n",
    "    \n",
    ")\n",
    "items = [wid6]\n",
    "left_box = widgets.VBox([items[0]])\n",
    "widgets.HBox([left_box])"
   ]
  },
  {
   "cell_type": "markdown",
   "id": "2e248588",
   "metadata": {},
   "source": [
    "### <font color='blue'>Add the note index of the input note</font>"
   ]
  },
  {
   "cell_type": "code",
   "execution_count": 19,
   "id": "d985c0be",
   "metadata": {},
   "outputs": [],
   "source": [
    "input_note_idx = 0 #Add the note index here what you want to compare\n",
    "\n",
    "#df_complete['measures'].iloc[input_note_idx]"
   ]
  },
  {
   "cell_type": "markdown",
   "id": "078bc4e9",
   "metadata": {},
   "source": [
    "### <font color='blue'>Choose - do you want to compare with all the notes (value: -1) or a specific note (choose target note index value)</font>"
   ]
  },
  {
   "cell_type": "code",
   "execution_count": 20,
   "id": "e374822e",
   "metadata": {},
   "outputs": [],
   "source": [
    "target_note_idx = -1 #Change the value here"
   ]
  },
  {
   "cell_type": "code",
   "execution_count": 22,
   "id": "0bc71064",
   "metadata": {},
   "outputs": [],
   "source": [
    "parameters = [wid1.value, wid2.value, wid3.value, wid4.value, wid5.value, wid6.value]\n",
    "\n",
    "df_whole = LCCNOS_analysis(df_complete, input_note_idx, target_note_idx, wid6.value, parameters)\n",
    "df_whole = df_whole.sort_values(['length_LCS', 'size_LCCNOS'], ascending=[False, False])\n",
    "#df_whole.to_csv('bach_analysis_result' + str(i) + '.csv')\n",
    "#df_mega_whole = df_mega_whole.append(df_whole, ignore_index = True)    "
   ]
  },
  {
   "cell_type": "code",
   "execution_count": 23,
   "id": "da202661",
   "metadata": {},
   "outputs": [
    {
     "data": {
      "text/html": [
       "<div>\n",
       "<style scoped>\n",
       "    .dataframe tbody tr th:only-of-type {\n",
       "        vertical-align: middle;\n",
       "    }\n",
       "\n",
       "    .dataframe tbody tr th {\n",
       "        vertical-align: top;\n",
       "    }\n",
       "\n",
       "    .dataframe thead th {\n",
       "        text-align: right;\n",
       "    }\n",
       "</style>\n",
       "<table border=\"1\" class=\"dataframe\">\n",
       "  <thead>\n",
       "    <tr style=\"text-align: right;\">\n",
       "      <th></th>\n",
       "      <th>note_part_ids</th>\n",
       "      <th>LCS</th>\n",
       "      <th>length_LCS</th>\n",
       "      <th>LCCNOS</th>\n",
       "      <th>size_LCCNOS</th>\n",
       "      <th>method_id</th>\n",
       "      <th>remove_rests</th>\n",
       "      <th>remove_chords</th>\n",
       "      <th>consider_note_duration</th>\n",
       "      <th>consider_offset_notes</th>\n",
       "      <th>consider_repetition</th>\n",
       "    </tr>\n",
       "  </thead>\n",
       "  <tbody>\n",
       "    <tr>\n",
       "      <th>19841</th>\n",
       "      <td>1_1 + 139_1</td>\n",
       "      <td>[(11, 2, (7...</td>\n",
       "      <td>13</td>\n",
       "      <td>[(54, 30, (...</td>\n",
       "      <td>5</td>\n",
       "      <td>TTFTF</td>\n",
       "      <td>True</td>\n",
       "      <td>True</td>\n",
       "      <td>False</td>\n",
       "      <td>True</td>\n",
       "      <td>False</td>\n",
       "    </tr>\n",
       "    <tr>\n",
       "      <th>19849</th>\n",
       "      <td>1_1 + 139_1</td>\n",
       "      <td>[(11, 2, (7...</td>\n",
       "      <td>13</td>\n",
       "      <td>[(54, 30, (...</td>\n",
       "      <td>5</td>\n",
       "      <td>TFFTF</td>\n",
       "      <td>True</td>\n",
       "      <td>False</td>\n",
       "      <td>False</td>\n",
       "      <td>True</td>\n",
       "      <td>False</td>\n",
       "    </tr>\n",
       "    <tr>\n",
       "      <th>19857</th>\n",
       "      <td>1_1 + 139_1</td>\n",
       "      <td>[(11, 2, (7...</td>\n",
       "      <td>13</td>\n",
       "      <td>[(54, 30, (...</td>\n",
       "      <td>5</td>\n",
       "      <td>FTFTF</td>\n",
       "      <td>False</td>\n",
       "      <td>True</td>\n",
       "      <td>False</td>\n",
       "      <td>True</td>\n",
       "      <td>False</td>\n",
       "    </tr>\n",
       "    <tr>\n",
       "      <th>19865</th>\n",
       "      <td>1_1 + 139_1</td>\n",
       "      <td>[(11, 2, (7...</td>\n",
       "      <td>13</td>\n",
       "      <td>[(54, 30, (...</td>\n",
       "      <td>5</td>\n",
       "      <td>FFFTF</td>\n",
       "      <td>False</td>\n",
       "      <td>False</td>\n",
       "      <td>False</td>\n",
       "      <td>True</td>\n",
       "      <td>False</td>\n",
       "    </tr>\n",
       "    <tr>\n",
       "      <th>29537</th>\n",
       "      <td>1_1 + 208_1</td>\n",
       "      <td>[(11, 2, (7...</td>\n",
       "      <td>13</td>\n",
       "      <td>[(54, 28, (...</td>\n",
       "      <td>5</td>\n",
       "      <td>TTFTF</td>\n",
       "      <td>True</td>\n",
       "      <td>True</td>\n",
       "      <td>False</td>\n",
       "      <td>True</td>\n",
       "      <td>False</td>\n",
       "    </tr>\n",
       "    <tr>\n",
       "      <th>29545</th>\n",
       "      <td>1_1 + 208_1</td>\n",
       "      <td>[(11, 2, (7...</td>\n",
       "      <td>13</td>\n",
       "      <td>[(54, 28, (...</td>\n",
       "      <td>5</td>\n",
       "      <td>TFFTF</td>\n",
       "      <td>True</td>\n",
       "      <td>False</td>\n",
       "      <td>False</td>\n",
       "      <td>True</td>\n",
       "      <td>False</td>\n",
       "    </tr>\n",
       "    <tr>\n",
       "      <th>29553</th>\n",
       "      <td>1_1 + 208_1</td>\n",
       "      <td>[(11, 2, (7...</td>\n",
       "      <td>13</td>\n",
       "      <td>[(54, 28, (...</td>\n",
       "      <td>5</td>\n",
       "      <td>FTFTF</td>\n",
       "      <td>False</td>\n",
       "      <td>True</td>\n",
       "      <td>False</td>\n",
       "      <td>True</td>\n",
       "      <td>False</td>\n",
       "    </tr>\n",
       "    <tr>\n",
       "      <th>29561</th>\n",
       "      <td>1_1 + 208_1</td>\n",
       "      <td>[(11, 2, (7...</td>\n",
       "      <td>13</td>\n",
       "      <td>[(54, 28, (...</td>\n",
       "      <td>5</td>\n",
       "      <td>FFFTF</td>\n",
       "      <td>False</td>\n",
       "      <td>False</td>\n",
       "      <td>False</td>\n",
       "      <td>True</td>\n",
       "      <td>False</td>\n",
       "    </tr>\n",
       "    <tr>\n",
       "      <th>20128</th>\n",
       "      <td>1_1 + 140_5</td>\n",
       "      <td>[(138, 9, (...</td>\n",
       "      <td>10</td>\n",
       "      <td>[(107, 15, ...</td>\n",
       "      <td>5</td>\n",
       "      <td>TTFTT</td>\n",
       "      <td>True</td>\n",
       "      <td>True</td>\n",
       "      <td>False</td>\n",
       "      <td>True</td>\n",
       "      <td>True</td>\n",
       "    </tr>\n",
       "    <tr>\n",
       "      <th>20136</th>\n",
       "      <td>1_1 + 140_5</td>\n",
       "      <td>[(138, 9, (...</td>\n",
       "      <td>10</td>\n",
       "      <td>[(107, 15, ...</td>\n",
       "      <td>5</td>\n",
       "      <td>TFFTT</td>\n",
       "      <td>True</td>\n",
       "      <td>False</td>\n",
       "      <td>False</td>\n",
       "      <td>True</td>\n",
       "      <td>True</td>\n",
       "    </tr>\n",
       "  </tbody>\n",
       "</table>\n",
       "</div>"
      ],
      "text/plain": [
       "      note_part_ids             LCS  length_LCS          LCCNOS  size_LCCNOS  \\\n",
       "19841   1_1 + 139_1  [(11, 2, (7...          13  [(54, 30, (...            5   \n",
       "19849   1_1 + 139_1  [(11, 2, (7...          13  [(54, 30, (...            5   \n",
       "19857   1_1 + 139_1  [(11, 2, (7...          13  [(54, 30, (...            5   \n",
       "19865   1_1 + 139_1  [(11, 2, (7...          13  [(54, 30, (...            5   \n",
       "29537   1_1 + 208_1  [(11, 2, (7...          13  [(54, 28, (...            5   \n",
       "29545   1_1 + 208_1  [(11, 2, (7...          13  [(54, 28, (...            5   \n",
       "29553   1_1 + 208_1  [(11, 2, (7...          13  [(54, 28, (...            5   \n",
       "29561   1_1 + 208_1  [(11, 2, (7...          13  [(54, 28, (...            5   \n",
       "20128   1_1 + 140_5  [(138, 9, (...          10  [(107, 15, ...            5   \n",
       "20136   1_1 + 140_5  [(138, 9, (...          10  [(107, 15, ...            5   \n",
       "\n",
       "      method_id  remove_rests  remove_chords consider_note_duration  \\\n",
       "19841     TTFTF          True           True           False          \n",
       "19849     TFFTF          True          False           False          \n",
       "19857     FTFTF         False           True           False          \n",
       "19865     FFFTF         False          False           False          \n",
       "29537     TTFTF          True           True           False          \n",
       "29545     TFFTF          True          False           False          \n",
       "29553     FTFTF         False           True           False          \n",
       "29561     FFFTF         False          False           False          \n",
       "20128     TTFTT          True           True           False          \n",
       "20136     TFFTT          True          False           False          \n",
       "\n",
       "       consider_offset_notes  consider_repetition  \n",
       "19841            True                  False       \n",
       "19849            True                  False       \n",
       "19857            True                  False       \n",
       "19865            True                  False       \n",
       "29537            True                  False       \n",
       "29545            True                  False       \n",
       "29553            True                  False       \n",
       "29561            True                  False       \n",
       "20128            True                   True       \n",
       "20136            True                   True       "
      ]
     },
     "metadata": {},
     "output_type": "display_data"
    }
   ],
   "source": [
    "with pd.option_context('display.max_colwidth', 15):\n",
    "    display(df_whole.head(10))"
   ]
  },
  {
   "cell_type": "markdown",
   "id": "0ae31d89",
   "metadata": {},
   "source": [
    "### <font color='blue'>OPTIONAL: Save the restuls to a .csv file </font>"
   ]
  },
  {
   "cell_type": "code",
   "execution_count": 78,
   "id": "db5ca650",
   "metadata": {},
   "outputs": [],
   "source": [
    "df_whole.to_csv('bach_analysis_result.csv')"
   ]
  },
  {
   "cell_type": "code",
   "execution_count": null,
   "id": "fa71f9b1",
   "metadata": {},
   "outputs": [],
   "source": [
    "'''\n",
    "target_note_idx = -1 #Change the value here\n",
    "for i in range(101):\n",
    "    input_note_idx = i #Add the note index here what you want to compare\n",
    "    \n",
    "    parameters = [wid1.value, wid2.value, wid3.value, wid4.value, wid5.value, wid6.value]\n",
    "\n",
    "    tic = time.perf_counter()\n",
    "\n",
    "    df_whole = LCCNOS_analysis(df_complete, input_note_idx, target_note_idx, wid6.value, parameters) \n",
    "    df_whole = df_whole.sort_values(['length_LCS'], ascending=False)\n",
    "    toc = time.perf_counter()\n",
    "    print(f\"Analyzed the sequences in {toc - tic:0.4f} seconds\")\n",
    "    df_whole.to_csv('bach_analysis_result_' + str(i) + '.csv')\n",
    "    print(\"file created.\")\n",
    "    \n",
    "'''"
   ]
  },
  {
   "cell_type": "markdown",
   "id": "82869fdd",
   "metadata": {},
   "source": [
    "## 4 Visualization"
   ]
  },
  {
   "cell_type": "markdown",
   "id": "9e3ec105",
   "metadata": {},
   "source": [
    "### Algorithms for visualizing subs"
   ]
  },
  {
   "cell_type": "code",
   "execution_count": 24,
   "id": "f90e760b",
   "metadata": {},
   "outputs": [],
   "source": [
    "import matplotlib.pyplot as plt\n",
    "%matplotlib inline\n",
    "\n",
    "def visualize_subs(name1, name2, part_id_1, part_id_2, seq1, seq2):\n",
    "    \n",
    "    #if it's a Bach corpus note or note from local directory\n",
    "    if 'bwv' in name1:\n",
    "        s1 = corpus.parse('bach/'+name1)\n",
    "    else:\n",
    "        s1 = converter.parse(name1)\n",
    "        \n",
    "    if 'bwv' in name2:\n",
    "        s2 = corpus.parse('bach/'+name2)\n",
    "    else:\n",
    "        s2 = converter.parse(name2)\n",
    "    \n",
    "    k_old1, k_new1, sNew1 = key_change_to_base(s1)\n",
    "    partStream1 = sNew1.parts.stream()\n",
    "    k_old1, k_new1, sNew2 = key_change_to_base(s2)\n",
    "    partStream2 = sNew2.parts.stream()\n",
    "    \n",
    "    print(seq1)\n",
    "    print(seq2)\n",
    "    print('-----')\n",
    "    print('Length of the similar note sequence is: ' + str(len(seq1)))\n",
    "    sNew1.parts[int(part_id_1)-1].measures(seq1[0][0],seq1[-1][0]).show()\n",
    "    sNew2.parts[int(part_id_2)-1].measures(seq2[0][0],seq2[-1][0]).show()\n",
    "    \n",
    "    sNew1.parts[int(part_id_1)-1].measures(seq1[0][0],seq1[-1][0]).show('midi')\n",
    "    sNew2.parts[int(part_id_2)-1].measures(seq2[0][0],seq2[-1][0]).show('midi')\n",
    "    \n",
    "    \n",
    "    return sNew1.parts[int(part_id_1)-1].measures(seq1[0][0],seq1[-1][0]).plot().run(), sNew2.parts[int(part_id_2)-1].measures(seq2[0][0],seq2[-1][0]).plot().run()"
   ]
  },
  {
   "cell_type": "markdown",
   "id": "31595842",
   "metadata": {},
   "source": [
    "## References back to original notes "
   ]
  },
  {
   "cell_type": "code",
   "execution_count": 25,
   "id": "bb01e056",
   "metadata": {},
   "outputs": [],
   "source": [
    "def separate_note_names(notes):\n",
    "    \n",
    "    splitted_note_names = notes.split()\n",
    "   \n",
    "    note1 = splitted_note_names[0]\n",
    "    note2 = splitted_note_names[2]\n",
    "\n",
    "    return note1, note2\n",
    "\n",
    "def get_actual_notes(notes, idxs):\n",
    "    \n",
    "    actual_notes = []\n",
    "    for i in idxs:\n",
    "        actual_notes.append(notes[i])\n",
    "    \n",
    "    return actual_notes\n",
    "\n",
    "def get_whole_actual_seq(notes, idxs):\n",
    "    \n",
    "    actual_seq = []\n",
    "    \n",
    "    start_id = idxs[0]\n",
    "    end_id = idxs[-1]\n",
    "    \n",
    "    while start_id != end_id:\n",
    "        actual_seq.append(notes[start_id])\n",
    "        start_id= start_id +1 \n",
    "      \n",
    "    return actual_seq\n",
    "        \n",
    "def get_notes(notes, lcs, df_base):\n",
    "    \n",
    "    note1, note2 = separate_note_names(notes)\n",
    "    \n",
    "    part_a_measures = df_base.loc[df_base['note_part_id'] == note1]['measures'].values[0]\n",
    "    part_b_measures = df_base.loc[df_base['note_part_id'] == note2]['measures'].values[0]\n",
    "    \n",
    "    if isinstance(part_a_measures, str):\n",
    "        part_a_measures = ast.literal_eval(part_a_measures)\n",
    "        part_b_measures = ast.literal_eval(part_b_measures)\n",
    "    \n",
    "    \n",
    "    part_a_notes_idxs  = lcs[0][4]\n",
    "    part_b_notes_idxs  = lcs[0][5]\n",
    "    \n",
    "    part_a_actual_notes = get_actual_notes(part_a_measures,part_a_notes_idxs)\n",
    "    part_b_actual_notes = get_actual_notes(part_b_measures,part_b_notes_idxs)\n",
    "        \n",
    "    part_a_actual_seq = get_whole_actual_seq(part_a_measures,part_a_notes_idxs)\n",
    "    part_b_actual_seq = get_whole_actual_seq(part_b_measures,part_b_notes_idxs)\n",
    "    \n",
    "    if df_base['sheet_path'].values[0] == 'corpus':\n",
    "        \n",
    "        n1_name = df_base.loc[df_base['note_part_id'] == note1]['sheet_name'].values[0]\n",
    "        n2_name = df_base.loc[df_base['note_part_id'] == note2]['sheet_name'].values[0]\n",
    "        \n",
    "    else:\n",
    "        \n",
    "        n1_name = df_base.loc[df_base['note_part_id'] == note1]['sheet_path'].values[0]\n",
    "        n2_name = df_base.loc[df_base['note_part_id'] == note2]['sheet_path'].values[0]\n",
    "\n",
    "    splitted_note_names = notes.split()\n",
    "    \n",
    "    part_id_1 = splitted_note_names[0].split('_')[-1]\n",
    "    part_id_2 = splitted_note_names[2].split('_')[-1]\n",
    "        \n",
    "    print(n1_name)\n",
    "    print(n2_name)\n",
    "    visualize_subs(n1_name, n2_name, part_id_1, part_id_2, part_a_actual_seq, part_b_actual_seq)"
   ]
  },
  {
   "cell_type": "markdown",
   "id": "437ee01d",
   "metadata": {},
   "source": [
    "## Visualizing best match of longest common subsequence\n",
    "\n",
    "### <font color='blue'>Change the df_idx value if you want to visualize a specific result</font>"
   ]
  },
  {
   "cell_type": "code",
   "execution_count": 26,
   "id": "46b230dc",
   "metadata": {},
   "outputs": [],
   "source": [
    "df_idx = 0 # Change this value here"
   ]
  },
  {
   "cell_type": "code",
   "execution_count": 27,
   "id": "164120cd",
   "metadata": {},
   "outputs": [
    {
     "name": "stdout",
     "output_type": "stream",
     "text": [
      "bwv1.6.mxl\n",
      "bwv248.59-6.mxl\n",
      "[(2, '76', 0.25, 0.5), (2, '74', 0.25, 0.75), (2, '72', 0.5, 1.0), (2, '74', 0.5, 1.5), (2, '76', 1.0, 2.0), (2, '76', 1.0, 3.0), (3, '72', 0.5, 0.0), (3, '74', 0.25, 0.5), (3, '76', 0.25, 0.75), (3, '77', 0.5, 1.0), (3, '79', 0.25, 1.5), (3, '77', 0.25, 1.75), (3, '76', 0.5, 2.0)]\n",
      "[(1, '76', 1.0, 1.0), (1, '74', 1.0, 2.0), (1, '72', 1.0, 3.0), (2, '74', 1.0, 0.0), (2, '74', 1.0, 1.0), (2, '76', 1.0, 2.0), (2, '72', 0.5, 3.0), (2, '74', 0.5, 3.5), (3, '76', 1.0, 0.0), (3, '77', 1.0, 1.0), (3, '79', 1.0, 2.0), (3, '77', 0.5, 3.0), (3, '76', 0.5, 3.5)]\n",
      "-----\n",
      "Length of the similar note sequence is: 13\n"
     ]
    },
    {
     "data": {
      "image/png": "[encoded data removed]",
      "text/plain": [
       "<IPython.core.display.Image object>"
      ]
     },
     "metadata": {
      "image/png": {
       "height": 156,
       "width": 674
      }
     },
     "output_type": "display_data"
    },
    {
     "data": {
      "image/png": "[encoded data removed]",
      "text/plain": [
       "<IPython.core.display.Image object>"
      ]
     },
     "metadata": {
      "image/png": {
       "height": 183,
       "width": 674
      }
     },
     "output_type": "display_data"
    },
    {
     "data": {
      "text/html": [
       "\n",
       "                <div id='midiPlayerDiv86590'></div>\n",
       "                <link rel=\"stylesheet\" href=\"//cuthbertLab.github.io/music21j/css/m21.css\"\n",
       "                    type=\"text/css\" />\n",
       "                <script>\n",
       "                require.config({\n",
       "                    paths: {'music21': '//cuthbertLab.github.io/music21j/src/music21'}\n",
       "                });\n",
       "                require(['music21'], function() {\n",
       "                               mp = new music21.miditools.MidiPlayer();\n",
       "                               mp.addPlayer('#midiPlayerDiv86590');\n",
       "                               mp.base64Load('data:audio/midi;base64,TVRoZAAAAAYAAQACBABNVHJrAAAAGgD/WQIAAAD/WAQEAhgIAP9RAwehIIgA/y8ATVRyawAAALkA/wMGSG9ybiAyAOYAQADGAIgAlkhaggCGSAAAlk1aggCGTQAAlkxaggCGTAAAlkpaggCGSgAAlkhahACGSAAAlkpahACGSgAAlkxaiACGTAAAlkxaiACGTAAAlkhahACGSAAAlkpaggCGSgAAlkxaggCGTAAAlk1ahACGTQAAlk9aggCGTwAAlk1aggCGTQAAlkxahACGTAAAlkpahACGSgAAlkpahACGSgAAlk9ahACGTwCIAP8vAA==');\n",
       "                        });\n",
       "                </script>"
      ],
      "text/plain": [
       "<IPython.core.display.HTML object>"
      ]
     },
     "metadata": {},
     "output_type": "display_data"
    },
    {
     "data": {
      "text/html": [
       "\n",
       "                <div id='midiPlayerDiv86784'></div>\n",
       "                <link rel=\"stylesheet\" href=\"//cuthbertLab.github.io/music21j/css/m21.css\"\n",
       "                    type=\"text/css\" />\n",
       "                <script>\n",
       "                require.config({\n",
       "                    paths: {'music21': '//cuthbertLab.github.io/music21j/src/music21'}\n",
       "                });\n",
       "                require(['music21'], function() {\n",
       "                               mp = new music21.miditools.MidiPlayer();\n",
       "                               mp.addPlayer('#midiPlayerDiv86784');\n",
       "                               mp.base64Load('data:audio/midi;base64,TVRoZAAAAAYAAQACBABNVHJrAAAAGgD/WQIAAAD/WAQEAhgIAP9RAwehIIgA/y8ATVRyawAAAJ8A/wMHU29wcmFubwDgAEAAwACIAJBIWoQAgEgAAJBKWoQAgEoAAJBMWogAgEwAAJBKWogAgEoAAJBIWogAgEgAAJBKWogAgEoAAJBKWogAgEoAAJBMWogAgEwAAJBIWoQAgEgAAJBKWoQAgEoAAJBMWogAgEwAAJBNWogAgE0AAJBPWogAgE8AAJBNWoQAgE0AAJBMWoQAgEwAiAD/LwA=');\n",
       "                        });\n",
       "                </script>"
      ],
      "text/plain": [
       "<IPython.core.display.HTML object>"
      ]
     },
     "metadata": {},
     "output_type": "display_data"
    },
    {
     "data": {
      "image/png": "[encoded data removed]",
      "text/plain": [
       "<Figure size 720x432 with 1 Axes>"
      ]
     },
     "metadata": {
      "image/png": {
       "height": 382,
       "width": 584
      }
     },
     "output_type": "display_data"
    },
    {
     "data": {
      "image/png": "[encoded data removed]",
      "text/plain": [
       "<Figure size 720x432 with 1 Axes>"
      ]
     },
     "metadata": {
      "image/png": {
       "height": 382,
       "width": 584
      }
     },
     "output_type": "display_data"
    }
   ],
   "source": [
    "get_notes(df_whole['note_part_ids'].iloc[df_idx], df_whole['LCS'].iloc[df_idx], df_complete)"
   ]
  },
  {
   "cell_type": "markdown",
   "id": "8bac67c8",
   "metadata": {},
   "source": [
    "## Visualizing all the longest repeating non-overlapping unique subsequences "
   ]
  },
  {
   "cell_type": "markdown",
   "id": "c764b51f",
   "metadata": {},
   "source": [
    "### <font color='blue'>Change the df_idx value if you want to visualize a specific result</font>"
   ]
  },
  {
   "cell_type": "code",
   "execution_count": 28,
   "id": "0c68bcc0",
   "metadata": {},
   "outputs": [],
   "source": [
    "df_idx = 0 # Change this value here"
   ]
  },
  {
   "cell_type": "code",
   "execution_count": null,
   "id": "fe55f9a5",
   "metadata": {},
   "outputs": [
    {
     "name": "stdout",
     "output_type": "stream",
     "text": [
      "bwv1.6.mxl\n",
      "bwv248.59-6.mxl\n",
      "[(2, '72', 0.5, 1.0), (2, '74', 0.5, 1.5), (2, '76', 1.0, 2.0), (2, '76', 1.0, 3.0), (3, '72', 0.5, 0.0), (3, '74', 0.25, 0.5), (3, '76', 0.25, 0.75), (3, '77', 0.5, 1.0), (3, '79', 0.25, 1.5), (3, '77', 0.25, 1.75), (3, '76', 0.5, 2.0)]\n",
      "[(1, '72', 1.0, 3.0), (2, '74', 1.0, 0.0), (2, '74', 1.0, 1.0), (2, '76', 1.0, 2.0), (2, '72', 0.5, 3.0), (2, '74', 0.5, 3.5), (3, '76', 1.0, 0.0), (3, '77', 1.0, 1.0), (3, '79', 1.0, 2.0), (3, '77', 0.5, 3.0), (3, '76', 0.5, 3.5)]\n",
      "-----\n",
      "Length of the similar note sequence is: 11\n"
     ]
    },
    {
     "data": {
      "image/png": "[encoded data removed]",
      "text/plain": [
       "<IPython.core.display.Image object>"
      ]
     },
     "metadata": {
      "image/png": {
       "height": 156,
       "width": 674
      }
     },
     "output_type": "display_data"
    },
    {
     "data": {
      "image/png": "[encoded data removed]",
      "text/plain": [
       "<IPython.core.display.Image object>"
      ]
     },
     "metadata": {
      "image/png": {
       "height": 183,
       "width": 674
      }
     },
     "output_type": "display_data"
    },
    {
     "data": {
      "text/html": [
       "\n",
       "                <div id='midiPlayerDiv96090'></div>\n",
       "                <link rel=\"stylesheet\" href=\"//cuthbertLab.github.io/music21j/css/m21.css\"\n",
       "                    type=\"text/css\" />\n",
       "                <script>\n",
       "                require.config({\n",
       "                    paths: {'music21': '//cuthbertLab.github.io/music21j/src/music21'}\n",
       "                });\n",
       "                require(['music21'], function() {\n",
       "                               mp = new music21.miditools.MidiPlayer();\n",
       "                               mp.addPlayer('#midiPlayerDiv96090');\n",
       "                               mp.base64Load('data:audio/midi;base64,TVRoZAAAAAYAAQACBABNVHJrAAAAGgD/WQIAAAD/WAQEAhgIAP9RAwehIIgA/y8ATVRyawAAALkA/wMGSG9ybiAyAOYAQADGAIgAlkhaggCGSAAAlk1aggCGTQAAlkxaggCGTAAAlkpaggCGSgAAlkhahACGSAAAlkpahACGSgAAlkxaiACGTAAAlkxaiACGTAAAlkhahACGSAAAlkpaggCGSgAAlkxaggCGTAAAlk1ahACGTQAAlk9aggCGTwAAlk1aggCGTQAAlkxahACGTAAAlkpahACGSgAAlkpahACGSgAAlk9ahACGTwCIAP8vAA==');\n",
       "                        });\n",
       "                </script>"
      ],
      "text/plain": [
       "<IPython.core.display.HTML object>"
      ]
     },
     "metadata": {},
     "output_type": "display_data"
    }
   ],
   "source": [
    "if df_whole['LCCNOS'].iloc[df_idx] != 0:\n",
    "    get_notes(df_whole['note_part_ids'].iloc[df_idx], df_whole['LCCNOS'].iloc[df_idx], df_complete)\n",
    "else:\n",
    "    print(\"Value is empty.\")"
   ]
  },
  {
   "cell_type": "markdown",
   "id": "4e252f4b",
   "metadata": {},
   "source": [
    "### Add results to Excel file for further analysis"
   ]
  },
  {
   "cell_type": "code",
   "execution_count": null,
   "id": "d3acab60",
   "metadata": {},
   "outputs": [],
   "source": [
    "df_whole_small.to_csv('bach_analysis_results.csv')"
   ]
  },
  {
   "cell_type": "markdown",
   "id": "c2ce2b32",
   "metadata": {},
   "source": [
    "****"
   ]
  },
  {
   "cell_type": "markdown",
   "id": "caec48d5",
   "metadata": {},
   "source": [
    "# End of notebook"
   ]
  },
  {
   "cell_type": "markdown",
   "id": "a50db0ce",
   "metadata": {},
   "source": [
    "***"
   ]
  }
 ],
 "metadata": {
  "kernelspec": {
   "display_name": "Python 3 (ipykernel)",
   "language": "python",
   "name": "python3"
  },
  "language_info": {
   "codemirror_mode": {
    "name": "ipython",
    "version": 3
   },
   "file_extension": ".py",
   "mimetype": "text/x-python",
   "name": "python",
   "nbconvert_exporter": "python",
   "pygments_lexer": "ipython3",
   "version": "3.9.6"
  }
 },
 "nbformat": 4,
 "nbformat_minor": 5
}
