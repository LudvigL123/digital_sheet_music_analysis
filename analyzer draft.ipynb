{
 "cells": [
  {
   "cell_type": "code",
   "execution_count": 77,
   "id": "3011317c",
   "metadata": {},
   "outputs": [
    {
     "data": {
      "text/plain": [
       "WindowsPath('C:/Program Files/MuseScore 3/bin/MuseScore3.exe')"
      ]
     },
     "execution_count": 77,
     "metadata": {},
     "output_type": "execute_result"
    }
   ],
   "source": [
    "from music21 import *\n",
    "us = environment.UserSettings()\n",
    "us['musicxmlPath'] = 'C:\\\\Program Files\\\\MuseScore 3\\\\bin\\\\MuseScore3.exe'\n",
    "us['musescoreDirectPNGPath'] = 'C:\\\\Program Files\\\\MuseScore 3\\\\bin\\\\MuseScore3.exe'\n",
    "us['musicxmlPath']\n",
    "\n"
   ]
  },
  {
   "cell_type": "code",
   "execution_count": 78,
   "id": "1401179c",
   "metadata": {},
   "outputs": [
    {
     "data": {
      "image/png": "[encoded data removed]",
      "text/plain": [
       "<IPython.core.display.Image object>"
      ]
     },
     "metadata": {
      "image/png": {
       "height": 36,
       "width": 211
      }
     },
     "output_type": "display_data"
    }
   ],
   "source": [
    "n = note.Note(\"D#3\")\n",
    "n.duration.type = 'half'\n",
    "n.show()"
   ]
  },
  {
   "cell_type": "code",
   "execution_count": 79,
   "id": "cee2d80f",
   "metadata": {},
   "outputs": [
    {
     "data": {
      "image/png": "[encoded data removed]",
      "text/plain": [
       "<IPython.core.display.Image object>"
      ]
     },
     "metadata": {
      "image/png": {
       "height": 49,
       "width": 371
      }
     },
     "output_type": "display_data"
    }
   ],
   "source": [
    "littleMelody = converter.parse(\"tinynotation: 3/4 c4 d8 f g16 a g f#\")\n",
    "littleMelody.show()\n"
   ]
  },
  {
   "cell_type": "code",
   "execution_count": 80,
   "id": "b9dd539a",
   "metadata": {},
   "outputs": [
    {
     "data": {
      "text/html": [
       "\n",
       "                <div id='midiPlayerDiv326584'></div>\n",
       "                <link rel=\"stylesheet\" href=\"//cuthbertLab.github.io/music21j/css/m21.css\"\n",
       "                    type=\"text/css\" />\n",
       "                <script>\n",
       "                require.config({\n",
       "                    paths: {'music21': '//cuthbertLab.github.io/music21j/src/music21'}\n",
       "                });\n",
       "                require(['music21'], function() {\n",
       "                               mp = new music21.miditools.MidiPlayer();\n",
       "                               mp.addPlayer('#midiPlayerDiv326584');\n",
       "                               mp.base64Load('data:audio/midi;base64,TVRoZAAAAAYAAQACBABNVHJrAAAAFAD/UQMHoSAA/1gEAwIYCIgA/y8ATVRyawAAAE0A/wMAAOAAQIgAkDxaiACAPAAAkD5ahACAPgAAkEFahACAQQAAkENaggCAQwAAkEVaggCARQAAkENaggCAQwAAkEJaggCAQgCIAP8vAA==');\n",
       "                        });\n",
       "                </script>"
      ],
      "text/plain": [
       "<IPython.core.display.HTML object>"
      ]
     },
     "metadata": {},
     "output_type": "display_data"
    }
   ],
   "source": [
    "\n",
    "littleMelody.show('midi')"
   ]
  },
  {
   "cell_type": "code",
   "execution_count": 81,
   "id": "85661aeb",
   "metadata": {},
   "outputs": [],
   "source": [
    "#Leiab kõik taktid ja takti sisu ning paneb need sõnastikku, sõnastikud lähevad listi\n",
    "def get_measure_info(part, partList):\n",
    "    measures = [] #List, kuhu lähevad measure dictid:\n",
    "    chords = []\n",
    "    rests = []\n",
    "    notes = []\n",
    "    allInfo = []\n",
    "    melNotes = []\n",
    "    notesDur = 0\n",
    "    restsDur = 0\n",
    "    for e in part.getElementsByClass('Measure'):\n",
    "        newMeasure = {}        \n",
    "        newMeasure[e.number] = list(e.notesAndRests.elements) #EVERYTHING IN one place\n",
    "        measureInt =[]\n",
    "        if e.hasVoices():\n",
    "            for voice in e.getElementsByClass('Voice'):\n",
    "                for v in voice.elements:\n",
    "                    newMeasure[e.number].append(v)\n",
    "        for elem in newMeasure[e.number]:\n",
    "            if elem.isNote:\n",
    "                notes.append(elem.nameWithOctave)\n",
    "                notesDur+=elem.duration.quarterLength\n",
    "                allInfo.append(elem)\n",
    "                measureInt.append(elem)\n",
    "                melNotes.append(elem)\n",
    "            elif elem.isChord and '<music21.harmony.ChordSymbol' not in str(elem):\n",
    "                chords.append(elem.pitchedCommonName)\n",
    "                notesDur+=elem.duration.quarterLength\n",
    "                measureInt.append(elem.notes[-1])\n",
    "                allInfo.append(elem.notes[-1])\n",
    "                melNotes.append(elem.notes[-1])\n",
    "                for c in elem.notes:\n",
    "                    notes.append(c.nameWithOctave)\n",
    "            elif elem.isRest:\n",
    "                restsDur+=elem.duration.quarterLength\n",
    "        newMeasure[e.number].append(measureInt) \n",
    "        measures.append(newMeasure)\n",
    "    rests.append(notesDur)\n",
    "    rests.append(restsDur)\n",
    "    partList['melodynotes'] = melNotes\n",
    "    partList['notes'] = notes\n",
    "    partList['chords'] = chords\n",
    "    partList['rests'] = rests\n",
    "    partList['intervals'] = find_intervals(allInfo)\n",
    "    \n",
    "    return measures"
   ]
  },
  {
   "cell_type": "code",
   "execution_count": 82,
   "id": "33063256",
   "metadata": {},
   "outputs": [],
   "source": [
    "#Taandab kõik intervallid 0-12 pooltooni vahemikku\n",
    "def check_semitones1(st_inter, intervals):\n",
    "    if 24 > st_inter > 12:\n",
    "        st_inter = st_inter-12\n",
    "        intervals.append(st_inter)\n",
    "    elif 36 > st_inter > 24:\n",
    "        st_inter = st_inter-24\n",
    "        intervals.append(st_inter)\n",
    "    elif 48 > st_inter > 36:\n",
    "        st_inter = st_inter-36\n",
    "        intervals.append(st_inter)\n",
    "    elif -24 < st_inter < -12:\n",
    "        st_inter = st_inter+12\n",
    "        intervals.append(st_inter)\n",
    "    elif -36 < st_inter < -24:\n",
    "        st_inter = st_inter+24\n",
    "        intervals.append(st_inter)\n",
    "    elif -48 < st_inter < -36:\n",
    "        st_inter = st_inter+36\n",
    "        intervals.append(st_inter)\n",
    "    else:\n",
    "        intervals.append(st_inter)\n",
    "\n",
    "#Taandab kõik intervallid 0-12 pooltooni vahemikku\n",
    "def check_semitones(st_inter, intervals):\n",
    "    if st_inter > 12:\n",
    "        st_inter = st_inter % 12  \n",
    "    elif st_inter < -12:\n",
    "        st_inter = st_inter % -12\n",
    "    intervals.append(st_inter)\n",
    "    \n",
    "        \n",
    "#Tuvastab nootide vahelised intervallid  \n",
    "def find_intervals(allInfo):\n",
    "    intervals= []\n",
    "    i=1 #Alustan 2. noodist, sest pean alati kontrollima, kas eelmine noot on noot või mitte.\n",
    "    while i != len(allInfo) and len(allInfo) != 0 and len(allInfo) != 1:\n",
    "        if allInfo[i-1].isNote and allInfo[i].isNote:\n",
    "            inter = interval.Interval(noteStart=allInfo[i-1], noteEnd=allInfo[i]).semitones\n",
    "            check_semitones(inter,intervals)\n",
    "            \n",
    "        i+=1\n",
    "    return intervals\n",
    "\n",
    "#Saame instrumentide nimed kätte partiidest\n",
    "def get_instruments(note):\n",
    "    lst=[]\n",
    "    for i in range (len(note)):\n",
    "        if 'partName' in note[i]:\n",
    "            lst.append(note[i].get('partName'))\n",
    "    return lst\n",
    "\n",
    "#Saame tõenäoliseima noodi helistiku\n",
    "def get_key(note):\n",
    "    lst=[]\n",
    "    for i in range (len(note)):\n",
    "        if 'key' in note[i]:\n",
    "            lst.append(note[i].get('key'))\n",
    "    if lst == []:\n",
    "        return \"Ei suutnud helistikku määrata.\"\n",
    "    else:\n",
    "        return str(max(set(lst), key = lst.count))\n",
    "    \n",
    "#Saame noodis esinevate taktide arvu\n",
    "def get_bars_count(note):\n",
    "    return len(note[1].get('measures'))\n",
    "\n",
    "#Saame kätte enimkasutatud nootide, intervallide jne info\n",
    "def get_elements_info(note, name):\n",
    "    intervalDict = {0:\"P0\", 1:\"v2\", 2:\"S2\",\n",
    "                    3:\"v3\", 4:\"S3\", 5:\"P4\", 6:\"Tritoon\",\n",
    "                    7:\"P5\", 8:\"v6\", 9:\"S6\", 10:\"v7\",\n",
    "                    11: \"S7\", 12:\"P8\"}\n",
    "    count= 0\n",
    "    mostUsed = \"Puudub\"\n",
    "    lst = []\n",
    "    for i in range(0,len(note)):\n",
    "        elements = note[i].get(name)\n",
    "        s = len(elements)\n",
    "        count+=s\n",
    "        lst+=elements\n",
    "    \n",
    "    if lst != []:\n",
    "        mostUsed = max(set(lst), key=lst.count)\n",
    "    if name==\"intervals\":\n",
    "        mostUsed = intervalDict.get(mostUsed)\n",
    "    \n",
    "    return (count, mostUsed)\n",
    "\n",
    "#Saame teada noodis olevate pauside protsentuaalse koguse\n",
    "def get_rests_info(note, name):\n",
    "    notesDur =0\n",
    "    restsDur =0\n",
    "    wholeDur =0\n",
    "    for elem in note:\n",
    "        if name in elem:\n",
    "            elements = elem.get(name)\n",
    "            notesDur+=elements[0]\n",
    "            restsDur+=elements[1]\n",
    "    wholeDur+= notesDur + restsDur\n",
    "    percent = (restsDur*100)/wholeDur\n",
    "    return str(round(percent,1))\n",
    "\n",
    "#Saame kätte noodi tempo\n",
    "def get_tempo(note):\n",
    "    return note[1].get('bpm')"
   ]
  },
  {
   "cell_type": "code",
   "execution_count": 83,
   "id": "347022d3",
   "metadata": {},
   "outputs": [],
   "source": [
    "# Analyze gives: \n",
    "# list[0] - sheet name\n",
    "# list [1] - info of the sheet and partList 1 (esimene rida)- CHECK the ALGORITHM\n",
    "# list [2] - info of the sheet and partList 2 (teine rida) - ainult meloodia noot, kui chordi ära ei arva.\n",
    "# list [3] - kõik noodid üldse kokku\n",
    "# list [4] - kõik intervallid üldse kokku"
   ]
  },
  {
   "cell_type": "markdown",
   "id": "58ed2f3b",
   "metadata": {},
   "source": [
    "## Sheet music analyzer\n",
    "\n",
    "* melodynotes -> \n",
    "* notes ->\n",
    "* chords ->\n",
    "* rests ->\n",
    "* intervals -> \n",
    "\n",
    "\n",
    "Offset näitab mitmenda täislöögi indeksist takt algab (index 0, 1, 2....) Kui offset on 3, siis takt algab kogu noodistuse mõistes 3. löögist"
   ]
  },
  {
   "cell_type": "code",
   "execution_count": 84,
   "id": "8999dd86",
   "metadata": {},
   "outputs": [],
   "source": [
    "#Leiab kõik taktid ja takti sisu ning paneb need sõnastikku, sõnastikud lähevad listi\n",
    "def get_measure_info(part, partList):\n",
    "    measures = [] #List, kuhu lähevad measure dictid:\n",
    "    chords = []\n",
    "    rests = []\n",
    "    notes = []\n",
    "    allInfo = []\n",
    "    melNotes = []\n",
    "    notesDur = 0\n",
    "    restsDur = 0\n",
    "    for e in part.getElementsByClass('Measure'):\n",
    "        newMeasure = {}        \n",
    "        newMeasure[e.number] = list(e.notesAndRests.elements)\n",
    "        print(newMeasure)\n",
    "        measureInt =[]\n",
    "        if e.hasVoices():\n",
    "            for voice in e.getElementsByClass('Voice'):\n",
    "                for v in voice.elements:\n",
    "                    newMeasure[e.number].append(v)\n",
    "        for elem in newMeasure[e.number]:\n",
    "            if elem.isNote:\n",
    "                notes.append(elem.nameWithOctave)\n",
    "                notesDur+=elem.duration.quarterLength\n",
    "                allInfo.append(elem)\n",
    "                measureInt.append(elem)\n",
    "                melNotes.append(elem)\n",
    "            elif elem.isChord and '<music21.harmony.ChordSymbol' not in str(elem):\n",
    "                chords.append(elem.pitchedCommonName)\n",
    "                notesDur+=elem.duration.quarterLength\n",
    "                \n",
    "                #Takes the first note of the chords\n",
    "                measureInt.append(elem.notes[-1])\n",
    "                allInfo.append(elem.notes[-1])\n",
    "                melNotes.append(elem.notes[-1])\n",
    "                for c in elem.notes:\n",
    "                    notes.append(c.nameWithOctave)\n",
    "            elif elem.isRest:\n",
    "                restsDur+=elem.duration.quarterLength\n",
    "        newMeasure[e.number].append(measureInt) \n",
    "        measures.append(newMeasure)\n",
    "    rests.append(notesDur)\n",
    "    rests.append(restsDur)\n",
    "    partList['melodynotes'] = melNotes\n",
    "    partList['notes'] = notes\n",
    "    partList['chords'] = chords\n",
    "    partList['rests'] = rests\n",
    "    partList['intervals'] = find_intervals(allInfo)\n",
    "    \n",
    "    return measures"
   ]
  },
  {
   "cell_type": "code",
   "execution_count": 85,
   "id": "0dec368a",
   "metadata": {},
   "outputs": [],
   "source": [
    "def get_measure_and_notes(part):\n",
    "    measures = []\n",
    "    detailed_seq = [] #Whole note part sequence without meassure markings\n",
    "    for e in part.getElementsByClass('Measure'):\n",
    "        newMeasure = {}        \n",
    "        newMeasure[e.number] = list(e.notesAndRests.elements)\n",
    "        \n",
    "        for elem in newMeasure[e.number]:\n",
    "            if elem.isNote:\n",
    "                detailed_seq.append((e.number, elem.pitch.name, elem.pitch.octave, elem.duration.quarterLength))\n",
    "                #detailed_seq.append(str(elem.nameWithOctave) + '_'+ str(elem.duration.quarterLength))\n",
    "                #print(elem.offset)\n",
    "            elif elem.isChord and '<music21.harmony.ChordSymbol' not in str(elem):\n",
    "                notes = []\n",
    "                for c in elem.notes:\n",
    "                    notes.append((e.number, c.pitch.name, c.pitch.octave, c.duration.quarterLength))\n",
    "                detailed_seq.append(notes)\n",
    "            elif elem.isRest:\n",
    "                detailed_seq.append((e.number, str(elem.name) + '_'+ str(elem.duration.quarterLength)))\n",
    "        \n",
    "        measures.append(newMeasure)\n",
    "    #print(detailed_seq)\n",
    "    return detailed_seq\n"
   ]
  },
  {
   "cell_type": "markdown",
   "id": "5f61be4f",
   "metadata": {},
   "source": [
    "* Kuidas märkida muutuva taktimõõdu või muutuva tempo korral? Kõik taktimõõdud üle partii märgitakse üles.\n",
    "\n",
    "* Kuidas märkida parima tulemusega helistik? - Helistikke leitakse kahe algoritmiga, Krumhansl ja AardenEssen - kui tulemused on erinevad, siis pannakse mõlemad tabelisse sisse, kontroll sharpside osas ja teha n-ö 1. valik ja 2. valik\n",
    "\n",
    "* Tempo määramine - sõnastiku järgi kui on sõna, numbri järgi kui on number Checki mitmeid numbereid sõna vastu (sõnastik tempode märkidest"
   ]
  },
  {
   "cell_type": "code",
   "execution_count": 86,
   "id": "ca87f00d",
   "metadata": {},
   "outputs": [],
   "source": [
    "def gather_part_info(note, noteName, note_id):\n",
    "    allNote = [] #Every part of the instrument is collected here\n",
    "    for el in note.elements: #Iga part eraldi el = PartStaff\n",
    "        \n",
    "        #Basic info\n",
    "        partList = {}\n",
    "        partList['note_id'] = note_id\n",
    "        partList['sheet_name'] = noteName\n",
    "        partList['partName'] = el.partName \n",
    "        partList['sharps'] = el[1].keySignature.sharps #1. taktist saab helistiku märgid kätte.\n",
    "        partList['bpm'] = \"None\"\n",
    "        \n",
    "        #Find the key\n",
    "        try:\n",
    "            if el.analyze('Krumhansl') == el.analyze('AardenEssen'):\n",
    "                partList['key'] = el.analyze('Krumhansl').name  #MusicXML enda tuvastusalgoritm (ei ole alati täpne)\n",
    "            else:\n",
    "                partList['key'] = str(el.analyze('Krumhansl').name) + \"  /  \" +  str(el.analyze('AardenEssen')) #TODO: Check against dictionary\n",
    "        except:\n",
    "            partList['key'] = \"None\"\n",
    "            \n",
    "        #Find time signature\n",
    "        time_signatures = []\n",
    "        for i in (el['TimeSignature']):\n",
    "            time_signatures.append(str(i.numerator) + '/' + str(i.denominator))\n",
    "        if len(set(time_signatures)) == 0:\n",
    "            partList['time_signature'] = \"None\"\n",
    "        elif len(set(time_signatures)) == 1:\n",
    "            partList['time_signature'] = time_signatures[0]\n",
    "        else:\n",
    "            partList['time_signature'] = set(time_signatures)\n",
    "        \n",
    "        #Find the Metronome\n",
    "        metronome = []\n",
    "        for i in el['MetronomeMark']: #TODO: Check against dictionary\n",
    "            metronome.append(str(i.number))\n",
    "        if len(set(metronome)) == 0:\n",
    "            partList['bpm (quarter note)'] = \"None\" #MuseScore gives a default of 120.\n",
    "        elif len(set(metronome)) == 1:\n",
    "            partList['bpm (quarter note)'] = metronome[0]\n",
    "        else:\n",
    "            partList['bpm (quarter note)'] = set(metronome)\n",
    "            \n",
    "        #Find the clef\n",
    "        partList['clef'] = el[1].clef.name\n",
    "        partList['measures'] = get_measure_and_notes(el)\n",
    "        #print(partList['measures'])\n",
    "        allNote.append(partList)\n",
    "    return allNote"
   ]
  },
  {
   "cell_type": "code",
   "execution_count": 87,
   "id": "7f8fa85a",
   "metadata": {},
   "outputs": [
    {
     "name": "stdout",
     "output_type": "stream",
     "text": [
      "[{'note_id': 2, 'sheet_name': 'chopin', 'partName': 'Piano', 'sharps': 1, 'bpm': 'None', 'key': 'E minor', 'time_signature': '4/4', 'bpm (quarter note)': '72.0', 'clef': 'treble', 'measures': [(1, 'E', 4, 0.5), (1, 'B', 3, 0.5), (1, 'F#', 4, 0.5), (1, 'B', 3, 0.5), (1, 'G', 4, 0.5), (1, 'B', 3, 0.5), (1, 'B', 4, 0.5), (1, 'B', 3, 0.5), (2, 'E', 4, 0.5), (2, 'C', 4, 0.5), (2, 'F#', 4, 0.5), (2, 'C', 4, 0.5), (2, 'G', 4, 0.5), (2, 'C', 4, 0.5), (2, 'B', 4, 0.5), (2, 'C', 4, 0.5), (3, 'E', 4, 0.5), (3, 'C#', 4, 0.5), (3, 'F#', 4, 0.5), (3, 'C#', 4, 0.5), (3, 'G', 4, 0.5), (3, 'C#', 4, 0.5), (3, 'B', 4, 0.5), (3, 'C#', 4, 0.5), (4, 'D#', 4, 0.5), (4, 'B', 3, 0.5), (4, 'E', 4, 0.5), (4, 'B', 3, 0.5), (4, 'F#', 4, 2.0), [(5, 'E', 4, 1.0), (5, 'E', 5, 1.0)], [(5, 'F#', 4, 1.0), (5, 'F#', 5, 1.0)], [(5, 'G', 4, 1.0), (5, 'G', 5, 1.0)], [(5, 'B', 4, 1.0), (5, 'B', 5, 1.0)], [(6, 'E', 4, 1.0), (6, 'E', 5, 1.0)], [(6, 'F#', 4, 1.0), (6, 'F#', 5, 1.0)], [(6, 'G', 4, 1.0), (6, 'G', 5, 1.0)], [(6, 'B', 4, 1.0), (6, 'B', 5, 1.0)], [(7, 'E', 4, 1.0), (7, 'E', 5, 1.0)], [(7, 'F#', 4, 1.0), (7, 'F#', 5, 1.0)], [(7, 'G', 4, 1.0), (7, 'G', 5, 1.0)], [(7, 'B', 4, 0.5), (7, 'B', 5, 0.5)], (7, 'C', 5, 0.5), [(8, 'B', 3, 4.0), (8, 'F#', 4, 4.0), (8, 'B', 4, 4.0)], (9, 'rest_1.0'), (9, 'E', 5, 1.0), (9, 'D', 5, 1.0), (9, 'D', 5, 0.5), (9, 'C', 5, 0.25), (9, 'B', 4, 0.25), (10, 'B', 4, 1.0), (10, 'rest_1.0'), (10, 'C', 6, 0.5), (10, 'E', 6, 0.5), (10, 'G', 6, 0.5), (10, 'F#', 6, 0.5), (11, 'F#', 6, 1.0), (11, 'E', 5, 1.0), (11, 'F#', 5, 1.0), (11, 'F#', 5, 0.5), (11, 'G', 5, 0.25), (11, 'E', 5, 0.25), (12, 'E', 5, 1.0), (12, 'rest_1.0'), (12, 'B', 6, 0.5), (12, 'A', 6, 0.5), (12, 'G', 6, 0.5), (12, 'F#', 6, 0.5), (13, 'F#', 6, 1.0), (13, 'E', 5, 1.0), (13, 'D', 5, 1.0), (13, 'D', 5, 0.5), (13, 'C', 5, 0.25), (13, 'B', 4, 0.25), (14, 'B', 4, 2.0), (14, 'rest_1.0'), (14, 'B', 4, 0.5), (14, 'C', 5, 0.25), (14, 'B', 4, 0.25), (15, 'B', 4, 0.5), (15, 'C', 5, 0.25), (15, 'B', 4, 0.25), (15, 'B', 4, 0.5), (15, 'C', 5, 0.25), (15, 'B', 4, 0.25), (15, 'B', 4, 0.5), (15, 'C', 5, 0.25), (15, 'B', 4, 0.25), (15, 'B', 4, 0.5), (15, 'G', 4, 0.25), (15, 'G', 4, 0.25), (16, 'G', 4, 0.5), (16, 'F#', 4, 0.5), (16, 'F#', 4, 3.0), (17, 'rest_1.0'), [(17, 'E', 5, 1.0), (17, 'E', 6, 1.0)], [(17, 'D', 5, 1.0), (17, 'D', 6, 1.0)], [(17, 'D', 5, 0.5), (17, 'D', 6, 0.5)], [(17, 'C', 5, 0.25), (17, 'C', 6, 0.25)], [(17, 'B', 4, 0.25), (17, 'B', 5, 0.25)], [(18, 'B', 4, 1.0), (18, 'B', 5, 1.0)], (18, 'rest_1.0'), (18, 'C', 4, 0.5), (18, 'E', 4, 0.5), (18, 'F#', 4, 0.5), (18, 'G', 4, 0.5), (19, 'F#', 4, 1.0), [(19, 'D', 5, 0.25), (19, 'D', 6, 0.25)], [(19, 'E', 5, 0.75), (19, 'E', 6, 0.75)], [(19, 'F#', 5, 1.0), (19, 'F#', 6, 1.0)], [(19, 'F#', 5, 0.5), (19, 'F#', 6, 0.5)], [(19, 'G', 5, 0.25), (19, 'G', 6, 0.25)], [(19, 'E', 5, 0.25), (19, 'E', 6, 0.25)], [(20, 'E', 5, 1.0), (20, 'E', 6, 1.0)], (20, 'rest_1.0'), (20, 'B', 4, 0.5), (20, 'A', 4, 0.5), (20, 'G', 4, 0.5), (20, 'F#', 4, 0.5), (21, 'F#', 4, 1.0), [(21, 'E', 5, 1.0), (21, 'E', 6, 1.0)], [(21, 'D', 5, 1.0), (21, 'D', 6, 1.0)], [(21, 'D', 5, 0.5), (21, 'D', 6, 0.5)], [(21, 'C', 5, 0.25), (21, 'C', 6, 0.25)], [(21, 'B', 4, 0.25), (21, 'B', 5, 0.25)], [(22, 'B', 4, 0.5), (22, 'B', 5, 0.5)], [(22, 'A', 4, 0.5), (22, 'A', 5, 0.5)], [(22, 'A', 4, 1.0), (22, 'A', 5, 1.0)], (22, 'rest_0.5'), [(22, 'A', 4, 0.25), (22, 'A', 5, 0.25)], [(22, 'B', 4, 0.25), (22, 'B', 5, 0.25)], [(22, 'B', 4, 0.5), (22, 'B', 5, 0.5)], [(22, 'C', 5, 0.25), (22, 'C', 6, 0.25)], [(22, 'B', 4, 0.25), (22, 'B', 5, 0.25)], (23, 'G', 5, 0.25), (23, 'E', 5, 0.25), [(23, 'C', 5, 0.25), (23, 'C', 6, 0.25)], [(23, 'B', 4, 0.25), (23, 'B', 5, 0.25)], (23, 'G', 5, 0.25), (23, 'E', 5, 0.25), [(23, 'C', 5, 0.25), (23, 'C', 6, 0.25)], [(23, 'B', 4, 0.25), (23, 'B', 5, 0.25)], (23, 'G', 5, 0.25), (23, 'E', 5, 0.25), [(23, 'C', 5, 0.25), (23, 'C', 6, 0.25)], [(23, 'B', 4, 0.25), (23, 'B', 5, 0.25)], (23, 'G', 5, 0.25), (23, 'E', 5, 0.25), [(23, 'G', 4, 0.25), (23, 'G', 5, 0.25)], [(23, 'F#', 4, 0.25), (23, 'F#', 5, 0.25)], [(24, 'F#', 4, 2.0), (24, 'F#', 5, 2.0)], (24, 'rest_1.0'), [(24, 'F#', 4, 0.25), (24, 'F#', 5, 0.25)], [(24, 'G', 4, 0.75), (24, 'G', 5, 0.75)], [(25, 'A', 4, 0.5), (25, 'A', 5, 0.5)], [(25, 'G', 4, 0.5), (25, 'G', 5, 0.5)], [(25, 'G', 4, 0.5), (25, 'G', 5, 0.5)], [(25, 'F#', 4, 0.25), (25, 'F#', 5, 0.25)], [(25, 'G', 4, 0.25), (25, 'G', 5, 0.25)], [(25, 'G', 4, 0.5), (25, 'G', 5, 0.5)], [(25, 'E', 4, 0.5), (25, 'E', 5, 0.5)], [(25, 'F#', 4, 0.25), (25, 'F#', 5, 0.25)], [(25, 'G', 4, 0.75), (25, 'G', 5, 0.75)], [(26, 'A', 4, 0.5), (26, 'C', 5, 0.5), (26, 'A', 5, 0.5)], [(26, 'G', 4, 0.5), (26, 'B', 4, 0.5), (26, 'G', 5, 0.5)], [(26, 'G', 4, 0.5), (26, 'B', 4, 0.5), (26, 'G', 5, 0.5)], [(26, 'F#', 4, 0.25), (26, 'A', 4, 0.25), (26, 'F#', 5, 0.25)], [(26, 'G', 4, 0.25), (26, 'B', 4, 0.25), (26, 'G', 5, 0.25)], [(26, 'G', 4, 1.5), (26, 'B', 4, 1.5), (26, 'G', 5, 1.5)], [(26, 'F#', 4, 0.25), (26, 'A', 4, 0.25), (26, 'F#', 5, 0.25)], [(26, 'G', 4, 0.25), (26, 'B', 4, 0.25), (26, 'G', 5, 0.25)], [(27, 'A', 4, 0.5), (27, 'C', 5, 0.5), (27, 'A', 5, 0.5)], [(27, 'G', 4, 0.5), (27, 'B', 4, 0.5), (27, 'G', 5, 0.5)], [(27, 'G', 4, 0.75), (27, 'B', 4, 0.75), (27, 'G', 5, 0.75)], [(27, 'A', 4, 0.25), (27, 'A', 5, 0.25)], [(27, 'B', 4, 0.5), (27, 'B', 5, 0.5)], [(27, 'C', 5, 0.25), (27, 'C', 6, 0.25)], [(27, 'B', 4, 0.25), (27, 'B', 5, 0.25)], [(27, 'B', 4, 0.25), (27, 'B', 5, 0.25)], [(27, 'C', 5, 0.25), (27, 'C', 6, 0.25)], [(27, 'B', 4, 0.5), (27, 'B', 5, 0.5)], [(28, 'B', 4, 2.0), (28, 'B', 5, 2.0)], (28, 'rest_0.5'), (28, 'D#', 5, 0.25), (28, 'F#', 5, 0.25), [(28, 'B', 4, 0.5), (28, 'B', 5, 0.5)], [(28, 'G', 5, 0.5), (28, 'G', 6, 0.5)], [(29, 'F#', 5, 1.5), (29, 'B', 5, 1.5), (29, 'F#', 6, 1.5)], [(29, 'B', 4, 0.25), (29, 'B', 5, 0.25)], [(29, 'E', 5, 0.25), (29, 'G', 5, 0.25), (29, 'E', 6, 0.25)], [(29, 'E', 5, 1.5), (29, 'G', 5, 1.5), (29, 'E', 6, 1.5)], [(29, 'C', 5, 0.25), (29, 'C', 6, 0.25)], [(29, 'B', 4, 0.25), (29, 'E', 5, 0.25), (29, 'B', 5, 0.25)], [(30, 'B', 4, 0.25), (30, 'E', 5, 0.25), (30, 'B', 5, 0.25)], [(30, 'A', 4, 0.75), (30, 'A', 5, 0.75)], (30, 'rest_1.0'), (30, 'rest_1.0'), [(30, 'B', 4, 0.5), (30, 'B', 5, 0.5)], [(30, 'G', 5, 0.5), (30, 'G', 6, 0.5)], [(31, 'F#', 5, 1.5), (31, 'B', 5, 1.5), (31, 'F#', 6, 1.5)], [(31, 'E', 5, 0.25), (31, 'E', 6, 0.25)], [(31, 'G', 5, 0.25), (31, 'B', 5, 0.25), (31, 'G', 6, 0.25)], [(31, 'G', 5, 1.5), (31, 'B', 5, 1.5), (31, 'G', 6, 1.5)], [(31, 'A', 5, 0.25), (31, 'A', 6, 0.25)], [(31, 'A', 5, 0.25), (31, 'C', 6, 0.25), (31, 'A', 6, 0.25)], [(32, 'A', 5, 0.25), (32, 'C', 6, 0.25), (32, 'A', 6, 0.25)], [(32, 'G', 5, 0.25), (32, 'G', 6, 0.25)], [(32, 'E', 5, 0.5), (32, 'E', 6, 0.5)], (32, 'rest_1.0'), (32, 'rest_1.0'), [(32, 'B', 4, 0.5), (32, 'B', 5, 0.5)], [(32, 'C', 5, 0.25), (32, 'C', 6, 0.25)], [(32, 'B', 4, 0.25), (32, 'E', 5, 0.25), (32, 'G', 5, 0.25), (32, 'B', 5, 0.25)], [(33, 'B', 4, 1.0), (33, 'E', 5, 1.0), (33, 'G', 5, 1.0), (33, 'B', 5, 1.0)], [(33, 'G', 4, 0.5), (33, 'G', 5, 0.5)], [(33, 'A', 4, 0.25), (33, 'A', 5, 0.25)], [(33, 'E', 4, 0.25), (33, 'G', 4, 0.25), (33, 'B', 4, 0.25), (33, 'E', 5, 0.25)], [(33, 'E', 4, 1.0), (33, 'G', 4, 1.0), (33, 'B', 4, 1.0), (33, 'E', 5, 1.0)], [(33, 'B', 4, 0.5), (33, 'B', 5, 0.5)], [(33, 'C', 5, 0.25), (33, 'C', 6, 0.25)], [(33, 'B', 4, 0.25), (33, 'E', 5, 0.25), (33, 'G', 5, 0.25), (33, 'B', 5, 0.25)], [(34, 'B', 4, 0.5), (34, 'E', 5, 0.5), (34, 'G', 5, 0.5), (34, 'B', 5, 0.5)], [(34, 'A', 4, 0.25), (34, 'A', 5, 0.25)], [(34, 'D', 5, 0.25), (34, 'D', 6, 0.25)], [(34, 'D', 5, 0.5), (34, 'D', 6, 0.5)], [(34, 'C', 5, 0.25), (34, 'C', 6, 0.25)], [(34, 'B', 4, 0.25), (34, 'B', 5, 0.25)], [(34, 'B', 4, 1.0), (34, 'B', 5, 1.0)], [(34, 'G', 4, 0.5), (34, 'G', 5, 0.5)], [(34, 'A', 4, 0.25), (34, 'A', 5, 0.25)], [(34, 'B', 4, 0.25), (34, 'B', 5, 0.25)], [(35, 'B', 4, 1.0), (35, 'B', 5, 1.0)], [(35, 'G', 4, 1.0), (35, 'G', 5, 1.0)], [(35, 'F#', 4, 1.0), (35, 'F#', 5, 1.0)], (35, 'rest_0.5'), [(35, 'D', 4, 0.25), (35, 'D', 5, 0.25)], [(35, 'E', 4, 0.25), (35, 'E', 5, 0.25)], [(36, 'E', 4, 1.0), (36, 'E', 5, 1.0)], (36, 'rest_0.5'), [(36, 'G', 4, 0.5), (36, 'G', 5, 0.5)], [(36, 'F#', 4, 0.5), (36, 'C', 5, 0.5), (36, 'E', 5, 0.5), (36, 'F#', 5, 0.5)], [(36, 'G', 4, 0.5), (36, 'C', 5, 0.5), (36, 'E', 5, 0.5), (36, 'G', 5, 0.5)], [(36, 'F#', 4, 0.5), (36, 'C', 5, 0.5), (36, 'E', 5, 0.5), (36, 'F#', 5, 0.5)], [(36, 'G', 4, 0.25), (36, 'C', 5, 0.25), (36, 'E', 5, 0.25), (36, 'G', 5, 0.25)], [(36, 'E', 4, 0.25), (36, 'G', 4, 0.25), (36, 'B', 4, 0.25), (36, 'E', 5, 0.25)], [(37, 'E', 4, 0.25), (37, 'G', 4, 0.25), (37, 'B', 4, 0.25), (37, 'E', 5, 0.25)], (37, 'G', 3, 0.25), (37, 'B', 3, 0.25), (37, 'G', 3, 0.25), [(37, 'F#', 3, 0.25), (37, 'F#', 4, 0.25)], (37, 'B', 3, 0.25), (37, 'E', 4, 0.25), (37, 'B', 3, 0.25), [(37, 'G', 3, 0.25), (37, 'G', 4, 0.25)], (37, 'B', 3, 0.25), (37, 'E', 4, 0.25), (37, 'B', 3, 0.25), [(37, 'B', 3, 0.25), (37, 'B', 4, 0.25)], (37, 'E', 4, 0.25), (37, 'G', 4, 0.25), (37, 'E', 4, 0.25), [(38, 'E', 3, 0.25), (38, 'E', 4, 0.25)], (38, 'G', 3, 0.25), (38, 'C', 4, 0.25), (38, 'G', 3, 0.25), [(38, 'F#', 3, 0.25), (38, 'F#', 4, 0.25)], (38, 'C', 4, 0.25), (38, 'E', 4, 0.25), (38, 'C', 4, 0.25), [(38, 'G', 3, 0.25), (38, 'G', 4, 0.25)], (38, 'C', 4, 0.25), (38, 'E', 4, 0.25), (38, 'C', 4, 0.25), [(38, 'B', 3, 0.25), (38, 'B', 4, 0.25)], (38, 'E', 4, 0.25), (38, 'G', 4, 0.25), (38, 'E', 4, 0.25), [(39, 'E', 3, 0.25), (39, 'E', 4, 0.25)], (39, 'G', 3, 0.25), (39, 'C#', 4, 0.25), (39, 'G', 3, 0.25), [(39, 'F#', 3, 0.25), (39, 'F#', 4, 0.25)], (39, 'A', 3, 0.25), (39, 'C#', 4, 0.25), (39, 'A', 3, 0.25), [(39, 'G', 3, 0.25), (39, 'G', 4, 0.25)], (39, 'C#', 4, 0.25), (39, 'E', 4, 0.25), (39, 'C#', 4, 0.25), [(39, 'B', 3, 0.25), (39, 'B', 4, 0.25)], (39, 'E', 4, 0.25), (39, 'G', 4, 0.25), (39, 'E', 4, 0.25), [(40, 'A', 3, 0.25), (40, 'D#', 4, 0.25), (40, 'A', 4, 0.25)], [(40, 'A', 3, 0.25), (40, 'D#', 4, 0.25), (40, 'A', 4, 0.25)], [(40, 'A', 3, 0.25), (40, 'D#', 4, 0.25), (40, 'A', 4, 0.25)], [(40, 'A', 3, 0.25), (40, 'D#', 4, 0.25), (40, 'A', 4, 0.25)], [(40, 'A', 3, 0.25), (40, 'E', 4, 0.25), (40, 'A', 4, 0.25)], [(40, 'A', 3, 0.25), (40, 'E', 4, 0.25), (40, 'A', 4, 0.25)], [(40, 'A', 3, 0.25), (40, 'E', 4, 0.25), (40, 'A', 4, 0.25)], [(40, 'A', 3, 0.25), (40, 'E', 4, 0.25), (40, 'A', 4, 0.25)], [(40, 'A', 3, 0.25), (40, 'F#', 4, 0.25), (40, 'A', 4, 0.25)], [(40, 'A', 3, 0.25), (40, 'F#', 4, 0.25), (40, 'A', 4, 0.25)], [(40, 'A', 3, 0.25), (40, 'F#', 4, 0.25), (40, 'A', 4, 0.25)], [(40, 'A', 3, 0.25), (40, 'F#', 4, 0.25), (40, 'A', 4, 0.25)], [(40, 'A', 3, 0.25), (40, 'F#', 4, 0.25), (40, 'A', 4, 0.25)], [(40, 'A', 3, 0.25), (40, 'F#', 4, 0.25), (40, 'A', 4, 0.25)], [(40, 'A', 3, 0.25), (40, 'F#', 4, 0.25), (40, 'A', 4, 0.25)], [(40, 'A', 3, 0.25), (40, 'F#', 4, 0.25), (40, 'A', 4, 0.25)], (41, 'rest_0.25'), (41, 'G', 4, 0.25), (41, 'B', 4, 0.25), (41, 'G', 4, 0.25), (41, 'E', 5, 0.25), (41, 'G', 4, 0.25), (41, 'B', 4, 0.25), (41, 'G', 4, 0.25), (41, 'D', 5, 0.25), (41, 'E', 4, 0.25), (41, 'G', 4, 0.25), (41, 'E', 4, 0.25), (41, 'G', 4, 0.25), (41, 'E', 4, 0.25), (41, 'C', 5, 0.25), (41, 'B', 4, 0.25), (42, 'B', 4, 0.25), (42, 'C#', 4, 0.25), (42, 'A', 4, 0.25), (42, 'C#', 4, 0.25), (42, 'E', 4, 0.25), (42, 'C#', 4, 0.25), (42, 'E', 4, 0.25), (42, 'C#', 4, 0.25), (42, 'E', 4, 0.25), (42, 'C#', 4, 0.25), (42, 'E', 4, 0.25), (42, 'C#', 4, 0.25), (42, 'F#', 4, 0.25), (42, 'C#', 4, 0.25), (42, 'G', 4, 0.25), (42, 'C#', 4, 0.25), (43, 'F#', 4, 0.25), (43, 'G', 4, 0.25), (43, 'B', 4, 0.25), (43, 'G', 4, 0.25), (43, 'D', 5, 0.25), (43, 'G', 4, 0.25), (43, 'E', 5, 0.25), (43, 'G', 4, 0.25), (43, 'F#', 5, 0.25), (43, 'G', 4, 0.25), (43, 'E', 5, 0.25), (43, 'G', 4, 0.25), (43, 'F#', 5, 0.25), (43, 'G', 4, 0.25), (43, 'G', 5, 0.25), (43, 'E', 5, 0.25), (44, 'E', 5, 0.25), (44, 'E', 4, 0.25), (44, 'A', 4, 0.25), (44, 'E', 4, 0.25), (44, 'C#', 5, 0.25), (44, 'E', 4, 0.25), (44, 'D', 5, 0.25), (44, 'C#', 5, 0.25), (44, 'B', 4, 0.25), (44, 'C', 4, 0.25), (44, 'A', 4, 0.25), (44, 'C', 4, 0.25), (44, 'G', 4, 0.25), (44, 'C', 4, 0.25), (44, 'F#', 4, 0.25), (44, 'C', 4, 0.25), (45, 'E', 4, 0.25), (45, 'F#', 4, 0.25), (45, 'G', 4, 0.25), (45, 'B', 4, 0.25), (45, 'D', 5, 0.25), (45, 'G', 4, 0.25), (45, 'E', 5, 0.25), (45, 'G', 4, 0.25), (45, 'D', 5, 0.25), (45, 'E', 4, 0.25), (45, 'C', 5, 0.25), (45, 'E', 4, 0.25), (45, 'B', 4, 0.25), (45, 'E', 4, 0.25), (45, 'C', 5, 0.25), (45, 'B', 4, 0.25), (46, 'B', 4, 0.25), (46, 'C#', 4, 0.25), (46, 'E', 4, 0.25), (46, 'C#', 4, 0.25), (46, 'A', 4, 0.25), (46, 'C#', 4, 0.25), (46, 'E', 4, 0.25), (46, 'C#', 4, 0.25), (46, 'C', 4, 0.25), (46, 'E', 4, 0.25), (46, 'A', 4, 0.25), (46, 'E', 4, 0.25), (46, 'B', 4, 0.25), (46, 'E', 4, 0.25), (46, 'C', 5, 0.25), (46, 'B', 4, 0.25), (47, 'B', 4, 0.25), (47, 'E', 4, 0.25), (47, 'C', 5, 0.25), (47, 'B', 4, 0.25), [(47, 'E', 5, 1.0), (47, 'E', 6, 1.0)], [(47, 'F#', 5, 1.0), (47, 'F#', 6, 1.0)], [(47, 'G', 5, 0.5), (47, 'G', 6, 0.5)], [(47, 'E', 4, 0.25), (47, 'G', 4, 0.25), (47, 'E', 5, 0.25)], [(47, 'E', 4, 0.25), (47, 'G', 4, 0.25), (47, 'E', 5, 0.25)], [(48, 'E', 4, 0.5), (48, 'G', 4, 0.5), (48, 'E', 5, 0.5)], [(48, 'F#', 4, 1.5), (48, 'A', 4, 1.5), (48, 'F#', 5, 1.5)], (48, 'rest_1.0'), [(48, 'B', 4, 0.5), (48, 'B', 5, 0.5)], [(48, 'G', 5, 0.5), (48, 'B', 5, 0.5), (48, 'G', 6, 0.5)], [(49, 'F#', 5, 1.5), (49, 'A', 5, 1.5), (49, 'F#', 6, 1.5)], [(49, 'B', 4, 0.25), (49, 'E', 5, 0.25), (49, 'B', 5, 0.25)], [(49, 'E', 5, 0.25), (49, 'G', 5, 0.25), (49, 'E', 6, 0.25)], [(49, 'E', 5, 1.5), (49, 'G', 5, 1.5), (49, 'E', 6, 1.5)], [(49, 'C', 5, 0.25), (49, 'E', 5, 0.25), (49, 'C', 6, 0.25)], [(49, 'B', 4, 0.25), (49, 'E', 5, 0.25), (49, 'B', 5, 0.25)], [(50, 'B', 4, 0.5), (50, 'E', 5, 0.5), (50, 'B', 5, 0.5)], [(50, 'A', 4, 0.5), (50, 'A', 5, 0.5)], (50, 'rest_1.0'), (50, 'rest_1.0'), [(50, 'B', 4, 0.5), (50, 'B', 5, 0.5)], [(50, 'G', 5, 0.5), (50, 'B', 5, 0.5), (50, 'G', 6, 0.5)], [(51, 'F#', 5, 1.5), (51, 'A', 5, 1.5), (51, 'F#', 6, 1.5)], [(51, 'E', 5, 0.25), (51, 'G', 5, 0.25), (51, 'E', 6, 0.25)], [(51, 'G', 5, 0.25), (51, 'B', 5, 0.25), (51, 'G', 6, 0.25)], [(51, 'G', 5, 1.5), (51, 'B', 5, 1.5), (51, 'G', 6, 1.5)], [(51, 'A', 5, 0.25), (51, 'C', 6, 0.25), (51, 'A', 6, 0.25)], [(51, 'A', 5, 0.25), (51, 'C', 6, 0.25), (51, 'A', 6, 0.25)], [(52, 'A', 5, 0.25), (52, 'C', 6, 0.25), (52, 'A', 6, 0.25)], [(52, 'G', 5, 0.25), (52, 'B', 5, 0.25), (52, 'G', 6, 0.25)], [(52, 'E', 5, 0.5), (52, 'G', 5, 0.5), (52, 'E', 6, 0.5)], (52, 'rest_1.0'), (52, 'rest_1.0'), (52, 'B', 5, 0.5), (52, 'C', 6, 0.25), (52, 'B', 5, 0.25), (53, 'B', 5, 0.25), (53, 'B', 4, 0.25), (53, 'E', 5, 0.25), (53, 'B', 4, 0.25), (53, 'G', 5, 0.25), (53, 'B', 4, 0.25), (53, 'A', 5, 0.25), (53, 'E', 5, 0.25), (53, 'E', 5, 0.25), (53, 'C', 5, 0.25), (53, 'E', 5, 0.25), (53, 'C', 5, 0.25), (53, 'B', 5, 0.25), (53, 'C', 5, 0.25), (53, 'C', 6, 0.25), (53, 'B', 5, 0.25), (54, 'B', 5, 0.25), (54, 'E', 5, 0.25), (54, 'A', 5, 0.25), (54, 'D', 6, 0.25), (54, 'D', 6, 0.25), (54, 'E', 5, 0.25), (54, 'C', 6, 0.25), (54, 'B', 5, 0.25), (54, 'B', 5, 0.25), (54, 'C', 5, 0.25), (54, 'A', 5, 0.25), (54, 'G', 5, 0.25), (54, 'G', 5, 0.25), (54, 'C', 5, 0.25), (54, 'A', 5, 0.25), (54, 'B', 5, 0.25), (55, 'B', 5, 0.25), (55, 'B', 4, 0.25), (55, 'E', 5, 0.25), (55, 'B', 4, 0.25), (55, 'G', 5, 0.25), (55, 'B', 4, 0.25), (55, 'E', 5, 0.25), (55, 'B', 4, 0.25), (55, 'F#', 5, 0.25), (55, 'G', 4, 0.25), (55, 'C', 5, 0.25), (55, 'G', 4, 0.25), (55, 'F#', 4, 0.25), (55, 'G', 4, 0.25), (55, 'D', 5, 0.25), (55, 'E', 5, 0.25), (56, 'E', 5, 0.25), (56, 'C', 5, 0.25), (56, 'A', 4, 0.25), (56, 'C', 5, 0.25), (56, 'E', 5, 0.25), (56, 'C', 5, 0.25), [(56, 'G', 4, 0.25), (56, 'G', 5, 0.25)], (56, 'C', 5, 0.25), [(56, 'F#', 4, 0.25), (56, 'F#', 5, 0.25)], (56, 'C', 5, 0.25), [(56, 'G', 4, 0.25), (56, 'G', 5, 0.25)], (56, 'C', 5, 0.25), [(56, 'F#', 4, 0.25), (56, 'F#', 5, 0.25)], (56, 'C', 5, 0.25), [(56, 'G', 4, 0.25), (56, 'G', 5, 0.25)], [(56, 'E', 4, 0.25), (56, 'E', 5, 0.25)], [(57, 'E', 4, 0.25), (57, 'E', 5, 0.25)], (57, 'G', 4, 0.25), (57, 'B', 4, 0.25), (57, 'G', 4, 0.25), [(57, 'F#', 4, 0.25), (57, 'F#', 5, 0.25)], (57, 'B', 4, 0.25), (57, 'E', 5, 0.25), (57, 'B', 4, 0.25), [(57, 'G', 4, 0.25), (57, 'G', 5, 0.25)], (57, 'B', 4, 0.25), (57, 'E', 5, 0.25), (57, 'B', 4, 0.25), [(57, 'B', 4, 0.25), (57, 'B', 5, 0.25)], (57, 'E', 5, 0.25), (57, 'G', 5, 0.25), (57, 'E', 5, 0.25), [(58, 'E', 4, 0.25), (58, 'E', 5, 0.25)], (58, 'G', 4, 0.25), (58, 'C', 5, 0.25), (58, 'G', 4, 0.25), [(58, 'F#', 4, 0.25), (58, 'F#', 5, 0.25)], (58, 'C', 5, 0.25), (58, 'E', 5, 0.25), (58, 'C', 5, 0.25), [(58, 'G', 4, 0.5), (58, 'G', 5, 0.5)], [(58, 'G', 5, 0.5), (58, 'G', 6, 0.5)], [(58, 'F#', 5, 0.5), (58, 'F#', 6, 0.5)], [(58, 'G', 5, 0.25), (58, 'G', 6, 0.25)], [(58, 'A', 5, 0.25), (58, 'C', 6, 0.25), (58, 'E', 6, 0.25), (58, 'A', 6, 0.25)], [(59, 'A', 5, 0.25), (59, 'C', 6, 0.25), (59, 'E', 6, 0.25), (59, 'A', 6, 0.25)], [(59, 'G', 5, 0.25), (59, 'G', 6, 0.25)], [(59, 'E', 5, 0.5), (59, 'G', 5, 0.5), (59, 'C#', 6, 0.5), (59, 'E', 6, 0.5)], [(59, 'E', 4, 0.25), (59, 'E', 5, 0.25)], (59, 'A', 4, 0.25), (59, 'C#', 5, 0.25), (59, 'A', 4, 0.25), [(59, 'G', 4, 0.25), (59, 'G', 5, 0.25)], (59, 'C#', 5, 0.25), (59, 'E', 5, 0.25), (59, 'C#', 5, 0.25), [(59, 'B', 4, 0.25), (59, 'B', 5, 0.25)], (59, 'E', 5, 0.25), (59, 'G', 5, 0.25), (59, 'E', 5, 0.25), [(60, 'D#', 4, 0.25), (60, 'D#', 5, 0.25)], (60, 'F#', 4, 0.25), (60, 'A', 4, 0.25), (60, 'F#', 4, 0.25), [(60, 'E', 4, 0.25), (60, 'E', 5, 0.25)], (60, 'A', 4, 0.25), (60, 'B', 4, 0.25), (60, 'A', 4, 0.25), [(60, 'F#', 4, 0.5), (60, 'F#', 5, 0.5)], [(60, 'G', 4, 0.5), (60, 'G', 5, 0.5)], [(60, 'F#', 4, 0.5), (60, 'F#', 5, 0.5)], [(60, 'G', 4, 0.25), (60, 'G', 5, 0.25)], [(60, 'B', 4, 0.25), (60, 'E', 5, 0.25), (60, 'G', 5, 0.25), (60, 'B', 5, 0.25)], [(61, 'B', 4, 0.5), (61, 'E', 5, 0.5), (61, 'G', 5, 0.5), (61, 'B', 5, 0.5)], [(61, 'E', 4, 0.25), (61, 'G', 4, 0.25), (61, 'B', 4, 0.25), (61, 'E', 5, 0.25)], [(61, 'E', 4, 0.25), (61, 'G', 4, 0.25), (61, 'B', 4, 0.25), (61, 'E', 5, 0.25)], [(61, 'F#', 4, 0.25), (61, 'B', 4, 0.25), (61, 'E', 5, 0.25), (61, 'F#', 5, 0.25)], [(61, 'F#', 4, 0.25), (61, 'B', 4, 0.25), (61, 'E', 5, 0.25), (61, 'F#', 5, 0.25)], [(61, 'F#', 4, 0.25), (61, 'B', 4, 0.25), (61, 'E', 5, 0.25), (61, 'F#', 5, 0.25)], [(61, 'F#', 4, 0.25), (61, 'B', 4, 0.25), (61, 'E', 5, 0.25), (61, 'F#', 5, 0.25)], [(61, 'G', 4, 0.25), (61, 'B', 4, 0.25), (61, 'E', 5, 0.25), (61, 'G', 5, 0.25)], [(61, 'G', 4, 0.25), (61, 'B', 4, 0.25), (61, 'E', 5, 0.25), (61, 'G', 5, 0.25)], [(61, 'G', 4, 0.25), (61, 'B', 4, 0.25), (61, 'E', 5, 0.25), (61, 'G', 5, 0.25)], [(61, 'G', 4, 0.25), (61, 'B', 4, 0.25), (61, 'E', 5, 0.25), (61, 'G', 5, 0.25)], [(61, 'B', 4, 0.25), (61, 'E', 5, 0.25), (61, 'G', 5, 0.25), (61, 'B', 5, 0.25)], [(61, 'B', 4, 0.25), (61, 'E', 5, 0.25), (61, 'G', 5, 0.25), (61, 'B', 5, 0.25)], [(61, 'B', 4, 0.25), (61, 'E', 5, 0.25), (61, 'G', 5, 0.25), (61, 'B', 5, 0.25)], [(61, 'B', 4, 0.25), (61, 'E', 5, 0.25), (61, 'G', 5, 0.25), (61, 'B', 5, 0.25)], [(62, 'E', 4, 0.25), (62, 'G', 4, 0.25), (62, 'B', 4, 0.25), (62, 'E', 5, 0.25)], [(62, 'E', 4, 0.25), (62, 'G', 4, 0.25), (62, 'B', 4, 0.25), (62, 'E', 5, 0.25)], [(62, 'E', 4, 0.25), (62, 'G', 4, 0.25), (62, 'B', 4, 0.25), (62, 'E', 5, 0.25)], [(62, 'E', 4, 0.25), (62, 'G', 4, 0.25), (62, 'B', 4, 0.25), (62, 'E', 5, 0.25)], [(62, 'F#', 4, 0.25), (62, 'B', 4, 0.25), (62, 'E', 5, 0.25), (62, 'F#', 5, 0.25)], [(62, 'F#', 4, 0.25), (62, 'B', 4, 0.25), (62, 'E', 5, 0.25), (62, 'F#', 5, 0.25)], [(62, 'F#', 4, 0.25), (62, 'B', 4, 0.25), (62, 'E', 5, 0.25), (62, 'F#', 5, 0.25)], [(62, 'F#', 4, 0.25), (62, 'B', 4, 0.25), (62, 'E', 5, 0.25), (62, 'F#', 5, 0.25)], [(62, 'G', 4, 0.25), (62, 'B', 4, 0.25), (62, 'E', 5, 0.25), (62, 'G', 5, 0.25)], [(62, 'G', 4, 0.25), (62, 'B', 4, 0.25), (62, 'E', 5, 0.25), (62, 'G', 5, 0.25)], [(62, 'G', 4, 0.25), (62, 'B', 4, 0.25), (62, 'E', 5, 0.25), (62, 'G', 5, 0.25)], [(62, 'G', 4, 0.25), (62, 'B', 4, 0.25), (62, 'E', 5, 0.25), (62, 'G', 5, 0.25)], [(62, 'B', 4, 0.25), (62, 'E', 5, 0.25), (62, 'G', 5, 0.25), (62, 'B', 5, 0.25)], [(62, 'B', 4, 0.25), (62, 'E', 5, 0.25), (62, 'G', 5, 0.25), (62, 'B', 5, 0.25)], [(62, 'B', 4, 0.25), (62, 'E', 5, 0.25), (62, 'G', 5, 0.25), (62, 'B', 5, 0.25)], [(62, 'B', 4, 0.25), (62, 'E', 5, 0.25), (62, 'G', 5, 0.25), (62, 'B', 5, 0.25)], [(63, 'E', 4, 0.25), (63, 'A', 4, 0.25), (63, 'C#', 5, 0.25), (63, 'E', 5, 0.25)], [(63, 'E', 4, 0.25), (63, 'A', 4, 0.25), (63, 'C#', 5, 0.25), (63, 'E', 5, 0.25)], [(63, 'E', 4, 0.25), (63, 'A', 4, 0.25), (63, 'C#', 5, 0.25), (63, 'E', 5, 0.25)], [(63, 'E', 4, 0.25), (63, 'A', 4, 0.25), (63, 'C#', 5, 0.25), (63, 'E', 5, 0.25)], [(63, 'F#', 4, 0.25), (63, 'A', 4, 0.25), (63, 'C#', 5, 0.25), (63, 'F#', 5, 0.25)], [(63, 'F#', 4, 0.25), (63, 'A', 4, 0.25), (63, 'C#', 5, 0.25), (63, 'F#', 5, 0.25)], [(63, 'F#', 4, 0.25), (63, 'A', 4, 0.25), (63, 'C#', 5, 0.25), (63, 'F#', 5, 0.25)], [(63, 'F#', 4, 0.25), (63, 'A', 4, 0.25), (63, 'C#', 5, 0.25), (63, 'F#', 5, 0.25)], [(63, 'G', 4, 0.25), (63, 'C#', 5, 0.25), (63, 'E', 5, 0.25), (63, 'G', 5, 0.25)], [(63, 'G', 4, 0.25), (63, 'C#', 5, 0.25), (63, 'E', 5, 0.25), (63, 'G', 5, 0.25)], [(63, 'G', 4, 0.25), (63, 'C#', 5, 0.25), (63, 'E', 5, 0.25), (63, 'G', 5, 0.25)], [(63, 'G', 4, 0.25), (63, 'C#', 5, 0.25), (63, 'E', 5, 0.25), (63, 'G', 5, 0.25)], [(63, 'B', 4, 0.25), (63, 'E', 5, 0.25), (63, 'G', 5, 0.25), (63, 'B', 5, 0.25)], [(63, 'B', 4, 0.25), (63, 'E', 5, 0.25), (63, 'G', 5, 0.25), (63, 'B', 5, 0.25)], [(63, 'B', 4, 0.25), (63, 'E', 5, 0.25), (63, 'G', 5, 0.25), (63, 'B', 5, 0.25)], [(63, 'B', 4, 0.25), (63, 'E', 5, 0.25), (63, 'G', 5, 0.25), (63, 'B', 5, 0.25)], [(64, 'A', 4, 2.0), (64, 'D#', 5, 2.0), (64, 'F#', 5, 2.0), (64, 'A', 5, 2.0)], (64, 'rest_1.0'), (64, 'B', 5, 0.5), (64, 'C', 6, 0.25), (64, 'B', 5, 0.25), (65, 'B', 5, 1.0), (65, 'G', 5, 0.5), (65, 'F#', 5, 0.25), (65, 'E', 5, 0.25), (65, 'E', 5, 1.0), (65, 'B', 5, 0.5), (65, 'C', 6, 0.25), (65, 'B', 5, 0.25), (66, 'B', 5, 0.5), (66, 'G', 5, 0.25), (66, 'G', 5, 0.25), (66, 'G', 5, 0.5), (66, 'F#', 5, 0.25), (66, 'E', 5, 0.25), (66, 'E', 5, 0.5), (66, 'F#', 5, 0.5), (66, 'G', 5, 0.5), (66, 'A', 5, 0.25), (66, 'B', 5, 0.25), (67, 'B', 5, 1.0), (67, 'G', 5, 1.0), (67, 'F#', 5, 1.0), (67, 'F#', 5, 0.5), (67, 'G', 5, 0.25), (67, 'E', 5, 0.25), (68, 'E', 5, 1.0), (68, 'rest_0.5'), (68, 'G', 5, 0.5), (68, 'F#', 5, 0.5), (68, 'G', 5, 0.5), (68, 'F#', 5, 0.5), (68, 'G', 5, 0.25), (68, 'E', 5, 0.25), (69, 'E', 5, 2.0), [(69, 'G', 3, 2.0), (69, 'B', 3, 2.0), (69, 'D#', 4, 2.0), (69, 'F#', 4, 2.0)], [(70, 'G', 3, 4.0), (70, 'B', 3, 4.0), (70, 'D#', 4, 4.0), (70, 'F#', 4, 4.0)]]}, {'note_id': 2, 'sheet_name': 'chopin', 'partName': 'Piano', 'sharps': 1, 'bpm': 'None', 'key': 'E minor', 'time_signature': '4/4', 'bpm (quarter note)': '72.0', 'clef': 'bass', 'measures': [[(1, 'E', 2, 3.0), (1, 'E', 3, 3.0)], (1, 'B', 5, 1.0), [(2, 'C', 2, 3.0), (2, 'C', 3, 3.0)], (2, 'B', 5, 1.0), [(3, 'A', 1, 3.0), (3, 'A', 2, 3.0)], (3, 'B', 5, 1.0), [(4, 'B', 1, 4.0), (4, 'B', 2, 4.0)], [(8, 'B', 0, 4.0), (8, 'B', 1, 4.0)], (9, 'E', 3, 0.5), (9, 'B', 3, 0.5), (9, 'F#', 4, 1.0), (9, 'C', 3, 0.5), (9, 'G', 3, 0.5), (9, 'E', 4, 1.0), (10, 'A', 2, 0.5), (10, 'E', 3, 0.5), (10, 'A', 3, 3.0), (11, 'E', 3, 0.5), (11, 'B', 3, 0.5), (11, 'F#', 4, 1.0), (11, 'C', 3, 0.5), (11, 'G', 3, 0.5), (11, 'E', 4, 1.0), (12, 'A', 2, 0.5), (12, 'E', 3, 0.5), (12, 'A', 3, 3.0), (13, 'E', 3, 0.5), (13, 'B', 3, 0.5), (13, 'F#', 4, 1.0), (13, 'C', 3, 0.5), (13, 'G', 3, 0.5), (13, 'E', 4, 1.0), (14, 'A', 2, 0.5), (14, 'E', 3, 0.5), (14, 'A', 3, 0.5), (14, 'E', 3, 0.5), (14, 'B', 3, 0.5), (14, 'E', 3, 0.5), (14, 'C', 4, 1.0), (15, 'C', 3, 0.5), (15, 'G', 3, 0.5), (15, 'E', 4, 0.5), (15, 'G', 3, 0.5), (15, 'F#', 4, 0.5), (15, 'G', 3, 0.5), (15, 'G', 4, 1.0), [(16, 'B', 2, 4.0), (16, 'F#', 3, 4.0), (16, 'B', 3, 4.0)], (17, 'E', 3, 0.25), (17, 'B', 3, 0.25), (17, 'E', 4, 0.25), (17, 'B', 3, 0.25), (17, 'F#', 4, 0.25), (17, 'B', 3, 0.25), (17, 'E', 4, 0.25), (17, 'B', 3, 0.25), (17, 'C', 3, 0.25), (17, 'G', 3, 0.25), (17, 'C', 4, 0.25), (17, 'G', 3, 0.25), (17, 'E', 4, 0.25), (17, 'G', 3, 0.25), (17, 'C', 4, 0.25), (17, 'G', 3, 0.25), (18, 'A', 2, 0.25), (18, 'E', 3, 0.25), (18, 'A', 3, 0.25), (18, 'E', 3, 0.25), (18, 'C#', 4, 0.25), (18, 'E', 3, 0.25), (18, 'A', 3, 0.25), (18, 'E', 3, 0.25), (18, 'A', 2, 0.25), (18, 'E', 3, 0.25), (18, 'A', 3, 0.25), (18, 'E', 3, 0.25), (18, 'C', 4, 0.25), (18, 'E', 3, 0.25), (18, 'A', 3, 0.25), (18, 'E', 3, 0.25), (19, 'E', 3, 0.25), (19, 'B', 3, 0.25), (19, 'E', 4, 0.25), (19, 'B', 3, 0.25), (19, 'G', 4, 0.25), (19, 'B', 3, 0.25), (19, 'E', 4, 0.25), (19, 'B', 3, 0.25), (19, 'C', 3, 0.25), (19, 'G', 3, 0.25), (19, 'C', 4, 0.25), (19, 'G', 3, 0.25), (19, 'E', 4, 0.25), (19, 'G', 3, 0.25), (19, 'C', 4, 0.25), (19, 'G', 3, 0.25), (20, 'A', 2, 0.25), (20, 'E', 3, 0.25), (20, 'A', 3, 0.25), (20, 'E', 3, 0.25), (20, 'C#', 4, 0.25), (20, 'E', 3, 0.25), (20, 'A', 3, 0.25), (20, 'E', 3, 0.25), (20, 'A', 2, 0.25), (20, 'E', 3, 0.25), (20, 'A', 3, 0.25), (20, 'E', 3, 0.25), (20, 'C', 4, 0.25), (20, 'E', 3, 0.25), (20, 'A', 3, 0.25), (20, 'E', 3, 0.25), (21, 'E', 3, 0.25), (21, 'B', 3, 0.25), (21, 'E', 4, 0.25), (21, 'B', 3, 0.25), (21, 'G', 4, 0.25), (21, 'B', 3, 0.25), (21, 'E', 4, 0.25), (21, 'B', 3, 0.25), (21, 'C', 3, 0.25), (21, 'G', 3, 0.25), (21, 'C', 4, 0.25), (21, 'G', 3, 0.25), (21, 'E', 4, 0.25), (21, 'G', 3, 0.25), (21, 'C', 4, 0.25), (21, 'G', 3, 0.25), (22, 'A', 2, 0.25), (22, 'E', 3, 0.25), (22, 'A', 3, 0.25), (22, 'E', 3, 0.25), (22, 'C#', 4, 0.25), (22, 'E', 3, 0.25), (22, 'A', 3, 0.25), (22, 'E', 3, 0.25), (22, 'A', 2, 0.25), (22, 'E', 3, 0.25), (22, 'A', 3, 0.25), (22, 'E', 3, 0.25), (22, 'C', 4, 0.25), (22, 'E', 3, 0.25), (22, 'A', 3, 0.25), (22, 'E', 3, 0.25), (23, 'C', 3, 0.25), (23, 'G', 3, 0.25), (23, 'C', 4, 0.25), (23, 'G', 3, 0.25), (23, 'E', 4, 0.25), (23, 'G', 3, 0.25), (23, 'C', 4, 0.25), (23, 'G', 3, 0.25), (23, 'F#', 4, 0.25), (23, 'G', 3, 0.25), (23, 'C', 4, 0.25), (23, 'G', 3, 0.25), (23, 'G', 4, 0.25), (23, 'G', 3, 0.25), (23, 'C', 4, 0.5), (24, 'B', 2, 0.25), (24, 'F#', 3, 0.25), (24, 'B', 3, 0.25), (24, 'F#', 3, 0.25), (24, 'D#', 4, 0.25), (24, 'F#', 3, 0.25), (24, 'B', 3, 0.25), (24, 'F#', 3, 0.25), (24, 'B', 2, 1.0), (24, 'rest_1.0'), [(25, 'C', 1, 0.25), (25, 'C', 2, 0.25)], (25, 'G', 2, 0.25), (25, 'C', 3, 0.25), (25, 'E', 3, 0.25), (25, 'F#', 3, 0.25), (25, 'E', 3, 0.25), (25, 'C', 3, 0.25), (25, 'E', 3, 0.25), (25, 'G', 3, 0.25), (25, 'E', 3, 0.25), (25, 'C', 3, 0.25), (25, 'E', 3, 0.25), (25, 'B', 3, 0.25), (25, 'E', 3, 0.25), (25, 'C', 3, 0.5), [(26, 'E', 1, 0.25), (26, 'E', 2, 0.25)], (26, 'B', 2, 0.25), (26, 'E', 3, 0.25), (26, 'B', 2, 0.25), (26, 'F#', 3, 0.25), (26, 'E', 3, 0.25), (26, 'B', 2, 0.25), (26, 'E', 3, 0.25), (26, 'G', 3, 0.25), (26, 'E', 3, 0.25), (26, 'B', 2, 0.25), (26, 'E', 3, 0.25), (26, 'B', 3, 0.25), (26, 'E', 3, 0.25), (26, 'B', 2, 0.5), [(27, 'A', 1, 0.25), (27, 'A', 2, 0.25)], (27, 'C', 3, 0.25), (27, 'E', 3, 0.25), (27, 'C', 3, 0.25), (27, 'F#', 3, 0.25), (27, 'C', 3, 0.25), (27, 'A', 2, 0.25), (27, 'C', 3, 0.25), (27, 'G', 3, 0.25), (27, 'E', 3, 0.25), (27, 'A', 2, 0.25), (27, 'E', 3, 0.25), (27, 'B', 3, 0.25), (27, 'E', 3, 0.25), (27, 'A', 2, 0.5), [(28, 'B', 0, 0.5), (28, 'B', 1, 0.5)], (28, 'F#', 2, 0.25), (28, 'B', 2, 0.25), (28, 'D#', 3, 0.25), (28, 'F#', 3, 0.25), (28, 'B', 3, 0.25), (28, 'D#', 4, 0.25), (28, 'F#', 4, 0.25), (28, 'B', 4, 0.25), (28, 'rest_0.5'), [(28, 'G', 1, 0.5), (28, 'G', 2, 0.5)], [(28, 'F#', 1, 0.5), (28, 'F#', 2, 0.5)], [(29, 'E', 1, 0.25), (29, 'E', 2, 0.25)], (29, 'B', 2, 0.25), (29, 'E', 3, 0.25), (29, 'G', 3, 0.25), (29, 'B', 3, 0.25), (29, 'G', 3, 0.25), (29, 'E', 3, 0.25), (29, 'B', 2, 0.25), [(29, 'C', 1, 0.25), (29, 'C', 2, 0.25)], (29, 'G', 2, 0.25), (29, 'C', 3, 0.25), (29, 'E', 3, 0.25), (29, 'G', 3, 0.25), (29, 'E', 3, 0.25), (29, 'C', 3, 0.25), (29, 'G', 2, 0.25), [(30, 'A', 1, 0.25), (30, 'A', 2, 0.25)], (30, 'E', 3, 0.25), (30, 'A', 3, 0.25), (30, 'B', 3, 0.25), (30, 'C', 4, 0.25), (30, 'E', 4, 0.25), (30, 'A', 4, 0.25), (30, 'B', 4, 0.25), (30, 'C', 5, 0.25), (30, 'B', 4, 0.25), (30, 'A', 4, 0.25), (30, 'E', 4, 0.25), (30, 'C', 4, 0.25), (30, 'B', 3, 0.25), (30, 'A', 3, 0.25), (30, 'E', 3, 0.25), [(31, 'E', 1, 0.25), (31, 'E', 2, 0.25)], (31, 'B', 2, 0.25), (31, 'E', 3, 0.25), (31, 'G', 3, 0.25), (31, 'B', 3, 0.25), (31, 'G', 3, 0.25), (31, 'E', 3, 0.25), (31, 'B', 2, 0.25), [(31, 'C', 1, 0.25), (31, 'C', 2, 0.25)], (31, 'G', 2, 0.25), (31, 'C', 3, 0.25), (31, 'E', 3, 0.25), (31, 'G', 3, 0.25), (31, 'E', 3, 0.25), (31, 'C', 3, 0.25), (31, 'G', 2, 0.25), [(32, 'A', 1, 0.25), (32, 'A', 2, 0.25)], (32, 'E', 3, 0.25), (32, 'A', 3, 0.25), (32, 'C', 4, 0.25), (32, 'E', 4, 0.25), (32, 'A', 4, 0.25), (32, 'B', 4, 0.25), (32, 'C', 5, 0.25), (32, 'E', 5, 0.25), (32, 'C', 5, 0.25), (32, 'B', 4, 0.25), (32, 'A', 4, 0.25), (32, 'E', 4, 0.25), (32, 'C', 4, 0.25), (32, 'A', 3, 0.25), (32, 'E', 3, 0.25), [(33, 'E', 1, 0.25), (33, 'E', 2, 0.25)], (33, 'B', 2, 0.25), (33, 'E', 3, 0.25), (33, 'G', 3, 0.25), (33, 'B', 3, 0.25), (33, 'G', 3, 0.25), (33, 'E', 3, 0.25), (33, 'B', 2, 0.25), [(33, 'C', 1, 0.25), (33, 'C', 2, 0.25)], (33, 'G', 2, 0.25), (33, 'C', 3, 0.25), (33, 'E', 3, 0.25), (33, 'G', 3, 0.25), (33, 'E', 3, 0.25), (33, 'C', 3, 0.25), (33, 'G', 2, 0.25), [(34, 'A', 1, 0.25), (34, 'A', 2, 0.25)], (34, 'E', 3, 0.25), (34, 'G', 3, 0.25), (34, 'B', 3, 0.25), (34, 'C', 4, 0.25), (34, 'E', 4, 0.25), (34, 'A', 4, 0.5), (34, 'A', 4, 0.25), (34, 'E', 4, 0.25), (34, 'C', 4, 0.25), (34, 'B', 3, 0.25), (34, 'A', 3, 0.25), (34, 'E', 3, 0.25), (34, 'A', 2, 0.5), [(35, 'E', 1, 0.25), (35, 'E', 2, 0.25)], (35, 'B', 2, 0.25), (35, 'E', 3, 0.25), (35, 'G', 3, 0.25), (35, 'B', 3, 0.25), (35, 'G', 3, 0.25), (35, 'E', 3, 0.25), (35, 'B', 2, 0.25), [(35, 'C', 1, 0.25), (35, 'C', 2, 0.25)], (35, 'G', 2, 0.25), (35, 'C', 3, 0.25), (35, 'E', 3, 0.25), (35, 'G', 3, 0.25), (35, 'E', 3, 0.25), (35, 'C', 3, 0.25), (35, 'G', 2, 0.25), [(36, 'A', 1, 0.25), (36, 'A', 2, 0.25)], (36, 'E', 3, 0.25), (36, 'A', 3, 0.25), (36, 'B', 3, 0.25), (36, 'C', 4, 0.25), (36, 'B', 3, 0.25), (36, 'A', 3, 0.25), (36, 'E', 3, 0.25), (36, 'A', 2, 0.25), (36, 'E', 3, 0.25), (36, 'A', 3, 0.25), (36, 'E', 3, 0.25), (36, 'C', 4, 0.25), (36, 'E', 3, 0.25), (36, 'A', 3, 0.25), (36, 'E', 3, 0.25), [(37, 'E', 1, 0.25), (37, 'E', 2, 0.25)], (37, 'B', 2, 0.25), (37, 'E', 3, 0.25), (37, 'E', 2, 0.25), (37, 'B', 2, 0.25), (37, 'E', 3, 0.25), (37, 'E', 2, 0.25), (37, 'B', 2, 0.25), (37, 'E', 3, 0.25), (37, 'E', 2, 0.25), (37, 'B', 2, 0.25), (37, 'E', 3, 0.25), (37, 'E', 2, 0.25), (37, 'B', 2, 0.25), (37, 'E', 3, 0.25), (37, 'B', 2, 0.25), [(38, 'C', 1, 0.25), (38, 'C', 2, 0.25)], (38, 'G', 2, 0.25), (38, 'C', 3, 0.25), (38, 'C', 2, 0.25), (38, 'G', 2, 0.25), (38, 'C', 3, 0.25), (38, 'C', 2, 0.25), (38, 'G', 2, 0.25), (38, 'C', 3, 0.25), (38, 'C', 2, 0.25), (38, 'G', 2, 0.25), (38, 'C', 3, 0.25), (38, 'C', 2, 0.25), (38, 'G', 2, 0.25), (38, 'C', 3, 0.25), (38, 'G', 2, 0.25), [(39, 'A', 1, 0.25), (39, 'A', 2, 0.25)], (39, 'E', 3, 0.25), (39, 'A', 3, 0.25), (39, 'A', 2, 0.25), (39, 'E', 3, 0.25), (39, 'A', 3, 0.25), (39, 'A', 2, 0.25), (39, 'E', 3, 0.25), (39, 'A', 3, 0.25), (39, 'A', 2, 0.25), (39, 'E', 3, 0.25), (39, 'A', 3, 0.25), (39, 'A', 2, 0.25), (39, 'E', 3, 0.25), (39, 'A', 3, 0.25), (39, 'E', 3, 0.25), [(40, 'B', 1, 0.25), (40, 'B', 2, 0.25)], [(40, 'B', 1, 0.25), (40, 'B', 2, 0.25)], [(40, 'B', 1, 0.25), (40, 'B', 2, 0.25)], [(40, 'B', 1, 0.25), (40, 'B', 2, 0.25)], [(40, 'B', 1, 0.25), (40, 'B', 2, 0.25)], [(40, 'B', 1, 0.25), (40, 'B', 2, 0.25)], [(40, 'B', 1, 0.25), (40, 'B', 2, 0.25)], [(40, 'B', 1, 0.25), (40, 'B', 2, 0.25)], [(40, 'B', 1, 0.25), (40, 'B', 2, 0.25)], [(40, 'B', 1, 0.25), (40, 'B', 2, 0.25)], [(40, 'B', 1, 0.25), (40, 'B', 2, 0.25)], [(40, 'B', 1, 0.25), (40, 'B', 2, 0.25)], [(40, 'G', 1, 0.5), (40, 'G', 2, 0.5)], [(40, 'F#', 1, 0.5), (40, 'F#', 2, 0.5)], [(41, 'E', 1, 0.25), (41, 'E', 2, 0.25)], (41, 'B', 3, 0.25), (41, 'E', 4, 0.25), (41, 'B', 3, 0.25), (41, 'F#', 4, 0.25), (41, 'B', 3, 0.25), (41, 'E', 4, 0.25), (41, 'B', 3, 0.25), (41, 'E', 3, 0.25), (41, 'C', 4, 0.25), (41, 'E', 4, 0.25), (41, 'C', 4, 0.25), (41, 'D', 4, 0.25), (41, 'C', 4, 0.25), (41, 'E', 4, 0.25), (41, 'C', 4, 0.25), (42, 'E', 3, 0.25), (42, 'A', 3, 0.25), (42, 'B', 3, 0.25), (42, 'A', 3, 0.25), (42, 'B', 3, 0.25), (42, 'A', 3, 0.25), (42, 'B', 3, 0.25), (42, 'A', 3, 0.25), (42, 'E', 3, 0.25), (42, 'A', 3, 0.25), (42, 'B', 3, 0.25), (42, 'A', 3, 0.25), (42, 'B', 3, 0.25), (42, 'A', 3, 0.25), (42, 'B', 3, 0.25), (42, 'A', 3, 0.25), (43, 'E', 3, 0.25), (43, 'B', 3, 0.25), (43, 'E', 4, 0.25), (43, 'B', 3, 0.25), (43, 'F#', 4, 0.25), (43, 'B', 3, 0.25), (43, 'E', 4, 0.25), (43, 'B', 3, 0.25), (43, 'C', 3, 0.25), (43, 'G', 3, 0.25), (43, 'C', 4, 0.25), (43, 'G', 3, 0.25), (43, 'D', 4, 0.25), (43, 'G', 3, 0.25), (43, 'C', 4, 0.25), (43, 'G', 3, 0.25), (44, 'A', 2, 0.25), (44, 'E', 3, 0.25), (44, 'A', 3, 0.25), (44, 'E', 3, 0.25), (44, 'C#', 4, 0.25), (44, 'E', 3, 0.25), (44, 'A', 3, 0.25), (44, 'E', 3, 0.25), (44, 'A', 2, 0.25), (44, 'E', 3, 0.25), (44, 'A', 3, 0.25), (44, 'E', 3, 0.25), (44, 'B', 3, 0.25), (44, 'E', 3, 0.25), (44, 'A', 3, 0.25), (44, 'E', 3, 0.25), (45, 'E', 3, 0.25), (45, 'B', 3, 0.25), (45, 'E', 4, 0.25), (45, 'B', 3, 0.25), (45, 'F#', 4, 0.25), (45, 'B', 3, 0.25), (45, 'E', 4, 0.25), (45, 'B', 3, 0.25), (45, 'C', 3, 0.25), (45, 'G', 3, 0.25), (45, 'C', 4, 0.25), (45, 'G', 3, 0.25), (45, 'D', 4, 0.25), (45, 'G', 3, 0.25), (45, 'C', 4, 0.25), (45, 'G', 3, 0.25), (46, 'A', 2, 0.25), (46, 'E', 3, 0.25), (46, 'A', 3, 0.25), (46, 'E', 3, 0.25), (46, 'B', 3, 0.25), (46, 'E', 3, 0.25), (46, 'A', 3, 0.25), (46, 'E', 3, 0.25), (46, 'A', 2, 0.25), (46, 'E', 3, 0.25), (46, 'A', 3, 0.25), (46, 'E', 3, 0.25), (46, 'B', 3, 0.25), (46, 'E', 3, 0.25), (46, 'A', 3, 0.25), (46, 'E', 3, 0.25), (47, 'C', 3, 0.25), (47, 'G', 3, 0.25), (47, 'C', 4, 0.25), (47, 'G', 3, 0.25), (47, 'D', 4, 0.25), (47, 'G', 3, 0.25), (47, 'C', 4, 0.25), (47, 'G', 3, 0.25), (47, 'C', 3, 0.25), (47, 'G', 3, 0.25), (47, 'C', 4, 0.25), (47, 'G', 3, 0.25), (47, 'D', 4, 0.25), (47, 'G', 3, 0.25), (47, 'C', 4, 0.25), (47, 'G', 3, 0.25), [(48, 'B', 1, 0.25), (48, 'B', 2, 0.25)], (48, 'F#', 3, 0.25), (48, 'B', 3, 0.25), (48, 'F#', 3, 0.25), (48, 'D#', 4, 0.25), (48, 'F#', 3, 0.25), (48, 'B', 3, 0.25), (48, 'F#', 3, 0.25), (48, 'B', 2, 0.25), (48, 'F#', 3, 0.25), (48, 'B', 3, 0.25), (48, 'F#', 3, 0.25), [(48, 'G', 1, 0.5), (48, 'G', 2, 0.5)], [(48, 'F#', 1, 0.5), (48, 'F#', 2, 0.5)], [(49, 'E', 1, 0.25), (49, 'E', 2, 0.25)], (49, 'B', 2, 0.25), (49, 'E', 3, 0.25), (49, 'G', 3, 0.25), (49, 'B', 3, 0.25), (49, 'G', 3, 0.25), (49, 'E', 3, 0.25), (49, 'B', 2, 0.25), [(49, 'C', 1, 0.25), (49, 'C', 2, 0.25)], (49, 'G', 2, 0.25), (49, 'C', 3, 0.25), (49, 'E', 3, 0.25), (49, 'G', 3, 0.25), (49, 'E', 3, 0.25), (49, 'C', 3, 0.25), (49, 'G', 2, 0.25), [(50, 'A', 1, 0.25), (50, 'A', 2, 0.25)], (50, 'E', 3, 0.25), (50, 'A', 3, 0.25), (50, 'C', 4, 0.25), (50, 'E', 4, 0.25), (50, 'A', 4, 0.25), (50, 'B', 4, 0.25), (50, 'C', 5, 0.25), (50, 'E', 5, 0.25), (50, 'C', 5, 0.25), (50, 'B', 4, 0.25), (50, 'A', 4, 0.25), (50, 'E', 4, 0.25), (50, 'C', 4, 0.25), (50, 'A', 3, 0.25), (50, 'E', 3, 0.25), [(51, 'E', 1, 0.25), (51, 'E', 2, 0.25)], (51, 'B', 2, 0.25), (51, 'E', 3, 0.25), (51, 'G', 3, 0.25), (51, 'B', 3, 0.25), (51, 'G', 3, 0.25), (51, 'E', 3, 0.25), (51, 'B', 2, 0.25), [(51, 'C', 1, 0.25), (51, 'C', 2, 0.25)], (51, 'G', 2, 0.25), (51, 'C', 3, 0.25), (51, 'E', 3, 0.25), (51, 'G', 3, 0.25), (51, 'E', 3, 0.25), (51, 'C', 3, 0.25), (51, 'G', 2, 0.25), [(52, 'A', 1, 0.5), (52, 'A', 2, 0.5)], (52, 'E', 3, 0.25), (52, 'A', 3, 0.25), (52, 'B', 3, 0.25), (52, 'C', 4, 0.25), (52, 'E', 4, 0.25), (52, 'A', 4, 0.25), (52, 'B', 4, 0.25), (52, 'C', 5, 0.25), (52, 'E', 5, 0.25), (52, 'A', 5, 0.25), (52, 'rest_1.0'), (53, 'E', 3, 0.25), (53, 'B', 3, 0.25), (53, 'E', 4, 0.25), (53, 'B', 3, 0.25), (53, 'G', 4, 0.25), (53, 'B', 3, 0.25), (53, 'E', 4, 0.25), (53, 'B', 3, 0.25), (53, 'C', 3, 0.25), (53, 'G', 3, 0.25), (53, 'C', 4, 0.25), (53, 'G', 3, 0.25), (53, 'D', 4, 0.25), (53, 'G', 3, 0.25), (53, 'E', 4, 0.25), (53, 'G', 3, 0.25), (54, 'A', 2, 0.25), (54, 'E', 3, 0.25), (54, 'A', 3, 0.25), (54, 'E', 3, 0.25), (54, 'B', 3, 0.25), (54, 'E', 3, 0.25), (54, 'A', 3, 0.25), (54, 'E', 3, 0.25), (54, 'A', 2, 0.25), (54, 'E', 3, 0.25), (54, 'A', 3, 0.25), (54, 'E', 3, 0.25), (54, 'C', 4, 0.25), (54, 'E', 3, 0.25), (54, 'A', 3, 0.25), (54, 'E', 3, 0.25), (55, 'E', 3, 0.25), (55, 'B', 3, 0.25), (55, 'F#', 4, 0.25), (55, 'B', 3, 0.25), (55, 'E', 4, 0.25), (55, 'B', 3, 0.25), (55, 'E', 3, 0.25), (55, 'B', 3, 0.25), (55, 'C', 3, 0.25), (55, 'G', 3, 0.25), (55, 'C', 4, 0.25), (55, 'G', 3, 0.25), (55, 'D', 4, 0.25), (55, 'G', 3, 0.25), (55, 'C', 4, 0.25), (55, 'G', 3, 0.25), (56, 'A', 2, 0.25), (56, 'E', 3, 0.25), (56, 'A', 3, 0.25), (56, 'E', 3, 0.25), (56, 'C', 4, 0.25), (56, 'E', 3, 0.25), (56, 'A', 3, 0.25), (56, 'E', 3, 0.25), (56, 'A', 2, 0.25), (56, 'E', 3, 0.25), (56, 'A', 3, 0.25), (56, 'E', 3, 0.25), (56, 'C', 4, 0.25), (56, 'E', 3, 0.25), (56, 'A', 3, 0.25), (56, 'E', 3, 0.25), [(57, 'E', 1, 0.25), (57, 'E', 2, 0.25)], (57, 'B', 2, 0.25), (57, 'E', 3, 0.25), (57, 'B', 2, 0.25), (57, 'F#', 3, 0.25), (57, 'E', 3, 0.25), (57, 'B', 2, 0.25), (57, 'E', 3, 0.25), (57, 'G', 3, 0.25), (57, 'E', 3, 0.25), (57, 'B', 2, 0.25), (57, 'E', 3, 0.25), (57, 'B', 3, 0.25), (57, 'E', 3, 0.25), (57, 'B', 2, 0.5), [(58, 'C', 1, 0.25), (58, 'C', 2, 0.25)], (58, 'G', 2, 0.25), (58, 'C', 3, 0.25), (58, 'E', 3, 0.25), (58, 'F#', 3, 0.25), (58, 'E', 3, 0.25), (58, 'C', 3, 0.25), (58, 'E', 3, 0.25), (58, 'G', 3, 0.25), (58, 'E', 3, 0.25), (58, 'C', 3, 0.25), (58, 'E', 3, 0.25), (58, 'B', 3, 0.25), (58, 'E', 3, 0.25), (58, 'C', 3, 0.5), [(59, 'A', 1, 0.25), (59, 'A', 2, 0.25)], (59, 'C#', 3, 0.25), (59, 'E', 3, 0.25), (59, 'C#', 3, 0.25), (59, 'F#', 3, 0.25), (59, 'C#', 3, 0.25), (59, 'A', 2, 0.25), (59, 'C#', 3, 0.25), (59, 'G', 3, 0.25), (59, 'E', 3, 0.25), (59, 'A', 2, 0.25), (59, 'E', 3, 0.25), (59, 'B', 3, 0.25), (59, 'E', 3, 0.25), (59, 'A', 2, 0.5), [(60, 'B', 0, 0.25), (60, 'B', 1, 0.25)], (60, 'F#', 2, 0.25), (60, 'B', 2, 0.25), (60, 'F#', 2, 0.25), (60, 'E', 3, 0.25), (60, 'B', 2, 0.25), (60, 'F#', 2, 0.25), (60, 'B', 2, 0.25), (60, 'F#', 3, 0.25), (60, 'B', 2, 0.25), (60, 'F#', 2, 0.25), (60, 'B', 2, 0.25), [(60, 'G', 1, 0.5), (60, 'G', 2, 0.5)], [(60, 'F#', 1, 0.5), (60, 'F#', 2, 0.5)], [(61, 'E', 1, 1.0), (61, 'E', 2, 1.0)], [(61, 'F#', 3, 1.0), (61, 'B', 3, 1.0), (61, 'E', 4, 1.0)], [(61, 'G', 3, 1.0), (61, 'B', 3, 1.0), (61, 'E', 4, 1.0)], [(61, 'E', 6, 1.0), (61, 'G', 6, 1.0), (61, 'B', 6, 1.0)], [(62, 'G', 1, 1.0), (62, 'G', 2, 1.0)], [(62, 'F#', 3, 1.0), (62, 'B', 3, 1.0), (62, 'E', 4, 1.0)], [(62, 'G', 3, 1.0), (62, 'B', 3, 1.0), (62, 'E', 4, 1.0)], [(62, 'E', 6, 1.0), (62, 'G', 6, 1.0), (62, 'B', 6, 1.0)], [(63, 'A', 1, 1.0), (63, 'A', 2, 1.0)], [(63, 'F#', 3, 1.0), (63, 'A', 3, 1.0), (63, 'C#', 4, 1.0)], [(63, 'G', 3, 1.0), (63, 'C#', 4, 1.0), (63, 'E', 4, 1.0)], [(63, 'E', 6, 1.0), (63, 'G', 6, 1.0), (63, 'B', 6, 1.0)], [(64, 'B', 0, 0.5), (64, 'B', 1, 0.5)], (64, 'F#', 2, 0.25), (64, 'B', 2, 0.25), (64, 'D#', 3, 0.25), (64, 'F#', 3, 0.25), (64, 'B', 3, 0.25), (64, 'D#', 4, 0.25), (64, 'F#', 4, 0.25), (64, 'B', 4, 0.25), (64, 'D#', 5, 0.25), (64, 'F#', 5, 0.25), (64, 'rest_1.0'), [(65, 'E', 4, 2.0), (65, 'G', 4, 2.0), (65, 'B', 4, 2.0)], [(65, 'E', 4, 2.0), (65, 'G', 4, 2.0), (65, 'C', 5, 2.0)], [(66, 'E', 4, 4.0), (66, 'A', 4, 4.0), (66, 'C', 5, 4.0)], [(67, 'E', 4, 2.0), (67, 'G', 4, 2.0), (67, 'B', 4, 2.0)], [(67, 'E', 4, 2.0), (67, 'G', 4, 2.0), (67, 'C', 5, 2.0)], [(68, 'E', 4, 4.0), (68, 'A', 4, 4.0), (68, 'C', 5, 4.0)], (69, 'rest_2.0'), [(69, 'E', 2, 2.0), (69, 'B', 2, 2.0), (69, 'E', 3, 2.0)], [(70, 'E', 2, 4.0), (70, 'B', 2, 4.0), (70, 'E', 3, 4.0)]]}]\n"
     ]
    }
   ],
   "source": [
    "c = converter.parse(r'C:\\Users\\Lleis\\Documents\\SCHOOL\\digimagister\\digital_sheet_music_analysis\\musicxml notes\\bond.musicxml')\n",
    "c1 = converter.parse(r'C:\\Users\\Lleis\\Documents\\SCHOOL\\digimagister\\digital_sheet_music_analysis\\musicxml notes\\chopin.musicxml')\n",
    "#c2 = converter.parse(r'C:\\Users\\Lleis\\Documents\\SCHOOL\\digimagister\\digital_sheet_music_analysis\\musicxml notes\\fur_elise.musicxml')\n",
    "partStream = c.parts.stream()\n",
    "note_info= gather_part_info(partStream, 'chopin', 2)\n",
    "print(note_info)"
   ]
  },
  {
   "cell_type": "markdown",
   "id": "bab5092e",
   "metadata": {},
   "source": [
    "Sheets may have textboxes before the partstaffs.\n",
    "\n",
    "* sheet[0][0] - metadata\n",
    "\n",
    "* sheet[1] -> 1.partStaff\n",
    "* sheet[1][1] -> 1. partStaff 1. measure\n",
    "* sheet[1][1][1] -> 1. partStaff 1. measure 'SystemLayout' \n",
    "* sheet[1][1][1] -> 1. partStaff 1. measure 'Trebleclef' \n",
    "* sheet[1][1][2] -> 1. partStaff 1. measure 'Keysignature'\n",
    "* sheet[1][1][3] -> 1. partStaff 1. measure 'Timesignature'\n",
    "* sheet[1][1][4] -> 1. partStaff 1. measure First Note / Chord\n",
    "    - If chord then\n",
    "      *   sheet[1][1][4][0] -> 1. partStaff 1. measure First Note, lower note\n",
    "      *   sheet[1][1][4][1] -> 1. partStaff 1. measure First Note, upper note"
   ]
  },
  {
   "cell_type": "markdown",
   "id": "d6ee845b",
   "metadata": {},
   "source": [
    "* len(c.flatten().getElementsByClass(chord.Chord)) - get all the chord elements of entire sheet\n",
    "* len(c.flatten().getElementsByClass(note.Note)) - get all the note elements of entire sheet (no chord notes)"
   ]
  },
  {
   "cell_type": "markdown",
   "id": "83bd505e",
   "metadata": {},
   "source": [
    "## Playback function"
   ]
  },
  {
   "cell_type": "code",
   "execution_count": 14,
   "id": "acd05e0e",
   "metadata": {},
   "outputs": [
    {
     "name": "stdout",
     "output_type": "stream",
     "text": [
      "[[('G', 4, 1.0), ('A', 4, 1.0)], [('C#', 4, 1.0), ('A', 4, 1.0)], ('D', 4, 0.5), [('E', 4, 0.5), ('F#', 4, 0.5)], ('A', 3, 0.5), 'rest_0.5', 'rest_4.0']\n"
     ]
    },
    {
     "ename": "IndexError",
     "evalue": "list index out of range",
     "output_type": "error",
     "traceback": [
      "\u001b[1;31m---------------------------------------------------------------------------\u001b[0m",
      "\u001b[1;31mIndexError\u001b[0m                                Traceback (most recent call last)",
      "\u001b[1;32m~\\AppData\\Local\\Temp/ipykernel_9496/3916773395.py\u001b[0m in \u001b[0;36m<module>\u001b[1;34m\u001b[0m\n\u001b[0;32m     29\u001b[0m \u001b[1;33m\u001b[0m\u001b[0m\n\u001b[0;32m     30\u001b[0m \u001b[1;33m\u001b[0m\u001b[0m\n\u001b[1;32m---> 31\u001b[1;33m \u001b[0mtiny\u001b[0m \u001b[1;33m=\u001b[0m \u001b[0mget_playback_info\u001b[0m\u001b[1;33m(\u001b[0m\u001b[0mnote_info\u001b[0m\u001b[1;33m,\u001b[0m \u001b[0mmatched_seq\u001b[0m\u001b[1;33m)\u001b[0m\u001b[1;33m\u001b[0m\u001b[1;33m\u001b[0m\u001b[0m\n\u001b[0m\u001b[0;32m     32\u001b[0m \u001b[1;33m\u001b[0m\u001b[0m\n\u001b[0;32m     33\u001b[0m \u001b[1;32mclass\u001b[0m \u001b[0mKeyToken\u001b[0m\u001b[1;33m(\u001b[0m\u001b[0mtinyNotation\u001b[0m\u001b[1;33m.\u001b[0m\u001b[0mToken\u001b[0m\u001b[1;33m)\u001b[0m\u001b[1;33m:\u001b[0m\u001b[1;33m\u001b[0m\u001b[1;33m\u001b[0m\u001b[0m\n",
      "\u001b[1;32m~\\AppData\\Local\\Temp/ipykernel_9496/3916773395.py\u001b[0m in \u001b[0;36mget_playback_info\u001b[1;34m(note_info, matched_seq)\u001b[0m\n\u001b[0;32m     16\u001b[0m         \u001b[0mnote\u001b[0m \u001b[1;33m=\u001b[0m \u001b[0melem\u001b[0m\u001b[1;33m[\u001b[0m\u001b[1;36m0\u001b[0m\u001b[1;33m]\u001b[0m\u001b[1;33m\u001b[0m\u001b[1;33m\u001b[0m\u001b[0m\n\u001b[0;32m     17\u001b[0m         \u001b[0moctave\u001b[0m \u001b[1;33m=\u001b[0m\u001b[0melem\u001b[0m\u001b[1;33m[\u001b[0m\u001b[1;36m1\u001b[0m\u001b[1;33m]\u001b[0m\u001b[1;33m\u001b[0m\u001b[1;33m\u001b[0m\u001b[0m\n\u001b[1;32m---> 18\u001b[1;33m         \u001b[0mduration\u001b[0m \u001b[1;33m=\u001b[0m \u001b[0melem\u001b[0m\u001b[1;33m[\u001b[0m\u001b[1;36m2\u001b[0m\u001b[1;33m]\u001b[0m\u001b[1;33m\u001b[0m\u001b[1;33m\u001b[0m\u001b[0m\n\u001b[0m\u001b[0;32m     19\u001b[0m \u001b[1;33m\u001b[0m\u001b[0m\n\u001b[0;32m     20\u001b[0m         \u001b[1;32mif\u001b[0m \u001b[0moctave\u001b[0m \u001b[1;33m==\u001b[0m \u001b[1;36m4\u001b[0m\u001b[1;33m:\u001b[0m\u001b[1;33m\u001b[0m\u001b[1;33m\u001b[0m\u001b[0m\n",
      "\u001b[1;31mIndexError\u001b[0m: list index out of range"
     ]
    }
   ],
   "source": [
    "#print(note_info[0]['measures'])\n",
    "\n",
    "len(note_info[0]['measures'])\n",
    "matched_seq = note_info[0]['measures'][0:8]\n",
    "print(matched_seq)\n",
    "\n",
    "\n",
    "\n",
    "def get_playback_info(note_info, matched_seq):\n",
    "    playback = {}\n",
    "    key = note_info[0]['key'][0]\n",
    "    time= note_info[0]['time_signature']\n",
    "    \n",
    "    notes = ''\n",
    "    for elem in matched_seq:\n",
    "        note = elem[0]\n",
    "        octave =elem[1]\n",
    "        duration = elem[2]\n",
    "    \n",
    "        if octave == 4:\n",
    "            note = note.lower()\n",
    "        if duration == 0.5:\n",
    "            duration = 8\n",
    "    \n",
    "        notes = notes + str(note) + str(duration) + ' '\n",
    "    tinynote = str(time) + ' ' + 'k'+(str(key.lower()) + ' ' + notes)\n",
    "    return tinynote\n",
    "\n",
    "\n",
    "\n",
    "tiny = get_playback_info(note_info, matched_seq)\n",
    "\n",
    "class KeyToken(tinyNotation.Token):\n",
    "    def parse(self, parent):\n",
    "        keyName = self.token\n",
    "        return key.Key(keyName)\n",
    "tnc = tinyNotation.Converter()\n",
    "print(tnc)\n",
    "keyMapping = (r'k(.*)', KeyToken)\n",
    "tnc.tokenMap.append(keyMapping)\n",
    "tnc.load(tiny)\n",
    "\n",
    "tnc.parse()\n",
    "s = tnc.stream\n",
    "s.append(tempo.MetronomeMark(150))\n",
    "s.show()\n",
    "s.show('midi')\n",
    "\n",
    "\n",
    "\n"
   ]
  },
  {
   "cell_type": "code",
   "execution_count": 245,
   "id": "8e341593",
   "metadata": {},
   "outputs": [
    {
     "data": {
      "text/html": [
       "\n",
       "                <div id='midiPlayerDiv529355'></div>\n",
       "                <link rel=\"stylesheet\" href=\"//cuthbertLab.github.io/music21j/css/m21.css\"\n",
       "                    type=\"text/css\" />\n",
       "                <script>\n",
       "                require.config({\n",
       "                    paths: {'music21': '//cuthbertLab.github.io/music21j/src/music21'}\n",
       "                });\n",
       "                require(['music21'], function() {\n",
       "                               mp = new music21.miditools.MidiPlayer();\n",
       "                               mp.addPlayer('#midiPlayerDiv529355');\n",
       "                               mp.base64Load('data:audio/midi;base64,TVRoZAAAAAYAAQACBABNVHJrAAAAGgD/UQMHoSAA/1kCAQEA/1gEBAIYCIgA/y8ATVRyawAAAFYA/wMAAOAAQIgAkEBahACAQAAAkDtahACAOwAAkEJahACAQgAAkDtahACAOwAAkENahACAQwAAkDtahACAOwAAkEdahACARwAAkDtahACAOwCIAP8vAA==');\n",
       "                        });\n",
       "                </script>"
      ],
      "text/plain": [
       "<IPython.core.display.HTML object>"
      ]
     },
     "metadata": {},
     "output_type": "display_data"
    }
   ],
   "source": [
    "s.show('midi') #default playback tempo is 120, always TODO: How to change?"
   ]
  },
  {
   "cell_type": "code",
   "execution_count": 123,
   "id": "8911c71d",
   "metadata": {},
   "outputs": [
    {
     "name": "stdout",
     "output_type": "stream",
     "text": [
      "[{'note_id': 2, 'sheet_name': 'bond', 'partName': 'Piano', 'sharps': 2, 'bpm': 'None', 'key': 'B minor', 'time_signature': '4/4', 'bpm (quarter note)': '72.0', 'clef': 'treble', 'measures': [(1, 'B', 3, 0.5), (1, 'F#', 4, 0.5), (1, 'C#', 4, 0.5), (1, 'F#', 3, 0.5), (1, 'D', 4, 0.5), (1, 'F#', 4, 0.5), (1, 'F#', 4, 0.5), (1, 'F#', 3, 0.5), (2, 'B', 3, 0.5), (2, 'G', 3, 0.5), (2, 'C#', 4, 0.5), (2, 'G', 3, 0.5), (2, 'D', 4, 0.5), (2, 'G', 3, 0.5), (2, 'F#', 4, 0.5), (2, 'G', 3, 0.5), (3, 'B', 3, 0.5), (3, 'G#', 3, 0.5), (3, 'C#', 4, 0.5), (3, 'G#', 3, 0.5), (3, 'D', 4, 0.5), (3, 'G#', 3, 0.5), (3, 'F#', 4, 0.5), (3, 'G#', 3, 0.5), (4, 'A#', 3, 0.5), (4, 'F#', 3, 0.5), (4, 'B', 3, 0.5), (4, 'F#', 3, 0.5), (4, 'C#', 4, 2.0), [(5, 'B', 3, 1.0), (5, 'B', 4, 1.0)], [(5, 'C#', 4, 1.0), (5, 'C#', 5, 1.0)], [(5, 'D', 4, 1.0), (5, 'D', 5, 1.0)], [(5, 'F#', 4, 1.0), (5, 'F#', 5, 1.0)], [(6, 'B', 3, 1.0), (6, 'B', 4, 1.0)], [(6, 'C#', 4, 1.0), (6, 'C#', 5, 1.0)], [(6, 'D', 4, 1.0), (6, 'D', 5, 1.0)], [(6, 'F#', 4, 1.0), (6, 'F#', 5, 1.0)], [(7, 'B', 3, 1.0), (7, 'B', 4, 1.0)], [(7, 'C#', 4, 1.0), (7, 'C#', 5, 1.0)], [(7, 'D', 4, 1.0), (7, 'D', 5, 1.0)], [(7, 'F#', 4, 0.5), (7, 'F#', 5, 0.5)], (7, 'G', 4, 0.5), [(8, 'F#', 3, 4.0), (8, 'C#', 4, 4.0), (8, 'F#', 4, 4.0)], (9, 'rest_1.0'), (9, 'B', 4, 1.0), (9, 'A', 4, 1.0), (9, 'A', 4, 0.5), (9, 'G', 4, 0.25), (9, 'F#', 4, 0.25), (10, 'F#', 4, 1.0), (10, 'rest_1.0'), (10, 'G', 5, 0.5), (10, 'B', 5, 0.5), (10, 'D', 6, 0.5), (10, 'C#', 6, 0.5), (11, 'C#', 6, 1.0), (11, 'B', 4, 1.0), (11, 'C#', 5, 1.0), (11, 'C#', 5, 0.5), (11, 'D', 5, 0.25), (11, 'B', 4, 0.25), (12, 'B', 4, 1.0), (12, 'rest_1.0'), (12, 'F#', 6, 0.5), (12, 'E', 6, 0.5), (12, 'D', 6, 0.5), (12, 'C#', 6, 0.5), (13, 'C#', 6, 1.0), (13, 'B', 4, 1.0), (13, 'A', 4, 1.0), (13, 'A', 4, 0.5), (13, 'G', 4, 0.25), (13, 'F#', 4, 0.25), (14, 'F#', 4, 2.0), (14, 'rest_1.0'), (14, 'G#', 4, 0.5), (14, 'G', 4, 0.25), (14, 'F#', 4, 0.25), (15, 'F#', 4, 0.5), (15, 'G', 4, 0.25), (15, 'F#', 4, 0.25), (15, 'F#', 4, 0.5), (15, 'G', 4, 0.25), (15, 'F#', 4, 0.25), (15, 'F#', 4, 0.5), (15, 'G', 4, 0.25), (15, 'F#', 4, 0.25), (15, 'F#', 4, 0.5), (15, 'D', 4, 0.25), (15, 'D', 4, 0.25), (16, 'D', 4, 0.5), (16, 'C#', 4, 0.5), (16, 'C#', 4, 3.0), (17, 'rest_1.0'), [(17, 'B', 4, 1.0), (17, 'B', 5, 1.0)], [(17, 'A', 4, 1.0), (17, 'A', 5, 1.0)], [(17, 'A', 4, 0.5), (17, 'A', 5, 0.5)], [(17, 'G', 4, 0.25), (17, 'G', 5, 0.25)], [(17, 'F#', 4, 0.25), (17, 'F#', 5, 0.25)], [(18, 'F#', 4, 1.0), (18, 'F#', 5, 1.0)], (18, 'rest_1.0'), (18, 'G', 3, 0.5), (18, 'B', 3, 0.5), (18, 'C#', 4, 0.5), (18, 'D', 4, 0.5), (19, 'C#', 4, 1.0), [(19, 'A', 4, 0.25), (19, 'A', 5, 0.25)], [(19, 'B', 4, 0.75), (19, 'B', 5, 0.75)], [(19, 'C#', 5, 1.0), (19, 'C#', 6, 1.0)], [(19, 'C#', 5, 0.5), (19, 'C#', 6, 0.5)], [(19, 'D', 5, 0.25), (19, 'D', 6, 0.25)], [(19, 'B', 4, 0.25), (19, 'B', 5, 0.25)], [(20, 'B', 4, 1.0), (20, 'B', 5, 1.0)], (20, 'rest_1.0'), (20, 'F#', 4, 0.5), (20, 'E', 4, 0.5), (20, 'D', 4, 0.5), (20, 'C#', 4, 0.5), (21, 'C#', 4, 1.0), [(21, 'B', 4, 1.0), (21, 'B', 5, 1.0)], [(21, 'A', 4, 1.0), (21, 'A', 5, 1.0)], [(21, 'A', 4, 0.5), (21, 'A', 5, 0.5)], [(21, 'G', 4, 0.25), (21, 'G', 5, 0.25)], [(21, 'F#', 4, 0.25), (21, 'F#', 5, 0.25)], [(22, 'F#', 4, 0.5), (22, 'F#', 5, 0.5)], [(22, 'E', 4, 0.5), (22, 'E', 5, 0.5)], [(22, 'E', 4, 1.0), (22, 'E', 5, 1.0)], (22, 'rest_0.5'), [(22, 'E', 4, 0.25), (22, 'E', 5, 0.25)], [(22, 'F#', 4, 0.25), (22, 'F#', 5, 0.25)], [(22, 'F#', 4, 0.5), (22, 'F#', 5, 0.5)], [(22, 'G', 4, 0.25), (22, 'G', 5, 0.25)], [(22, 'F#', 4, 0.25), (22, 'F#', 5, 0.25)], (23, 'D', 5, 0.25), (23, 'B', 4, 0.25), [(23, 'G', 4, 0.25), (23, 'G', 5, 0.25)], [(23, 'F#', 4, 0.25), (23, 'F#', 5, 0.25)], (23, 'D', 5, 0.25), (23, 'B', 4, 0.25), [(23, 'G', 4, 0.25), (23, 'G', 5, 0.25)], [(23, 'F#', 4, 0.25), (23, 'F#', 5, 0.25)], (23, 'D', 5, 0.25), (23, 'B', 4, 0.25), [(23, 'G', 4, 0.25), (23, 'G', 5, 0.25)], [(23, 'F#', 4, 0.25), (23, 'F#', 5, 0.25)], (23, 'D', 5, 0.25), (23, 'B', 4, 0.25), [(23, 'D', 4, 0.25), (23, 'D', 5, 0.25)], [(23, 'C#', 4, 0.25), (23, 'C#', 5, 0.25)], [(24, 'C#', 4, 2.0), (24, 'C#', 5, 2.0)], (24, 'rest_1.0'), [(24, 'C#', 4, 0.25), (24, 'C#', 5, 0.25)], [(24, 'D', 4, 0.75), (24, 'D', 5, 0.75)], [(25, 'E', 4, 0.5), (25, 'E', 5, 0.5)], [(25, 'D', 4, 0.5), (25, 'D', 5, 0.5)], [(25, 'D', 4, 0.5), (25, 'D', 5, 0.5)], [(25, 'C#', 4, 0.25), (25, 'C#', 5, 0.25)], [(25, 'D', 4, 0.25), (25, 'D', 5, 0.25)], [(25, 'D', 4, 0.5), (25, 'D', 5, 0.5)], [(25, 'B', 3, 0.5), (25, 'B', 4, 0.5)], [(25, 'C#', 4, 0.25), (25, 'C#', 5, 0.25)], [(25, 'D', 4, 0.75), (25, 'D', 5, 0.75)], [(26, 'E', 4, 0.5), (26, 'G', 4, 0.5), (26, 'E', 5, 0.5)], [(26, 'D', 4, 0.5), (26, 'F#', 4, 0.5), (26, 'D', 5, 0.5)], [(26, 'D', 4, 0.5), (26, 'F#', 4, 0.5), (26, 'D', 5, 0.5)], [(26, 'C#', 4, 0.25), (26, 'E', 4, 0.25), (26, 'C#', 5, 0.25)], [(26, 'D', 4, 0.25), (26, 'F#', 4, 0.25), (26, 'D', 5, 0.25)], [(26, 'D', 4, 1.5), (26, 'F#', 4, 1.5), (26, 'D', 5, 1.5)], [(26, 'C#', 4, 0.25), (26, 'E', 4, 0.25), (26, 'C#', 5, 0.25)], [(26, 'D', 4, 0.25), (26, 'F#', 4, 0.25), (26, 'D', 5, 0.25)], [(27, 'E', 4, 0.5), (27, 'G', 4, 0.5), (27, 'E', 5, 0.5)], [(27, 'D', 4, 0.5), (27, 'F#', 4, 0.5), (27, 'D', 5, 0.5)], [(27, 'D', 4, 0.75), (27, 'F#', 4, 0.75), (27, 'D', 5, 0.75)], [(27, 'E', 4, 0.25), (27, 'E', 5, 0.25)], [(27, 'F#', 4, 0.5), (27, 'F#', 5, 0.5)], [(27, 'G', 4, 0.25), (27, 'G', 5, 0.25)], [(27, 'F#', 4, 0.25), (27, 'F#', 5, 0.25)], [(27, 'F#', 4, 0.25), (27, 'F#', 5, 0.25)], [(27, 'G', 4, 0.25), (27, 'G', 5, 0.25)], [(27, 'F#', 4, 0.5), (27, 'F#', 5, 0.5)], [(28, 'F#', 4, 2.0), (28, 'F#', 5, 2.0)], (28, 'rest_0.5'), (28, 'A#', 4, 0.25), (28, 'C#', 5, 0.25), [(28, 'F#', 4, 0.5), (28, 'F#', 5, 0.5)], [(28, 'D', 5, 0.5), (28, 'D', 6, 0.5)], [(29, 'C#', 5, 1.5), (29, 'F#', 5, 1.5), (29, 'C#', 6, 1.5)], [(29, 'F#', 4, 0.25), (29, 'F#', 5, 0.25)], [(29, 'B', 4, 0.25), (29, 'D', 5, 0.25), (29, 'B', 5, 0.25)], [(29, 'B', 4, 1.5), (29, 'D', 5, 1.5), (29, 'B', 5, 1.5)], [(29, 'G', 4, 0.25), (29, 'G', 5, 0.25)], [(29, 'F#', 4, 0.25), (29, 'B', 4, 0.25), (29, 'F#', 5, 0.25)], [(30, 'F#', 4, 0.25), (30, 'B', 4, 0.25), (30, 'F#', 5, 0.25)], [(30, 'E', 4, 0.75), (30, 'E', 5, 0.75)], (30, 'rest_1.0'), (30, 'rest_1.0'), [(30, 'F#', 4, 0.5), (30, 'F#', 5, 0.5)], [(30, 'D', 5, 0.5), (30, 'D', 6, 0.5)], [(31, 'C#', 5, 1.5), (31, 'F#', 5, 1.5), (31, 'C#', 6, 1.5)], [(31, 'B', 4, 0.25), (31, 'B', 5, 0.25)], [(31, 'D', 5, 0.25), (31, 'F#', 5, 0.25), (31, 'D', 6, 0.25)], [(31, 'D', 5, 1.5), (31, 'F#', 5, 1.5), (31, 'D', 6, 1.5)], [(31, 'E', 5, 0.25), (31, 'E', 6, 0.25)], [(31, 'E', 5, 0.25), (31, 'G', 5, 0.25), (31, 'E', 6, 0.25)], [(32, 'E', 5, 0.25), (32, 'G', 5, 0.25), (32, 'E', 6, 0.25)], [(32, 'D', 5, 0.25), (32, 'D', 6, 0.25)], [(32, 'B', 4, 0.5), (32, 'B', 5, 0.5)], (32, 'rest_1.0'), (32, 'rest_1.0'), [(32, 'F#', 4, 0.5), (32, 'F#', 5, 0.5)], [(32, 'G', 4, 0.25), (32, 'G', 5, 0.25)], [(32, 'F#', 4, 0.25), (32, 'B', 4, 0.25), (32, 'D', 5, 0.25), (32, 'F#', 5, 0.25)], [(33, 'F#', 4, 1.0), (33, 'B', 4, 1.0), (33, 'D', 5, 1.0), (33, 'F#', 5, 1.0)], [(33, 'D', 4, 0.5), (33, 'D', 5, 0.5)], [(33, 'E', 4, 0.25), (33, 'E', 5, 0.25)], [(33, 'B', 3, 0.25), (33, 'D', 4, 0.25), (33, 'F#', 4, 0.25), (33, 'B', 4, 0.25)], [(33, 'B', 3, 1.0), (33, 'D', 4, 1.0), (33, 'F#', 4, 1.0), (33, 'B', 4, 1.0)], [(33, 'F#', 4, 0.5), (33, 'F#', 5, 0.5)], [(33, 'G', 4, 0.25), (33, 'G', 5, 0.25)], [(33, 'F#', 4, 0.25), (33, 'B', 4, 0.25), (33, 'D', 5, 0.25), (33, 'F#', 5, 0.25)], [(34, 'F#', 4, 0.5), (34, 'B', 4, 0.5), (34, 'D', 5, 0.5), (34, 'F#', 5, 0.5)], [(34, 'E', 4, 0.25), (34, 'E', 5, 0.25)], [(34, 'A', 4, 0.25), (34, 'A', 5, 0.25)], [(34, 'A', 4, 0.5), (34, 'A', 5, 0.5)], [(34, 'G', 4, 0.25), (34, 'G', 5, 0.25)], [(34, 'F#', 4, 0.25), (34, 'F#', 5, 0.25)], [(34, 'F#', 4, 1.0), (34, 'F#', 5, 1.0)], [(34, 'D', 4, 0.5), (34, 'D', 5, 0.5)], [(34, 'E', 4, 0.25), (34, 'E', 5, 0.25)], [(34, 'F#', 4, 0.25), (34, 'F#', 5, 0.25)], [(35, 'F#', 4, 1.0), (35, 'F#', 5, 1.0)], [(35, 'D', 4, 1.0), (35, 'D', 5, 1.0)], [(35, 'C#', 4, 1.0), (35, 'C#', 5, 1.0)], (35, 'rest_0.5'), [(35, 'A', 3, 0.25), (35, 'A', 4, 0.25)], [(35, 'B', 3, 0.25), (35, 'B', 4, 0.25)], [(36, 'B', 3, 1.0), (36, 'B', 4, 1.0)], (36, 'rest_0.5'), [(36, 'D', 4, 0.5), (36, 'D', 5, 0.5)], [(36, 'C#', 4, 0.5), (36, 'G', 4, 0.5), (36, 'B', 4, 0.5), (36, 'C#', 5, 0.5)], [(36, 'D', 4, 0.5), (36, 'G', 4, 0.5), (36, 'B', 4, 0.5), (36, 'D', 5, 0.5)], [(36, 'C#', 4, 0.5), (36, 'G', 4, 0.5), (36, 'B', 4, 0.5), (36, 'C#', 5, 0.5)], [(36, 'D', 4, 0.25), (36, 'G', 4, 0.25), (36, 'B', 4, 0.25), (36, 'D', 5, 0.25)], [(36, 'B', 3, 0.25), (36, 'D', 4, 0.25), (36, 'F#', 4, 0.25), (36, 'B', 4, 0.25)], [(37, 'B', 3, 0.25), (37, 'D', 4, 0.25), (37, 'F#', 4, 0.25), (37, 'B', 4, 0.25)], (37, 'D', 3, 0.25), (37, 'F#', 3, 0.25), (37, 'D', 3, 0.25), [(37, 'C#', 3, 0.25), (37, 'C#', 4, 0.25)], (37, 'F#', 3, 0.25), (37, 'B', 3, 0.25), (37, 'F#', 3, 0.25), [(37, 'D', 3, 0.25), (37, 'D', 4, 0.25)], (37, 'F#', 3, 0.25), (37, 'B', 3, 0.25), (37, 'F#', 3, 0.25), [(37, 'F#', 3, 0.25), (37, 'F#', 4, 0.25)], (37, 'B', 3, 0.25), (37, 'D', 4, 0.25), (37, 'B', 3, 0.25), [(38, 'B', 2, 0.25), (38, 'B', 3, 0.25)], (38, 'D', 3, 0.25), (38, 'G', 3, 0.25), (38, 'D', 3, 0.25), [(38, 'C#', 3, 0.25), (38, 'C#', 4, 0.25)], (38, 'G', 3, 0.25), (38, 'B', 3, 0.25), (38, 'G', 3, 0.25), [(38, 'D', 3, 0.25), (38, 'D', 4, 0.25)], (38, 'G', 3, 0.25), (38, 'B', 3, 0.25), (38, 'G', 3, 0.25), [(38, 'F#', 3, 0.25), (38, 'F#', 4, 0.25)], (38, 'B', 3, 0.25), (38, 'D', 4, 0.25), (38, 'B', 3, 0.25), [(39, 'B', 2, 0.25), (39, 'B', 3, 0.25)], (39, 'D', 3, 0.25), (39, 'G#', 3, 0.25), (39, 'D', 3, 0.25), [(39, 'C#', 3, 0.25), (39, 'C#', 4, 0.25)], (39, 'E', 3, 0.25), (39, 'G#', 3, 0.25), (39, 'E', 3, 0.25), [(39, 'D', 3, 0.25), (39, 'D', 4, 0.25)], (39, 'G#', 3, 0.25), (39, 'B', 3, 0.25), (39, 'G#', 3, 0.25), [(39, 'F#', 3, 0.25), (39, 'F#', 4, 0.25)], (39, 'B', 3, 0.25), (39, 'D', 4, 0.25), (39, 'B', 3, 0.25), [(40, 'E', 3, 0.25), (40, 'A#', 3, 0.25), (40, 'E', 4, 0.25)], [(40, 'E', 3, 0.25), (40, 'A#', 3, 0.25), (40, 'E', 4, 0.25)], [(40, 'E', 3, 0.25), (40, 'A#', 3, 0.25), (40, 'E', 4, 0.25)], [(40, 'E', 3, 0.25), (40, 'A#', 3, 0.25), (40, 'E', 4, 0.25)], [(40, 'E', 3, 0.25), (40, 'B', 3, 0.25), (40, 'E', 4, 0.25)], [(40, 'E', 3, 0.25), (40, 'B', 3, 0.25), (40, 'E', 4, 0.25)], [(40, 'E', 3, 0.25), (40, 'B', 3, 0.25), (40, 'E', 4, 0.25)], [(40, 'E', 3, 0.25), (40, 'B', 3, 0.25), (40, 'E', 4, 0.25)], [(40, 'E', 3, 0.25), (40, 'C#', 4, 0.25), (40, 'E', 4, 0.25)], [(40, 'E', 3, 0.25), (40, 'C#', 4, 0.25), (40, 'E', 4, 0.25)], [(40, 'E', 3, 0.25), (40, 'C#', 4, 0.25), (40, 'E', 4, 0.25)], [(40, 'E', 3, 0.25), (40, 'C#', 4, 0.25), (40, 'E', 4, 0.25)], [(40, 'E', 3, 0.25), (40, 'C#', 4, 0.25), (40, 'E', 4, 0.25)], [(40, 'E', 3, 0.25), (40, 'C#', 4, 0.25), (40, 'E', 4, 0.25)], [(40, 'E', 3, 0.25), (40, 'C#', 4, 0.25), (40, 'E', 4, 0.25)], [(40, 'E', 3, 0.25), (40, 'C#', 4, 0.25), (40, 'E', 4, 0.25)], (41, 'rest_0.25'), (41, 'D', 4, 0.25), (41, 'F#', 4, 0.25), (41, 'D', 4, 0.25), (41, 'B', 4, 0.25), (41, 'D', 4, 0.25), (41, 'F#', 4, 0.25), (41, 'D', 4, 0.25), (41, 'A', 4, 0.25), (41, 'B', 3, 0.25), (41, 'D', 4, 0.25), (41, 'B', 3, 0.25), (41, 'D', 4, 0.25), (41, 'B', 3, 0.25), (41, 'G', 4, 0.25), (41, 'F#', 4, 0.25), (42, 'F#', 4, 0.25), (42, 'G#', 3, 0.25), (42, 'E', 4, 0.25), (42, 'G#', 3, 0.25), (42, 'B', 3, 0.25), (42, 'G#', 3, 0.25), (42, 'B', 3, 0.25), (42, 'G#', 3, 0.25), (42, 'B', 3, 0.25), (42, 'G#', 3, 0.25), (42, 'B', 3, 0.25), (42, 'G#', 3, 0.25), (42, 'C#', 4, 0.25), (42, 'G#', 3, 0.25), (42, 'D', 4, 0.25), (42, 'G#', 3, 0.25), (43, 'C#', 4, 0.25), (43, 'D', 4, 0.25), (43, 'F#', 4, 0.25), (43, 'D', 4, 0.25), (43, 'A', 4, 0.25), (43, 'D', 4, 0.25), (43, 'B', 4, 0.25), (43, 'D', 4, 0.25), (43, 'C#', 5, 0.25), (43, 'D', 4, 0.25), (43, 'B', 4, 0.25), (43, 'D', 4, 0.25), (43, 'C#', 5, 0.25), (43, 'D', 4, 0.25), (43, 'D', 5, 0.25), (43, 'B', 4, 0.25), (44, 'B', 4, 0.25), (44, 'B', 3, 0.25), (44, 'E', 4, 0.25), (44, 'B', 3, 0.25), (44, 'G#', 4, 0.25), (44, 'B', 3, 0.25), (44, 'A', 4, 0.25), (44, 'G#', 4, 0.25), (44, 'F#', 4, 0.25), (44, 'G', 3, 0.25), (44, 'E', 4, 0.25), (44, 'G', 3, 0.25), (44, 'D', 4, 0.25), (44, 'G', 3, 0.25), (44, 'C#', 4, 0.25), (44, 'G', 3, 0.25), (45, 'B', 3, 0.25), (45, 'C#', 4, 0.25), (45, 'D', 4, 0.25), (45, 'F#', 4, 0.25), (45, 'A', 4, 0.25), (45, 'D', 4, 0.25), (45, 'B', 4, 0.25), (45, 'D', 4, 0.25), (45, 'A', 4, 0.25), (45, 'B', 3, 0.25), (45, 'G', 4, 0.25), (45, 'B', 3, 0.25), (45, 'F#', 4, 0.25), (45, 'B', 3, 0.25), (45, 'G', 4, 0.25), (45, 'F#', 4, 0.25), (46, 'F#', 4, 0.25), (46, 'G#', 3, 0.25), (46, 'B', 3, 0.25), (46, 'G#', 3, 0.25), (46, 'E', 4, 0.25), (46, 'G#', 3, 0.25), (46, 'B', 3, 0.25), (46, 'G#', 3, 0.25), (46, 'G', 3, 0.25), (46, 'B', 3, 0.25), (46, 'E', 4, 0.25), (46, 'B', 3, 0.25), (46, 'F#', 4, 0.25), (46, 'B', 3, 0.25), (46, 'G', 4, 0.25), (46, 'F#', 4, 0.25), (47, 'F#', 4, 0.25), (47, 'B', 3, 0.25), (47, 'G', 4, 0.25), (47, 'F#', 4, 0.25), [(47, 'B', 4, 1.0), (47, 'B', 5, 1.0)], [(47, 'C#', 5, 1.0), (47, 'C#', 6, 1.0)], [(47, 'D', 5, 0.5), (47, 'D', 6, 0.5)], [(47, 'B', 3, 0.25), (47, 'D', 4, 0.25), (47, 'B', 4, 0.25)], [(47, 'B', 3, 0.25), (47, 'D', 4, 0.25), (47, 'B', 4, 0.25)], [(48, 'B', 3, 0.5), (48, 'D', 4, 0.5), (48, 'B', 4, 0.5)], [(48, 'C#', 4, 1.5), (48, 'E', 4, 1.5), (48, 'C#', 5, 1.5)], (48, 'rest_1.0'), [(48, 'F#', 4, 0.5), (48, 'F#', 5, 0.5)], [(48, 'D', 5, 0.5), (48, 'F#', 5, 0.5), (48, 'D', 6, 0.5)], [(49, 'C#', 5, 1.5), (49, 'E', 5, 1.5), (49, 'C#', 6, 1.5)], [(49, 'F#', 4, 0.25), (49, 'B', 4, 0.25), (49, 'F#', 5, 0.25)], [(49, 'B', 4, 0.25), (49, 'D', 5, 0.25), (49, 'B', 5, 0.25)], [(49, 'B', 4, 1.5), (49, 'D', 5, 1.5), (49, 'B', 5, 1.5)], [(49, 'G', 4, 0.25), (49, 'B', 4, 0.25), (49, 'G', 5, 0.25)], [(49, 'F#', 4, 0.25), (49, 'B', 4, 0.25), (49, 'F#', 5, 0.25)], [(50, 'F#', 4, 0.5), (50, 'B', 4, 0.5), (50, 'F#', 5, 0.5)], [(50, 'E', 4, 0.5), (50, 'E', 5, 0.5)], (50, 'rest_1.0'), (50, 'rest_1.0'), [(50, 'F#', 4, 0.5), (50, 'F#', 5, 0.5)], [(50, 'D', 5, 0.5), (50, 'F#', 5, 0.5), (50, 'D', 6, 0.5)], [(51, 'C#', 5, 1.5), (51, 'E', 5, 1.5), (51, 'C#', 6, 1.5)], [(51, 'B', 4, 0.25), (51, 'D', 5, 0.25), (51, 'B', 5, 0.25)], [(51, 'D', 5, 0.25), (51, 'F#', 5, 0.25), (51, 'D', 6, 0.25)], [(51, 'D', 5, 1.5), (51, 'F#', 5, 1.5), (51, 'D', 6, 1.5)], [(51, 'E', 5, 0.25), (51, 'G', 5, 0.25), (51, 'E', 6, 0.25)], [(51, 'E', 5, 0.25), (51, 'G', 5, 0.25), (51, 'E', 6, 0.25)], [(52, 'E', 5, 0.25), (52, 'G', 5, 0.25), (52, 'E', 6, 0.25)], [(52, 'D', 5, 0.25), (52, 'F#', 5, 0.25), (52, 'D', 6, 0.25)], [(52, 'B', 4, 0.5), (52, 'D', 5, 0.5), (52, 'B', 5, 0.5)], (52, 'rest_1.0'), (52, 'rest_1.0'), (52, 'F#', 5, 0.5), (52, 'G', 5, 0.25), (52, 'F#', 5, 0.25), (53, 'F#', 5, 0.25), (53, 'F#', 4, 0.25), (53, 'B', 4, 0.25), (53, 'F#', 4, 0.25), (53, 'D', 5, 0.25), (53, 'F#', 4, 0.25), (53, 'E', 5, 0.25), (53, 'B', 4, 0.25), (53, 'B', 4, 0.25), (53, 'G', 4, 0.25), (53, 'B', 4, 0.25), (53, 'G', 4, 0.25), (53, 'F#', 5, 0.25), (53, 'G', 4, 0.25), (53, 'G', 5, 0.25), (53, 'F#', 5, 0.25), (54, 'F#', 5, 0.25), (54, 'B', 4, 0.25), (54, 'E', 5, 0.25), (54, 'A', 5, 0.25), (54, 'A', 5, 0.25), (54, 'B', 4, 0.25), (54, 'G', 5, 0.25), (54, 'F#', 5, 0.25), (54, 'F#', 5, 0.25), (54, 'G', 4, 0.25), (54, 'E', 5, 0.25), (54, 'D', 5, 0.25), (54, 'D', 5, 0.25), (54, 'G', 4, 0.25), (54, 'E', 5, 0.25), (54, 'F#', 5, 0.25), (55, 'F#', 5, 0.25), (55, 'F#', 4, 0.25), (55, 'B', 4, 0.25), (55, 'F#', 4, 0.25), (55, 'D', 5, 0.25), (55, 'F#', 4, 0.25), (55, 'B', 4, 0.25), (55, 'F#', 4, 0.25), (55, 'C#', 5, 0.25), (55, 'D', 4, 0.25), (55, 'G', 4, 0.25), (55, 'D', 4, 0.25), (55, 'C#', 4, 0.25), (55, 'D', 4, 0.25), (55, 'A', 4, 0.25), (55, 'B', 4, 0.25), (56, 'B', 4, 0.25), (56, 'G', 4, 0.25), (56, 'E', 4, 0.25), (56, 'G', 4, 0.25), (56, 'B', 4, 0.25), (56, 'G', 4, 0.25), [(56, 'D', 4, 0.25), (56, 'D', 5, 0.25)], (56, 'G', 4, 0.25), [(56, 'C#', 4, 0.25), (56, 'C#', 5, 0.25)], (56, 'G', 4, 0.25), [(56, 'D', 4, 0.25), (56, 'D', 5, 0.25)], (56, 'G', 4, 0.25), [(56, 'C#', 4, 0.25), (56, 'C#', 5, 0.25)], (56, 'G', 4, 0.25), [(56, 'D', 4, 0.25), (56, 'D', 5, 0.25)], [(56, 'B', 3, 0.25), (56, 'B', 4, 0.25)], [(57, 'B', 3, 0.25), (57, 'B', 4, 0.25)], (57, 'D', 4, 0.25), (57, 'F#', 4, 0.25), (57, 'D', 4, 0.25), [(57, 'C#', 4, 0.25), (57, 'C#', 5, 0.25)], (57, 'F#', 4, 0.25), (57, 'B', 4, 0.25), (57, 'F#', 4, 0.25), [(57, 'D', 4, 0.25), (57, 'D', 5, 0.25)], (57, 'F#', 4, 0.25), (57, 'B', 4, 0.25), (57, 'F#', 4, 0.25), [(57, 'F#', 4, 0.25), (57, 'F#', 5, 0.25)], (57, 'B', 4, 0.25), (57, 'D', 5, 0.25), (57, 'B', 4, 0.25), [(58, 'B', 3, 0.25), (58, 'B', 4, 0.25)], (58, 'D', 4, 0.25), (58, 'G', 4, 0.25), (58, 'D', 4, 0.25), [(58, 'C#', 4, 0.25), (58, 'C#', 5, 0.25)], (58, 'G', 4, 0.25), (58, 'B', 4, 0.25), (58, 'G', 4, 0.25), [(58, 'D', 4, 0.5), (58, 'D', 5, 0.5)], [(58, 'D', 5, 0.5), (58, 'D', 6, 0.5)], [(58, 'C#', 5, 0.5), (58, 'C#', 6, 0.5)], [(58, 'D', 5, 0.25), (58, 'D', 6, 0.25)], [(58, 'E', 5, 0.25), (58, 'G', 5, 0.25), (58, 'B', 5, 0.25), (58, 'E', 6, 0.25)], [(59, 'E', 5, 0.25), (59, 'G', 5, 0.25), (59, 'B', 5, 0.25), (59, 'E', 6, 0.25)], [(59, 'D', 5, 0.25), (59, 'D', 6, 0.25)], [(59, 'B', 4, 0.5), (59, 'D', 5, 0.5), (59, 'G#', 5, 0.5), (59, 'B', 5, 0.5)], [(59, 'B', 3, 0.25), (59, 'B', 4, 0.25)], (59, 'E', 4, 0.25), (59, 'G#', 4, 0.25), (59, 'E', 4, 0.25), [(59, 'D', 4, 0.25), (59, 'D', 5, 0.25)], (59, 'G#', 4, 0.25), (59, 'B', 4, 0.25), (59, 'G#', 4, 0.25), [(59, 'F#', 4, 0.25), (59, 'F#', 5, 0.25)], (59, 'B', 4, 0.25), (59, 'D', 5, 0.25), (59, 'B', 4, 0.25), [(60, 'A#', 3, 0.25), (60, 'A#', 4, 0.25)], (60, 'C#', 4, 0.25), (60, 'E', 4, 0.25), (60, 'C#', 4, 0.25), [(60, 'B', 3, 0.25), (60, 'B', 4, 0.25)], (60, 'E', 4, 0.25), (60, 'F#', 4, 0.25), (60, 'E', 4, 0.25), [(60, 'C#', 4, 0.5), (60, 'C#', 5, 0.5)], [(60, 'D', 4, 0.5), (60, 'D', 5, 0.5)], [(60, 'C#', 4, 0.5), (60, 'C#', 5, 0.5)], [(60, 'D', 4, 0.25), (60, 'D', 5, 0.25)], [(60, 'F#', 4, 0.25), (60, 'B', 4, 0.25), (60, 'D', 5, 0.25), (60, 'F#', 5, 0.25)], [(61, 'F#', 4, 0.5), (61, 'B', 4, 0.5), (61, 'D', 5, 0.5), (61, 'F#', 5, 0.5)], [(61, 'B', 3, 0.25), (61, 'D', 4, 0.25), (61, 'F#', 4, 0.25), (61, 'B', 4, 0.25)], [(61, 'B', 3, 0.25), (61, 'D', 4, 0.25), (61, 'F#', 4, 0.25), (61, 'B', 4, 0.25)], [(61, 'C#', 4, 0.25), (61, 'F#', 4, 0.25), (61, 'B', 4, 0.25), (61, 'C#', 5, 0.25)], [(61, 'C#', 4, 0.25), (61, 'F#', 4, 0.25), (61, 'B', 4, 0.25), (61, 'C#', 5, 0.25)], [(61, 'C#', 4, 0.25), (61, 'F#', 4, 0.25), (61, 'B', 4, 0.25), (61, 'C#', 5, 0.25)], [(61, 'C#', 4, 0.25), (61, 'F#', 4, 0.25), (61, 'B', 4, 0.25), (61, 'C#', 5, 0.25)], [(61, 'D', 4, 0.25), (61, 'F#', 4, 0.25), (61, 'B', 4, 0.25), (61, 'D', 5, 0.25)], [(61, 'D', 4, 0.25), (61, 'F#', 4, 0.25), (61, 'B', 4, 0.25), (61, 'D', 5, 0.25)], [(61, 'D', 4, 0.25), (61, 'F#', 4, 0.25), (61, 'B', 4, 0.25), (61, 'D', 5, 0.25)], [(61, 'D', 4, 0.25), (61, 'F#', 4, 0.25), (61, 'B', 4, 0.25), (61, 'D', 5, 0.25)], [(61, 'F#', 4, 0.25), (61, 'B', 4, 0.25), (61, 'D', 5, 0.25), (61, 'F#', 5, 0.25)], [(61, 'F#', 4, 0.25), (61, 'B', 4, 0.25), (61, 'D', 5, 0.25), (61, 'F#', 5, 0.25)], [(61, 'F#', 4, 0.25), (61, 'B', 4, 0.25), (61, 'D', 5, 0.25), (61, 'F#', 5, 0.25)], [(61, 'F#', 4, 0.25), (61, 'B', 4, 0.25), (61, 'D', 5, 0.25), (61, 'F#', 5, 0.25)], [(62, 'B', 3, 0.25), (62, 'D', 4, 0.25), (62, 'F#', 4, 0.25), (62, 'B', 4, 0.25)], [(62, 'B', 3, 0.25), (62, 'D', 4, 0.25), (62, 'F#', 4, 0.25), (62, 'B', 4, 0.25)], [(62, 'B', 3, 0.25), (62, 'D', 4, 0.25), (62, 'F#', 4, 0.25), (62, 'B', 4, 0.25)], [(62, 'B', 3, 0.25), (62, 'D', 4, 0.25), (62, 'F#', 4, 0.25), (62, 'B', 4, 0.25)], [(62, 'C#', 4, 0.25), (62, 'F#', 4, 0.25), (62, 'B', 4, 0.25), (62, 'C#', 5, 0.25)], [(62, 'C#', 4, 0.25), (62, 'F#', 4, 0.25), (62, 'B', 4, 0.25), (62, 'C#', 5, 0.25)], [(62, 'C#', 4, 0.25), (62, 'F#', 4, 0.25), (62, 'B', 4, 0.25), (62, 'C#', 5, 0.25)], [(62, 'C#', 4, 0.25), (62, 'F#', 4, 0.25), (62, 'B', 4, 0.25), (62, 'C#', 5, 0.25)], [(62, 'D', 4, 0.25), (62, 'F#', 4, 0.25), (62, 'B', 4, 0.25), (62, 'D', 5, 0.25)], [(62, 'D', 4, 0.25), (62, 'F#', 4, 0.25), (62, 'B', 4, 0.25), (62, 'D', 5, 0.25)], [(62, 'D', 4, 0.25), (62, 'F#', 4, 0.25), (62, 'B', 4, 0.25), (62, 'D', 5, 0.25)], [(62, 'D', 4, 0.25), (62, 'F#', 4, 0.25), (62, 'B', 4, 0.25), (62, 'D', 5, 0.25)], [(62, 'F#', 4, 0.25), (62, 'B', 4, 0.25), (62, 'D', 5, 0.25), (62, 'F#', 5, 0.25)], [(62, 'F#', 4, 0.25), (62, 'B', 4, 0.25), (62, 'D', 5, 0.25), (62, 'F#', 5, 0.25)], [(62, 'F#', 4, 0.25), (62, 'B', 4, 0.25), (62, 'D', 5, 0.25), (62, 'F#', 5, 0.25)], [(62, 'F#', 4, 0.25), (62, 'B', 4, 0.25), (62, 'D', 5, 0.25), (62, 'F#', 5, 0.25)], [(63, 'B', 3, 0.25), (63, 'E', 4, 0.25), (63, 'G#', 4, 0.25), (63, 'B', 4, 0.25)], [(63, 'B', 3, 0.25), (63, 'E', 4, 0.25), (63, 'G#', 4, 0.25), (63, 'B', 4, 0.25)], [(63, 'B', 3, 0.25), (63, 'E', 4, 0.25), (63, 'G#', 4, 0.25), (63, 'B', 4, 0.25)], [(63, 'B', 3, 0.25), (63, 'E', 4, 0.25), (63, 'G#', 4, 0.25), (63, 'B', 4, 0.25)], [(63, 'C#', 4, 0.25), (63, 'E', 4, 0.25), (63, 'G#', 4, 0.25), (63, 'C#', 5, 0.25)], [(63, 'C#', 4, 0.25), (63, 'E', 4, 0.25), (63, 'G#', 4, 0.25), (63, 'C#', 5, 0.25)], [(63, 'C#', 4, 0.25), (63, 'E', 4, 0.25), (63, 'G#', 4, 0.25), (63, 'C#', 5, 0.25)], [(63, 'C#', 4, 0.25), (63, 'E', 4, 0.25), (63, 'G#', 4, 0.25), (63, 'C#', 5, 0.25)], [(63, 'D', 4, 0.25), (63, 'G#', 4, 0.25), (63, 'B', 4, 0.25), (63, 'D', 5, 0.25)], [(63, 'D', 4, 0.25), (63, 'G#', 4, 0.25), (63, 'B', 4, 0.25), (63, 'D', 5, 0.25)], [(63, 'D', 4, 0.25), (63, 'G#', 4, 0.25), (63, 'B', 4, 0.25), (63, 'D', 5, 0.25)], [(63, 'D', 4, 0.25), (63, 'G#', 4, 0.25), (63, 'B', 4, 0.25), (63, 'D', 5, 0.25)], [(63, 'F#', 4, 0.25), (63, 'B', 4, 0.25), (63, 'D', 5, 0.25), (63, 'F#', 5, 0.25)], [(63, 'F#', 4, 0.25), (63, 'B', 4, 0.25), (63, 'D', 5, 0.25), (63, 'F#', 5, 0.25)], [(63, 'F#', 4, 0.25), (63, 'B', 4, 0.25), (63, 'D', 5, 0.25), (63, 'F#', 5, 0.25)], [(63, 'F#', 4, 0.25), (63, 'B', 4, 0.25), (63, 'D', 5, 0.25), (63, 'F#', 5, 0.25)], [(64, 'E', 4, 2.0), (64, 'A#', 4, 2.0), (64, 'C#', 5, 2.0), (64, 'E', 5, 2.0)], (64, 'rest_1.0'), (64, 'F#', 5, 0.5), (64, 'G', 5, 0.25), (64, 'F#', 5, 0.25), (65, 'F#', 5, 1.0), (65, 'D', 5, 0.5), (65, 'C#', 5, 0.25), (65, 'B', 4, 0.25), (65, 'B', 4, 1.0), (65, 'F#', 5, 0.5), (65, 'G', 5, 0.25), (65, 'F#', 5, 0.25), (66, 'F#', 5, 0.5), (66, 'D', 5, 0.25), (66, 'D', 5, 0.25), (66, 'D', 5, 0.5), (66, 'C#', 5, 0.25), (66, 'B', 4, 0.25), (66, 'B', 4, 0.5), (66, 'C#', 5, 0.5), (66, 'D', 5, 0.5), (66, 'E', 5, 0.25), (66, 'F#', 5, 0.25), (67, 'F#', 5, 1.0), (67, 'D', 5, 1.0), (67, 'C#', 5, 1.0), (67, 'C#', 5, 0.5), (67, 'D', 5, 0.25), (67, 'B', 4, 0.25), (68, 'B', 4, 1.0), (68, 'rest_0.5'), (68, 'D', 5, 0.5), (68, 'C#', 5, 0.5), (68, 'D', 5, 0.5), (68, 'C#', 5, 0.5), (68, 'D', 5, 0.25), (68, 'B', 4, 0.25), (69, 'B', 4, 2.0), [(69, 'D', 3, 2.0), (69, 'F#', 3, 2.0), (69, 'A#', 3, 2.0), (69, 'C#', 4, 2.0)], [(70, 'D', 3, 4.0), (70, 'F#', 3, 4.0), (70, 'A#', 3, 4.0), (70, 'C#', 4, 4.0)]]}, {'note_id': 2, 'sheet_name': 'bond', 'partName': 'Piano', 'sharps': 2, 'bpm': 'None', 'key': 'B minor', 'time_signature': '4/4', 'bpm (quarter note)': '72.0', 'clef': 'bass', 'measures': [[(1, 'B', 1, 3.0), (1, 'B', 2, 3.0)], (1, 'F#', 5, 1.0), [(2, 'G', 1, 3.0), (2, 'G', 2, 3.0)], (2, 'F#', 5, 1.0), [(3, 'E', 1, 3.0), (3, 'E', 2, 3.0)], (3, 'F#', 5, 1.0), [(4, 'F#', 1, 4.0), (4, 'F#', 2, 4.0)], [(8, 'F#', 0, 4.0), (8, 'F#', 1, 4.0)], (9, 'B', 2, 0.5), (9, 'F#', 3, 0.5), (9, 'C#', 4, 1.0), (9, 'G', 2, 0.5), (9, 'D', 3, 0.5), (9, 'B', 3, 1.0), (10, 'E', 2, 0.5), (10, 'B', 2, 0.5), (10, 'E', 3, 3.0), (11, 'B', 2, 0.5), (11, 'F#', 3, 0.5), (11, 'C#', 4, 1.0), (11, 'G', 2, 0.5), (11, 'D', 3, 0.5), (11, 'B', 3, 1.0), (12, 'E', 2, 0.5), (12, 'B', 2, 0.5), (12, 'E', 3, 3.0), (13, 'B', 2, 0.5), (13, 'F#', 3, 0.5), (13, 'C#', 4, 1.0), (13, 'G', 2, 0.5), (13, 'D', 3, 0.5), (13, 'B', 3, 1.0), (14, 'E', 2, 0.5), (14, 'B', 2, 0.5), (14, 'E', 3, 0.5), (14, 'B', 2, 0.5), (14, 'F#', 3, 0.5), (14, 'B', 2, 0.5), (14, 'G', 3, 1.0), (15, 'G', 2, 0.5), (15, 'D', 3, 0.5), (15, 'B', 3, 0.5), (15, 'D', 3, 0.5), (15, 'C#', 4, 0.5), (15, 'D', 3, 0.5), (15, 'D', 4, 1.0), [(16, 'F#', 2, 4.0), (16, 'C#', 3, 4.0), (16, 'F#', 3, 4.0)], (17, 'B', 2, 0.25), (17, 'F#', 3, 0.25), (17, 'B', 3, 0.25), (17, 'F#', 3, 0.25), (17, 'C#', 4, 0.25), (17, 'F#', 3, 0.25), (17, 'B', 3, 0.25), (17, 'F#', 3, 0.25), (17, 'G', 2, 0.25), (17, 'D', 3, 0.25), (17, 'G', 3, 0.25), (17, 'D', 3, 0.25), (17, 'B', 3, 0.25), (17, 'D', 3, 0.25), (17, 'G', 3, 0.25), (17, 'D', 3, 0.25), (18, 'E', 2, 0.25), (18, 'B', 2, 0.25), (18, 'E', 3, 0.25), (18, 'B', 2, 0.25), (18, 'G#', 3, 0.25), (18, 'B', 2, 0.25), (18, 'E', 3, 0.25), (18, 'B', 2, 0.25), (18, 'E', 2, 0.25), (18, 'B', 2, 0.25), (18, 'E', 3, 0.25), (18, 'B', 2, 0.25), (18, 'G', 3, 0.25), (18, 'B', 2, 0.25), (18, 'E', 3, 0.25), (18, 'B', 2, 0.25), (19, 'B', 2, 0.25), (19, 'F#', 3, 0.25), (19, 'B', 3, 0.25), (19, 'F#', 3, 0.25), (19, 'D', 4, 0.25), (19, 'F#', 3, 0.25), (19, 'B', 3, 0.25), (19, 'F#', 3, 0.25), (19, 'G', 2, 0.25), (19, 'D', 3, 0.25), (19, 'G', 3, 0.25), (19, 'D', 3, 0.25), (19, 'B', 3, 0.25), (19, 'D', 3, 0.25), (19, 'G', 3, 0.25), (19, 'D', 3, 0.25), (20, 'E', 2, 0.25), (20, 'B', 2, 0.25), (20, 'E', 3, 0.25), (20, 'B', 2, 0.25), (20, 'G#', 3, 0.25), (20, 'B', 2, 0.25), (20, 'E', 3, 0.25), (20, 'B', 2, 0.25), (20, 'E', 2, 0.25), (20, 'B', 2, 0.25), (20, 'E', 3, 0.25), (20, 'B', 2, 0.25), (20, 'G', 3, 0.25), (20, 'B', 2, 0.25), (20, 'E', 3, 0.25), (20, 'B', 2, 0.25), (21, 'B', 2, 0.25), (21, 'F#', 3, 0.25), (21, 'B', 3, 0.25), (21, 'F#', 3, 0.25), (21, 'D', 4, 0.25), (21, 'F#', 3, 0.25), (21, 'B', 3, 0.25), (21, 'F#', 3, 0.25), (21, 'G', 2, 0.25), (21, 'D', 3, 0.25), (21, 'G', 3, 0.25), (21, 'D', 3, 0.25), (21, 'B', 3, 0.25), (21, 'D', 3, 0.25), (21, 'G', 3, 0.25), (21, 'D', 3, 0.25), (22, 'E', 2, 0.25), (22, 'B', 2, 0.25), (22, 'E', 3, 0.25), (22, 'B', 2, 0.25), (22, 'G#', 3, 0.25), (22, 'B', 2, 0.25), (22, 'E', 3, 0.25), (22, 'B', 2, 0.25), (22, 'E', 2, 0.25), (22, 'B', 2, 0.25), (22, 'E', 3, 0.25), (22, 'B', 2, 0.25), (22, 'G', 3, 0.25), (22, 'B', 2, 0.25), (22, 'E', 3, 0.25), (22, 'B', 2, 0.25), (23, 'G', 2, 0.25), (23, 'D', 3, 0.25), (23, 'G', 3, 0.25), (23, 'D', 3, 0.25), (23, 'B', 3, 0.25), (23, 'D', 3, 0.25), (23, 'G', 3, 0.25), (23, 'D', 3, 0.25), (23, 'C#', 4, 0.25), (23, 'D', 3, 0.25), (23, 'G', 3, 0.25), (23, 'D', 3, 0.25), (23, 'D', 4, 0.25), (23, 'D', 3, 0.25), (23, 'G', 3, 0.5), (24, 'F#', 2, 0.25), (24, 'C#', 3, 0.25), (24, 'F#', 3, 0.25), (24, 'C#', 3, 0.25), (24, 'A#', 3, 0.25), (24, 'C#', 3, 0.25), (24, 'F#', 3, 0.25), (24, 'C#', 3, 0.25), (24, 'F#', 2, 1.0), (24, 'rest_1.0'), [(25, 'G', 0, 0.25), (25, 'G', 1, 0.25)], (25, 'D', 2, 0.25), (25, 'G', 2, 0.25), (25, 'B', 2, 0.25), (25, 'C#', 3, 0.25), (25, 'B', 2, 0.25), (25, 'G', 2, 0.25), (25, 'B', 2, 0.25), (25, 'D', 3, 0.25), (25, 'B', 2, 0.25), (25, 'G', 2, 0.25), (25, 'B', 2, 0.25), (25, 'F#', 3, 0.25), (25, 'B', 2, 0.25), (25, 'G', 2, 0.5), [(26, 'B', 0, 0.25), (26, 'B', 1, 0.25)], (26, 'F#', 2, 0.25), (26, 'B', 2, 0.25), (26, 'F#', 2, 0.25), (26, 'C#', 3, 0.25), (26, 'B', 2, 0.25), (26, 'F#', 2, 0.25), (26, 'B', 2, 0.25), (26, 'D', 3, 0.25), (26, 'B', 2, 0.25), (26, 'F#', 2, 0.25), (26, 'B', 2, 0.25), (26, 'F#', 3, 0.25), (26, 'B', 2, 0.25), (26, 'F#', 2, 0.5), [(27, 'E', 1, 0.25), (27, 'E', 2, 0.25)], (27, 'G', 2, 0.25), (27, 'B', 2, 0.25), (27, 'G', 2, 0.25), (27, 'C#', 3, 0.25), (27, 'G', 2, 0.25), (27, 'E', 2, 0.25), (27, 'G', 2, 0.25), (27, 'D', 3, 0.25), (27, 'B', 2, 0.25), (27, 'E', 2, 0.25), (27, 'B', 2, 0.25), (27, 'F#', 3, 0.25), (27, 'B', 2, 0.25), (27, 'E', 2, 0.5), [(28, 'F#', 0, 0.5), (28, 'F#', 1, 0.5)], (28, 'C#', 2, 0.25), (28, 'F#', 2, 0.25), (28, 'A#', 2, 0.25), (28, 'C#', 3, 0.25), (28, 'F#', 3, 0.25), (28, 'A#', 3, 0.25), (28, 'C#', 4, 0.25), (28, 'F#', 4, 0.25), (28, 'rest_0.5'), [(28, 'D', 1, 0.5), (28, 'D', 2, 0.5)], [(28, 'C#', 1, 0.5), (28, 'C#', 2, 0.5)], [(29, 'B', 0, 0.25), (29, 'B', 1, 0.25)], (29, 'F#', 2, 0.25), (29, 'B', 2, 0.25), (29, 'D', 3, 0.25), (29, 'F#', 3, 0.25), (29, 'D', 3, 0.25), (29, 'B', 2, 0.25), (29, 'F#', 2, 0.25), [(29, 'G', 0, 0.25), (29, 'G', 1, 0.25)], (29, 'D', 2, 0.25), (29, 'G', 2, 0.25), (29, 'B', 2, 0.25), (29, 'D', 3, 0.25), (29, 'B', 2, 0.25), (29, 'G', 2, 0.25), (29, 'D', 2, 0.25), [(30, 'E', 1, 0.25), (30, 'E', 2, 0.25)], (30, 'B', 2, 0.25), (30, 'E', 3, 0.25), (30, 'F#', 3, 0.25), (30, 'G', 3, 0.25), (30, 'B', 3, 0.25), (30, 'E', 4, 0.25), (30, 'F#', 4, 0.25), (30, 'G', 4, 0.25), (30, 'F#', 4, 0.25), (30, 'E', 4, 0.25), (30, 'B', 3, 0.25), (30, 'G', 3, 0.25), (30, 'F#', 3, 0.25), (30, 'E', 3, 0.25), (30, 'B', 2, 0.25), [(31, 'B', 0, 0.25), (31, 'B', 1, 0.25)], (31, 'F#', 2, 0.25), (31, 'B', 2, 0.25), (31, 'D', 3, 0.25), (31, 'F#', 3, 0.25), (31, 'D', 3, 0.25), (31, 'B', 2, 0.25), (31, 'F#', 2, 0.25), [(31, 'G', 0, 0.25), (31, 'G', 1, 0.25)], (31, 'D', 2, 0.25), (31, 'G', 2, 0.25), (31, 'B', 2, 0.25), (31, 'D', 3, 0.25), (31, 'B', 2, 0.25), (31, 'G', 2, 0.25), (31, 'D', 2, 0.25), [(32, 'E', 1, 0.25), (32, 'E', 2, 0.25)], (32, 'B', 2, 0.25), (32, 'E', 3, 0.25), (32, 'G', 3, 0.25), (32, 'B', 3, 0.25), (32, 'E', 4, 0.25), (32, 'F#', 4, 0.25), (32, 'G', 4, 0.25), (32, 'B', 4, 0.25), (32, 'G', 4, 0.25), (32, 'F#', 4, 0.25), (32, 'E', 4, 0.25), (32, 'B', 3, 0.25), (32, 'G', 3, 0.25), (32, 'E', 3, 0.25), (32, 'B', 2, 0.25), [(33, 'B', 0, 0.25), (33, 'B', 1, 0.25)], (33, 'F#', 2, 0.25), (33, 'B', 2, 0.25), (33, 'D', 3, 0.25), (33, 'F#', 3, 0.25), (33, 'D', 3, 0.25), (33, 'B', 2, 0.25), (33, 'F#', 2, 0.25), [(33, 'G', 0, 0.25), (33, 'G', 1, 0.25)], (33, 'D', 2, 0.25), (33, 'G', 2, 0.25), (33, 'B', 2, 0.25), (33, 'D', 3, 0.25), (33, 'B', 2, 0.25), (33, 'G', 2, 0.25), (33, 'D', 2, 0.25), [(34, 'E', 1, 0.25), (34, 'E', 2, 0.25)], (34, 'B', 2, 0.25), (34, 'D', 3, 0.25), (34, 'F#', 3, 0.25), (34, 'G', 3, 0.25), (34, 'B', 3, 0.25), (34, 'E', 4, 0.5), (34, 'E', 4, 0.25), (34, 'B', 3, 0.25), (34, 'G', 3, 0.25), (34, 'F#', 3, 0.25), (34, 'E', 3, 0.25), (34, 'B', 2, 0.25), (34, 'E', 2, 0.5), [(35, 'B', 0, 0.25), (35, 'B', 1, 0.25)], (35, 'F#', 2, 0.25), (35, 'B', 2, 0.25), (35, 'D', 3, 0.25), (35, 'F#', 3, 0.25), (35, 'D', 3, 0.25), (35, 'B', 2, 0.25), (35, 'F#', 2, 0.25), [(35, 'G', 0, 0.25), (35, 'G', 1, 0.25)], (35, 'D', 2, 0.25), (35, 'G', 2, 0.25), (35, 'B', 2, 0.25), (35, 'D', 3, 0.25), (35, 'B', 2, 0.25), (35, 'G', 2, 0.25), (35, 'D', 2, 0.25), [(36, 'E', 1, 0.25), (36, 'E', 2, 0.25)], (36, 'B', 2, 0.25), (36, 'E', 3, 0.25), (36, 'F#', 3, 0.25), (36, 'G', 3, 0.25), (36, 'F#', 3, 0.25), (36, 'E', 3, 0.25), (36, 'B', 2, 0.25), (36, 'E', 2, 0.25), (36, 'B', 2, 0.25), (36, 'E', 3, 0.25), (36, 'B', 2, 0.25), (36, 'G', 3, 0.25), (36, 'B', 2, 0.25), (36, 'E', 3, 0.25), (36, 'B', 2, 0.25), [(37, 'B', 0, 0.25), (37, 'B', 1, 0.25)], (37, 'F#', 2, 0.25), (37, 'B', 2, 0.25), (37, 'B', 1, 0.25), (37, 'F#', 2, 0.25), (37, 'B', 2, 0.25), (37, 'B', 1, 0.25), (37, 'F#', 2, 0.25), (37, 'B', 2, 0.25), (37, 'B', 1, 0.25), (37, 'F#', 2, 0.25), (37, 'B', 2, 0.25), (37, 'B', 1, 0.25), (37, 'F#', 2, 0.25), (37, 'B', 2, 0.25), (37, 'F#', 2, 0.25), [(38, 'G', 0, 0.25), (38, 'G', 1, 0.25)], (38, 'D', 2, 0.25), (38, 'G', 2, 0.25), (38, 'G', 1, 0.25), (38, 'D', 2, 0.25), (38, 'G', 2, 0.25), (38, 'G', 1, 0.25), (38, 'D', 2, 0.25), (38, 'G', 2, 0.25), (38, 'G', 1, 0.25), (38, 'D', 2, 0.25), (38, 'G', 2, 0.25), (38, 'G', 1, 0.25), (38, 'D', 2, 0.25), (38, 'G', 2, 0.25), (38, 'D', 2, 0.25), [(39, 'E', 1, 0.25), (39, 'E', 2, 0.25)], (39, 'B', 2, 0.25), (39, 'E', 3, 0.25), (39, 'E', 2, 0.25), (39, 'B', 2, 0.25), (39, 'E', 3, 0.25), (39, 'E', 2, 0.25), (39, 'B', 2, 0.25), (39, 'E', 3, 0.25), (39, 'E', 2, 0.25), (39, 'B', 2, 0.25), (39, 'E', 3, 0.25), (39, 'E', 2, 0.25), (39, 'B', 2, 0.25), (39, 'E', 3, 0.25), (39, 'B', 2, 0.25), [(40, 'F#', 1, 0.25), (40, 'F#', 2, 0.25)], [(40, 'F#', 1, 0.25), (40, 'F#', 2, 0.25)], [(40, 'F#', 1, 0.25), (40, 'F#', 2, 0.25)], [(40, 'F#', 1, 0.25), (40, 'F#', 2, 0.25)], [(40, 'F#', 1, 0.25), (40, 'F#', 2, 0.25)], [(40, 'F#', 1, 0.25), (40, 'F#', 2, 0.25)], [(40, 'F#', 1, 0.25), (40, 'F#', 2, 0.25)], [(40, 'F#', 1, 0.25), (40, 'F#', 2, 0.25)], [(40, 'F#', 1, 0.25), (40, 'F#', 2, 0.25)], [(40, 'F#', 1, 0.25), (40, 'F#', 2, 0.25)], [(40, 'F#', 1, 0.25), (40, 'F#', 2, 0.25)], [(40, 'F#', 1, 0.25), (40, 'F#', 2, 0.25)], [(40, 'D', 1, 0.5), (40, 'D', 2, 0.5)], [(40, 'C#', 1, 0.5), (40, 'C#', 2, 0.5)], [(41, 'B', 0, 0.25), (41, 'B', 1, 0.25)], (41, 'F#', 3, 0.25), (41, 'B', 3, 0.25), (41, 'F#', 3, 0.25), (41, 'C#', 4, 0.25), (41, 'F#', 3, 0.25), (41, 'B', 3, 0.25), (41, 'F#', 3, 0.25), (41, 'B', 2, 0.25), (41, 'G', 3, 0.25), (41, 'B', 3, 0.25), (41, 'G', 3, 0.25), (41, 'A', 3, 0.25), (41, 'G', 3, 0.25), (41, 'B', 3, 0.25), (41, 'G', 3, 0.25), (42, 'B', 2, 0.25), (42, 'E', 3, 0.25), (42, 'F#', 3, 0.25), (42, 'E', 3, 0.25), (42, 'F#', 3, 0.25), (42, 'E', 3, 0.25), (42, 'F#', 3, 0.25), (42, 'E', 3, 0.25), (42, 'B', 2, 0.25), (42, 'E', 3, 0.25), (42, 'F#', 3, 0.25), (42, 'E', 3, 0.25), (42, 'F#', 3, 0.25), (42, 'E', 3, 0.25), (42, 'F#', 3, 0.25), (42, 'E', 3, 0.25), (43, 'B', 2, 0.25), (43, 'F#', 3, 0.25), (43, 'B', 3, 0.25), (43, 'F#', 3, 0.25), (43, 'C#', 4, 0.25), (43, 'F#', 3, 0.25), (43, 'B', 3, 0.25), (43, 'F#', 3, 0.25), (43, 'G', 2, 0.25), (43, 'D', 3, 0.25), (43, 'G', 3, 0.25), (43, 'D', 3, 0.25), (43, 'A', 3, 0.25), (43, 'D', 3, 0.25), (43, 'G', 3, 0.25), (43, 'D', 3, 0.25), (44, 'E', 2, 0.25), (44, 'B', 2, 0.25), (44, 'E', 3, 0.25), (44, 'B', 2, 0.25), (44, 'G#', 3, 0.25), (44, 'B', 2, 0.25), (44, 'E', 3, 0.25), (44, 'B', 2, 0.25), (44, 'E', 2, 0.25), (44, 'B', 2, 0.25), (44, 'E', 3, 0.25), (44, 'B', 2, 0.25), (44, 'F#', 3, 0.25), (44, 'B', 2, 0.25), (44, 'E', 3, 0.25), (44, 'B', 2, 0.25), (45, 'B', 2, 0.25), (45, 'F#', 3, 0.25), (45, 'B', 3, 0.25), (45, 'F#', 3, 0.25), (45, 'C#', 4, 0.25), (45, 'F#', 3, 0.25), (45, 'B', 3, 0.25), (45, 'F#', 3, 0.25), (45, 'G', 2, 0.25), (45, 'D', 3, 0.25), (45, 'G', 3, 0.25), (45, 'D', 3, 0.25), (45, 'A', 3, 0.25), (45, 'D', 3, 0.25), (45, 'G', 3, 0.25), (45, 'D', 3, 0.25), (46, 'E', 2, 0.25), (46, 'B', 2, 0.25), (46, 'E', 3, 0.25), (46, 'B', 2, 0.25), (46, 'F#', 3, 0.25), (46, 'B', 2, 0.25), (46, 'E', 3, 0.25), (46, 'B', 2, 0.25), (46, 'E', 2, 0.25), (46, 'B', 2, 0.25), (46, 'E', 3, 0.25), (46, 'B', 2, 0.25), (46, 'F#', 3, 0.25), (46, 'B', 2, 0.25), (46, 'E', 3, 0.25), (46, 'B', 2, 0.25), (47, 'G', 2, 0.25), (47, 'D', 3, 0.25), (47, 'G', 3, 0.25), (47, 'D', 3, 0.25), (47, 'A', 3, 0.25), (47, 'D', 3, 0.25), (47, 'G', 3, 0.25), (47, 'D', 3, 0.25), (47, 'G', 2, 0.25), (47, 'D', 3, 0.25), (47, 'G', 3, 0.25), (47, 'D', 3, 0.25), (47, 'A', 3, 0.25), (47, 'D', 3, 0.25), (47, 'G', 3, 0.25), (47, 'D', 3, 0.25), [(48, 'F#', 1, 0.25), (48, 'F#', 2, 0.25)], (48, 'C#', 3, 0.25), (48, 'F#', 3, 0.25), (48, 'C#', 3, 0.25), (48, 'A#', 3, 0.25), (48, 'C#', 3, 0.25), (48, 'F#', 3, 0.25), (48, 'C#', 3, 0.25), (48, 'F#', 2, 0.25), (48, 'C#', 3, 0.25), (48, 'F#', 3, 0.25), (48, 'C#', 3, 0.25), [(48, 'D', 1, 0.5), (48, 'D', 2, 0.5)], [(48, 'C#', 1, 0.5), (48, 'C#', 2, 0.5)], [(49, 'B', 0, 0.25), (49, 'B', 1, 0.25)], (49, 'F#', 2, 0.25), (49, 'B', 2, 0.25), (49, 'D', 3, 0.25), (49, 'F#', 3, 0.25), (49, 'D', 3, 0.25), (49, 'B', 2, 0.25), (49, 'F#', 2, 0.25), [(49, 'G', 0, 0.25), (49, 'G', 1, 0.25)], (49, 'D', 2, 0.25), (49, 'G', 2, 0.25), (49, 'B', 2, 0.25), (49, 'D', 3, 0.25), (49, 'B', 2, 0.25), (49, 'G', 2, 0.25), (49, 'D', 2, 0.25), [(50, 'E', 1, 0.25), (50, 'E', 2, 0.25)], (50, 'B', 2, 0.25), (50, 'E', 3, 0.25), (50, 'G', 3, 0.25), (50, 'B', 3, 0.25), (50, 'E', 4, 0.25), (50, 'F#', 4, 0.25), (50, 'G', 4, 0.25), (50, 'B', 4, 0.25), (50, 'G', 4, 0.25), (50, 'F#', 4, 0.25), (50, 'E', 4, 0.25), (50, 'B', 3, 0.25), (50, 'G', 3, 0.25), (50, 'E', 3, 0.25), (50, 'B', 2, 0.25), [(51, 'B', 0, 0.25), (51, 'B', 1, 0.25)], (51, 'F#', 2, 0.25), (51, 'B', 2, 0.25), (51, 'D', 3, 0.25), (51, 'F#', 3, 0.25), (51, 'D', 3, 0.25), (51, 'B', 2, 0.25), (51, 'F#', 2, 0.25), [(51, 'G', 0, 0.25), (51, 'G', 1, 0.25)], (51, 'D', 2, 0.25), (51, 'G', 2, 0.25), (51, 'B', 2, 0.25), (51, 'D', 3, 0.25), (51, 'B', 2, 0.25), (51, 'G', 2, 0.25), (51, 'D', 2, 0.25), [(52, 'E', 1, 0.5), (52, 'E', 2, 0.5)], (52, 'B', 2, 0.25), (52, 'E', 3, 0.25), (52, 'F#', 3, 0.25), (52, 'G', 3, 0.25), (52, 'B', 3, 0.25), (52, 'E', 4, 0.25), (52, 'F#', 4, 0.25), (52, 'G', 4, 0.25), (52, 'B', 4, 0.25), (52, 'E', 5, 0.25), (52, 'rest_1.0'), (53, 'B', 2, 0.25), (53, 'F#', 3, 0.25), (53, 'B', 3, 0.25), (53, 'F#', 3, 0.25), (53, 'D', 4, 0.25), (53, 'F#', 3, 0.25), (53, 'B', 3, 0.25), (53, 'F#', 3, 0.25), (53, 'G', 2, 0.25), (53, 'D', 3, 0.25), (53, 'G', 3, 0.25), (53, 'D', 3, 0.25), (53, 'A', 3, 0.25), (53, 'D', 3, 0.25), (53, 'B', 3, 0.25), (53, 'D', 3, 0.25), (54, 'E', 2, 0.25), (54, 'B', 2, 0.25), (54, 'E', 3, 0.25), (54, 'B', 2, 0.25), (54, 'F#', 3, 0.25), (54, 'B', 2, 0.25), (54, 'E', 3, 0.25), (54, 'B', 2, 0.25), (54, 'E', 2, 0.25), (54, 'B', 2, 0.25), (54, 'E', 3, 0.25), (54, 'B', 2, 0.25), (54, 'G', 3, 0.25), (54, 'B', 2, 0.25), (54, 'E', 3, 0.25), (54, 'B', 2, 0.25), (55, 'B', 2, 0.25), (55, 'F#', 3, 0.25), (55, 'C#', 4, 0.25), (55, 'F#', 3, 0.25), (55, 'B', 3, 0.25), (55, 'F#', 3, 0.25), (55, 'B', 2, 0.25), (55, 'F#', 3, 0.25), (55, 'G', 2, 0.25), (55, 'D', 3, 0.25), (55, 'G', 3, 0.25), (55, 'D', 3, 0.25), (55, 'A', 3, 0.25), (55, 'D', 3, 0.25), (55, 'G', 3, 0.25), (55, 'D', 3, 0.25), (56, 'E', 2, 0.25), (56, 'B', 2, 0.25), (56, 'E', 3, 0.25), (56, 'B', 2, 0.25), (56, 'G', 3, 0.25), (56, 'B', 2, 0.25), (56, 'E', 3, 0.25), (56, 'B', 2, 0.25), (56, 'E', 2, 0.25), (56, 'B', 2, 0.25), (56, 'E', 3, 0.25), (56, 'B', 2, 0.25), (56, 'G', 3, 0.25), (56, 'B', 2, 0.25), (56, 'E', 3, 0.25), (56, 'B', 2, 0.25), [(57, 'B', 0, 0.25), (57, 'B', 1, 0.25)], (57, 'F#', 2, 0.25), (57, 'B', 2, 0.25), (57, 'F#', 2, 0.25), (57, 'C#', 3, 0.25), (57, 'B', 2, 0.25), (57, 'F#', 2, 0.25), (57, 'B', 2, 0.25), (57, 'D', 3, 0.25), (57, 'B', 2, 0.25), (57, 'F#', 2, 0.25), (57, 'B', 2, 0.25), (57, 'F#', 3, 0.25), (57, 'B', 2, 0.25), (57, 'F#', 2, 0.5), [(58, 'G', 0, 0.25), (58, 'G', 1, 0.25)], (58, 'D', 2, 0.25), (58, 'G', 2, 0.25), (58, 'B', 2, 0.25), (58, 'C#', 3, 0.25), (58, 'B', 2, 0.25), (58, 'G', 2, 0.25), (58, 'B', 2, 0.25), (58, 'D', 3, 0.25), (58, 'B', 2, 0.25), (58, 'G', 2, 0.25), (58, 'B', 2, 0.25), (58, 'F#', 3, 0.25), (58, 'B', 2, 0.25), (58, 'G', 2, 0.5), [(59, 'E', 1, 0.25), (59, 'E', 2, 0.25)], (59, 'G#', 2, 0.25), (59, 'B', 2, 0.25), (59, 'G#', 2, 0.25), (59, 'C#', 3, 0.25), (59, 'G#', 2, 0.25), (59, 'E', 2, 0.25), (59, 'G#', 2, 0.25), (59, 'D', 3, 0.25), (59, 'B', 2, 0.25), (59, 'E', 2, 0.25), (59, 'B', 2, 0.25), (59, 'F#', 3, 0.25), (59, 'B', 2, 0.25), (59, 'E', 2, 0.5), [(60, 'F#', 0, 0.25), (60, 'F#', 1, 0.25)], (60, 'C#', 2, 0.25), (60, 'F#', 2, 0.25), (60, 'C#', 2, 0.25), (60, 'B', 2, 0.25), (60, 'F#', 2, 0.25), (60, 'C#', 2, 0.25), (60, 'F#', 2, 0.25), (60, 'C#', 3, 0.25), (60, 'F#', 2, 0.25), (60, 'C#', 2, 0.25), (60, 'F#', 2, 0.25), [(60, 'D', 1, 0.5), (60, 'D', 2, 0.5)], [(60, 'C#', 1, 0.5), (60, 'C#', 2, 0.5)], [(61, 'B', 0, 1.0), (61, 'B', 1, 1.0)], [(61, 'C#', 3, 1.0), (61, 'F#', 3, 1.0), (61, 'B', 3, 1.0)], [(61, 'D', 3, 1.0), (61, 'F#', 3, 1.0), (61, 'B', 3, 1.0)], [(61, 'B', 5, 1.0), (61, 'D', 6, 1.0), (61, 'F#', 6, 1.0)], [(62, 'D', 1, 1.0), (62, 'D', 2, 1.0)], [(62, 'C#', 3, 1.0), (62, 'F#', 3, 1.0), (62, 'B', 3, 1.0)], [(62, 'D', 3, 1.0), (62, 'F#', 3, 1.0), (62, 'B', 3, 1.0)], [(62, 'B', 5, 1.0), (62, 'D', 6, 1.0), (62, 'F#', 6, 1.0)], [(63, 'E', 1, 1.0), (63, 'E', 2, 1.0)], [(63, 'C#', 3, 1.0), (63, 'E', 3, 1.0), (63, 'G#', 3, 1.0)], [(63, 'D', 3, 1.0), (63, 'G#', 3, 1.0), (63, 'B', 3, 1.0)], [(63, 'B', 5, 1.0), (63, 'D', 6, 1.0), (63, 'F#', 6, 1.0)], [(64, 'F#', 0, 0.5), (64, 'F#', 1, 0.5)], (64, 'C#', 2, 0.25), (64, 'F#', 2, 0.25), (64, 'A#', 2, 0.25), (64, 'C#', 3, 0.25), (64, 'F#', 3, 0.25), (64, 'A#', 3, 0.25), (64, 'C#', 4, 0.25), (64, 'F#', 4, 0.25), (64, 'A#', 4, 0.25), (64, 'C#', 5, 0.25), (64, 'rest_1.0'), [(65, 'B', 3, 2.0), (65, 'D', 4, 2.0), (65, 'F#', 4, 2.0)], [(65, 'B', 3, 2.0), (65, 'D', 4, 2.0), (65, 'G', 4, 2.0)], [(66, 'B', 3, 4.0), (66, 'E', 4, 4.0), (66, 'G', 4, 4.0)], [(67, 'B', 3, 2.0), (67, 'D', 4, 2.0), (67, 'F#', 4, 2.0)], [(67, 'B', 3, 2.0), (67, 'D', 4, 2.0), (67, 'G', 4, 2.0)], [(68, 'B', 3, 4.0), (68, 'E', 4, 4.0), (68, 'G', 4, 4.0)], (69, 'rest_2.0'), [(69, 'B', 1, 2.0), (69, 'F#', 2, 2.0), (69, 'B', 2, 2.0)], [(70, 'B', 1, 4.0), (70, 'F#', 2, 4.0), (70, 'B', 2, 4.0)]]}]\n"
     ]
    }
   ],
   "source": [
    "c3 = converter.parse(r'C:\\Users\\Lleis\\Documents\\SCHOOL\\digimagister\\digital_sheet_music_analysis\\musicxml notes\\bond3.musicxml')\n",
    "\n",
    "partStream2 = c3.parts.stream()\n",
    "note_info2= gather_part_info(partStream2, 'bond', 2)\n",
    "print(note_info2)"
   ]
  },
  {
   "cell_type": "code",
   "execution_count": 124,
   "id": "f06b0f44",
   "metadata": {},
   "outputs": [
    {
     "name": "stdout",
     "output_type": "stream",
     "text": [
      "b minor\n",
      "a minor\n",
      "[{'note_id': 2, 'sheet_name': 'bond', 'partName': 'Piano', 'sharps': 0, 'bpm': 'None', 'key': 'A minor', 'time_signature': '4/4', 'bpm (quarter note)': '72.0', 'clef': 'treble', 'measures': [(1, 'A', 3, 0.5), (1, 'E', 4, 0.5), (1, 'B', 3, 0.5), (1, 'E', 3, 0.5), (1, 'C', 4, 0.5), (1, 'E', 4, 0.5), (1, 'E', 4, 0.5), (1, 'E', 3, 0.5), (2, 'A', 3, 0.5), (2, 'F', 3, 0.5), (2, 'B', 3, 0.5), (2, 'F', 3, 0.5), (2, 'C', 4, 0.5), (2, 'F', 3, 0.5), (2, 'E', 4, 0.5), (2, 'F', 3, 0.5), (3, 'A', 3, 0.5), (3, 'F#', 3, 0.5), (3, 'B', 3, 0.5), (3, 'F#', 3, 0.5), (3, 'C', 4, 0.5), (3, 'F#', 3, 0.5), (3, 'E', 4, 0.5), (3, 'F#', 3, 0.5), (4, 'G#', 3, 0.5), (4, 'E', 3, 0.5), (4, 'A', 3, 0.5), (4, 'E', 3, 0.5), (4, 'B', 3, 2.0), [(5, 'A', 3, 1.0), (5, 'A', 4, 1.0)], [(5, 'B', 3, 1.0), (5, 'B', 4, 1.0)], [(5, 'C', 4, 1.0), (5, 'C', 5, 1.0)], [(5, 'E', 4, 1.0), (5, 'E', 5, 1.0)], [(6, 'A', 3, 1.0), (6, 'A', 4, 1.0)], [(6, 'B', 3, 1.0), (6, 'B', 4, 1.0)], [(6, 'C', 4, 1.0), (6, 'C', 5, 1.0)], [(6, 'E', 4, 1.0), (6, 'E', 5, 1.0)], [(7, 'A', 3, 1.0), (7, 'A', 4, 1.0)], [(7, 'B', 3, 1.0), (7, 'B', 4, 1.0)], [(7, 'C', 4, 1.0), (7, 'C', 5, 1.0)], [(7, 'E', 4, 0.5), (7, 'E', 5, 0.5)], (7, 'F', 4, 0.5), [(8, 'E', 3, 4.0), (8, 'B', 3, 4.0), (8, 'E', 4, 4.0)], (9, 'rest_1.0'), (9, 'A', 4, 1.0), (9, 'G', 4, 1.0), (9, 'G', 4, 0.5), (9, 'F', 4, 0.25), (9, 'E', 4, 0.25), (10, 'E', 4, 1.0), (10, 'rest_1.0'), (10, 'F', 5, 0.5), (10, 'A', 5, 0.5), (10, 'C', 6, 0.5), (10, 'B', 5, 0.5), (11, 'B', 5, 1.0), (11, 'A', 4, 1.0), (11, 'B', 4, 1.0), (11, 'B', 4, 0.5), (11, 'C', 5, 0.25), (11, 'A', 4, 0.25), (12, 'A', 4, 1.0), (12, 'rest_1.0'), (12, 'E', 6, 0.5), (12, 'D', 6, 0.5), (12, 'C', 6, 0.5), (12, 'B', 5, 0.5), (13, 'B', 5, 1.0), (13, 'A', 4, 1.0), (13, 'G', 4, 1.0), (13, 'G', 4, 0.5), (13, 'F', 4, 0.25), (13, 'E', 4, 0.25), (14, 'E', 4, 2.0), (14, 'rest_1.0'), (14, 'F#', 4, 0.5), (14, 'F', 4, 0.25), (14, 'E', 4, 0.25), (15, 'E', 4, 0.5), (15, 'F', 4, 0.25), (15, 'E', 4, 0.25), (15, 'E', 4, 0.5), (15, 'F', 4, 0.25), (15, 'E', 4, 0.25), (15, 'E', 4, 0.5), (15, 'F', 4, 0.25), (15, 'E', 4, 0.25), (15, 'E', 4, 0.5), (15, 'C', 4, 0.25), (15, 'C', 4, 0.25), (16, 'C', 4, 0.5), (16, 'B', 3, 0.5), (16, 'B', 3, 3.0), (17, 'rest_1.0'), [(17, 'A', 4, 1.0), (17, 'A', 5, 1.0)], [(17, 'G', 4, 1.0), (17, 'G', 5, 1.0)], [(17, 'G', 4, 0.5), (17, 'G', 5, 0.5)], [(17, 'F', 4, 0.25), (17, 'F', 5, 0.25)], [(17, 'E', 4, 0.25), (17, 'E', 5, 0.25)], [(18, 'E', 4, 1.0), (18, 'E', 5, 1.0)], (18, 'rest_1.0'), (18, 'F', 3, 0.5), (18, 'A', 3, 0.5), (18, 'B', 3, 0.5), (18, 'C', 4, 0.5), (19, 'B', 3, 1.0), [(19, 'G', 4, 0.25), (19, 'G', 5, 0.25)], [(19, 'A', 4, 0.75), (19, 'A', 5, 0.75)], [(19, 'B', 4, 1.0), (19, 'B', 5, 1.0)], [(19, 'B', 4, 0.5), (19, 'B', 5, 0.5)], [(19, 'C', 5, 0.25), (19, 'C', 6, 0.25)], [(19, 'A', 4, 0.25), (19, 'A', 5, 0.25)], [(20, 'A', 4, 1.0), (20, 'A', 5, 1.0)], (20, 'rest_1.0'), (20, 'E', 4, 0.5), (20, 'D', 4, 0.5), (20, 'C', 4, 0.5), (20, 'B', 3, 0.5), (21, 'B', 3, 1.0), [(21, 'A', 4, 1.0), (21, 'A', 5, 1.0)], [(21, 'G', 4, 1.0), (21, 'G', 5, 1.0)], [(21, 'G', 4, 0.5), (21, 'G', 5, 0.5)], [(21, 'F', 4, 0.25), (21, 'F', 5, 0.25)], [(21, 'E', 4, 0.25), (21, 'E', 5, 0.25)], [(22, 'E', 4, 0.5), (22, 'E', 5, 0.5)], [(22, 'D', 4, 0.5), (22, 'D', 5, 0.5)], [(22, 'D', 4, 1.0), (22, 'D', 5, 1.0)], (22, 'rest_0.5'), [(22, 'D', 4, 0.25), (22, 'D', 5, 0.25)], [(22, 'E', 4, 0.25), (22, 'E', 5, 0.25)], [(22, 'E', 4, 0.5), (22, 'E', 5, 0.5)], [(22, 'F', 4, 0.25), (22, 'F', 5, 0.25)], [(22, 'E', 4, 0.25), (22, 'E', 5, 0.25)], (23, 'C', 5, 0.25), (23, 'A', 4, 0.25), [(23, 'F', 4, 0.25), (23, 'F', 5, 0.25)], [(23, 'E', 4, 0.25), (23, 'E', 5, 0.25)], (23, 'C', 5, 0.25), (23, 'A', 4, 0.25), [(23, 'F', 4, 0.25), (23, 'F', 5, 0.25)], [(23, 'E', 4, 0.25), (23, 'E', 5, 0.25)], (23, 'C', 5, 0.25), (23, 'A', 4, 0.25), [(23, 'F', 4, 0.25), (23, 'F', 5, 0.25)], [(23, 'E', 4, 0.25), (23, 'E', 5, 0.25)], (23, 'C', 5, 0.25), (23, 'A', 4, 0.25), [(23, 'C', 4, 0.25), (23, 'C', 5, 0.25)], [(23, 'B', 3, 0.25), (23, 'B', 4, 0.25)], [(24, 'B', 3, 2.0), (24, 'B', 4, 2.0)], (24, 'rest_1.0'), [(24, 'B', 3, 0.25), (24, 'B', 4, 0.25)], [(24, 'C', 4, 0.75), (24, 'C', 5, 0.75)], [(25, 'D', 4, 0.5), (25, 'D', 5, 0.5)], [(25, 'C', 4, 0.5), (25, 'C', 5, 0.5)], [(25, 'C', 4, 0.5), (25, 'C', 5, 0.5)], [(25, 'B', 3, 0.25), (25, 'B', 4, 0.25)], [(25, 'C', 4, 0.25), (25, 'C', 5, 0.25)], [(25, 'C', 4, 0.5), (25, 'C', 5, 0.5)], [(25, 'A', 3, 0.5), (25, 'A', 4, 0.5)], [(25, 'B', 3, 0.25), (25, 'B', 4, 0.25)], [(25, 'C', 4, 0.75), (25, 'C', 5, 0.75)], [(26, 'D', 4, 0.5), (26, 'F', 4, 0.5), (26, 'D', 5, 0.5)], [(26, 'C', 4, 0.5), (26, 'E', 4, 0.5), (26, 'C', 5, 0.5)], [(26, 'C', 4, 0.5), (26, 'E', 4, 0.5), (26, 'C', 5, 0.5)], [(26, 'B', 3, 0.25), (26, 'D', 4, 0.25), (26, 'B', 4, 0.25)], [(26, 'C', 4, 0.25), (26, 'E', 4, 0.25), (26, 'C', 5, 0.25)], [(26, 'C', 4, 1.5), (26, 'E', 4, 1.5), (26, 'C', 5, 1.5)], [(26, 'B', 3, 0.25), (26, 'D', 4, 0.25), (26, 'B', 4, 0.25)], [(26, 'C', 4, 0.25), (26, 'E', 4, 0.25), (26, 'C', 5, 0.25)], [(27, 'D', 4, 0.5), (27, 'F', 4, 0.5), (27, 'D', 5, 0.5)], [(27, 'C', 4, 0.5), (27, 'E', 4, 0.5), (27, 'C', 5, 0.5)], [(27, 'C', 4, 0.75), (27, 'E', 4, 0.75), (27, 'C', 5, 0.75)], [(27, 'D', 4, 0.25), (27, 'D', 5, 0.25)], [(27, 'E', 4, 0.5), (27, 'E', 5, 0.5)], [(27, 'F', 4, 0.25), (27, 'F', 5, 0.25)], [(27, 'E', 4, 0.25), (27, 'E', 5, 0.25)], [(27, 'E', 4, 0.25), (27, 'E', 5, 0.25)], [(27, 'F', 4, 0.25), (27, 'F', 5, 0.25)], [(27, 'E', 4, 0.5), (27, 'E', 5, 0.5)], [(28, 'E', 4, 2.0), (28, 'E', 5, 2.0)], (28, 'rest_0.5'), (28, 'G#', 4, 0.25), (28, 'B', 4, 0.25), [(28, 'E', 4, 0.5), (28, 'E', 5, 0.5)], [(28, 'C', 5, 0.5), (28, 'C', 6, 0.5)], [(29, 'B', 4, 1.5), (29, 'E', 5, 1.5), (29, 'B', 5, 1.5)], [(29, 'E', 4, 0.25), (29, 'E', 5, 0.25)], [(29, 'A', 4, 0.25), (29, 'C', 5, 0.25), (29, 'A', 5, 0.25)], [(29, 'A', 4, 1.5), (29, 'C', 5, 1.5), (29, 'A', 5, 1.5)], [(29, 'F', 4, 0.25), (29, 'F', 5, 0.25)], [(29, 'E', 4, 0.25), (29, 'A', 4, 0.25), (29, 'E', 5, 0.25)], [(30, 'E', 4, 0.25), (30, 'A', 4, 0.25), (30, 'E', 5, 0.25)], [(30, 'D', 4, 0.75), (30, 'D', 5, 0.75)], (30, 'rest_1.0'), (30, 'rest_1.0'), [(30, 'E', 4, 0.5), (30, 'E', 5, 0.5)], [(30, 'C', 5, 0.5), (30, 'C', 6, 0.5)], [(31, 'B', 4, 1.5), (31, 'E', 5, 1.5), (31, 'B', 5, 1.5)], [(31, 'A', 4, 0.25), (31, 'A', 5, 0.25)], [(31, 'C', 5, 0.25), (31, 'E', 5, 0.25), (31, 'C', 6, 0.25)], [(31, 'C', 5, 1.5), (31, 'E', 5, 1.5), (31, 'C', 6, 1.5)], [(31, 'D', 5, 0.25), (31, 'D', 6, 0.25)], [(31, 'D', 5, 0.25), (31, 'F', 5, 0.25), (31, 'D', 6, 0.25)], [(32, 'D', 5, 0.25), (32, 'F', 5, 0.25), (32, 'D', 6, 0.25)], [(32, 'C', 5, 0.25), (32, 'C', 6, 0.25)], [(32, 'A', 4, 0.5), (32, 'A', 5, 0.5)], (32, 'rest_1.0'), (32, 'rest_1.0'), [(32, 'E', 4, 0.5), (32, 'E', 5, 0.5)], [(32, 'F', 4, 0.25), (32, 'F', 5, 0.25)], [(32, 'E', 4, 0.25), (32, 'A', 4, 0.25), (32, 'C', 5, 0.25), (32, 'E', 5, 0.25)], [(33, 'E', 4, 1.0), (33, 'A', 4, 1.0), (33, 'C', 5, 1.0), (33, 'E', 5, 1.0)], [(33, 'C', 4, 0.5), (33, 'C', 5, 0.5)], [(33, 'D', 4, 0.25), (33, 'D', 5, 0.25)], [(33, 'A', 3, 0.25), (33, 'C', 4, 0.25), (33, 'E', 4, 0.25), (33, 'A', 4, 0.25)], [(33, 'A', 3, 1.0), (33, 'C', 4, 1.0), (33, 'E', 4, 1.0), (33, 'A', 4, 1.0)], [(33, 'E', 4, 0.5), (33, 'E', 5, 0.5)], [(33, 'F', 4, 0.25), (33, 'F', 5, 0.25)], [(33, 'E', 4, 0.25), (33, 'A', 4, 0.25), (33, 'C', 5, 0.25), (33, 'E', 5, 0.25)], [(34, 'E', 4, 0.5), (34, 'A', 4, 0.5), (34, 'C', 5, 0.5), (34, 'E', 5, 0.5)], [(34, 'D', 4, 0.25), (34, 'D', 5, 0.25)], [(34, 'G', 4, 0.25), (34, 'G', 5, 0.25)], [(34, 'G', 4, 0.5), (34, 'G', 5, 0.5)], [(34, 'F', 4, 0.25), (34, 'F', 5, 0.25)], [(34, 'E', 4, 0.25), (34, 'E', 5, 0.25)], [(34, 'E', 4, 1.0), (34, 'E', 5, 1.0)], [(34, 'C', 4, 0.5), (34, 'C', 5, 0.5)], [(34, 'D', 4, 0.25), (34, 'D', 5, 0.25)], [(34, 'E', 4, 0.25), (34, 'E', 5, 0.25)], [(35, 'E', 4, 1.0), (35, 'E', 5, 1.0)], [(35, 'C', 4, 1.0), (35, 'C', 5, 1.0)], [(35, 'B', 3, 1.0), (35, 'B', 4, 1.0)], (35, 'rest_0.5'), [(35, 'G', 3, 0.25), (35, 'G', 4, 0.25)], [(35, 'A', 3, 0.25), (35, 'A', 4, 0.25)], [(36, 'A', 3, 1.0), (36, 'A', 4, 1.0)], (36, 'rest_0.5'), [(36, 'C', 4, 0.5), (36, 'C', 5, 0.5)], [(36, 'B', 3, 0.5), (36, 'F', 4, 0.5), (36, 'A', 4, 0.5), (36, 'B', 4, 0.5)], [(36, 'C', 4, 0.5), (36, 'F', 4, 0.5), (36, 'A', 4, 0.5), (36, 'C', 5, 0.5)], [(36, 'B', 3, 0.5), (36, 'F', 4, 0.5), (36, 'A', 4, 0.5), (36, 'B', 4, 0.5)], [(36, 'C', 4, 0.25), (36, 'F', 4, 0.25), (36, 'A', 4, 0.25), (36, 'C', 5, 0.25)], [(36, 'A', 3, 0.25), (36, 'C', 4, 0.25), (36, 'E', 4, 0.25), (36, 'A', 4, 0.25)], [(37, 'A', 3, 0.25), (37, 'C', 4, 0.25), (37, 'E', 4, 0.25), (37, 'A', 4, 0.25)], (37, 'C', 3, 0.25), (37, 'E', 3, 0.25), (37, 'C', 3, 0.25), [(37, 'B', 2, 0.25), (37, 'B', 3, 0.25)], (37, 'E', 3, 0.25), (37, 'A', 3, 0.25), (37, 'E', 3, 0.25), [(37, 'C', 3, 0.25), (37, 'C', 4, 0.25)], (37, 'E', 3, 0.25), (37, 'A', 3, 0.25), (37, 'E', 3, 0.25), [(37, 'E', 3, 0.25), (37, 'E', 4, 0.25)], (37, 'A', 3, 0.25), (37, 'C', 4, 0.25), (37, 'A', 3, 0.25), [(38, 'A', 2, 0.25), (38, 'A', 3, 0.25)], (38, 'C', 3, 0.25), (38, 'F', 3, 0.25), (38, 'C', 3, 0.25), [(38, 'B', 2, 0.25), (38, 'B', 3, 0.25)], (38, 'F', 3, 0.25), (38, 'A', 3, 0.25), (38, 'F', 3, 0.25), [(38, 'C', 3, 0.25), (38, 'C', 4, 0.25)], (38, 'F', 3, 0.25), (38, 'A', 3, 0.25), (38, 'F', 3, 0.25), [(38, 'E', 3, 0.25), (38, 'E', 4, 0.25)], (38, 'A', 3, 0.25), (38, 'C', 4, 0.25), (38, 'A', 3, 0.25), [(39, 'A', 2, 0.25), (39, 'A', 3, 0.25)], (39, 'C', 3, 0.25), (39, 'F#', 3, 0.25), (39, 'C', 3, 0.25), [(39, 'B', 2, 0.25), (39, 'B', 3, 0.25)], (39, 'D', 3, 0.25), (39, 'F#', 3, 0.25), (39, 'D', 3, 0.25), [(39, 'C', 3, 0.25), (39, 'C', 4, 0.25)], (39, 'F#', 3, 0.25), (39, 'A', 3, 0.25), (39, 'F#', 3, 0.25), [(39, 'E', 3, 0.25), (39, 'E', 4, 0.25)], (39, 'A', 3, 0.25), (39, 'C', 4, 0.25), (39, 'A', 3, 0.25), [(40, 'D', 3, 0.25), (40, 'G#', 3, 0.25), (40, 'D', 4, 0.25)], [(40, 'D', 3, 0.25), (40, 'G#', 3, 0.25), (40, 'D', 4, 0.25)], [(40, 'D', 3, 0.25), (40, 'G#', 3, 0.25), (40, 'D', 4, 0.25)], [(40, 'D', 3, 0.25), (40, 'G#', 3, 0.25), (40, 'D', 4, 0.25)], [(40, 'D', 3, 0.25), (40, 'A', 3, 0.25), (40, 'D', 4, 0.25)], [(40, 'D', 3, 0.25), (40, 'A', 3, 0.25), (40, 'D', 4, 0.25)], [(40, 'D', 3, 0.25), (40, 'A', 3, 0.25), (40, 'D', 4, 0.25)], [(40, 'D', 3, 0.25), (40, 'A', 3, 0.25), (40, 'D', 4, 0.25)], [(40, 'D', 3, 0.25), (40, 'B', 3, 0.25), (40, 'D', 4, 0.25)], [(40, 'D', 3, 0.25), (40, 'B', 3, 0.25), (40, 'D', 4, 0.25)], [(40, 'D', 3, 0.25), (40, 'B', 3, 0.25), (40, 'D', 4, 0.25)], [(40, 'D', 3, 0.25), (40, 'B', 3, 0.25), (40, 'D', 4, 0.25)], [(40, 'D', 3, 0.25), (40, 'B', 3, 0.25), (40, 'D', 4, 0.25)], [(40, 'D', 3, 0.25), (40, 'B', 3, 0.25), (40, 'D', 4, 0.25)], [(40, 'D', 3, 0.25), (40, 'B', 3, 0.25), (40, 'D', 4, 0.25)], [(40, 'D', 3, 0.25), (40, 'B', 3, 0.25), (40, 'D', 4, 0.25)], (41, 'rest_0.25'), (41, 'C', 4, 0.25), (41, 'E', 4, 0.25), (41, 'C', 4, 0.25), (41, 'A', 4, 0.25), (41, 'C', 4, 0.25), (41, 'E', 4, 0.25), (41, 'C', 4, 0.25), (41, 'G', 4, 0.25), (41, 'A', 3, 0.25), (41, 'C', 4, 0.25), (41, 'A', 3, 0.25), (41, 'C', 4, 0.25), (41, 'A', 3, 0.25), (41, 'F', 4, 0.25), (41, 'E', 4, 0.25), (42, 'E', 4, 0.25), (42, 'F#', 3, 0.25), (42, 'D', 4, 0.25), (42, 'F#', 3, 0.25), (42, 'A', 3, 0.25), (42, 'F#', 3, 0.25), (42, 'A', 3, 0.25), (42, 'F#', 3, 0.25), (42, 'A', 3, 0.25), (42, 'F#', 3, 0.25), (42, 'A', 3, 0.25), (42, 'F#', 3, 0.25), (42, 'B', 3, 0.25), (42, 'F#', 3, 0.25), (42, 'C', 4, 0.25), (42, 'F#', 3, 0.25), (43, 'B', 3, 0.25), (43, 'C', 4, 0.25), (43, 'E', 4, 0.25), (43, 'C', 4, 0.25), (43, 'G', 4, 0.25), (43, 'C', 4, 0.25), (43, 'A', 4, 0.25), (43, 'C', 4, 0.25), (43, 'B', 4, 0.25), (43, 'C', 4, 0.25), (43, 'A', 4, 0.25), (43, 'C', 4, 0.25), (43, 'B', 4, 0.25), (43, 'C', 4, 0.25), (43, 'C', 5, 0.25), (43, 'A', 4, 0.25), (44, 'A', 4, 0.25), (44, 'A', 3, 0.25), (44, 'D', 4, 0.25), (44, 'A', 3, 0.25), (44, 'F#', 4, 0.25), (44, 'A', 3, 0.25), (44, 'G', 4, 0.25), (44, 'F#', 4, 0.25), (44, 'E', 4, 0.25), (44, 'F', 3, 0.25), (44, 'D', 4, 0.25), (44, 'F', 3, 0.25), (44, 'C', 4, 0.25), (44, 'F', 3, 0.25), (44, 'B', 3, 0.25), (44, 'F', 3, 0.25), (45, 'A', 3, 0.25), (45, 'B', 3, 0.25), (45, 'C', 4, 0.25), (45, 'E', 4, 0.25), (45, 'G', 4, 0.25), (45, 'C', 4, 0.25), (45, 'A', 4, 0.25), (45, 'C', 4, 0.25), (45, 'G', 4, 0.25), (45, 'A', 3, 0.25), (45, 'F', 4, 0.25), (45, 'A', 3, 0.25), (45, 'E', 4, 0.25), (45, 'A', 3, 0.25), (45, 'F', 4, 0.25), (45, 'E', 4, 0.25), (46, 'E', 4, 0.25), (46, 'F#', 3, 0.25), (46, 'A', 3, 0.25), (46, 'F#', 3, 0.25), (46, 'D', 4, 0.25), (46, 'F#', 3, 0.25), (46, 'A', 3, 0.25), (46, 'F#', 3, 0.25), (46, 'F', 3, 0.25), (46, 'A', 3, 0.25), (46, 'D', 4, 0.25), (46, 'A', 3, 0.25), (46, 'E', 4, 0.25), (46, 'A', 3, 0.25), (46, 'F', 4, 0.25), (46, 'E', 4, 0.25), (47, 'E', 4, 0.25), (47, 'A', 3, 0.25), (47, 'F', 4, 0.25), (47, 'E', 4, 0.25), [(47, 'A', 4, 1.0), (47, 'A', 5, 1.0)], [(47, 'B', 4, 1.0), (47, 'B', 5, 1.0)], [(47, 'C', 5, 0.5), (47, 'C', 6, 0.5)], [(47, 'A', 3, 0.25), (47, 'C', 4, 0.25), (47, 'A', 4, 0.25)], [(47, 'A', 3, 0.25), (47, 'C', 4, 0.25), (47, 'A', 4, 0.25)], [(48, 'A', 3, 0.5), (48, 'C', 4, 0.5), (48, 'A', 4, 0.5)], [(48, 'B', 3, 1.5), (48, 'D', 4, 1.5), (48, 'B', 4, 1.5)], (48, 'rest_1.0'), [(48, 'E', 4, 0.5), (48, 'E', 5, 0.5)], [(48, 'C', 5, 0.5), (48, 'E', 5, 0.5), (48, 'C', 6, 0.5)], [(49, 'B', 4, 1.5), (49, 'D', 5, 1.5), (49, 'B', 5, 1.5)], [(49, 'E', 4, 0.25), (49, 'A', 4, 0.25), (49, 'E', 5, 0.25)], [(49, 'A', 4, 0.25), (49, 'C', 5, 0.25), (49, 'A', 5, 0.25)], [(49, 'A', 4, 1.5), (49, 'C', 5, 1.5), (49, 'A', 5, 1.5)], [(49, 'F', 4, 0.25), (49, 'A', 4, 0.25), (49, 'F', 5, 0.25)], [(49, 'E', 4, 0.25), (49, 'A', 4, 0.25), (49, 'E', 5, 0.25)], [(50, 'E', 4, 0.5), (50, 'A', 4, 0.5), (50, 'E', 5, 0.5)], [(50, 'D', 4, 0.5), (50, 'D', 5, 0.5)], (50, 'rest_1.0'), (50, 'rest_1.0'), [(50, 'E', 4, 0.5), (50, 'E', 5, 0.5)], [(50, 'C', 5, 0.5), (50, 'E', 5, 0.5), (50, 'C', 6, 0.5)], [(51, 'B', 4, 1.5), (51, 'D', 5, 1.5), (51, 'B', 5, 1.5)], [(51, 'A', 4, 0.25), (51, 'C', 5, 0.25), (51, 'A', 5, 0.25)], [(51, 'C', 5, 0.25), (51, 'E', 5, 0.25), (51, 'C', 6, 0.25)], [(51, 'C', 5, 1.5), (51, 'E', 5, 1.5), (51, 'C', 6, 1.5)], [(51, 'D', 5, 0.25), (51, 'F', 5, 0.25), (51, 'D', 6, 0.25)], [(51, 'D', 5, 0.25), (51, 'F', 5, 0.25), (51, 'D', 6, 0.25)], [(52, 'D', 5, 0.25), (52, 'F', 5, 0.25), (52, 'D', 6, 0.25)], [(52, 'C', 5, 0.25), (52, 'E', 5, 0.25), (52, 'C', 6, 0.25)], [(52, 'A', 4, 0.5), (52, 'C', 5, 0.5), (52, 'A', 5, 0.5)], (52, 'rest_1.0'), (52, 'rest_1.0'), (52, 'E', 5, 0.5), (52, 'F', 5, 0.25), (52, 'E', 5, 0.25), (53, 'E', 5, 0.25), (53, 'E', 4, 0.25), (53, 'A', 4, 0.25), (53, 'E', 4, 0.25), (53, 'C', 5, 0.25), (53, 'E', 4, 0.25), (53, 'D', 5, 0.25), (53, 'A', 4, 0.25), (53, 'A', 4, 0.25), (53, 'F', 4, 0.25), (53, 'A', 4, 0.25), (53, 'F', 4, 0.25), (53, 'E', 5, 0.25), (53, 'F', 4, 0.25), (53, 'F', 5, 0.25), (53, 'E', 5, 0.25), (54, 'E', 5, 0.25), (54, 'A', 4, 0.25), (54, 'D', 5, 0.25), (54, 'G', 5, 0.25), (54, 'G', 5, 0.25), (54, 'A', 4, 0.25), (54, 'F', 5, 0.25), (54, 'E', 5, 0.25), (54, 'E', 5, 0.25), (54, 'F', 4, 0.25), (54, 'D', 5, 0.25), (54, 'C', 5, 0.25), (54, 'C', 5, 0.25), (54, 'F', 4, 0.25), (54, 'D', 5, 0.25), (54, 'E', 5, 0.25), (55, 'E', 5, 0.25), (55, 'E', 4, 0.25), (55, 'A', 4, 0.25), (55, 'E', 4, 0.25), (55, 'C', 5, 0.25), (55, 'E', 4, 0.25), (55, 'A', 4, 0.25), (55, 'E', 4, 0.25), (55, 'B', 4, 0.25), (55, 'C', 4, 0.25), (55, 'F', 4, 0.25), (55, 'C', 4, 0.25), (55, 'B', 3, 0.25), (55, 'C', 4, 0.25), (55, 'G', 4, 0.25), (55, 'A', 4, 0.25), (56, 'A', 4, 0.25), (56, 'F', 4, 0.25), (56, 'D', 4, 0.25), (56, 'F', 4, 0.25), (56, 'A', 4, 0.25), (56, 'F', 4, 0.25), [(56, 'C', 4, 0.25), (56, 'C', 5, 0.25)], (56, 'F', 4, 0.25), [(56, 'B', 3, 0.25), (56, 'B', 4, 0.25)], (56, 'F', 4, 0.25), [(56, 'C', 4, 0.25), (56, 'C', 5, 0.25)], (56, 'F', 4, 0.25), [(56, 'B', 3, 0.25), (56, 'B', 4, 0.25)], (56, 'F', 4, 0.25), [(56, 'C', 4, 0.25), (56, 'C', 5, 0.25)], [(56, 'A', 3, 0.25), (56, 'A', 4, 0.25)], [(57, 'A', 3, 0.25), (57, 'A', 4, 0.25)], (57, 'C', 4, 0.25), (57, 'E', 4, 0.25), (57, 'C', 4, 0.25), [(57, 'B', 3, 0.25), (57, 'B', 4, 0.25)], (57, 'E', 4, 0.25), (57, 'A', 4, 0.25), (57, 'E', 4, 0.25), [(57, 'C', 4, 0.25), (57, 'C', 5, 0.25)], (57, 'E', 4, 0.25), (57, 'A', 4, 0.25), (57, 'E', 4, 0.25), [(57, 'E', 4, 0.25), (57, 'E', 5, 0.25)], (57, 'A', 4, 0.25), (57, 'C', 5, 0.25), (57, 'A', 4, 0.25), [(58, 'A', 3, 0.25), (58, 'A', 4, 0.25)], (58, 'C', 4, 0.25), (58, 'F', 4, 0.25), (58, 'C', 4, 0.25), [(58, 'B', 3, 0.25), (58, 'B', 4, 0.25)], (58, 'F', 4, 0.25), (58, 'A', 4, 0.25), (58, 'F', 4, 0.25), [(58, 'C', 4, 0.5), (58, 'C', 5, 0.5)], [(58, 'C', 5, 0.5), (58, 'C', 6, 0.5)], [(58, 'B', 4, 0.5), (58, 'B', 5, 0.5)], [(58, 'C', 5, 0.25), (58, 'C', 6, 0.25)], [(58, 'D', 5, 0.25), (58, 'F', 5, 0.25), (58, 'A', 5, 0.25), (58, 'D', 6, 0.25)], [(59, 'D', 5, 0.25), (59, 'F', 5, 0.25), (59, 'A', 5, 0.25), (59, 'D', 6, 0.25)], [(59, 'C', 5, 0.25), (59, 'C', 6, 0.25)], [(59, 'A', 4, 0.5), (59, 'C', 5, 0.5), (59, 'F#', 5, 0.5), (59, 'A', 5, 0.5)], [(59, 'A', 3, 0.25), (59, 'A', 4, 0.25)], (59, 'D', 4, 0.25), (59, 'F#', 4, 0.25), (59, 'D', 4, 0.25), [(59, 'C', 4, 0.25), (59, 'C', 5, 0.25)], (59, 'F#', 4, 0.25), (59, 'A', 4, 0.25), (59, 'F#', 4, 0.25), [(59, 'E', 4, 0.25), (59, 'E', 5, 0.25)], (59, 'A', 4, 0.25), (59, 'C', 5, 0.25), (59, 'A', 4, 0.25), [(60, 'G#', 3, 0.25), (60, 'G#', 4, 0.25)], (60, 'B', 3, 0.25), (60, 'D', 4, 0.25), (60, 'B', 3, 0.25), [(60, 'A', 3, 0.25), (60, 'A', 4, 0.25)], (60, 'D', 4, 0.25), (60, 'E', 4, 0.25), (60, 'D', 4, 0.25), [(60, 'B', 3, 0.5), (60, 'B', 4, 0.5)], [(60, 'C', 4, 0.5), (60, 'C', 5, 0.5)], [(60, 'B', 3, 0.5), (60, 'B', 4, 0.5)], [(60, 'C', 4, 0.25), (60, 'C', 5, 0.25)], [(60, 'E', 4, 0.25), (60, 'A', 4, 0.25), (60, 'C', 5, 0.25), (60, 'E', 5, 0.25)], [(61, 'E', 4, 0.5), (61, 'A', 4, 0.5), (61, 'C', 5, 0.5), (61, 'E', 5, 0.5)], [(61, 'A', 3, 0.25), (61, 'C', 4, 0.25), (61, 'E', 4, 0.25), (61, 'A', 4, 0.25)], [(61, 'A', 3, 0.25), (61, 'C', 4, 0.25), (61, 'E', 4, 0.25), (61, 'A', 4, 0.25)], [(61, 'B', 3, 0.25), (61, 'E', 4, 0.25), (61, 'A', 4, 0.25), (61, 'B', 4, 0.25)], [(61, 'B', 3, 0.25), (61, 'E', 4, 0.25), (61, 'A', 4, 0.25), (61, 'B', 4, 0.25)], [(61, 'B', 3, 0.25), (61, 'E', 4, 0.25), (61, 'A', 4, 0.25), (61, 'B', 4, 0.25)], [(61, 'B', 3, 0.25), (61, 'E', 4, 0.25), (61, 'A', 4, 0.25), (61, 'B', 4, 0.25)], [(61, 'C', 4, 0.25), (61, 'E', 4, 0.25), (61, 'A', 4, 0.25), (61, 'C', 5, 0.25)], [(61, 'C', 4, 0.25), (61, 'E', 4, 0.25), (61, 'A', 4, 0.25), (61, 'C', 5, 0.25)], [(61, 'C', 4, 0.25), (61, 'E', 4, 0.25), (61, 'A', 4, 0.25), (61, 'C', 5, 0.25)], [(61, 'C', 4, 0.25), (61, 'E', 4, 0.25), (61, 'A', 4, 0.25), (61, 'C', 5, 0.25)], [(61, 'E', 4, 0.25), (61, 'A', 4, 0.25), (61, 'C', 5, 0.25), (61, 'E', 5, 0.25)], [(61, 'E', 4, 0.25), (61, 'A', 4, 0.25), (61, 'C', 5, 0.25), (61, 'E', 5, 0.25)], [(61, 'E', 4, 0.25), (61, 'A', 4, 0.25), (61, 'C', 5, 0.25), (61, 'E', 5, 0.25)], [(61, 'E', 4, 0.25), (61, 'A', 4, 0.25), (61, 'C', 5, 0.25), (61, 'E', 5, 0.25)], [(62, 'A', 3, 0.25), (62, 'C', 4, 0.25), (62, 'E', 4, 0.25), (62, 'A', 4, 0.25)], [(62, 'A', 3, 0.25), (62, 'C', 4, 0.25), (62, 'E', 4, 0.25), (62, 'A', 4, 0.25)], [(62, 'A', 3, 0.25), (62, 'C', 4, 0.25), (62, 'E', 4, 0.25), (62, 'A', 4, 0.25)], [(62, 'A', 3, 0.25), (62, 'C', 4, 0.25), (62, 'E', 4, 0.25), (62, 'A', 4, 0.25)], [(62, 'B', 3, 0.25), (62, 'E', 4, 0.25), (62, 'A', 4, 0.25), (62, 'B', 4, 0.25)], [(62, 'B', 3, 0.25), (62, 'E', 4, 0.25), (62, 'A', 4, 0.25), (62, 'B', 4, 0.25)], [(62, 'B', 3, 0.25), (62, 'E', 4, 0.25), (62, 'A', 4, 0.25), (62, 'B', 4, 0.25)], [(62, 'B', 3, 0.25), (62, 'E', 4, 0.25), (62, 'A', 4, 0.25), (62, 'B', 4, 0.25)], [(62, 'C', 4, 0.25), (62, 'E', 4, 0.25), (62, 'A', 4, 0.25), (62, 'C', 5, 0.25)], [(62, 'C', 4, 0.25), (62, 'E', 4, 0.25), (62, 'A', 4, 0.25), (62, 'C', 5, 0.25)], [(62, 'C', 4, 0.25), (62, 'E', 4, 0.25), (62, 'A', 4, 0.25), (62, 'C', 5, 0.25)], [(62, 'C', 4, 0.25), (62, 'E', 4, 0.25), (62, 'A', 4, 0.25), (62, 'C', 5, 0.25)], [(62, 'E', 4, 0.25), (62, 'A', 4, 0.25), (62, 'C', 5, 0.25), (62, 'E', 5, 0.25)], [(62, 'E', 4, 0.25), (62, 'A', 4, 0.25), (62, 'C', 5, 0.25), (62, 'E', 5, 0.25)], [(62, 'E', 4, 0.25), (62, 'A', 4, 0.25), (62, 'C', 5, 0.25), (62, 'E', 5, 0.25)], [(62, 'E', 4, 0.25), (62, 'A', 4, 0.25), (62, 'C', 5, 0.25), (62, 'E', 5, 0.25)], [(63, 'A', 3, 0.25), (63, 'D', 4, 0.25), (63, 'F#', 4, 0.25), (63, 'A', 4, 0.25)], [(63, 'A', 3, 0.25), (63, 'D', 4, 0.25), (63, 'F#', 4, 0.25), (63, 'A', 4, 0.25)], [(63, 'A', 3, 0.25), (63, 'D', 4, 0.25), (63, 'F#', 4, 0.25), (63, 'A', 4, 0.25)], [(63, 'A', 3, 0.25), (63, 'D', 4, 0.25), (63, 'F#', 4, 0.25), (63, 'A', 4, 0.25)], [(63, 'B', 3, 0.25), (63, 'D', 4, 0.25), (63, 'F#', 4, 0.25), (63, 'B', 4, 0.25)], [(63, 'B', 3, 0.25), (63, 'D', 4, 0.25), (63, 'F#', 4, 0.25), (63, 'B', 4, 0.25)], [(63, 'B', 3, 0.25), (63, 'D', 4, 0.25), (63, 'F#', 4, 0.25), (63, 'B', 4, 0.25)], [(63, 'B', 3, 0.25), (63, 'D', 4, 0.25), (63, 'F#', 4, 0.25), (63, 'B', 4, 0.25)], [(63, 'C', 4, 0.25), (63, 'F#', 4, 0.25), (63, 'A', 4, 0.25), (63, 'C', 5, 0.25)], [(63, 'C', 4, 0.25), (63, 'F#', 4, 0.25), (63, 'A', 4, 0.25), (63, 'C', 5, 0.25)], [(63, 'C', 4, 0.25), (63, 'F#', 4, 0.25), (63, 'A', 4, 0.25), (63, 'C', 5, 0.25)], [(63, 'C', 4, 0.25), (63, 'F#', 4, 0.25), (63, 'A', 4, 0.25), (63, 'C', 5, 0.25)], [(63, 'E', 4, 0.25), (63, 'A', 4, 0.25), (63, 'C', 5, 0.25), (63, 'E', 5, 0.25)], [(63, 'E', 4, 0.25), (63, 'A', 4, 0.25), (63, 'C', 5, 0.25), (63, 'E', 5, 0.25)], [(63, 'E', 4, 0.25), (63, 'A', 4, 0.25), (63, 'C', 5, 0.25), (63, 'E', 5, 0.25)], [(63, 'E', 4, 0.25), (63, 'A', 4, 0.25), (63, 'C', 5, 0.25), (63, 'E', 5, 0.25)], [(64, 'D', 4, 2.0), (64, 'G#', 4, 2.0), (64, 'B', 4, 2.0), (64, 'D', 5, 2.0)], (64, 'rest_1.0'), (64, 'E', 5, 0.5), (64, 'F', 5, 0.25), (64, 'E', 5, 0.25), (65, 'E', 5, 1.0), (65, 'C', 5, 0.5), (65, 'B', 4, 0.25), (65, 'A', 4, 0.25), (65, 'A', 4, 1.0), (65, 'E', 5, 0.5), (65, 'F', 5, 0.25), (65, 'E', 5, 0.25), (66, 'E', 5, 0.5), (66, 'C', 5, 0.25), (66, 'C', 5, 0.25), (66, 'C', 5, 0.5), (66, 'B', 4, 0.25), (66, 'A', 4, 0.25), (66, 'A', 4, 0.5), (66, 'B', 4, 0.5), (66, 'C', 5, 0.5), (66, 'D', 5, 0.25), (66, 'E', 5, 0.25), (67, 'E', 5, 1.0), (67, 'C', 5, 1.0), (67, 'B', 4, 1.0), (67, 'B', 4, 0.5), (67, 'C', 5, 0.25), (67, 'A', 4, 0.25), (68, 'A', 4, 1.0), (68, 'rest_0.5'), (68, 'C', 5, 0.5), (68, 'B', 4, 0.5), (68, 'C', 5, 0.5), (68, 'B', 4, 0.5), (68, 'C', 5, 0.25), (68, 'A', 4, 0.25), (69, 'A', 4, 2.0), [(69, 'C', 3, 2.0), (69, 'E', 3, 2.0), (69, 'G#', 3, 2.0), (69, 'B', 3, 2.0)], [(70, 'C', 3, 4.0), (70, 'E', 3, 4.0), (70, 'G#', 3, 4.0), (70, 'B', 3, 4.0)]]}, {'note_id': 2, 'sheet_name': 'bond', 'partName': 'Piano', 'sharps': 0, 'bpm': 'None', 'key': 'A minor', 'time_signature': '4/4', 'bpm (quarter note)': '72.0', 'clef': 'bass', 'measures': [[(1, 'A', 1, 3.0), (1, 'A', 2, 3.0)], (1, 'E', 5, 1.0), [(2, 'F', 1, 3.0), (2, 'F', 2, 3.0)], (2, 'E', 5, 1.0), [(3, 'D', 1, 3.0), (3, 'D', 2, 3.0)], (3, 'E', 5, 1.0), [(4, 'E', 1, 4.0), (4, 'E', 2, 4.0)], [(8, 'E', 0, 4.0), (8, 'E', 1, 4.0)], (9, 'A', 2, 0.5), (9, 'E', 3, 0.5), (9, 'B', 3, 1.0), (9, 'F', 2, 0.5), (9, 'C', 3, 0.5), (9, 'A', 3, 1.0), (10, 'D', 2, 0.5), (10, 'A', 2, 0.5), (10, 'D', 3, 3.0), (11, 'A', 2, 0.5), (11, 'E', 3, 0.5), (11, 'B', 3, 1.0), (11, 'F', 2, 0.5), (11, 'C', 3, 0.5), (11, 'A', 3, 1.0), (12, 'D', 2, 0.5), (12, 'A', 2, 0.5), (12, 'D', 3, 3.0), (13, 'A', 2, 0.5), (13, 'E', 3, 0.5), (13, 'B', 3, 1.0), (13, 'F', 2, 0.5), (13, 'C', 3, 0.5), (13, 'A', 3, 1.0), (14, 'D', 2, 0.5), (14, 'A', 2, 0.5), (14, 'D', 3, 0.5), (14, 'A', 2, 0.5), (14, 'E', 3, 0.5), (14, 'A', 2, 0.5), (14, 'F', 3, 1.0), (15, 'F', 2, 0.5), (15, 'C', 3, 0.5), (15, 'A', 3, 0.5), (15, 'C', 3, 0.5), (15, 'B', 3, 0.5), (15, 'C', 3, 0.5), (15, 'C', 4, 1.0), [(16, 'E', 2, 4.0), (16, 'B', 2, 4.0), (16, 'E', 3, 4.0)], (17, 'A', 2, 0.25), (17, 'E', 3, 0.25), (17, 'A', 3, 0.25), (17, 'E', 3, 0.25), (17, 'B', 3, 0.25), (17, 'E', 3, 0.25), (17, 'A', 3, 0.25), (17, 'E', 3, 0.25), (17, 'F', 2, 0.25), (17, 'C', 3, 0.25), (17, 'F', 3, 0.25), (17, 'C', 3, 0.25), (17, 'A', 3, 0.25), (17, 'C', 3, 0.25), (17, 'F', 3, 0.25), (17, 'C', 3, 0.25), (18, 'D', 2, 0.25), (18, 'A', 2, 0.25), (18, 'D', 3, 0.25), (18, 'A', 2, 0.25), (18, 'F#', 3, 0.25), (18, 'A', 2, 0.25), (18, 'D', 3, 0.25), (18, 'A', 2, 0.25), (18, 'D', 2, 0.25), (18, 'A', 2, 0.25), (18, 'D', 3, 0.25), (18, 'A', 2, 0.25), (18, 'F', 3, 0.25), (18, 'A', 2, 0.25), (18, 'D', 3, 0.25), (18, 'A', 2, 0.25), (19, 'A', 2, 0.25), (19, 'E', 3, 0.25), (19, 'A', 3, 0.25), (19, 'E', 3, 0.25), (19, 'C', 4, 0.25), (19, 'E', 3, 0.25), (19, 'A', 3, 0.25), (19, 'E', 3, 0.25), (19, 'F', 2, 0.25), (19, 'C', 3, 0.25), (19, 'F', 3, 0.25), (19, 'C', 3, 0.25), (19, 'A', 3, 0.25), (19, 'C', 3, 0.25), (19, 'F', 3, 0.25), (19, 'C', 3, 0.25), (20, 'D', 2, 0.25), (20, 'A', 2, 0.25), (20, 'D', 3, 0.25), (20, 'A', 2, 0.25), (20, 'F#', 3, 0.25), (20, 'A', 2, 0.25), (20, 'D', 3, 0.25), (20, 'A', 2, 0.25), (20, 'D', 2, 0.25), (20, 'A', 2, 0.25), (20, 'D', 3, 0.25), (20, 'A', 2, 0.25), (20, 'F', 3, 0.25), (20, 'A', 2, 0.25), (20, 'D', 3, 0.25), (20, 'A', 2, 0.25), (21, 'A', 2, 0.25), (21, 'E', 3, 0.25), (21, 'A', 3, 0.25), (21, 'E', 3, 0.25), (21, 'C', 4, 0.25), (21, 'E', 3, 0.25), (21, 'A', 3, 0.25), (21, 'E', 3, 0.25), (21, 'F', 2, 0.25), (21, 'C', 3, 0.25), (21, 'F', 3, 0.25), (21, 'C', 3, 0.25), (21, 'A', 3, 0.25), (21, 'C', 3, 0.25), (21, 'F', 3, 0.25), (21, 'C', 3, 0.25), (22, 'D', 2, 0.25), (22, 'A', 2, 0.25), (22, 'D', 3, 0.25), (22, 'A', 2, 0.25), (22, 'F#', 3, 0.25), (22, 'A', 2, 0.25), (22, 'D', 3, 0.25), (22, 'A', 2, 0.25), (22, 'D', 2, 0.25), (22, 'A', 2, 0.25), (22, 'D', 3, 0.25), (22, 'A', 2, 0.25), (22, 'F', 3, 0.25), (22, 'A', 2, 0.25), (22, 'D', 3, 0.25), (22, 'A', 2, 0.25), (23, 'F', 2, 0.25), (23, 'C', 3, 0.25), (23, 'F', 3, 0.25), (23, 'C', 3, 0.25), (23, 'A', 3, 0.25), (23, 'C', 3, 0.25), (23, 'F', 3, 0.25), (23, 'C', 3, 0.25), (23, 'B', 3, 0.25), (23, 'C', 3, 0.25), (23, 'F', 3, 0.25), (23, 'C', 3, 0.25), (23, 'C', 4, 0.25), (23, 'C', 3, 0.25), (23, 'F', 3, 0.5), (24, 'E', 2, 0.25), (24, 'B', 2, 0.25), (24, 'E', 3, 0.25), (24, 'B', 2, 0.25), (24, 'G#', 3, 0.25), (24, 'B', 2, 0.25), (24, 'E', 3, 0.25), (24, 'B', 2, 0.25), (24, 'E', 2, 1.0), (24, 'rest_1.0'), [(25, 'F', 0, 0.25), (25, 'F', 1, 0.25)], (25, 'C', 2, 0.25), (25, 'F', 2, 0.25), (25, 'A', 2, 0.25), (25, 'B', 2, 0.25), (25, 'A', 2, 0.25), (25, 'F', 2, 0.25), (25, 'A', 2, 0.25), (25, 'C', 3, 0.25), (25, 'A', 2, 0.25), (25, 'F', 2, 0.25), (25, 'A', 2, 0.25), (25, 'E', 3, 0.25), (25, 'A', 2, 0.25), (25, 'F', 2, 0.5), [(26, 'A', 0, 0.25), (26, 'A', 1, 0.25)], (26, 'E', 2, 0.25), (26, 'A', 2, 0.25), (26, 'E', 2, 0.25), (26, 'B', 2, 0.25), (26, 'A', 2, 0.25), (26, 'E', 2, 0.25), (26, 'A', 2, 0.25), (26, 'C', 3, 0.25), (26, 'A', 2, 0.25), (26, 'E', 2, 0.25), (26, 'A', 2, 0.25), (26, 'E', 3, 0.25), (26, 'A', 2, 0.25), (26, 'E', 2, 0.5), [(27, 'D', 1, 0.25), (27, 'D', 2, 0.25)], (27, 'F', 2, 0.25), (27, 'A', 2, 0.25), (27, 'F', 2, 0.25), (27, 'B', 2, 0.25), (27, 'F', 2, 0.25), (27, 'D', 2, 0.25), (27, 'F', 2, 0.25), (27, 'C', 3, 0.25), (27, 'A', 2, 0.25), (27, 'D', 2, 0.25), (27, 'A', 2, 0.25), (27, 'E', 3, 0.25), (27, 'A', 2, 0.25), (27, 'D', 2, 0.5), [(28, 'E', 0, 0.5), (28, 'E', 1, 0.5)], (28, 'B', 1, 0.25), (28, 'E', 2, 0.25), (28, 'G#', 2, 0.25), (28, 'B', 2, 0.25), (28, 'E', 3, 0.25), (28, 'G#', 3, 0.25), (28, 'B', 3, 0.25), (28, 'E', 4, 0.25), (28, 'rest_0.5'), [(28, 'C', 1, 0.5), (28, 'C', 2, 0.5)], [(28, 'B', 0, 0.5), (28, 'B', 1, 0.5)], [(29, 'A', 0, 0.25), (29, 'A', 1, 0.25)], (29, 'E', 2, 0.25), (29, 'A', 2, 0.25), (29, 'C', 3, 0.25), (29, 'E', 3, 0.25), (29, 'C', 3, 0.25), (29, 'A', 2, 0.25), (29, 'E', 2, 0.25), [(29, 'F', 0, 0.25), (29, 'F', 1, 0.25)], (29, 'C', 2, 0.25), (29, 'F', 2, 0.25), (29, 'A', 2, 0.25), (29, 'C', 3, 0.25), (29, 'A', 2, 0.25), (29, 'F', 2, 0.25), (29, 'C', 2, 0.25), [(30, 'D', 1, 0.25), (30, 'D', 2, 0.25)], (30, 'A', 2, 0.25), (30, 'D', 3, 0.25), (30, 'E', 3, 0.25), (30, 'F', 3, 0.25), (30, 'A', 3, 0.25), (30, 'D', 4, 0.25), (30, 'E', 4, 0.25), (30, 'F', 4, 0.25), (30, 'E', 4, 0.25), (30, 'D', 4, 0.25), (30, 'A', 3, 0.25), (30, 'F', 3, 0.25), (30, 'E', 3, 0.25), (30, 'D', 3, 0.25), (30, 'A', 2, 0.25), [(31, 'A', 0, 0.25), (31, 'A', 1, 0.25)], (31, 'E', 2, 0.25), (31, 'A', 2, 0.25), (31, 'C', 3, 0.25), (31, 'E', 3, 0.25), (31, 'C', 3, 0.25), (31, 'A', 2, 0.25), (31, 'E', 2, 0.25), [(31, 'F', 0, 0.25), (31, 'F', 1, 0.25)], (31, 'C', 2, 0.25), (31, 'F', 2, 0.25), (31, 'A', 2, 0.25), (31, 'C', 3, 0.25), (31, 'A', 2, 0.25), (31, 'F', 2, 0.25), (31, 'C', 2, 0.25), [(32, 'D', 1, 0.25), (32, 'D', 2, 0.25)], (32, 'A', 2, 0.25), (32, 'D', 3, 0.25), (32, 'F', 3, 0.25), (32, 'A', 3, 0.25), (32, 'D', 4, 0.25), (32, 'E', 4, 0.25), (32, 'F', 4, 0.25), (32, 'A', 4, 0.25), (32, 'F', 4, 0.25), (32, 'E', 4, 0.25), (32, 'D', 4, 0.25), (32, 'A', 3, 0.25), (32, 'F', 3, 0.25), (32, 'D', 3, 0.25), (32, 'A', 2, 0.25), [(33, 'A', 0, 0.25), (33, 'A', 1, 0.25)], (33, 'E', 2, 0.25), (33, 'A', 2, 0.25), (33, 'C', 3, 0.25), (33, 'E', 3, 0.25), (33, 'C', 3, 0.25), (33, 'A', 2, 0.25), (33, 'E', 2, 0.25), [(33, 'F', 0, 0.25), (33, 'F', 1, 0.25)], (33, 'C', 2, 0.25), (33, 'F', 2, 0.25), (33, 'A', 2, 0.25), (33, 'C', 3, 0.25), (33, 'A', 2, 0.25), (33, 'F', 2, 0.25), (33, 'C', 2, 0.25), [(34, 'D', 1, 0.25), (34, 'D', 2, 0.25)], (34, 'A', 2, 0.25), (34, 'C', 3, 0.25), (34, 'E', 3, 0.25), (34, 'F', 3, 0.25), (34, 'A', 3, 0.25), (34, 'D', 4, 0.5), (34, 'D', 4, 0.25), (34, 'A', 3, 0.25), (34, 'F', 3, 0.25), (34, 'E', 3, 0.25), (34, 'D', 3, 0.25), (34, 'A', 2, 0.25), (34, 'D', 2, 0.5), [(35, 'A', 0, 0.25), (35, 'A', 1, 0.25)], (35, 'E', 2, 0.25), (35, 'A', 2, 0.25), (35, 'C', 3, 0.25), (35, 'E', 3, 0.25), (35, 'C', 3, 0.25), (35, 'A', 2, 0.25), (35, 'E', 2, 0.25), [(35, 'F', 0, 0.25), (35, 'F', 1, 0.25)], (35, 'C', 2, 0.25), (35, 'F', 2, 0.25), (35, 'A', 2, 0.25), (35, 'C', 3, 0.25), (35, 'A', 2, 0.25), (35, 'F', 2, 0.25), (35, 'C', 2, 0.25), [(36, 'D', 1, 0.25), (36, 'D', 2, 0.25)], (36, 'A', 2, 0.25), (36, 'D', 3, 0.25), (36, 'E', 3, 0.25), (36, 'F', 3, 0.25), (36, 'E', 3, 0.25), (36, 'D', 3, 0.25), (36, 'A', 2, 0.25), (36, 'D', 2, 0.25), (36, 'A', 2, 0.25), (36, 'D', 3, 0.25), (36, 'A', 2, 0.25), (36, 'F', 3, 0.25), (36, 'A', 2, 0.25), (36, 'D', 3, 0.25), (36, 'A', 2, 0.25), [(37, 'A', 0, 0.25), (37, 'A', 1, 0.25)], (37, 'E', 2, 0.25), (37, 'A', 2, 0.25), (37, 'A', 1, 0.25), (37, 'E', 2, 0.25), (37, 'A', 2, 0.25), (37, 'A', 1, 0.25), (37, 'E', 2, 0.25), (37, 'A', 2, 0.25), (37, 'A', 1, 0.25), (37, 'E', 2, 0.25), (37, 'A', 2, 0.25), (37, 'A', 1, 0.25), (37, 'E', 2, 0.25), (37, 'A', 2, 0.25), (37, 'E', 2, 0.25), [(38, 'F', 0, 0.25), (38, 'F', 1, 0.25)], (38, 'C', 2, 0.25), (38, 'F', 2, 0.25), (38, 'F', 1, 0.25), (38, 'C', 2, 0.25), (38, 'F', 2, 0.25), (38, 'F', 1, 0.25), (38, 'C', 2, 0.25), (38, 'F', 2, 0.25), (38, 'F', 1, 0.25), (38, 'C', 2, 0.25), (38, 'F', 2, 0.25), (38, 'F', 1, 0.25), (38, 'C', 2, 0.25), (38, 'F', 2, 0.25), (38, 'C', 2, 0.25), [(39, 'D', 1, 0.25), (39, 'D', 2, 0.25)], (39, 'A', 2, 0.25), (39, 'D', 3, 0.25), (39, 'D', 2, 0.25), (39, 'A', 2, 0.25), (39, 'D', 3, 0.25), (39, 'D', 2, 0.25), (39, 'A', 2, 0.25), (39, 'D', 3, 0.25), (39, 'D', 2, 0.25), (39, 'A', 2, 0.25), (39, 'D', 3, 0.25), (39, 'D', 2, 0.25), (39, 'A', 2, 0.25), (39, 'D', 3, 0.25), (39, 'A', 2, 0.25), [(40, 'E', 1, 0.25), (40, 'E', 2, 0.25)], [(40, 'E', 1, 0.25), (40, 'E', 2, 0.25)], [(40, 'E', 1, 0.25), (40, 'E', 2, 0.25)], [(40, 'E', 1, 0.25), (40, 'E', 2, 0.25)], [(40, 'E', 1, 0.25), (40, 'E', 2, 0.25)], [(40, 'E', 1, 0.25), (40, 'E', 2, 0.25)], [(40, 'E', 1, 0.25), (40, 'E', 2, 0.25)], [(40, 'E', 1, 0.25), (40, 'E', 2, 0.25)], [(40, 'E', 1, 0.25), (40, 'E', 2, 0.25)], [(40, 'E', 1, 0.25), (40, 'E', 2, 0.25)], [(40, 'E', 1, 0.25), (40, 'E', 2, 0.25)], [(40, 'E', 1, 0.25), (40, 'E', 2, 0.25)], [(40, 'C', 1, 0.5), (40, 'C', 2, 0.5)], [(40, 'B', 0, 0.5), (40, 'B', 1, 0.5)], [(41, 'A', 0, 0.25), (41, 'A', 1, 0.25)], (41, 'E', 3, 0.25), (41, 'A', 3, 0.25), (41, 'E', 3, 0.25), (41, 'B', 3, 0.25), (41, 'E', 3, 0.25), (41, 'A', 3, 0.25), (41, 'E', 3, 0.25), (41, 'A', 2, 0.25), (41, 'F', 3, 0.25), (41, 'A', 3, 0.25), (41, 'F', 3, 0.25), (41, 'G', 3, 0.25), (41, 'F', 3, 0.25), (41, 'A', 3, 0.25), (41, 'F', 3, 0.25), (42, 'A', 2, 0.25), (42, 'D', 3, 0.25), (42, 'E', 3, 0.25), (42, 'D', 3, 0.25), (42, 'E', 3, 0.25), (42, 'D', 3, 0.25), (42, 'E', 3, 0.25), (42, 'D', 3, 0.25), (42, 'A', 2, 0.25), (42, 'D', 3, 0.25), (42, 'E', 3, 0.25), (42, 'D', 3, 0.25), (42, 'E', 3, 0.25), (42, 'D', 3, 0.25), (42, 'E', 3, 0.25), (42, 'D', 3, 0.25), (43, 'A', 2, 0.25), (43, 'E', 3, 0.25), (43, 'A', 3, 0.25), (43, 'E', 3, 0.25), (43, 'B', 3, 0.25), (43, 'E', 3, 0.25), (43, 'A', 3, 0.25), (43, 'E', 3, 0.25), (43, 'F', 2, 0.25), (43, 'C', 3, 0.25), (43, 'F', 3, 0.25), (43, 'C', 3, 0.25), (43, 'G', 3, 0.25), (43, 'C', 3, 0.25), (43, 'F', 3, 0.25), (43, 'C', 3, 0.25), (44, 'D', 2, 0.25), (44, 'A', 2, 0.25), (44, 'D', 3, 0.25), (44, 'A', 2, 0.25), (44, 'F#', 3, 0.25), (44, 'A', 2, 0.25), (44, 'D', 3, 0.25), (44, 'A', 2, 0.25), (44, 'D', 2, 0.25), (44, 'A', 2, 0.25), (44, 'D', 3, 0.25), (44, 'A', 2, 0.25), (44, 'E', 3, 0.25), (44, 'A', 2, 0.25), (44, 'D', 3, 0.25), (44, 'A', 2, 0.25), (45, 'A', 2, 0.25), (45, 'E', 3, 0.25), (45, 'A', 3, 0.25), (45, 'E', 3, 0.25), (45, 'B', 3, 0.25), (45, 'E', 3, 0.25), (45, 'A', 3, 0.25), (45, 'E', 3, 0.25), (45, 'F', 2, 0.25), (45, 'C', 3, 0.25), (45, 'F', 3, 0.25), (45, 'C', 3, 0.25), (45, 'G', 3, 0.25), (45, 'C', 3, 0.25), (45, 'F', 3, 0.25), (45, 'C', 3, 0.25), (46, 'D', 2, 0.25), (46, 'A', 2, 0.25), (46, 'D', 3, 0.25), (46, 'A', 2, 0.25), (46, 'E', 3, 0.25), (46, 'A', 2, 0.25), (46, 'D', 3, 0.25), (46, 'A', 2, 0.25), (46, 'D', 2, 0.25), (46, 'A', 2, 0.25), (46, 'D', 3, 0.25), (46, 'A', 2, 0.25), (46, 'E', 3, 0.25), (46, 'A', 2, 0.25), (46, 'D', 3, 0.25), (46, 'A', 2, 0.25), (47, 'F', 2, 0.25), (47, 'C', 3, 0.25), (47, 'F', 3, 0.25), (47, 'C', 3, 0.25), (47, 'G', 3, 0.25), (47, 'C', 3, 0.25), (47, 'F', 3, 0.25), (47, 'C', 3, 0.25), (47, 'F', 2, 0.25), (47, 'C', 3, 0.25), (47, 'F', 3, 0.25), (47, 'C', 3, 0.25), (47, 'G', 3, 0.25), (47, 'C', 3, 0.25), (47, 'F', 3, 0.25), (47, 'C', 3, 0.25), [(48, 'E', 1, 0.25), (48, 'E', 2, 0.25)], (48, 'B', 2, 0.25), (48, 'E', 3, 0.25), (48, 'B', 2, 0.25), (48, 'G#', 3, 0.25), (48, 'B', 2, 0.25), (48, 'E', 3, 0.25), (48, 'B', 2, 0.25), (48, 'E', 2, 0.25), (48, 'B', 2, 0.25), (48, 'E', 3, 0.25), (48, 'B', 2, 0.25), [(48, 'C', 1, 0.5), (48, 'C', 2, 0.5)], [(48, 'B', 0, 0.5), (48, 'B', 1, 0.5)], [(49, 'A', 0, 0.25), (49, 'A', 1, 0.25)], (49, 'E', 2, 0.25), (49, 'A', 2, 0.25), (49, 'C', 3, 0.25), (49, 'E', 3, 0.25), (49, 'C', 3, 0.25), (49, 'A', 2, 0.25), (49, 'E', 2, 0.25), [(49, 'F', 0, 0.25), (49, 'F', 1, 0.25)], (49, 'C', 2, 0.25), (49, 'F', 2, 0.25), (49, 'A', 2, 0.25), (49, 'C', 3, 0.25), (49, 'A', 2, 0.25), (49, 'F', 2, 0.25), (49, 'C', 2, 0.25), [(50, 'D', 1, 0.25), (50, 'D', 2, 0.25)], (50, 'A', 2, 0.25), (50, 'D', 3, 0.25), (50, 'F', 3, 0.25), (50, 'A', 3, 0.25), (50, 'D', 4, 0.25), (50, 'E', 4, 0.25), (50, 'F', 4, 0.25), (50, 'A', 4, 0.25), (50, 'F', 4, 0.25), (50, 'E', 4, 0.25), (50, 'D', 4, 0.25), (50, 'A', 3, 0.25), (50, 'F', 3, 0.25), (50, 'D', 3, 0.25), (50, 'A', 2, 0.25), [(51, 'A', 0, 0.25), (51, 'A', 1, 0.25)], (51, 'E', 2, 0.25), (51, 'A', 2, 0.25), (51, 'C', 3, 0.25), (51, 'E', 3, 0.25), (51, 'C', 3, 0.25), (51, 'A', 2, 0.25), (51, 'E', 2, 0.25), [(51, 'F', 0, 0.25), (51, 'F', 1, 0.25)], (51, 'C', 2, 0.25), (51, 'F', 2, 0.25), (51, 'A', 2, 0.25), (51, 'C', 3, 0.25), (51, 'A', 2, 0.25), (51, 'F', 2, 0.25), (51, 'C', 2, 0.25), [(52, 'D', 1, 0.5), (52, 'D', 2, 0.5)], (52, 'A', 2, 0.25), (52, 'D', 3, 0.25), (52, 'E', 3, 0.25), (52, 'F', 3, 0.25), (52, 'A', 3, 0.25), (52, 'D', 4, 0.25), (52, 'E', 4, 0.25), (52, 'F', 4, 0.25), (52, 'A', 4, 0.25), (52, 'D', 5, 0.25), (52, 'rest_1.0'), (53, 'A', 2, 0.25), (53, 'E', 3, 0.25), (53, 'A', 3, 0.25), (53, 'E', 3, 0.25), (53, 'C', 4, 0.25), (53, 'E', 3, 0.25), (53, 'A', 3, 0.25), (53, 'E', 3, 0.25), (53, 'F', 2, 0.25), (53, 'C', 3, 0.25), (53, 'F', 3, 0.25), (53, 'C', 3, 0.25), (53, 'G', 3, 0.25), (53, 'C', 3, 0.25), (53, 'A', 3, 0.25), (53, 'C', 3, 0.25), (54, 'D', 2, 0.25), (54, 'A', 2, 0.25), (54, 'D', 3, 0.25), (54, 'A', 2, 0.25), (54, 'E', 3, 0.25), (54, 'A', 2, 0.25), (54, 'D', 3, 0.25), (54, 'A', 2, 0.25), (54, 'D', 2, 0.25), (54, 'A', 2, 0.25), (54, 'D', 3, 0.25), (54, 'A', 2, 0.25), (54, 'F', 3, 0.25), (54, 'A', 2, 0.25), (54, 'D', 3, 0.25), (54, 'A', 2, 0.25), (55, 'A', 2, 0.25), (55, 'E', 3, 0.25), (55, 'B', 3, 0.25), (55, 'E', 3, 0.25), (55, 'A', 3, 0.25), (55, 'E', 3, 0.25), (55, 'A', 2, 0.25), (55, 'E', 3, 0.25), (55, 'F', 2, 0.25), (55, 'C', 3, 0.25), (55, 'F', 3, 0.25), (55, 'C', 3, 0.25), (55, 'G', 3, 0.25), (55, 'C', 3, 0.25), (55, 'F', 3, 0.25), (55, 'C', 3, 0.25), (56, 'D', 2, 0.25), (56, 'A', 2, 0.25), (56, 'D', 3, 0.25), (56, 'A', 2, 0.25), (56, 'F', 3, 0.25), (56, 'A', 2, 0.25), (56, 'D', 3, 0.25), (56, 'A', 2, 0.25), (56, 'D', 2, 0.25), (56, 'A', 2, 0.25), (56, 'D', 3, 0.25), (56, 'A', 2, 0.25), (56, 'F', 3, 0.25), (56, 'A', 2, 0.25), (56, 'D', 3, 0.25), (56, 'A', 2, 0.25), [(57, 'A', 0, 0.25), (57, 'A', 1, 0.25)], (57, 'E', 2, 0.25), (57, 'A', 2, 0.25), (57, 'E', 2, 0.25), (57, 'B', 2, 0.25), (57, 'A', 2, 0.25), (57, 'E', 2, 0.25), (57, 'A', 2, 0.25), (57, 'C', 3, 0.25), (57, 'A', 2, 0.25), (57, 'E', 2, 0.25), (57, 'A', 2, 0.25), (57, 'E', 3, 0.25), (57, 'A', 2, 0.25), (57, 'E', 2, 0.5), [(58, 'F', 0, 0.25), (58, 'F', 1, 0.25)], (58, 'C', 2, 0.25), (58, 'F', 2, 0.25), (58, 'A', 2, 0.25), (58, 'B', 2, 0.25), (58, 'A', 2, 0.25), (58, 'F', 2, 0.25), (58, 'A', 2, 0.25), (58, 'C', 3, 0.25), (58, 'A', 2, 0.25), (58, 'F', 2, 0.25), (58, 'A', 2, 0.25), (58, 'E', 3, 0.25), (58, 'A', 2, 0.25), (58, 'F', 2, 0.5), [(59, 'D', 1, 0.25), (59, 'D', 2, 0.25)], (59, 'F#', 2, 0.25), (59, 'A', 2, 0.25), (59, 'F#', 2, 0.25), (59, 'B', 2, 0.25), (59, 'F#', 2, 0.25), (59, 'D', 2, 0.25), (59, 'F#', 2, 0.25), (59, 'C', 3, 0.25), (59, 'A', 2, 0.25), (59, 'D', 2, 0.25), (59, 'A', 2, 0.25), (59, 'E', 3, 0.25), (59, 'A', 2, 0.25), (59, 'D', 2, 0.5), [(60, 'E', 0, 0.25), (60, 'E', 1, 0.25)], (60, 'B', 1, 0.25), (60, 'E', 2, 0.25), (60, 'B', 1, 0.25), (60, 'A', 2, 0.25), (60, 'E', 2, 0.25), (60, 'B', 1, 0.25), (60, 'E', 2, 0.25), (60, 'B', 2, 0.25), (60, 'E', 2, 0.25), (60, 'B', 1, 0.25), (60, 'E', 2, 0.25), [(60, 'C', 1, 0.5), (60, 'C', 2, 0.5)], [(60, 'B', 0, 0.5), (60, 'B', 1, 0.5)], [(61, 'A', 0, 1.0), (61, 'A', 1, 1.0)], [(61, 'B', 2, 1.0), (61, 'E', 3, 1.0), (61, 'A', 3, 1.0)], [(61, 'C', 3, 1.0), (61, 'E', 3, 1.0), (61, 'A', 3, 1.0)], [(61, 'A', 5, 1.0), (61, 'C', 6, 1.0), (61, 'E', 6, 1.0)], [(62, 'C', 1, 1.0), (62, 'C', 2, 1.0)], [(62, 'B', 2, 1.0), (62, 'E', 3, 1.0), (62, 'A', 3, 1.0)], [(62, 'C', 3, 1.0), (62, 'E', 3, 1.0), (62, 'A', 3, 1.0)], [(62, 'A', 5, 1.0), (62, 'C', 6, 1.0), (62, 'E', 6, 1.0)], [(63, 'D', 1, 1.0), (63, 'D', 2, 1.0)], [(63, 'B', 2, 1.0), (63, 'D', 3, 1.0), (63, 'F#', 3, 1.0)], [(63, 'C', 3, 1.0), (63, 'F#', 3, 1.0), (63, 'A', 3, 1.0)], [(63, 'A', 5, 1.0), (63, 'C', 6, 1.0), (63, 'E', 6, 1.0)], [(64, 'E', 0, 0.5), (64, 'E', 1, 0.5)], (64, 'B', 1, 0.25), (64, 'E', 2, 0.25), (64, 'G#', 2, 0.25), (64, 'B', 2, 0.25), (64, 'E', 3, 0.25), (64, 'G#', 3, 0.25), (64, 'B', 3, 0.25), (64, 'E', 4, 0.25), (64, 'G#', 4, 0.25), (64, 'B', 4, 0.25), (64, 'rest_1.0'), [(65, 'A', 3, 2.0), (65, 'C', 4, 2.0), (65, 'E', 4, 2.0)], [(65, 'A', 3, 2.0), (65, 'C', 4, 2.0), (65, 'F', 4, 2.0)], [(66, 'A', 3, 4.0), (66, 'D', 4, 4.0), (66, 'F', 4, 4.0)], [(67, 'A', 3, 2.0), (67, 'C', 4, 2.0), (67, 'E', 4, 2.0)], [(67, 'A', 3, 2.0), (67, 'C', 4, 2.0), (67, 'F', 4, 2.0)], [(68, 'A', 3, 4.0), (68, 'D', 4, 4.0), (68, 'F', 4, 4.0)], (69, 'rest_2.0'), [(69, 'A', 1, 2.0), (69, 'E', 2, 2.0), (69, 'A', 2, 2.0)], [(70, 'A', 1, 4.0), (70, 'E', 2, 4.0), (70, 'A', 2, 4.0)]]}]\n"
     ]
    }
   ],
   "source": [
    "\n",
    "k = c3.analyze('key')\n",
    "print(k)\n",
    "i = interval.Interval(k.tonic, pitch.Pitch('a'))\n",
    "sNew = c3.transpose(i)\n",
    "sNew\n",
    "kNew = sNew.analyze('key')\n",
    "\n",
    "print(kNew)\n",
    "\n",
    "partStream2 = sNew.parts.stream()\n",
    "note_info2= gather_part_info(partStream2, 'bond', 2)\n",
    "print(note_info2)"
   ]
  },
  {
   "cell_type": "code",
   "execution_count": 43,
   "id": "eb7a86c9",
   "metadata": {},
   "outputs": [
    {
     "data": {
      "text/html": [
       "\n",
       "                <div id='midiPlayerDiv308161'></div>\n",
       "                <link rel=\"stylesheet\" href=\"//cuthbertLab.github.io/music21j/css/m21.css\"\n",
       "                    type=\"text/css\" />\n",
       "                <script>\n",
       "                require.config({\n",
       "                    paths: {'music21': '//cuthbertLab.github.io/music21j/src/music21'}\n",
       "                });\n",
       "                require(['music21'], function() {\n",
       "                               mp = new music21.miditools.MidiPlayer();\n",
       "                               mp.addPlayer('#midiPlayerDiv308161');\n",
       "                               mp.base64Load('data:audio/midi;base64,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');\n",
       "                        });\n",
       "                </script>"
      ],
      "text/plain": [
       "<IPython.core.display.HTML object>"
      ]
     },
     "metadata": {},
     "output_type": "display_data"
    }
   ],
   "source": [
    "sNew.show('midi')"
   ]
  },
  {
   "cell_type": "markdown",
   "id": "f06e768e",
   "metadata": {},
   "source": [
    "### Building the dataframe for sheet note information"
   ]
  },
  {
   "cell_type": "code",
   "execution_count": 88,
   "id": "0f6ea1c8",
   "metadata": {},
   "outputs": [
    {
     "data": {
      "text/html": [
       "<div>\n",
       "<style scoped>\n",
       "    .dataframe tbody tr th:only-of-type {\n",
       "        vertical-align: middle;\n",
       "    }\n",
       "\n",
       "    .dataframe tbody tr th {\n",
       "        vertical-align: top;\n",
       "    }\n",
       "\n",
       "    .dataframe thead th {\n",
       "        text-align: right;\n",
       "    }\n",
       "</style>\n",
       "<table border=\"1\" class=\"dataframe\">\n",
       "  <thead>\n",
       "    <tr style=\"text-align: right;\">\n",
       "      <th></th>\n",
       "      <th>note_id</th>\n",
       "      <th>sheet_name</th>\n",
       "      <th>partName</th>\n",
       "      <th>sharps</th>\n",
       "      <th>bpm</th>\n",
       "      <th>key</th>\n",
       "      <th>time_signature</th>\n",
       "      <th>bpm (quarter note)</th>\n",
       "      <th>clef</th>\n",
       "      <th>measures</th>\n",
       "    </tr>\n",
       "  </thead>\n",
       "  <tbody>\n",
       "    <tr>\n",
       "      <th>0</th>\n",
       "      <td>2</td>\n",
       "      <td>chopin</td>\n",
       "      <td>Piano</td>\n",
       "      <td>1</td>\n",
       "      <td>None</td>\n",
       "      <td>E minor</td>\n",
       "      <td>4/4</td>\n",
       "      <td>72.0</td>\n",
       "      <td>treble</td>\n",
       "      <td>[(1, E, 4, 0.5), (1, B, 3, 0.5), (1, F#, 4, 0....</td>\n",
       "    </tr>\n",
       "    <tr>\n",
       "      <th>1</th>\n",
       "      <td>2</td>\n",
       "      <td>chopin</td>\n",
       "      <td>Piano</td>\n",
       "      <td>1</td>\n",
       "      <td>None</td>\n",
       "      <td>E minor</td>\n",
       "      <td>4/4</td>\n",
       "      <td>72.0</td>\n",
       "      <td>bass</td>\n",
       "      <td>[[(1, E, 2, 3.0), (1, E, 3, 3.0)], (1, B, 5, 1...</td>\n",
       "    </tr>\n",
       "  </tbody>\n",
       "</table>\n",
       "</div>"
      ],
      "text/plain": [
       "   note_id sheet_name partName  sharps   bpm      key time_signature  \\\n",
       "0        2     chopin    Piano       1  None  E minor            4/4   \n",
       "1        2     chopin    Piano       1  None  E minor            4/4   \n",
       "\n",
       "  bpm (quarter note)    clef  \\\n",
       "0               72.0  treble   \n",
       "1               72.0    bass   \n",
       "\n",
       "                                            measures  \n",
       "0  [(1, E, 4, 0.5), (1, B, 3, 0.5), (1, F#, 4, 0....  \n",
       "1  [[(1, E, 2, 3.0), (1, E, 3, 3.0)], (1, B, 5, 1...  "
      ]
     },
     "execution_count": 88,
     "metadata": {},
     "output_type": "execute_result"
    }
   ],
   "source": [
    "# Import pandas library\n",
    "import pandas as pd\n",
    " \n",
    "\n",
    "df = pd.DataFrame(note_info)\n",
    "df\n"
   ]
  },
  {
   "cell_type": "code",
   "execution_count": 163,
   "id": "bc2ed3e6",
   "metadata": {},
   "outputs": [
    {
     "data": {
      "text/html": [
       "<div>\n",
       "<style scoped>\n",
       "    .dataframe tbody tr th:only-of-type {\n",
       "        vertical-align: middle;\n",
       "    }\n",
       "\n",
       "    .dataframe tbody tr th {\n",
       "        vertical-align: top;\n",
       "    }\n",
       "\n",
       "    .dataframe thead th {\n",
       "        text-align: right;\n",
       "    }\n",
       "</style>\n",
       "<table border=\"1\" class=\"dataframe\">\n",
       "  <thead>\n",
       "    <tr style=\"text-align: right;\">\n",
       "      <th></th>\n",
       "      <th>note_id</th>\n",
       "      <th>sheet_name</th>\n",
       "      <th>partName</th>\n",
       "      <th>sharps</th>\n",
       "      <th>bpm</th>\n",
       "      <th>key</th>\n",
       "      <th>time_signature</th>\n",
       "      <th>bpm (quarter note)</th>\n",
       "      <th>clef</th>\n",
       "      <th>measures</th>\n",
       "    </tr>\n",
       "  </thead>\n",
       "  <tbody>\n",
       "    <tr>\n",
       "      <th>0</th>\n",
       "      <td>2</td>\n",
       "      <td>chopin</td>\n",
       "      <td>Piano</td>\n",
       "      <td>1</td>\n",
       "      <td>None</td>\n",
       "      <td>E minor</td>\n",
       "      <td>4/4</td>\n",
       "      <td>72.0</td>\n",
       "      <td>treble</td>\n",
       "      <td>[(1, E, 4, 0.5), (1, B, 3, 0.5), (1, F#, 4, 0....</td>\n",
       "    </tr>\n",
       "    <tr>\n",
       "      <th>1</th>\n",
       "      <td>2</td>\n",
       "      <td>chopin</td>\n",
       "      <td>Piano</td>\n",
       "      <td>1</td>\n",
       "      <td>None</td>\n",
       "      <td>E minor</td>\n",
       "      <td>4/4</td>\n",
       "      <td>72.0</td>\n",
       "      <td>bass</td>\n",
       "      <td>[[(1, E, 2, 3.0), (1, E, 3, 3.0)], (1, B, 5, 1...</td>\n",
       "    </tr>\n",
       "    <tr>\n",
       "      <th>2</th>\n",
       "      <td>2</td>\n",
       "      <td>bond</td>\n",
       "      <td>Piano</td>\n",
       "      <td>0</td>\n",
       "      <td>None</td>\n",
       "      <td>A minor</td>\n",
       "      <td>4/4</td>\n",
       "      <td>72.0</td>\n",
       "      <td>treble</td>\n",
       "      <td>[(1, A, 3, 0.5), (1, E, 3, 0.5), (1, B, 3, 0.5...</td>\n",
       "    </tr>\n",
       "    <tr>\n",
       "      <th>3</th>\n",
       "      <td>2</td>\n",
       "      <td>bond</td>\n",
       "      <td>Piano</td>\n",
       "      <td>0</td>\n",
       "      <td>None</td>\n",
       "      <td>A minor</td>\n",
       "      <td>4/4</td>\n",
       "      <td>72.0</td>\n",
       "      <td>bass</td>\n",
       "      <td>[[(1, A, 1, 3.0), (1, A, 2, 3.0)], (1, E, 5, 1...</td>\n",
       "    </tr>\n",
       "    <tr>\n",
       "      <th>4</th>\n",
       "      <td>2</td>\n",
       "      <td>bond</td>\n",
       "      <td>Piano</td>\n",
       "      <td>0</td>\n",
       "      <td>None</td>\n",
       "      <td>A minor</td>\n",
       "      <td>4/4</td>\n",
       "      <td>72.0</td>\n",
       "      <td>treble</td>\n",
       "      <td>[(1, A, 3, 0.5), (1, E, 3, 0.5), (1, B, 3, 0.5...</td>\n",
       "    </tr>\n",
       "    <tr>\n",
       "      <th>5</th>\n",
       "      <td>2</td>\n",
       "      <td>bond</td>\n",
       "      <td>Piano</td>\n",
       "      <td>0</td>\n",
       "      <td>None</td>\n",
       "      <td>A minor</td>\n",
       "      <td>4/4</td>\n",
       "      <td>72.0</td>\n",
       "      <td>bass</td>\n",
       "      <td>[[(1, A, 1, 3.0), (1, A, 2, 3.0)], (1, E, 5, 1...</td>\n",
       "    </tr>\n",
       "    <tr>\n",
       "      <th>6</th>\n",
       "      <td>2</td>\n",
       "      <td>bond</td>\n",
       "      <td>Piano</td>\n",
       "      <td>0</td>\n",
       "      <td>None</td>\n",
       "      <td>A minor</td>\n",
       "      <td>4/4</td>\n",
       "      <td>72.0</td>\n",
       "      <td>treble</td>\n",
       "      <td>[(1, A, 3, 0.5), (1, E, 4, 0.5), (1, B, 3, 0.5...</td>\n",
       "    </tr>\n",
       "    <tr>\n",
       "      <th>7</th>\n",
       "      <td>2</td>\n",
       "      <td>bond</td>\n",
       "      <td>Piano</td>\n",
       "      <td>0</td>\n",
       "      <td>None</td>\n",
       "      <td>A minor</td>\n",
       "      <td>4/4</td>\n",
       "      <td>72.0</td>\n",
       "      <td>bass</td>\n",
       "      <td>[[(1, A, 1, 3.0), (1, A, 2, 3.0)], (1, E, 5, 1...</td>\n",
       "    </tr>\n",
       "    <tr>\n",
       "      <th>8</th>\n",
       "      <td>2</td>\n",
       "      <td>bond</td>\n",
       "      <td>Piano</td>\n",
       "      <td>0</td>\n",
       "      <td>None</td>\n",
       "      <td>A minor</td>\n",
       "      <td>4/4</td>\n",
       "      <td>72.0</td>\n",
       "      <td>treble</td>\n",
       "      <td>[(1, A, 3, 0.5), (1, E, 4, 0.5), (1, B, 3, 0.5...</td>\n",
       "    </tr>\n",
       "    <tr>\n",
       "      <th>9</th>\n",
       "      <td>2</td>\n",
       "      <td>bond</td>\n",
       "      <td>Piano</td>\n",
       "      <td>0</td>\n",
       "      <td>None</td>\n",
       "      <td>A minor</td>\n",
       "      <td>4/4</td>\n",
       "      <td>72.0</td>\n",
       "      <td>bass</td>\n",
       "      <td>[[(1, A, 1, 3.0), (1, A, 2, 3.0)], (1, E, 5, 1...</td>\n",
       "    </tr>\n",
       "  </tbody>\n",
       "</table>\n",
       "</div>"
      ],
      "text/plain": [
       "   note_id sheet_name partName  sharps   bpm      key time_signature  \\\n",
       "0        2     chopin    Piano       1  None  E minor            4/4   \n",
       "1        2     chopin    Piano       1  None  E minor            4/4   \n",
       "2        2       bond    Piano       0  None  A minor            4/4   \n",
       "3        2       bond    Piano       0  None  A minor            4/4   \n",
       "4        2       bond    Piano       0  None  A minor            4/4   \n",
       "5        2       bond    Piano       0  None  A minor            4/4   \n",
       "6        2       bond    Piano       0  None  A minor            4/4   \n",
       "7        2       bond    Piano       0  None  A minor            4/4   \n",
       "8        2       bond    Piano       0  None  A minor            4/4   \n",
       "9        2       bond    Piano       0  None  A minor            4/4   \n",
       "\n",
       "  bpm (quarter note)    clef  \\\n",
       "0               72.0  treble   \n",
       "1               72.0    bass   \n",
       "2               72.0  treble   \n",
       "3               72.0    bass   \n",
       "4               72.0  treble   \n",
       "5               72.0    bass   \n",
       "6               72.0  treble   \n",
       "7               72.0    bass   \n",
       "8               72.0  treble   \n",
       "9               72.0    bass   \n",
       "\n",
       "                                            measures  \n",
       "0  [(1, E, 4, 0.5), (1, B, 3, 0.5), (1, F#, 4, 0....  \n",
       "1  [[(1, E, 2, 3.0), (1, E, 3, 3.0)], (1, B, 5, 1...  \n",
       "2  [(1, A, 3, 0.5), (1, E, 3, 0.5), (1, B, 3, 0.5...  \n",
       "3  [[(1, A, 1, 3.0), (1, A, 2, 3.0)], (1, E, 5, 1...  \n",
       "4  [(1, A, 3, 0.5), (1, E, 3, 0.5), (1, B, 3, 0.5...  \n",
       "5  [[(1, A, 1, 3.0), (1, A, 2, 3.0)], (1, E, 5, 1...  \n",
       "6  [(1, A, 3, 0.5), (1, E, 4, 0.5), (1, B, 3, 0.5...  \n",
       "7  [[(1, A, 1, 3.0), (1, A, 2, 3.0)], (1, E, 5, 1...  \n",
       "8  [(1, A, 3, 0.5), (1, E, 4, 0.5), (1, B, 3, 0.5...  \n",
       "9  [[(1, A, 1, 3.0), (1, A, 2, 3.0)], (1, E, 5, 1...  "
      ]
     },
     "execution_count": 163,
     "metadata": {},
     "output_type": "execute_result"
    }
   ],
   "source": [
    "# Create the pandas DataFrame\n",
    "df2 = pd.DataFrame(note_info2)\n",
    "df = df.append(df2, ignore_index = True)\n",
    "df"
   ]
  },
  {
   "cell_type": "code",
   "execution_count": 236,
   "id": "7cf6dcfc",
   "metadata": {},
   "outputs": [
    {
     "name": "stdout",
     "output_type": "stream",
     "text": [
      "['A', 'E', 'B', 'E', 'C', 'E', 'E', 'E', 'A', 'F', 'B', 'F', 'C', 'F', 'E', 'F', 'A', 'F#', 'B', 'F#', 'C', 'F#', 'E', 'F#', 'G#', 'E', 'A', 'E', 'B', 'A', 'B', 'C', 'E', 'A', 'B', 'C', 'E', 'A', 'B', 'C', 'E', 'F', 'E', 'A', 'G', 'G', 'F', 'E', 'E', 'F', 'A', 'C', 'B', 'B', 'A', 'B', 'B', 'C', 'A', 'A', 'E', 'D', 'C', 'B', 'B', 'A', 'G', 'G', 'F', 'E', 'E', 'F#', 'F', 'E', 'E', 'F', 'E', 'E', 'F', 'E', 'E', 'F', 'E', 'E', 'C', 'C', 'C', 'B', 'B', 'A', 'G', 'G', 'F', 'E', 'E', 'F', 'A', 'B', 'C', 'B', 'G', 'A', 'B', 'B', 'C', 'A', 'A', 'E', 'D', 'C', 'B', 'B', 'A', 'G', 'G', 'F', 'E', 'E', 'D', 'D', 'D', 'E', 'E', 'F', 'E', 'C', 'A', 'F', 'E', 'C', 'A', 'F', 'E', 'C', 'A', 'F', 'E', 'C', 'A', 'C', 'B', 'B', 'B', 'C', 'D', 'C', 'C', 'B', 'C', 'C', 'A', 'B', 'C', 'D', 'C', 'C', 'B', 'C', 'C', 'B', 'C', 'D', 'C', 'C', 'D', 'E', 'F', 'E', 'E', 'F', 'E', 'E', 'G#', 'B', 'E', 'C', 'B', 'E', 'A', 'A', 'F', 'E', 'E', 'D', 'E', 'C', 'B', 'A', 'C', 'C', 'D', 'D', 'D', 'C', 'A', 'E', 'F', 'E', 'E', 'C', 'D', 'A', 'A', 'E', 'F', 'E', 'E', 'D', 'G', 'G', 'F', 'E', 'E', 'C', 'D', 'E', 'E', 'C', 'B', 'G', 'A', 'A', 'C', 'B', 'C', 'B', 'C', 'A', 'A', 'C', 'E', 'C', 'B', 'E', 'A', 'E', 'C', 'E', 'A', 'E', 'E', 'A', 'C', 'A', 'A', 'C', 'F', 'C', 'B', 'F', 'A', 'F', 'C', 'F', 'A', 'F', 'E', 'A', 'C', 'A', 'A', 'C', 'F#', 'C', 'B', 'D', 'F#', 'D', 'C', 'F#', 'A', 'F#', 'E', 'A', 'C', 'A', 'D', 'D', 'D', 'D', 'D', 'D', 'D', 'D', 'D', 'D', 'D', 'D', 'D', 'D', 'D', 'D', 'C', 'E', 'C', 'A', 'C', 'E', 'C', 'G', 'A', 'C', 'A', 'C', 'A', 'F', 'E', 'E', 'F#', 'D', 'F#', 'A', 'F#', 'A', 'F#', 'A', 'F#', 'A', 'F#', 'B', 'F#', 'C', 'F#', 'B', 'C', 'E', 'C', 'G', 'C', 'A', 'C', 'B', 'C', 'A', 'C', 'B', 'C', 'C', 'A', 'A', 'A', 'D', 'A', 'F#', 'A', 'G', 'F#', 'E', 'F', 'D', 'F', 'C', 'F', 'B', 'F', 'A', 'B', 'C', 'E', 'G', 'C', 'A', 'C', 'G', 'A', 'F', 'A', 'E', 'A', 'F', 'E', 'E', 'F#', 'A', 'F#', 'D', 'F#', 'A', 'F#', 'F', 'A', 'D', 'A', 'E', 'A', 'F', 'E', 'E', 'A', 'F', 'E', 'A', 'B', 'C', 'A', 'A', 'A', 'B', 'E', 'C', 'B', 'E', 'A', 'A', 'F', 'E', 'E', 'D', 'E', 'C', 'B', 'A', 'C', 'C', 'D', 'D', 'D', 'C', 'A', 'E', 'F', 'E', 'E', 'E', 'A', 'E', 'C', 'E', 'D', 'A', 'A', 'F', 'A', 'F', 'E', 'F', 'F', 'E', 'E', 'A', 'D', 'G', 'G', 'A', 'F', 'E', 'E', 'F', 'D', 'C', 'C', 'F', 'D', 'E', 'E', 'E', 'A', 'E', 'C', 'E', 'A', 'E', 'B', 'C', 'F', 'C', 'B', 'C', 'G', 'A', 'A', 'F', 'D', 'F', 'A', 'F', 'C', 'F', 'B', 'F', 'C', 'F', 'B', 'F', 'C', 'A', 'A', 'C', 'E', 'C', 'B', 'E', 'A', 'E', 'C', 'E', 'A', 'E', 'E', 'A', 'C', 'A', 'A', 'C', 'F', 'C', 'B', 'F', 'A', 'F', 'C', 'C', 'B', 'C', 'D', 'D', 'C', 'A', 'A', 'D', 'F#', 'D', 'C', 'F#', 'A', 'F#', 'E', 'A', 'C', 'A', 'G#', 'B', 'D', 'B', 'A', 'D', 'E', 'D', 'B', 'C', 'B', 'C', 'E', 'E', 'A', 'A', 'B', 'B', 'B', 'B', 'C', 'C', 'C', 'C', 'E', 'E', 'E', 'E', 'A', 'A', 'A', 'A', 'B', 'B', 'B', 'B', 'C', 'C', 'C', 'C', 'E', 'E', 'E', 'E', 'A', 'A', 'A', 'A', 'B', 'B', 'B', 'B', 'C', 'C', 'C', 'C', 'E', 'E', 'E', 'E', 'D', 'E', 'F', 'E', 'E', 'C', 'B', 'A', 'A', 'E', 'F', 'E', 'E', 'C', 'C', 'C', 'B', 'A', 'A', 'B', 'C', 'D', 'E', 'E', 'C', 'B', 'B', 'C', 'A', 'A', 'C', 'B', 'C', 'B', 'C', 'A', 'A', 'C', 'C']\n"
     ]
    }
   ],
   "source": [
    "lst = []\n",
    "\n",
    "\n",
    "def construct_strings(n, if_rest, if_chords, m, o):\n",
    "    lst = []\n",
    "   \n",
    "    for i in n:\n",
    "        if if_rest == False:\n",
    "            if 'rest' in i[1]:\n",
    "                continue #skipping rests\n",
    "        if isinstance(i, list):\n",
    "            if if_chords == False: #Takes the first note of the chord into account\n",
    "                elem = i[0][m:o]\n",
    "                s = ' '.join(map(str,elem))\n",
    "                lst.append(s)\n",
    "            else: #Takes the whole chord into account\n",
    "                cover_lst = []\n",
    "                for elem in i:\n",
    "\n",
    "                    elem = elem[m:3]\n",
    "                    cover_lst.append(elem)\n",
    "                s = ' '.join(map(str,cover_lst))\n",
    "                lst.append(s)\n",
    "        else:\n",
    "            if 'rest' in i[1]:\n",
    "                i = i[m:2]\n",
    "                s = ' '.join(map(str,i))\n",
    "                lst.append(s)\n",
    "            else:\n",
    "                i = i[m:o]\n",
    "                s = ' '.join(map(str,i))\n",
    "                lst.append(s)\n",
    "    return lst\n",
    "\n",
    "# 0 - if measure nr is taken into account\n",
    "# 1- if measure nr is NOT taken into account\n",
    "# 2 - if octave nr is NOT taken into account\n",
    "# 3 - if octave nr is taken into account\n",
    "\n",
    "a = construct_strings(df['measures'][6], False, False, 1, 2) \n",
    "b = construct_strings(df['measures'][7], False, False, 1, 2)\n",
    "\n",
    "print(a)"
   ]
  },
  {
   "cell_type": "markdown",
   "id": "d47aa986",
   "metadata": {},
   "source": [
    "## N-GRAM"
   ]
  },
  {
   "cell_type": "code",
   "execution_count": 237,
   "id": "da83326e",
   "metadata": {},
   "outputs": [],
   "source": [
    "def generate_ngrams(s, n):\n",
    "    # Convert to lowercases\n",
    "\n",
    "    \n",
    "    # Use the zip function to help us generate n-grams\n",
    "    # Concatentate the tokens into ngrams and return\n",
    "    ngrams = zip(*[s[i:] for i in range(n)])\n",
    "    return [ngram for ngram in ngrams]"
   ]
  },
  {
   "cell_type": "code",
   "execution_count": 238,
   "id": "593a9d6f",
   "metadata": {},
   "outputs": [
    {
     "name": "stdout",
     "output_type": "stream",
     "text": [
      "[('A', 'E', 'B', 'E', 'C', 'E', 'E'), ('E', 'B', 'E', 'C', 'E', 'E', 'E'), ('B', 'E', 'C', 'E', 'E', 'E', 'A'), ('E', 'C', 'E', 'E', 'E', 'A', 'F'), ('C', 'E', 'E', 'E', 'A', 'F', 'B'), ('E', 'E', 'E', 'A', 'F', 'B', 'F'), ('E', 'E', 'A', 'F', 'B', 'F', 'C'), ('E', 'A', 'F', 'B', 'F', 'C', 'F'), ('A', 'F', 'B', 'F', 'C', 'F', 'E'), ('F', 'B', 'F', 'C', 'F', 'E', 'F'), ('B', 'F', 'C', 'F', 'E', 'F', 'A'), ('F', 'C', 'F', 'E', 'F', 'A', 'F#'), ('C', 'F', 'E', 'F', 'A', 'F#', 'B'), ('F', 'E', 'F', 'A', 'F#', 'B', 'F#'), ('E', 'F', 'A', 'F#', 'B', 'F#', 'C'), ('F', 'A', 'F#', 'B', 'F#', 'C', 'F#'), ('A', 'F#', 'B', 'F#', 'C', 'F#', 'E'), ('F#', 'B', 'F#', 'C', 'F#', 'E', 'F#'), ('B', 'F#', 'C', 'F#', 'E', 'F#', 'G#'), ('F#', 'C', 'F#', 'E', 'F#', 'G#', 'E'), ('C', 'F#', 'E', 'F#', 'G#', 'E', 'A'), ('F#', 'E', 'F#', 'G#', 'E', 'A', 'E'), ('E', 'F#', 'G#', 'E', 'A', 'E', 'B'), ('F#', 'G#', 'E', 'A', 'E', 'B', 'A'), ('G#', 'E', 'A', 'E', 'B', 'A', 'B'), ('E', 'A', 'E', 'B', 'A', 'B', 'C'), ('A', 'E', 'B', 'A', 'B', 'C', 'E'), ('E', 'B', 'A', 'B', 'C', 'E', 'A'), ('B', 'A', 'B', 'C', 'E', 'A', 'B'), ('A', 'B', 'C', 'E', 'A', 'B', 'C'), ('B', 'C', 'E', 'A', 'B', 'C', 'E'), ('C', 'E', 'A', 'B', 'C', 'E', 'A'), ('E', 'A', 'B', 'C', 'E', 'A', 'B'), ('A', 'B', 'C', 'E', 'A', 'B', 'C'), ('B', 'C', 'E', 'A', 'B', 'C', 'E'), ('C', 'E', 'A', 'B', 'C', 'E', 'F'), ('E', 'A', 'B', 'C', 'E', 'F', 'E'), ('A', 'B', 'C', 'E', 'F', 'E', 'A'), ('B', 'C', 'E', 'F', 'E', 'A', 'G'), ('C', 'E', 'F', 'E', 'A', 'G', 'G'), ('E', 'F', 'E', 'A', 'G', 'G', 'F'), ('F', 'E', 'A', 'G', 'G', 'F', 'E'), ('E', 'A', 'G', 'G', 'F', 'E', 'E'), ('A', 'G', 'G', 'F', 'E', 'E', 'F'), ('G', 'G', 'F', 'E', 'E', 'F', 'A'), ('G', 'F', 'E', 'E', 'F', 'A', 'C'), ('F', 'E', 'E', 'F', 'A', 'C', 'B'), ('E', 'E', 'F', 'A', 'C', 'B', 'B'), ('E', 'F', 'A', 'C', 'B', 'B', 'A'), ('F', 'A', 'C', 'B', 'B', 'A', 'B'), ('A', 'C', 'B', 'B', 'A', 'B', 'B'), ('C', 'B', 'B', 'A', 'B', 'B', 'C'), ('B', 'B', 'A', 'B', 'B', 'C', 'A'), ('B', 'A', 'B', 'B', 'C', 'A', 'A'), ('A', 'B', 'B', 'C', 'A', 'A', 'E'), ('B', 'B', 'C', 'A', 'A', 'E', 'D'), ('B', 'C', 'A', 'A', 'E', 'D', 'C'), ('C', 'A', 'A', 'E', 'D', 'C', 'B'), ('A', 'A', 'E', 'D', 'C', 'B', 'B'), ('A', 'E', 'D', 'C', 'B', 'B', 'A'), ('E', 'D', 'C', 'B', 'B', 'A', 'G'), ('D', 'C', 'B', 'B', 'A', 'G', 'G'), ('C', 'B', 'B', 'A', 'G', 'G', 'F'), ('B', 'B', 'A', 'G', 'G', 'F', 'E'), ('B', 'A', 'G', 'G', 'F', 'E', 'E'), ('A', 'G', 'G', 'F', 'E', 'E', 'F#'), ('G', 'G', 'F', 'E', 'E', 'F#', 'F'), ('G', 'F', 'E', 'E', 'F#', 'F', 'E'), ('F', 'E', 'E', 'F#', 'F', 'E', 'E'), ('E', 'E', 'F#', 'F', 'E', 'E', 'F'), ('E', 'F#', 'F', 'E', 'E', 'F', 'E'), ('F#', 'F', 'E', 'E', 'F', 'E', 'E'), ('F', 'E', 'E', 'F', 'E', 'E', 'F'), ('E', 'E', 'F', 'E', 'E', 'F', 'E'), ('E', 'F', 'E', 'E', 'F', 'E', 'E'), ('F', 'E', 'E', 'F', 'E', 'E', 'F'), ('E', 'E', 'F', 'E', 'E', 'F', 'E'), ('E', 'F', 'E', 'E', 'F', 'E', 'E'), ('F', 'E', 'E', 'F', 'E', 'E', 'C'), ('E', 'E', 'F', 'E', 'E', 'C', 'C'), ('E', 'F', 'E', 'E', 'C', 'C', 'C'), ('F', 'E', 'E', 'C', 'C', 'C', 'B'), ('E', 'E', 'C', 'C', 'C', 'B', 'B'), ('E', 'C', 'C', 'C', 'B', 'B', 'A'), ('C', 'C', 'C', 'B', 'B', 'A', 'G'), ('C', 'C', 'B', 'B', 'A', 'G', 'G'), ('C', 'B', 'B', 'A', 'G', 'G', 'F'), ('B', 'B', 'A', 'G', 'G', 'F', 'E'), ('B', 'A', 'G', 'G', 'F', 'E', 'E'), ('A', 'G', 'G', 'F', 'E', 'E', 'F'), ('G', 'G', 'F', 'E', 'E', 'F', 'A'), ('G', 'F', 'E', 'E', 'F', 'A', 'B'), ('F', 'E', 'E', 'F', 'A', 'B', 'C'), ('E', 'E', 'F', 'A', 'B', 'C', 'B'), ('E', 'F', 'A', 'B', 'C', 'B', 'G'), ('F', 'A', 'B', 'C', 'B', 'G', 'A'), ('A', 'B', 'C', 'B', 'G', 'A', 'B'), ('B', 'C', 'B', 'G', 'A', 'B', 'B'), ('C', 'B', 'G', 'A', 'B', 'B', 'C'), ('B', 'G', 'A', 'B', 'B', 'C', 'A'), ('G', 'A', 'B', 'B', 'C', 'A', 'A'), ('A', 'B', 'B', 'C', 'A', 'A', 'E'), ('B', 'B', 'C', 'A', 'A', 'E', 'D'), ('B', 'C', 'A', 'A', 'E', 'D', 'C'), ('C', 'A', 'A', 'E', 'D', 'C', 'B'), ('A', 'A', 'E', 'D', 'C', 'B', 'B'), ('A', 'E', 'D', 'C', 'B', 'B', 'A'), ('E', 'D', 'C', 'B', 'B', 'A', 'G'), ('D', 'C', 'B', 'B', 'A', 'G', 'G'), ('C', 'B', 'B', 'A', 'G', 'G', 'F'), ('B', 'B', 'A', 'G', 'G', 'F', 'E'), ('B', 'A', 'G', 'G', 'F', 'E', 'E'), ('A', 'G', 'G', 'F', 'E', 'E', 'D'), ('G', 'G', 'F', 'E', 'E', 'D', 'D'), ('G', 'F', 'E', 'E', 'D', 'D', 'D'), ('F', 'E', 'E', 'D', 'D', 'D', 'E'), ('E', 'E', 'D', 'D', 'D', 'E', 'E'), ('E', 'D', 'D', 'D', 'E', 'E', 'F'), ('D', 'D', 'D', 'E', 'E', 'F', 'E'), ('D', 'D', 'E', 'E', 'F', 'E', 'C'), ('D', 'E', 'E', 'F', 'E', 'C', 'A'), ('E', 'E', 'F', 'E', 'C', 'A', 'F'), ('E', 'F', 'E', 'C', 'A', 'F', 'E'), ('F', 'E', 'C', 'A', 'F', 'E', 'C'), ('E', 'C', 'A', 'F', 'E', 'C', 'A'), ('C', 'A', 'F', 'E', 'C', 'A', 'F'), ('A', 'F', 'E', 'C', 'A', 'F', 'E'), ('F', 'E', 'C', 'A', 'F', 'E', 'C'), ('E', 'C', 'A', 'F', 'E', 'C', 'A'), ('C', 'A', 'F', 'E', 'C', 'A', 'F'), ('A', 'F', 'E', 'C', 'A', 'F', 'E'), ('F', 'E', 'C', 'A', 'F', 'E', 'C'), ('E', 'C', 'A', 'F', 'E', 'C', 'A'), ('C', 'A', 'F', 'E', 'C', 'A', 'C'), ('A', 'F', 'E', 'C', 'A', 'C', 'B'), ('F', 'E', 'C', 'A', 'C', 'B', 'B'), ('E', 'C', 'A', 'C', 'B', 'B', 'B'), ('C', 'A', 'C', 'B', 'B', 'B', 'C'), ('A', 'C', 'B', 'B', 'B', 'C', 'D'), ('C', 'B', 'B', 'B', 'C', 'D', 'C'), ('B', 'B', 'B', 'C', 'D', 'C', 'C'), ('B', 'B', 'C', 'D', 'C', 'C', 'B'), ('B', 'C', 'D', 'C', 'C', 'B', 'C'), ('C', 'D', 'C', 'C', 'B', 'C', 'C'), ('D', 'C', 'C', 'B', 'C', 'C', 'A'), ('C', 'C', 'B', 'C', 'C', 'A', 'B'), ('C', 'B', 'C', 'C', 'A', 'B', 'C'), ('B', 'C', 'C', 'A', 'B', 'C', 'D'), ('C', 'C', 'A', 'B', 'C', 'D', 'C'), ('C', 'A', 'B', 'C', 'D', 'C', 'C'), ('A', 'B', 'C', 'D', 'C', 'C', 'B'), ('B', 'C', 'D', 'C', 'C', 'B', 'C'), ('C', 'D', 'C', 'C', 'B', 'C', 'C'), ('D', 'C', 'C', 'B', 'C', 'C', 'B'), ('C', 'C', 'B', 'C', 'C', 'B', 'C'), ('C', 'B', 'C', 'C', 'B', 'C', 'D'), ('B', 'C', 'C', 'B', 'C', 'D', 'C'), ('C', 'C', 'B', 'C', 'D', 'C', 'C'), ('C', 'B', 'C', 'D', 'C', 'C', 'D'), ('B', 'C', 'D', 'C', 'C', 'D', 'E'), ('C', 'D', 'C', 'C', 'D', 'E', 'F'), ('D', 'C', 'C', 'D', 'E', 'F', 'E'), ('C', 'C', 'D', 'E', 'F', 'E', 'E'), ('C', 'D', 'E', 'F', 'E', 'E', 'F'), ('D', 'E', 'F', 'E', 'E', 'F', 'E'), ('E', 'F', 'E', 'E', 'F', 'E', 'E'), ('F', 'E', 'E', 'F', 'E', 'E', 'G#'), ('E', 'E', 'F', 'E', 'E', 'G#', 'B'), ('E', 'F', 'E', 'E', 'G#', 'B', 'E'), ('F', 'E', 'E', 'G#', 'B', 'E', 'C'), ('E', 'E', 'G#', 'B', 'E', 'C', 'B'), ('E', 'G#', 'B', 'E', 'C', 'B', 'E'), ('G#', 'B', 'E', 'C', 'B', 'E', 'A'), ('B', 'E', 'C', 'B', 'E', 'A', 'A'), ('E', 'C', 'B', 'E', 'A', 'A', 'F'), ('C', 'B', 'E', 'A', 'A', 'F', 'E'), ('B', 'E', 'A', 'A', 'F', 'E', 'E'), ('E', 'A', 'A', 'F', 'E', 'E', 'D'), ('A', 'A', 'F', 'E', 'E', 'D', 'E'), ('A', 'F', 'E', 'E', 'D', 'E', 'C'), ('F', 'E', 'E', 'D', 'E', 'C', 'B'), ('E', 'E', 'D', 'E', 'C', 'B', 'A'), ('E', 'D', 'E', 'C', 'B', 'A', 'C'), ('D', 'E', 'C', 'B', 'A', 'C', 'C'), ('E', 'C', 'B', 'A', 'C', 'C', 'D'), ('C', 'B', 'A', 'C', 'C', 'D', 'D'), ('B', 'A', 'C', 'C', 'D', 'D', 'D'), ('A', 'C', 'C', 'D', 'D', 'D', 'C'), ('C', 'C', 'D', 'D', 'D', 'C', 'A'), ('C', 'D', 'D', 'D', 'C', 'A', 'E'), ('D', 'D', 'D', 'C', 'A', 'E', 'F'), ('D', 'D', 'C', 'A', 'E', 'F', 'E'), ('D', 'C', 'A', 'E', 'F', 'E', 'E'), ('C', 'A', 'E', 'F', 'E', 'E', 'C'), ('A', 'E', 'F', 'E', 'E', 'C', 'D'), ('E', 'F', 'E', 'E', 'C', 'D', 'A'), ('F', 'E', 'E', 'C', 'D', 'A', 'A'), ('E', 'E', 'C', 'D', 'A', 'A', 'E'), ('E', 'C', 'D', 'A', 'A', 'E', 'F'), ('C', 'D', 'A', 'A', 'E', 'F', 'E'), ('D', 'A', 'A', 'E', 'F', 'E', 'E'), ('A', 'A', 'E', 'F', 'E', 'E', 'D'), ('A', 'E', 'F', 'E', 'E', 'D', 'G'), ('E', 'F', 'E', 'E', 'D', 'G', 'G'), ('F', 'E', 'E', 'D', 'G', 'G', 'F'), ('E', 'E', 'D', 'G', 'G', 'F', 'E'), ('E', 'D', 'G', 'G', 'F', 'E', 'E'), ('D', 'G', 'G', 'F', 'E', 'E', 'C'), ('G', 'G', 'F', 'E', 'E', 'C', 'D'), ('G', 'F', 'E', 'E', 'C', 'D', 'E'), ('F', 'E', 'E', 'C', 'D', 'E', 'E'), ('E', 'E', 'C', 'D', 'E', 'E', 'C'), ('E', 'C', 'D', 'E', 'E', 'C', 'B'), ('C', 'D', 'E', 'E', 'C', 'B', 'G'), ('D', 'E', 'E', 'C', 'B', 'G', 'A'), ('E', 'E', 'C', 'B', 'G', 'A', 'A'), ('E', 'C', 'B', 'G', 'A', 'A', 'C'), ('C', 'B', 'G', 'A', 'A', 'C', 'B'), ('B', 'G', 'A', 'A', 'C', 'B', 'C'), ('G', 'A', 'A', 'C', 'B', 'C', 'B'), ('A', 'A', 'C', 'B', 'C', 'B', 'C'), ('A', 'C', 'B', 'C', 'B', 'C', 'A'), ('C', 'B', 'C', 'B', 'C', 'A', 'A'), ('B', 'C', 'B', 'C', 'A', 'A', 'C'), ('C', 'B', 'C', 'A', 'A', 'C', 'E'), ('B', 'C', 'A', 'A', 'C', 'E', 'C'), ('C', 'A', 'A', 'C', 'E', 'C', 'B'), ('A', 'A', 'C', 'E', 'C', 'B', 'E'), ('A', 'C', 'E', 'C', 'B', 'E', 'A'), ('C', 'E', 'C', 'B', 'E', 'A', 'E'), ('E', 'C', 'B', 'E', 'A', 'E', 'C'), ('C', 'B', 'E', 'A', 'E', 'C', 'E'), ('B', 'E', 'A', 'E', 'C', 'E', 'A'), ('E', 'A', 'E', 'C', 'E', 'A', 'E'), ('A', 'E', 'C', 'E', 'A', 'E', 'E'), ('E', 'C', 'E', 'A', 'E', 'E', 'A'), ('C', 'E', 'A', 'E', 'E', 'A', 'C'), ('E', 'A', 'E', 'E', 'A', 'C', 'A'), ('A', 'E', 'E', 'A', 'C', 'A', 'A'), ('E', 'E', 'A', 'C', 'A', 'A', 'C'), ('E', 'A', 'C', 'A', 'A', 'C', 'F'), ('A', 'C', 'A', 'A', 'C', 'F', 'C'), ('C', 'A', 'A', 'C', 'F', 'C', 'B'), ('A', 'A', 'C', 'F', 'C', 'B', 'F'), ('A', 'C', 'F', 'C', 'B', 'F', 'A'), ('C', 'F', 'C', 'B', 'F', 'A', 'F'), ('F', 'C', 'B', 'F', 'A', 'F', 'C'), ('C', 'B', 'F', 'A', 'F', 'C', 'F'), ('B', 'F', 'A', 'F', 'C', 'F', 'A'), ('F', 'A', 'F', 'C', 'F', 'A', 'F'), ('A', 'F', 'C', 'F', 'A', 'F', 'E'), ('F', 'C', 'F', 'A', 'F', 'E', 'A'), ('C', 'F', 'A', 'F', 'E', 'A', 'C'), ('F', 'A', 'F', 'E', 'A', 'C', 'A'), ('A', 'F', 'E', 'A', 'C', 'A', 'A'), ('F', 'E', 'A', 'C', 'A', 'A', 'C'), ('E', 'A', 'C', 'A', 'A', 'C', 'F#'), ('A', 'C', 'A', 'A', 'C', 'F#', 'C'), ('C', 'A', 'A', 'C', 'F#', 'C', 'B'), ('A', 'A', 'C', 'F#', 'C', 'B', 'D'), ('A', 'C', 'F#', 'C', 'B', 'D', 'F#'), ('C', 'F#', 'C', 'B', 'D', 'F#', 'D'), ('F#', 'C', 'B', 'D', 'F#', 'D', 'C'), ('C', 'B', 'D', 'F#', 'D', 'C', 'F#'), ('B', 'D', 'F#', 'D', 'C', 'F#', 'A'), ('D', 'F#', 'D', 'C', 'F#', 'A', 'F#'), ('F#', 'D', 'C', 'F#', 'A', 'F#', 'E'), ('D', 'C', 'F#', 'A', 'F#', 'E', 'A'), ('C', 'F#', 'A', 'F#', 'E', 'A', 'C'), ('F#', 'A', 'F#', 'E', 'A', 'C', 'A'), ('A', 'F#', 'E', 'A', 'C', 'A', 'D'), ('F#', 'E', 'A', 'C', 'A', 'D', 'D'), ('E', 'A', 'C', 'A', 'D', 'D', 'D'), ('A', 'C', 'A', 'D', 'D', 'D', 'D'), ('C', 'A', 'D', 'D', 'D', 'D', 'D'), ('A', 'D', 'D', 'D', 'D', 'D', 'D'), ('D', 'D', 'D', 'D', 'D', 'D', 'D'), ('D', 'D', 'D', 'D', 'D', 'D', 'D'), ('D', 'D', 'D', 'D', 'D', 'D', 'D'), ('D', 'D', 'D', 'D', 'D', 'D', 'D'), ('D', 'D', 'D', 'D', 'D', 'D', 'D'), ('D', 'D', 'D', 'D', 'D', 'D', 'D'), ('D', 'D', 'D', 'D', 'D', 'D', 'D'), ('D', 'D', 'D', 'D', 'D', 'D', 'D'), ('D', 'D', 'D', 'D', 'D', 'D', 'D'), ('D', 'D', 'D', 'D', 'D', 'D', 'D'), ('D', 'D', 'D', 'D', 'D', 'D', 'C'), ('D', 'D', 'D', 'D', 'D', 'C', 'E'), ('D', 'D', 'D', 'D', 'C', 'E', 'C'), ('D', 'D', 'D', 'C', 'E', 'C', 'A'), ('D', 'D', 'C', 'E', 'C', 'A', 'C'), ('D', 'C', 'E', 'C', 'A', 'C', 'E'), ('C', 'E', 'C', 'A', 'C', 'E', 'C'), ('E', 'C', 'A', 'C', 'E', 'C', 'G'), ('C', 'A', 'C', 'E', 'C', 'G', 'A'), ('A', 'C', 'E', 'C', 'G', 'A', 'C'), ('C', 'E', 'C', 'G', 'A', 'C', 'A'), ('E', 'C', 'G', 'A', 'C', 'A', 'C'), ('C', 'G', 'A', 'C', 'A', 'C', 'A'), ('G', 'A', 'C', 'A', 'C', 'A', 'F'), ('A', 'C', 'A', 'C', 'A', 'F', 'E'), ('C', 'A', 'C', 'A', 'F', 'E', 'E'), ('A', 'C', 'A', 'F', 'E', 'E', 'F#'), ('C', 'A', 'F', 'E', 'E', 'F#', 'D'), ('A', 'F', 'E', 'E', 'F#', 'D', 'F#'), ('F', 'E', 'E', 'F#', 'D', 'F#', 'A'), ('E', 'E', 'F#', 'D', 'F#', 'A', 'F#'), ('E', 'F#', 'D', 'F#', 'A', 'F#', 'A'), ('F#', 'D', 'F#', 'A', 'F#', 'A', 'F#'), ('D', 'F#', 'A', 'F#', 'A', 'F#', 'A'), ('F#', 'A', 'F#', 'A', 'F#', 'A', 'F#'), ('A', 'F#', 'A', 'F#', 'A', 'F#', 'A'), ('F#', 'A', 'F#', 'A', 'F#', 'A', 'F#'), ('A', 'F#', 'A', 'F#', 'A', 'F#', 'B'), ('F#', 'A', 'F#', 'A', 'F#', 'B', 'F#'), ('A', 'F#', 'A', 'F#', 'B', 'F#', 'C'), ('F#', 'A', 'F#', 'B', 'F#', 'C', 'F#'), ('A', 'F#', 'B', 'F#', 'C', 'F#', 'B'), ('F#', 'B', 'F#', 'C', 'F#', 'B', 'C'), ('B', 'F#', 'C', 'F#', 'B', 'C', 'E'), ('F#', 'C', 'F#', 'B', 'C', 'E', 'C'), ('C', 'F#', 'B', 'C', 'E', 'C', 'G'), ('F#', 'B', 'C', 'E', 'C', 'G', 'C'), ('B', 'C', 'E', 'C', 'G', 'C', 'A'), ('C', 'E', 'C', 'G', 'C', 'A', 'C'), ('E', 'C', 'G', 'C', 'A', 'C', 'B'), ('C', 'G', 'C', 'A', 'C', 'B', 'C'), ('G', 'C', 'A', 'C', 'B', 'C', 'A'), ('C', 'A', 'C', 'B', 'C', 'A', 'C'), ('A', 'C', 'B', 'C', 'A', 'C', 'B'), ('C', 'B', 'C', 'A', 'C', 'B', 'C'), ('B', 'C', 'A', 'C', 'B', 'C', 'C'), ('C', 'A', 'C', 'B', 'C', 'C', 'A'), ('A', 'C', 'B', 'C', 'C', 'A', 'A'), ('C', 'B', 'C', 'C', 'A', 'A', 'A'), ('B', 'C', 'C', 'A', 'A', 'A', 'D'), ('C', 'C', 'A', 'A', 'A', 'D', 'A'), ('C', 'A', 'A', 'A', 'D', 'A', 'F#'), ('A', 'A', 'A', 'D', 'A', 'F#', 'A'), ('A', 'A', 'D', 'A', 'F#', 'A', 'G'), ('A', 'D', 'A', 'F#', 'A', 'G', 'F#'), ('D', 'A', 'F#', 'A', 'G', 'F#', 'E'), ('A', 'F#', 'A', 'G', 'F#', 'E', 'F'), ('F#', 'A', 'G', 'F#', 'E', 'F', 'D'), ('A', 'G', 'F#', 'E', 'F', 'D', 'F'), ('G', 'F#', 'E', 'F', 'D', 'F', 'C'), ('F#', 'E', 'F', 'D', 'F', 'C', 'F'), ('E', 'F', 'D', 'F', 'C', 'F', 'B'), ('F', 'D', 'F', 'C', 'F', 'B', 'F'), ('D', 'F', 'C', 'F', 'B', 'F', 'A'), ('F', 'C', 'F', 'B', 'F', 'A', 'B'), ('C', 'F', 'B', 'F', 'A', 'B', 'C'), ('F', 'B', 'F', 'A', 'B', 'C', 'E'), ('B', 'F', 'A', 'B', 'C', 'E', 'G'), ('F', 'A', 'B', 'C', 'E', 'G', 'C'), ('A', 'B', 'C', 'E', 'G', 'C', 'A'), ('B', 'C', 'E', 'G', 'C', 'A', 'C'), ('C', 'E', 'G', 'C', 'A', 'C', 'G'), ('E', 'G', 'C', 'A', 'C', 'G', 'A'), ('G', 'C', 'A', 'C', 'G', 'A', 'F'), ('C', 'A', 'C', 'G', 'A', 'F', 'A'), ('A', 'C', 'G', 'A', 'F', 'A', 'E'), ('C', 'G', 'A', 'F', 'A', 'E', 'A'), ('G', 'A', 'F', 'A', 'E', 'A', 'F'), ('A', 'F', 'A', 'E', 'A', 'F', 'E'), ('F', 'A', 'E', 'A', 'F', 'E', 'E'), ('A', 'E', 'A', 'F', 'E', 'E', 'F#'), ('E', 'A', 'F', 'E', 'E', 'F#', 'A'), ('A', 'F', 'E', 'E', 'F#', 'A', 'F#'), ('F', 'E', 'E', 'F#', 'A', 'F#', 'D'), ('E', 'E', 'F#', 'A', 'F#', 'D', 'F#'), ('E', 'F#', 'A', 'F#', 'D', 'F#', 'A'), ('F#', 'A', 'F#', 'D', 'F#', 'A', 'F#'), ('A', 'F#', 'D', 'F#', 'A', 'F#', 'F'), ('F#', 'D', 'F#', 'A', 'F#', 'F', 'A'), ('D', 'F#', 'A', 'F#', 'F', 'A', 'D'), ('F#', 'A', 'F#', 'F', 'A', 'D', 'A'), ('A', 'F#', 'F', 'A', 'D', 'A', 'E'), ('F#', 'F', 'A', 'D', 'A', 'E', 'A'), ('F', 'A', 'D', 'A', 'E', 'A', 'F'), ('A', 'D', 'A', 'E', 'A', 'F', 'E'), ('D', 'A', 'E', 'A', 'F', 'E', 'E'), ('A', 'E', 'A', 'F', 'E', 'E', 'A'), ('E', 'A', 'F', 'E', 'E', 'A', 'F'), ('A', 'F', 'E', 'E', 'A', 'F', 'E'), ('F', 'E', 'E', 'A', 'F', 'E', 'A'), ('E', 'E', 'A', 'F', 'E', 'A', 'B'), ('E', 'A', 'F', 'E', 'A', 'B', 'C'), ('A', 'F', 'E', 'A', 'B', 'C', 'A'), ('F', 'E', 'A', 'B', 'C', 'A', 'A'), ('E', 'A', 'B', 'C', 'A', 'A', 'A'), ('A', 'B', 'C', 'A', 'A', 'A', 'B'), ('B', 'C', 'A', 'A', 'A', 'B', 'E'), ('C', 'A', 'A', 'A', 'B', 'E', 'C'), ('A', 'A', 'A', 'B', 'E', 'C', 'B'), ('A', 'A', 'B', 'E', 'C', 'B', 'E'), ('A', 'B', 'E', 'C', 'B', 'E', 'A'), ('B', 'E', 'C', 'B', 'E', 'A', 'A'), ('E', 'C', 'B', 'E', 'A', 'A', 'F'), ('C', 'B', 'E', 'A', 'A', 'F', 'E'), ('B', 'E', 'A', 'A', 'F', 'E', 'E'), ('E', 'A', 'A', 'F', 'E', 'E', 'D'), ('A', 'A', 'F', 'E', 'E', 'D', 'E'), ('A', 'F', 'E', 'E', 'D', 'E', 'C'), ('F', 'E', 'E', 'D', 'E', 'C', 'B'), ('E', 'E', 'D', 'E', 'C', 'B', 'A'), ('E', 'D', 'E', 'C', 'B', 'A', 'C'), ('D', 'E', 'C', 'B', 'A', 'C', 'C'), ('E', 'C', 'B', 'A', 'C', 'C', 'D'), ('C', 'B', 'A', 'C', 'C', 'D', 'D'), ('B', 'A', 'C', 'C', 'D', 'D', 'D'), ('A', 'C', 'C', 'D', 'D', 'D', 'C'), ('C', 'C', 'D', 'D', 'D', 'C', 'A'), ('C', 'D', 'D', 'D', 'C', 'A', 'E'), ('D', 'D', 'D', 'C', 'A', 'E', 'F'), ('D', 'D', 'C', 'A', 'E', 'F', 'E'), ('D', 'C', 'A', 'E', 'F', 'E', 'E'), ('C', 'A', 'E', 'F', 'E', 'E', 'E'), ('A', 'E', 'F', 'E', 'E', 'E', 'A'), ('E', 'F', 'E', 'E', 'E', 'A', 'E'), ('F', 'E', 'E', 'E', 'A', 'E', 'C'), ('E', 'E', 'E', 'A', 'E', 'C', 'E'), ('E', 'E', 'A', 'E', 'C', 'E', 'D'), ('E', 'A', 'E', 'C', 'E', 'D', 'A'), ('A', 'E', 'C', 'E', 'D', 'A', 'A'), ('E', 'C', 'E', 'D', 'A', 'A', 'F'), ('C', 'E', 'D', 'A', 'A', 'F', 'A'), ('E', 'D', 'A', 'A', 'F', 'A', 'F'), ('D', 'A', 'A', 'F', 'A', 'F', 'E'), ('A', 'A', 'F', 'A', 'F', 'E', 'F'), ('A', 'F', 'A', 'F', 'E', 'F', 'F'), ('F', 'A', 'F', 'E', 'F', 'F', 'E'), ('A', 'F', 'E', 'F', 'F', 'E', 'E'), ('F', 'E', 'F', 'F', 'E', 'E', 'A'), ('E', 'F', 'F', 'E', 'E', 'A', 'D'), ('F', 'F', 'E', 'E', 'A', 'D', 'G'), ('F', 'E', 'E', 'A', 'D', 'G', 'G'), ('E', 'E', 'A', 'D', 'G', 'G', 'A'), ('E', 'A', 'D', 'G', 'G', 'A', 'F'), ('A', 'D', 'G', 'G', 'A', 'F', 'E'), ('D', 'G', 'G', 'A', 'F', 'E', 'E'), ('G', 'G', 'A', 'F', 'E', 'E', 'F'), ('G', 'A', 'F', 'E', 'E', 'F', 'D'), ('A', 'F', 'E', 'E', 'F', 'D', 'C'), ('F', 'E', 'E', 'F', 'D', 'C', 'C'), ('E', 'E', 'F', 'D', 'C', 'C', 'F'), ('E', 'F', 'D', 'C', 'C', 'F', 'D'), ('F', 'D', 'C', 'C', 'F', 'D', 'E'), ('D', 'C', 'C', 'F', 'D', 'E', 'E'), ('C', 'C', 'F', 'D', 'E', 'E', 'E'), ('C', 'F', 'D', 'E', 'E', 'E', 'A'), ('F', 'D', 'E', 'E', 'E', 'A', 'E'), ('D', 'E', 'E', 'E', 'A', 'E', 'C'), ('E', 'E', 'E', 'A', 'E', 'C', 'E'), ('E', 'E', 'A', 'E', 'C', 'E', 'A'), ('E', 'A', 'E', 'C', 'E', 'A', 'E'), ('A', 'E', 'C', 'E', 'A', 'E', 'B'), ('E', 'C', 'E', 'A', 'E', 'B', 'C'), ('C', 'E', 'A', 'E', 'B', 'C', 'F'), ('E', 'A', 'E', 'B', 'C', 'F', 'C'), ('A', 'E', 'B', 'C', 'F', 'C', 'B'), ('E', 'B', 'C', 'F', 'C', 'B', 'C'), ('B', 'C', 'F', 'C', 'B', 'C', 'G'), ('C', 'F', 'C', 'B', 'C', 'G', 'A'), ('F', 'C', 'B', 'C', 'G', 'A', 'A'), ('C', 'B', 'C', 'G', 'A', 'A', 'F'), ('B', 'C', 'G', 'A', 'A', 'F', 'D'), ('C', 'G', 'A', 'A', 'F', 'D', 'F'), ('G', 'A', 'A', 'F', 'D', 'F', 'A'), ('A', 'A', 'F', 'D', 'F', 'A', 'F'), ('A', 'F', 'D', 'F', 'A', 'F', 'C'), ('F', 'D', 'F', 'A', 'F', 'C', 'F'), ('D', 'F', 'A', 'F', 'C', 'F', 'B'), ('F', 'A', 'F', 'C', 'F', 'B', 'F'), ('A', 'F', 'C', 'F', 'B', 'F', 'C'), ('F', 'C', 'F', 'B', 'F', 'C', 'F'), ('C', 'F', 'B', 'F', 'C', 'F', 'B'), ('F', 'B', 'F', 'C', 'F', 'B', 'F'), ('B', 'F', 'C', 'F', 'B', 'F', 'C'), ('F', 'C', 'F', 'B', 'F', 'C', 'A'), ('C', 'F', 'B', 'F', 'C', 'A', 'A'), ('F', 'B', 'F', 'C', 'A', 'A', 'C'), ('B', 'F', 'C', 'A', 'A', 'C', 'E'), ('F', 'C', 'A', 'A', 'C', 'E', 'C'), ('C', 'A', 'A', 'C', 'E', 'C', 'B'), ('A', 'A', 'C', 'E', 'C', 'B', 'E'), ('A', 'C', 'E', 'C', 'B', 'E', 'A'), ('C', 'E', 'C', 'B', 'E', 'A', 'E'), ('E', 'C', 'B', 'E', 'A', 'E', 'C'), ('C', 'B', 'E', 'A', 'E', 'C', 'E'), ('B', 'E', 'A', 'E', 'C', 'E', 'A'), ('E', 'A', 'E', 'C', 'E', 'A', 'E'), ('A', 'E', 'C', 'E', 'A', 'E', 'E'), ('E', 'C', 'E', 'A', 'E', 'E', 'A'), ('C', 'E', 'A', 'E', 'E', 'A', 'C'), ('E', 'A', 'E', 'E', 'A', 'C', 'A'), ('A', 'E', 'E', 'A', 'C', 'A', 'A'), ('E', 'E', 'A', 'C', 'A', 'A', 'C'), ('E', 'A', 'C', 'A', 'A', 'C', 'F'), ('A', 'C', 'A', 'A', 'C', 'F', 'C'), ('C', 'A', 'A', 'C', 'F', 'C', 'B'), ('A', 'A', 'C', 'F', 'C', 'B', 'F'), ('A', 'C', 'F', 'C', 'B', 'F', 'A'), ('C', 'F', 'C', 'B', 'F', 'A', 'F'), ('F', 'C', 'B', 'F', 'A', 'F', 'C'), ('C', 'B', 'F', 'A', 'F', 'C', 'C'), ('B', 'F', 'A', 'F', 'C', 'C', 'B'), ('F', 'A', 'F', 'C', 'C', 'B', 'C'), ('A', 'F', 'C', 'C', 'B', 'C', 'D'), ('F', 'C', 'C', 'B', 'C', 'D', 'D'), ('C', 'C', 'B', 'C', 'D', 'D', 'C'), ('C', 'B', 'C', 'D', 'D', 'C', 'A'), ('B', 'C', 'D', 'D', 'C', 'A', 'A'), ('C', 'D', 'D', 'C', 'A', 'A', 'D'), ('D', 'D', 'C', 'A', 'A', 'D', 'F#'), ('D', 'C', 'A', 'A', 'D', 'F#', 'D'), ('C', 'A', 'A', 'D', 'F#', 'D', 'C'), ('A', 'A', 'D', 'F#', 'D', 'C', 'F#'), ('A', 'D', 'F#', 'D', 'C', 'F#', 'A'), ('D', 'F#', 'D', 'C', 'F#', 'A', 'F#'), ('F#', 'D', 'C', 'F#', 'A', 'F#', 'E'), ('D', 'C', 'F#', 'A', 'F#', 'E', 'A'), ('C', 'F#', 'A', 'F#', 'E', 'A', 'C'), ('F#', 'A', 'F#', 'E', 'A', 'C', 'A'), ('A', 'F#', 'E', 'A', 'C', 'A', 'G#'), ('F#', 'E', 'A', 'C', 'A', 'G#', 'B'), ('E', 'A', 'C', 'A', 'G#', 'B', 'D'), ('A', 'C', 'A', 'G#', 'B', 'D', 'B'), ('C', 'A', 'G#', 'B', 'D', 'B', 'A'), ('A', 'G#', 'B', 'D', 'B', 'A', 'D'), ('G#', 'B', 'D', 'B', 'A', 'D', 'E'), ('B', 'D', 'B', 'A', 'D', 'E', 'D'), ('D', 'B', 'A', 'D', 'E', 'D', 'B'), ('B', 'A', 'D', 'E', 'D', 'B', 'C'), ('A', 'D', 'E', 'D', 'B', 'C', 'B'), ('D', 'E', 'D', 'B', 'C', 'B', 'C'), ('E', 'D', 'B', 'C', 'B', 'C', 'E'), ('D', 'B', 'C', 'B', 'C', 'E', 'E'), ('B', 'C', 'B', 'C', 'E', 'E', 'A'), ('C', 'B', 'C', 'E', 'E', 'A', 'A'), ('B', 'C', 'E', 'E', 'A', 'A', 'B'), ('C', 'E', 'E', 'A', 'A', 'B', 'B'), ('E', 'E', 'A', 'A', 'B', 'B', 'B'), ('E', 'A', 'A', 'B', 'B', 'B', 'B'), ('A', 'A', 'B', 'B', 'B', 'B', 'C'), ('A', 'B', 'B', 'B', 'B', 'C', 'C'), ('B', 'B', 'B', 'B', 'C', 'C', 'C'), ('B', 'B', 'B', 'C', 'C', 'C', 'C'), ('B', 'B', 'C', 'C', 'C', 'C', 'E'), ('B', 'C', 'C', 'C', 'C', 'E', 'E'), ('C', 'C', 'C', 'C', 'E', 'E', 'E'), ('C', 'C', 'C', 'E', 'E', 'E', 'E'), ('C', 'C', 'E', 'E', 'E', 'E', 'A'), ('C', 'E', 'E', 'E', 'E', 'A', 'A'), ('E', 'E', 'E', 'E', 'A', 'A', 'A'), ('E', 'E', 'E', 'A', 'A', 'A', 'A'), ('E', 'E', 'A', 'A', 'A', 'A', 'B'), ('E', 'A', 'A', 'A', 'A', 'B', 'B'), ('A', 'A', 'A', 'A', 'B', 'B', 'B'), ('A', 'A', 'A', 'B', 'B', 'B', 'B'), ('A', 'A', 'B', 'B', 'B', 'B', 'C'), ('A', 'B', 'B', 'B', 'B', 'C', 'C'), ('B', 'B', 'B', 'B', 'C', 'C', 'C'), ('B', 'B', 'B', 'C', 'C', 'C', 'C'), ('B', 'B', 'C', 'C', 'C', 'C', 'E'), ('B', 'C', 'C', 'C', 'C', 'E', 'E'), ('C', 'C', 'C', 'C', 'E', 'E', 'E'), ('C', 'C', 'C', 'E', 'E', 'E', 'E'), ('C', 'C', 'E', 'E', 'E', 'E', 'A'), ('C', 'E', 'E', 'E', 'E', 'A', 'A'), ('E', 'E', 'E', 'E', 'A', 'A', 'A'), ('E', 'E', 'E', 'A', 'A', 'A', 'A'), ('E', 'E', 'A', 'A', 'A', 'A', 'B'), ('E', 'A', 'A', 'A', 'A', 'B', 'B'), ('A', 'A', 'A', 'A', 'B', 'B', 'B'), ('A', 'A', 'A', 'B', 'B', 'B', 'B'), ('A', 'A', 'B', 'B', 'B', 'B', 'C'), ('A', 'B', 'B', 'B', 'B', 'C', 'C'), ('B', 'B', 'B', 'B', 'C', 'C', 'C'), ('B', 'B', 'B', 'C', 'C', 'C', 'C'), ('B', 'B', 'C', 'C', 'C', 'C', 'E'), ('B', 'C', 'C', 'C', 'C', 'E', 'E'), ('C', 'C', 'C', 'C', 'E', 'E', 'E'), ('C', 'C', 'C', 'E', 'E', 'E', 'E'), ('C', 'C', 'E', 'E', 'E', 'E', 'D'), ('C', 'E', 'E', 'E', 'E', 'D', 'E'), ('E', 'E', 'E', 'E', 'D', 'E', 'F'), ('E', 'E', 'E', 'D', 'E', 'F', 'E'), ('E', 'E', 'D', 'E', 'F', 'E', 'E'), ('E', 'D', 'E', 'F', 'E', 'E', 'C'), ('D', 'E', 'F', 'E', 'E', 'C', 'B'), ('E', 'F', 'E', 'E', 'C', 'B', 'A'), ('F', 'E', 'E', 'C', 'B', 'A', 'A'), ('E', 'E', 'C', 'B', 'A', 'A', 'E'), ('E', 'C', 'B', 'A', 'A', 'E', 'F'), ('C', 'B', 'A', 'A', 'E', 'F', 'E'), ('B', 'A', 'A', 'E', 'F', 'E', 'E'), ('A', 'A', 'E', 'F', 'E', 'E', 'C'), ('A', 'E', 'F', 'E', 'E', 'C', 'C'), ('E', 'F', 'E', 'E', 'C', 'C', 'C'), ('F', 'E', 'E', 'C', 'C', 'C', 'B'), ('E', 'E', 'C', 'C', 'C', 'B', 'A'), ('E', 'C', 'C', 'C', 'B', 'A', 'A'), ('C', 'C', 'C', 'B', 'A', 'A', 'B'), ('C', 'C', 'B', 'A', 'A', 'B', 'C'), ('C', 'B', 'A', 'A', 'B', 'C', 'D'), ('B', 'A', 'A', 'B', 'C', 'D', 'E'), ('A', 'A', 'B', 'C', 'D', 'E', 'E'), ('A', 'B', 'C', 'D', 'E', 'E', 'C'), ('B', 'C', 'D', 'E', 'E', 'C', 'B'), ('C', 'D', 'E', 'E', 'C', 'B', 'B'), ('D', 'E', 'E', 'C', 'B', 'B', 'C'), ('E', 'E', 'C', 'B', 'B', 'C', 'A'), ('E', 'C', 'B', 'B', 'C', 'A', 'A'), ('C', 'B', 'B', 'C', 'A', 'A', 'C'), ('B', 'B', 'C', 'A', 'A', 'C', 'B'), ('B', 'C', 'A', 'A', 'C', 'B', 'C'), ('C', 'A', 'A', 'C', 'B', 'C', 'B'), ('A', 'A', 'C', 'B', 'C', 'B', 'C'), ('A', 'C', 'B', 'C', 'B', 'C', 'A'), ('C', 'B', 'C', 'B', 'C', 'A', 'A'), ('B', 'C', 'B', 'C', 'A', 'A', 'C'), ('C', 'B', 'C', 'A', 'A', 'C', 'C')]\n",
      "[('A', 'E', 'F', 'E', 'D', 'E', 'E'), ('E', 'F', 'E', 'D', 'E', 'E', 'E'), ('F', 'E', 'D', 'E', 'E', 'E', 'A'), ('E', 'D', 'E', 'E', 'E', 'A', 'E'), ('D', 'E', 'E', 'E', 'A', 'E', 'B'), ('E', 'E', 'E', 'A', 'E', 'B', 'F'), ('E', 'E', 'A', 'E', 'B', 'F', 'C'), ('E', 'A', 'E', 'B', 'F', 'C', 'A'), ('A', 'E', 'B', 'F', 'C', 'A', 'D'), ('E', 'B', 'F', 'C', 'A', 'D', 'A'), ('B', 'F', 'C', 'A', 'D', 'A', 'D'), ('F', 'C', 'A', 'D', 'A', 'D', 'A'), ('C', 'A', 'D', 'A', 'D', 'A', 'E'), ('A', 'D', 'A', 'D', 'A', 'E', 'B'), ('D', 'A', 'D', 'A', 'E', 'B', 'F'), ('A', 'D', 'A', 'E', 'B', 'F', 'C'), ('D', 'A', 'E', 'B', 'F', 'C', 'A'), ('A', 'E', 'B', 'F', 'C', 'A', 'D'), ('E', 'B', 'F', 'C', 'A', 'D', 'A'), ('B', 'F', 'C', 'A', 'D', 'A', 'D'), ('F', 'C', 'A', 'D', 'A', 'D', 'A'), ('C', 'A', 'D', 'A', 'D', 'A', 'E'), ('A', 'D', 'A', 'D', 'A', 'E', 'B'), ('D', 'A', 'D', 'A', 'E', 'B', 'F'), ('A', 'D', 'A', 'E', 'B', 'F', 'C'), ('D', 'A', 'E', 'B', 'F', 'C', 'A'), ('A', 'E', 'B', 'F', 'C', 'A', 'D'), ('E', 'B', 'F', 'C', 'A', 'D', 'A'), ('B', 'F', 'C', 'A', 'D', 'A', 'D'), ('F', 'C', 'A', 'D', 'A', 'D', 'A'), ('C', 'A', 'D', 'A', 'D', 'A', 'E'), ('A', 'D', 'A', 'D', 'A', 'E', 'A'), ('D', 'A', 'D', 'A', 'E', 'A', 'F'), ('A', 'D', 'A', 'E', 'A', 'F', 'F'), ('D', 'A', 'E', 'A', 'F', 'F', 'C'), ('A', 'E', 'A', 'F', 'F', 'C', 'A'), ('E', 'A', 'F', 'F', 'C', 'A', 'C'), ('A', 'F', 'F', 'C', 'A', 'C', 'B'), ('F', 'F', 'C', 'A', 'C', 'B', 'C'), ('F', 'C', 'A', 'C', 'B', 'C', 'C'), ('C', 'A', 'C', 'B', 'C', 'C', 'E'), ('A', 'C', 'B', 'C', 'C', 'E', 'A'), ('C', 'B', 'C', 'C', 'E', 'A', 'E'), ('B', 'C', 'C', 'E', 'A', 'E', 'A'), ('C', 'C', 'E', 'A', 'E', 'A', 'E'), ('C', 'E', 'A', 'E', 'A', 'E', 'B'), ('E', 'A', 'E', 'A', 'E', 'B', 'E'), ('A', 'E', 'A', 'E', 'B', 'E', 'A'), ('E', 'A', 'E', 'B', 'E', 'A', 'E'), ('A', 'E', 'B', 'E', 'A', 'E', 'F'), ('E', 'B', 'E', 'A', 'E', 'F', 'C'), ('B', 'E', 'A', 'E', 'F', 'C', 'F'), ('E', 'A', 'E', 'F', 'C', 'F', 'C'), ('A', 'E', 'F', 'C', 'F', 'C', 'A'), ('E', 'F', 'C', 'F', 'C', 'A', 'C'), ('F', 'C', 'F', 'C', 'A', 'C', 'F'), ('C', 'F', 'C', 'A', 'C', 'F', 'C'), ('F', 'C', 'A', 'C', 'F', 'C', 'D'), ('C', 'A', 'C', 'F', 'C', 'D', 'A'), ('A', 'C', 'F', 'C', 'D', 'A', 'D'), ('C', 'F', 'C', 'D', 'A', 'D', 'A'), ('F', 'C', 'D', 'A', 'D', 'A', 'F#'), ('C', 'D', 'A', 'D', 'A', 'F#', 'A'), ('D', 'A', 'D', 'A', 'F#', 'A', 'D'), ('A', 'D', 'A', 'F#', 'A', 'D', 'A'), ('D', 'A', 'F#', 'A', 'D', 'A', 'D'), ('A', 'F#', 'A', 'D', 'A', 'D', 'A'), ('F#', 'A', 'D', 'A', 'D', 'A', 'D'), ('A', 'D', 'A', 'D', 'A', 'D', 'A'), ('D', 'A', 'D', 'A', 'D', 'A', 'F'), ('A', 'D', 'A', 'D', 'A', 'F', 'A'), ('D', 'A', 'D', 'A', 'F', 'A', 'D'), ('A', 'D', 'A', 'F', 'A', 'D', 'A'), ('D', 'A', 'F', 'A', 'D', 'A', 'A'), ('A', 'F', 'A', 'D', 'A', 'A', 'E'), ('F', 'A', 'D', 'A', 'A', 'E', 'A'), ('A', 'D', 'A', 'A', 'E', 'A', 'E'), ('D', 'A', 'A', 'E', 'A', 'E', 'C'), ('A', 'A', 'E', 'A', 'E', 'C', 'E'), ('A', 'E', 'A', 'E', 'C', 'E', 'A'), ('E', 'A', 'E', 'C', 'E', 'A', 'E'), ('A', 'E', 'C', 'E', 'A', 'E', 'F'), ('E', 'C', 'E', 'A', 'E', 'F', 'C'), ('C', 'E', 'A', 'E', 'F', 'C', 'F'), ('E', 'A', 'E', 'F', 'C', 'F', 'C'), ('A', 'E', 'F', 'C', 'F', 'C', 'A'), ('E', 'F', 'C', 'F', 'C', 'A', 'C'), ('F', 'C', 'F', 'C', 'A', 'C', 'F'), ('C', 'F', 'C', 'A', 'C', 'F', 'C'), ('F', 'C', 'A', 'C', 'F', 'C', 'D'), ('C', 'A', 'C', 'F', 'C', 'D', 'A'), ('A', 'C', 'F', 'C', 'D', 'A', 'D'), ('C', 'F', 'C', 'D', 'A', 'D', 'A'), ('F', 'C', 'D', 'A', 'D', 'A', 'F#'), ('C', 'D', 'A', 'D', 'A', 'F#', 'A'), ('D', 'A', 'D', 'A', 'F#', 'A', 'D'), ('A', 'D', 'A', 'F#', 'A', 'D', 'A'), ('D', 'A', 'F#', 'A', 'D', 'A', 'D'), ('A', 'F#', 'A', 'D', 'A', 'D', 'A'), ('F#', 'A', 'D', 'A', 'D', 'A', 'D'), ('A', 'D', 'A', 'D', 'A', 'D', 'A'), ('D', 'A', 'D', 'A', 'D', 'A', 'F'), ('A', 'D', 'A', 'D', 'A', 'F', 'A'), ('D', 'A', 'D', 'A', 'F', 'A', 'D'), ('A', 'D', 'A', 'F', 'A', 'D', 'A'), ('D', 'A', 'F', 'A', 'D', 'A', 'A'), ('A', 'F', 'A', 'D', 'A', 'A', 'E'), ('F', 'A', 'D', 'A', 'A', 'E', 'A'), ('A', 'D', 'A', 'A', 'E', 'A', 'E'), ('D', 'A', 'A', 'E', 'A', 'E', 'C'), ('A', 'A', 'E', 'A', 'E', 'C', 'E'), ('A', 'E', 'A', 'E', 'C', 'E', 'A'), ('E', 'A', 'E', 'C', 'E', 'A', 'E'), ('A', 'E', 'C', 'E', 'A', 'E', 'F'), ('E', 'C', 'E', 'A', 'E', 'F', 'C'), ('C', 'E', 'A', 'E', 'F', 'C', 'F'), ('E', 'A', 'E', 'F', 'C', 'F', 'C'), ('A', 'E', 'F', 'C', 'F', 'C', 'A'), ('E', 'F', 'C', 'F', 'C', 'A', 'C'), ('F', 'C', 'F', 'C', 'A', 'C', 'F'), ('C', 'F', 'C', 'A', 'C', 'F', 'C'), ('F', 'C', 'A', 'C', 'F', 'C', 'D'), ('C', 'A', 'C', 'F', 'C', 'D', 'A'), ('A', 'C', 'F', 'C', 'D', 'A', 'D'), ('C', 'F', 'C', 'D', 'A', 'D', 'A'), ('F', 'C', 'D', 'A', 'D', 'A', 'F#'), ('C', 'D', 'A', 'D', 'A', 'F#', 'A'), ('D', 'A', 'D', 'A', 'F#', 'A', 'D'), ('A', 'D', 'A', 'F#', 'A', 'D', 'A'), ('D', 'A', 'F#', 'A', 'D', 'A', 'D'), ('A', 'F#', 'A', 'D', 'A', 'D', 'A'), ('F#', 'A', 'D', 'A', 'D', 'A', 'D'), ('A', 'D', 'A', 'D', 'A', 'D', 'A'), ('D', 'A', 'D', 'A', 'D', 'A', 'F'), ('A', 'D', 'A', 'D', 'A', 'F', 'A'), ('D', 'A', 'D', 'A', 'F', 'A', 'D'), ('A', 'D', 'A', 'F', 'A', 'D', 'A'), ('D', 'A', 'F', 'A', 'D', 'A', 'F'), ('A', 'F', 'A', 'D', 'A', 'F', 'C'), ('F', 'A', 'D', 'A', 'F', 'C', 'F'), ('A', 'D', 'A', 'F', 'C', 'F', 'C'), ('D', 'A', 'F', 'C', 'F', 'C', 'A'), ('A', 'F', 'C', 'F', 'C', 'A', 'C'), ('F', 'C', 'F', 'C', 'A', 'C', 'F'), ('C', 'F', 'C', 'A', 'C', 'F', 'C'), ('F', 'C', 'A', 'C', 'F', 'C', 'B'), ('C', 'A', 'C', 'F', 'C', 'B', 'C'), ('A', 'C', 'F', 'C', 'B', 'C', 'F'), ('C', 'F', 'C', 'B', 'C', 'F', 'C'), ('F', 'C', 'B', 'C', 'F', 'C', 'C'), ('C', 'B', 'C', 'F', 'C', 'C', 'C'), ('B', 'C', 'F', 'C', 'C', 'C', 'F'), ('C', 'F', 'C', 'C', 'C', 'F', 'E'), ('F', 'C', 'C', 'C', 'F', 'E', 'B'), ('C', 'C', 'C', 'F', 'E', 'B', 'E'), ('C', 'C', 'F', 'E', 'B', 'E', 'B'), ('C', 'F', 'E', 'B', 'E', 'B', 'G#'), ('F', 'E', 'B', 'E', 'B', 'G#', 'B'), ('E', 'B', 'E', 'B', 'G#', 'B', 'E'), ('B', 'E', 'B', 'G#', 'B', 'E', 'B'), ('E', 'B', 'G#', 'B', 'E', 'B', 'E'), ('B', 'G#', 'B', 'E', 'B', 'E', 'F'), ('G#', 'B', 'E', 'B', 'E', 'F', 'C'), ('B', 'E', 'B', 'E', 'F', 'C', 'F'), ('E', 'B', 'E', 'F', 'C', 'F', 'A'), ('B', 'E', 'F', 'C', 'F', 'A', 'B'), ('E', 'F', 'C', 'F', 'A', 'B', 'A'), ('F', 'C', 'F', 'A', 'B', 'A', 'F'), ('C', 'F', 'A', 'B', 'A', 'F', 'A'), ('F', 'A', 'B', 'A', 'F', 'A', 'C'), ('A', 'B', 'A', 'F', 'A', 'C', 'A'), ('B', 'A', 'F', 'A', 'C', 'A', 'F'), ('A', 'F', 'A', 'C', 'A', 'F', 'A'), ('F', 'A', 'C', 'A', 'F', 'A', 'E'), ('A', 'C', 'A', 'F', 'A', 'E', 'A'), ('C', 'A', 'F', 'A', 'E', 'A', 'F'), ('A', 'F', 'A', 'E', 'A', 'F', 'A'), ('F', 'A', 'E', 'A', 'F', 'A', 'E'), ('A', 'E', 'A', 'F', 'A', 'E', 'A'), ('E', 'A', 'F', 'A', 'E', 'A', 'E'), ('A', 'F', 'A', 'E', 'A', 'E', 'B'), ('F', 'A', 'E', 'A', 'E', 'B', 'A'), ('A', 'E', 'A', 'E', 'B', 'A', 'E'), ('E', 'A', 'E', 'B', 'A', 'E', 'A'), ('A', 'E', 'B', 'A', 'E', 'A', 'C'), ('E', 'B', 'A', 'E', 'A', 'C', 'A'), ('B', 'A', 'E', 'A', 'C', 'A', 'E'), ('A', 'E', 'A', 'C', 'A', 'E', 'A'), ('E', 'A', 'C', 'A', 'E', 'A', 'E'), ('A', 'C', 'A', 'E', 'A', 'E', 'A'), ('C', 'A', 'E', 'A', 'E', 'A', 'E'), ('A', 'E', 'A', 'E', 'A', 'E', 'D'), ('E', 'A', 'E', 'A', 'E', 'D', 'F'), ('A', 'E', 'A', 'E', 'D', 'F', 'A'), ('E', 'A', 'E', 'D', 'F', 'A', 'F'), ('A', 'E', 'D', 'F', 'A', 'F', 'B'), ('E', 'D', 'F', 'A', 'F', 'B', 'F'), ('D', 'F', 'A', 'F', 'B', 'F', 'D'), ('F', 'A', 'F', 'B', 'F', 'D', 'F'), ('A', 'F', 'B', 'F', 'D', 'F', 'C'), ('F', 'B', 'F', 'D', 'F', 'C', 'A'), ('B', 'F', 'D', 'F', 'C', 'A', 'D'), ('F', 'D', 'F', 'C', 'A', 'D', 'A'), ('D', 'F', 'C', 'A', 'D', 'A', 'E'), ('F', 'C', 'A', 'D', 'A', 'E', 'A'), ('C', 'A', 'D', 'A', 'E', 'A', 'D'), ('A', 'D', 'A', 'E', 'A', 'D', 'E'), ('D', 'A', 'E', 'A', 'D', 'E', 'B'), ('A', 'E', 'A', 'D', 'E', 'B', 'E'), ('E', 'A', 'D', 'E', 'B', 'E', 'G#'), ('A', 'D', 'E', 'B', 'E', 'G#', 'B'), ('D', 'E', 'B', 'E', 'G#', 'B', 'E'), ('E', 'B', 'E', 'G#', 'B', 'E', 'G#'), ('B', 'E', 'G#', 'B', 'E', 'G#', 'B'), ('E', 'G#', 'B', 'E', 'G#', 'B', 'E'), ('G#', 'B', 'E', 'G#', 'B', 'E', 'C'), ('B', 'E', 'G#', 'B', 'E', 'C', 'B'), ('E', 'G#', 'B', 'E', 'C', 'B', 'A'), ('G#', 'B', 'E', 'C', 'B', 'A', 'E'), ('B', 'E', 'C', 'B', 'A', 'E', 'A'), ('E', 'C', 'B', 'A', 'E', 'A', 'C'), ('C', 'B', 'A', 'E', 'A', 'C', 'E'), ('B', 'A', 'E', 'A', 'C', 'E', 'C'), ('A', 'E', 'A', 'C', 'E', 'C', 'A'), ('E', 'A', 'C', 'E', 'C', 'A', 'E'), ('A', 'C', 'E', 'C', 'A', 'E', 'F'), ('C', 'E', 'C', 'A', 'E', 'F', 'C'), ('E', 'C', 'A', 'E', 'F', 'C', 'F'), ('C', 'A', 'E', 'F', 'C', 'F', 'A'), ('A', 'E', 'F', 'C', 'F', 'A', 'C'), ('E', 'F', 'C', 'F', 'A', 'C', 'A'), ('F', 'C', 'F', 'A', 'C', 'A', 'F'), ('C', 'F', 'A', 'C', 'A', 'F', 'C'), ('F', 'A', 'C', 'A', 'F', 'C', 'D'), ('A', 'C', 'A', 'F', 'C', 'D', 'A'), ('C', 'A', 'F', 'C', 'D', 'A', 'D'), ('A', 'F', 'C', 'D', 'A', 'D', 'E'), ('F', 'C', 'D', 'A', 'D', 'E', 'F'), ('C', 'D', 'A', 'D', 'E', 'F', 'A'), ('D', 'A', 'D', 'E', 'F', 'A', 'D'), ('A', 'D', 'E', 'F', 'A', 'D', 'E'), ('D', 'E', 'F', 'A', 'D', 'E', 'F'), ('E', 'F', 'A', 'D', 'E', 'F', 'E'), ('F', 'A', 'D', 'E', 'F', 'E', 'D'), ('A', 'D', 'E', 'F', 'E', 'D', 'A'), ('D', 'E', 'F', 'E', 'D', 'A', 'F'), ('E', 'F', 'E', 'D', 'A', 'F', 'E'), ('F', 'E', 'D', 'A', 'F', 'E', 'D'), ('E', 'D', 'A', 'F', 'E', 'D', 'A'), ('D', 'A', 'F', 'E', 'D', 'A', 'A'), ('A', 'F', 'E', 'D', 'A', 'A', 'E'), ('F', 'E', 'D', 'A', 'A', 'E', 'A'), ('E', 'D', 'A', 'A', 'E', 'A', 'C'), ('D', 'A', 'A', 'E', 'A', 'C', 'E'), ('A', 'A', 'E', 'A', 'C', 'E', 'C'), ('A', 'E', 'A', 'C', 'E', 'C', 'A'), ('E', 'A', 'C', 'E', 'C', 'A', 'E'), ('A', 'C', 'E', 'C', 'A', 'E', 'F'), ('C', 'E', 'C', 'A', 'E', 'F', 'C'), ('E', 'C', 'A', 'E', 'F', 'C', 'F'), ('C', 'A', 'E', 'F', 'C', 'F', 'A'), ('A', 'E', 'F', 'C', 'F', 'A', 'C'), ('E', 'F', 'C', 'F', 'A', 'C', 'A'), ('F', 'C', 'F', 'A', 'C', 'A', 'F'), ('C', 'F', 'A', 'C', 'A', 'F', 'C'), ('F', 'A', 'C', 'A', 'F', 'C', 'D'), ('A', 'C', 'A', 'F', 'C', 'D', 'A'), ('C', 'A', 'F', 'C', 'D', 'A', 'D'), ('A', 'F', 'C', 'D', 'A', 'D', 'F'), ('F', 'C', 'D', 'A', 'D', 'F', 'A'), ('C', 'D', 'A', 'D', 'F', 'A', 'D'), ('D', 'A', 'D', 'F', 'A', 'D', 'E'), ('A', 'D', 'F', 'A', 'D', 'E', 'F'), ('D', 'F', 'A', 'D', 'E', 'F', 'A'), ('F', 'A', 'D', 'E', 'F', 'A', 'F'), ('A', 'D', 'E', 'F', 'A', 'F', 'E'), ('D', 'E', 'F', 'A', 'F', 'E', 'D'), ('E', 'F', 'A', 'F', 'E', 'D', 'A'), ('F', 'A', 'F', 'E', 'D', 'A', 'F'), ('A', 'F', 'E', 'D', 'A', 'F', 'D'), ('F', 'E', 'D', 'A', 'F', 'D', 'A'), ('E', 'D', 'A', 'F', 'D', 'A', 'A'), ('D', 'A', 'F', 'D', 'A', 'A', 'E'), ('A', 'F', 'D', 'A', 'A', 'E', 'A'), ('F', 'D', 'A', 'A', 'E', 'A', 'C'), ('D', 'A', 'A', 'E', 'A', 'C', 'E'), ('A', 'A', 'E', 'A', 'C', 'E', 'C'), ('A', 'E', 'A', 'C', 'E', 'C', 'A'), ('E', 'A', 'C', 'E', 'C', 'A', 'E'), ('A', 'C', 'E', 'C', 'A', 'E', 'F'), ('C', 'E', 'C', 'A', 'E', 'F', 'C'), ('E', 'C', 'A', 'E', 'F', 'C', 'F'), ('C', 'A', 'E', 'F', 'C', 'F', 'A'), ('A', 'E', 'F', 'C', 'F', 'A', 'C'), ('E', 'F', 'C', 'F', 'A', 'C', 'A'), ('F', 'C', 'F', 'A', 'C', 'A', 'F'), ('C', 'F', 'A', 'C', 'A', 'F', 'C'), ('F', 'A', 'C', 'A', 'F', 'C', 'D'), ('A', 'C', 'A', 'F', 'C', 'D', 'A'), ('C', 'A', 'F', 'C', 'D', 'A', 'C'), ('A', 'F', 'C', 'D', 'A', 'C', 'E'), ('F', 'C', 'D', 'A', 'C', 'E', 'F'), ('C', 'D', 'A', 'C', 'E', 'F', 'A'), ('D', 'A', 'C', 'E', 'F', 'A', 'D'), ('A', 'C', 'E', 'F', 'A', 'D', 'D'), ('C', 'E', 'F', 'A', 'D', 'D', 'A'), ('E', 'F', 'A', 'D', 'D', 'A', 'F'), ('F', 'A', 'D', 'D', 'A', 'F', 'E'), ('A', 'D', 'D', 'A', 'F', 'E', 'D'), ('D', 'D', 'A', 'F', 'E', 'D', 'A'), ('D', 'A', 'F', 'E', 'D', 'A', 'D'), ('A', 'F', 'E', 'D', 'A', 'D', 'A'), ('F', 'E', 'D', 'A', 'D', 'A', 'E'), ('E', 'D', 'A', 'D', 'A', 'E', 'A'), ('D', 'A', 'D', 'A', 'E', 'A', 'C'), ('A', 'D', 'A', 'E', 'A', 'C', 'E'), ('D', 'A', 'E', 'A', 'C', 'E', 'C'), ('A', 'E', 'A', 'C', 'E', 'C', 'A'), ('E', 'A', 'C', 'E', 'C', 'A', 'E'), ('A', 'C', 'E', 'C', 'A', 'E', 'F'), ('C', 'E', 'C', 'A', 'E', 'F', 'C'), ('E', 'C', 'A', 'E', 'F', 'C', 'F'), ('C', 'A', 'E', 'F', 'C', 'F', 'A'), ('A', 'E', 'F', 'C', 'F', 'A', 'C'), ('E', 'F', 'C', 'F', 'A', 'C', 'A'), ('F', 'C', 'F', 'A', 'C', 'A', 'F'), ('C', 'F', 'A', 'C', 'A', 'F', 'C'), ('F', 'A', 'C', 'A', 'F', 'C', 'D'), ('A', 'C', 'A', 'F', 'C', 'D', 'A'), ('C', 'A', 'F', 'C', 'D', 'A', 'D'), ('A', 'F', 'C', 'D', 'A', 'D', 'E'), ('F', 'C', 'D', 'A', 'D', 'E', 'F'), ('C', 'D', 'A', 'D', 'E', 'F', 'E'), ('D', 'A', 'D', 'E', 'F', 'E', 'D'), ('A', 'D', 'E', 'F', 'E', 'D', 'A'), ('D', 'E', 'F', 'E', 'D', 'A', 'D'), ('E', 'F', 'E', 'D', 'A', 'D', 'A'), ('F', 'E', 'D', 'A', 'D', 'A', 'D'), ('E', 'D', 'A', 'D', 'A', 'D', 'A'), ('D', 'A', 'D', 'A', 'D', 'A', 'F'), ('A', 'D', 'A', 'D', 'A', 'F', 'A'), ('D', 'A', 'D', 'A', 'F', 'A', 'D'), ('A', 'D', 'A', 'F', 'A', 'D', 'A'), ('D', 'A', 'F', 'A', 'D', 'A', 'A'), ('A', 'F', 'A', 'D', 'A', 'A', 'E'), ('F', 'A', 'D', 'A', 'A', 'E', 'A'), ('A', 'D', 'A', 'A', 'E', 'A', 'A'), ('D', 'A', 'A', 'E', 'A', 'A', 'E'), ('A', 'A', 'E', 'A', 'A', 'E', 'A'), ('A', 'E', 'A', 'A', 'E', 'A', 'A'), ('E', 'A', 'A', 'E', 'A', 'A', 'E'), ('A', 'A', 'E', 'A', 'A', 'E', 'A'), ('A', 'E', 'A', 'A', 'E', 'A', 'A'), ('E', 'A', 'A', 'E', 'A', 'A', 'E'), ('A', 'A', 'E', 'A', 'A', 'E', 'A'), ('A', 'E', 'A', 'A', 'E', 'A', 'A'), ('E', 'A', 'A', 'E', 'A', 'A', 'E'), ('A', 'A', 'E', 'A', 'A', 'E', 'A'), ('A', 'E', 'A', 'A', 'E', 'A', 'E'), ('E', 'A', 'A', 'E', 'A', 'E', 'F'), ('A', 'A', 'E', 'A', 'E', 'F', 'C'), ('A', 'E', 'A', 'E', 'F', 'C', 'F'), ('E', 'A', 'E', 'F', 'C', 'F', 'F'), ('A', 'E', 'F', 'C', 'F', 'F', 'C'), ('E', 'F', 'C', 'F', 'F', 'C', 'F'), ('F', 'C', 'F', 'F', 'C', 'F', 'F'), ('C', 'F', 'F', 'C', 'F', 'F', 'C'), ('F', 'F', 'C', 'F', 'F', 'C', 'F'), ('F', 'C', 'F', 'F', 'C', 'F', 'F'), ('C', 'F', 'F', 'C', 'F', 'F', 'C'), ('F', 'F', 'C', 'F', 'F', 'C', 'F'), ('F', 'C', 'F', 'F', 'C', 'F', 'F'), ('C', 'F', 'F', 'C', 'F', 'F', 'C'), ('F', 'F', 'C', 'F', 'F', 'C', 'F'), ('F', 'C', 'F', 'F', 'C', 'F', 'C'), ('C', 'F', 'F', 'C', 'F', 'C', 'D'), ('F', 'F', 'C', 'F', 'C', 'D', 'A'), ('F', 'C', 'F', 'C', 'D', 'A', 'D'), ('C', 'F', 'C', 'D', 'A', 'D', 'D'), ('F', 'C', 'D', 'A', 'D', 'D', 'A'), ('C', 'D', 'A', 'D', 'D', 'A', 'D'), ('D', 'A', 'D', 'D', 'A', 'D', 'D'), ('A', 'D', 'D', 'A', 'D', 'D', 'A'), ('D', 'D', 'A', 'D', 'D', 'A', 'D'), ('D', 'A', 'D', 'D', 'A', 'D', 'D'), ('A', 'D', 'D', 'A', 'D', 'D', 'A'), ('D', 'D', 'A', 'D', 'D', 'A', 'D'), ('D', 'A', 'D', 'D', 'A', 'D', 'D'), ('A', 'D', 'D', 'A', 'D', 'D', 'A'), ('D', 'D', 'A', 'D', 'D', 'A', 'D'), ('D', 'A', 'D', 'D', 'A', 'D', 'A'), ('A', 'D', 'D', 'A', 'D', 'A', 'E'), ('D', 'D', 'A', 'D', 'A', 'E', 'E'), ('D', 'A', 'D', 'A', 'E', 'E', 'E'), ('A', 'D', 'A', 'E', 'E', 'E', 'E'), ('D', 'A', 'E', 'E', 'E', 'E', 'E'), ('A', 'E', 'E', 'E', 'E', 'E', 'E'), ('E', 'E', 'E', 'E', 'E', 'E', 'E'), ('E', 'E', 'E', 'E', 'E', 'E', 'E'), ('E', 'E', 'E', 'E', 'E', 'E', 'E'), ('E', 'E', 'E', 'E', 'E', 'E', 'E'), ('E', 'E', 'E', 'E', 'E', 'E', 'E'), ('E', 'E', 'E', 'E', 'E', 'E', 'E'), ('E', 'E', 'E', 'E', 'E', 'E', 'C'), ('E', 'E', 'E', 'E', 'E', 'C', 'B'), ('E', 'E', 'E', 'E', 'C', 'B', 'A'), ('E', 'E', 'E', 'C', 'B', 'A', 'E'), ('E', 'E', 'C', 'B', 'A', 'E', 'A'), ('E', 'C', 'B', 'A', 'E', 'A', 'E'), ('C', 'B', 'A', 'E', 'A', 'E', 'B'), ('B', 'A', 'E', 'A', 'E', 'B', 'E'), ('A', 'E', 'A', 'E', 'B', 'E', 'A'), ('E', 'A', 'E', 'B', 'E', 'A', 'E'), ('A', 'E', 'B', 'E', 'A', 'E', 'A'), ('E', 'B', 'E', 'A', 'E', 'A', 'F'), ('B', 'E', 'A', 'E', 'A', 'F', 'A'), ('E', 'A', 'E', 'A', 'F', 'A', 'F'), ('A', 'E', 'A', 'F', 'A', 'F', 'G'), ('E', 'A', 'F', 'A', 'F', 'G', 'F'), ('A', 'F', 'A', 'F', 'G', 'F', 'A'), ('F', 'A', 'F', 'G', 'F', 'A', 'F'), ('A', 'F', 'G', 'F', 'A', 'F', 'A'), ('F', 'G', 'F', 'A', 'F', 'A', 'D'), ('G', 'F', 'A', 'F', 'A', 'D', 'E'), ('F', 'A', 'F', 'A', 'D', 'E', 'D'), ('A', 'F', 'A', 'D', 'E', 'D', 'E'), ('F', 'A', 'D', 'E', 'D', 'E', 'D'), ('A', 'D', 'E', 'D', 'E', 'D', 'E'), ('D', 'E', 'D', 'E', 'D', 'E', 'D'), ('E', 'D', 'E', 'D', 'E', 'D', 'A'), ('D', 'E', 'D', 'E', 'D', 'A', 'D'), ('E', 'D', 'E', 'D', 'A', 'D', 'E'), ('D', 'E', 'D', 'A', 'D', 'E', 'D'), ('E', 'D', 'A', 'D', 'E', 'D', 'E'), ('D', 'A', 'D', 'E', 'D', 'E', 'D'), ('A', 'D', 'E', 'D', 'E', 'D', 'E'), ('D', 'E', 'D', 'E', 'D', 'E', 'D'), ('E', 'D', 'E', 'D', 'E', 'D', 'A'), ('D', 'E', 'D', 'E', 'D', 'A', 'E'), ('E', 'D', 'E', 'D', 'A', 'E', 'A'), ('D', 'E', 'D', 'A', 'E', 'A', 'E'), ('E', 'D', 'A', 'E', 'A', 'E', 'B'), ('D', 'A', 'E', 'A', 'E', 'B', 'E'), ('A', 'E', 'A', 'E', 'B', 'E', 'A'), ('E', 'A', 'E', 'B', 'E', 'A', 'E'), ('A', 'E', 'B', 'E', 'A', 'E', 'F'), ('E', 'B', 'E', 'A', 'E', 'F', 'C'), ('B', 'E', 'A', 'E', 'F', 'C', 'F'), ('E', 'A', 'E', 'F', 'C', 'F', 'C'), ('A', 'E', 'F', 'C', 'F', 'C', 'G'), ('E', 'F', 'C', 'F', 'C', 'G', 'C'), ('F', 'C', 'F', 'C', 'G', 'C', 'F'), ('C', 'F', 'C', 'G', 'C', 'F', 'C'), ('F', 'C', 'G', 'C', 'F', 'C', 'D'), ('C', 'G', 'C', 'F', 'C', 'D', 'A'), ('G', 'C', 'F', 'C', 'D', 'A', 'D'), ('C', 'F', 'C', 'D', 'A', 'D', 'A'), ('F', 'C', 'D', 'A', 'D', 'A', 'F#'), ('C', 'D', 'A', 'D', 'A', 'F#', 'A'), ('D', 'A', 'D', 'A', 'F#', 'A', 'D'), ('A', 'D', 'A', 'F#', 'A', 'D', 'A'), ('D', 'A', 'F#', 'A', 'D', 'A', 'D'), ('A', 'F#', 'A', 'D', 'A', 'D', 'A'), ('F#', 'A', 'D', 'A', 'D', 'A', 'D'), ('A', 'D', 'A', 'D', 'A', 'D', 'A'), ('D', 'A', 'D', 'A', 'D', 'A', 'E'), ('A', 'D', 'A', 'D', 'A', 'E', 'A'), ('D', 'A', 'D', 'A', 'E', 'A', 'D'), ('A', 'D', 'A', 'E', 'A', 'D', 'A'), ('D', 'A', 'E', 'A', 'D', 'A', 'A'), ('A', 'E', 'A', 'D', 'A', 'A', 'E'), ('E', 'A', 'D', 'A', 'A', 'E', 'A'), ('A', 'D', 'A', 'A', 'E', 'A', 'E'), ('D', 'A', 'A', 'E', 'A', 'E', 'B'), ('A', 'A', 'E', 'A', 'E', 'B', 'E'), ('A', 'E', 'A', 'E', 'B', 'E', 'A'), ('E', 'A', 'E', 'B', 'E', 'A', 'E'), ('A', 'E', 'B', 'E', 'A', 'E', 'F'), ('E', 'B', 'E', 'A', 'E', 'F', 'C'), ('B', 'E', 'A', 'E', 'F', 'C', 'F'), ('E', 'A', 'E', 'F', 'C', 'F', 'C'), ('A', 'E', 'F', 'C', 'F', 'C', 'G'), ('E', 'F', 'C', 'F', 'C', 'G', 'C'), ('F', 'C', 'F', 'C', 'G', 'C', 'F'), ('C', 'F', 'C', 'G', 'C', 'F', 'C'), ('F', 'C', 'G', 'C', 'F', 'C', 'D'), ('C', 'G', 'C', 'F', 'C', 'D', 'A'), ('G', 'C', 'F', 'C', 'D', 'A', 'D'), ('C', 'F', 'C', 'D', 'A', 'D', 'A'), ('F', 'C', 'D', 'A', 'D', 'A', 'E'), ('C', 'D', 'A', 'D', 'A', 'E', 'A'), ('D', 'A', 'D', 'A', 'E', 'A', 'D'), ('A', 'D', 'A', 'E', 'A', 'D', 'A'), ('D', 'A', 'E', 'A', 'D', 'A', 'D'), ('A', 'E', 'A', 'D', 'A', 'D', 'A'), ('E', 'A', 'D', 'A', 'D', 'A', 'D'), ('A', 'D', 'A', 'D', 'A', 'D', 'A'), ('D', 'A', 'D', 'A', 'D', 'A', 'E'), ('A', 'D', 'A', 'D', 'A', 'E', 'A'), ('D', 'A', 'D', 'A', 'E', 'A', 'D'), ('A', 'D', 'A', 'E', 'A', 'D', 'A'), ('D', 'A', 'E', 'A', 'D', 'A', 'F'), ('A', 'E', 'A', 'D', 'A', 'F', 'C'), ('E', 'A', 'D', 'A', 'F', 'C', 'F'), ('A', 'D', 'A', 'F', 'C', 'F', 'C'), ('D', 'A', 'F', 'C', 'F', 'C', 'G'), ('A', 'F', 'C', 'F', 'C', 'G', 'C'), ('F', 'C', 'F', 'C', 'G', 'C', 'F'), ('C', 'F', 'C', 'G', 'C', 'F', 'C'), ('F', 'C', 'G', 'C', 'F', 'C', 'F'), ('C', 'G', 'C', 'F', 'C', 'F', 'C'), ('G', 'C', 'F', 'C', 'F', 'C', 'F'), ('C', 'F', 'C', 'F', 'C', 'F', 'C'), ('F', 'C', 'F', 'C', 'F', 'C', 'G'), ('C', 'F', 'C', 'F', 'C', 'G', 'C'), ('F', 'C', 'F', 'C', 'G', 'C', 'F'), ('C', 'F', 'C', 'G', 'C', 'F', 'C'), ('F', 'C', 'G', 'C', 'F', 'C', 'E'), ('C', 'G', 'C', 'F', 'C', 'E', 'B'), ('G', 'C', 'F', 'C', 'E', 'B', 'E'), ('C', 'F', 'C', 'E', 'B', 'E', 'B'), ('F', 'C', 'E', 'B', 'E', 'B', 'G#'), ('C', 'E', 'B', 'E', 'B', 'G#', 'B'), ('E', 'B', 'E', 'B', 'G#', 'B', 'E'), ('B', 'E', 'B', 'G#', 'B', 'E', 'B'), ('E', 'B', 'G#', 'B', 'E', 'B', 'E'), ('B', 'G#', 'B', 'E', 'B', 'E', 'B'), ('G#', 'B', 'E', 'B', 'E', 'B', 'E'), ('B', 'E', 'B', 'E', 'B', 'E', 'B'), ('E', 'B', 'E', 'B', 'E', 'B', 'C'), ('B', 'E', 'B', 'E', 'B', 'C', 'B'), ('E', 'B', 'E', 'B', 'C', 'B', 'A'), ('B', 'E', 'B', 'C', 'B', 'A', 'E'), ('E', 'B', 'C', 'B', 'A', 'E', 'A'), ('B', 'C', 'B', 'A', 'E', 'A', 'C'), ('C', 'B', 'A', 'E', 'A', 'C', 'E'), ('B', 'A', 'E', 'A', 'C', 'E', 'C'), ('A', 'E', 'A', 'C', 'E', 'C', 'A'), ('E', 'A', 'C', 'E', 'C', 'A', 'E'), ('A', 'C', 'E', 'C', 'A', 'E', 'F'), ('C', 'E', 'C', 'A', 'E', 'F', 'C'), ('E', 'C', 'A', 'E', 'F', 'C', 'F'), ('C', 'A', 'E', 'F', 'C', 'F', 'A'), ('A', 'E', 'F', 'C', 'F', 'A', 'C'), ('E', 'F', 'C', 'F', 'A', 'C', 'A'), ('F', 'C', 'F', 'A', 'C', 'A', 'F'), ('C', 'F', 'A', 'C', 'A', 'F', 'C'), ('F', 'A', 'C', 'A', 'F', 'C', 'D'), ('A', 'C', 'A', 'F', 'C', 'D', 'A'), ('C', 'A', 'F', 'C', 'D', 'A', 'D'), ('A', 'F', 'C', 'D', 'A', 'D', 'F'), ('F', 'C', 'D', 'A', 'D', 'F', 'A'), ('C', 'D', 'A', 'D', 'F', 'A', 'D'), ('D', 'A', 'D', 'F', 'A', 'D', 'E'), ('A', 'D', 'F', 'A', 'D', 'E', 'F'), ('D', 'F', 'A', 'D', 'E', 'F', 'A'), ('F', 'A', 'D', 'E', 'F', 'A', 'F'), ('A', 'D', 'E', 'F', 'A', 'F', 'E'), ('D', 'E', 'F', 'A', 'F', 'E', 'D'), ('E', 'F', 'A', 'F', 'E', 'D', 'A'), ('F', 'A', 'F', 'E', 'D', 'A', 'F'), ('A', 'F', 'E', 'D', 'A', 'F', 'D'), ('F', 'E', 'D', 'A', 'F', 'D', 'A'), ('E', 'D', 'A', 'F', 'D', 'A', 'A'), ('D', 'A', 'F', 'D', 'A', 'A', 'E'), ('A', 'F', 'D', 'A', 'A', 'E', 'A'), ('F', 'D', 'A', 'A', 'E', 'A', 'C'), ('D', 'A', 'A', 'E', 'A', 'C', 'E'), ('A', 'A', 'E', 'A', 'C', 'E', 'C'), ('A', 'E', 'A', 'C', 'E', 'C', 'A'), ('E', 'A', 'C', 'E', 'C', 'A', 'E'), ('A', 'C', 'E', 'C', 'A', 'E', 'F'), ('C', 'E', 'C', 'A', 'E', 'F', 'C'), ('E', 'C', 'A', 'E', 'F', 'C', 'F'), ('C', 'A', 'E', 'F', 'C', 'F', 'A'), ('A', 'E', 'F', 'C', 'F', 'A', 'C'), ('E', 'F', 'C', 'F', 'A', 'C', 'A'), ('F', 'C', 'F', 'A', 'C', 'A', 'F'), ('C', 'F', 'A', 'C', 'A', 'F', 'C'), ('F', 'A', 'C', 'A', 'F', 'C', 'D'), ('A', 'C', 'A', 'F', 'C', 'D', 'A'), ('C', 'A', 'F', 'C', 'D', 'A', 'D'), ('A', 'F', 'C', 'D', 'A', 'D', 'E'), ('F', 'C', 'D', 'A', 'D', 'E', 'F'), ('C', 'D', 'A', 'D', 'E', 'F', 'A'), ('D', 'A', 'D', 'E', 'F', 'A', 'D'), ('A', 'D', 'E', 'F', 'A', 'D', 'E'), ('D', 'E', 'F', 'A', 'D', 'E', 'F'), ('E', 'F', 'A', 'D', 'E', 'F', 'A'), ('F', 'A', 'D', 'E', 'F', 'A', 'D'), ('A', 'D', 'E', 'F', 'A', 'D', 'A'), ('D', 'E', 'F', 'A', 'D', 'A', 'E'), ('E', 'F', 'A', 'D', 'A', 'E', 'A'), ('F', 'A', 'D', 'A', 'E', 'A', 'E'), ('A', 'D', 'A', 'E', 'A', 'E', 'C'), ('D', 'A', 'E', 'A', 'E', 'C', 'E'), ('A', 'E', 'A', 'E', 'C', 'E', 'A'), ('E', 'A', 'E', 'C', 'E', 'A', 'E'), ('A', 'E', 'C', 'E', 'A', 'E', 'F'), ('E', 'C', 'E', 'A', 'E', 'F', 'C'), ('C', 'E', 'A', 'E', 'F', 'C', 'F'), ('E', 'A', 'E', 'F', 'C', 'F', 'C'), ('A', 'E', 'F', 'C', 'F', 'C', 'G'), ('E', 'F', 'C', 'F', 'C', 'G', 'C'), ('F', 'C', 'F', 'C', 'G', 'C', 'A'), ('C', 'F', 'C', 'G', 'C', 'A', 'C'), ('F', 'C', 'G', 'C', 'A', 'C', 'D'), ('C', 'G', 'C', 'A', 'C', 'D', 'A'), ('G', 'C', 'A', 'C', 'D', 'A', 'D'), ('C', 'A', 'C', 'D', 'A', 'D', 'A'), ('A', 'C', 'D', 'A', 'D', 'A', 'E'), ('C', 'D', 'A', 'D', 'A', 'E', 'A'), ('D', 'A', 'D', 'A', 'E', 'A', 'D'), ('A', 'D', 'A', 'E', 'A', 'D', 'A'), ('D', 'A', 'E', 'A', 'D', 'A', 'D'), ('A', 'E', 'A', 'D', 'A', 'D', 'A'), ('E', 'A', 'D', 'A', 'D', 'A', 'D'), ('A', 'D', 'A', 'D', 'A', 'D', 'A'), ('D', 'A', 'D', 'A', 'D', 'A', 'F'), ('A', 'D', 'A', 'D', 'A', 'F', 'A'), ('D', 'A', 'D', 'A', 'F', 'A', 'D'), ('A', 'D', 'A', 'F', 'A', 'D', 'A'), ('D', 'A', 'F', 'A', 'D', 'A', 'A'), ('A', 'F', 'A', 'D', 'A', 'A', 'E'), ('F', 'A', 'D', 'A', 'A', 'E', 'B'), ('A', 'D', 'A', 'A', 'E', 'B', 'E'), ('D', 'A', 'A', 'E', 'B', 'E', 'A'), ('A', 'A', 'E', 'B', 'E', 'A', 'E'), ('A', 'E', 'B', 'E', 'A', 'E', 'A'), ('E', 'B', 'E', 'A', 'E', 'A', 'E'), ('B', 'E', 'A', 'E', 'A', 'E', 'F'), ('E', 'A', 'E', 'A', 'E', 'F', 'C'), ('A', 'E', 'A', 'E', 'F', 'C', 'F'), ('E', 'A', 'E', 'F', 'C', 'F', 'C'), ('A', 'E', 'F', 'C', 'F', 'C', 'G'), ('E', 'F', 'C', 'F', 'C', 'G', 'C'), ('F', 'C', 'F', 'C', 'G', 'C', 'F'), ('C', 'F', 'C', 'G', 'C', 'F', 'C'), ('F', 'C', 'G', 'C', 'F', 'C', 'D'), ('C', 'G', 'C', 'F', 'C', 'D', 'A'), ('G', 'C', 'F', 'C', 'D', 'A', 'D'), ('C', 'F', 'C', 'D', 'A', 'D', 'A'), ('F', 'C', 'D', 'A', 'D', 'A', 'F'), ('C', 'D', 'A', 'D', 'A', 'F', 'A'), ('D', 'A', 'D', 'A', 'F', 'A', 'D'), ('A', 'D', 'A', 'F', 'A', 'D', 'A'), ('D', 'A', 'F', 'A', 'D', 'A', 'D'), ('A', 'F', 'A', 'D', 'A', 'D', 'A'), ('F', 'A', 'D', 'A', 'D', 'A', 'D'), ('A', 'D', 'A', 'D', 'A', 'D', 'A'), ('D', 'A', 'D', 'A', 'D', 'A', 'F'), ('A', 'D', 'A', 'D', 'A', 'F', 'A'), ('D', 'A', 'D', 'A', 'F', 'A', 'D'), ('A', 'D', 'A', 'F', 'A', 'D', 'A'), ('D', 'A', 'F', 'A', 'D', 'A', 'A'), ('A', 'F', 'A', 'D', 'A', 'A', 'E'), ('F', 'A', 'D', 'A', 'A', 'E', 'A'), ('A', 'D', 'A', 'A', 'E', 'A', 'E'), ('D', 'A', 'A', 'E', 'A', 'E', 'B'), ('A', 'A', 'E', 'A', 'E', 'B', 'A'), ('A', 'E', 'A', 'E', 'B', 'A', 'E'), ('E', 'A', 'E', 'B', 'A', 'E', 'A'), ('A', 'E', 'B', 'A', 'E', 'A', 'C'), ('E', 'B', 'A', 'E', 'A', 'C', 'A'), ('B', 'A', 'E', 'A', 'C', 'A', 'E'), ('A', 'E', 'A', 'C', 'A', 'E', 'A'), ('E', 'A', 'C', 'A', 'E', 'A', 'E'), ('A', 'C', 'A', 'E', 'A', 'E', 'A'), ('C', 'A', 'E', 'A', 'E', 'A', 'E'), ('A', 'E', 'A', 'E', 'A', 'E', 'F'), ('E', 'A', 'E', 'A', 'E', 'F', 'C'), ('A', 'E', 'A', 'E', 'F', 'C', 'F'), ('E', 'A', 'E', 'F', 'C', 'F', 'A'), ('A', 'E', 'F', 'C', 'F', 'A', 'B'), ('E', 'F', 'C', 'F', 'A', 'B', 'A'), ('F', 'C', 'F', 'A', 'B', 'A', 'F'), ('C', 'F', 'A', 'B', 'A', 'F', 'A'), ('F', 'A', 'B', 'A', 'F', 'A', 'C'), ('A', 'B', 'A', 'F', 'A', 'C', 'A'), ('B', 'A', 'F', 'A', 'C', 'A', 'F'), ('A', 'F', 'A', 'C', 'A', 'F', 'A'), ('F', 'A', 'C', 'A', 'F', 'A', 'E'), ('A', 'C', 'A', 'F', 'A', 'E', 'A'), ('C', 'A', 'F', 'A', 'E', 'A', 'F'), ('A', 'F', 'A', 'E', 'A', 'F', 'D'), ('F', 'A', 'E', 'A', 'F', 'D', 'F#'), ('A', 'E', 'A', 'F', 'D', 'F#', 'A'), ('E', 'A', 'F', 'D', 'F#', 'A', 'F#'), ('A', 'F', 'D', 'F#', 'A', 'F#', 'B'), ('F', 'D', 'F#', 'A', 'F#', 'B', 'F#'), ('D', 'F#', 'A', 'F#', 'B', 'F#', 'D'), ('F#', 'A', 'F#', 'B', 'F#', 'D', 'F#'), ('A', 'F#', 'B', 'F#', 'D', 'F#', 'C'), ('F#', 'B', 'F#', 'D', 'F#', 'C', 'A'), ('B', 'F#', 'D', 'F#', 'C', 'A', 'D'), ('F#', 'D', 'F#', 'C', 'A', 'D', 'A'), ('D', 'F#', 'C', 'A', 'D', 'A', 'E'), ('F#', 'C', 'A', 'D', 'A', 'E', 'A'), ('C', 'A', 'D', 'A', 'E', 'A', 'D'), ('A', 'D', 'A', 'E', 'A', 'D', 'E'), ('D', 'A', 'E', 'A', 'D', 'E', 'B'), ('A', 'E', 'A', 'D', 'E', 'B', 'E'), ('E', 'A', 'D', 'E', 'B', 'E', 'B'), ('A', 'D', 'E', 'B', 'E', 'B', 'A'), ('D', 'E', 'B', 'E', 'B', 'A', 'E'), ('E', 'B', 'E', 'B', 'A', 'E', 'B'), ('B', 'E', 'B', 'A', 'E', 'B', 'E'), ('E', 'B', 'A', 'E', 'B', 'E', 'B'), ('B', 'A', 'E', 'B', 'E', 'B', 'E'), ('A', 'E', 'B', 'E', 'B', 'E', 'B'), ('E', 'B', 'E', 'B', 'E', 'B', 'E'), ('B', 'E', 'B', 'E', 'B', 'E', 'C'), ('E', 'B', 'E', 'B', 'E', 'C', 'B'), ('B', 'E', 'B', 'E', 'C', 'B', 'A'), ('E', 'B', 'E', 'C', 'B', 'A', 'B'), ('B', 'E', 'C', 'B', 'A', 'B', 'C'), ('E', 'C', 'B', 'A', 'B', 'C', 'A'), ('C', 'B', 'A', 'B', 'C', 'A', 'C'), ('B', 'A', 'B', 'C', 'A', 'C', 'B'), ('A', 'B', 'C', 'A', 'C', 'B', 'C'), ('B', 'C', 'A', 'C', 'B', 'C', 'A'), ('C', 'A', 'C', 'B', 'C', 'A', 'D'), ('A', 'C', 'B', 'C', 'A', 'D', 'B'), ('C', 'B', 'C', 'A', 'D', 'B', 'C'), ('B', 'C', 'A', 'D', 'B', 'C', 'A'), ('C', 'A', 'D', 'B', 'C', 'A', 'E'), ('A', 'D', 'B', 'C', 'A', 'E', 'B'), ('D', 'B', 'C', 'A', 'E', 'B', 'E'), ('B', 'C', 'A', 'E', 'B', 'E', 'G#'), ('C', 'A', 'E', 'B', 'E', 'G#', 'B'), ('A', 'E', 'B', 'E', 'G#', 'B', 'E'), ('E', 'B', 'E', 'G#', 'B', 'E', 'G#'), ('B', 'E', 'G#', 'B', 'E', 'G#', 'B'), ('E', 'G#', 'B', 'E', 'G#', 'B', 'E'), ('G#', 'B', 'E', 'G#', 'B', 'E', 'G#'), ('B', 'E', 'G#', 'B', 'E', 'G#', 'B'), ('E', 'G#', 'B', 'E', 'G#', 'B', 'A'), ('G#', 'B', 'E', 'G#', 'B', 'A', 'A'), ('B', 'E', 'G#', 'B', 'A', 'A', 'A'), ('E', 'G#', 'B', 'A', 'A', 'A', 'A'), ('G#', 'B', 'A', 'A', 'A', 'A', 'A'), ('B', 'A', 'A', 'A', 'A', 'A', 'A'), ('A', 'A', 'A', 'A', 'A', 'A', 'A'), ('A', 'A', 'A', 'A', 'A', 'A', 'A')]\n"
     ]
    }
   ],
   "source": [
    "a = generate_ngrams(a,7)\n",
    "b = generate_ngrams(b,7)\n",
    "print(a)\n",
    "print(b)"
   ]
  },
  {
   "cell_type": "code",
   "execution_count": 192,
   "id": "f092f66a",
   "metadata": {},
   "outputs": [],
   "source": [
    "def jaccard_distance(a, b):\n",
    "    \"\"\"Calculate the jaccard distance between sets A and B\"\"\"\n",
    "    intersection = len(list(set(a).intersection(b)))\n",
    "    union = (len(set(a)) + len(set(b))) - intersection\n",
    "    return float(intersection) / union\n",
    "\n",
    "def cosine_similarity_ngrams(a, b):\n",
    "    vec1 = Counter(a)\n",
    "    vec2 = Counter(b)\n",
    "    \n",
    "    intersection = set(vec1.keys()) & set(vec2.keys())\n",
    "    numerator = sum([vec1[x] * vec2[x] for x in intersection])\n",
    "\n",
    "    sum1 = sum([vec1[x]**2 for x in vec1.keys()])\n",
    "    sum2 = sum([vec2[x]**2 for x in vec2.keys()])\n",
    "    denominator = math.sqrt(sum1) * math.sqrt(sum2)\n",
    "\n",
    "    if not denominator:\n",
    "        return 0.0\n",
    "    return float(numerator) / denominator"
   ]
  },
  {
   "cell_type": "code",
   "execution_count": 193,
   "id": "5b62ec5b",
   "metadata": {},
   "outputs": [
    {
     "name": "stdout",
     "output_type": "stream",
     "text": [
      "Jaccard: 0.0   Cosine: 0.0\n"
     ]
    }
   ],
   "source": [
    "print(\"Jaccard: {}   Cosine: {}\".format(jaccard_distance(a,b), cosine_similarity_ngrams(a,b)))"
   ]
  },
  {
   "cell_type": "code",
   "execution_count": 230,
   "id": "00cc9ad1",
   "metadata": {},
   "outputs": [
    {
     "name": "stdout",
     "output_type": "stream",
     "text": [
      "Jaccard: 0.011848341232227487   Cosine: 0.01688572187982372\n"
     ]
    }
   ],
   "source": [
    "# Get Tuple algorithms \n",
    "import re\n",
    "import math\n",
    "import numpy as np\n",
    "from itertools import chain\n",
    "from collections import Counter\n",
    "import nltk\n",
    "from nltk.util import ngrams # This is the ngram magic.\n",
    "\n",
    "print(\"Jaccard: {}   Cosine: {}\".format(jaccard_distance(a,b), cosine_similarity_ngrams(a,b)))\n"
   ]
  },
  {
   "cell_type": "code",
   "execution_count": 215,
   "id": "c70217f2",
   "metadata": {},
   "outputs": [
    {
     "name": "stdout",
     "output_type": "stream",
     "text": [
      "0.337248\n"
     ]
    }
   ],
   "source": [
    "# Python3 implementation of above approach\n",
    "from math import floor, ceil\n",
    " \n",
    "# Function to calculate the\n",
    "# Jaro Similarity of two s\n",
    "def jaro_distance(s1, s2):\n",
    "     \n",
    "    # If the s are equal\n",
    "    if (s1 == s2):\n",
    "        return 1.0\n",
    " \n",
    "    # Length of two s\n",
    "    len1 = len(s1)\n",
    "    len2 = len(s2)\n",
    " \n",
    "    # Maximum distance upto which matching\n",
    "    # is allowed\n",
    "    max_dist = floor(max(len1, len2) / 2) - 1\n",
    " \n",
    "    # Count of matches\n",
    "    match = 0\n",
    " \n",
    "    # Hash for matches\n",
    "    hash_s1 = [0] * len(s1)\n",
    "    hash_s2 = [0] * len(s2)\n",
    " \n",
    "    # Traverse through the first\n",
    "    for i in range(len1):\n",
    " \n",
    "        # Check if there is any matches\n",
    "        for j in range(max(0, i - max_dist),\n",
    "                       min(len2, i + max_dist + 1)):\n",
    "             \n",
    "            # If there is a match\n",
    "            if (s1[i] == s2[j] and hash_s2[j] == 0):\n",
    "                hash_s1[i] = 1\n",
    "                hash_s2[j] = 1\n",
    "                match += 1\n",
    "                break\n",
    " \n",
    "    # If there is no match\n",
    "    if (match == 0):\n",
    "        return 0.0\n",
    " \n",
    "    # Number of transpositions\n",
    "    t = 0\n",
    "    point = 0\n",
    " \n",
    "    # Count number of occurrences\n",
    "    # where two characters match but\n",
    "    # there is a third matched character\n",
    "    # in between the indices\n",
    "    for i in range(len1):\n",
    "        if (hash_s1[i]):\n",
    " \n",
    "            # Find the next matched character\n",
    "            # in second\n",
    "            while (hash_s2[point] == 0):\n",
    "                point += 1\n",
    " \n",
    "            if (s1[i] != s2[point]):\n",
    "                t += 1\n",
    "            point += 1\n",
    "    t = t//2\n",
    " \n",
    "    # Return the Jaro Similarity\n",
    "    return (match/ len1 + match / len2 +\n",
    "            (match - t) / match)/ 3.0\n",
    " \n",
    "\n",
    " \n",
    "# Prjaro Similarity of two s\n",
    "print(round(jaro_distance(a, b),6))\n",
    " \n",
    "# This code is contributed by mohit kumar 29"
   ]
  },
  {
   "cell_type": "code",
   "execution_count": 239,
   "id": "3a2ec216",
   "metadata": {},
   "outputs": [
    {
     "name": "stdout",
     "output_type": "stream",
     "text": [
      "233 80 ('E', 'A', 'E', 'C', 'E', 'A', 'E') ('E', 'A', 'E', 'C', 'E', 'A', 'E')\n",
      "455 112 ('E', 'A', 'E', 'C', 'E', 'A', 'E') ('E', 'A', 'E', 'C', 'E', 'A', 'E')\n",
      "491 597 ('E', 'A', 'E', 'C', 'E', 'A', 'E') ('E', 'A', 'E', 'C', 'E', 'A', 'E')\n"
     ]
    }
   ],
   "source": [
    "from difflib import SequenceMatcher\n",
    "def match_seq(list1,list2):\n",
    "    output=[]\n",
    "    s = SequenceMatcher(None, list1, list2)\n",
    "    blocks=s.get_matching_blocks()\n",
    "    for bl in blocks:\n",
    "        for bi in range(bl.size):\n",
    "            cur_a=bl.a+bi\n",
    "            cur_b=bl.b+bi\n",
    "            output.append((cur_a,cur_b))\n",
    "    return output\n",
    "for x,y in match_seq(a,b):\n",
    "    print(x,y, a[x],b[y])\n"
   ]
  },
  {
   "cell_type": "code",
   "execution_count": 217,
   "id": "088f9966",
   "metadata": {},
   "outputs": [
    {
     "name": "stdout",
     "output_type": "stream",
     "text": [
      "[('A 3', 'E 4', 'B 3', 'E 3'), ('E 4', 'B 3', 'E 3', 'C 4'), ('B 3', 'E 3', 'C 4', 'E 4'), ('E 3', 'C 4', 'E 4', 'E 4'), ('C 4', 'E 4', 'E 4', 'E 3'), ('E 4', 'E 4', 'E 3', 'A 3'), ('E 4', 'E 3', 'A 3', 'F 3'), ('E 3', 'A 3', 'F 3', 'B 3'), ('A 3', 'F 3', 'B 3', 'F 3'), ('F 3', 'B 3', 'F 3', 'C 4'), ('B 3', 'F 3', 'C 4', 'F 3'), ('F 3', 'C 4', 'F 3', 'E 4'), ('C 4', 'F 3', 'E 4', 'F 3'), ('F 3', 'E 4', 'F 3', 'A 3'), ('E 4', 'F 3', 'A 3', 'F# 3'), ('F 3', 'A 3', 'F# 3', 'B 3'), ('A 3', 'F# 3', 'B 3', 'F# 3'), ('F# 3', 'B 3', 'F# 3', 'C 4'), ('B 3', 'F# 3', 'C 4', 'F# 3'), ('F# 3', 'C 4', 'F# 3', 'E 4'), ('C 4', 'F# 3', 'E 4', 'F# 3'), ('F# 3', 'E 4', 'F# 3', 'G# 3'), ('E 4', 'F# 3', 'G# 3', 'E 3'), ('F# 3', 'G# 3', 'E 3', 'A 3'), ('G# 3', 'E 3', 'A 3', 'E 3'), ('E 3', 'A 3', 'E 3', 'B 3'), ('A 3', 'E 3', 'B 3', 'A 3'), ('E 3', 'B 3', 'A 3', 'B 3'), ('B 3', 'A 3', 'B 3', 'C 4'), ('A 3', 'B 3', 'C 4', 'E 4'), ('B 3', 'C 4', 'E 4', 'A 3'), ('C 4', 'E 4', 'A 3', 'B 3'), ('E 4', 'A 3', 'B 3', 'C 4'), ('A 3', 'B 3', 'C 4', 'E 4'), ('B 3', 'C 4', 'E 4', 'A 3'), ('C 4', 'E 4', 'A 3', 'B 3'), ('E 4', 'A 3', 'B 3', 'C 4'), ('A 3', 'B 3', 'C 4', 'E 4'), ('B 3', 'C 4', 'E 4', 'F 4'), ('C 4', 'E 4', 'F 4', 'E 3'), ('E 4', 'F 4', 'E 3', 'A 4'), ('F 4', 'E 3', 'A 4', 'G 4'), ('E 3', 'A 4', 'G 4', 'G 4'), ('A 4', 'G 4', 'G 4', 'F 4'), ('G 4', 'G 4', 'F 4', 'E 4'), ('G 4', 'F 4', 'E 4', 'E 4'), ('F 4', 'E 4', 'E 4', 'F 5'), ('E 4', 'E 4', 'F 5', 'A 5'), ('E 4', 'F 5', 'A 5', 'C 6'), ('F 5', 'A 5', 'C 6', 'B 5'), ('A 5', 'C 6', 'B 5', 'B 5'), ('C 6', 'B 5', 'B 5', 'A 4'), ('B 5', 'B 5', 'A 4', 'B 4'), ('B 5', 'A 4', 'B 4', 'B 4'), ('A 4', 'B 4', 'B 4', 'C 5'), ('B 4', 'B 4', 'C 5', 'A 4'), ('B 4', 'C 5', 'A 4', 'A 4'), ('C 5', 'A 4', 'A 4', 'E 6'), ('A 4', 'A 4', 'E 6', 'D 6'), ('A 4', 'E 6', 'D 6', 'C 6'), ('E 6', 'D 6', 'C 6', 'B 5'), ('D 6', 'C 6', 'B 5', 'B 5'), ('C 6', 'B 5', 'B 5', 'A 4'), ('B 5', 'B 5', 'A 4', 'G 4'), ('B 5', 'A 4', 'G 4', 'G 4'), ('A 4', 'G 4', 'G 4', 'F 4'), ('G 4', 'G 4', 'F 4', 'E 4'), ('G 4', 'F 4', 'E 4', 'E 4'), ('F 4', 'E 4', 'E 4', 'F# 4'), ('E 4', 'E 4', 'F# 4', 'F 4'), ('E 4', 'F# 4', 'F 4', 'E 4'), ('F# 4', 'F 4', 'E 4', 'E 4'), ('F 4', 'E 4', 'E 4', 'F 4'), ('E 4', 'E 4', 'F 4', 'E 4'), ('E 4', 'F 4', 'E 4', 'E 4'), ('F 4', 'E 4', 'E 4', 'F 4'), ('E 4', 'E 4', 'F 4', 'E 4'), ('E 4', 'F 4', 'E 4', 'E 4'), ('F 4', 'E 4', 'E 4', 'F 4'), ('E 4', 'E 4', 'F 4', 'E 4'), ('E 4', 'F 4', 'E 4', 'E 4'), ('F 4', 'E 4', 'E 4', 'C 4'), ('E 4', 'E 4', 'C 4', 'C 4'), ('E 4', 'C 4', 'C 4', 'C 4'), ('C 4', 'C 4', 'C 4', 'B 3'), ('C 4', 'C 4', 'B 3', 'B 3'), ('C 4', 'B 3', 'B 3', 'A 4'), ('B 3', 'B 3', 'A 4', 'G 4'), ('B 3', 'A 4', 'G 4', 'G 4'), ('A 4', 'G 4', 'G 4', 'F 4'), ('G 4', 'G 4', 'F 4', 'E 4'), ('G 4', 'F 4', 'E 4', 'E 4'), ('F 4', 'E 4', 'E 4', 'F 3'), ('E 4', 'E 4', 'F 3', 'A 3'), ('E 4', 'F 3', 'A 3', 'B 3'), ('F 3', 'A 3', 'B 3', 'C 4'), ('A 3', 'B 3', 'C 4', 'B 3'), ('B 3', 'C 4', 'B 3', 'G 4'), ('C 4', 'B 3', 'G 4', 'A 4'), ('B 3', 'G 4', 'A 4', 'B 4'), ('G 4', 'A 4', 'B 4', 'B 4'), ('A 4', 'B 4', 'B 4', 'C 5'), ('B 4', 'B 4', 'C 5', 'A 4'), ('B 4', 'C 5', 'A 4', 'A 4'), ('C 5', 'A 4', 'A 4', 'E 4'), ('A 4', 'A 4', 'E 4', 'D 4'), ('A 4', 'E 4', 'D 4', 'C 4'), ('E 4', 'D 4', 'C 4', 'B 3'), ('D 4', 'C 4', 'B 3', 'B 3'), ('C 4', 'B 3', 'B 3', 'A 4'), ('B 3', 'B 3', 'A 4', 'G 4'), ('B 3', 'A 4', 'G 4', 'G 4'), ('A 4', 'G 4', 'G 4', 'F 4'), ('G 4', 'G 4', 'F 4', 'E 4'), ('G 4', 'F 4', 'E 4', 'E 4'), ('F 4', 'E 4', 'E 4', 'D 4'), ('E 4', 'E 4', 'D 4', 'D 4'), ('E 4', 'D 4', 'D 4', 'D 4'), ('D 4', 'D 4', 'D 4', 'E 4'), ('D 4', 'D 4', 'E 4', 'E 4'), ('D 4', 'E 4', 'E 4', 'F 4'), ('E 4', 'E 4', 'F 4', 'E 4'), ('E 4', 'F 4', 'E 4', 'C 5'), ('F 4', 'E 4', 'C 5', 'A 4'), ('E 4', 'C 5', 'A 4', 'F 4'), ('C 5', 'A 4', 'F 4', 'E 4'), ('A 4', 'F 4', 'E 4', 'C 5'), ('F 4', 'E 4', 'C 5', 'A 4'), ('E 4', 'C 5', 'A 4', 'F 4'), ('C 5', 'A 4', 'F 4', 'E 4'), ('A 4', 'F 4', 'E 4', 'C 5'), ('F 4', 'E 4', 'C 5', 'A 4'), ('E 4', 'C 5', 'A 4', 'F 4'), ('C 5', 'A 4', 'F 4', 'E 4'), ('A 4', 'F 4', 'E 4', 'C 5'), ('F 4', 'E 4', 'C 5', 'A 4'), ('E 4', 'C 5', 'A 4', 'C 4'), ('C 5', 'A 4', 'C 4', 'B 3'), ('A 4', 'C 4', 'B 3', 'B 3'), ('C 4', 'B 3', 'B 3', 'B 3'), ('B 3', 'B 3', 'B 3', 'C 4'), ('B 3', 'B 3', 'C 4', 'D 4'), ('B 3', 'C 4', 'D 4', 'C 4'), ('C 4', 'D 4', 'C 4', 'C 4'), ('D 4', 'C 4', 'C 4', 'B 3'), ('C 4', 'C 4', 'B 3', 'C 4'), ('C 4', 'B 3', 'C 4', 'C 4'), ('B 3', 'C 4', 'C 4', 'A 3'), ('C 4', 'C 4', 'A 3', 'B 3'), ('C 4', 'A 3', 'B 3', 'C 4'), ('A 3', 'B 3', 'C 4', 'D 4'), ('B 3', 'C 4', 'D 4', 'C 4'), ('C 4', 'D 4', 'C 4', 'C 4'), ('D 4', 'C 4', 'C 4', 'B 3'), ('C 4', 'C 4', 'B 3', 'C 4'), ('C 4', 'B 3', 'C 4', 'C 4'), ('B 3', 'C 4', 'C 4', 'B 3'), ('C 4', 'C 4', 'B 3', 'C 4'), ('C 4', 'B 3', 'C 4', 'D 4'), ('B 3', 'C 4', 'D 4', 'C 4'), ('C 4', 'D 4', 'C 4', 'C 4'), ('D 4', 'C 4', 'C 4', 'D 4'), ('C 4', 'C 4', 'D 4', 'E 4'), ('C 4', 'D 4', 'E 4', 'F 4'), ('D 4', 'E 4', 'F 4', 'E 4'), ('E 4', 'F 4', 'E 4', 'E 4'), ('F 4', 'E 4', 'E 4', 'F 4'), ('E 4', 'E 4', 'F 4', 'E 4'), ('E 4', 'F 4', 'E 4', 'E 4'), ('F 4', 'E 4', 'E 4', 'G# 4'), ('E 4', 'E 4', 'G# 4', 'B 4'), ('E 4', 'G# 4', 'B 4', 'E 4'), ('G# 4', 'B 4', 'E 4', 'C 5'), ('B 4', 'E 4', 'C 5', 'B 4'), ('E 4', 'C 5', 'B 4', 'E 4'), ('C 5', 'B 4', 'E 4', 'A 4'), ('B 4', 'E 4', 'A 4', 'A 4'), ('E 4', 'A 4', 'A 4', 'F 4'), ('A 4', 'A 4', 'F 4', 'E 4'), ('A 4', 'F 4', 'E 4', 'E 4'), ('F 4', 'E 4', 'E 4', 'D 4'), ('E 4', 'E 4', 'D 4', 'E 4'), ('E 4', 'D 4', 'E 4', 'C 5'), ('D 4', 'E 4', 'C 5', 'B 4'), ('E 4', 'C 5', 'B 4', 'A 4'), ('C 5', 'B 4', 'A 4', 'C 5'), ('B 4', 'A 4', 'C 5', 'C 5'), ('A 4', 'C 5', 'C 5', 'D 5'), ('C 5', 'C 5', 'D 5', 'D 5'), ('C 5', 'D 5', 'D 5', 'D 5'), ('D 5', 'D 5', 'D 5', 'C 5'), ('D 5', 'D 5', 'C 5', 'A 4'), ('D 5', 'C 5', 'A 4', 'E 4'), ('C 5', 'A 4', 'E 4', 'F 4'), ('A 4', 'E 4', 'F 4', 'E 4'), ('E 4', 'F 4', 'E 4', 'E 4'), ('F 4', 'E 4', 'E 4', 'C 4'), ('E 4', 'E 4', 'C 4', 'D 4'), ('E 4', 'C 4', 'D 4', 'A 3'), ('C 4', 'D 4', 'A 3', 'A 3'), ('D 4', 'A 3', 'A 3', 'E 4'), ('A 3', 'A 3', 'E 4', 'F 4'), ('A 3', 'E 4', 'F 4', 'E 4'), ('E 4', 'F 4', 'E 4', 'E 4'), ('F 4', 'E 4', 'E 4', 'D 4'), ('E 4', 'E 4', 'D 4', 'G 4'), ('E 4', 'D 4', 'G 4', 'G 4'), ('D 4', 'G 4', 'G 4', 'F 4'), ('G 4', 'G 4', 'F 4', 'E 4'), ('G 4', 'F 4', 'E 4', 'E 4'), ('F 4', 'E 4', 'E 4', 'C 4'), ('E 4', 'E 4', 'C 4', 'D 4'), ('E 4', 'C 4', 'D 4', 'E 4'), ('C 4', 'D 4', 'E 4', 'E 4'), ('D 4', 'E 4', 'E 4', 'C 4'), ('E 4', 'E 4', 'C 4', 'B 3'), ('E 4', 'C 4', 'B 3', 'G 3'), ('C 4', 'B 3', 'G 3', 'A 3'), ('B 3', 'G 3', 'A 3', 'A 3'), ('G 3', 'A 3', 'A 3', 'C 4'), ('A 3', 'A 3', 'C 4', 'B 3'), ('A 3', 'C 4', 'B 3', 'C 4'), ('C 4', 'B 3', 'C 4', 'B 3'), ('B 3', 'C 4', 'B 3', 'C 4'), ('C 4', 'B 3', 'C 4', 'A 3'), ('B 3', 'C 4', 'A 3', 'A 3'), ('C 4', 'A 3', 'A 3', 'C 3'), ('A 3', 'A 3', 'C 3', 'E 3'), ('A 3', 'C 3', 'E 3', 'C 3'), ('C 3', 'E 3', 'C 3', 'B 2'), ('E 3', 'C 3', 'B 2', 'E 3'), ('C 3', 'B 2', 'E 3', 'A 3'), ('B 2', 'E 3', 'A 3', 'E 3'), ('E 3', 'A 3', 'E 3', 'C 3'), ('A 3', 'E 3', 'C 3', 'E 3'), ('E 3', 'C 3', 'E 3', 'A 3'), ('C 3', 'E 3', 'A 3', 'E 3'), ('E 3', 'A 3', 'E 3', 'E 3'), ('A 3', 'E 3', 'E 3', 'A 3'), ('E 3', 'E 3', 'A 3', 'C 4'), ('E 3', 'A 3', 'C 4', 'A 3'), ('A 3', 'C 4', 'A 3', 'A 2'), ('C 4', 'A 3', 'A 2', 'C 3'), ('A 3', 'A 2', 'C 3', 'F 3'), ('A 2', 'C 3', 'F 3', 'C 3'), ('C 3', 'F 3', 'C 3', 'B 2'), ('F 3', 'C 3', 'B 2', 'F 3'), ('C 3', 'B 2', 'F 3', 'A 3'), ('B 2', 'F 3', 'A 3', 'F 3'), ('F 3', 'A 3', 'F 3', 'C 3'), ('A 3', 'F 3', 'C 3', 'F 3'), ('F 3', 'C 3', 'F 3', 'A 3'), ('C 3', 'F 3', 'A 3', 'F 3'), ('F 3', 'A 3', 'F 3', 'E 3'), ('A 3', 'F 3', 'E 3', 'A 3'), ('F 3', 'E 3', 'A 3', 'C 4'), ('E 3', 'A 3', 'C 4', 'A 3'), ('A 3', 'C 4', 'A 3', 'A 2'), ('C 4', 'A 3', 'A 2', 'C 3'), ('A 3', 'A 2', 'C 3', 'F# 3'), ('A 2', 'C 3', 'F# 3', 'C 3'), ('C 3', 'F# 3', 'C 3', 'B 2'), ('F# 3', 'C 3', 'B 2', 'D 3'), ('C 3', 'B 2', 'D 3', 'F# 3'), ('B 2', 'D 3', 'F# 3', 'D 3'), ('D 3', 'F# 3', 'D 3', 'C 3'), ('F# 3', 'D 3', 'C 3', 'F# 3'), ('D 3', 'C 3', 'F# 3', 'A 3'), ('C 3', 'F# 3', 'A 3', 'F# 3'), ('F# 3', 'A 3', 'F# 3', 'E 3'), ('A 3', 'F# 3', 'E 3', 'A 3'), ('F# 3', 'E 3', 'A 3', 'C 4'), ('E 3', 'A 3', 'C 4', 'A 3'), ('A 3', 'C 4', 'A 3', 'D 3'), ('C 4', 'A 3', 'D 3', 'D 3'), ('A 3', 'D 3', 'D 3', 'D 3'), ('D 3', 'D 3', 'D 3', 'D 3'), ('D 3', 'D 3', 'D 3', 'D 3'), ('D 3', 'D 3', 'D 3', 'D 3'), ('D 3', 'D 3', 'D 3', 'D 3'), ('D 3', 'D 3', 'D 3', 'D 3'), ('D 3', 'D 3', 'D 3', 'D 3'), ('D 3', 'D 3', 'D 3', 'D 3'), ('D 3', 'D 3', 'D 3', 'D 3'), ('D 3', 'D 3', 'D 3', 'D 3'), ('D 3', 'D 3', 'D 3', 'D 3'), ('D 3', 'D 3', 'D 3', 'D 3'), ('D 3', 'D 3', 'D 3', 'D 3'), ('D 3', 'D 3', 'D 3', 'D 3'), ('D 3', 'D 3', 'D 3', 'C 4'), ('D 3', 'D 3', 'C 4', 'E 4'), ('D 3', 'C 4', 'E 4', 'C 4'), ('C 4', 'E 4', 'C 4', 'A 4'), ('E 4', 'C 4', 'A 4', 'C 4'), ('C 4', 'A 4', 'C 4', 'E 4'), ('A 4', 'C 4', 'E 4', 'C 4'), ('C 4', 'E 4', 'C 4', 'G 4'), ('E 4', 'C 4', 'G 4', 'A 3'), ('C 4', 'G 4', 'A 3', 'C 4'), ('G 4', 'A 3', 'C 4', 'A 3'), ('A 3', 'C 4', 'A 3', 'C 4'), ('C 4', 'A 3', 'C 4', 'A 3'), ('A 3', 'C 4', 'A 3', 'F 4'), ('C 4', 'A 3', 'F 4', 'E 4'), ('A 3', 'F 4', 'E 4', 'E 4'), ('F 4', 'E 4', 'E 4', 'F# 3'), ('E 4', 'E 4', 'F# 3', 'D 4'), ('E 4', 'F# 3', 'D 4', 'F# 3'), ('F# 3', 'D 4', 'F# 3', 'A 3'), ('D 4', 'F# 3', 'A 3', 'F# 3'), ('F# 3', 'A 3', 'F# 3', 'A 3'), ('A 3', 'F# 3', 'A 3', 'F# 3'), ('F# 3', 'A 3', 'F# 3', 'A 3'), ('A 3', 'F# 3', 'A 3', 'F# 3'), ('F# 3', 'A 3', 'F# 3', 'A 3'), ('A 3', 'F# 3', 'A 3', 'F# 3'), ('F# 3', 'A 3', 'F# 3', 'B 3'), ('A 3', 'F# 3', 'B 3', 'F# 3'), ('F# 3', 'B 3', 'F# 3', 'C 4'), ('B 3', 'F# 3', 'C 4', 'F# 3'), ('F# 3', 'C 4', 'F# 3', 'B 3'), ('C 4', 'F# 3', 'B 3', 'C 4'), ('F# 3', 'B 3', 'C 4', 'E 4'), ('B 3', 'C 4', 'E 4', 'C 4'), ('C 4', 'E 4', 'C 4', 'G 4'), ('E 4', 'C 4', 'G 4', 'C 4'), ('C 4', 'G 4', 'C 4', 'A 4'), ('G 4', 'C 4', 'A 4', 'C 4'), ('C 4', 'A 4', 'C 4', 'B 4'), ('A 4', 'C 4', 'B 4', 'C 4'), ('C 4', 'B 4', 'C 4', 'A 4'), ('B 4', 'C 4', 'A 4', 'C 4'), ('C 4', 'A 4', 'C 4', 'B 4'), ('A 4', 'C 4', 'B 4', 'C 4'), ('C 4', 'B 4', 'C 4', 'C 5'), ('B 4', 'C 4', 'C 5', 'A 4'), ('C 4', 'C 5', 'A 4', 'A 4'), ('C 5', 'A 4', 'A 4', 'A 3'), ('A 4', 'A 4', 'A 3', 'D 4'), ('A 4', 'A 3', 'D 4', 'A 3'), ('A 3', 'D 4', 'A 3', 'F# 4'), ('D 4', 'A 3', 'F# 4', 'A 3'), ('A 3', 'F# 4', 'A 3', 'G 4'), ('F# 4', 'A 3', 'G 4', 'F# 4'), ('A 3', 'G 4', 'F# 4', 'E 4'), ('G 4', 'F# 4', 'E 4', 'F 3'), ('F# 4', 'E 4', 'F 3', 'D 4'), ('E 4', 'F 3', 'D 4', 'F 3'), ('F 3', 'D 4', 'F 3', 'C 4'), ('D 4', 'F 3', 'C 4', 'F 3'), ('F 3', 'C 4', 'F 3', 'B 3'), ('C 4', 'F 3', 'B 3', 'F 3'), ('F 3', 'B 3', 'F 3', 'A 3'), ('B 3', 'F 3', 'A 3', 'B 3'), ('F 3', 'A 3', 'B 3', 'C 4'), ('A 3', 'B 3', 'C 4', 'E 4'), ('B 3', 'C 4', 'E 4', 'G 4'), ('C 4', 'E 4', 'G 4', 'C 4'), ('E 4', 'G 4', 'C 4', 'A 4'), ('G 4', 'C 4', 'A 4', 'C 4'), ('C 4', 'A 4', 'C 4', 'G 4'), ('A 4', 'C 4', 'G 4', 'A 3'), ('C 4', 'G 4', 'A 3', 'F 4'), ('G 4', 'A 3', 'F 4', 'A 3'), ('A 3', 'F 4', 'A 3', 'E 4'), ('F 4', 'A 3', 'E 4', 'A 3'), ('A 3', 'E 4', 'A 3', 'F 4'), ('E 4', 'A 3', 'F 4', 'E 4'), ('A 3', 'F 4', 'E 4', 'E 4'), ('F 4', 'E 4', 'E 4', 'F# 3'), ('E 4', 'E 4', 'F# 3', 'A 3'), ('E 4', 'F# 3', 'A 3', 'F# 3'), ('F# 3', 'A 3', 'F# 3', 'D 4'), ('A 3', 'F# 3', 'D 4', 'F# 3'), ('F# 3', 'D 4', 'F# 3', 'A 3'), ('D 4', 'F# 3', 'A 3', 'F# 3'), ('F# 3', 'A 3', 'F# 3', 'F 3'), ('A 3', 'F# 3', 'F 3', 'A 3'), ('F# 3', 'F 3', 'A 3', 'D 4'), ('F 3', 'A 3', 'D 4', 'A 3'), ('A 3', 'D 4', 'A 3', 'E 4'), ('D 4', 'A 3', 'E 4', 'A 3'), ('A 3', 'E 4', 'A 3', 'F 4'), ('E 4', 'A 3', 'F 4', 'E 4'), ('A 3', 'F 4', 'E 4', 'E 4'), ('F 4', 'E 4', 'E 4', 'A 3'), ('E 4', 'E 4', 'A 3', 'F 4'), ('E 4', 'A 3', 'F 4', 'E 4'), ('A 3', 'F 4', 'E 4', 'A 4'), ('F 4', 'E 4', 'A 4', 'B 4'), ('E 4', 'A 4', 'B 4', 'C 5'), ('A 4', 'B 4', 'C 5', 'A 3'), ('B 4', 'C 5', 'A 3', 'A 3'), ('C 5', 'A 3', 'A 3', 'A 3'), ('A 3', 'A 3', 'A 3', 'B 3'), ('A 3', 'A 3', 'B 3', 'E 4'), ('A 3', 'B 3', 'E 4', 'C 5'), ('B 3', 'E 4', 'C 5', 'B 4'), ('E 4', 'C 5', 'B 4', 'E 4'), ('C 5', 'B 4', 'E 4', 'A 4'), ('B 4', 'E 4', 'A 4', 'A 4'), ('E 4', 'A 4', 'A 4', 'F 4'), ('A 4', 'A 4', 'F 4', 'E 4'), ('A 4', 'F 4', 'E 4', 'E 4'), ('F 4', 'E 4', 'E 4', 'D 4'), ('E 4', 'E 4', 'D 4', 'E 4'), ('E 4', 'D 4', 'E 4', 'C 5'), ('D 4', 'E 4', 'C 5', 'B 4'), ('E 4', 'C 5', 'B 4', 'A 4'), ('C 5', 'B 4', 'A 4', 'C 5'), ('B 4', 'A 4', 'C 5', 'C 5'), ('A 4', 'C 5', 'C 5', 'D 5'), ('C 5', 'C 5', 'D 5', 'D 5'), ('C 5', 'D 5', 'D 5', 'D 5'), ('D 5', 'D 5', 'D 5', 'C 5'), ('D 5', 'D 5', 'C 5', 'A 4'), ('D 5', 'C 5', 'A 4', 'E 5'), ('C 5', 'A 4', 'E 5', 'F 5'), ('A 4', 'E 5', 'F 5', 'E 5'), ('E 5', 'F 5', 'E 5', 'E 5'), ('F 5', 'E 5', 'E 5', 'E 4'), ('E 5', 'E 5', 'E 4', 'A 4'), ('E 5', 'E 4', 'A 4', 'E 4'), ('E 4', 'A 4', 'E 4', 'C 5'), ('A 4', 'E 4', 'C 5', 'E 4'), ('E 4', 'C 5', 'E 4', 'D 5'), ('C 5', 'E 4', 'D 5', 'A 4'), ('E 4', 'D 5', 'A 4', 'A 4'), ('D 5', 'A 4', 'A 4', 'F 4'), ('A 4', 'A 4', 'F 4', 'A 4'), ('A 4', 'F 4', 'A 4', 'F 4'), ('F 4', 'A 4', 'F 4', 'E 5'), ('A 4', 'F 4', 'E 5', 'F 4'), ('F 4', 'E 5', 'F 4', 'F 5'), ('E 5', 'F 4', 'F 5', 'E 5'), ('F 4', 'F 5', 'E 5', 'E 5'), ('F 5', 'E 5', 'E 5', 'A 4'), ('E 5', 'E 5', 'A 4', 'D 5'), ('E 5', 'A 4', 'D 5', 'G 5'), ('A 4', 'D 5', 'G 5', 'G 5'), ('D 5', 'G 5', 'G 5', 'A 4'), ('G 5', 'G 5', 'A 4', 'F 5'), ('G 5', 'A 4', 'F 5', 'E 5'), ('A 4', 'F 5', 'E 5', 'E 5'), ('F 5', 'E 5', 'E 5', 'F 4'), ('E 5', 'E 5', 'F 4', 'D 5'), ('E 5', 'F 4', 'D 5', 'C 5'), ('F 4', 'D 5', 'C 5', 'C 5'), ('D 5', 'C 5', 'C 5', 'F 4'), ('C 5', 'C 5', 'F 4', 'D 5'), ('C 5', 'F 4', 'D 5', 'E 5'), ('F 4', 'D 5', 'E 5', 'E 5'), ('D 5', 'E 5', 'E 5', 'E 4'), ('E 5', 'E 5', 'E 4', 'A 4'), ('E 5', 'E 4', 'A 4', 'E 4'), ('E 4', 'A 4', 'E 4', 'C 5'), ('A 4', 'E 4', 'C 5', 'E 4'), ('E 4', 'C 5', 'E 4', 'A 4'), ('C 5', 'E 4', 'A 4', 'E 4'), ('E 4', 'A 4', 'E 4', 'B 4'), ('A 4', 'E 4', 'B 4', 'C 4'), ('E 4', 'B 4', 'C 4', 'F 4'), ('B 4', 'C 4', 'F 4', 'C 4'), ('C 4', 'F 4', 'C 4', 'B 3'), ('F 4', 'C 4', 'B 3', 'C 4'), ('C 4', 'B 3', 'C 4', 'G 4'), ('B 3', 'C 4', 'G 4', 'A 4'), ('C 4', 'G 4', 'A 4', 'A 4'), ('G 4', 'A 4', 'A 4', 'F 4'), ('A 4', 'A 4', 'F 4', 'D 4'), ('A 4', 'F 4', 'D 4', 'F 4'), ('F 4', 'D 4', 'F 4', 'A 4'), ('D 4', 'F 4', 'A 4', 'F 4'), ('F 4', 'A 4', 'F 4', 'C 4'), ('A 4', 'F 4', 'C 4', 'F 4'), ('F 4', 'C 4', 'F 4', 'B 3'), ('C 4', 'F 4', 'B 3', 'F 4'), ('F 4', 'B 3', 'F 4', 'C 4'), ('B 3', 'F 4', 'C 4', 'F 4'), ('F 4', 'C 4', 'F 4', 'B 3'), ('C 4', 'F 4', 'B 3', 'F 4'), ('F 4', 'B 3', 'F 4', 'C 4'), ('B 3', 'F 4', 'C 4', 'A 3'), ('F 4', 'C 4', 'A 3', 'A 3'), ('C 4', 'A 3', 'A 3', 'C 4'), ('A 3', 'A 3', 'C 4', 'E 4'), ('A 3', 'C 4', 'E 4', 'C 4'), ('C 4', 'E 4', 'C 4', 'B 3'), ('E 4', 'C 4', 'B 3', 'E 4'), ('C 4', 'B 3', 'E 4', 'A 4'), ('B 3', 'E 4', 'A 4', 'E 4'), ('E 4', 'A 4', 'E 4', 'C 4'), ('A 4', 'E 4', 'C 4', 'E 4'), ('E 4', 'C 4', 'E 4', 'A 4'), ('C 4', 'E 4', 'A 4', 'E 4'), ('E 4', 'A 4', 'E 4', 'E 4'), ('A 4', 'E 4', 'E 4', 'A 4'), ('E 4', 'E 4', 'A 4', 'C 5'), ('E 4', 'A 4', 'C 5', 'A 4'), ('A 4', 'C 5', 'A 4', 'A 3'), ('C 5', 'A 4', 'A 3', 'C 4'), ('A 4', 'A 3', 'C 4', 'F 4'), ('A 3', 'C 4', 'F 4', 'C 4'), ('C 4', 'F 4', 'C 4', 'B 3'), ('F 4', 'C 4', 'B 3', 'F 4'), ('C 4', 'B 3', 'F 4', 'A 4'), ('B 3', 'F 4', 'A 4', 'F 4'), ('F 4', 'A 4', 'F 4', 'C 4'), ('A 4', 'F 4', 'C 4', 'C 5'), ('F 4', 'C 4', 'C 5', 'B 4'), ('C 4', 'C 5', 'B 4', 'C 5'), ('C 5', 'B 4', 'C 5', 'D 5'), ('B 4', 'C 5', 'D 5', 'D 5'), ('C 5', 'D 5', 'D 5', 'C 5'), ('D 5', 'D 5', 'C 5', 'A 4'), ('D 5', 'C 5', 'A 4', 'A 3'), ('C 5', 'A 4', 'A 3', 'D 4'), ('A 4', 'A 3', 'D 4', 'F# 4'), ('A 3', 'D 4', 'F# 4', 'D 4'), ('D 4', 'F# 4', 'D 4', 'C 4'), ('F# 4', 'D 4', 'C 4', 'F# 4'), ('D 4', 'C 4', 'F# 4', 'A 4'), ('C 4', 'F# 4', 'A 4', 'F# 4'), ('F# 4', 'A 4', 'F# 4', 'E 4'), ('A 4', 'F# 4', 'E 4', 'A 4'), ('F# 4', 'E 4', 'A 4', 'C 5'), ('E 4', 'A 4', 'C 5', 'A 4'), ('A 4', 'C 5', 'A 4', 'G# 3'), ('C 5', 'A 4', 'G# 3', 'B 3'), ('A 4', 'G# 3', 'B 3', 'D 4'), ('G# 3', 'B 3', 'D 4', 'B 3'), ('B 3', 'D 4', 'B 3', 'A 3'), ('D 4', 'B 3', 'A 3', 'D 4'), ('B 3', 'A 3', 'D 4', 'E 4'), ('A 3', 'D 4', 'E 4', 'D 4'), ('D 4', 'E 4', 'D 4', 'B 3'), ('E 4', 'D 4', 'B 3', 'C 4'), ('D 4', 'B 3', 'C 4', 'B 3'), ('B 3', 'C 4', 'B 3', 'C 4'), ('C 4', 'B 3', 'C 4', 'E 4'), ('B 3', 'C 4', 'E 4', 'E 4'), ('C 4', 'E 4', 'E 4', 'A 3'), ('E 4', 'E 4', 'A 3', 'A 3'), ('E 4', 'A 3', 'A 3', 'B 3'), ('A 3', 'A 3', 'B 3', 'B 3'), ('A 3', 'B 3', 'B 3', 'B 3'), ('B 3', 'B 3', 'B 3', 'B 3'), ('B 3', 'B 3', 'B 3', 'C 4'), ('B 3', 'B 3', 'C 4', 'C 4'), ('B 3', 'C 4', 'C 4', 'C 4'), ('C 4', 'C 4', 'C 4', 'C 4'), ('C 4', 'C 4', 'C 4', 'E 4'), ('C 4', 'C 4', 'E 4', 'E 4'), ('C 4', 'E 4', 'E 4', 'E 4'), ('E 4', 'E 4', 'E 4', 'E 4'), ('E 4', 'E 4', 'E 4', 'A 3'), ('E 4', 'E 4', 'A 3', 'A 3'), ('E 4', 'A 3', 'A 3', 'A 3'), ('A 3', 'A 3', 'A 3', 'A 3'), ('A 3', 'A 3', 'A 3', 'B 3'), ('A 3', 'A 3', 'B 3', 'B 3'), ('A 3', 'B 3', 'B 3', 'B 3'), ('B 3', 'B 3', 'B 3', 'B 3'), ('B 3', 'B 3', 'B 3', 'C 4'), ('B 3', 'B 3', 'C 4', 'C 4'), ('B 3', 'C 4', 'C 4', 'C 4'), ('C 4', 'C 4', 'C 4', 'C 4'), ('C 4', 'C 4', 'C 4', 'E 4'), ('C 4', 'C 4', 'E 4', 'E 4'), ('C 4', 'E 4', 'E 4', 'E 4'), ('E 4', 'E 4', 'E 4', 'E 4'), ('E 4', 'E 4', 'E 4', 'A 3'), ('E 4', 'E 4', 'A 3', 'A 3'), ('E 4', 'A 3', 'A 3', 'A 3'), ('A 3', 'A 3', 'A 3', 'A 3'), ('A 3', 'A 3', 'A 3', 'B 3'), ('A 3', 'A 3', 'B 3', 'B 3'), ('A 3', 'B 3', 'B 3', 'B 3'), ('B 3', 'B 3', 'B 3', 'B 3'), ('B 3', 'B 3', 'B 3', 'C 4'), ('B 3', 'B 3', 'C 4', 'C 4'), ('B 3', 'C 4', 'C 4', 'C 4'), ('C 4', 'C 4', 'C 4', 'C 4'), ('C 4', 'C 4', 'C 4', 'E 4'), ('C 4', 'C 4', 'E 4', 'E 4'), ('C 4', 'E 4', 'E 4', 'E 4'), ('E 4', 'E 4', 'E 4', 'E 4'), ('E 4', 'E 4', 'E 4', 'D 4'), ('E 4', 'E 4', 'D 4', 'E 5'), ('E 4', 'D 4', 'E 5', 'F 5'), ('D 4', 'E 5', 'F 5', 'E 5'), ('E 5', 'F 5', 'E 5', 'E 5'), ('F 5', 'E 5', 'E 5', 'C 5'), ('E 5', 'E 5', 'C 5', 'B 4'), ('E 5', 'C 5', 'B 4', 'A 4'), ('C 5', 'B 4', 'A 4', 'A 4'), ('B 4', 'A 4', 'A 4', 'E 5'), ('A 4', 'A 4', 'E 5', 'F 5'), ('A 4', 'E 5', 'F 5', 'E 5'), ('E 5', 'F 5', 'E 5', 'E 5'), ('F 5', 'E 5', 'E 5', 'C 5'), ('E 5', 'E 5', 'C 5', 'C 5'), ('E 5', 'C 5', 'C 5', 'C 5'), ('C 5', 'C 5', 'C 5', 'B 4'), ('C 5', 'C 5', 'B 4', 'A 4'), ('C 5', 'B 4', 'A 4', 'A 4'), ('B 4', 'A 4', 'A 4', 'B 4'), ('A 4', 'A 4', 'B 4', 'C 5'), ('A 4', 'B 4', 'C 5', 'D 5'), ('B 4', 'C 5', 'D 5', 'E 5'), ('C 5', 'D 5', 'E 5', 'E 5'), ('D 5', 'E 5', 'E 5', 'C 5'), ('E 5', 'E 5', 'C 5', 'B 4'), ('E 5', 'C 5', 'B 4', 'B 4'), ('C 5', 'B 4', 'B 4', 'C 5'), ('B 4', 'B 4', 'C 5', 'A 4'), ('B 4', 'C 5', 'A 4', 'A 4'), ('C 5', 'A 4', 'A 4', 'C 5'), ('A 4', 'A 4', 'C 5', 'B 4'), ('A 4', 'C 5', 'B 4', 'C 5'), ('C 5', 'B 4', 'C 5', 'B 4'), ('B 4', 'C 5', 'B 4', 'C 5'), ('C 5', 'B 4', 'C 5', 'A 4'), ('B 4', 'C 5', 'A 4', 'A 4'), ('C 5', 'A 4', 'A 4', 'C 3'), ('A 4', 'A 4', 'C 3', 'C 3')]\n"
     ]
    }
   ],
   "source": [
    "print(a)"
   ]
  },
  {
   "cell_type": "code",
   "execution_count": 245,
   "id": "ff5c2496",
   "metadata": {},
   "outputs": [
    {
     "name": "stdout",
     "output_type": "stream",
     "text": [
      "[(35, 'rest_0.5'), [(35, 'G', 3, 0.25), (35, 'G', 4, 0.25)], [(35, 'A', 3, 0.25), (35, 'A', 4, 0.25)], [(36, 'A', 3, 1.0), (36, 'A', 4, 1.0)], (36, 'rest_0.5'), [(36, 'C', 4, 0.5), (36, 'C', 5, 0.5)], [(36, 'B', 3, 0.5), (36, 'F', 4, 0.5), (36, 'A', 4, 0.5), (36, 'B', 4, 0.5)]]\n"
     ]
    }
   ],
   "source": [
    "print(df['measures'][4][233:233+7])"
   ]
  },
  {
   "cell_type": "code",
   "execution_count": 243,
   "id": "43f44a62",
   "metadata": {},
   "outputs": [
    {
     "name": "stdout",
     "output_type": "stream",
     "text": [
      "[(19, 'E', 3, 0.25), (19, 'A', 3, 0.25), (19, 'E', 3, 0.25), (19, 'C', 4, 0.25), (19, 'E', 3, 0.25), (19, 'A', 3, 0.25), (19, 'E', 3, 0.25)]\n"
     ]
    }
   ],
   "source": [
    "print(df['measures'][5][80:80+7])"
   ]
  },
  {
   "cell_type": "markdown",
   "id": "6d32bba1",
   "metadata": {},
   "source": [
    "# Generating harmony to melody (not worth a try)"
   ]
  },
  {
   "cell_type": "code",
   "execution_count": 300,
   "id": "4d77f14a",
   "metadata": {},
   "outputs": [],
   "source": [
    "test_lst = df['measures'][4][0:300] #First 4 measures"
   ]
  },
  {
   "cell_type": "code",
   "execution_count": 301,
   "id": "449367a7",
   "metadata": {},
   "outputs": [
    {
     "name": "stdout",
     "output_type": "stream",
     "text": [
      "['rest_1.0', 'A', 'G', 'G', 'F', 'E']\n",
      "['B', 'D', 'F#']\n",
      "1: 0.3333333333333333, 0.40824829046386296\n",
      "2: 0.0, 0.0\n",
      "3: 0.14285714285714285, 0.20412414523193148\n",
      "4: 0.14285714285714285, 0.20412414523193148\n",
      "5: 0.14285714285714285, 0.20412414523193148\n",
      "6: 0.3333333333333333, 0.40824829046386296\n",
      "7: 0.14285714285714285, 0.40824829046386296\n"
     ]
    },
    {
     "data": {
      "text/plain": [
       "'\\n1 = 1 kindel\\n2 = 6 kindel\\n3 = 4\\n4 = 5\\n'"
      ]
     },
     "execution_count": 301,
     "metadata": {},
     "output_type": "execute_result"
    }
   ],
   "source": [
    "harmony_chords = {\n",
    "    1: ['A', 'C', 'E'],\n",
    "    2: ['B', 'D', 'F#'],\n",
    "    3: ['C', 'E', 'G#'],\n",
    "    4: ['D', 'F#', 'A'],\n",
    "    5: ['E', 'G#', 'B'],\n",
    "    6: ['F', 'A', 'C'],\n",
    "    7: ['G', 'B', 'D']\n",
    "}\n",
    "\n",
    "measure= []\n",
    "for i in test_lst:\n",
    "    if i[0] == 9:\n",
    "        measure.append(i[1:2][0])\n",
    "\n",
    "\n",
    "print(measure)\n",
    "print(harmony_chords[2])\n",
    "\n",
    "\n",
    "\n",
    "for elem in harmony_chords:\n",
    "    print(str(elem) + ': ' + str(jaccard_distance(measure,harmony_chords[elem])) + ', ' + str(cosine_similarity_ngrams(measure,harmony_chords[elem])))\n",
    "\n",
    "    \n",
    "    \n",
    "'''\n",
    "1 = 1 kindel\n",
    "2 = 6 kindel\n",
    "3 = 4\n",
    "4 = 5\n",
    "'''"
   ]
  },
  {
   "cell_type": "markdown",
   "id": "13e7ff24",
   "metadata": {},
   "source": [
    "# Bach's corpus (last index is 412)\n",
    "### .krn file is HUMDRUM tool KERN file"
   ]
  },
  {
   "cell_type": "code",
   "execution_count": 334,
   "id": "9bacb86a",
   "metadata": {},
   "outputs": [],
   "source": [
    "from music21 import corpus\n",
    "from pathlib import Path  \n",
    "\n",
    "paths = corpus.getComposer('bach')\n",
    "\n",
    "del df\n",
    "\n",
    "\n",
    "c3 = converter.parse(r'C:\\Users\\Lleis\\Documents\\SCHOOL\\digimagister\\digital_sheet_music_analysis\\musicxml notes\\bond3.musicxml')\n",
    "partStream2 = c3.parts.stream()\n",
    "note_info2= gather_part_info(partStream2, 'bond', 2)\n",
    "df = pd.DataFrame(note_info2)\n",
    "\n",
    "list_of_music = []\n",
    "\n",
    "for i in paths:\n",
    "    list_of_music.append(i.name)\n",
    "\n",
    "test = list_of_music[0:413]\n",
    "\n",
    "for note in test:\n",
    "    if '.mxl' in note:\n",
    "        s = corpus.parse('bach/' + note)\n",
    "\n",
    "        partStream2 = s.parts.stream()\n",
    "        idx = df['note_id'].iloc[-1]\n",
    "\n",
    "        note_info2= gather_part_info(partStream2, note, idx+1)\n",
    "        df_new = pd.DataFrame(note_info2)\n",
    "\n",
    "        df = df.append(df_new, ignore_index = True)\n"
   ]
  },
  {
   "cell_type": "code",
   "execution_count": 335,
   "id": "db42203d",
   "metadata": {},
   "outputs": [
    {
     "data": {
      "text/html": [
       "<div>\n",
       "<style scoped>\n",
       "    .dataframe tbody tr th:only-of-type {\n",
       "        vertical-align: middle;\n",
       "    }\n",
       "\n",
       "    .dataframe tbody tr th {\n",
       "        vertical-align: top;\n",
       "    }\n",
       "\n",
       "    .dataframe thead th {\n",
       "        text-align: right;\n",
       "    }\n",
       "</style>\n",
       "<table border=\"1\" class=\"dataframe\">\n",
       "  <thead>\n",
       "    <tr style=\"text-align: right;\">\n",
       "      <th></th>\n",
       "      <th>note_id</th>\n",
       "      <th>sheet_name</th>\n",
       "      <th>partName</th>\n",
       "      <th>sharps</th>\n",
       "      <th>bpm</th>\n",
       "      <th>key</th>\n",
       "      <th>time_signature</th>\n",
       "      <th>bpm (quarter note)</th>\n",
       "      <th>clef</th>\n",
       "      <th>measures</th>\n",
       "    </tr>\n",
       "  </thead>\n",
       "  <tbody>\n",
       "    <tr>\n",
       "      <th>0</th>\n",
       "      <td>2</td>\n",
       "      <td>bond</td>\n",
       "      <td>Piano</td>\n",
       "      <td>2</td>\n",
       "      <td>None</td>\n",
       "      <td>B minor</td>\n",
       "      <td>4/4</td>\n",
       "      <td>72.0</td>\n",
       "      <td>treble</td>\n",
       "      <td>[(1, B, 3, 0.5), (1, F#, 4, 0.5), (1, C#, 4, 0...</td>\n",
       "    </tr>\n",
       "    <tr>\n",
       "      <th>1</th>\n",
       "      <td>2</td>\n",
       "      <td>bond</td>\n",
       "      <td>Piano</td>\n",
       "      <td>2</td>\n",
       "      <td>None</td>\n",
       "      <td>B minor</td>\n",
       "      <td>4/4</td>\n",
       "      <td>72.0</td>\n",
       "      <td>bass</td>\n",
       "      <td>[[(1, B, 1, 3.0), (1, B, 2, 3.0)], (1, F#, 5, ...</td>\n",
       "    </tr>\n",
       "    <tr>\n",
       "      <th>2</th>\n",
       "      <td>3</td>\n",
       "      <td>bwv1.6.mxl</td>\n",
       "      <td>Horn 2</td>\n",
       "      <td>-1</td>\n",
       "      <td>None</td>\n",
       "      <td>F major</td>\n",
       "      <td>4/4</td>\n",
       "      <td>None</td>\n",
       "      <td>treble</td>\n",
       "      <td>[(0, F, 4, 1.0), (1, G, 4, 0.5), (1, C, 4, 0.5...</td>\n",
       "    </tr>\n",
       "    <tr>\n",
       "      <th>3</th>\n",
       "      <td>3</td>\n",
       "      <td>bwv1.6.mxl</td>\n",
       "      <td>Soprano</td>\n",
       "      <td>-1</td>\n",
       "      <td>None</td>\n",
       "      <td>F major</td>\n",
       "      <td>4/4</td>\n",
       "      <td>None</td>\n",
       "      <td>treble</td>\n",
       "      <td>[(0, F, 4, 1.0), (1, C, 5, 1.0), (1, A, 4, 1.0...</td>\n",
       "    </tr>\n",
       "    <tr>\n",
       "      <th>4</th>\n",
       "      <td>3</td>\n",
       "      <td>bwv1.6.mxl</td>\n",
       "      <td>Alto</td>\n",
       "      <td>-1</td>\n",
       "      <td>None</td>\n",
       "      <td>F major</td>\n",
       "      <td>4/4</td>\n",
       "      <td>None</td>\n",
       "      <td>treble</td>\n",
       "      <td>[(0, C, 4, 1.0), (1, C, 4, 1.0), (1, C, 4, 1.0...</td>\n",
       "    </tr>\n",
       "    <tr>\n",
       "      <th>...</th>\n",
       "      <td>...</td>\n",
       "      <td>...</td>\n",
       "      <td>...</td>\n",
       "      <td>...</td>\n",
       "      <td>...</td>\n",
       "      <td>...</td>\n",
       "      <td>...</td>\n",
       "      <td>...</td>\n",
       "      <td>...</td>\n",
       "      <td>...</td>\n",
       "    </tr>\n",
       "    <tr>\n",
       "      <th>1752</th>\n",
       "      <td>409</td>\n",
       "      <td>bwv97.9.mxl</td>\n",
       "      <td>Bass</td>\n",
       "      <td>-2</td>\n",
       "      <td>None</td>\n",
       "      <td>B- major</td>\n",
       "      <td>4/4</td>\n",
       "      <td>None</td>\n",
       "      <td>bass</td>\n",
       "      <td>[(0, B-, 2, 1.0), (1, B-, 3, 1.0), (1, A, 3, 1...</td>\n",
       "    </tr>\n",
       "    <tr>\n",
       "      <th>1753</th>\n",
       "      <td>410</td>\n",
       "      <td>bwv99.6.mxl</td>\n",
       "      <td>Soprano</td>\n",
       "      <td>1</td>\n",
       "      <td>None</td>\n",
       "      <td>D major  /  G major</td>\n",
       "      <td>4/4</td>\n",
       "      <td>None</td>\n",
       "      <td>treble</td>\n",
       "      <td>[(0, D, 4, 1.0), (1, G, 4, 1.0), (1, A, 4, 1.0...</td>\n",
       "    </tr>\n",
       "    <tr>\n",
       "      <th>1754</th>\n",
       "      <td>410</td>\n",
       "      <td>bwv99.6.mxl</td>\n",
       "      <td>Alto</td>\n",
       "      <td>1</td>\n",
       "      <td>None</td>\n",
       "      <td>G major  /  D major</td>\n",
       "      <td>4/4</td>\n",
       "      <td>None</td>\n",
       "      <td>treble</td>\n",
       "      <td>[(0, B, 3, 0.5), (0, C, 4, 0.5), (1, D, 4, 1.0...</td>\n",
       "    </tr>\n",
       "    <tr>\n",
       "      <th>1755</th>\n",
       "      <td>410</td>\n",
       "      <td>bwv99.6.mxl</td>\n",
       "      <td>Tenor</td>\n",
       "      <td>1</td>\n",
       "      <td>None</td>\n",
       "      <td>B minor  /  G major</td>\n",
       "      <td>4/4</td>\n",
       "      <td>None</td>\n",
       "      <td>bass</td>\n",
       "      <td>[(0, G, 3, 0.5), (0, A, 3, 0.5), (1, B, 3, 1.0...</td>\n",
       "    </tr>\n",
       "    <tr>\n",
       "      <th>1756</th>\n",
       "      <td>410</td>\n",
       "      <td>bwv99.6.mxl</td>\n",
       "      <td>Bass</td>\n",
       "      <td>1</td>\n",
       "      <td>None</td>\n",
       "      <td>G major</td>\n",
       "      <td>4/4</td>\n",
       "      <td>None</td>\n",
       "      <td>bass</td>\n",
       "      <td>[(0, G, 2, 1.0), (1, G, 3, 1.0), (1, F#, 3, 1....</td>\n",
       "    </tr>\n",
       "  </tbody>\n",
       "</table>\n",
       "<p>1757 rows × 10 columns</p>\n",
       "</div>"
      ],
      "text/plain": [
       "      note_id   sheet_name partName  sharps   bpm                  key  \\\n",
       "0           2         bond    Piano       2  None              B minor   \n",
       "1           2         bond    Piano       2  None              B minor   \n",
       "2           3   bwv1.6.mxl   Horn 2      -1  None              F major   \n",
       "3           3   bwv1.6.mxl  Soprano      -1  None              F major   \n",
       "4           3   bwv1.6.mxl     Alto      -1  None              F major   \n",
       "...       ...          ...      ...     ...   ...                  ...   \n",
       "1752      409  bwv97.9.mxl     Bass      -2  None             B- major   \n",
       "1753      410  bwv99.6.mxl  Soprano       1  None  D major  /  G major   \n",
       "1754      410  bwv99.6.mxl     Alto       1  None  G major  /  D major   \n",
       "1755      410  bwv99.6.mxl    Tenor       1  None  B minor  /  G major   \n",
       "1756      410  bwv99.6.mxl     Bass       1  None              G major   \n",
       "\n",
       "     time_signature bpm (quarter note)    clef  \\\n",
       "0               4/4               72.0  treble   \n",
       "1               4/4               72.0    bass   \n",
       "2               4/4               None  treble   \n",
       "3               4/4               None  treble   \n",
       "4               4/4               None  treble   \n",
       "...             ...                ...     ...   \n",
       "1752            4/4               None    bass   \n",
       "1753            4/4               None  treble   \n",
       "1754            4/4               None  treble   \n",
       "1755            4/4               None    bass   \n",
       "1756            4/4               None    bass   \n",
       "\n",
       "                                               measures  \n",
       "0     [(1, B, 3, 0.5), (1, F#, 4, 0.5), (1, C#, 4, 0...  \n",
       "1     [[(1, B, 1, 3.0), (1, B, 2, 3.0)], (1, F#, 5, ...  \n",
       "2     [(0, F, 4, 1.0), (1, G, 4, 0.5), (1, C, 4, 0.5...  \n",
       "3     [(0, F, 4, 1.0), (1, C, 5, 1.0), (1, A, 4, 1.0...  \n",
       "4     [(0, C, 4, 1.0), (1, C, 4, 1.0), (1, C, 4, 1.0...  \n",
       "...                                                 ...  \n",
       "1752  [(0, B-, 2, 1.0), (1, B-, 3, 1.0), (1, A, 3, 1...  \n",
       "1753  [(0, D, 4, 1.0), (1, G, 4, 1.0), (1, A, 4, 1.0...  \n",
       "1754  [(0, B, 3, 0.5), (0, C, 4, 0.5), (1, D, 4, 1.0...  \n",
       "1755  [(0, G, 3, 0.5), (0, A, 3, 0.5), (1, B, 3, 1.0...  \n",
       "1756  [(0, G, 2, 1.0), (1, G, 3, 1.0), (1, F#, 3, 1....  \n",
       "\n",
       "[1757 rows x 10 columns]"
      ]
     },
     "execution_count": 335,
     "metadata": {},
     "output_type": "execute_result"
    }
   ],
   "source": [
    "df"
   ]
  },
  {
   "cell_type": "code",
   "execution_count": 338,
   "id": "ee758a29",
   "metadata": {},
   "outputs": [],
   "source": [
    "df.to_csv('bach_notes.csv')"
   ]
  },
  {
   "cell_type": "code",
   "execution_count": 333,
   "id": "d8fc71e3",
   "metadata": {},
   "outputs": [
    {
     "data": {
      "text/html": [
       "\n",
       "                <div id='midiPlayerDiv1035040'></div>\n",
       "                <link rel=\"stylesheet\" href=\"//cuthbertLab.github.io/music21j/css/m21.css\"\n",
       "                    type=\"text/css\" />\n",
       "                <script>\n",
       "                require.config({\n",
       "                    paths: {'music21': '//cuthbertLab.github.io/music21j/src/music21'}\n",
       "                });\n",
       "                require(['music21'], function() {\n",
       "                               mp = new music21.miditools.MidiPlayer();\n",
       "                               mp.addPlayer('#midiPlayerDiv1035040');\n",
       "                               mp.base64Load('data:audio/midi;base64,TVRoZAAAAAYAAQAFBABNVHJrAAAAGgD/UQMHoSAA/1kCAAEA/1gEBAIYCIgA/y8ATVRyawAAAo8A/wMHU29wcmFubwDgAEAAwACIAJBFWogAgEUAAJBEWogAgEQAAJBFWoQAgEUAAJBHWoQAgEcAAJBIWogAgEgAAJBKWogAgEoAAJBIWogAgEgAAJBHWogAgEcAAJBFWogAgEUAAJBFWogAgEUAAJBBWogAgEEAAJBDWogAgEMAAJBFWogAgEUAAJBDWoQAgEMAAJBBWoQAgEEAAJBAWoQAgEAAAJA+WoQAgD4AAJBAWogAgEAAAJA+WogAgD4AAJBFWogAgEUAAJBEWogAgEQAAJBFWoQAgEUAAJBHWoQAgEcAAJBIWogAgEgAAJBKWogAgEoAAJBIWogAgEgAAJBHWogAgEcAAJBFWogAgEUAAJBFWogAgEUAAJBBWogAgEEAAJBDWogAgEMAAJBFWogAgEUAAJBDWoQAgEMAAJBBWoQAgEEAAJBAWoQAgEAAAJA+WoQAgD4AAJBAWogAgEAAAJA+WogAgD4AiACQPlqEAIA+AACQQFqEAIBAAACQQVqIAIBBAACQQ1qIAIBDAACQPlqEAIA+AACQQFqEAIBAAACQQVqIAIBBAACQQ1qIAIBDAACQRVqIAIBFAACQRVqIAIBFAACQSlqIAIBKAACQSVqIAIBJAACQSlqIAIBKAACQTFqEAIBMAACQSlqEAIBKAACQSFqIAIBIAACQR1qIAIBHAACQRVqIAIBFAACQR1qIAIBHAACQSFqIAIBIAACQRVqEAIBFAACQRlqEAIBGAACQSFqIAIBIAACQQ1qIAIBDAACQQVqIAIBBAACQQFqIAIBAAACQPlqQAIA+AACQRVqIAIBFAACQQ1qIAIBDAACQQVqIAIBBAACQQFqIAIBAAACQPlqgAIA+AIgA/y8ATVRyawAAArAA/wMEQWx0bwDgAEAAwACIAJBBWogAgEEAAJBBWoQAgEEAAJBAWogAgEAAAJBEWoQAgEQAAJBFWogAgEUAAJBHWowAgEcAAJBFWogAgEUAAJBEWoQAgEQAAJBAWogAgEAAAJBAWowAgEAAAJA+WoQAgD4AAJA9WoQAgD0AAJA+WoQAgD4AAJBAWowAgEAAAJA+WoQAgD4AAJA9WoQAgD0AAJA+WogAgD4AAJA9WoQAgD0AAJA5WogAgDkAAJBBWogAgEEAAJBBWoQAgEEAAJBAWogAgEAAAJBEWoQAgEQAAJBFWogAgEUAAJBHWowAgEcAAJBFWogAgEUAAJBEWoQAgEQAAJBAWogAgEAAAJBAWowAgEAAAJA+WoQAgD4AAJA9WoQAgD0AAJA+WoQAgD4AAJBAWowAgEAAAJA+WoQAgD4AAJA9WoQAgD0AAJA+WogAgD4AAJA9WoQAgD0AAJA5WogAgDkAiACQOVqIAIA5AACQPlqIAIA+AACQPlqEAIA+AACQPFqEAIA8AACQOlqEAIA6AACQPFqEAIA8AACQPlqEAIA+AACQOVqEAIA5AACQPlqEAIA+AACQPFqEAIA8AACQPFqIAIA8AACQQVqEAIBBAACQQ1qEAIBDAACQRVqEAIBFAACQRlqIAIBGAACQRVqEAIBFAACQRVqIAIBFAACQQFqMAIBAAACQQVqIAIBBAACQQFqEAIBAAACQQFqIAIBAAACQQVqMAIBBAACQQFqEAIBAAACQQVqIAIBBAACQQVqIAIBBAACQQFqMAIBAAACQPlqEAIA+AACQPVqEAIA9AACQPlqEAIA+AACQPlqQAIA+AACQPlqMAIA+AACQQFqEAIBAAACQPVqEAIA9AACQPlqIAIA+AACQPVqEAIA9AACQOVqgAIA5AIgA/y8ATVRyawAAAyYA/wMFVGVub3IA4ABAAMAAiACQPlqEAIA+AACQPFqEAIA8AACQO1qIAIA7AACQPFqEAIA8AACQPlqEAIA+AACQQFqIAIBAAACQQVqEAIBBAACQQFqEAIBAAACQQFqEAIBAAACQQVqIAIBBAACQQFqCAIBAAACQPlqCAIA+AACQPVqIAIA9AACQOVqIAIA5AACQOVqIAIA5AACQOlqIAIA6AACQOVqIAIA5AACQOVqIAIA5AACQOVqEAIA5AACQNVqEAIA1AACQN1qEAIA3AACQNFqEAIA0AACQNVqIAIA1AACQPlqEAIA+AACQPFqEAIA8AACQO1qIAIA7AACQPFqEAIA8AACQPlqEAIA+AACQQFqIAIBAAACQQVqEAIBBAACQQFqEAIBAAACQQFqEAIBAAACQQVqIAIBBAACQQFqCAIBAAACQPlqCAIA+AACQPVqIAIA9AACQOVqIAIA5AACQOVqIAIA5AACQOlqIAIA6AACQOVqIAIA5AACQOVqIAIA5AACQOVqEAIA5AACQNVqEAIA1AACQN1qEAIA3AACQNFqEAIA0AACQNVqIAIA1AIgAkDVahACANQAAkDdahACANwAAkDlaiACAOQAAkDdahACANwAAkDlahACAOQAAkDpaiACAOgAAkDlahACAOQAAkEFaiACAQQAAkEBahACAQAAAkEFaiACAQQAAkDxaiACAPAAAkDVaiACANQAAkDdaiACANwAAkD5ahACAPgAAkDxahACAPAAAkDtajACAOwAAkDlaiACAOQAAkDhahACAOAAAkDxaiACAPAAAkD5aiACAPgAAkDdahACANwAAkDxahACAPAAAkDxaiACAPAAAkDxahACAPAAAkD5ahACAPgAAkEBahACAQAAAkD5ahACAPgAAkD1ahACAPQAAkDlahACAOQAAkDpahACAOgAAkDlaggCAOQAAkDdaggCANwAAkDVakACANQAAkDlahACAOQAAkDxahACAPAAAkDpaiACAOgAAkDlaiACAOQAAkDdakACANwAAkDZahACANgAAkDRahACANAAAkDZakACANgCIAP8vAE1UcmsAAAMKAP8DBEJhc3MA4ABAAMAAiACQMlqIAIAyAACQMlqIAIAyAACQMFqEAIAwAACQL1qEAIAvAACQLVqEAIAtAACQOVqIAIA5AACQOFqEAIA4AACQOVqEAIA5AACQNVqEAIA1AACQMlqEAIAyAACQNFqEAIA0AACQLVqIAIAtAACQMVqIAIAxAACQMlqEAIAyAACQNVqEAIA1AACQNFqEAIA0AACQMlqEAIAyAACQMVqEAIAxAACQLVqEAIAtAACQMlqIAIAyAACQOVqIAIA5AACQLVqIAIAtAACQMlqIAIAyAACQMlqIAIAyAACQMlqIAIAyAACQMFqEAIAwAACQL1qEAIAvAACQLVqEAIAtAACQOVqIAIA5AACQOFqEAIA4AACQOVqEAIA5AACQNVqEAIA1AACQMlqEAIAyAACQNFqEAIA0AACQLVqIAIAtAACQMVqIAIAxAACQMlqEAIAyAACQNVqEAIA1AACQNFqEAIA0AACQMlqEAIAyAACQMVqEAIAxAACQLVqEAIAtAACQMlqIAIAyAACQOVqIAIA5AACQLVqIAIAtAACQMlqIAIAyAIgAkDJajACAMgAAkDBahACAMAAAkC5ahACALgAAkC1ahACALQAAkCtaiACAKwAAkDJahACAMgAAkDBahACAMAAAkC5ahACALgAAkDBahACAMAAAkClaiACAKQAAkDVahACANQAAkDRahACANAAAkDJaiACAMgAAkDRaiACANAAAkDZaiACANgAAkDhaiACAOAAAkDlahACAOQAAkDVahACANQAAkDJahACAMgAAkDRahACANAAAkC1aiACALQAAkDJaiACAMgAAkDBaiACAMAAAkClahACAKQAAkCtahACAKwAAkC1ahACALQAAkC5ahACALgAAkDBahACAMAAAkC5ahACALgAAkC1ahACALQAAkClahACAKQAAkCtahACAKwAAkC1ahACALQAAkC5akACALgAAkCpaiACAKgAAkCtaiACAKwAAkC1akACALQAAkCZaoACAJgCIAP8vAA==');\n",
       "                        });\n",
       "                </script>"
      ],
      "text/plain": [
       "<IPython.core.display.HTML object>"
      ]
     },
     "metadata": {},
     "output_type": "display_data"
    }
   ],
   "source": [
    "s = corpus.parse('bach/bwv277.mxl')\n",
    "s.show('midi')"
   ]
  },
  {
   "cell_type": "code",
   "execution_count": null,
   "id": "e0c768f5",
   "metadata": {},
   "outputs": [],
   "source": []
  }
 ],
 "metadata": {
  "kernelspec": {
   "display_name": "Python 3 (ipykernel)",
   "language": "python",
   "name": "python3"
  },
  "language_info": {
   "codemirror_mode": {
    "name": "ipython",
    "version": 3
   },
   "file_extension": ".py",
   "mimetype": "text/x-python",
   "name": "python",
   "nbconvert_exporter": "python",
   "pygments_lexer": "ipython3",
   "version": "3.9.6"
  }
 },
 "nbformat": 4,
 "nbformat_minor": 5
}
