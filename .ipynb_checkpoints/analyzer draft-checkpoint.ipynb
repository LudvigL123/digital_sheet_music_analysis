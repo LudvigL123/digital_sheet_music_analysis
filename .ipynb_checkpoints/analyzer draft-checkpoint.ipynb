{
 "cells": [
  {
   "cell_type": "markdown",
   "id": "3d37a1eb",
   "metadata": {},
   "source": [
    "# Sheet music analyzer"
   ]
  },
  {
   "cell_type": "markdown",
   "id": "4b1ad17d",
   "metadata": {},
   "source": [
    "## I Setting environments and importing necessary packages"
   ]
  },
  {
   "cell_type": "code",
   "execution_count": 1,
   "id": "3011317c",
   "metadata": {},
   "outputs": [
    {
     "data": {
      "text/plain": [
       "WindowsPath('C:/Program Files/MuseScore 3/bin/MuseScore3.exe')"
      ]
     },
     "execution_count": 1,
     "metadata": {},
     "output_type": "execute_result"
    }
   ],
   "source": [
    "from music21 import *\n",
    "import pandas as pd\n",
    "us = environment.UserSettings()\n",
    "us['musicxmlPath'] = 'C:\\\\Program Files\\\\MuseScore 3\\\\bin\\\\MuseScore3.exe'\n",
    "us['musescoreDirectPNGPath'] = 'C:\\\\Program Files\\\\MuseScore 3\\\\bin\\\\MuseScore3.exe'\n",
    "us['musicxmlPath']"
   ]
  },
  {
   "cell_type": "code",
   "execution_count": 2,
   "id": "1401179c",
   "metadata": {},
   "outputs": [
    {
     "data": {
      "image/png": "[encoded data removed]",
      "text/plain": [
       "<IPython.core.display.Image object>"
      ]
     },
     "metadata": {
      "image/png": {
       "height": 36,
       "width": 211
      }
     },
     "output_type": "display_data"
    }
   ],
   "source": [
    "n = note.Note(\"D#3\")\n",
    "n.duration.type = 'half'\n",
    "n.show()"
   ]
  },
  {
   "cell_type": "code",
   "execution_count": 3,
   "id": "cee2d80f",
   "metadata": {},
   "outputs": [
    {
     "data": {
      "image/png": "[encoded data removed]",
      "text/plain": [
       "<IPython.core.display.Image object>"
      ]
     },
     "metadata": {
      "image/png": {
       "height": 49,
       "width": 371
      }
     },
     "output_type": "display_data"
    }
   ],
   "source": [
    "littleMelody = converter.parse(\"tinynotation: 3/4 c4 d8 f g16 a g f#\")\n",
    "littleMelody.show()"
   ]
  },
  {
   "cell_type": "code",
   "execution_count": 4,
   "id": "b9dd539a",
   "metadata": {},
   "outputs": [
    {
     "data": {
      "text/html": [
       "\n",
       "                <div id='midiPlayerDiv276'></div>\n",
       "                <link rel=\"stylesheet\" href=\"//cuthbertLab.github.io/music21j/css/m21.css\"\n",
       "                    type=\"text/css\" />\n",
       "                <script>\n",
       "                require.config({\n",
       "                    paths: {'music21': '//cuthbertLab.github.io/music21j/src/music21'}\n",
       "                });\n",
       "                require(['music21'], function() {\n",
       "                               mp = new music21.miditools.MidiPlayer();\n",
       "                               mp.addPlayer('#midiPlayerDiv276');\n",
       "                               mp.base64Load('data:audio/midi;base64,TVRoZAAAAAYAAQACBABNVHJrAAAAFAD/UQMHoSAA/1gEAwIYCIgA/y8ATVRyawAAAE0A/wMAAOAAQIgAkDxaiACAPAAAkD5ahACAPgAAkEFahACAQQAAkENaggCAQwAAkEVaggCARQAAkENaggCAQwAAkEJaggCAQgCIAP8vAA==');\n",
       "                        });\n",
       "                </script>"
      ],
      "text/plain": [
       "<IPython.core.display.HTML object>"
      ]
     },
     "metadata": {},
     "output_type": "display_data"
    }
   ],
   "source": [
    "littleMelody.show('midi')"
   ]
  },
  {
   "cell_type": "markdown",
   "id": "df031efd",
   "metadata": {},
   "source": [
    "### Precious algorithms (maybe to be used)"
   ]
  },
  {
   "cell_type": "code",
   "execution_count": 5,
   "id": "85661aeb",
   "metadata": {},
   "outputs": [],
   "source": [
    "#Leiab kõik taktid ja takti sisu ning paneb need sõnastikku, sõnastikud lähevad listi\n",
    "def get_measure_info(part, partList):\n",
    "    measures = [] #List, kuhu lähevad measure dictid:\n",
    "    chords = []\n",
    "    rests = []\n",
    "    notes = []\n",
    "    allInfo = []\n",
    "    melNotes = []\n",
    "    notesDur = 0\n",
    "    restsDur = 0\n",
    "    for e in part.getElementsByClass('Measure'):\n",
    "        newMeasure = {}        \n",
    "        newMeasure[e.number] = list(e.notesAndRests.elements) #EVERYTHING IN one place\n",
    "        measureInt =[]\n",
    "        if e.hasVoices():\n",
    "            for voice in e.getElementsByClass('Voice'):\n",
    "                for v in voice.elements:\n",
    "                    newMeasure[e.number].append(v)\n",
    "        for elem in newMeasure[e.number]:\n",
    "            if elem.isNote:\n",
    "                notes.append(elem.nameWithOctave)\n",
    "                notesDur+=elem.duration.quarterLength\n",
    "                allInfo.append(elem)\n",
    "                measureInt.append(elem)\n",
    "                melNotes.append(elem)\n",
    "            elif elem.isChord and '<music21.harmony.ChordSymbol' not in str(elem):\n",
    "                chords.append(elem.pitchedCommonName)\n",
    "                notesDur+=elem.duration.quarterLength\n",
    "                measureInt.append(elem.notes[-1])\n",
    "                allInfo.append(elem.notes[-1])\n",
    "                melNotes.append(elem.notes[-1])\n",
    "                for c in elem.notes:\n",
    "                    notes.append(c.nameWithOctave)\n",
    "            elif elem.isRest:\n",
    "                restsDur+=elem.duration.quarterLength\n",
    "        newMeasure[e.number].append(measureInt) \n",
    "        measures.append(newMeasure)\n",
    "    rests.append(notesDur)\n",
    "    rests.append(restsDur)\n",
    "    partList['melodynotes'] = melNotes\n",
    "    partList['notes'] = notes\n",
    "    partList['chords'] = chords\n",
    "    partList['rests'] = rests\n",
    "    partList['intervals'] = find_intervals(allInfo)\n",
    "    \n",
    "    return measures"
   ]
  },
  {
   "cell_type": "code",
   "execution_count": 6,
   "id": "33063256",
   "metadata": {},
   "outputs": [],
   "source": [
    "#Taandab kõik intervallid 0-12 pooltooni vahemikku\n",
    "def check_semitones1(st_inter, intervals):\n",
    "    if 24 > st_inter > 12:\n",
    "        st_inter = st_inter-12\n",
    "        intervals.append(st_inter)\n",
    "    elif 36 > st_inter > 24:\n",
    "        st_inter = st_inter-24\n",
    "        intervals.append(st_inter)\n",
    "    elif 48 > st_inter > 36:\n",
    "        st_inter = st_inter-36\n",
    "        intervals.append(st_inter)\n",
    "    elif -24 < st_inter < -12:\n",
    "        st_inter = st_inter+12\n",
    "        intervals.append(st_inter)\n",
    "    elif -36 < st_inter < -24:\n",
    "        st_inter = st_inter+24\n",
    "        intervals.append(st_inter)\n",
    "    elif -48 < st_inter < -36:\n",
    "        st_inter = st_inter+36\n",
    "        intervals.append(st_inter)\n",
    "    else:\n",
    "        intervals.append(st_inter)\n",
    "\n",
    "#Taandab kõik intervallid 0-12 pooltooni vahemikku\n",
    "def check_semitones(st_inter, intervals):\n",
    "    if st_inter > 12:\n",
    "        st_inter = st_inter % 12  \n",
    "    elif st_inter < -12:\n",
    "        st_inter = st_inter % -12\n",
    "    intervals.append(st_inter)\n",
    "    \n",
    "        \n",
    "#Tuvastab nootide vahelised intervallid  \n",
    "def find_intervals(allInfo):\n",
    "    intervals= []\n",
    "    i=1 #Alustan 2. noodist, sest pean alati kontrollima, kas eelmine noot on noot või mitte.\n",
    "    while i != len(allInfo) and len(allInfo) != 0 and len(allInfo) != 1:\n",
    "        if allInfo[i-1].isNote and allInfo[i].isNote:\n",
    "            inter = interval.Interval(noteStart=allInfo[i-1], noteEnd=allInfo[i]).semitones\n",
    "            check_semitones(inter,intervals)\n",
    "            \n",
    "        i+=1\n",
    "    return intervals\n",
    "\n",
    "#Saame instrumentide nimed kätte partiidest\n",
    "def get_instruments(note):\n",
    "    lst=[]\n",
    "    for i in range (len(note)):\n",
    "        if 'partName' in note[i]:\n",
    "            lst.append(note[i].get('partName'))\n",
    "    return lst\n",
    "\n",
    "#Saame tõenäoliseima noodi helistiku\n",
    "def get_key(note):\n",
    "    lst=[]\n",
    "    for i in range (len(note)):\n",
    "        if 'key' in note[i]:\n",
    "            lst.append(note[i].get('key'))\n",
    "    if lst == []:\n",
    "        return \"Ei suutnud helistikku määrata.\"\n",
    "    else:\n",
    "        return str(max(set(lst), key = lst.count))\n",
    "    \n",
    "#Saame noodis esinevate taktide arvu\n",
    "def get_bars_count(note):\n",
    "    return len(note[1].get('measures'))\n",
    "\n",
    "#Saame kätte enimkasutatud nootide, intervallide jne info\n",
    "def get_elements_info(note, name):\n",
    "    intervalDict = {0:\"P0\", 1:\"v2\", 2:\"S2\",\n",
    "                    3:\"v3\", 4:\"S3\", 5:\"P4\", 6:\"Tritoon\",\n",
    "                    7:\"P5\", 8:\"v6\", 9:\"S6\", 10:\"v7\",\n",
    "                    11: \"S7\", 12:\"P8\"}\n",
    "    count= 0\n",
    "    mostUsed = \"Puudub\"\n",
    "    lst = []\n",
    "    for i in range(0,len(note)):\n",
    "        elements = note[i].get(name)\n",
    "        s = len(elements)\n",
    "        count+=s\n",
    "        lst+=elements\n",
    "    \n",
    "    if lst != []:\n",
    "        mostUsed = max(set(lst), key=lst.count)\n",
    "    if name==\"intervals\":\n",
    "        mostUsed = intervalDict.get(mostUsed)\n",
    "    \n",
    "    return (count, mostUsed)\n",
    "\n",
    "#Saame teada noodis olevate pauside protsentuaalse koguse\n",
    "def get_rests_info(note, name):\n",
    "    notesDur =0\n",
    "    restsDur =0\n",
    "    wholeDur =0\n",
    "    for elem in note:\n",
    "        if name in elem:\n",
    "            elements = elem.get(name)\n",
    "            notesDur+=elements[0]\n",
    "            restsDur+=elements[1]\n",
    "    wholeDur+= notesDur + restsDur\n",
    "    percent = (restsDur*100)/wholeDur\n",
    "    return str(round(percent,1))\n",
    "\n",
    "#Saame kätte noodi tempo\n",
    "def get_tempo(note):\n",
    "    return note[1].get('bpm')"
   ]
  },
  {
   "cell_type": "code",
   "execution_count": 7,
   "id": "347022d3",
   "metadata": {},
   "outputs": [],
   "source": [
    "# Analyze gives: \n",
    "# list[0] - sheet name\n",
    "# list [1] - info of the sheet and partList 1 (esimene rida)- CHECK the ALGORITHM\n",
    "# list [2] - info of the sheet and partList 2 (teine rida) - ainult meloodia noot, kui chordi ära ei arva.\n",
    "# list [3] - kõik noodid üldse kokku\n",
    "# list [4] - kõik intervallid üldse kokku"
   ]
  },
  {
   "cell_type": "markdown",
   "id": "58ed2f3b",
   "metadata": {},
   "source": [
    "## New algorithms \n",
    "\n",
    "Offset näitab mitmenda täislöögi indeksist takt algab (index 0, 1, 2....) Kui offset on 3, siis takt algab kogu noodistuse mõistes 3. löögist"
   ]
  },
  {
   "cell_type": "code",
   "execution_count": 8,
   "id": "8999dd86",
   "metadata": {},
   "outputs": [],
   "source": [
    "#Leiab kõik taktid ja takti sisu ning paneb need sõnastikku, sõnastikud lähevad listi\n",
    "def get_measure_info(part, partList):\n",
    "    measures = [] #List, kuhu lähevad measure dictid:\n",
    "    chords = []\n",
    "    rests = []\n",
    "    notes = []\n",
    "    allInfo = []\n",
    "    melNotes = []\n",
    "    notesDur = 0\n",
    "    restsDur = 0\n",
    "    for e in part.getElementsByClass('Measure'):\n",
    "        newMeasure = {}        \n",
    "        newMeasure[e.number] = list(e.notesAndRests.elements)\n",
    "        print(newMeasure)\n",
    "        measureInt =[]\n",
    "        if e.hasVoices():\n",
    "            for voice in e.getElementsByClass('Voice'):\n",
    "                for v in voice.elements:\n",
    "                    newMeasure[e.number].append(v)\n",
    "        for elem in newMeasure[e.number]:\n",
    "            if elem.isNote:\n",
    "                notes.append(elem.nameWithOctave)\n",
    "                notesDur+=elem.duration.quarterLength\n",
    "                allInfo.append(elem)\n",
    "                measureInt.append(elem)\n",
    "                melNotes.append(elem)\n",
    "            elif elem.isChord and '<music21.harmony.ChordSymbol' not in str(elem):\n",
    "                chords.append(elem.pitchedCommonName)\n",
    "                notesDur+=elem.duration.quarterLength\n",
    "                \n",
    "                #Takes the first note of the chords\n",
    "                measureInt.append(elem.notes[-1])\n",
    "                allInfo.append(elem.notes[-1])\n",
    "                melNotes.append(elem.notes[-1])\n",
    "                for c in elem.notes:\n",
    "                    notes.append(c.nameWithOctave)\n",
    "            elif elem.isRest:\n",
    "                restsDur+=elem.duration.quarterLength\n",
    "        newMeasure[e.number].append(measureInt) \n",
    "        measures.append(newMeasure)\n",
    "    rests.append(notesDur)\n",
    "    rests.append(restsDur)\n",
    "    partList['melodynotes'] = melNotes\n",
    "    partList['notes'] = notes\n",
    "    partList['chords'] = chords\n",
    "    partList['rests'] = rests\n",
    "    partList['intervals'] = find_intervals(allInfo)\n",
    "    \n",
    "    return measures"
   ]
  },
  {
   "cell_type": "code",
   "execution_count": 9,
   "id": "0dec368a",
   "metadata": {},
   "outputs": [],
   "source": [
    "def get_measure_and_notes(part):\n",
    "    measures = []\n",
    "    detailed_seq = [] #Whole note part sequence without meassure markings\n",
    "    for e in part.getElementsByClass('Measure'):\n",
    "        newMeasure = {}        \n",
    "        newMeasure[e.number] = list(e.notesAndRests.elements)\n",
    "        \n",
    "        for elem in newMeasure[e.number]:\n",
    "            off_s = elem.offset\n",
    "            if elem.isNote:\n",
    "                detailed_seq.append((e.number, str(elem.pitch.midi), elem.duration.quarterLength, off_s))\n",
    "                #detailed_seq.append(str(elem.nameWithOctave) + '_'+ str(elem.duration.quarterLength))\n",
    "                \n",
    "            elif elem.isChord and '<music21.harmony.ChordSymbol' not in str(elem):\n",
    "                notes = []\n",
    "                \n",
    "                for c in elem.notes:\n",
    "                \n",
    "                    notes.append((e.number, str(c.pitch.midi), c.duration.quarterLength, off_s))\n",
    "                detailed_seq.append(notes)\n",
    "            elif elem.isRest:\n",
    "                detailed_seq.append((e.number, str(elem.name) + '_'+ str(elem.duration.quarterLength)))\n",
    "        \n",
    "        measures.append(newMeasure)\n",
    "    #print(detailed_seq)\n",
    "    return detailed_seq\n"
   ]
  },
  {
   "cell_type": "markdown",
   "id": "5f61be4f",
   "metadata": {},
   "source": [
    "* Kuidas märkida muutuva taktimõõdu või muutuva tempo korral? Kõik taktimõõdud üle partii märgitakse üles.\n",
    "\n",
    "* Kuidas märkida parima tulemusega helistik? - Helistikke leitakse kahe algoritmiga, Krumhansl ja AardenEssen - kui tulemused on erinevad, siis pannakse mõlemad tabelisse sisse, kontroll sharpside osas ja teha n-ö 1. valik ja 2. valik\n",
    "\n",
    "* Tempo määramine - sõnastiku järgi kui on sõna, numbri järgi kui on number Checki mitmeid numbereid sõna vastu (sõnastik tempode märkidest\n",
    "\n",
    "\n",
    "\n",
    "MIDI = 64 -> MIDI TO NOTE -> note.Note(elem.pitch.midi).nameWithOctave (E4) - note type"
   ]
  },
  {
   "cell_type": "code",
   "execution_count": 10,
   "id": "ca87f00d",
   "metadata": {},
   "outputs": [],
   "source": [
    "def gather_part_info(note, noteName, note_id):\n",
    "    allNote = [] #Every part of the instrument is collected here\n",
    "    part_count = 1\n",
    "    for el in note.elements: #Iga part eraldi el = PartStaff\n",
    "        #Basic info\n",
    "        partList = {}\n",
    "        partList['note_id'] = note_id\n",
    "        partList['note_part_id'] = str(note_id) + \"_\" + str(part_count)\n",
    "        partList['sheet_name'] = noteName\n",
    "        partList['partName'] = el.partName \n",
    "        partList['sharps'] = el[1].keySignature.sharps #1. taktist saab helistiku märgid kätte.\n",
    "        partList['bpm'] = \"None\"\n",
    "        \n",
    "        part_count +=1\n",
    "        #Find the key\n",
    "        try:\n",
    "            if el.analyze('Krumhansl') == el.analyze('AardenEssen'):\n",
    "                partList['key'] = el.analyze('Krumhansl').name  #MusicXML enda tuvastusalgoritm (ei ole alati täpne)\n",
    "            else:\n",
    "                partList['key'] = str(el.analyze('Krumhansl').name) + \"  /  \" +  str(el.analyze('AardenEssen')) #TODO: Check against dictionary\n",
    "        except:\n",
    "            partList['key'] = \"None\"\n",
    "            \n",
    "        #Find time signature\n",
    "        time_signatures = []\n",
    "        for i in (el['TimeSignature']):\n",
    "            time_signatures.append(str(i.numerator) + '/' + str(i.denominator))\n",
    "        if len(set(time_signatures)) == 0:\n",
    "            partList['time_signature'] = \"None\"\n",
    "        elif len(set(time_signatures)) == 1:\n",
    "            partList['time_signature'] = time_signatures[0]\n",
    "        else:\n",
    "            partList['time_signature'] = set(time_signatures)\n",
    "        \n",
    "        #Find the Metronome\n",
    "        metronome = []\n",
    "        for i in el['MetronomeMark']: #TODO: Check against dictionary\n",
    "            metronome.append(str(i.number))\n",
    "        if len(set(metronome)) == 0:\n",
    "            partList['bpm (quarter note)'] = \"None\" #MuseScore gives a default of 120.\n",
    "        elif len(set(metronome)) == 1:\n",
    "            partList['bpm (quarter note)'] = metronome[0]\n",
    "        else:\n",
    "            partList['bpm (quarter note)'] = set(metronome)\n",
    "            \n",
    "        #Find the clef\n",
    "        partList['clef'] = el[1].clef.name\n",
    "        partList['measures'] = get_measure_and_notes(el)\n",
    "        #print(partList['measures'])\n",
    "        allNote.append(partList)\n",
    "    return allNote"
   ]
  },
  {
   "cell_type": "markdown",
   "id": "bab5092e",
   "metadata": {},
   "source": [
    "Sheets may have textboxes before the partstaffs.\n",
    "\n",
    "* sheet[0][0] - metadata\n",
    "\n",
    "* sheet[1] -> 1.partStaff\n",
    "* sheet[1][1] -> 1. partStaff 1. measure\n",
    "* sheet[1][1][1] -> 1. partStaff 1. measure 'SystemLayout' \n",
    "* sheet[1][1][1] -> 1. partStaff 1. measure 'Trebleclef' \n",
    "* sheet[1][1][2] -> 1. partStaff 1. measure 'Keysignature'\n",
    "* sheet[1][1][3] -> 1. partStaff 1. measure 'Timesignature'\n",
    "* sheet[1][1][4] -> 1. partStaff 1. measure First Note / Chord\n",
    "    - If chord then\n",
    "      *   sheet[1][1][4][0] -> 1. partStaff 1. measure First Note, lower note\n",
    "      *   sheet[1][1][4][1] -> 1. partStaff 1. measure First Note, upper note"
   ]
  },
  {
   "cell_type": "markdown",
   "id": "d6ee845b",
   "metadata": {},
   "source": [
    "* len(c.flatten().getElementsByClass(chord.Chord)) - get all the chord elements of entire sheet\n",
    "* len(c.flatten().getElementsByClass(note.Note)) - get all the note elements of entire sheet (no chord notes)"
   ]
  },
  {
   "cell_type": "markdown",
   "id": "f13271ab",
   "metadata": {},
   "source": [
    "### Change key of the note (or part)"
   ]
  },
  {
   "cell_type": "code",
   "execution_count": 11,
   "id": "f06b0f44",
   "metadata": {},
   "outputs": [],
   "source": [
    "#Change all keys to either a-minor or C-major\n",
    "def key_change_to_base(note): \n",
    "    \n",
    "    k = note.analyze('key')\n",
    "    \n",
    "    if 'major' in str(k):\n",
    "        i = interval.Interval(k.tonic, pitch.Pitch('c'))\n",
    "    else:\n",
    "        i = interval.Interval(k.tonic, pitch.Pitch('a'))\n",
    "    sNew = note.transpose(i)\n",
    "    kNew = sNew.analyze('key')\n",
    "    \n",
    "    return sNew\n"
   ]
  },
  {
   "cell_type": "markdown",
   "id": "d1f5a4c0",
   "metadata": {},
   "source": [
    "### Default playback tempo is 120, always TODO: How to change?"
   ]
  },
  {
   "cell_type": "code",
   "execution_count": 12,
   "id": "8e341593",
   "metadata": {},
   "outputs": [],
   "source": [
    "#s.show('midi')"
   ]
  },
  {
   "cell_type": "markdown",
   "id": "f06e768e",
   "metadata": {},
   "source": [
    "# Building the dataframe for sheet note information\n",
    "\n",
    "### measures - [a,b,c,d]\n",
    "\n",
    "* a - measure nr.\n",
    "* b - MIDI mark of the note (can get note pitch and note octave from it)\n",
    "* c - duration of the note\n",
    "* d - float = offbeat, integer = on-beat."
   ]
  },
  {
   "cell_type": "markdown",
   "id": "7c59b084",
   "metadata": {},
   "source": [
    "### Removing off-beat of the note sheet.\n",
    "\n",
    "Every note/chord that doesn't land in the beat is removed. "
   ]
  },
  {
   "cell_type": "code",
   "execution_count": 14,
   "id": "5fb29429",
   "metadata": {},
   "outputs": [],
   "source": [
    "#REMOVE RESTS BEFORE REMOVING OFFBEAT\n",
    "\n",
    "from itertools import groupby\n",
    "\n",
    "def remove_rests(lst):\n",
    "    for elem in lst:\n",
    "        if 'rest_' in elem[1]:\n",
    "            lst.remove(elem)\n",
    "    return lst\n",
    "\n",
    "def remove_offbeat(lst):\n",
    "    lst_new = remove_rests(lst)\n",
    "    \n",
    "    new_lst = []\n",
    "    for elem in lst_new:\n",
    "        \n",
    "        if isinstance(elem, list):\n",
    "            if elem[0][-1].is_integer():\n",
    "                new_lst.append(elem)\n",
    "        else:\n",
    "            if type(elem[-1]) == str:\n",
    "                lst_new.remove(elem)\n",
    "            else:\n",
    "                if elem[-1].is_integer():\n",
    "                    new_lst.append(elem)\n",
    "\n",
    "    return new_lst\n",
    "\n",
    "\n",
    "def remove_repetitive_notes(lst):\n",
    "    \n",
    "    return [x[0] for x in groupby(lst)]\n"
   ]
  },
  {
   "cell_type": "code",
   "execution_count": 15,
   "id": "7cf6dcfc",
   "metadata": {},
   "outputs": [],
   "source": [
    "lst = []\n",
    "\n",
    "def construct_strings(n, if_rest, if_chords, m, o, offset, repetition):\n",
    "    lst = []\n",
    "    if offset == False: \n",
    "        n = remove_offbeat(n)\n",
    "    for i in n:\n",
    "        if if_rest == False:\n",
    "            if 'rest' in i[1]:\n",
    "                continue #skipping rests\n",
    "        if isinstance(i, list):\n",
    "            if if_chords == False: #Takes the first note of the chord into account\n",
    "                elem = i[0][m:o]\n",
    "                s = ' '.join(map(str,elem))\n",
    "                lst.append(s)\n",
    "            else: #Takes the whole chord into account\n",
    "                cover_lst = []\n",
    "                for elem in i:\n",
    "\n",
    "                    elem = elem[m:3]\n",
    "                    cover_lst.append(elem)\n",
    "                s = ' '.join(map(str,cover_lst))\n",
    "                lst.append(s)\n",
    "        else:\n",
    "            if 'rest' in i[1]:\n",
    "                i = i[m:2]\n",
    "                s = ' '.join(map(str,i))\n",
    "                lst.append(s)\n",
    "            else:\n",
    "                i = i[m:o]\n",
    "                s = ' '.join(map(str,i))\n",
    "                lst.append(s)\n",
    "    if repetition:\n",
    "        lst = remove_repetitive_notes(lst)\n",
    "    return lst\n",
    "\n",
    "\n",
    "#For [3] and [4]\n",
    "# 0 - if measure nr IS taken into account\n",
    "# 1 - if measure nr is NOT taken into account\n",
    "# 2 - if note duration is NOT taken into account\n",
    "# 3 - if note duration IS taken into account\n",
    "\n",
    "\n",
    "#a = construct_strings(df['measures'][0], False, True, 0, 3, True, True) \n",
    "#b = construct_strings(df['measures'][1], False, True, 0, 3, True)\n"
   ]
  },
  {
   "cell_type": "code",
   "execution_count": 16,
   "id": "3760c69b",
   "metadata": {},
   "outputs": [
    {
     "ename": "NameError",
     "evalue": "name 'a' is not defined",
     "output_type": "error",
     "traceback": [
      "\u001b[1;31m---------------------------------------------------------------------------\u001b[0m",
      "\u001b[1;31mNameError\u001b[0m                                 Traceback (most recent call last)",
      "\u001b[1;32m~\\AppData\\Local\\Temp/ipykernel_13372/3766435423.py\u001b[0m in \u001b[0;36m<module>\u001b[1;34m\u001b[0m\n\u001b[0;32m      1\u001b[0m \u001b[1;32mfrom\u001b[0m \u001b[0mitertools\u001b[0m \u001b[1;32mimport\u001b[0m \u001b[0mgroupby\u001b[0m\u001b[1;33m\u001b[0m\u001b[1;33m\u001b[0m\u001b[0m\n\u001b[1;32m----> 2\u001b[1;33m \u001b[0mlst\u001b[0m \u001b[1;33m=\u001b[0m\u001b[1;33m[\u001b[0m\u001b[0mx\u001b[0m\u001b[1;33m[\u001b[0m\u001b[1;36m0\u001b[0m\u001b[1;33m]\u001b[0m \u001b[1;32mfor\u001b[0m \u001b[0mx\u001b[0m \u001b[1;32min\u001b[0m \u001b[0mgroupby\u001b[0m\u001b[1;33m(\u001b[0m\u001b[0ma\u001b[0m\u001b[1;33m)\u001b[0m\u001b[1;33m]\u001b[0m\u001b[1;33m\u001b[0m\u001b[1;33m\u001b[0m\u001b[0m\n\u001b[0m\u001b[0;32m      3\u001b[0m \u001b[0mprint\u001b[0m\u001b[1;33m(\u001b[0m\u001b[0mlen\u001b[0m\u001b[1;33m(\u001b[0m\u001b[0mlst\u001b[0m\u001b[1;33m)\u001b[0m\u001b[1;33m)\u001b[0m\u001b[1;33m\u001b[0m\u001b[1;33m\u001b[0m\u001b[0m\n\u001b[0;32m      4\u001b[0m \u001b[0mprint\u001b[0m\u001b[1;33m(\u001b[0m\u001b[0mlst\u001b[0m\u001b[1;33m)\u001b[0m\u001b[1;33m\u001b[0m\u001b[1;33m\u001b[0m\u001b[0m\n",
      "\u001b[1;31mNameError\u001b[0m: name 'a' is not defined"
     ]
    }
   ],
   "source": [
    "from itertools import groupby\n",
    "lst =[x[0] for x in groupby(a)]\n",
    "print(len(lst))\n",
    "print(lst)"
   ]
  },
  {
   "cell_type": "markdown",
   "id": "d47aa986",
   "metadata": {},
   "source": [
    "## N-GRAM\n",
    "\n",
    "#### Ukkonen measure?"
   ]
  },
  {
   "cell_type": "code",
   "execution_count": 17,
   "id": "da83326e",
   "metadata": {},
   "outputs": [],
   "source": [
    "def generate_ngrams(s, n):\n",
    "    # Use the zip function to help us generate n-grams\n",
    "    # Concatentate the tokens into ngrams and return\n",
    "    ngrams = zip(*[s[i:] for i in range(n)])\n",
    "    return [ngram for ngram in ngrams]"
   ]
  },
  {
   "cell_type": "markdown",
   "id": "d5afaa87",
   "metadata": {},
   "source": [
    "## Jaccard similarity\n",
    "The Jaccard Index, also known as the Jaccard similarity coefficient, is a statistic used in understanding the similarities between sample sets. The measurement emphasizes similarity between finite sample sets, and is formally defined as the size of the intersection divided by the size of the union of the sample sets. "
   ]
  },
  {
   "cell_type": "code",
   "execution_count": 20,
   "id": "f092f66a",
   "metadata": {},
   "outputs": [],
   "source": [
    "# Get Tuple algorithms \n",
    "import re\n",
    "import math\n",
    "import numpy as np\n",
    "from itertools import chain\n",
    "from collections import Counter\n",
    "import nltk\n",
    "from nltk.util import ngrams # This is the ngram magic.\n",
    "\n",
    "def jaccard_distance(a, b):\n",
    "    \"\"\"Calculate the jaccard distance between sets A and B\"\"\"\n",
    "    intersection = len(list(set(a).intersection(b)))\n",
    "    union = (len(set(a)) + len(set(b))) - intersection\n",
    "    return float(intersection) / union\n"
   ]
  },
  {
   "cell_type": "code",
   "execution_count": 21,
   "id": "5b62ec5b",
   "metadata": {},
   "outputs": [
    {
     "ename": "SyntaxError",
     "evalue": "unexpected EOF while parsing (Temp/ipykernel_13372/2132400879.py, line 1)",
     "output_type": "error",
     "traceback": [
      "\u001b[1;36m  File \u001b[1;32m\"C:\\Users\\Lleis\\AppData\\Local\\Temp/ipykernel_13372/2132400879.py\"\u001b[1;36m, line \u001b[1;32m1\u001b[0m\n\u001b[1;33m    print(\"Jaccard: {}\".format(jaccard_distance(a_gram,b_gram))\u001b[0m\n\u001b[1;37m                                                               ^\u001b[0m\n\u001b[1;31mSyntaxError\u001b[0m\u001b[1;31m:\u001b[0m unexpected EOF while parsing\n"
     ]
    }
   ],
   "source": [
    "print(\"Jaccard: {}\".format(jaccard_distance(a_gram,b_gram))"
   ]
  },
  {
   "cell_type": "markdown",
   "id": "7c356152",
   "metadata": {},
   "source": [
    "## Jaro similarity\n",
    "Jaro Similarity is the measure of similarity between two strings. The value of Jaro distance ranges from 0 to 1. where 1 means the strings are equal and 0 means no similarity between the two strings. "
   ]
  },
  {
   "cell_type": "code",
   "execution_count": null,
   "id": "c70217f2",
   "metadata": {},
   "outputs": [],
   "source": [
    "# Python3 implementation of above approach\n",
    "from math import floor, ceil\n",
    " \n",
    "# Function to calculate the\n",
    "# Jaro Similarity of two s\n",
    "def jaro_distance(s1, s2):\n",
    "     \n",
    "    # If the s are equal\n",
    "    if (s1 == s2):\n",
    "        return 1.0\n",
    " \n",
    "    # Length of two s\n",
    "    len1 = len(s1)\n",
    "    len2 = len(s2)\n",
    " \n",
    "    # Maximum distance upto which matching\n",
    "    # is allowed\n",
    "    max_dist = floor(max(len1, len2) / 2) - 1\n",
    " \n",
    "    # Count of matches\n",
    "    match = 0\n",
    " \n",
    "    # Hash for matches\n",
    "    hash_s1 = [0] * len(s1)\n",
    "    hash_s2 = [0] * len(s2)\n",
    " \n",
    "    # Traverse through the first\n",
    "    for i in range(len1):\n",
    " \n",
    "        # Check if there is any matches\n",
    "        for j in range(max(0, i - max_dist),\n",
    "                       min(len2, i + max_dist + 1)):\n",
    "             \n",
    "            # If there is a match\n",
    "            if (s1[i] == s2[j] and hash_s2[j] == 0):\n",
    "                hash_s1[i] = 1\n",
    "                hash_s2[j] = 1\n",
    "                match += 1\n",
    "                break\n",
    " \n",
    "    # If there is no match\n",
    "    if (match == 0):\n",
    "        return 0.0\n",
    " \n",
    "    # Number of transpositions\n",
    "    t = 0\n",
    "    point = 0\n",
    " \n",
    "    # Count number of occurrences\n",
    "    # where two characters match but\n",
    "    # there is a third matched character\n",
    "    # in between the indices\n",
    "    for i in range(len1):\n",
    "        if (hash_s1[i]):\n",
    " \n",
    "            # Find the next matched character\n",
    "            # in second\n",
    "            while (hash_s2[point] == 0):\n",
    "                point += 1\n",
    " \n",
    "            if (s1[i] != s2[point]):\n",
    "                t += 1\n",
    "            point += 1\n",
    "    t = t//2\n",
    " \n",
    "    # Return the Jaro Similarity\n",
    "    return (match/ len1 + match / len2 +\n",
    "            (match - t) / match)/ 3.0\n",
    " \n",
    " \n",
    "# Prjaro Similarity of two s\n",
    "print(round(jaro_distance(a_gram, b_gram),6))\n",
    " \n",
    "# This code is contributed by mohit kumar 29"
   ]
  },
  {
   "cell_type": "code",
   "execution_count": 22,
   "id": "3a2ec216",
   "metadata": {},
   "outputs": [],
   "source": [
    "from difflib import SequenceMatcher\n",
    "\n",
    "def match_seq(list1,list2):\n",
    "    output=[]\n",
    "    s = SequenceMatcher(None, list1, list2)\n",
    "    blocks=s.get_matching_blocks()\n",
    "    for bl in blocks:\n",
    "        for bi in range(bl.size):\n",
    "            cur_a=bl.a+bi\n",
    "            cur_b=bl.b+bi\n",
    "            output.append((cur_a,cur_b))\n",
    "    return output\n"
   ]
  },
  {
   "cell_type": "markdown",
   "id": "13e7ff24",
   "metadata": {},
   "source": [
    "# Bach's corpus (last index is 412)\n",
    "### (.krn file is HUMDRUM tool KERN file - these files are not included)"
   ]
  },
  {
   "cell_type": "code",
   "execution_count": 23,
   "id": "9bacb86a",
   "metadata": {},
   "outputs": [],
   "source": [
    "from music21 import corpus\n",
    "from pathlib import Path  \n",
    "\n",
    "paths = corpus.getComposer('bach')\n",
    "\n",
    "\n",
    "\n",
    "c3 = converter.parse(r'C:\\Users\\Lleis\\Documents\\SCHOOL\\digimagister\\digital_sheet_music_analysis\\musicxml notes\\bond3.musicxml')\n",
    "partStream2 = c3.parts.stream()\n",
    "note_info2= gather_part_info(partStream2, 'bond', 2)\n",
    "\n",
    "#Add first note to the dataframe to create it\n",
    "df = pd.DataFrame(note_info2)\n",
    "\n",
    "list_of_music = []\n",
    "paths = corpus.getComposer('bach')\n",
    "for i in paths:\n",
    "    list_of_music.append(i.name)\n",
    "\n",
    "test = list_of_music[0:413]\n",
    "\n",
    "for note in test:\n",
    "    if '.mxl' in note:\n",
    "        s = corpus.parse('bach/' + note)\n",
    "\n",
    "        partStream2 = s.parts.stream()\n",
    "        idx = df['note_id'].iloc[-1]\n",
    "\n",
    "        note_info2= gather_part_info(partStream2, note, idx+1)\n",
    "        df_new = pd.DataFrame(note_info2)\n",
    "\n",
    "        df = df.append(df_new, ignore_index = True)\n"
   ]
  },
  {
   "cell_type": "code",
   "execution_count": 24,
   "id": "db42203d",
   "metadata": {},
   "outputs": [
    {
     "data": {
      "text/html": [
       "<div>\n",
       "<style scoped>\n",
       "    .dataframe tbody tr th:only-of-type {\n",
       "        vertical-align: middle;\n",
       "    }\n",
       "\n",
       "    .dataframe tbody tr th {\n",
       "        vertical-align: top;\n",
       "    }\n",
       "\n",
       "    .dataframe thead th {\n",
       "        text-align: right;\n",
       "    }\n",
       "</style>\n",
       "<table border=\"1\" class=\"dataframe\">\n",
       "  <thead>\n",
       "    <tr style=\"text-align: right;\">\n",
       "      <th></th>\n",
       "      <th>note_id</th>\n",
       "      <th>note_part_id</th>\n",
       "      <th>sheet_name</th>\n",
       "      <th>partName</th>\n",
       "      <th>sharps</th>\n",
       "      <th>bpm</th>\n",
       "      <th>key</th>\n",
       "      <th>time_signature</th>\n",
       "      <th>bpm (quarter note)</th>\n",
       "      <th>clef</th>\n",
       "      <th>measures</th>\n",
       "    </tr>\n",
       "  </thead>\n",
       "  <tbody>\n",
       "    <tr>\n",
       "      <th>0</th>\n",
       "      <td>2</td>\n",
       "      <td>2_1</td>\n",
       "      <td>bond</td>\n",
       "      <td>Piano</td>\n",
       "      <td>2</td>\n",
       "      <td>None</td>\n",
       "      <td>B minor</td>\n",
       "      <td>4/4</td>\n",
       "      <td>72.0</td>\n",
       "      <td>treble</td>\n",
       "      <td>[(1, 59, 0.5, 0.0), (1, 66, 0.5, 0.5), (1, 61,...</td>\n",
       "    </tr>\n",
       "    <tr>\n",
       "      <th>1</th>\n",
       "      <td>2</td>\n",
       "      <td>2_2</td>\n",
       "      <td>bond</td>\n",
       "      <td>Piano</td>\n",
       "      <td>2</td>\n",
       "      <td>None</td>\n",
       "      <td>B minor</td>\n",
       "      <td>4/4</td>\n",
       "      <td>72.0</td>\n",
       "      <td>bass</td>\n",
       "      <td>[[(1, 35, 3.0, 0.0), (1, 47, 3.0, 0.0)], (1, 7...</td>\n",
       "    </tr>\n",
       "    <tr>\n",
       "      <th>2</th>\n",
       "      <td>3</td>\n",
       "      <td>3_1</td>\n",
       "      <td>bwv1.6.mxl</td>\n",
       "      <td>Horn 2</td>\n",
       "      <td>-1</td>\n",
       "      <td>None</td>\n",
       "      <td>F major</td>\n",
       "      <td>4/4</td>\n",
       "      <td>None</td>\n",
       "      <td>treble</td>\n",
       "      <td>[(0, 65, 1.0, 0.0), (1, 67, 0.5, 0.0), (1, 60,...</td>\n",
       "    </tr>\n",
       "    <tr>\n",
       "      <th>3</th>\n",
       "      <td>3</td>\n",
       "      <td>3_2</td>\n",
       "      <td>bwv1.6.mxl</td>\n",
       "      <td>Soprano</td>\n",
       "      <td>-1</td>\n",
       "      <td>None</td>\n",
       "      <td>F major</td>\n",
       "      <td>4/4</td>\n",
       "      <td>None</td>\n",
       "      <td>treble</td>\n",
       "      <td>[(0, 65, 1.0, 0.0), (1, 72, 1.0, 0.0), (1, 69,...</td>\n",
       "    </tr>\n",
       "    <tr>\n",
       "      <th>4</th>\n",
       "      <td>3</td>\n",
       "      <td>3_3</td>\n",
       "      <td>bwv1.6.mxl</td>\n",
       "      <td>Alto</td>\n",
       "      <td>-1</td>\n",
       "      <td>None</td>\n",
       "      <td>F major</td>\n",
       "      <td>4/4</td>\n",
       "      <td>None</td>\n",
       "      <td>treble</td>\n",
       "      <td>[(0, 60, 1.0, 0.0), (1, 60, 1.0, 0.0), (1, 60,...</td>\n",
       "    </tr>\n",
       "    <tr>\n",
       "      <th>...</th>\n",
       "      <td>...</td>\n",
       "      <td>...</td>\n",
       "      <td>...</td>\n",
       "      <td>...</td>\n",
       "      <td>...</td>\n",
       "      <td>...</td>\n",
       "      <td>...</td>\n",
       "      <td>...</td>\n",
       "      <td>...</td>\n",
       "      <td>...</td>\n",
       "      <td>...</td>\n",
       "    </tr>\n",
       "    <tr>\n",
       "      <th>1752</th>\n",
       "      <td>409</td>\n",
       "      <td>409_7</td>\n",
       "      <td>bwv97.9.mxl</td>\n",
       "      <td>Bass</td>\n",
       "      <td>-2</td>\n",
       "      <td>None</td>\n",
       "      <td>B- major</td>\n",
       "      <td>4/4</td>\n",
       "      <td>None</td>\n",
       "      <td>bass</td>\n",
       "      <td>[(0, 46, 1.0, 0.0), (1, 58, 1.0, 0.0), (1, 57,...</td>\n",
       "    </tr>\n",
       "    <tr>\n",
       "      <th>1753</th>\n",
       "      <td>410</td>\n",
       "      <td>410_1</td>\n",
       "      <td>bwv99.6.mxl</td>\n",
       "      <td>Soprano</td>\n",
       "      <td>1</td>\n",
       "      <td>None</td>\n",
       "      <td>D major  /  G major</td>\n",
       "      <td>4/4</td>\n",
       "      <td>None</td>\n",
       "      <td>treble</td>\n",
       "      <td>[(0, 62, 1.0, 0.0), (1, 67, 1.0, 0.0), (1, 69,...</td>\n",
       "    </tr>\n",
       "    <tr>\n",
       "      <th>1754</th>\n",
       "      <td>410</td>\n",
       "      <td>410_2</td>\n",
       "      <td>bwv99.6.mxl</td>\n",
       "      <td>Alto</td>\n",
       "      <td>1</td>\n",
       "      <td>None</td>\n",
       "      <td>G major  /  D major</td>\n",
       "      <td>4/4</td>\n",
       "      <td>None</td>\n",
       "      <td>treble</td>\n",
       "      <td>[(0, 59, 0.5, 0.0), (0, 60, 0.5, 0.5), (1, 62,...</td>\n",
       "    </tr>\n",
       "    <tr>\n",
       "      <th>1755</th>\n",
       "      <td>410</td>\n",
       "      <td>410_3</td>\n",
       "      <td>bwv99.6.mxl</td>\n",
       "      <td>Tenor</td>\n",
       "      <td>1</td>\n",
       "      <td>None</td>\n",
       "      <td>B minor  /  G major</td>\n",
       "      <td>4/4</td>\n",
       "      <td>None</td>\n",
       "      <td>bass</td>\n",
       "      <td>[(0, 55, 0.5, 0.0), (0, 57, 0.5, 0.5), (1, 59,...</td>\n",
       "    </tr>\n",
       "    <tr>\n",
       "      <th>1756</th>\n",
       "      <td>410</td>\n",
       "      <td>410_4</td>\n",
       "      <td>bwv99.6.mxl</td>\n",
       "      <td>Bass</td>\n",
       "      <td>1</td>\n",
       "      <td>None</td>\n",
       "      <td>G major</td>\n",
       "      <td>4/4</td>\n",
       "      <td>None</td>\n",
       "      <td>bass</td>\n",
       "      <td>[(0, 43, 1.0, 0.0), (1, 55, 1.0, 0.0), (1, 54,...</td>\n",
       "    </tr>\n",
       "  </tbody>\n",
       "</table>\n",
       "<p>1757 rows × 11 columns</p>\n",
       "</div>"
      ],
      "text/plain": [
       "      note_id note_part_id   sheet_name partName  sharps   bpm  \\\n",
       "0           2          2_1         bond    Piano       2  None   \n",
       "1           2          2_2         bond    Piano       2  None   \n",
       "2           3          3_1   bwv1.6.mxl   Horn 2      -1  None   \n",
       "3           3          3_2   bwv1.6.mxl  Soprano      -1  None   \n",
       "4           3          3_3   bwv1.6.mxl     Alto      -1  None   \n",
       "...       ...          ...          ...      ...     ...   ...   \n",
       "1752      409        409_7  bwv97.9.mxl     Bass      -2  None   \n",
       "1753      410        410_1  bwv99.6.mxl  Soprano       1  None   \n",
       "1754      410        410_2  bwv99.6.mxl     Alto       1  None   \n",
       "1755      410        410_3  bwv99.6.mxl    Tenor       1  None   \n",
       "1756      410        410_4  bwv99.6.mxl     Bass       1  None   \n",
       "\n",
       "                      key time_signature bpm (quarter note)    clef  \\\n",
       "0                 B minor            4/4               72.0  treble   \n",
       "1                 B minor            4/4               72.0    bass   \n",
       "2                 F major            4/4               None  treble   \n",
       "3                 F major            4/4               None  treble   \n",
       "4                 F major            4/4               None  treble   \n",
       "...                   ...            ...                ...     ...   \n",
       "1752             B- major            4/4               None    bass   \n",
       "1753  D major  /  G major            4/4               None  treble   \n",
       "1754  G major  /  D major            4/4               None  treble   \n",
       "1755  B minor  /  G major            4/4               None    bass   \n",
       "1756              G major            4/4               None    bass   \n",
       "\n",
       "                                               measures  \n",
       "0     [(1, 59, 0.5, 0.0), (1, 66, 0.5, 0.5), (1, 61,...  \n",
       "1     [[(1, 35, 3.0, 0.0), (1, 47, 3.0, 0.0)], (1, 7...  \n",
       "2     [(0, 65, 1.0, 0.0), (1, 67, 0.5, 0.0), (1, 60,...  \n",
       "3     [(0, 65, 1.0, 0.0), (1, 72, 1.0, 0.0), (1, 69,...  \n",
       "4     [(0, 60, 1.0, 0.0), (1, 60, 1.0, 0.0), (1, 60,...  \n",
       "...                                                 ...  \n",
       "1752  [(0, 46, 1.0, 0.0), (1, 58, 1.0, 0.0), (1, 57,...  \n",
       "1753  [(0, 62, 1.0, 0.0), (1, 67, 1.0, 0.0), (1, 69,...  \n",
       "1754  [(0, 59, 0.5, 0.0), (0, 60, 0.5, 0.5), (1, 62,...  \n",
       "1755  [(0, 55, 0.5, 0.0), (0, 57, 0.5, 0.5), (1, 59,...  \n",
       "1756  [(0, 43, 1.0, 0.0), (1, 55, 1.0, 0.0), (1, 54,...  \n",
       "\n",
       "[1757 rows x 11 columns]"
      ]
     },
     "execution_count": 24,
     "metadata": {},
     "output_type": "execute_result"
    }
   ],
   "source": [
    "df"
   ]
  },
  {
   "cell_type": "markdown",
   "id": "9c980605",
   "metadata": {},
   "source": [
    "## Convert the notes to same key"
   ]
  },
  {
   "cell_type": "code",
   "execution_count": 25,
   "id": "5f4e1e67",
   "metadata": {},
   "outputs": [],
   "source": [
    "c3 = converter.parse(r'C:\\Users\\Lleis\\Documents\\SCHOOL\\digimagister\\digital_sheet_music_analysis\\musicxml notes\\bond3.musicxml')\n",
    "partStream2 = c3.parts.stream()\n",
    "note_info2= gather_part_info(partStream2, 'bond', 2)\n",
    "df_base = pd.DataFrame(note_info2)\n",
    "\n",
    "\n",
    "list_of_music = []\n",
    "paths = corpus.getComposer('bach')\n",
    "for i in paths:\n",
    "    list_of_music.append(i.name)\n",
    "\n",
    "test = list_of_music[0:413] #it is the last index of Bach corpus\n",
    "\n",
    "for n in test:\n",
    "    if '.mxl' in n:\n",
    "        s = corpus.parse('bach/' + n)\n",
    "        sNew = key_change_to_base(s)\n",
    "        partStream2 = sNew.parts.stream()\n",
    "        idx = df_base['note_id'].iloc[-1]\n",
    "\n",
    "        note_info2= gather_part_info(partStream2, n, idx+1)\n",
    "        df_new = pd.DataFrame(note_info2)\n",
    "\n",
    "        df_base = df_base.append(df_new, ignore_index = True)"
   ]
  },
  {
   "cell_type": "code",
   "execution_count": 26,
   "id": "7d29870a",
   "metadata": {},
   "outputs": [
    {
     "data": {
      "text/html": [
       "<div>\n",
       "<style scoped>\n",
       "    .dataframe tbody tr th:only-of-type {\n",
       "        vertical-align: middle;\n",
       "    }\n",
       "\n",
       "    .dataframe tbody tr th {\n",
       "        vertical-align: top;\n",
       "    }\n",
       "\n",
       "    .dataframe thead th {\n",
       "        text-align: right;\n",
       "    }\n",
       "</style>\n",
       "<table border=\"1\" class=\"dataframe\">\n",
       "  <thead>\n",
       "    <tr style=\"text-align: right;\">\n",
       "      <th></th>\n",
       "      <th>note_id</th>\n",
       "      <th>note_part_id</th>\n",
       "      <th>sheet_name</th>\n",
       "      <th>partName</th>\n",
       "      <th>sharps</th>\n",
       "      <th>bpm</th>\n",
       "      <th>key</th>\n",
       "      <th>time_signature</th>\n",
       "      <th>bpm (quarter note)</th>\n",
       "      <th>clef</th>\n",
       "      <th>measures</th>\n",
       "    </tr>\n",
       "  </thead>\n",
       "  <tbody>\n",
       "    <tr>\n",
       "      <th>0</th>\n",
       "      <td>2</td>\n",
       "      <td>2_1</td>\n",
       "      <td>bond</td>\n",
       "      <td>Piano</td>\n",
       "      <td>2</td>\n",
       "      <td>None</td>\n",
       "      <td>B minor</td>\n",
       "      <td>4/4</td>\n",
       "      <td>72.0</td>\n",
       "      <td>treble</td>\n",
       "      <td>[(1, 59, 0.5, 0.0), (1, 66, 0.5, 0.5), (1, 61,...</td>\n",
       "    </tr>\n",
       "    <tr>\n",
       "      <th>1</th>\n",
       "      <td>2</td>\n",
       "      <td>2_2</td>\n",
       "      <td>bond</td>\n",
       "      <td>Piano</td>\n",
       "      <td>2</td>\n",
       "      <td>None</td>\n",
       "      <td>B minor</td>\n",
       "      <td>4/4</td>\n",
       "      <td>72.0</td>\n",
       "      <td>bass</td>\n",
       "      <td>[[(1, 35, 3.0, 0.0), (1, 47, 3.0, 0.0)], (1, 7...</td>\n",
       "    </tr>\n",
       "    <tr>\n",
       "      <th>2</th>\n",
       "      <td>3</td>\n",
       "      <td>3_1</td>\n",
       "      <td>bwv1.6.mxl</td>\n",
       "      <td>Horn 2</td>\n",
       "      <td>0</td>\n",
       "      <td>None</td>\n",
       "      <td>C major</td>\n",
       "      <td>4/4</td>\n",
       "      <td>None</td>\n",
       "      <td>treble</td>\n",
       "      <td>[(0, 60, 1.0, 0.0), (1, 62, 0.5, 0.0), (1, 55,...</td>\n",
       "    </tr>\n",
       "    <tr>\n",
       "      <th>3</th>\n",
       "      <td>3</td>\n",
       "      <td>3_2</td>\n",
       "      <td>bwv1.6.mxl</td>\n",
       "      <td>Soprano</td>\n",
       "      <td>0</td>\n",
       "      <td>None</td>\n",
       "      <td>C major</td>\n",
       "      <td>4/4</td>\n",
       "      <td>None</td>\n",
       "      <td>treble</td>\n",
       "      <td>[(0, 60, 1.0, 0.0), (1, 67, 1.0, 0.0), (1, 64,...</td>\n",
       "    </tr>\n",
       "    <tr>\n",
       "      <th>4</th>\n",
       "      <td>3</td>\n",
       "      <td>3_3</td>\n",
       "      <td>bwv1.6.mxl</td>\n",
       "      <td>Alto</td>\n",
       "      <td>0</td>\n",
       "      <td>None</td>\n",
       "      <td>C major</td>\n",
       "      <td>4/4</td>\n",
       "      <td>None</td>\n",
       "      <td>treble</td>\n",
       "      <td>[(0, 55, 1.0, 0.0), (1, 55, 1.0, 0.0), (1, 55,...</td>\n",
       "    </tr>\n",
       "    <tr>\n",
       "      <th>...</th>\n",
       "      <td>...</td>\n",
       "      <td>...</td>\n",
       "      <td>...</td>\n",
       "      <td>...</td>\n",
       "      <td>...</td>\n",
       "      <td>...</td>\n",
       "      <td>...</td>\n",
       "      <td>...</td>\n",
       "      <td>...</td>\n",
       "      <td>...</td>\n",
       "      <td>...</td>\n",
       "    </tr>\n",
       "    <tr>\n",
       "      <th>1752</th>\n",
       "      <td>409</td>\n",
       "      <td>409_7</td>\n",
       "      <td>bwv97.9.mxl</td>\n",
       "      <td>Bass</td>\n",
       "      <td>0</td>\n",
       "      <td>None</td>\n",
       "      <td>C major</td>\n",
       "      <td>4/4</td>\n",
       "      <td>None</td>\n",
       "      <td>bass</td>\n",
       "      <td>[(0, 36, 1.0, 0.0), (1, 48, 1.0, 0.0), (1, 47,...</td>\n",
       "    </tr>\n",
       "    <tr>\n",
       "      <th>1753</th>\n",
       "      <td>410</td>\n",
       "      <td>410_1</td>\n",
       "      <td>bwv99.6.mxl</td>\n",
       "      <td>Soprano</td>\n",
       "      <td>0</td>\n",
       "      <td>None</td>\n",
       "      <td>G major  /  C major</td>\n",
       "      <td>4/4</td>\n",
       "      <td>None</td>\n",
       "      <td>treble</td>\n",
       "      <td>[(0, 55, 1.0, 0.0), (1, 60, 1.0, 0.0), (1, 62,...</td>\n",
       "    </tr>\n",
       "    <tr>\n",
       "      <th>1754</th>\n",
       "      <td>410</td>\n",
       "      <td>410_2</td>\n",
       "      <td>bwv99.6.mxl</td>\n",
       "      <td>Alto</td>\n",
       "      <td>0</td>\n",
       "      <td>None</td>\n",
       "      <td>C major  /  G major</td>\n",
       "      <td>4/4</td>\n",
       "      <td>None</td>\n",
       "      <td>treble</td>\n",
       "      <td>[(0, 52, 0.5, 0.0), (0, 53, 0.5, 0.5), (1, 55,...</td>\n",
       "    </tr>\n",
       "    <tr>\n",
       "      <th>1755</th>\n",
       "      <td>410</td>\n",
       "      <td>410_3</td>\n",
       "      <td>bwv99.6.mxl</td>\n",
       "      <td>Tenor</td>\n",
       "      <td>0</td>\n",
       "      <td>None</td>\n",
       "      <td>E minor  /  C major</td>\n",
       "      <td>4/4</td>\n",
       "      <td>None</td>\n",
       "      <td>bass</td>\n",
       "      <td>[(0, 48, 0.5, 0.0), (0, 50, 0.5, 0.5), (1, 52,...</td>\n",
       "    </tr>\n",
       "    <tr>\n",
       "      <th>1756</th>\n",
       "      <td>410</td>\n",
       "      <td>410_4</td>\n",
       "      <td>bwv99.6.mxl</td>\n",
       "      <td>Bass</td>\n",
       "      <td>0</td>\n",
       "      <td>None</td>\n",
       "      <td>C major</td>\n",
       "      <td>4/4</td>\n",
       "      <td>None</td>\n",
       "      <td>bass</td>\n",
       "      <td>[(0, 36, 1.0, 0.0), (1, 48, 1.0, 0.0), (1, 47,...</td>\n",
       "    </tr>\n",
       "  </tbody>\n",
       "</table>\n",
       "<p>1757 rows × 11 columns</p>\n",
       "</div>"
      ],
      "text/plain": [
       "      note_id note_part_id   sheet_name partName  sharps   bpm  \\\n",
       "0           2          2_1         bond    Piano       2  None   \n",
       "1           2          2_2         bond    Piano       2  None   \n",
       "2           3          3_1   bwv1.6.mxl   Horn 2       0  None   \n",
       "3           3          3_2   bwv1.6.mxl  Soprano       0  None   \n",
       "4           3          3_3   bwv1.6.mxl     Alto       0  None   \n",
       "...       ...          ...          ...      ...     ...   ...   \n",
       "1752      409        409_7  bwv97.9.mxl     Bass       0  None   \n",
       "1753      410        410_1  bwv99.6.mxl  Soprano       0  None   \n",
       "1754      410        410_2  bwv99.6.mxl     Alto       0  None   \n",
       "1755      410        410_3  bwv99.6.mxl    Tenor       0  None   \n",
       "1756      410        410_4  bwv99.6.mxl     Bass       0  None   \n",
       "\n",
       "                      key time_signature bpm (quarter note)    clef  \\\n",
       "0                 B minor            4/4               72.0  treble   \n",
       "1                 B minor            4/4               72.0    bass   \n",
       "2                 C major            4/4               None  treble   \n",
       "3                 C major            4/4               None  treble   \n",
       "4                 C major            4/4               None  treble   \n",
       "...                   ...            ...                ...     ...   \n",
       "1752              C major            4/4               None    bass   \n",
       "1753  G major  /  C major            4/4               None  treble   \n",
       "1754  C major  /  G major            4/4               None  treble   \n",
       "1755  E minor  /  C major            4/4               None    bass   \n",
       "1756              C major            4/4               None    bass   \n",
       "\n",
       "                                               measures  \n",
       "0     [(1, 59, 0.5, 0.0), (1, 66, 0.5, 0.5), (1, 61,...  \n",
       "1     [[(1, 35, 3.0, 0.0), (1, 47, 3.0, 0.0)], (1, 7...  \n",
       "2     [(0, 60, 1.0, 0.0), (1, 62, 0.5, 0.0), (1, 55,...  \n",
       "3     [(0, 60, 1.0, 0.0), (1, 67, 1.0, 0.0), (1, 64,...  \n",
       "4     [(0, 55, 1.0, 0.0), (1, 55, 1.0, 0.0), (1, 55,...  \n",
       "...                                                 ...  \n",
       "1752  [(0, 36, 1.0, 0.0), (1, 48, 1.0, 0.0), (1, 47,...  \n",
       "1753  [(0, 55, 1.0, 0.0), (1, 60, 1.0, 0.0), (1, 62,...  \n",
       "1754  [(0, 52, 0.5, 0.0), (0, 53, 0.5, 0.5), (1, 55,...  \n",
       "1755  [(0, 48, 0.5, 0.0), (0, 50, 0.5, 0.5), (1, 52,...  \n",
       "1756  [(0, 36, 1.0, 0.0), (1, 48, 1.0, 0.0), (1, 47,...  \n",
       "\n",
       "[1757 rows x 11 columns]"
      ]
     },
     "execution_count": 26,
     "metadata": {},
     "output_type": "execute_result"
    }
   ],
   "source": [
    "df_base"
   ]
  },
  {
   "cell_type": "markdown",
   "id": "a7848f7b",
   "metadata": {},
   "source": [
    "## No consequtivity is looked at, only the subsequence of the two common melody notes"
   ]
  },
  {
   "cell_type": "code",
   "execution_count": 30,
   "id": "eab2c3f2",
   "metadata": {},
   "outputs": [
    {
     "name": "stdout",
     "output_type": "stream",
     "text": [
      "{'bwv1.6.mxl + bwv149.7.mxl': [(1, '52', 1.0, 2.0), (2, '60', 1.0, 2.0), (7, '52', 1.0, 2.0), (8, '60', 1.0, 2.0), (16, '55', 1.0, 2.0), (17, '57', 1.0, 0.0), (18, '55', 1.0, 3.0), (19, '52', 0.5, 1.5), ''], 'bwv1.6.mxl + bwv172.6.mxl': [(2, '60', 1.0, 1.0), (2, '60', 1.0, 2.0), (3, '62', 1.0, 1.0), (3, '60', 0.5, 2.0), (4, '59', 1.0, 2.0), (9, '60', 1.0, 0.0), (9, '57', 0.5, 2.5), (10, '59', 1.0, 2.0), ''], 'bwv1.6.mxl + bwv20.7.mxl': [(3, '60', 1.0, 0.0), (3, '62', 1.0, 1.0), (4, '60', 0.5, 0.0), (4, '59', 0.5, 0.5), (4, '59', 1.0, 2.0), (9, '60', 1.0, 0.0), (9, '62', 1.0, 1.0), (10, '60', 0.5, 0.0), (10, '59', 0.5, 0.5), (10, '59', 1.0, 2.0), (16, '55', 1.0, 2.0), ''], 'bwv1.6.mxl + bwv244.10.mxl': [(2, '60', 1.0, 2.0), (2, '60', 1.0, 3.0), (3, '57', 0.5, 2.5), (5, '52', 0.5, 2.0), (8, '60', 1.0, 3.0), (9, '59', 1.0, 3.0), (10, '57', 1.0, 1.0), (11, '52', 0.5, 2.0), ''], 'bwv1.6.mxl + bwv254.mxl': [(1, '52', 1.0, 1.0), (5, '48', 0.5, 0.0), (5, '50', 0.5, 0.5), (7, '52', 1.0, 2.0), (10, '60', 0.5, 0.0), (10, '59', 0.5, 0.5), (10, '57', 1.0, 1.0), (11, '52', 1.0, 1.0), ''], 'bwv1.6.mxl + bwv340.mxl': [(2, '60', 1.0, 1.0), (2, '60', 1.0, 2.0), (4, '60', 0.5, 0.0), (4, '59', 0.5, 0.5), (4, '59', 1.0, 2.0), (10, '57', 1.0, 1.0), (10, '59', 1.0, 2.0), (17, '57', 1.0, 2.0), (17, '55', 1.0, 3.0), ''], 'bwv1.6.mxl + bwv36.4-2.mxl': [(0, '52', 1.0, 0.0), (1, '50', 1.0, 0.0), (2, '60', 1.0, 3.0), (3, '60', 1.0, 0.0), (3, '62', 1.0, 1.0), (3, '57', 0.5, 2.5), (3, '59', 1.0, 3.0), (4, '59', 1.0, 2.0), (6, '52', 1.0, 2.0), ''], 'bwv1.6.mxl + bwv394.mxl': [(2, '60', 1.0, 3.0), (3, '57', 0.5, 2.5), (7, '52', 1.0, 3.0), (9, '57', 0.5, 2.5), (9, '59', 1.0, 3.0), (10, '57', 1.0, 1.0), (10, '55', 0.5, 3.0), (12, '52', 1.0, 2.0), ''], 'bwv1.6.mxl + bwv42.7.mxl': [(1, '52', 1.0, 2.0), (3, '60', 0.5, 2.0), (4, '60', 0.5, 0.0), (4, '59', 0.5, 0.5), (7, '52', 1.0, 3.0), (9, '60', 1.0, 0.0), (11, '48', 0.5, 0.0), (11, '50', 0.5, 0.5), (11, '52', 1.0, 1.0), (11, '52', 0.5, 2.0), (11, '52', 0.5, 3.0), (15, '55', 1.0, 2.0), (18, '55', 1.0, 3.0), ''], 'bwv1.6.mxl + bwv433.mxl': [(1, '52', 1.0, 1.0), (1, '52', 1.0, 2.0), (5, '48', 0.5, 3.5), (11, '52', 1.0, 1.0), (12, 'rest_1.0'), (16, '55', 1.0, 3.0), (17, '55', 1.0, 3.0), (18, '55', 1.0, 3.0), ''], 'bwv1.6.mxl + bwv97.9.mxl': [(3, '60', 1.0, 0.0), (3, '59', 1.0, 3.0), (5, '48', 0.5, 3.5), (8, '60', 1.0, 3.0), (9, '59', 1.0, 3.0), (10, '57', 1.0, 1.0), (12, '53', 1.0, 1.0), (12, '52', 1.0, 2.0), '']}\n"
     ]
    }
   ],
   "source": [
    "# Dynamic programming implementation of LCS problem\n",
    " \n",
    "# Returns length of LCS for X[0..m-1], Y[0..n-1]\n",
    "def lcs(X, Y, m, n):\n",
    "    L = [[0 for x in range(n+1)] for x in range(m+1)]\n",
    " \n",
    "    # Following steps build L[m+1][n+1] in bottom up fashion. Note\n",
    "    # that L[i][j] contains length of LCS of X[0..i-1] and Y[0..j-1]\n",
    "    for i in range(m+1):\n",
    "        for j in range(n+1):\n",
    "            if i == 0 or j == 0:\n",
    "                L[i][j] = 0\n",
    "            elif X[i-1] == Y[j-1]:\n",
    "                L[i][j] = L[i-1][j-1] + 1\n",
    "            else:\n",
    "                L[i][j] = max(L[i-1][j], L[i][j-1])\n",
    " \n",
    "    # Following code is used to print LCS\n",
    "    index = L[m][n]\n",
    " \n",
    "    # Create a character array to store the lcs string\n",
    "    lcs = [\"\"] * (index+1)\n",
    "    lcs[index] = \"\"\n",
    " \n",
    "    # Start from the right-most-bottom-most corner and\n",
    "    # one by one store characters in lcs[]\n",
    "    i = m\n",
    "    j = n\n",
    "    while i > 0 and j > 0:\n",
    " \n",
    "        # If current character in X[] and Y are same, then\n",
    "        # current character is part of LCS\n",
    "        if X[i-1] == Y[j-1]:\n",
    "            lcs[index-1] = X[i-1]\n",
    "            i-=1\n",
    "            j-=1\n",
    "            index-=1\n",
    " \n",
    "        # If not same, then find the larger of two and\n",
    "        # go in the direction of larger value\n",
    "        elif L[i-1][j] > L[i][j-1]:\n",
    "            i-=1\n",
    "        else:\n",
    "            j-=1\n",
    "     \n",
    "    #val = \"LCS\" + \"\".join(lcs)\n",
    "    return  lcs\n",
    "\n",
    " \n",
    "    \n",
    "#Look for similar sequence between two different notes\n",
    "from timeit import default_timer as timer\n",
    "from datetime import timedelta\n",
    "\n",
    "df_whole = pd.DataFrame()\n",
    "\n",
    "note_dict = {}\n",
    "\n",
    "\n",
    "i=5\n",
    "start = timer()\n",
    "dic = {}\n",
    "for y in range(len(df_base)):\n",
    "    if i !=y:\n",
    "        X = df_base['measures'][i]\n",
    "        Y = df_base['measures'][y]\n",
    "        key =df_base['sheet_name'][i] + \" + \" + df_base['sheet_name'][y]\n",
    "        m = len(X)\n",
    "        n = len(Y)\n",
    "        val = lcs(X, Y, m, n)\n",
    "        \n",
    "        if len(val) > 8:\n",
    "            dic[key] = val\n",
    "\n",
    "print(dic)"
   ]
  },
  {
   "cell_type": "markdown",
   "id": "a25bd18d",
   "metadata": {},
   "source": [
    "### Longest Common Subsequence\n",
    "\n",
    "The longest common subsequence (LCS) problem consists in finding the longest subsequence common to two (or more) sequences. It differs from problems of finding common substrings: unlike substrings, subsequences are not required to occupy consecutive positions within the original sequences.\n",
    "\n",
    "It is used by the diff utility, by Git for reconciling multiple changes, etc.\n",
    "\n",
    "The LCS distance between strings X (of length n) and Y (of length m) is n + m - 2 |LCS(X, Y)| min = 0 max = n + m\n",
    "\n",
    "LCS distance is equivalent to Levenshtein distance when only insertion and deletion is allowed (no substitution), or when the cost of the substitution is the double of the cost of an insertion or deletion.\n",
    "\n",
    "This class implements the dynamic programming approach, which has a space requirement O(m.n), and computation cost O(m.n).\n",
    "\n",
    "In \"Length of Maximal Common Subsequences\", K.S. Larsen proposed an algorithm that computes the length of LCS in time O(log(m).log(n)). But the algorithm has a memory requirement O(m.n²) and was thus not implemented here.\n",
    "\n",
    "**The lower the number,  the bigger the subsequence.**"
   ]
  },
  {
   "cell_type": "code",
   "execution_count": 182,
   "id": "1d489c40",
   "metadata": {},
   "outputs": [],
   "source": [
    "n1 = df_base['measures'][100]\n",
    "n2 = df_base['measures'][100]"
   ]
  },
  {
   "cell_type": "code",
   "execution_count": 79,
   "id": "df94b8e5",
   "metadata": {},
   "outputs": [
    {
     "name": "stdout",
     "output_type": "stream",
     "text": [
      "1221.0\n"
     ]
    }
   ],
   "source": [
    "from similarity.longest_common_subsequence import LongestCommonSubsequence\n",
    "\n",
    "lcs = LongestCommonSubsequence()\n",
    "print(lcs.distance(a,b))"
   ]
  },
  {
   "cell_type": "code",
   "execution_count": 82,
   "id": "7560d3b7",
   "metadata": {},
   "outputs": [
    {
     "name": "stdout",
     "output_type": "stream",
     "text": [
      "0.9495555555555554\n"
     ]
    }
   ],
   "source": [
    "from similarity.ngram import NGram\n",
    "\n",
    "twogram = NGram(6)\n",
    "print(twogram.distance(a, b))"
   ]
  },
  {
   "cell_type": "markdown",
   "id": "ad51f7f6",
   "metadata": {},
   "source": [
    "## Analysis of Bach corpus"
   ]
  },
  {
   "cell_type": "code",
   "execution_count": 27,
   "id": "b0d79251",
   "metadata": {},
   "outputs": [
    {
     "data": {
      "text/plain": [
       "\"\\n#Look for similar sequence between two different notes\\nnote_dict = {}\\nfor i in range(len(df)):\\n    print(i)\\n    for y in range(len(df)):\\n        if i !=y:\\n            key = str(df['note_part_id'][i] + ' + ' + df['note_part_id'][y])\\n            val = matched_seq_analysis(df['measures'][i], df['measures'][y])\\n            if len(val) != 0:\\n                note_dict[key] = matched_seq_analysis(df['measures'][i], df['measures'][y])\\n\""
      ]
     },
     "execution_count": 27,
     "metadata": {},
     "output_type": "execute_result"
    }
   ],
   "source": [
    "#[0] - df measures\n",
    "#[1] - if_rest -> use the rests\n",
    "#[2] - if_chords,\n",
    "#[3] - m -> can be 0 or 1\n",
    "#[4] - o -> can be 2 or 3\n",
    "#[5] - offset -> remove offset (also removes rests)\n",
    "\n",
    "\n",
    "#For [3] and [4]\n",
    "# 0 - if measure nr IS taken into account\n",
    "# 1 - if measure nr is NOT taken into account\n",
    "# 2 - if note duration is NOT taken into account\n",
    "# 3 - if note duration IS taken into account\n",
    "\n",
    "# n1 - note 1 measures\n",
    "# n2 - note 2 measures\n",
    "\n",
    "def matched_seq_analysis(a, b, ngram):\n",
    "    matched_seq=[]\n",
    "    a_gram = generate_ngrams(a,ngram)\n",
    "    b_gram = generate_ngrams(b,ngram)\n",
    "\n",
    "    for x,y in match_seq(a_gram,b_gram): #x and y are measure nr of similar notes.\n",
    "        matched_seq.append((x,y, a_gram[x],b_gram[y]))\n",
    "    return matched_seq\n",
    "\n",
    "'''\n",
    "#Look for similar sequence between two different notes\n",
    "note_dict = {}\n",
    "for i in range(len(df)):\n",
    "    print(i)\n",
    "    for y in range(len(df)):\n",
    "        if i !=y:\n",
    "            key = str(df['note_part_id'][i] + ' + ' + df['note_part_id'][y])\n",
    "            val = matched_seq_analysis(df['measures'][i], df['measures'][y])\n",
    "            if len(val) != 0:\n",
    "                note_dict[key] = matched_seq_analysis(df['measures'][i], df['measures'][y])\n",
    "'''"
   ]
  },
  {
   "cell_type": "markdown",
   "id": "aaa1e905",
   "metadata": {},
   "source": [
    "## Finding longest subsequence"
   ]
  },
  {
   "cell_type": "code",
   "execution_count": 28,
   "id": "e3ade6ea",
   "metadata": {},
   "outputs": [],
   "source": [
    "def LCS(n1, n2, if_rest, if_chords, m, o, offset, repetition):\n",
    "    a = construct_strings(n1, if_rest, if_chords, m, o, offset, repetition) \n",
    "    b = construct_strings(n2, if_rest, if_chords, m, o, offset, repetition)\n",
    "    counter = 4 #Starting to look for ngrams 4 and above\n",
    "    total_matches = []\n",
    "    if len(n1) > len(n2):\n",
    "        total = len(n2)\n",
    "        total_matches = []\n",
    "        while counter != total: \n",
    "            matched = matched_seq_analysis(a, b, counter)\n",
    "            if len(matched) == 0:\n",
    "                break\n",
    "            else:\n",
    "                total_matches = matched\n",
    "            counter +=1 \n",
    "    else:\n",
    "        total = len(n1)\n",
    "        matched =[]\n",
    "        while len(matched) != 0 and counter != total:\n",
    "\n",
    "            matched = matched_seq_analysis(a,b, counter)\n",
    "            if len(matched) == 0:\n",
    "                break\n",
    "            else:\n",
    "                total_matches = matched\n",
    "            counter +=1 \n",
    "    if len(total_matches) == 0:\n",
    "        return 0, 0\n",
    "    else:\n",
    "        return total_matches, len(total_matches[0][3]) "
   ]
  },
  {
   "cell_type": "markdown",
   "id": "7bd56b16",
   "metadata": {},
   "source": [
    "# Matching the longest common sequences\n",
    "\n",
    "### Ways of doing:\n",
    "\n",
    "* Rests:<br>\n",
    "   a) Keep the rests in the note sequeneces <br>\n",
    "   b) Remove all the rests from the note sequences <br><br>\n",
    "\n",
    "* Chords<br>\n",
    "a) Leave chords as they are - KITSENDUS (võimalik oleks ka kõik akordi noodid lisada või siis määrata ära akordi tähtsaim noot? -> .root()) <br>\n",
    "b) Only take account the first note (higher note) of the chord (chord can be harmony starting from 2 consequently sounding notes)<br><br>\n",
    "\n",
    "* Measure nr<br>\n",
    "a) Consider the specific measure number - meaning that the parts must align<br>\n",
    "b) Do not consider measure number - similar sequences can be see throughout the part<br><br>\n",
    "\n",
    "* Note duration<br>\n",
    "a) Consider note duration in the sequence matching<br>\n",
    "b) Do not consider note duration (note can be in any duration as long as it is the same consequtive note - then it will match)<br><br>\n",
    "\n",
    "* Offset notes<br>\n",
    "a) Leave offset (not on beat notes) into the sheet<br>\n",
    "b) Remove all notes that do not fall on beat<br><br>\n",
    "\n",
    "* Repetition <br>\n",
    "a) Same consequitive notes are kept<br>\n",
    "b) Same consequtive notes are removed<br>"
   ]
  },
  {
   "cell_type": "markdown",
   "id": "71adc2ea",
   "metadata": {},
   "source": [
    "## Datatable structure\n",
    "\n",
    "note_1_part_id | note_2_ part_id | LCS_1 | LCS_2 | LCS_3 | LCS_4 | LCS_5 | LCS_6\n",
    "\n",
    "   str   |  str      | dict  | dict  | dict  | dict  | dict  | dict"
   ]
  },
  {
   "cell_type": "markdown",
   "id": "4b916158",
   "metadata": {},
   "source": [
    "### Uurimisküsimused\n",
    "\n",
    "1. Kas on õige hinnata nootide partiisid nootide järgi või intervallide järgi?\n",
    "\n",
    "2. Kas noodi kõrguse muutmisi arvestades on edit distance moodus loogiline?\n",
    "\n",
    "3. Intervallide tõttu kaovad ära noodi kõrgused, aga edit-distance meetod nende puhul ei toimi, kuna ei saa öelda seda, et väiksest sekundist suur sekund on heli kõlaliselt väiksema kaugusega kui väiksest sekundist puhtasse priimi. Tegelikult võib olla hoopis vastu pidi - tuleks arvestada toonikat. \n",
    "\n",
    "4. Kas teoreetiliselt peaks jäigalt arvestama, mis helistikus noodistus on? \n",
    "* Kõlalistelt on ju erinevates helistikes noodid erinevad, aga järgnevuse mõttes tunned ju ära ühe sama laulu isegi, kui nad on erinevates helistikkudes - seega helistik ei tohiks lugeda. Kui helistik ei loe, siis a) loevad ainult intervallid VÕI b) samas helistikus noodid. P4 ühe sama helistiku raames ei saa olla sama asi, sest tuleks arvestada ikkagi ühe helistiku raames neid noote.\n",
    "\n",
    "5. Kuidas panna sarnasus algoritmidele kaale? Milline sarnane tunnus või sarnaste tunnuste osakaal on kaalukam?\n",
    "\n",
    "6. Milliste tunnuste järgi hinnata kokkuvõtvalt kahe noodistuse sarnasust? \n",
    "\n",
    "* Longest common subsequences (different weights for different methods) \n",
    "* Edit distance related to music theory\n",
    "* Tempo? \n",
    "\n",
    "-----\n",
    "* Genre\n",
    "* Original key?\n",
    "* "
   ]
  },
  {
   "cell_type": "code",
   "execution_count": 90,
   "id": "4c39c4da",
   "metadata": {},
   "outputs": [
    {
     "name": "stdout",
     "output_type": "stream",
     "text": [
      "0:00:08.621795\n"
     ]
    }
   ],
   "source": [
    "#Look for similar sequence between two different notes\n",
    "from timeit import default_timer as timer\n",
    "from datetime import timedelta\n",
    "\n",
    "df_whole = pd.DataFrame()\n",
    "\n",
    "note_dict = {}\n",
    "\n",
    "#Change the note you want to compare with in here:\n",
    "i=60\n",
    "\n",
    "start = timer()\n",
    "for y in range(len(df_base)):\n",
    "    if i !=y:\n",
    "        key = str(df_base['note_part_id'][i] + ' + ' + df_base['note_part_id'][y])\n",
    "        # 1. MATCHED LCS  - considers rests, chords, measure nr, note duration and offset notes, With repetition\n",
    "        LCS1, l1 = LCS(df_base['measures'][i],df_base['measures'][y], True, True, 0, 3, True, False)\n",
    "        # 2. MATCHED LCS  - considers rests, chords, NO measure nr, note duration and offset notes,  With repetition\n",
    "        LCS2, l2 = LCS(df_base['measures'][i],df_base['measures'][y], True, True, 1, 3, True, False)\n",
    "        # 3. MATCHED LCS  - considers NO rests, chords, NO measure nr, note duration and offset notes,  NO repetition\n",
    "        LCS3, l3 = LCS(df_base['measures'][i],df_base['measures'][y], False, True, 1, 3, True, True)\n",
    "        # 4. MATCHED LCS  - considers NO rests, NO chords, NO measure nr, note duration and offset notes,  NO repetition\n",
    "        LCS4, l4 = LCS(df_base['measures'][i],df_base['measures'][y], False, False, 1, 3, True, True)\n",
    "        # 5. MATCHED LCS  - considers NO rests, NO chords, NO measure nr, NO note duration and offset notes, WITH repetition\n",
    "        LCS5, l5 = LCS(df_base['measures'][i],df_base['measures'][y], False, False, 1, 2, True, False)\n",
    "        # 6. MATCHED LCS  - considers NO rests, NO chords, NO measure nr, NO note duration and NO offset notes,  NO repetition\n",
    "        LCS6, l6 = LCS(df_base['measures'][i],df_base['measures'][y], False, False, 1, 2, False, True)\n",
    "        \n",
    "        #LCS6 no way to back track, because I'm deleting offset notes!!!!\n",
    "        #REPETITION - no way to back track, because I'm deleting repetitive notes!!!!\n",
    "        #RESTS - no way to back track, because I'm deleting rests!!!!\n",
    "        \n",
    "        data = {'Notes': key, 'LCS1': LCS1, 'LCS2': LCS2, 'LCS3': LCS3, 'LCS4': LCS4, 'LCS5': LCS5, 'LCS6': LCS6,\n",
    "               'l1':l1, 'l2':l2, 'l3':l3, 'l4':l4, 'l5':l5, 'l6':l6}\n",
    "\n",
    "        df_whole = df_whole.append(data, ignore_index = True)\n",
    "end = timer()\n",
    "print(timedelta(seconds=end-start))\n",
    "            "
   ]
  },
  {
   "cell_type": "code",
   "execution_count": 91,
   "id": "ae7977f4",
   "metadata": {},
   "outputs": [
    {
     "data": {
      "text/html": [
       "<div>\n",
       "<style scoped>\n",
       "    .dataframe tbody tr th:only-of-type {\n",
       "        vertical-align: middle;\n",
       "    }\n",
       "\n",
       "    .dataframe tbody tr th {\n",
       "        vertical-align: top;\n",
       "    }\n",
       "\n",
       "    .dataframe thead th {\n",
       "        text-align: right;\n",
       "    }\n",
       "</style>\n",
       "<table border=\"1\" class=\"dataframe\">\n",
       "  <thead>\n",
       "    <tr style=\"text-align: right;\">\n",
       "      <th></th>\n",
       "      <th>Notes</th>\n",
       "      <th>LCS1</th>\n",
       "      <th>LCS2</th>\n",
       "      <th>LCS3</th>\n",
       "      <th>LCS4</th>\n",
       "      <th>LCS5</th>\n",
       "      <th>LCS6</th>\n",
       "      <th>l1</th>\n",
       "      <th>l2</th>\n",
       "      <th>l3</th>\n",
       "      <th>l4</th>\n",
       "      <th>l5</th>\n",
       "      <th>l6</th>\n",
       "    </tr>\n",
       "  </thead>\n",
       "  <tbody>\n",
       "    <tr>\n",
       "      <th>0</th>\n",
       "      <td>16_3 + 2_1</td>\n",
       "      <td>0.0</td>\n",
       "      <td>0.0</td>\n",
       "      <td>0.0</td>\n",
       "      <td>0.0</td>\n",
       "      <td>0.0</td>\n",
       "      <td>0.0</td>\n",
       "      <td>0.0</td>\n",
       "      <td>0.0</td>\n",
       "      <td>0.0</td>\n",
       "      <td>0.0</td>\n",
       "      <td>0.0</td>\n",
       "      <td>0.0</td>\n",
       "    </tr>\n",
       "    <tr>\n",
       "      <th>1</th>\n",
       "      <td>16_3 + 2_2</td>\n",
       "      <td>0.0</td>\n",
       "      <td>0.0</td>\n",
       "      <td>0.0</td>\n",
       "      <td>0.0</td>\n",
       "      <td>0.0</td>\n",
       "      <td>0.0</td>\n",
       "      <td>0.0</td>\n",
       "      <td>0.0</td>\n",
       "      <td>0.0</td>\n",
       "      <td>0.0</td>\n",
       "      <td>0.0</td>\n",
       "      <td>0.0</td>\n",
       "    </tr>\n",
       "    <tr>\n",
       "      <th>2</th>\n",
       "      <td>16_3 + 3_1</td>\n",
       "      <td>0.0</td>\n",
       "      <td>0.0</td>\n",
       "      <td>0.0</td>\n",
       "      <td>0.0</td>\n",
       "      <td>0.0</td>\n",
       "      <td>0.0</td>\n",
       "      <td>0.0</td>\n",
       "      <td>0.0</td>\n",
       "      <td>0.0</td>\n",
       "      <td>0.0</td>\n",
       "      <td>0.0</td>\n",
       "      <td>0.0</td>\n",
       "    </tr>\n",
       "    <tr>\n",
       "      <th>3</th>\n",
       "      <td>16_3 + 3_2</td>\n",
       "      <td>0.0</td>\n",
       "      <td>0.0</td>\n",
       "      <td>0.0</td>\n",
       "      <td>0.0</td>\n",
       "      <td>0.0</td>\n",
       "      <td>0.0</td>\n",
       "      <td>0.0</td>\n",
       "      <td>0.0</td>\n",
       "      <td>0.0</td>\n",
       "      <td>0.0</td>\n",
       "      <td>0.0</td>\n",
       "      <td>0.0</td>\n",
       "    </tr>\n",
       "    <tr>\n",
       "      <th>4</th>\n",
       "      <td>16_3 + 3_3</td>\n",
       "      <td>0.0</td>\n",
       "      <td>0.0</td>\n",
       "      <td>0.0</td>\n",
       "      <td>0.0</td>\n",
       "      <td>0.0</td>\n",
       "      <td>0.0</td>\n",
       "      <td>0.0</td>\n",
       "      <td>0.0</td>\n",
       "      <td>0.0</td>\n",
       "      <td>0.0</td>\n",
       "      <td>0.0</td>\n",
       "      <td>0.0</td>\n",
       "    </tr>\n",
       "    <tr>\n",
       "      <th>...</th>\n",
       "      <td>...</td>\n",
       "      <td>...</td>\n",
       "      <td>...</td>\n",
       "      <td>...</td>\n",
       "      <td>...</td>\n",
       "      <td>...</td>\n",
       "      <td>...</td>\n",
       "      <td>...</td>\n",
       "      <td>...</td>\n",
       "      <td>...</td>\n",
       "      <td>...</td>\n",
       "      <td>...</td>\n",
       "      <td>...</td>\n",
       "    </tr>\n",
       "    <tr>\n",
       "      <th>1751</th>\n",
       "      <td>16_3 + 409_7</td>\n",
       "      <td>0</td>\n",
       "      <td>0</td>\n",
       "      <td>0</td>\n",
       "      <td>0</td>\n",
       "      <td>0</td>\n",
       "      <td>0</td>\n",
       "      <td>0.0</td>\n",
       "      <td>0.0</td>\n",
       "      <td>0.0</td>\n",
       "      <td>0.0</td>\n",
       "      <td>0.0</td>\n",
       "      <td>0.0</td>\n",
       "    </tr>\n",
       "    <tr>\n",
       "      <th>1752</th>\n",
       "      <td>16_3 + 410_1</td>\n",
       "      <td>0</td>\n",
       "      <td>0</td>\n",
       "      <td>0</td>\n",
       "      <td>0</td>\n",
       "      <td>0</td>\n",
       "      <td>0</td>\n",
       "      <td>0.0</td>\n",
       "      <td>0.0</td>\n",
       "      <td>0.0</td>\n",
       "      <td>0.0</td>\n",
       "      <td>0.0</td>\n",
       "      <td>0.0</td>\n",
       "    </tr>\n",
       "    <tr>\n",
       "      <th>1753</th>\n",
       "      <td>16_3 + 410_2</td>\n",
       "      <td>0</td>\n",
       "      <td>0</td>\n",
       "      <td>0</td>\n",
       "      <td>0</td>\n",
       "      <td>0</td>\n",
       "      <td>0</td>\n",
       "      <td>0.0</td>\n",
       "      <td>0.0</td>\n",
       "      <td>0.0</td>\n",
       "      <td>0.0</td>\n",
       "      <td>0.0</td>\n",
       "      <td>0.0</td>\n",
       "    </tr>\n",
       "    <tr>\n",
       "      <th>1754</th>\n",
       "      <td>16_3 + 410_3</td>\n",
       "      <td>0</td>\n",
       "      <td>0</td>\n",
       "      <td>0</td>\n",
       "      <td>0</td>\n",
       "      <td>0</td>\n",
       "      <td>0</td>\n",
       "      <td>0.0</td>\n",
       "      <td>0.0</td>\n",
       "      <td>0.0</td>\n",
       "      <td>0.0</td>\n",
       "      <td>0.0</td>\n",
       "      <td>0.0</td>\n",
       "    </tr>\n",
       "    <tr>\n",
       "      <th>1755</th>\n",
       "      <td>16_3 + 410_4</td>\n",
       "      <td>0</td>\n",
       "      <td>0</td>\n",
       "      <td>0</td>\n",
       "      <td>0</td>\n",
       "      <td>0</td>\n",
       "      <td>0</td>\n",
       "      <td>0.0</td>\n",
       "      <td>0.0</td>\n",
       "      <td>0.0</td>\n",
       "      <td>0.0</td>\n",
       "      <td>0.0</td>\n",
       "      <td>0.0</td>\n",
       "    </tr>\n",
       "  </tbody>\n",
       "</table>\n",
       "<p>1756 rows × 13 columns</p>\n",
       "</div>"
      ],
      "text/plain": [
       "             Notes LCS1 LCS2 LCS3 LCS4 LCS5 LCS6   l1   l2   l3   l4   l5   l6\n",
       "0       16_3 + 2_1  0.0  0.0  0.0  0.0  0.0  0.0  0.0  0.0  0.0  0.0  0.0  0.0\n",
       "1       16_3 + 2_2  0.0  0.0  0.0  0.0  0.0  0.0  0.0  0.0  0.0  0.0  0.0  0.0\n",
       "2       16_3 + 3_1  0.0  0.0  0.0  0.0  0.0  0.0  0.0  0.0  0.0  0.0  0.0  0.0\n",
       "3       16_3 + 3_2  0.0  0.0  0.0  0.0  0.0  0.0  0.0  0.0  0.0  0.0  0.0  0.0\n",
       "4       16_3 + 3_3  0.0  0.0  0.0  0.0  0.0  0.0  0.0  0.0  0.0  0.0  0.0  0.0\n",
       "...            ...  ...  ...  ...  ...  ...  ...  ...  ...  ...  ...  ...  ...\n",
       "1751  16_3 + 409_7    0    0    0    0    0    0  0.0  0.0  0.0  0.0  0.0  0.0\n",
       "1752  16_3 + 410_1    0    0    0    0    0    0  0.0  0.0  0.0  0.0  0.0  0.0\n",
       "1753  16_3 + 410_2    0    0    0    0    0    0  0.0  0.0  0.0  0.0  0.0  0.0\n",
       "1754  16_3 + 410_3    0    0    0    0    0    0  0.0  0.0  0.0  0.0  0.0  0.0\n",
       "1755  16_3 + 410_4    0    0    0    0    0    0  0.0  0.0  0.0  0.0  0.0  0.0\n",
       "\n",
       "[1756 rows x 13 columns]"
      ]
     },
     "execution_count": 91,
     "metadata": {},
     "output_type": "execute_result"
    }
   ],
   "source": [
    "df_whole"
   ]
  },
  {
   "cell_type": "markdown",
   "id": "70f88d84",
   "metadata": {},
   "source": [
    "### Drop all the rows where there aren't any subsequences \n",
    "(Mida teha sellisel juhul? Kuidas öelda, mis on suurema kaaluga?)"
   ]
  },
  {
   "cell_type": "code",
   "execution_count": 92,
   "id": "eadce287",
   "metadata": {},
   "outputs": [
    {
     "data": {
      "text/html": [
       "<div>\n",
       "<style scoped>\n",
       "    .dataframe tbody tr th:only-of-type {\n",
       "        vertical-align: middle;\n",
       "    }\n",
       "\n",
       "    .dataframe tbody tr th {\n",
       "        vertical-align: top;\n",
       "    }\n",
       "\n",
       "    .dataframe thead th {\n",
       "        text-align: right;\n",
       "    }\n",
       "</style>\n",
       "<table border=\"1\" class=\"dataframe\">\n",
       "  <thead>\n",
       "    <tr style=\"text-align: right;\">\n",
       "      <th></th>\n",
       "      <th>Notes</th>\n",
       "      <th>LCS1</th>\n",
       "      <th>LCS2</th>\n",
       "      <th>LCS3</th>\n",
       "      <th>LCS4</th>\n",
       "      <th>LCS5</th>\n",
       "      <th>LCS6</th>\n",
       "      <th>l1</th>\n",
       "      <th>l2</th>\n",
       "      <th>l3</th>\n",
       "      <th>l4</th>\n",
       "      <th>l5</th>\n",
       "      <th>l6</th>\n",
       "    </tr>\n",
       "  </thead>\n",
       "  <tbody>\n",
       "    <tr>\n",
       "      <th>13</th>\n",
       "      <td>16_3 + 5_3</td>\n",
       "      <td>0.0</td>\n",
       "      <td>0.0</td>\n",
       "      <td>0.0</td>\n",
       "      <td>0.0</td>\n",
       "      <td>[(0, 41, (64, 64, 62, 60), (64, 64, 62, 60)), ...</td>\n",
       "      <td>0.0</td>\n",
       "      <td>0.0</td>\n",
       "      <td>0.0</td>\n",
       "      <td>0.0</td>\n",
       "      <td>0.0</td>\n",
       "      <td>4.0</td>\n",
       "      <td>0.0</td>\n",
       "    </tr>\n",
       "    <tr>\n",
       "      <th>14</th>\n",
       "      <td>16_3 + 5_4</td>\n",
       "      <td>0.0</td>\n",
       "      <td>0.0</td>\n",
       "      <td>0.0</td>\n",
       "      <td>0.0</td>\n",
       "      <td>[(40, 36, (55, 57, 59, 60), (55, 57, 59, 60))]</td>\n",
       "      <td>0.0</td>\n",
       "      <td>0.0</td>\n",
       "      <td>0.0</td>\n",
       "      <td>0.0</td>\n",
       "      <td>0.0</td>\n",
       "      <td>4.0</td>\n",
       "      <td>0.0</td>\n",
       "    </tr>\n",
       "    <tr>\n",
       "      <th>23</th>\n",
       "      <td>16_3 + 8_1</td>\n",
       "      <td>0.0</td>\n",
       "      <td>[(45, 10, (64 1.0, 62 0.5, 64 0.5, 65 0.5), (6...</td>\n",
       "      <td>[(39, 7, (62 1.0, 64 1.0, 62 0.5, 64 0.5, 65 0...</td>\n",
       "      <td>[(39, 7, (62 1.0, 64 1.0, 62 0.5, 64 0.5, 65 0...</td>\n",
       "      <td>[(11, 13, (65, 64, 62, 60), (65, 64, 62, 60)),...</td>\n",
       "      <td>[(26, 6, (62, 64, 62, 65), (62, 64, 62, 65))]</td>\n",
       "      <td>0.0</td>\n",
       "      <td>4.0</td>\n",
       "      <td>5.0</td>\n",
       "      <td>5.0</td>\n",
       "      <td>4.0</td>\n",
       "      <td>4.0</td>\n",
       "    </tr>\n",
       "    <tr>\n",
       "      <th>24</th>\n",
       "      <td>16_3 + 8_2</td>\n",
       "      <td>0.0</td>\n",
       "      <td>0</td>\n",
       "      <td>0</td>\n",
       "      <td>0</td>\n",
       "      <td>[(17, 38, (57, 56, 57, 55), (57, 56, 57, 55))]</td>\n",
       "      <td>0</td>\n",
       "      <td>0.0</td>\n",
       "      <td>0.0</td>\n",
       "      <td>0.0</td>\n",
       "      <td>0.0</td>\n",
       "      <td>4.0</td>\n",
       "      <td>0.0</td>\n",
       "    </tr>\n",
       "    <tr>\n",
       "      <th>31</th>\n",
       "      <td>16_3 + 10_1</td>\n",
       "      <td>0.0</td>\n",
       "      <td>0</td>\n",
       "      <td>0</td>\n",
       "      <td>0</td>\n",
       "      <td>[(11, 10, (65, 64, 62, 60), (65, 64, 62, 60)),...</td>\n",
       "      <td>0</td>\n",
       "      <td>0.0</td>\n",
       "      <td>0.0</td>\n",
       "      <td>0.0</td>\n",
       "      <td>0.0</td>\n",
       "      <td>4.0</td>\n",
       "      <td>0.0</td>\n",
       "    </tr>\n",
       "    <tr>\n",
       "      <th>...</th>\n",
       "      <td>...</td>\n",
       "      <td>...</td>\n",
       "      <td>...</td>\n",
       "      <td>...</td>\n",
       "      <td>...</td>\n",
       "      <td>...</td>\n",
       "      <td>...</td>\n",
       "      <td>...</td>\n",
       "      <td>...</td>\n",
       "      <td>...</td>\n",
       "      <td>...</td>\n",
       "      <td>...</td>\n",
       "      <td>...</td>\n",
       "    </tr>\n",
       "    <tr>\n",
       "      <th>1720</th>\n",
       "      <td>16_3 + 403_4</td>\n",
       "      <td>0</td>\n",
       "      <td>0</td>\n",
       "      <td>0</td>\n",
       "      <td>0</td>\n",
       "      <td>[(1, 14, (64, 62, 60, 60), (64, 62, 60, 60)), ...</td>\n",
       "      <td>0</td>\n",
       "      <td>0.0</td>\n",
       "      <td>0.0</td>\n",
       "      <td>0.0</td>\n",
       "      <td>0.0</td>\n",
       "      <td>4.0</td>\n",
       "      <td>0.0</td>\n",
       "    </tr>\n",
       "    <tr>\n",
       "      <th>1721</th>\n",
       "      <td>16_3 + 403_5</td>\n",
       "      <td>0</td>\n",
       "      <td>0</td>\n",
       "      <td>0</td>\n",
       "      <td>0</td>\n",
       "      <td>[(5, 41, (55, 57, 59, 55, 57), (55, 57, 59, 55...</td>\n",
       "      <td>0</td>\n",
       "      <td>0.0</td>\n",
       "      <td>0.0</td>\n",
       "      <td>0.0</td>\n",
       "      <td>0.0</td>\n",
       "      <td>5.0</td>\n",
       "      <td>0.0</td>\n",
       "    </tr>\n",
       "    <tr>\n",
       "      <th>1741</th>\n",
       "      <td>16_3 + 408_1</td>\n",
       "      <td>0</td>\n",
       "      <td>[(26, 14, (60 0.5, 62 0.5, 64 1.0, 64 1.0), (6...</td>\n",
       "      <td>0</td>\n",
       "      <td>0</td>\n",
       "      <td>[(12, 3, (64, 62, 60, 59, 57), (64, 62, 60, 59...</td>\n",
       "      <td>0</td>\n",
       "      <td>0.0</td>\n",
       "      <td>4.0</td>\n",
       "      <td>0.0</td>\n",
       "      <td>0.0</td>\n",
       "      <td>5.0</td>\n",
       "      <td>0.0</td>\n",
       "    </tr>\n",
       "    <tr>\n",
       "      <th>1742</th>\n",
       "      <td>16_3 + 408_2</td>\n",
       "      <td>0</td>\n",
       "      <td>[(16, 28, (57 1.0, 57 1.0, 56 1.0, 57 1.0), (5...</td>\n",
       "      <td>0</td>\n",
       "      <td>0</td>\n",
       "      <td>[(14, 3, (60, 59, 57, 57, 56), (60, 59, 57, 57...</td>\n",
       "      <td>0</td>\n",
       "      <td>0.0</td>\n",
       "      <td>4.0</td>\n",
       "      <td>0.0</td>\n",
       "      <td>0.0</td>\n",
       "      <td>5.0</td>\n",
       "      <td>0.0</td>\n",
       "    </tr>\n",
       "    <tr>\n",
       "      <th>1748</th>\n",
       "      <td>16_3 + 409_4</td>\n",
       "      <td>0</td>\n",
       "      <td>0</td>\n",
       "      <td>0</td>\n",
       "      <td>0</td>\n",
       "      <td>[(11, 46, (65, 64, 62, 60), (65, 64, 62, 60))]</td>\n",
       "      <td>0</td>\n",
       "      <td>0.0</td>\n",
       "      <td>0.0</td>\n",
       "      <td>0.0</td>\n",
       "      <td>0.0</td>\n",
       "      <td>4.0</td>\n",
       "      <td>0.0</td>\n",
       "    </tr>\n",
       "  </tbody>\n",
       "</table>\n",
       "<p>342 rows × 13 columns</p>\n",
       "</div>"
      ],
      "text/plain": [
       "             Notes LCS1                                               LCS2  \\\n",
       "13      16_3 + 5_3  0.0                                                0.0   \n",
       "14      16_3 + 5_4  0.0                                                0.0   \n",
       "23      16_3 + 8_1  0.0  [(45, 10, (64 1.0, 62 0.5, 64 0.5, 65 0.5), (6...   \n",
       "24      16_3 + 8_2  0.0                                                  0   \n",
       "31     16_3 + 10_1  0.0                                                  0   \n",
       "...            ...  ...                                                ...   \n",
       "1720  16_3 + 403_4    0                                                  0   \n",
       "1721  16_3 + 403_5    0                                                  0   \n",
       "1741  16_3 + 408_1    0  [(26, 14, (60 0.5, 62 0.5, 64 1.0, 64 1.0), (6...   \n",
       "1742  16_3 + 408_2    0  [(16, 28, (57 1.0, 57 1.0, 56 1.0, 57 1.0), (5...   \n",
       "1748  16_3 + 409_4    0                                                  0   \n",
       "\n",
       "                                                   LCS3  \\\n",
       "13                                                  0.0   \n",
       "14                                                  0.0   \n",
       "23    [(39, 7, (62 1.0, 64 1.0, 62 0.5, 64 0.5, 65 0...   \n",
       "24                                                    0   \n",
       "31                                                    0   \n",
       "...                                                 ...   \n",
       "1720                                                  0   \n",
       "1721                                                  0   \n",
       "1741                                                  0   \n",
       "1742                                                  0   \n",
       "1748                                                  0   \n",
       "\n",
       "                                                   LCS4  \\\n",
       "13                                                  0.0   \n",
       "14                                                  0.0   \n",
       "23    [(39, 7, (62 1.0, 64 1.0, 62 0.5, 64 0.5, 65 0...   \n",
       "24                                                    0   \n",
       "31                                                    0   \n",
       "...                                                 ...   \n",
       "1720                                                  0   \n",
       "1721                                                  0   \n",
       "1741                                                  0   \n",
       "1742                                                  0   \n",
       "1748                                                  0   \n",
       "\n",
       "                                                   LCS5  \\\n",
       "13    [(0, 41, (64, 64, 62, 60), (64, 64, 62, 60)), ...   \n",
       "14       [(40, 36, (55, 57, 59, 60), (55, 57, 59, 60))]   \n",
       "23    [(11, 13, (65, 64, 62, 60), (65, 64, 62, 60)),...   \n",
       "24       [(17, 38, (57, 56, 57, 55), (57, 56, 57, 55))]   \n",
       "31    [(11, 10, (65, 64, 62, 60), (65, 64, 62, 60)),...   \n",
       "...                                                 ...   \n",
       "1720  [(1, 14, (64, 62, 60, 60), (64, 62, 60, 60)), ...   \n",
       "1721  [(5, 41, (55, 57, 59, 55, 57), (55, 57, 59, 55...   \n",
       "1741  [(12, 3, (64, 62, 60, 59, 57), (64, 62, 60, 59...   \n",
       "1742  [(14, 3, (60, 59, 57, 57, 56), (60, 59, 57, 57...   \n",
       "1748     [(11, 46, (65, 64, 62, 60), (65, 64, 62, 60))]   \n",
       "\n",
       "                                               LCS6   l1   l2   l3   l4   l5  \\\n",
       "13                                              0.0  0.0  0.0  0.0  0.0  4.0   \n",
       "14                                              0.0  0.0  0.0  0.0  0.0  4.0   \n",
       "23    [(26, 6, (62, 64, 62, 65), (62, 64, 62, 65))]  0.0  4.0  5.0  5.0  4.0   \n",
       "24                                                0  0.0  0.0  0.0  0.0  4.0   \n",
       "31                                                0  0.0  0.0  0.0  0.0  4.0   \n",
       "...                                             ...  ...  ...  ...  ...  ...   \n",
       "1720                                              0  0.0  0.0  0.0  0.0  4.0   \n",
       "1721                                              0  0.0  0.0  0.0  0.0  5.0   \n",
       "1741                                              0  0.0  4.0  0.0  0.0  5.0   \n",
       "1742                                              0  0.0  4.0  0.0  0.0  5.0   \n",
       "1748                                              0  0.0  0.0  0.0  0.0  4.0   \n",
       "\n",
       "       l6  \n",
       "13    0.0  \n",
       "14    0.0  \n",
       "23    4.0  \n",
       "24    0.0  \n",
       "31    0.0  \n",
       "...   ...  \n",
       "1720  0.0  \n",
       "1721  0.0  \n",
       "1741  0.0  \n",
       "1742  0.0  \n",
       "1748  0.0  \n",
       "\n",
       "[342 rows x 13 columns]"
      ]
     },
     "execution_count": 92,
     "metadata": {},
     "output_type": "execute_result"
    }
   ],
   "source": [
    "df_whole_small = df_whole.drop(df_whole[(df_whole['LCS1'] == 0) & (df_whole['LCS2'] == 0) & (df_whole['LCS3'] == 0)\n",
    "                                       & (df_whole['LCS4'] == 0) & (df_whole['LCS5'] == 0) & (df_whole['LCS6'] == 0)].index)\n",
    "df_whole_small"
   ]
  },
  {
   "cell_type": "code",
   "execution_count": 387,
   "id": "861d1e24",
   "metadata": {},
   "outputs": [
    {
     "data": {
      "text/html": [
       "<div>\n",
       "<style scoped>\n",
       "    .dataframe tbody tr th:only-of-type {\n",
       "        vertical-align: middle;\n",
       "    }\n",
       "\n",
       "    .dataframe tbody tr th {\n",
       "        vertical-align: top;\n",
       "    }\n",
       "\n",
       "    .dataframe thead th {\n",
       "        text-align: right;\n",
       "    }\n",
       "</style>\n",
       "<table border=\"1\" class=\"dataframe\">\n",
       "  <thead>\n",
       "    <tr style=\"text-align: right;\">\n",
       "      <th></th>\n",
       "      <th>note_id</th>\n",
       "      <th>note_part_id</th>\n",
       "      <th>sheet_name</th>\n",
       "      <th>partName</th>\n",
       "      <th>sharps</th>\n",
       "      <th>bpm</th>\n",
       "      <th>key</th>\n",
       "      <th>time_signature</th>\n",
       "      <th>bpm (quarter note)</th>\n",
       "      <th>clef</th>\n",
       "      <th>measures</th>\n",
       "    </tr>\n",
       "  </thead>\n",
       "  <tbody>\n",
       "    <tr>\n",
       "      <th>0</th>\n",
       "      <td>2</td>\n",
       "      <td>2_1</td>\n",
       "      <td>bond</td>\n",
       "      <td>Piano</td>\n",
       "      <td>2</td>\n",
       "      <td>None</td>\n",
       "      <td>B minor</td>\n",
       "      <td>4/4</td>\n",
       "      <td>72.0</td>\n",
       "      <td>treble</td>\n",
       "      <td>[(1, 59, 0.5, 0.0), (1, 66, 0.5, 0.5), (1, 61,...</td>\n",
       "    </tr>\n",
       "    <tr>\n",
       "      <th>1</th>\n",
       "      <td>2</td>\n",
       "      <td>2_2</td>\n",
       "      <td>bond</td>\n",
       "      <td>Piano</td>\n",
       "      <td>2</td>\n",
       "      <td>None</td>\n",
       "      <td>B minor</td>\n",
       "      <td>4/4</td>\n",
       "      <td>72.0</td>\n",
       "      <td>bass</td>\n",
       "      <td>[[(1, 35, 3.0, 0.0), (1, 47, 3.0, 0.0)], (1, 7...</td>\n",
       "    </tr>\n",
       "    <tr>\n",
       "      <th>2</th>\n",
       "      <td>3</td>\n",
       "      <td>3_1</td>\n",
       "      <td>bwv1.6.mxl</td>\n",
       "      <td>Horn 2</td>\n",
       "      <td>0</td>\n",
       "      <td>None</td>\n",
       "      <td>C major</td>\n",
       "      <td>4/4</td>\n",
       "      <td>None</td>\n",
       "      <td>treble</td>\n",
       "      <td>[(0, 60, 1.0, 0.0), (1, 62, 0.5, 0.0), (1, 55,...</td>\n",
       "    </tr>\n",
       "    <tr>\n",
       "      <th>3</th>\n",
       "      <td>3</td>\n",
       "      <td>3_2</td>\n",
       "      <td>bwv1.6.mxl</td>\n",
       "      <td>Soprano</td>\n",
       "      <td>0</td>\n",
       "      <td>None</td>\n",
       "      <td>C major</td>\n",
       "      <td>4/4</td>\n",
       "      <td>None</td>\n",
       "      <td>treble</td>\n",
       "      <td>[(0, 60, 1.0, 0.0), (1, 67, 1.0, 0.0), (1, 64,...</td>\n",
       "    </tr>\n",
       "    <tr>\n",
       "      <th>4</th>\n",
       "      <td>3</td>\n",
       "      <td>3_3</td>\n",
       "      <td>bwv1.6.mxl</td>\n",
       "      <td>Alto</td>\n",
       "      <td>0</td>\n",
       "      <td>None</td>\n",
       "      <td>C major</td>\n",
       "      <td>4/4</td>\n",
       "      <td>None</td>\n",
       "      <td>treble</td>\n",
       "      <td>[(0, 55, 1.0, 0.0), (1, 55, 1.0, 0.0), (1, 55,...</td>\n",
       "    </tr>\n",
       "    <tr>\n",
       "      <th>...</th>\n",
       "      <td>...</td>\n",
       "      <td>...</td>\n",
       "      <td>...</td>\n",
       "      <td>...</td>\n",
       "      <td>...</td>\n",
       "      <td>...</td>\n",
       "      <td>...</td>\n",
       "      <td>...</td>\n",
       "      <td>...</td>\n",
       "      <td>...</td>\n",
       "      <td>...</td>\n",
       "    </tr>\n",
       "    <tr>\n",
       "      <th>1752</th>\n",
       "      <td>409</td>\n",
       "      <td>409_7</td>\n",
       "      <td>bwv97.9.mxl</td>\n",
       "      <td>Bass</td>\n",
       "      <td>0</td>\n",
       "      <td>None</td>\n",
       "      <td>C major</td>\n",
       "      <td>4/4</td>\n",
       "      <td>None</td>\n",
       "      <td>bass</td>\n",
       "      <td>[(0, 36, 1.0, 0.0), (1, 48, 1.0, 0.0), (1, 47,...</td>\n",
       "    </tr>\n",
       "    <tr>\n",
       "      <th>1753</th>\n",
       "      <td>410</td>\n",
       "      <td>410_1</td>\n",
       "      <td>bwv99.6.mxl</td>\n",
       "      <td>Soprano</td>\n",
       "      <td>0</td>\n",
       "      <td>None</td>\n",
       "      <td>G major  /  C major</td>\n",
       "      <td>4/4</td>\n",
       "      <td>None</td>\n",
       "      <td>treble</td>\n",
       "      <td>[(0, 55, 1.0, 0.0), (1, 60, 1.0, 0.0), (1, 62,...</td>\n",
       "    </tr>\n",
       "    <tr>\n",
       "      <th>1754</th>\n",
       "      <td>410</td>\n",
       "      <td>410_2</td>\n",
       "      <td>bwv99.6.mxl</td>\n",
       "      <td>Alto</td>\n",
       "      <td>0</td>\n",
       "      <td>None</td>\n",
       "      <td>C major  /  G major</td>\n",
       "      <td>4/4</td>\n",
       "      <td>None</td>\n",
       "      <td>treble</td>\n",
       "      <td>[(0, 52, 0.5, 0.0), (0, 53, 0.5, 0.5), (1, 55,...</td>\n",
       "    </tr>\n",
       "    <tr>\n",
       "      <th>1755</th>\n",
       "      <td>410</td>\n",
       "      <td>410_3</td>\n",
       "      <td>bwv99.6.mxl</td>\n",
       "      <td>Tenor</td>\n",
       "      <td>0</td>\n",
       "      <td>None</td>\n",
       "      <td>E minor  /  C major</td>\n",
       "      <td>4/4</td>\n",
       "      <td>None</td>\n",
       "      <td>bass</td>\n",
       "      <td>[(0, 48, 0.5, 0.0), (0, 50, 0.5, 0.5), (1, 52,...</td>\n",
       "    </tr>\n",
       "    <tr>\n",
       "      <th>1756</th>\n",
       "      <td>410</td>\n",
       "      <td>410_4</td>\n",
       "      <td>bwv99.6.mxl</td>\n",
       "      <td>Bass</td>\n",
       "      <td>0</td>\n",
       "      <td>None</td>\n",
       "      <td>C major</td>\n",
       "      <td>4/4</td>\n",
       "      <td>None</td>\n",
       "      <td>bass</td>\n",
       "      <td>[(0, 36, 1.0, 0.0), (1, 48, 1.0, 0.0), (1, 47,...</td>\n",
       "    </tr>\n",
       "  </tbody>\n",
       "</table>\n",
       "<p>1757 rows × 11 columns</p>\n",
       "</div>"
      ],
      "text/plain": [
       "      note_id note_part_id   sheet_name partName  sharps   bpm  \\\n",
       "0           2          2_1         bond    Piano       2  None   \n",
       "1           2          2_2         bond    Piano       2  None   \n",
       "2           3          3_1   bwv1.6.mxl   Horn 2       0  None   \n",
       "3           3          3_2   bwv1.6.mxl  Soprano       0  None   \n",
       "4           3          3_3   bwv1.6.mxl     Alto       0  None   \n",
       "...       ...          ...          ...      ...     ...   ...   \n",
       "1752      409        409_7  bwv97.9.mxl     Bass       0  None   \n",
       "1753      410        410_1  bwv99.6.mxl  Soprano       0  None   \n",
       "1754      410        410_2  bwv99.6.mxl     Alto       0  None   \n",
       "1755      410        410_3  bwv99.6.mxl    Tenor       0  None   \n",
       "1756      410        410_4  bwv99.6.mxl     Bass       0  None   \n",
       "\n",
       "                      key time_signature bpm (quarter note)    clef  \\\n",
       "0                 B minor            4/4               72.0  treble   \n",
       "1                 B minor            4/4               72.0    bass   \n",
       "2                 C major            4/4               None  treble   \n",
       "3                 C major            4/4               None  treble   \n",
       "4                 C major            4/4               None  treble   \n",
       "...                   ...            ...                ...     ...   \n",
       "1752              C major            4/4               None    bass   \n",
       "1753  G major  /  C major            4/4               None  treble   \n",
       "1754  C major  /  G major            4/4               None  treble   \n",
       "1755  E minor  /  C major            4/4               None    bass   \n",
       "1756              C major            4/4               None    bass   \n",
       "\n",
       "                                               measures  \n",
       "0     [(1, 59, 0.5, 0.0), (1, 66, 0.5, 0.5), (1, 61,...  \n",
       "1     [[(1, 35, 3.0, 0.0), (1, 47, 3.0, 0.0)], (1, 7...  \n",
       "2     [(0, 60, 1.0, 0.0), (1, 62, 0.5, 0.0), (1, 55,...  \n",
       "3     [(0, 60, 1.0, 0.0), (1, 67, 1.0, 0.0), (1, 64,...  \n",
       "4     [(0, 55, 1.0, 0.0), (1, 55, 1.0, 0.0), (1, 55,...  \n",
       "...                                                 ...  \n",
       "1752  [(0, 36, 1.0, 0.0), (1, 48, 1.0, 0.0), (1, 47,...  \n",
       "1753  [(0, 55, 1.0, 0.0), (1, 60, 1.0, 0.0), (1, 62,...  \n",
       "1754  [(0, 52, 0.5, 0.0), (0, 53, 0.5, 0.5), (1, 55,...  \n",
       "1755  [(0, 48, 0.5, 0.0), (0, 50, 0.5, 0.5), (1, 52,...  \n",
       "1756  [(0, 36, 1.0, 0.0), (1, 48, 1.0, 0.0), (1, 47,...  \n",
       "\n",
       "[1757 rows x 11 columns]"
      ]
     },
     "execution_count": 387,
     "metadata": {},
     "output_type": "execute_result"
    }
   ],
   "source": [
    "df_base"
   ]
  },
  {
   "cell_type": "markdown",
   "id": "f45aa8f7",
   "metadata": {},
   "source": [
    "## PLAYBACK"
   ]
  },
  {
   "cell_type": "code",
   "execution_count": 486,
   "id": "c7d0eeb4",
   "metadata": {},
   "outputs": [],
   "source": [
    "from music21 import *\n",
    "class KeyToken(tinyNotation.Token):\n",
    "    def parse(self, parent):\n",
    "        keyName = self.token\n",
    "        return key.Key(keyName)\n",
    "    \n",
    "def tiny_notes(part_name, seq1):\n",
    "    dura_dict = {0.25:16, 0.5:8, 1.0:4, 2.0:2, 4.0:1}\n",
    "    key = df_base.loc[df_base['note_part_id'] == part_name]['key'].values[0]\n",
    "    time= df_base.loc[df_base['note_part_id'] == part_name]['time_signature'].values[0]\n",
    "    notes = ''\n",
    "    print(key)\n",
    "    print(time)\n",
    "    for i in seq1:\n",
    "        \n",
    "        n_oct = note.Note(int(i[1])).nameWithOctave\n",
    "        n = note.Note(int(i[1])).name\n",
    "        duration = i[2]\n",
    "        \n",
    "        if n_oct[-1] == '4':\n",
    "            n = n.lower()\n",
    "        elif int(n_oct[-1]) ==2:\n",
    "            n = str(n)+str(n)\n",
    "        elif int(n_oct[-1]) ==1:\n",
    "            n = str(n)+str(n)+str(n)\n",
    "        \n",
    "        elif int(n_oct[-1]) == 5:\n",
    "            n= str(n)+\"'\"\n",
    "        elif int(n_oct[-1]) == 6:\n",
    "            n= str(n)+\"'\"+\"'\"\n",
    "        elif int(n_oct[-1]) == 7:\n",
    "            n= str(n)+\"'\"+\"'\"+\"'\"\n",
    "            \n",
    "            \n",
    "        duration = dura_dict[i[2]]\n",
    "\n",
    "        notes = notes + str(n) + str(duration) + ' '\n",
    "        \n",
    "    tinynote = str(time) + ' ' + 'k'+(str(key.lower()) + ' ' + notes)\n",
    "    print(tinynote)\n",
    "    tnc = tinyNotation.Converter()\n",
    "    keyMapping = (r'k(.*)', KeyToken)\n",
    "    tnc.tokenMap.append(keyMapping)\n",
    "    tnc.load(tinynote)\n",
    "    tnc.parse()\n",
    "    s = tnc.stream\n",
    "    s.append(tempo.MetronomeMark(70))\n",
    "    s.show()\n",
    "    return s.show('midi')\n",
    "    \n",
    "#lst = df_base[df_base['note_part_id'] == '16_3']['measures'].values[0]\n",
    "#print(lst)\n",
    "#tiny = tiny_notes('16_3', lst)"
   ]
  },
  {
   "cell_type": "code",
   "execution_count": 487,
   "id": "f4454317",
   "metadata": {},
   "outputs": [],
   "source": [
    "import matplotlib.pyplot as plt\n",
    "%matplotlib inline\n",
    "\n",
    "def visualize_subs(name1, name2, part_id_1, part_id_2, seq1, seq2):\n",
    "    s1 = corpus.parse('bach/'+name1)\n",
    "    s2 = corpus.parse('bach/'+name2)\n",
    "    \n",
    "    sNew1 = key_change_to_base(s1)\n",
    "    partStream1 = sNew1.parts.stream()\n",
    "    sNew2 = key_change_to_base(s2)\n",
    "    partStream2 = sNew2.parts.stream()\n",
    "    \n",
    "    print(\"THE LENGHT OF THE SUBSEQ IS \" + str(len(seq2)))\n",
    "    \n",
    "    return(sNew1.parts[int(part_id_1)-1].measures(seq1[0][0],seq1[-1][0]).plot().run(), sNew2.parts[int(part_id_2)-1].measures(seq2[0][0],seq2[-1][0]).plot().run())\n"
   ]
  },
  {
   "cell_type": "code",
   "execution_count": 488,
   "id": "e42eedf7",
   "metadata": {},
   "outputs": [],
   "source": [
    "def find_seq_in_notes(sub):\n",
    "    for i in range(len(sub[0])):\n",
    "        \n",
    "        splitted_notes = sub[0][i].split()\n",
    "        #print(splitted_notes)\n",
    "        part_id_1 = splitted_notes[0].split('_')[-1]\n",
    "        part_id_2 = splitted_notes[2].split('_')[-1]\n",
    "        \n",
    "        \n",
    "        name1 = df_base.loc[df_base['note_part_id'] == splitted_notes[0]]['sheet_name'].values[0] #in index 1 there is a '+'\n",
    "        name2 = df_base.loc[df_base['note_part_id'] == splitted_notes[2]]['sheet_name'].values[0]\n",
    "\n",
    "        print(name1)\n",
    "        print(name2)\n",
    "        \n",
    "\n",
    "        #The right parts are splitted here:\n",
    "        \n",
    "        part1 = df_base.loc[df_base['note_part_id'] == splitted_notes[0]]['measures'].values[0]\n",
    "        part2 = df_base.loc[df_base['note_part_id'] == splitted_notes[2]]['measures'].values[0]\n",
    "        \n",
    "        \n",
    "        #Finding all the different subsequences of the parts:\n",
    "        \n",
    "        for s in sub[1][i]:\n",
    "            seq1 = part1[s[0]:(s[0]+len(s[2]))]\n",
    "            seq2 = part2[s[1]:(s[1]+len(s[2]))]\n",
    "            print(\"First note's sequence:\")\n",
    "            print(seq1)\n",
    "            print(\"Second note's sequence:\")\n",
    "            print(seq2)\n",
    "            visualize_subs(name1, name2, part_id_1, part_id_2, seq1, seq2)\n",
    "            tiny_notes(splitted_notes[0], seq1)\n",
    "            tiny_notes(splitted_notes[2], seq2)"
   ]
  },
  {
   "cell_type": "code",
   "execution_count": 489,
   "id": "c5c6a63e",
   "metadata": {},
   "outputs": [],
   "source": [
    "def find_subsequence(col, target_col):\n",
    "    \n",
    "    length = max(df_whole_small[col].value_counts().keys())\n",
    "    df_whole_small[df_whole_small[col]==length]\n",
    "    sequences = df_whole_small[df_whole_small[col]==length]['Notes'].values\n",
    "    first_key = list(df_whole_small[df_whole_small[col]==length]['Notes'].values)\n",
    "    vals = list(df_whole_small[df_whole_small[col]==length][target_col].values)\n",
    "    for i in range(len(first_key)):\n",
    "        print(first_key[i])\n",
    "        val = list(df_whole_small[df_whole_small[col]==length][target_col].values)[i]\n",
    "        print(val)\n",
    "    return(first_key, vals)\n",
    "    "
   ]
  },
  {
   "cell_type": "code",
   "execution_count": 482,
   "id": "cb7661ba",
   "metadata": {},
   "outputs": [
    {
     "name": "stdout",
     "output_type": "stream",
     "text": [
      "16_3 + 154_3\n",
      "[(16, 15, ('57 1.0', '57 1.0', '56 1.0', '57 1.0', '55 1.0', '60 1.0'), ('57 1.0', '57 1.0', '56 1.0', '57 1.0', '55 1.0', '60 1.0')), (25, 25, ('59 0.5', '60 0.5', '62 0.5', '64 1.0', '64 1.0', '64 1.0'), ('59 0.5', '60 0.5', '62 0.5', '64 1.0', '64 1.0', '64 1.0'))]\n",
      "16_3 + 236_3\n",
      "[(13, 35, ('62 0.5', '60 0.5', '59 0.5', '57 1.0', '57 1.0', '56 1.0'), ('62 0.5', '60 0.5', '59 0.5', '57 1.0', '57 1.0', '56 1.0'))]\n",
      "16_3 + 241_3\n",
      "[(47, 35, ('64 0.5', '65 0.5', '59 0.5', '64 0.5', '62 0.5', '61 1.0'), ('64 0.5', '65 0.5', '59 0.5', '64 0.5', '62 0.5', '61 1.0'))]\n"
     ]
    }
   ],
   "source": [
    "subs = find_subsequence('l2', 'LCS2')\n",
    "#subs"
   ]
  },
  {
   "cell_type": "code",
   "execution_count": 483,
   "id": "f65ee559",
   "metadata": {},
   "outputs": [
    {
     "name": "stdout",
     "output_type": "stream",
     "text": [
      "bwv114.7.mxl\n",
      "bwv257.mxl\n",
      "First note's sequence:\n",
      "[(3, '57', 1.0, 3.0), (4, '57', 1.0, 0.0), (4, '56', 1.0, 1.0), (4, '57', 1.0, 2.0), (4, '55', 1.0, 0.0), (5, '60', 1.0, 0.0)]\n",
      "Second note's sequence:\n",
      "[(3, '57', 1.0, 3.0), (4, '57', 1.0, 0.0), (4, '56', 1.0, 1.0), (4, '57', 1.0, 2.0), (4, '55', 1.0, 0.0), (5, '60', 1.0, 0.0)]\n",
      "THE LENGHT OF THE SUBSEQ IS 6\n",
      "A minor\n",
      "4/4\n",
      "4/4 ka minor A4 A4 G#4 A4 G4 c4 \n"
     ]
    },
    {
     "data": {
      "image/png": "[encoded data removed]",
      "text/plain": [
       "<IPython.core.display.Image object>"
      ]
     },
     "metadata": {
      "image/png": {
       "height": 38,
       "width": 674
      }
     },
     "output_type": "display_data"
    },
    {
     "data": {
      "text/html": [
       "\n",
       "                <div id='midiPlayerDiv2871451'></div>\n",
       "                <link rel=\"stylesheet\" href=\"//cuthbertLab.github.io/music21j/css/m21.css\"\n",
       "                    type=\"text/css\" />\n",
       "                <script>\n",
       "                require.config({\n",
       "                    paths: {'music21': '//cuthbertLab.github.io/music21j/src/music21'}\n",
       "                });\n",
       "                require(['music21'], function() {\n",
       "                               mp = new music21.miditools.MidiPlayer();\n",
       "                               mp.addPlayer('#midiPlayerDiv2871451');\n",
       "                               mp.base64Load('data:audio/midi;base64,TVRoZAAAAAYAAQACBABNVHJrAAAAGwD/WQIAAQD/WAQEAhgIsAD/UQMNFDeIAP8vAE1UcmsAAABEAP8DAADgAECIAJA5WogAgDkAAJA5WogAgDkAAJA4WogAgDgAAJA5WogAgDkAAJA3WogAgDcAAJA8WogAgDwAiAD/LwA=');\n",
       "                        });\n",
       "                </script>"
      ],
      "text/plain": [
       "<IPython.core.display.HTML object>"
      ]
     },
     "metadata": {},
     "output_type": "display_data"
    },
    {
     "data": {
      "text/html": [
       "\n",
       "                <div id='midiPlayerDiv2871592'></div>\n",
       "                <link rel=\"stylesheet\" href=\"//cuthbertLab.github.io/music21j/css/m21.css\"\n",
       "                    type=\"text/css\" />\n",
       "                <script>\n",
       "                require.config({\n",
       "                    paths: {'music21': '//cuthbertLab.github.io/music21j/src/music21'}\n",
       "                });\n",
       "                require(['music21'], function() {\n",
       "                               mp = new music21.miditools.MidiPlayer();\n",
       "                               mp.addPlayer('#midiPlayerDiv2871592');\n",
       "                               mp.base64Load('data:audio/midi;base64,TVRoZAAAAAYAAQACBABNVHJrAAAAGwD/WQIAAQD/WAQEAhgIsAD/UQMNFDeIAP8vAE1UcmsAAABEAP8DAADgAECIAJA5WogAgDkAAJA5WogAgDkAAJA4WogAgDgAAJA5WogAgDkAAJA3WogAgDcAAJA8WogAgDwAiAD/LwA=');\n",
       "                        });\n",
       "                </script>"
      ],
      "text/plain": [
       "<IPython.core.display.HTML object>"
      ]
     },
     "metadata": {},
     "output_type": "display_data"
    },
    {
     "name": "stdout",
     "output_type": "stream",
     "text": [
      "A minor\n",
      "4/4\n",
      "4/4 ka minor A4 A4 G#4 A4 G4 c4 \n"
     ]
    },
    {
     "data": {
      "image/png": "[encoded data removed]",
      "text/plain": [
       "<IPython.core.display.Image object>"
      ]
     },
     "metadata": {
      "image/png": {
       "height": 38,
       "width": 674
      }
     },
     "output_type": "display_data"
    },
    {
     "data": {
      "text/html": [
       "\n",
       "                <div id='midiPlayerDiv2871853'></div>\n",
       "                <link rel=\"stylesheet\" href=\"//cuthbertLab.github.io/music21j/css/m21.css\"\n",
       "                    type=\"text/css\" />\n",
       "                <script>\n",
       "                require.config({\n",
       "                    paths: {'music21': '//cuthbertLab.github.io/music21j/src/music21'}\n",
       "                });\n",
       "                require(['music21'], function() {\n",
       "                               mp = new music21.miditools.MidiPlayer();\n",
       "                               mp.addPlayer('#midiPlayerDiv2871853');\n",
       "                               mp.base64Load('data:audio/midi;base64,TVRoZAAAAAYAAQACBABNVHJrAAAAGwD/WQIAAQD/WAQEAhgIsAD/UQMNFDeIAP8vAE1UcmsAAABEAP8DAADgAECIAJA5WogAgDkAAJA5WogAgDkAAJA4WogAgDgAAJA5WogAgDkAAJA3WogAgDcAAJA8WogAgDwAiAD/LwA=');\n",
       "                        });\n",
       "                </script>"
      ],
      "text/plain": [
       "<IPython.core.display.HTML object>"
      ]
     },
     "metadata": {},
     "output_type": "display_data"
    },
    {
     "data": {
      "text/html": [
       "\n",
       "                <div id='midiPlayerDiv2871980'></div>\n",
       "                <link rel=\"stylesheet\" href=\"//cuthbertLab.github.io/music21j/css/m21.css\"\n",
       "                    type=\"text/css\" />\n",
       "                <script>\n",
       "                require.config({\n",
       "                    paths: {'music21': '//cuthbertLab.github.io/music21j/src/music21'}\n",
       "                });\n",
       "                require(['music21'], function() {\n",
       "                               mp = new music21.miditools.MidiPlayer();\n",
       "                               mp.addPlayer('#midiPlayerDiv2871980');\n",
       "                               mp.base64Load('data:audio/midi;base64,TVRoZAAAAAYAAQACBABNVHJrAAAAGwD/WQIAAQD/WAQEAhgIsAD/UQMNFDeIAP8vAE1UcmsAAABEAP8DAADgAECIAJA5WogAgDkAAJA5WogAgDkAAJA4WogAgDgAAJA5WogAgDkAAJA3WogAgDcAAJA8WogAgDwAiAD/LwA=');\n",
       "                        });\n",
       "                </script>"
      ],
      "text/plain": [
       "<IPython.core.display.HTML object>"
      ]
     },
     "metadata": {},
     "output_type": "display_data"
    },
    {
     "name": "stdout",
     "output_type": "stream",
     "text": [
      "First note's sequence:\n",
      "[(5, '59', 0.5, 3.5), (6, '60', 0.5, 0.0), (6, '62', 0.5, 0.5), (6, '64', 1.0, 1.0), (6, '64', 1.0, 2.0), (6, '64', 1.0, 3.0)]\n",
      "Second note's sequence:\n",
      "[(5, '59', 0.5, 3.5), (6, '60', 0.5, 0.0), (6, '62', 0.5, 0.5), (6, '64', 1.0, 1.0), (6, '64', 1.0, 2.0), (6, '64', 1.0, 3.0)]\n",
      "THE LENGHT OF THE SUBSEQ IS 6\n",
      "A minor\n",
      "4/4\n",
      "4/4 ka minor B8 c8 d8 e4 e4 e4 \n"
     ]
    },
    {
     "data": {
      "image/png": "[encoded data removed]",
      "text/plain": [
       "<IPython.core.display.Image object>"
      ]
     },
     "metadata": {
      "image/png": {
       "height": 51,
       "width": 674
      }
     },
     "output_type": "display_data"
    },
    {
     "data": {
      "text/html": [
       "\n",
       "                <div id='midiPlayerDiv2877256'></div>\n",
       "                <link rel=\"stylesheet\" href=\"//cuthbertLab.github.io/music21j/css/m21.css\"\n",
       "                    type=\"text/css\" />\n",
       "                <script>\n",
       "                require.config({\n",
       "                    paths: {'music21': '//cuthbertLab.github.io/music21j/src/music21'}\n",
       "                });\n",
       "                require(['music21'], function() {\n",
       "                               mp = new music21.miditools.MidiPlayer();\n",
       "                               mp.addPlayer('#midiPlayerDiv2877256');\n",
       "                               mp.base64Load('data:audio/midi;base64,TVRoZAAAAAYAAQACBABNVHJrAAAAGwD/WQIAAQD/WAQEAhgIpAD/UQMNFDeIAP8vAE1UcmsAAABEAP8DAADgAECIAJA7WoQAgDsAAJA8WoQAgDwAAJA+WoQAgD4AAJBAWogAgEAAAJBAWogAgEAAAJBAWogAgEAAiAD/LwA=');\n",
       "                        });\n",
       "                </script>"
      ],
      "text/plain": [
       "<IPython.core.display.HTML object>"
      ]
     },
     "metadata": {},
     "output_type": "display_data"
    },
    {
     "data": {
      "text/html": [
       "\n",
       "                <div id='midiPlayerDiv2877399'></div>\n",
       "                <link rel=\"stylesheet\" href=\"//cuthbertLab.github.io/music21j/css/m21.css\"\n",
       "                    type=\"text/css\" />\n",
       "                <script>\n",
       "                require.config({\n",
       "                    paths: {'music21': '//cuthbertLab.github.io/music21j/src/music21'}\n",
       "                });\n",
       "                require(['music21'], function() {\n",
       "                               mp = new music21.miditools.MidiPlayer();\n",
       "                               mp.addPlayer('#midiPlayerDiv2877399');\n",
       "                               mp.base64Load('data:audio/midi;base64,TVRoZAAAAAYAAQACBABNVHJrAAAAGwD/WQIAAQD/WAQEAhgIpAD/UQMNFDeIAP8vAE1UcmsAAABEAP8DAADgAECIAJA7WoQAgDsAAJA8WoQAgDwAAJA+WoQAgD4AAJBAWogAgEAAAJBAWogAgEAAAJBAWogAgEAAiAD/LwA=');\n",
       "                        });\n",
       "                </script>"
      ],
      "text/plain": [
       "<IPython.core.display.HTML object>"
      ]
     },
     "metadata": {},
     "output_type": "display_data"
    },
    {
     "name": "stdout",
     "output_type": "stream",
     "text": [
      "A minor\n",
      "4/4\n",
      "4/4 ka minor B8 c8 d8 e4 e4 e4 \n"
     ]
    },
    {
     "data": {
      "image/png": "[encoded data removed]",
      "text/plain": [
       "<IPython.core.display.Image object>"
      ]
     },
     "metadata": {
      "image/png": {
       "height": 51,
       "width": 674
      }
     },
     "output_type": "display_data"
    },
    {
     "data": {
      "text/html": [
       "\n",
       "                <div id='midiPlayerDiv2877658'></div>\n",
       "                <link rel=\"stylesheet\" href=\"//cuthbertLab.github.io/music21j/css/m21.css\"\n",
       "                    type=\"text/css\" />\n",
       "                <script>\n",
       "                require.config({\n",
       "                    paths: {'music21': '//cuthbertLab.github.io/music21j/src/music21'}\n",
       "                });\n",
       "                require(['music21'], function() {\n",
       "                               mp = new music21.miditools.MidiPlayer();\n",
       "                               mp.addPlayer('#midiPlayerDiv2877658');\n",
       "                               mp.base64Load('data:audio/midi;base64,TVRoZAAAAAYAAQACBABNVHJrAAAAGwD/WQIAAQD/WAQEAhgIpAD/UQMNFDeIAP8vAE1UcmsAAABEAP8DAADgAECIAJA7WoQAgDsAAJA8WoQAgDwAAJA+WoQAgD4AAJBAWogAgEAAAJBAWogAgEAAAJBAWogAgEAAiAD/LwA=');\n",
       "                        });\n",
       "                </script>"
      ],
      "text/plain": [
       "<IPython.core.display.HTML object>"
      ]
     },
     "metadata": {},
     "output_type": "display_data"
    },
    {
     "data": {
      "text/html": [
       "\n",
       "                <div id='midiPlayerDiv2877787'></div>\n",
       "                <link rel=\"stylesheet\" href=\"//cuthbertLab.github.io/music21j/css/m21.css\"\n",
       "                    type=\"text/css\" />\n",
       "                <script>\n",
       "                require.config({\n",
       "                    paths: {'music21': '//cuthbertLab.github.io/music21j/src/music21'}\n",
       "                });\n",
       "                require(['music21'], function() {\n",
       "                               mp = new music21.miditools.MidiPlayer();\n",
       "                               mp.addPlayer('#midiPlayerDiv2877787');\n",
       "                               mp.base64Load('data:audio/midi;base64,TVRoZAAAAAYAAQACBABNVHJrAAAAGwD/WQIAAQD/WAQEAhgIpAD/UQMNFDeIAP8vAE1UcmsAAABEAP8DAADgAECIAJA7WoQAgDsAAJA8WoQAgDwAAJA+WoQAgD4AAJBAWogAgEAAAJBAWogAgEAAAJBAWogAgEAAiAD/LwA=');\n",
       "                        });\n",
       "                </script>"
      ],
      "text/plain": [
       "<IPython.core.display.HTML object>"
      ]
     },
     "metadata": {},
     "output_type": "display_data"
    },
    {
     "name": "stdout",
     "output_type": "stream",
     "text": [
      "bwv114.7.mxl\n",
      "bwv330.mxl\n",
      "First note's sequence:\n",
      "[(3, '62', 0.5, 1.5), (3, '60', 0.5, 2.0), (3, '59', 0.5, 2.5), (3, '57', 1.0, 3.0), (4, '57', 1.0, 0.0), (4, '56', 1.0, 1.0)]\n",
      "Second note's sequence:\n",
      "[(7, '62', 0.5, 3.5), (8, '60', 0.5, 0.0), (8, '59', 0.5, 0.5), (8, '57', 1.0, 1.0), (8, '57', 1.0, 2.0), (8, '56', 1.0, 3.0)]\n",
      "THE LENGHT OF THE SUBSEQ IS 6\n",
      "A minor\n",
      "4/4\n",
      "4/4 ka minor d8 c8 B8 A4 A4 G#4 \n"
     ]
    },
    {
     "data": {
      "image/png": "[encoded data removed]",
      "text/plain": [
       "<IPython.core.display.Image object>"
      ]
     },
     "metadata": {
      "image/png": {
       "height": 42,
       "width": 674
      }
     },
     "output_type": "display_data"
    },
    {
     "data": {
      "text/html": [
       "\n",
       "                <div id='midiPlayerDiv2882741'></div>\n",
       "                <link rel=\"stylesheet\" href=\"//cuthbertLab.github.io/music21j/css/m21.css\"\n",
       "                    type=\"text/css\" />\n",
       "                <script>\n",
       "                require.config({\n",
       "                    paths: {'music21': '//cuthbertLab.github.io/music21j/src/music21'}\n",
       "                });\n",
       "                require(['music21'], function() {\n",
       "                               mp = new music21.miditools.MidiPlayer();\n",
       "                               mp.addPlayer('#midiPlayerDiv2882741');\n",
       "                               mp.base64Load('data:audio/midi;base64,TVRoZAAAAAYAAQACBABNVHJrAAAAGwD/WQIAAQD/WAQEAhgIpAD/UQMNFDeIAP8vAE1UcmsAAABEAP8DAADgAECIAJA+WoQAgD4AAJA8WoQAgDwAAJA7WoQAgDsAAJA5WogAgDkAAJA5WogAgDkAAJA4WogAgDgAiAD/LwA=');\n",
       "                        });\n",
       "                </script>"
      ],
      "text/plain": [
       "<IPython.core.display.HTML object>"
      ]
     },
     "metadata": {},
     "output_type": "display_data"
    },
    {
     "data": {
      "text/html": [
       "\n",
       "                <div id='midiPlayerDiv2882870'></div>\n",
       "                <link rel=\"stylesheet\" href=\"//cuthbertLab.github.io/music21j/css/m21.css\"\n",
       "                    type=\"text/css\" />\n",
       "                <script>\n",
       "                require.config({\n",
       "                    paths: {'music21': '//cuthbertLab.github.io/music21j/src/music21'}\n",
       "                });\n",
       "                require(['music21'], function() {\n",
       "                               mp = new music21.miditools.MidiPlayer();\n",
       "                               mp.addPlayer('#midiPlayerDiv2882870');\n",
       "                               mp.base64Load('data:audio/midi;base64,TVRoZAAAAAYAAQACBABNVHJrAAAAGwD/WQIAAQD/WAQEAhgIpAD/UQMNFDeIAP8vAE1UcmsAAABEAP8DAADgAECIAJA+WoQAgD4AAJA8WoQAgDwAAJA7WoQAgDsAAJA5WogAgDkAAJA5WogAgDkAAJA4WogAgDgAiAD/LwA=');\n",
       "                        });\n",
       "                </script>"
      ],
      "text/plain": [
       "<IPython.core.display.HTML object>"
      ]
     },
     "metadata": {},
     "output_type": "display_data"
    },
    {
     "name": "stdout",
     "output_type": "stream",
     "text": [
      "A minor\n",
      "4/4\n",
      "4/4 ka minor d8 c8 B8 A4 A4 G#4 \n"
     ]
    },
    {
     "data": {
      "image/png": "[encoded data removed]",
      "text/plain": [
       "<IPython.core.display.Image object>"
      ]
     },
     "metadata": {
      "image/png": {
       "height": 42,
       "width": 674
      }
     },
     "output_type": "display_data"
    },
    {
     "data": {
      "text/html": [
       "\n",
       "                <div id='midiPlayerDiv2883130'></div>\n",
       "                <link rel=\"stylesheet\" href=\"//cuthbertLab.github.io/music21j/css/m21.css\"\n",
       "                    type=\"text/css\" />\n",
       "                <script>\n",
       "                require.config({\n",
       "                    paths: {'music21': '//cuthbertLab.github.io/music21j/src/music21'}\n",
       "                });\n",
       "                require(['music21'], function() {\n",
       "                               mp = new music21.miditools.MidiPlayer();\n",
       "                               mp.addPlayer('#midiPlayerDiv2883130');\n",
       "                               mp.base64Load('data:audio/midi;base64,TVRoZAAAAAYAAQACBABNVHJrAAAAGwD/WQIAAQD/WAQEAhgIpAD/UQMNFDeIAP8vAE1UcmsAAABEAP8DAADgAECIAJA+WoQAgD4AAJA8WoQAgDwAAJA7WoQAgDsAAJA5WogAgDkAAJA5WogAgDkAAJA4WogAgDgAiAD/LwA=');\n",
       "                        });\n",
       "                </script>"
      ],
      "text/plain": [
       "<IPython.core.display.HTML object>"
      ]
     },
     "metadata": {},
     "output_type": "display_data"
    },
    {
     "data": {
      "text/html": [
       "\n",
       "                <div id='midiPlayerDiv2883259'></div>\n",
       "                <link rel=\"stylesheet\" href=\"//cuthbertLab.github.io/music21j/css/m21.css\"\n",
       "                    type=\"text/css\" />\n",
       "                <script>\n",
       "                require.config({\n",
       "                    paths: {'music21': '//cuthbertLab.github.io/music21j/src/music21'}\n",
       "                });\n",
       "                require(['music21'], function() {\n",
       "                               mp = new music21.miditools.MidiPlayer();\n",
       "                               mp.addPlayer('#midiPlayerDiv2883259');\n",
       "                               mp.base64Load('data:audio/midi;base64,TVRoZAAAAAYAAQACBABNVHJrAAAAGwD/WQIAAQD/WAQEAhgIpAD/UQMNFDeIAP8vAE1UcmsAAABEAP8DAADgAECIAJA+WoQAgD4AAJA8WoQAgDwAAJA7WoQAgDsAAJA5WogAgDkAAJA5WogAgDkAAJA4WogAgDgAiAD/LwA=');\n",
       "                        });\n",
       "                </script>"
      ],
      "text/plain": [
       "<IPython.core.display.HTML object>"
      ]
     },
     "metadata": {},
     "output_type": "display_data"
    },
    {
     "name": "stdout",
     "output_type": "stream",
     "text": [
      "bwv114.7.mxl\n",
      "bwv335.mxl\n",
      "First note's sequence:\n",
      "[(9, '64', 0.5, 3.5), (10, '65', 0.5, 0.0), (10, '59', 0.5, 0.5), (10, '64', 0.5, 1.0), (10, '62', 0.5, 1.5), (10, '61', 1.0, 2.0)]\n",
      "Second note's sequence:\n",
      "[(7, '64', 0.5, 3.5), (8, '65', 0.5, 0.0), (8, '59', 0.5, 0.5), (8, '64', 0.5, 1.0), (8, '62', 0.5, 1.5), (8, '61', 1.0, 2.0)]\n",
      "THE LENGHT OF THE SUBSEQ IS 6\n",
      "A minor\n",
      "4/4\n",
      "4/4 ka minor e8 f8 B8 e8 d8 c#4 \n"
     ]
    },
    {
     "data": {
      "image/png": "[encoded data removed]",
      "text/plain": [
       "<IPython.core.display.Image object>"
      ]
     },
     "metadata": {
      "image/png": {
       "height": 53,
       "width": 674
      }
     },
     "output_type": "display_data"
    },
    {
     "data": {
      "text/html": [
       "\n",
       "                <div id='midiPlayerDiv2887923'></div>\n",
       "                <link rel=\"stylesheet\" href=\"//cuthbertLab.github.io/music21j/css/m21.css\"\n",
       "                    type=\"text/css\" />\n",
       "                <script>\n",
       "                require.config({\n",
       "                    paths: {'music21': '//cuthbertLab.github.io/music21j/src/music21'}\n",
       "                });\n",
       "                require(['music21'], function() {\n",
       "                               mp = new music21.miditools.MidiPlayer();\n",
       "                               mp.addPlayer('#midiPlayerDiv2887923');\n",
       "                               mp.base64Load('data:audio/midi;base64,TVRoZAAAAAYAAQACBABNVHJrAAAAGwD/WQIAAQD/WAQEAhgInAD/UQMNFDeIAP8vAE1UcmsAAABEAP8DAADgAECIAJBAWoQAgEAAAJBBWoQAgEEAAJA7WoQAgDsAAJBAWoQAgEAAAJA+WoQAgD4AAJA9WogAgD0AiAD/LwA=');\n",
       "                        });\n",
       "                </script>"
      ],
      "text/plain": [
       "<IPython.core.display.HTML object>"
      ]
     },
     "metadata": {},
     "output_type": "display_data"
    },
    {
     "data": {
      "text/html": [
       "\n",
       "                <div id='midiPlayerDiv2888062'></div>\n",
       "                <link rel=\"stylesheet\" href=\"//cuthbertLab.github.io/music21j/css/m21.css\"\n",
       "                    type=\"text/css\" />\n",
       "                <script>\n",
       "                require.config({\n",
       "                    paths: {'music21': '//cuthbertLab.github.io/music21j/src/music21'}\n",
       "                });\n",
       "                require(['music21'], function() {\n",
       "                               mp = new music21.miditools.MidiPlayer();\n",
       "                               mp.addPlayer('#midiPlayerDiv2888062');\n",
       "                               mp.base64Load('data:audio/midi;base64,TVRoZAAAAAYAAQACBABNVHJrAAAAGwD/WQIAAQD/WAQEAhgInAD/UQMNFDeIAP8vAE1UcmsAAABEAP8DAADgAECIAJBAWoQAgEAAAJBBWoQAgEEAAJA7WoQAgDsAAJBAWoQAgEAAAJA+WoQAgD4AAJA9WogAgD0AiAD/LwA=');\n",
       "                        });\n",
       "                </script>"
      ],
      "text/plain": [
       "<IPython.core.display.HTML object>"
      ]
     },
     "metadata": {},
     "output_type": "display_data"
    },
    {
     "name": "stdout",
     "output_type": "stream",
     "text": [
      "A minor  /  d minor\n",
      "4/4\n",
      "4/4 ka minor  /  d minor e8 f8 B8 e8 d8 c#4 \n"
     ]
    },
    {
     "data": {
      "image/png": "[encoded data removed]",
      "text/plain": [
       "<IPython.core.display.Image object>"
      ]
     },
     "metadata": {
      "image/png": {
       "height": 56,
       "width": 674
      }
     },
     "output_type": "display_data"
    },
    {
     "data": {
      "text/html": [
       "\n",
       "                <div id='midiPlayerDiv2888342'></div>\n",
       "                <link rel=\"stylesheet\" href=\"//cuthbertLab.github.io/music21j/css/m21.css\"\n",
       "                    type=\"text/css\" />\n",
       "                <script>\n",
       "                require.config({\n",
       "                    paths: {'music21': '//cuthbertLab.github.io/music21j/src/music21'}\n",
       "                });\n",
       "                require(['music21'], function() {\n",
       "                               mp = new music21.miditools.MidiPlayer();\n",
       "                               mp.addPlayer('#midiPlayerDiv2888342');\n",
       "                               mp.base64Load('data:audio/midi;base64,TVRoZAAAAAYAAQACBABNVHJrAAAAGwD/WQIAAQD/WAQEAhgIpAD/UQMNFDeIAP8vAE1UcmsAAABNAP8DAADgAECIAJA+WogAgD4AAJBAWoQAgEAAAJBBWoQAgEEAAJA7WoQAgDsAAJBAWoQAgEAAAJA+WoQAgD4AAJA9WogAgD0AiAD/LwA=');\n",
       "                        });\n",
       "                </script>"
      ],
      "text/plain": [
       "<IPython.core.display.HTML object>"
      ]
     },
     "metadata": {},
     "output_type": "display_data"
    },
    {
     "data": {
      "text/html": [
       "\n",
       "                <div id='midiPlayerDiv2888482'></div>\n",
       "                <link rel=\"stylesheet\" href=\"//cuthbertLab.github.io/music21j/css/m21.css\"\n",
       "                    type=\"text/css\" />\n",
       "                <script>\n",
       "                require.config({\n",
       "                    paths: {'music21': '//cuthbertLab.github.io/music21j/src/music21'}\n",
       "                });\n",
       "                require(['music21'], function() {\n",
       "                               mp = new music21.miditools.MidiPlayer();\n",
       "                               mp.addPlayer('#midiPlayerDiv2888482');\n",
       "                               mp.base64Load('data:audio/midi;base64,TVRoZAAAAAYAAQACBABNVHJrAAAAGwD/WQIAAQD/WAQEAhgIpAD/UQMNFDeIAP8vAE1UcmsAAABNAP8DAADgAECIAJA+WogAgD4AAJBAWoQAgEAAAJBBWoQAgEEAAJA7WoQAgDsAAJBAWoQAgEAAAJA+WoQAgD4AAJA9WogAgD0AiAD/LwA=');\n",
       "                        });\n",
       "                </script>"
      ],
      "text/plain": [
       "<IPython.core.display.HTML object>"
      ]
     },
     "metadata": {},
     "output_type": "display_data"
    },
    {
     "data": {
      "image/png": "[encoded data removed]",
      "text/plain": [
       "<Figure size 720x432 with 1 Axes>"
      ]
     },
     "metadata": {
      "image/png": {
       "height": 382,
       "width": 584
      }
     },
     "output_type": "display_data"
    },
    {
     "data": {
      "image/png": "[encoded data removed]",
      "text/plain": [
       "<Figure size 720x432 with 1 Axes>"
      ]
     },
     "metadata": {
      "image/png": {
       "height": 382,
       "width": 584
      }
     },
     "output_type": "display_data"
    },
    {
     "data": {
      "image/png": "[encoded data removed]",
      "text/plain": [
       "<Figure size 720x432 with 1 Axes>"
      ]
     },
     "metadata": {
      "image/png": {
       "height": 382,
       "width": 584
      }
     },
     "output_type": "display_data"
    },
    {
     "data": {
      "image/png": "[encoded data removed]",
      "text/plain": [
       "<Figure size 720x432 with 1 Axes>"
      ]
     },
     "metadata": {
      "image/png": {
       "height": 382,
       "width": 584
      }
     },
     "output_type": "display_data"
    },
    {
     "data": {
      "image/png": "[encoded data removed]",
      "text/plain": [
       "<Figure size 720x432 with 1 Axes>"
      ]
     },
     "metadata": {
      "image/png": {
       "height": 382,
       "width": 584
      }
     },
     "output_type": "display_data"
    },
    {
     "data": {
      "image/png": "[encoded data removed]",
      "text/plain": [
       "<Figure size 720x432 with 1 Axes>"
      ]
     },
     "metadata": {
      "image/png": {
       "height": 382,
       "width": 588
      }
     },
     "output_type": "display_data"
    },
    {
     "data": {
      "image/png": "[encoded data removed]",
      "text/plain": [
       "<Figure size 720x432 with 1 Axes>"
      ]
     },
     "metadata": {
      "image/png": {
       "height": 382,
       "width": 584
      }
     },
     "output_type": "display_data"
    },
    {
     "data": {
      "image/png": "[encoded data removed]",
      "text/plain": [
       "<Figure size 720x432 with 1 Axes>"
      ]
     },
     "metadata": {
      "image/png": {
       "height": 382,
       "width": 584
      }
     },
     "output_type": "display_data"
    }
   ],
   "source": [
    "find_seq_in_notes(subs)"
   ]
  },
  {
   "cell_type": "code",
   "execution_count": 449,
   "id": "6f0e3a2e",
   "metadata": {},
   "outputs": [
    {
     "data": {
      "image/png": "[encoded data removed]",
      "text/plain": [
       "<IPython.core.display.Image object>"
      ]
     },
     "metadata": {
      "image/png": {
       "height": 715,
       "width": 787
      }
     },
     "output_type": "display_data"
    }
   ],
   "source": [
    "name1='bwv114.7.mxl'\n",
    "i=3\n",
    "j=5\n",
    "part_1_id = 3\n",
    "s1 = corpus.parse('bach/'+name1)\n",
    "sNew1 = key_change_to_base(s1)\n",
    "partStream1 = sNew1.parts.stream()\n",
    "sNew1.show()"
   ]
  },
  {
   "cell_type": "markdown",
   "id": "0b8eaafd",
   "metadata": {},
   "source": [
    "### Add Bach corpus elements to Excel file for further analysis"
   ]
  },
  {
   "cell_type": "code",
   "execution_count": null,
   "id": "ee758a29",
   "metadata": {},
   "outputs": [],
   "source": [
    "df.to_csv('bach_notes.csv')"
   ]
  },
  {
   "cell_type": "markdown",
   "id": "6d32bba1",
   "metadata": {},
   "source": [
    "# Generating harmony to melody (not worth a try)"
   ]
  },
  {
   "cell_type": "code",
   "execution_count": null,
   "id": "449367a7",
   "metadata": {},
   "outputs": [],
   "source": [
    "harmony_chords = {\n",
    "    1: ['A', 'C', 'E'],\n",
    "    2: ['B', 'D', 'F#'],\n",
    "    3: ['C', 'E', 'G#'],\n",
    "    4: ['D', 'F#', 'A'],\n",
    "    5: ['E', 'G#', 'B'],\n",
    "    6: ['F', 'A', 'C'],\n",
    "    7: ['G', 'B', 'D']\n",
    "}\n",
    "\n",
    "measure= []\n",
    "for i in test_lst:\n",
    "    if i[0] == 9:\n",
    "        measure.append(i[1:2][0])\n",
    "\n",
    "\n",
    "print(measure)\n",
    "print(harmony_chords[2])\n",
    "\n",
    "for elem in harmony_chords:\n",
    "    print(str(elem) + ': ' + str(jaccard_distance(measure,harmony_chords[elem])) + ', ' + str(cosine_similarity_ngrams(measure,harmony_chords[elem])))\n",
    "    \n",
    "    \n",
    "'''\n",
    "1 = 1 kindel\n",
    "2 = 6 kindel\n",
    "3 = 4\n",
    "4 = 5\n",
    "'''"
   ]
  }
 ],
 "metadata": {
  "kernelspec": {
   "display_name": "Python 3 (ipykernel)",
   "language": "python",
   "name": "python3"
  },
  "language_info": {
   "codemirror_mode": {
    "name": "ipython",
    "version": 3
   },
   "file_extension": ".py",
   "mimetype": "text/x-python",
   "name": "python",
   "nbconvert_exporter": "python",
   "pygments_lexer": "ipython3",
   "version": "3.9.6"
  }
 },
 "nbformat": 4,
 "nbformat_minor": 5
}
