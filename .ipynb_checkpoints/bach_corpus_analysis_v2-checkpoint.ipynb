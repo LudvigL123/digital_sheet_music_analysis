{
 "cells": [
  {
   "cell_type": "markdown",
   "id": "3bc4f07f",
   "metadata": {},
   "source": [
    "# Digital sheet music analyzer"
   ]
  },
  {
   "cell_type": "markdown",
   "id": "f73e6e0a",
   "metadata": {},
   "source": [
    "## 1 Setting environments and importing necessary packages"
   ]
  },
  {
   "cell_type": "markdown",
   "id": "17c7f008",
   "metadata": {},
   "source": [
    "### Installing MuseScore 3 is necessary for visualization purposes\n",
    "\n",
    "Download link: https://musescore.org/en/download"
   ]
  },
  {
   "cell_type": "code",
   "execution_count": 1,
   "id": "2836ff7e",
   "metadata": {},
   "outputs": [
    {
     "name": "stdout",
     "output_type": "stream",
     "text": [
      "Note: you may need to restart the kernel to use updated packages.\n"
     ]
    },
    {
     "name": "stderr",
     "output_type": "stream",
     "text": [
      "The filename, directory name, or volume label syntax is incorrect.\n"
     ]
    }
   ],
   "source": [
    " pip install -r requirements.txt"
   ]
  },
  {
   "cell_type": "code",
   "execution_count": 1,
   "id": "cb1e2d24",
   "metadata": {},
   "outputs": [
    {
     "data": {
      "text/plain": [
       "WindowsPath('C:/Program Files/MuseScore 3/bin/MuseScore3.exe')"
      ]
     },
     "execution_count": 1,
     "metadata": {},
     "output_type": "execute_result"
    }
   ],
   "source": [
    "import re\n",
    "import math\n",
    "import numpy as np\n",
    "from itertools import chain\n",
    "from collections import Counter\n",
    "import nltk\n",
    "from nltk.util import ngrams \n",
    "from music21 import *\n",
    "from pathlib import Path \n",
    "import pandas as pd\n",
    "import os \n",
    "from os import listdir\n",
    "from os.path import isfile, join\n",
    "from itertools import groupby\n",
    "import glob\n",
    "from difflib import SequenceMatcher\n",
    "from timeit import default_timer as timer\n",
    "from datetime import timedelta\n",
    "from IPython.display import display, Markdown, clear_output\n",
    "# widget packages\n",
    "from ipywidgets import widgets, interact\n",
    "from tqdm.notebook import trange, tqdm\n",
    "\n",
    "from tkinter import Tk, filedialog\n",
    "us = environment.UserSettings()\n",
    "\n",
    "#Only for Windows - install and add your path of MuseScore3 here\n",
    "us['musicxmlPath'] = 'C:\\\\Program Files\\\\MuseScore 3\\\\bin\\\\MuseScore3.exe'\n",
    "us['musescoreDirectPNGPath'] = 'C:\\\\Program Files\\\\MuseScore 3\\\\bin\\\\MuseScore3.exe'\n",
    "us['musicxmlPath']"
   ]
  },
  {
   "cell_type": "markdown",
   "id": "3f32fe81",
   "metadata": {},
   "source": [
    "## 2 Algorithms for extracting information from digital sheet note"
   ]
  },
  {
   "cell_type": "markdown",
   "id": "6385c8ca",
   "metadata": {},
   "source": [
    "#### Function to convert fraction objects to floats"
   ]
  },
  {
   "cell_type": "code",
   "execution_count": 2,
   "id": "7d72665d",
   "metadata": {},
   "outputs": [],
   "source": [
    "def convert_to_float(frac_str):\n",
    "    try:\n",
    "        return float(frac_str)\n",
    "    except ValueError:\n",
    "        num, denom = frac_str.split('/')\n",
    "        try:\n",
    "            leading, num = num.split(' ')\n",
    "            whole = float(leading)\n",
    "        except ValueError:\n",
    "            whole = 0\n",
    "        frac = float(num) / float(denom)\n",
    "        decimal = whole - frac if whole < 0 else whole + frac\n",
    "        return round(decimal,3)"
   ]
  },
  {
   "cell_type": "markdown",
   "id": "7a283308",
   "metadata": {},
   "source": [
    "### Extracts measure information from sheet parts"
   ]
  },
  {
   "cell_type": "code",
   "execution_count": 3,
   "id": "9e8389b0",
   "metadata": {},
   "outputs": [],
   "source": [
    "def get_measure_and_notes(part):\n",
    "    measures = []\n",
    "    detailed_seq = [] #Whole note part sequence without meassure markings\n",
    "    for e in part.getElementsByClass('Measure'):\n",
    "        newMeasure = {}        \n",
    "        newMeasure[e.number] = list(e.notesAndRests.elements)\n",
    "        \n",
    "        for elem in newMeasure[e.number]:\n",
    "            off_s = elem.offset\n",
    "            if elem.isNote:\n",
    "                \n",
    "                if not isinstance(elem.duration.quarterLength, float) or not isinstance(off_s, float):\n",
    "                    \n",
    "                    decimal_lenght = convert_to_float(str(elem.duration.quarterLength))\n",
    "                    off_s = convert_to_float(str(off_s))\n",
    "                    detailed_seq.append((e.number, str(elem.pitch.midi), decimal_lenght, off_s))\n",
    "                   \n",
    "                else:\n",
    "                    \n",
    "                    detailed_seq.append((e.number, str(elem.pitch.midi), elem.duration.quarterLength, off_s))\n",
    "                \n",
    "            elif elem.isChord and '<music21.harmony.ChordSymbol' not in str(elem):\n",
    "                notes = []\n",
    "                \n",
    "                for c in elem.notes:\n",
    "                    if not isinstance(c.duration.quarterLength, float) or not isinstance(off_s, float):\n",
    "                        decimal_lenght = convert_to_float(str(c.duration.quarterLength))\n",
    "                        off_s = convert_to_float(str(off_s))\n",
    "                        notes.append((e.number, str(c.pitch.midi),decimal_lenght, off_s))\n",
    "                    else:\n",
    "                        notes.append((e.number, str(c.pitch.midi), c.duration.quarterLength, off_s))\n",
    "                        \n",
    "                detailed_seq.append(notes)\n",
    "            elif elem.isRest:\n",
    "                detailed_seq.append((e.number, str(elem.name) + '_'+ str(elem.duration.quarterLength)))\n",
    "        \n",
    "        measures.append(newMeasure)\n",
    "\n",
    "    \n",
    "    dic = {}\n",
    "    \n",
    "    for i in range(len(detailed_seq)):\n",
    "        if len(detailed_seq[i]) != 0:\n",
    "            dic[i] = detailed_seq[i]\n",
    "    return dic\n"
   ]
  },
  {
   "cell_type": "markdown",
   "id": "ade98f8d",
   "metadata": {},
   "source": [
    "MIDI = 64 -> MIDI TO NOTE -> note.Note(elem.pitch.midi).nameWithOctave (E4) - note type"
   ]
  },
  {
   "cell_type": "markdown",
   "id": "925b36ca",
   "metadata": {},
   "source": [
    "### Sheet note information is extracted to datatable"
   ]
  },
  {
   "cell_type": "code",
   "execution_count": 4,
   "id": "49d81e00",
   "metadata": {},
   "outputs": [],
   "source": [
    "def gather_part_info(note, noteName, sheet_path, note_id):\n",
    "    allNote = [] #Every part of the instrument is collected here\n",
    "    part_count = 1\n",
    "    for el in note.elements: #Every part is a separately analyzed -> el = PartStaff\n",
    "        #Basic info\n",
    "        partList = {}\n",
    "        partList['note_id'] = note_id\n",
    "        partList['note_part_id'] = str(note_id) + \"_\" + str(part_count)\n",
    "        partList['sheet_name'] = noteName\n",
    "        partList['sheet_path'] = sheet_path\n",
    "        partList['partName'] = el.partName \n",
    "        partList['sharps'] = el[1].keySignature.sharps #1. taktist saab helistiku märgid kätte.\n",
    "        \n",
    "        part_count +=1\n",
    "        #Find the key\n",
    "        try:\n",
    "            if el.analyze('Krumhansl') == el.analyze('AardenEssen'):\n",
    "                partList['key'] = el.analyze('Krumhansl').name  #MusicXML enda tuvastusalgoritm (ei ole alati täpne)\n",
    "            else:\n",
    "                partList['key'] = str(el.analyze('Krumhansl').name) + \"  /  \" +  str(el.analyze('AardenEssen')) #TODO: Check against dictionary\n",
    "        except:\n",
    "            partList['key'] = \"None\"\n",
    "            \n",
    "        #Find time signature\n",
    "        time_signatures = []\n",
    "        for i in (el['TimeSignature']):\n",
    "            time_signatures.append(str(i.numerator) + '/' + str(i.denominator))\n",
    "        if len(set(time_signatures)) == 0:\n",
    "            partList['time_signature'] = \"None\"\n",
    "        elif len(set(time_signatures)) == 1:\n",
    "            partList['time_signature'] = time_signatures[0]\n",
    "        else:\n",
    "            partList['time_signature'] = set(time_signatures)\n",
    "        \n",
    "        #Find the Metronome\n",
    "        metronome = []\n",
    "        for i in el['MetronomeMark']: #TODO: Check against dictionary\n",
    "            metronome.append(str(i.number))\n",
    "        if len(set(metronome)) == 0:\n",
    "            partList['bpm (quarter note)'] = \"None\" #MuseScore gives a default of 120.\n",
    "        elif len(set(metronome)) == 1:\n",
    "            partList['bpm (quarter note)'] = metronome[0]\n",
    "        else:\n",
    "            partList['bpm (quarter note)'] = set(metronome)\n",
    "            \n",
    "        #Find the clef\n",
    "        partList['clef'] = el[1].clef.name\n",
    "        #Find the measures and their content\n",
    "        partList['measures'] = get_measure_and_notes(el)\n",
    "        \n",
    "        allNote.append(partList)\n",
    "    return allNote"
   ]
  },
  {
   "cell_type": "markdown",
   "id": "1090badc",
   "metadata": {},
   "source": [
    "### Sidenotes: \n",
    "\n",
    "Sheets may have textboxes before the partstaffs.\n",
    "\n",
    "* sheet[0][0] - metadata\n",
    "\n",
    "* sheet[1] -> 1.partStaff\n",
    "* sheet[1][1] -> 1. partStaff 1. measure\n",
    "* sheet[1][1][1] -> 1. partStaff 1. measure 'SystemLayout' \n",
    "* sheet[1][1][1] -> 1. partStaff 1. measure 'Trebleclef' \n",
    "* sheet[1][1][2] -> 1. partStaff 1. measure 'Keysignature'\n",
    "* sheet[1][1][3] -> 1. partStaff 1. measure 'Timesignature'\n",
    "* sheet[1][1][4] -> 1. partStaff 1. measure First Note / Chord\n",
    "    - If chord then\n",
    "      *   sheet[1][1][4][0] -> 1. partStaff 1. measure First Note, lower note\n",
    "      *   sheet[1][1][4][1] -> 1. partStaff 1. measure First Note, upper note\n",
    "      \n",
    "      \n",
    "      \n",
    "* len(c.flatten().getElementsByClass(chord.Chord)) - get all the chord elements of entire sheet\n",
    "* len(c.flatten().getElementsByClass(note.Note)) - get all the note elements of entire sheet (no chord notes)"
   ]
  },
  {
   "cell_type": "markdown",
   "id": "e85d687d",
   "metadata": {},
   "source": [
    "### Key change algoritm (to base key - C-major or a-minor)\n",
    "\n",
    "\n",
    "* What method does note.transpose(i) use? - "
   ]
  },
  {
   "cell_type": "code",
   "execution_count": 5,
   "id": "f1a41c77",
   "metadata": {},
   "outputs": [],
   "source": [
    "#Change all keys to either a-minor or C-major\n",
    "def key_change_to_base(note): \n",
    "    \n",
    "    k = note.analyze('key')\n",
    "    \n",
    "    if 'major' in str(k):\n",
    "        i = interval.Interval(k.tonic, pitch.Pitch('c'))\n",
    "    else:\n",
    "        i = interval.Interval(k.tonic, pitch.Pitch('a'))\n",
    "    sNew = note.transpose(i)\n",
    "    kNew = sNew.analyze('key')\n",
    "    \n",
    "    return sNew"
   ]
  },
  {
   "cell_type": "markdown",
   "id": "77eafe88",
   "metadata": {},
   "source": [
    "## 3 Importing sheet notes to dataframe"
   ]
  },
  {
   "cell_type": "markdown",
   "id": "4555f86f",
   "metadata": {},
   "source": [
    "## Bach's corpus analysis \n",
    "#### (last index is 412)\n",
    "### (.krn file is HUMDRUM tool KERN file - these files are not included)"
   ]
  },
  {
   "cell_type": "code",
   "execution_count": null,
   "id": "316312cb",
   "metadata": {
    "scrolled": true
   },
   "outputs": [
    {
     "name": "stdout",
     "output_type": "stream",
     "text": [
      "0\n"
     ]
    },
    {
     "data": {
      "application/vnd.jupyter.widget-view+json": {
       "model_id": "01972f69ed08429090d7d3ba58cc338d",
       "version_major": 2,
       "version_minor": 0
      },
      "text/plain": [
       "  0%|          | 0/413 [00:00<?, ?it/s]"
      ]
     },
     "metadata": {},
     "output_type": "display_data"
    }
   ],
   "source": [
    "def construct_bach_corpus_df(key_change):\n",
    "    \n",
    "    list_of_music = []\n",
    "    paths = corpus.getComposer('bach')\n",
    "    for i in paths:\n",
    "        list_of_music.append(i.name)\n",
    "\n",
    "    bach_notes = list_of_music[0:413]\n",
    "    lst_note_info = []\n",
    "    for note_idx in tqdm(range(len(bach_notes))):\n",
    "        if '.mxl' in bach_notes[note_idx]:\n",
    "            s = corpus.parse('bach/' + bach_notes[note_idx])\n",
    "            if key_change:\n",
    "                sNew = key_change_to_base(s)\n",
    "                partStream2 = sNew.parts.stream()\n",
    "            else:\n",
    "                partStream2 = s.parts.stream()\n",
    "            if len(lst_note_info) == 0:\n",
    "                idx = 0\n",
    "            else:\n",
    "                idx = lst_note_info[-1]['note_id']\n",
    "\n",
    "            note_info2= gather_part_info(partStream2, bach_notes[note_idx], 'corpus', idx+1)\n",
    "            for elem in note_info2:\n",
    "                lst_note_info.append(elem)\n",
    "\n",
    "    df = pd.DataFrame(lst_note_info)\n",
    "    return df\n",
    "df_bach= df_whole = pd.DataFrame() \n",
    "print(len(df_bach))\n",
    "df_complete = construct_bach_corpus_df(True)\n",
    "df_complete"
   ]
  },
  {
   "cell_type": "markdown",
   "id": "d1f0c5a7",
   "metadata": {},
   "source": [
    "## 4 Longest Common Consequtive Non-overlapping Subsequence\n",
    "\n",
    "#### Find the longest common, consequtive and non-overlapping subsequences between notes"
   ]
  },
  {
   "cell_type": "markdown",
   "id": "8ba1ea36",
   "metadata": {},
   "source": [
    "### Sheet music information extracting and transformation algorithms for LCCNOSS analysis\n",
    "\n",
    "#### Measures are assembled as following: - [a,b,c,d]\n",
    "\n",
    "* a - measure nr. / index\n",
    "* b - MIDI mark of the note (can retreive note pitch and note octave from it)\n",
    "* c - duration of the note\n",
    "* d - float = off-beat note/element, integer = on-beat note/element"
   ]
  },
  {
   "cell_type": "markdown",
   "id": "7ee8b13f",
   "metadata": {},
   "source": [
    "### Removing rests"
   ]
  },
  {
   "cell_type": "code",
   "execution_count": null,
   "id": "3f2603ed",
   "metadata": {},
   "outputs": [],
   "source": [
    "def remove_rests(lst):\n",
    "    \n",
    "    for el in lst:\n",
    "        elem = el[1]\n",
    "       \n",
    "        if 'rest_' in elem[1]:\n",
    "            lst.remove(el)\n",
    "    return lst"
   ]
  },
  {
   "cell_type": "markdown",
   "id": "eedd5fe4",
   "metadata": {},
   "source": [
    "### Removing off-beat notes"
   ]
  },
  {
   "cell_type": "code",
   "execution_count": null,
   "id": "72daa17e",
   "metadata": {},
   "outputs": [],
   "source": [
    "def remove_offbeat(lst):\n",
    "    lst_new = remove_rests(lst)\n",
    "    new_lst = []\n",
    "    for el in lst_new:\n",
    "        elem = el[1]\n",
    "       \n",
    "        if isinstance(elem, list):\n",
    "            if elem[0][-1].is_integer():\n",
    "                new_lst.append((el[0],elem))\n",
    "        else:\n",
    "            \n",
    "            if type(elem[-1]) == str:\n",
    "                lst_new.remove(el)\n",
    "            else:\n",
    "                \n",
    "                if elem[-1].is_integer():\n",
    "                    new_lst.append((el[0], elem))\n",
    "    return new_lst"
   ]
  },
  {
   "cell_type": "markdown",
   "id": "2c3ed639",
   "metadata": {},
   "source": [
    "### Removing repetitive notes"
   ]
  },
  {
   "cell_type": "code",
   "execution_count": null,
   "id": "4a11d180",
   "metadata": {},
   "outputs": [],
   "source": [
    "def remove_repetitive_notes(lst):\n",
    "    \n",
    "    return [x[0] for x in groupby(lst)]\n"
   ]
  },
  {
   "cell_type": "markdown",
   "id": "9e3a3bae",
   "metadata": {},
   "source": [
    "### Construct the string from note information"
   ]
  },
  {
   "cell_type": "markdown",
   "id": "aa5778f7",
   "metadata": {},
   "source": [
    "For [3] and [4] - they show the index positionis from where the list should be split.\n",
    "\n",
    "**Possible values of variables:**\n",
    "\n",
    "* n -> measure list from dataframe row\n",
    "* if_rest -> True: keep the rests, False: remove the rests\n",
    "* if_chords -> True: keep the chords, False: remove the chords and keep only the highest note of the chord\n",
    "* m = 0 -> if measure nr IS taken into account OR m = 1 -> if measure nr is NOT taken into account\n",
    "* o = 2 -> if note duration is NOT taken into account OR o = 3 -> if note duration IS taken into account\n",
    "* offset -> True: keep the offset notes, False: remove offset notes \n",
    "* repetition -> True: keep the repetitive notes, False: remove the repetitive (aka consequtive same) notes"
   ]
  },
  {
   "cell_type": "code",
   "execution_count": null,
   "id": "b672e228",
   "metadata": {},
   "outputs": [],
   "source": [
    "def construct_strings(n, if_rest, if_chords, m, o, offset, repetition):\n",
    "    \n",
    "    n = ([(k, n[k]) for k in n]) #change dict to list value\n",
    "    \n",
    "    #Remove repetition first if needed\n",
    "    if repetition == False:\n",
    "        n = remove_repetitive_notes(n)\n",
    "        \n",
    "    lst = []\n",
    "    lst_keys = []\n",
    "    if offset == False: \n",
    "        n = remove_offbeat(n)\n",
    "    \n",
    "    for el in n:\n",
    "        i = el[1]\n",
    "        if if_rest == False:\n",
    "            if 'rest' in i[1]:\n",
    "                continue #skipping rests\n",
    "        if isinstance(i, list):\n",
    "            if if_chords == False: #Takes the first note of the chord into account\n",
    "                elem = i[0][m:o]\n",
    "                s = ' '.join(map(str,elem))\n",
    "                lst.append(s)\n",
    "                lst_keys.append(el[0])\n",
    "            else: #Takes the whole chord into account\n",
    "                cover_lst = []\n",
    "                for elem in i:\n",
    "\n",
    "                    elem = elem[m:3]\n",
    "                    cover_lst.append(elem)\n",
    "                s = ' '.join(map(str,cover_lst))\n",
    "                lst.append(s)\n",
    "                lst_keys.append(el[0])\n",
    "        else:\n",
    "            if 'rest' in i[1]:\n",
    "                i = i[m:2]\n",
    "                s = ' '.join(map(str,i))\n",
    "                lst.append(s)\n",
    "                lst_keys.append(el[0])\n",
    "            else:\n",
    "                i = i[m:o]\n",
    "                s = ' '.join(map(str,i))\n",
    "                lst.append(s)\n",
    "                lst_keys.append(el[0])\n",
    "   \n",
    "    return lst, lst_keys"
   ]
  },
  {
   "cell_type": "markdown",
   "id": "7525a2af",
   "metadata": {},
   "source": [
    "### Generating n-grams and matching sequences - O(N²) — Quadratic Time:"
   ]
  },
  {
   "cell_type": "code",
   "execution_count": null,
   "id": "744bd2a1",
   "metadata": {},
   "outputs": [],
   "source": [
    "def generate_ngrams(s, n):\n",
    "    \n",
    "    # Use the zip function to help us generate n-grams\n",
    "    # Concatentate the tokens into ngrams and return\n",
    "    \n",
    "    ngrams = zip(*[s[i:] for i in range(n)])\n",
    "\n",
    "    return [ngram for ngram in ngrams]\n",
    "\n",
    "def match_seq(list1,list2):\n",
    "    output=[]\n",
    "    s = SequenceMatcher(None, list1, list2)\n",
    "    #print(round(s.ratio(), 2))\n",
    "    blocks=s.get_matching_blocks()\n",
    "    for bl in blocks:\n",
    "        for bi in range(bl.size):\n",
    "            cur_a=bl.a+bi\n",
    "            cur_b=bl.b+bi\n",
    "            output.append((cur_a,cur_b))\n",
    "    return output\n",
    "\n",
    "def matched_seq_analysis(a, b, ngram, a_keys, b_keys):\n",
    "    \n",
    "    matched_seq=[]\n",
    "    \n",
    "    a_gram = generate_ngrams(a,ngram)\n",
    "    b_gram = generate_ngrams(b,ngram)\n",
    "    \n",
    "    \n",
    "    for x,y in match_seq(a_gram,b_gram): #x and y represent the 'order number of the specific note'\n",
    "        \n",
    "        k = list(a_gram[x])\n",
    "        k2 = list(b_gram[y])\n",
    "        \n",
    "        idxs_a = [(i, i+len(k)) for i in range(len(a)) if a[i:i+len(k)] == k]\n",
    "        idxs_b = [(i, i+len(k2)) for i in range(len(b)) if b[i:i+len(k2)] == k2]\n",
    "        \n",
    "        a_gram_keys = a_keys[idxs_a[0][0]:idxs_a[0][1]]\n",
    "        b_gram_keys = b_keys[idxs_b[0][0]:idxs_b[0][1]]\n",
    "        \n",
    "        matched_seq.append((x,y, a_gram[x],b_gram[y], a_gram_keys, b_gram_keys))\n",
    "        \n",
    "    return matched_seq"
   ]
  },
  {
   "cell_type": "markdown",
   "id": "44f0f6ab",
   "metadata": {},
   "source": [
    "## Find Different Longest Consecutive Non-Overlapping Subsequences between two strings"
   ]
  },
  {
   "cell_type": "markdown",
   "id": "d835419e",
   "metadata": {},
   "source": [
    "### Finding the longest common subsequence (starting from 4-gram)"
   ]
  },
  {
   "cell_type": "code",
   "execution_count": null,
   "id": "bbd39ad5",
   "metadata": {},
   "outputs": [],
   "source": [
    "def LCCNOS(n1, n2, if_rest, if_chords, m, o, offset, repetition):\n",
    "    a = construct_strings(n1, if_rest, if_chords, m, o, offset, repetition) \n",
    "    b = construct_strings(n2, if_rest, if_chords, m, o, offset, repetition)\n",
    "    \n",
    "    lst_of_matched_seqs = []\n",
    "    counter = 4 #Starting to look for ngrams 4 and above\n",
    "    total_matches = []\n",
    "    if len(n1) > len(n2):\n",
    "        \n",
    "        total = len(n2)\n",
    "        total_matches = []\n",
    "        while counter != total: \n",
    "            matched = matched_seq_analysis(a[0], b[0], counter, a[1], b[1])\n",
    "            if len(matched) == 0:\n",
    "                break\n",
    "            else:\n",
    "                total_matches = matched\n",
    "                \n",
    "            counter +=1 \n",
    "    else:\n",
    "        total = len(n1)\n",
    "        total_matches = []\n",
    "        while counter != total:\n",
    "            matched = matched_seq_analysis(a[0],b[0], counter, a[1], b[1])\n",
    "            if len(matched) == 0:\n",
    "                break\n",
    "            else:\n",
    "                total_matches = matched\n",
    "               \n",
    "            counter +=1 \n",
    "        \n",
    "    if len(total_matches) == 0:\n",
    "        return 0, 0, 0\n",
    "    else:\n",
    "        idx1 = total_matches[0][0]\n",
    "        idx2 = total_matches[0][1]\n",
    "        seq_length = len(total_matches[0][3])\n",
    "\n",
    "        found_matches = []\n",
    "\n",
    "        range_1 = list(range(idx1, idx1+(counter-1)))\n",
    "        range_2 = list(range(idx2, idx2+(counter-1)))\n",
    "\n",
    "        while seq_length > 4:\n",
    "            if len(found_matches) == 3:\n",
    "                break\n",
    "            matched = matched_seq_analysis(a[0], b[0], seq_length, a[1], b[1])\n",
    "\n",
    "            for match in matched:\n",
    "\n",
    "                if match[0] not in range_1 and match[1] not in range_2:\n",
    "                    found_matches.append(match)\n",
    "                    range_1 = range_1 + list(range(match[0], match[0]+seq_length))\n",
    "                    range_2 = range_2 + list(range(match[1], match[1]+seq_length))\n",
    "                    range_1.sort()\n",
    "                    range_2.sort()\n",
    "            seq_length= seq_length - 1\n",
    "                \n",
    "        if len(found_matches) == 0:\n",
    "            found_matches = 0\n",
    "    \n",
    "    \n",
    "        \n",
    "        return total_matches, len(total_matches[0][3]), found_matches "
   ]
  },
  {
   "cell_type": "markdown",
   "id": "21dc8f46",
   "metadata": {},
   "source": [
    "## Matching the longest common sequences\n",
    "\n",
    "### Ways of doing:\n",
    "\n",
    "* Rests:<br>\n",
    "   a) Keep the rests in the note sequeneces <br>\n",
    "   b) Remove all the rests from the note sequences <br><br>\n",
    "\n",
    "* Chords<br>\n",
    "a) Leave chords as they are - KITSENDUS (võimalik oleks ka kõik akordi noodid lisada või siis määrata ära akordi tähtsaim noot? -> .root()) <br>\n",
    "b) Only take account the first note (higher note) of the chord (chord can be harmony starting from 2 consequently sounding notes)<br><br>\n",
    "\n",
    "* Measure nr<br>\n",
    "a) Consider the specific measure number - meaning that the parts must align<br>\n",
    "b) Do not consider measure number - similar sequences can be see throughout the part<br><br>\n",
    "\n",
    "* Note duration<br>\n",
    "a) Consider note duration in the sequence matching<br>\n",
    "b) Do not consider note duration (note can be in any duration as long as it is the same consequtive note - then it will match)<br><br>\n",
    "\n",
    "* Offset notes<br>\n",
    "a) Leave offset (not on beat notes) into the sheet<br>\n",
    "b) Remove all notes that do not fall on beat<br><br>\n",
    "\n",
    "* Repetition <br>\n",
    "a) Same consequitive notes are kept<br>\n",
    "b) Same consequtive notes are removed<br>"
   ]
  },
  {
   "cell_type": "markdown",
   "id": "22ee411b",
   "metadata": {},
   "source": [
    "### Datatable   \n",
    "   \n",
    "LCCNOS = Longest Common Consequtive Non-Overlapping Sequence"
   ]
  },
  {
   "cell_type": "markdown",
   "id": "fa67a820",
   "metadata": {},
   "source": [
    "### Construct the rules for LCCNOS method"
   ]
  },
  {
   "cell_type": "code",
   "execution_count": 131,
   "id": "99f1a3f3",
   "metadata": {},
   "outputs": [],
   "source": [
    "def construct_LCCNOS(df_base, df_target, i, y, complete, parameters):\n",
    "    \n",
    "    helper_dictionary = {0: 'Yes', 1: 'No', 2: 'No', 3: 'Yes'}\n",
    "    #Test for only one LCS method\n",
    "\n",
    "    if not complete:\n",
    "        \n",
    "        key = str(df_base['note_part_id'][i] + ' + ' + df_base['note_part_id'][y])\n",
    "        \n",
    "        #Example method - change it and choose your own\n",
    "        if parameters[2]:\n",
    "            measure_idx = 0\n",
    "        else:\n",
    "            measure_idx = 1\n",
    "        if parameters[3]:\n",
    "            note_duration = 3\n",
    "        else:\n",
    "            note_duration = 2\n",
    "        \n",
    "        method = str(parameters[0])[0] + str(parameters[1])[0] + helper_dictionary[measure_idx][0] + helper_dictionary[note_duration][0] + str(parameters[4])[0] + str(parameters[5])[0]  \n",
    "        LCS_x, l, lccnos = LCCNOS(df_base['measures'][i],df_base['measures'][y], parameters[0], parameters[1], measure_idx, note_duration, parameters[4], parameters[5])\n",
    "        \n",
    "        data = {'Notes': key,'LCS': LCS_x, 'lenght': l, 'LCCNOS': lccnos, 'method_id': method, 'rests':True,'chords':False, 'consider_measure_idx':helper_dictionary[0],\n",
    "                                   'consider_note_duration':helper_dictionary[2], 'offset_notes':True, 'repetition':False}\n",
    "        \n",
    "        df_whole = pd.DataFrame([data])\n",
    "        \n",
    "    else:\n",
    "    \n",
    "    #Computes all the possible method variants\n",
    "        rests = [True, False]\n",
    "        chords = [True, False]\n",
    "        measure_idx = [0,1]\n",
    "        note_duration = [2,3]\n",
    "        offset_notes = [True, False]\n",
    "        repetition = [True, False]\n",
    "\n",
    "        lst_of_rows =[]\n",
    "        for a in rests:\n",
    "            for b in chords:\n",
    "                for c in measure_idx:\n",
    "                    for d in note_duration:\n",
    "                        for e in offset_notes:\n",
    "                            for f in repetition:\n",
    "\n",
    "                                method = str(a)[0]+str(b)[0]+helper_dictionary[c][0]+helper_dictionary[d][0]+str(e)[0]+str(f)[0]\n",
    "\n",
    "                                key = str(df_target['note_part_id'][i] + ' + ' + df_base['note_part_id'][y])\n",
    "\n",
    "                                LCS_x, l, lccnos = LCCNOS(df_target['measures'][i],df_base['measures'][y],a,b,c,d,e,f)\n",
    "\n",
    "                                data = {'Notes': key,'LCS': LCS_x, 'lenght': l, 'LCCNOS':lccnos, 'method_id':method, 'rests':a,'chords':b, 'consider_measure_idx':helper_dictionary[c],\n",
    "                                       'consider_note_duration':helper_dictionary[d], 'offset_notes':e, 'repetition':f}\n",
    "\n",
    "                                lst_of_rows.append(data)\n",
    "        df_whole = pd.DataFrame(lst_of_rows)\n",
    "                        \n",
    "    return df_whole"
   ]
  },
  {
   "cell_type": "code",
   "execution_count": 116,
   "id": "58b04373",
   "metadata": {},
   "outputs": [],
   "source": [
    "#Look for similar sequence between two different notes OR against all the notes in the dataframe\n",
    "def LCCNOS_analysis(df_base, df_target, i, one_note_bool, if_complete, parameters):\n",
    "    df_whole = pd.DataFrame()\n",
    "    note_dict = {}\n",
    "    \n",
    "    if one_note_bool != -1: #Compare to all the notes in the dataframe\n",
    "        \n",
    "        y =  one_note_bool\n",
    "        df_whole = construct_LCCNOS(df_base, df_target, i, y, if_complete, parameters)\n",
    "        \n",
    "    else: #Compare to specific note in the dataframe (based on index)\n",
    "        for y in range(len(df_base)):\n",
    "            if i !=y:\n",
    "                df_part = construct_LCCNOS(df_base, df_target, i, y, if_complete, parameters)\n",
    "                df_whole = df_whole.append(df_part, ignore_index = True) \n",
    "                \n",
    "    return df_whole"
   ]
  },
  {
   "cell_type": "markdown",
   "id": "65b8723a",
   "metadata": {},
   "source": [
    "### Choose a bach note you want to compare against the dataframe notes"
   ]
  },
  {
   "cell_type": "markdown",
   "id": "4e813bf3",
   "metadata": {},
   "source": [
    "## Choose a method from the options:"
   ]
  },
  {
   "cell_type": "code",
   "execution_count": 117,
   "id": "4bb5b26a",
   "metadata": {},
   "outputs": [
    {
     "data": {
      "application/vnd.jupyter.widget-view+json": {
       "model_id": "d1b26b3026fb4e5e9ad527d4b0274392",
       "version_major": 2,
       "version_minor": 0
      },
      "text/plain": [
       "HBox(children=(VBox(children=(Checkbox(value=False, description='Remove rests'), Checkbox(value=False, descrip…"
      ]
     },
     "metadata": {},
     "output_type": "display_data"
    }
   ],
   "source": [
    "import ipywidgets as widgets\n",
    "\n",
    "wid1 = widgets.Checkbox(\n",
    "    value=False,\n",
    "    description='Remove rests',\n",
    "    disabled=False\n",
    ")\n",
    "wid2 = widgets.Checkbox(\n",
    "    value=False,\n",
    "    description='Remove chords (aka keep only root note)',\n",
    "    disabled=False\n",
    ")\n",
    "\n",
    "wid3 = widgets.Checkbox(\n",
    "    value=False,\n",
    "    description='Consider measure index',\n",
    "    disabled=False\n",
    ")\n",
    "\n",
    "wid4 = widgets.Checkbox(\n",
    "    value=False,\n",
    "    description='Consider note duration',\n",
    "    disabled=False\n",
    ")\n",
    "\n",
    "wid5 = widgets.Checkbox(\n",
    "    value=False,\n",
    "    description='Remove offset notes',\n",
    "    disabled=False\n",
    ")\n",
    "\n",
    "wid6 = widgets.Checkbox(\n",
    "    value=False,\n",
    "    description='Remove repetitive notes',\n",
    "    disabled=False\n",
    ")\n",
    "\n",
    "\n",
    "items = [wid1,wid2, wid3, wid4, wid5, wid6]\n",
    "left_box = widgets.VBox([items[0], items[1]])\n",
    "middle_box = widgets.VBox([items[2], items[3]])\n",
    "right_box = widgets.VBox([items[4], items[5]])\n",
    "widgets.HBox([left_box, middle_box, right_box])"
   ]
  },
  {
   "cell_type": "markdown",
   "id": "5297de5a",
   "metadata": {},
   "source": [
    "### LCCNOS_analysis (dataframe, input_note_idx, target_note_idx, methods_boolean):\n",
    "\n",
    "* dataframe - Choose the dataframe (by default: 'df')\n",
    "* input_note_idx - Choose a note part you want to analyze based on df_input_note dataframe index (by default: 0)\n",
    "* target_note_idx - Choose a target note you want to compare the input note against OR write -1 for analysis against all the notes in the dataframe\n",
    "* methods_boolean - TRUE - note part will be compared with all the 64 methods, FALSE - note part will be compared with one chosen method in 'parameters'\n",
    "* parameters - checked boxes of method options\n",
    "\n",
    "\n",
    "\n"
   ]
  },
  {
   "cell_type": "code",
   "execution_count": 183,
   "id": "0bc71064",
   "metadata": {},
   "outputs": [
    {
     "data": {
      "text/html": [
       "<div>\n",
       "<style scoped>\n",
       "    .dataframe tbody tr th:only-of-type {\n",
       "        vertical-align: middle;\n",
       "    }\n",
       "\n",
       "    .dataframe tbody tr th {\n",
       "        vertical-align: top;\n",
       "    }\n",
       "\n",
       "    .dataframe thead th {\n",
       "        text-align: right;\n",
       "    }\n",
       "</style>\n",
       "<table border=\"1\" class=\"dataframe\">\n",
       "  <thead>\n",
       "    <tr style=\"text-align: right;\">\n",
       "      <th></th>\n",
       "      <th>Notes</th>\n",
       "      <th>LCS</th>\n",
       "      <th>lenght</th>\n",
       "      <th>LCCNOS</th>\n",
       "      <th>method_id</th>\n",
       "      <th>rests</th>\n",
       "      <th>chords</th>\n",
       "      <th>consider_measure_idx</th>\n",
       "      <th>consider_note_duration</th>\n",
       "      <th>offset_notes</th>\n",
       "      <th>repetition</th>\n",
       "    </tr>\n",
       "  </thead>\n",
       "  <tbody>\n",
       "    <tr>\n",
       "      <th>104</th>\n",
       "      <td>1_1 + 2_1</td>\n",
       "      <td>[(605, 32, (84, 83, 81, 81, 83, 84, 86, 88), (...</td>\n",
       "      <td>8</td>\n",
       "      <td>0</td>\n",
       "      <td>FTNNTT</td>\n",
       "      <td>False</td>\n",
       "      <td>True</td>\n",
       "      <td>No</td>\n",
       "      <td>No</td>\n",
       "      <td>True</td>\n",
       "      <td>True</td>\n",
       "    </tr>\n",
       "    <tr>\n",
       "      <th>120</th>\n",
       "      <td>1_1 + 2_1</td>\n",
       "      <td>[(605, 32, (84, 83, 81, 81, 83, 84, 86, 88), (...</td>\n",
       "      <td>8</td>\n",
       "      <td>0</td>\n",
       "      <td>FFNNTT</td>\n",
       "      <td>False</td>\n",
       "      <td>False</td>\n",
       "      <td>No</td>\n",
       "      <td>No</td>\n",
       "      <td>True</td>\n",
       "      <td>True</td>\n",
       "    </tr>\n",
       "    <tr>\n",
       "      <th>121</th>\n",
       "      <td>1_1 + 2_1</td>\n",
       "      <td>[(605, 32, (84, 83, 81, 81, 83, 84, 86, 88), (...</td>\n",
       "      <td>8</td>\n",
       "      <td>0</td>\n",
       "      <td>FFNNTF</td>\n",
       "      <td>False</td>\n",
       "      <td>False</td>\n",
       "      <td>No</td>\n",
       "      <td>No</td>\n",
       "      <td>True</td>\n",
       "      <td>False</td>\n",
       "    </tr>\n",
       "    <tr>\n",
       "      <th>105</th>\n",
       "      <td>1_1 + 2_1</td>\n",
       "      <td>[(605, 32, (84, 83, 81, 81, 83, 84, 86, 88), (...</td>\n",
       "      <td>8</td>\n",
       "      <td>0</td>\n",
       "      <td>FTNNTF</td>\n",
       "      <td>False</td>\n",
       "      <td>True</td>\n",
       "      <td>No</td>\n",
       "      <td>No</td>\n",
       "      <td>True</td>\n",
       "      <td>False</td>\n",
       "    </tr>\n",
       "    <tr>\n",
       "      <th>219</th>\n",
       "      <td>1_1 + 3_1</td>\n",
       "      <td>[(45, 28, (76, 76, 76, 76, 76, 76), (76, 76, 7...</td>\n",
       "      <td>6</td>\n",
       "      <td>[(87, 38, (72, 76, 76, 76, 76), (72, 76, 76, 7...</td>\n",
       "      <td>TFNNFF</td>\n",
       "      <td>True</td>\n",
       "      <td>False</td>\n",
       "      <td>No</td>\n",
       "      <td>No</td>\n",
       "      <td>False</td>\n",
       "      <td>False</td>\n",
       "    </tr>\n",
       "    <tr>\n",
       "      <th>250</th>\n",
       "      <td>1_1 + 3_1</td>\n",
       "      <td>[(45, 28, (76, 76, 76, 76, 76, 76), (76, 76, 7...</td>\n",
       "      <td>6</td>\n",
       "      <td>[(87, 38, (72, 76, 76, 76, 76), (72, 76, 76, 7...</td>\n",
       "      <td>FFNNFT</td>\n",
       "      <td>False</td>\n",
       "      <td>False</td>\n",
       "      <td>No</td>\n",
       "      <td>No</td>\n",
       "      <td>False</td>\n",
       "      <td>True</td>\n",
       "    </tr>\n",
       "    <tr>\n",
       "      <th>251</th>\n",
       "      <td>1_1 + 3_1</td>\n",
       "      <td>[(45, 28, (76, 76, 76, 76, 76, 76), (76, 76, 7...</td>\n",
       "      <td>6</td>\n",
       "      <td>[(87, 38, (72, 76, 76, 76, 76), (72, 76, 76, 7...</td>\n",
       "      <td>FFNNFF</td>\n",
       "      <td>False</td>\n",
       "      <td>False</td>\n",
       "      <td>No</td>\n",
       "      <td>No</td>\n",
       "      <td>False</td>\n",
       "      <td>False</td>\n",
       "    </tr>\n",
       "    <tr>\n",
       "      <th>731</th>\n",
       "      <td>1_1 + 7_1</td>\n",
       "      <td>[(45, 71, (76, 76, 76, 76, 76, 76), (76, 76, 7...</td>\n",
       "      <td>6</td>\n",
       "      <td>0</td>\n",
       "      <td>TFNNFF</td>\n",
       "      <td>True</td>\n",
       "      <td>False</td>\n",
       "      <td>No</td>\n",
       "      <td>No</td>\n",
       "      <td>False</td>\n",
       "      <td>False</td>\n",
       "    </tr>\n",
       "    <tr>\n",
       "      <th>730</th>\n",
       "      <td>1_1 + 7_1</td>\n",
       "      <td>[(45, 71, (76, 76, 76, 76, 76, 76), (76, 76, 7...</td>\n",
       "      <td>6</td>\n",
       "      <td>0</td>\n",
       "      <td>TFNNFT</td>\n",
       "      <td>True</td>\n",
       "      <td>False</td>\n",
       "      <td>No</td>\n",
       "      <td>No</td>\n",
       "      <td>False</td>\n",
       "      <td>True</td>\n",
       "    </tr>\n",
       "    <tr>\n",
       "      <th>347</th>\n",
       "      <td>1_1 + 4_1</td>\n",
       "      <td>[(45, 25, (76, 76, 76, 76, 76, 76), (76, 76, 7...</td>\n",
       "      <td>6</td>\n",
       "      <td>0</td>\n",
       "      <td>TFNNFF</td>\n",
       "      <td>True</td>\n",
       "      <td>False</td>\n",
       "      <td>No</td>\n",
       "      <td>No</td>\n",
       "      <td>False</td>\n",
       "      <td>False</td>\n",
       "    </tr>\n",
       "  </tbody>\n",
       "</table>\n",
       "</div>"
      ],
      "text/plain": [
       "         Notes                                                LCS  lenght  \\\n",
       "104  1_1 + 2_1  [(605, 32, (84, 83, 81, 81, 83, 84, 86, 88), (...       8   \n",
       "120  1_1 + 2_1  [(605, 32, (84, 83, 81, 81, 83, 84, 86, 88), (...       8   \n",
       "121  1_1 + 2_1  [(605, 32, (84, 83, 81, 81, 83, 84, 86, 88), (...       8   \n",
       "105  1_1 + 2_1  [(605, 32, (84, 83, 81, 81, 83, 84, 86, 88), (...       8   \n",
       "219  1_1 + 3_1  [(45, 28, (76, 76, 76, 76, 76, 76), (76, 76, 7...       6   \n",
       "250  1_1 + 3_1  [(45, 28, (76, 76, 76, 76, 76, 76), (76, 76, 7...       6   \n",
       "251  1_1 + 3_1  [(45, 28, (76, 76, 76, 76, 76, 76), (76, 76, 7...       6   \n",
       "731  1_1 + 7_1  [(45, 71, (76, 76, 76, 76, 76, 76), (76, 76, 7...       6   \n",
       "730  1_1 + 7_1  [(45, 71, (76, 76, 76, 76, 76, 76), (76, 76, 7...       6   \n",
       "347  1_1 + 4_1  [(45, 25, (76, 76, 76, 76, 76, 76), (76, 76, 7...       6   \n",
       "\n",
       "                                                LCCNOS method_id  rests  \\\n",
       "104                                                  0    FTNNTT  False   \n",
       "120                                                  0    FFNNTT  False   \n",
       "121                                                  0    FFNNTF  False   \n",
       "105                                                  0    FTNNTF  False   \n",
       "219  [(87, 38, (72, 76, 76, 76, 76), (72, 76, 76, 7...    TFNNFF   True   \n",
       "250  [(87, 38, (72, 76, 76, 76, 76), (72, 76, 76, 7...    FFNNFT  False   \n",
       "251  [(87, 38, (72, 76, 76, 76, 76), (72, 76, 76, 7...    FFNNFF  False   \n",
       "731                                                  0    TFNNFF   True   \n",
       "730                                                  0    TFNNFT   True   \n",
       "347                                                  0    TFNNFF   True   \n",
       "\n",
       "     chords consider_measure_idx consider_note_duration  offset_notes  \\\n",
       "104    True                   No                     No          True   \n",
       "120   False                   No                     No          True   \n",
       "121   False                   No                     No          True   \n",
       "105    True                   No                     No          True   \n",
       "219   False                   No                     No         False   \n",
       "250   False                   No                     No         False   \n",
       "251   False                   No                     No         False   \n",
       "731   False                   No                     No         False   \n",
       "730   False                   No                     No         False   \n",
       "347   False                   No                     No         False   \n",
       "\n",
       "     repetition  \n",
       "104        True  \n",
       "120        True  \n",
       "121       False  \n",
       "105       False  \n",
       "219       False  \n",
       "250        True  \n",
       "251       False  \n",
       "731       False  \n",
       "730        True  \n",
       "347       False  "
      ]
     },
     "execution_count": 183,
     "metadata": {},
     "output_type": "execute_result"
    }
   ],
   "source": [
    "\n",
    "\n",
    "#ADD the note index here what you want to compare:\n",
    "input_note_idx = 0\n",
    "\n",
    "parameters = [wid1.value, wid2.value, wid3.value, wid4.value, wid5.value, wid6.value]\n",
    "\n",
    "df_whole = LCCNOS_analysis(df, df_input_note, input_note_idx, -1, True, parameters) \n",
    "df_whole_small = df_whole.sort_values('lenght', ascending=False)\n",
    "df_whole_small[:10]\n",
    "\n"
   ]
  },
  {
   "cell_type": "code",
   "execution_count": 184,
   "id": "362a94f3",
   "metadata": {},
   "outputs": [
    {
     "data": {
      "application/vnd.jupyter.widget-view+json": {
       "model_id": "41783782c8d048fc9cb1624b00ad06b4",
       "version_major": 2,
       "version_minor": 0
      },
      "text/plain": [
       "interactive(children=(Text(value='lenght', description='column'), IntSlider(value=3, description='x', max=7), …"
      ]
     },
     "metadata": {},
     "output_type": "display_data"
    }
   ],
   "source": [
    "@interact\n",
    "def show_articles_more_than(column='lenght', x=(0, df_whole_small['lenght'].max()-1, 1)):\n",
    "    return df_whole_small.loc[df_whole_small[column] > x]"
   ]
  },
  {
   "cell_type": "markdown",
   "id": "82869fdd",
   "metadata": {},
   "source": [
    "## 4 Visualization"
   ]
  },
  {
   "cell_type": "markdown",
   "id": "9e3ec105",
   "metadata": {},
   "source": [
    "### Algorithms for visualizing subs"
   ]
  },
  {
   "cell_type": "code",
   "execution_count": 185,
   "id": "f90e760b",
   "metadata": {},
   "outputs": [],
   "source": [
    "import matplotlib.pyplot as plt\n",
    "%matplotlib inline\n",
    "\n",
    "def visualize_subs(name1, name2, part_id_1, part_id_2, seq1, seq2):\n",
    "    \n",
    "    #if it's a Bach corpus note or note from local directory\n",
    "    if 'bwv' in name1:\n",
    "        s1 = corpus.parse('bach/'+name1)\n",
    "    else:\n",
    "        s1 = converter.parse(name1)\n",
    "        \n",
    "    if 'bwv' in name2:\n",
    "        s2 = corpus.parse('bach/'+name2)\n",
    "    else:\n",
    "        s2 = converter.parse(name2)\n",
    "    \n",
    "    sNew1 = key_change_to_base(s1)\n",
    "    partStream1 = sNew1.parts.stream()\n",
    "    sNew2 = key_change_to_base(s2)\n",
    "    partStream2 = sNew2.parts.stream()\n",
    "    \n",
    "    print(seq1)\n",
    "    print(seq2)\n",
    "    sNew1.parts[int(part_id_1)-1].measures(seq1[0][0],seq1[-1][0]).show()\n",
    "    sNew2.parts[int(part_id_2)-1].measures(seq2[0][0],seq2[-1][0]).show()\n",
    "    \n",
    "    sNew1.parts[int(part_id_1)-1].measures(seq1[0][0],seq1[-1][0]).show('midi')\n",
    "    sNew2.parts[int(part_id_2)-1].measures(seq2[0][0],seq2[-1][0]).show('midi')\n",
    "    \n",
    "    \n",
    "    return sNew1.parts[int(part_id_1)-1].measures(seq1[0][0],seq1[-1][0]).plot().run(), sNew2.parts[int(part_id_2)-1].measures(seq2[0][0],seq2[-1][0]).plot().run()"
   ]
  },
  {
   "cell_type": "markdown",
   "id": "31595842",
   "metadata": {},
   "source": [
    "## References back to original notes "
   ]
  },
  {
   "cell_type": "code",
   "execution_count": 188,
   "id": "bb01e056",
   "metadata": {},
   "outputs": [],
   "source": [
    "def separate_note_names(notes):\n",
    "    \n",
    "    splitted_note_names = notes.split()\n",
    "   \n",
    "    note1 = splitted_note_names[0]\n",
    "    note2 = splitted_note_names[2]\n",
    "\n",
    "    return note1, note2\n",
    "\n",
    "def get_actual_notes(notes, idxs):\n",
    "    \n",
    "    actual_notes = []\n",
    "    for i in idxs:\n",
    "        actual_notes.append(notes[i])\n",
    "    \n",
    "    return actual_notes\n",
    "\n",
    "def get_whole_actual_seq(notes, idxs):\n",
    "    \n",
    "    actual_seq = []\n",
    "    \n",
    "    start_id = idxs[0]\n",
    "    end_id = idxs[-1]\n",
    "    \n",
    "    while start_id != end_id:\n",
    "        actual_seq.append(notes[start_id])\n",
    "        start_id= start_id +1 \n",
    "      \n",
    "    return actual_seq\n",
    "        \n",
    "def get_notes(notes, lcs, df_base, df_target):\n",
    "    \n",
    "    note1, note2 = separate_note_names(notes)\n",
    "    part_a_measures = df_target.loc[df_target['note_part_id'] == note1]['measures'].values[0]\n",
    "    part_b_measures = df_base.loc[df_base['note_part_id'] == note2]['measures'].values[0]\n",
    "    \n",
    "    \n",
    "    part_a_notes_idxs  = lcs[0][4]\n",
    "    part_b_notes_idxs  = lcs[0][5]\n",
    "    \n",
    "    part_a_actual_notes = get_actual_notes(part_a_measures,part_a_notes_idxs)\n",
    "    part_b_actual_notes = get_actual_notes(part_b_measures,part_b_notes_idxs)\n",
    "        \n",
    "    part_a_actual_seq = get_whole_actual_seq(part_a_measures,part_a_notes_idxs)\n",
    "    part_b_actual_seq = get_whole_actual_seq(part_b_measures,part_b_notes_idxs)\n",
    "    \n",
    "    if df_base['sheet_path'].values[0] == 'corpus':\n",
    "        \n",
    "        n1_name = df_target.loc[df_target['note_part_id'] == note1]['sheet_name'].values[0]\n",
    "        n2_name = df_base.loc[df_base['note_part_id'] == note2]['sheet_name'].values[0]\n",
    "        \n",
    "    else:\n",
    "        \n",
    "        n1_name = df_target.loc[df_target['note_part_id'] == note1]['sheet_path'].values[0]\n",
    "        n2_name = df_base.loc[df_base['note_part_id'] == note2]['sheet_path'].values[0]\n",
    "\n",
    "    splitted_note_names = notes.split()\n",
    "    \n",
    "    part_id_1 = splitted_note_names[0].split('_')[-1]\n",
    "    part_id_2 = splitted_note_names[2].split('_')[-1]\n",
    "        \n",
    "    print(n1_name)\n",
    "    print(n2_name)\n",
    "    visualize_subs(n1_name, n2_name, part_id_1, part_id_2, part_a_actual_seq, part_b_actual_seq)"
   ]
  },
  {
   "cell_type": "markdown",
   "id": "437ee01d",
   "metadata": {},
   "source": [
    "## Visualizing best match of longest common subsequence\n",
    "\n",
    "#### Change the df_idx number if you want to visualize a specific result"
   ]
  },
  {
   "cell_type": "code",
   "execution_count": 186,
   "id": "164120cd",
   "metadata": {},
   "outputs": [
    {
     "name": "stdout",
     "output_type": "stream",
     "text": [
      "Value is empty.\n"
     ]
    }
   ],
   "source": [
    "df_idx = 1 # Change this value here\n",
    "\n",
    "if df_whole_small['LCCNOS'].iloc[df_idx] != 0:\n",
    "    get_notes(df_whole_small['Notes'].iloc[df_idx], df_whole_small['LCCNOS'].iloc[df_idx], df, df_input_note)\n",
    "else:\n",
    "    print(\"Value is empty.\")\n",
    "    "
   ]
  },
  {
   "cell_type": "markdown",
   "id": "8bac67c8",
   "metadata": {},
   "source": [
    "## Visualizing all the longest repeating non-overlapping unique subsequences "
   ]
  },
  {
   "cell_type": "code",
   "execution_count": 191,
   "id": "fe55f9a5",
   "metadata": {},
   "outputs": [
    {
     "name": "stdout",
     "output_type": "stream",
     "text": [
      "C:/Users/Lleis/Documents/SCHOOL/digimagister/digital_sheet_music_analysis/test_notes/bond.musicxml\n",
      "C:/Users/Lleis/Documents/SCHOOL/digimagister/digital_sheet_music_analysis/covers_notes\\Fur_Elise (1).mxl\n",
      "[(14, '76', 2.0, 0.0), (14, 'rest_1.0'), (14, '76', 0.5, 3.0), (14, '77', 0.25, 3.5), (14, '76', 0.25, 3.75), (15, '76', 0.5, 0.0), (15, '77', 0.25, 0.5), (15, '76', 0.25, 0.75), (15, '76', 0.5, 1.0), (15, '77', 0.25, 1.5), (15, '76', 0.25, 1.75), (15, '76', 0.5, 2.0), (15, '77', 0.25, 2.5), (15, '76', 0.25, 2.75)]\n",
      "[(15, '76', 0.5, 2.0), (15, '75', 0.5, 2.5), (16, '76', 0.5, 0.0), (16, '75', 0.5, 0.5), (16, '76', 0.5, 1.0), (16, '75', 0.5, 1.5), (16, '76', 0.5, 2.0), (16, '75', 0.5, 2.5), (17, '76', 0.5, 0.0), (17, '75', 0.5, 0.5)]\n"
     ]
    },
    {
     "data": {
      "image/png": "[encoded data removed]",
      "text/plain": [
       "<IPython.core.display.Image object>"
      ]
     },
     "metadata": {
      "image/png": {
       "height": 156,
       "width": 708
      }
     },
     "output_type": "display_data"
    },
    {
     "data": {
      "image/png": "[encoded data removed]",
      "text/plain": [
       "<IPython.core.display.Image object>"
      ]
     },
     "metadata": {
      "image/png": {
       "height": 287,
       "width": 708
      }
     },
     "output_type": "display_data"
    },
    {
     "data": {
      "text/html": [
       "\n",
       "                <div id='midiPlayerDiv1544099'></div>\n",
       "                <link rel=\"stylesheet\" href=\"//cuthbertLab.github.io/music21j/css/m21.css\"\n",
       "                    type=\"text/css\" />\n",
       "                <script>\n",
       "                require.config({\n",
       "                    paths: {'music21': '//cuthbertLab.github.io/music21j/src/music21'}\n",
       "                });\n",
       "                require(['music21'], function() {\n",
       "                               mp = new music21.miditools.MidiPlayer();\n",
       "                               mp.addPlayer('#midiPlayerDiv1544099');\n",
       "                               mp.base64Load('data:audio/midi;base64,TVRoZAAAAAYAAQACBABNVHJrAAAAGgD/WQIAAAD/WAQEAhgIAP9RAwehIIgA/y8ATVRyawAAAIYA/wMFUGlhbm8AwAAA4ABAAMAAiACQTFqQAIBMAIgAkExahACATAAAkE1aggCATQAAkExahgCATAAAkE1aggCATQAAkExahgCATAAAkE1aggCATQAAkExahgCATAAAkE1aggCATQAAkExahgCATAAAkEhaggCASAAAkEhaggCASACIAP8vAA==');\n",
       "                        });\n",
       "                </script>"
      ],
      "text/plain": [
       "<IPython.core.display.HTML object>"
      ]
     },
     "metadata": {},
     "output_type": "display_data"
    },
    {
     "data": {
      "text/html": [
       "\n",
       "                <div id='midiPlayerDiv1544290'></div>\n",
       "                <link rel=\"stylesheet\" href=\"//cuthbertLab.github.io/music21j/css/m21.css\"\n",
       "                    type=\"text/css\" />\n",
       "                <script>\n",
       "                require.config({\n",
       "                    paths: {'music21': '//cuthbertLab.github.io/music21j/src/music21'}\n",
       "                });\n",
       "                require(['music21'], function() {\n",
       "                               mp = new music21.miditools.MidiPlayer();\n",
       "                               mp.addPlayer('#midiPlayerDiv1544290');\n",
       "                               mp.base64Load('data:audio/midi;base64,TVRoZAAAAAYAAQACBABNVHJrAAAAGgD/WQIAAAD/UQMHoSAA/1gEBAIYCIgA/y8ATVRyawAAAKAA/wMFUGlhbm8AwAAA4ABAAMAAiACQR1qQAIBHAACQTFqEAIBMAACQS1qEAIBLAACQTFqEAIBMAACQS1qEAIBLAACQTFqEAIBMAACQS1qEAIBLAACQTFqEAIBMAACQS1qEAIBLAACQTFqEAIBMAACQS1qEAIBLAACQTFqEAIBMAACQR1qEAIBHAACQSlqEAIBKAACQSFqEAIBIAIgA/y8A');\n",
       "                        });\n",
       "                </script>"
      ],
      "text/plain": [
       "<IPython.core.display.HTML object>"
      ]
     },
     "metadata": {},
     "output_type": "display_data"
    },
    {
     "data": {
      "image/png": "[encoded data removed]",
      "text/plain": [
       "<Figure size 720x432 with 1 Axes>"
      ]
     },
     "metadata": {
      "image/png": {
       "height": 382,
       "width": 584
      }
     },
     "output_type": "display_data"
    },
    {
     "data": {
      "image/png": "[encoded data removed]",
      "text/plain": [
       "<Figure size 720x432 with 1 Axes>"
      ]
     },
     "metadata": {
      "image/png": {
       "height": 382,
       "width": 584
      }
     },
     "output_type": "display_data"
    }
   ],
   "source": [
    "df_idx = 4 # Change this value here\n",
    "\n",
    "get_notes(df_whole_small['Notes'].iloc[df_idx], df_whole_small['LCS'].iloc[df_idx], df, df_input_note)"
   ]
  },
  {
   "cell_type": "markdown",
   "id": "4e252f4b",
   "metadata": {},
   "source": [
    "### Add results to Excel file for further analysis"
   ]
  },
  {
   "cell_type": "code",
   "execution_count": null,
   "id": "d3acab60",
   "metadata": {},
   "outputs": [],
   "source": [
    "df_whole.to_csv('whole_notes.csv')"
   ]
  },
  {
   "cell_type": "markdown",
   "id": "c2ce2b32",
   "metadata": {},
   "source": [
    "****"
   ]
  },
  {
   "cell_type": "markdown",
   "id": "caec48d5",
   "metadata": {},
   "source": [
    "# End of notebook"
   ]
  },
  {
   "cell_type": "markdown",
   "id": "a50db0ce",
   "metadata": {},
   "source": [
    "***"
   ]
  },
  {
   "cell_type": "markdown",
   "id": "8b8d8029",
   "metadata": {},
   "source": [
    "## Checking differences between key transposing and interval analysis"
   ]
  },
  {
   "cell_type": "code",
   "execution_count": 177,
   "id": "6f47a5ed",
   "metadata": {},
   "outputs": [],
   "source": [
    "def check_semitones(st_inter, intervals):\n",
    "    if st_inter > 12:\n",
    "        st_inter = st_inter % 12  \n",
    "    elif st_inter < -12:\n",
    "        st_inter = st_inter % -12\n",
    "    intervals.append(st_inter)\n",
    "    \n",
    "def find_intervals(allInfo):\n",
    "    intervals= []\n",
    "    i=1 \n",
    "    while i != len(allInfo) and len(allInfo) != 0 and len(allInfo) != 1:\n",
    "       \n",
    "        inter = interval.Interval(noteStart=allInfo[i-1], noteEnd=allInfo[i]).semitones\n",
    "        check_semitones(inter,intervals)\n",
    "            \n",
    "        i+=1\n",
    "    return intervals\n",
    "\n",
    "def convert_to_interval(lst):\n",
    "    n = ([(k, lst[k]) for k in lst])\n",
    "    lst_1 = remove_rests(n)\n",
    "    part_notes = []\n",
    "    intervals = []\n",
    "    \n",
    "    \n",
    "    for elem in lst_1:\n",
    "        \n",
    "        if isinstance(elem[1], list):\n",
    "            continue\n",
    "        elif 'rest' in elem[1][1]:\n",
    "            continue\n",
    "        else:\n",
    "            n_int = int(elem[1][1])\n",
    "        n = note.Note(n_int).nameWithOctave\n",
    "        new_n = note.Note(n)\n",
    "        part_notes.append(new_n)\n",
    "    \n",
    "    new_lst = find_intervals(part_notes)\n",
    "    \n",
    "    #print(new_lst)\n",
    "    return new_lst\n",
    "    \n"
   ]
  },
  {
   "cell_type": "code",
   "execution_count": 176,
   "id": "6b3e2529",
   "metadata": {},
   "outputs": [
    {
     "name": "stdout",
     "output_type": "stream",
     "text": [
      "D major\n",
      "C major\n"
     ]
    },
    {
     "data": {
      "text/html": [
       "<div>\n",
       "<style scoped>\n",
       "    .dataframe tbody tr th:only-of-type {\n",
       "        vertical-align: middle;\n",
       "    }\n",
       "\n",
       "    .dataframe tbody tr th {\n",
       "        vertical-align: top;\n",
       "    }\n",
       "\n",
       "    .dataframe thead th {\n",
       "        text-align: right;\n",
       "    }\n",
       "</style>\n",
       "<table border=\"1\" class=\"dataframe\">\n",
       "  <thead>\n",
       "    <tr style=\"text-align: right;\">\n",
       "      <th></th>\n",
       "      <th>note_id</th>\n",
       "      <th>note_part_id</th>\n",
       "      <th>sheet_name</th>\n",
       "      <th>sheet_path</th>\n",
       "      <th>partName</th>\n",
       "      <th>sharps</th>\n",
       "      <th>key</th>\n",
       "      <th>time_signature</th>\n",
       "      <th>bpm (quarter note)</th>\n",
       "      <th>clef</th>\n",
       "      <th>measures</th>\n",
       "    </tr>\n",
       "  </thead>\n",
       "  <tbody>\n",
       "    <tr>\n",
       "      <th>0</th>\n",
       "      <td>2</td>\n",
       "      <td>2_1</td>\n",
       "      <td>int</td>\n",
       "      <td>test</td>\n",
       "      <td>Piano</td>\n",
       "      <td>2</td>\n",
       "      <td>D major</td>\n",
       "      <td>4/4</td>\n",
       "      <td>100.0</td>\n",
       "      <td>treble</td>\n",
       "      <td>{0: (1, 'rest_4.0'), 1: (2, 'rest_4.0'), 2: (3...</td>\n",
       "    </tr>\n",
       "    <tr>\n",
       "      <th>1</th>\n",
       "      <td>2</td>\n",
       "      <td>2_2</td>\n",
       "      <td>int</td>\n",
       "      <td>test</td>\n",
       "      <td>Piano</td>\n",
       "      <td>2</td>\n",
       "      <td>D major</td>\n",
       "      <td>4/4</td>\n",
       "      <td>100.0</td>\n",
       "      <td>bass</td>\n",
       "      <td>{0: (1, '50', 0.5, 0.0), 1: (1, '57', 0.5, 0.5...</td>\n",
       "    </tr>\n",
       "    <tr>\n",
       "      <th>2</th>\n",
       "      <td>3</td>\n",
       "      <td>3_1</td>\n",
       "      <td>int_changed</td>\n",
       "      <td>test</td>\n",
       "      <td>Piano</td>\n",
       "      <td>0</td>\n",
       "      <td>C major</td>\n",
       "      <td>4/4</td>\n",
       "      <td>100.0</td>\n",
       "      <td>treble</td>\n",
       "      <td>{0: (1, 'rest_4.0'), 1: (2, 'rest_4.0'), 2: (3...</td>\n",
       "    </tr>\n",
       "    <tr>\n",
       "      <th>3</th>\n",
       "      <td>3</td>\n",
       "      <td>3_2</td>\n",
       "      <td>int_changed</td>\n",
       "      <td>test</td>\n",
       "      <td>Piano</td>\n",
       "      <td>0</td>\n",
       "      <td>C major</td>\n",
       "      <td>4/4</td>\n",
       "      <td>100.0</td>\n",
       "      <td>bass</td>\n",
       "      <td>{0: (1, '48', 0.5, 0.0), 1: (1, '55', 0.5, 0.5...</td>\n",
       "    </tr>\n",
       "  </tbody>\n",
       "</table>\n",
       "</div>"
      ],
      "text/plain": [
       "   note_id note_part_id   sheet_name sheet_path partName  sharps      key  \\\n",
       "0        2          2_1          int       test    Piano       2  D major   \n",
       "1        2          2_2          int       test    Piano       2  D major   \n",
       "2        3          3_1  int_changed       test    Piano       0  C major   \n",
       "3        3          3_2  int_changed       test    Piano       0  C major   \n",
       "\n",
       "  time_signature bpm (quarter note)    clef  \\\n",
       "0            4/4              100.0  treble   \n",
       "1            4/4              100.0    bass   \n",
       "2            4/4              100.0  treble   \n",
       "3            4/4              100.0    bass   \n",
       "\n",
       "                                            measures  \n",
       "0  {0: (1, 'rest_4.0'), 1: (2, 'rest_4.0'), 2: (3...  \n",
       "1  {0: (1, '50', 0.5, 0.0), 1: (1, '57', 0.5, 0.5...  \n",
       "2  {0: (1, 'rest_4.0'), 1: (2, 'rest_4.0'), 2: (3...  \n",
       "3  {0: (1, '48', 0.5, 0.0), 1: (1, '55', 0.5, 0.5...  "
      ]
     },
     "execution_count": 176,
     "metadata": {},
     "output_type": "execute_result"
    }
   ],
   "source": [
    "c5 = converter.parse(r'C:\\Users\\Lleis\\Documents\\SCHOOL\\digimagister\\digital_sheet_music_analysis\\notes\\Canon_in_D.mxl')\n",
    "partStream2 = c5.parts.stream()\n",
    "note_info2= gather_part_info(partStream2, 'int', 'test', 2)\n",
    "\n",
    "#Add first note to the dataframe to create it\n",
    "df_test = pd.DataFrame(note_info2)\n",
    "\n",
    "print(c5.analyze('key'))\n",
    "c5New = key_change_to_base(c5)\n",
    "\n",
    "print(c5New.analyze('key'))\n",
    "partStream3 = c5New.parts.stream()\n",
    "idx = df_test['note_id'].iloc[-1]\n",
    "\n",
    "note_info3= gather_part_info(partStream3, 'int_changed', 'test', idx+1)\n",
    "df_new = pd.DataFrame(note_info3)\n",
    "\n",
    "df_test= df_test.append(df_new, ignore_index = True)\n",
    "\n",
    "df_test"
   ]
  },
  {
   "cell_type": "code",
   "execution_count": 148,
   "id": "7a400b8c",
   "metadata": {},
   "outputs": [
    {
     "data": {
      "text/html": [
       "<div>\n",
       "<style scoped>\n",
       "    .dataframe tbody tr th:only-of-type {\n",
       "        vertical-align: middle;\n",
       "    }\n",
       "\n",
       "    .dataframe tbody tr th {\n",
       "        vertical-align: top;\n",
       "    }\n",
       "\n",
       "    .dataframe thead th {\n",
       "        text-align: right;\n",
       "    }\n",
       "</style>\n",
       "<table border=\"1\" class=\"dataframe\">\n",
       "  <thead>\n",
       "    <tr style=\"text-align: right;\">\n",
       "      <th></th>\n",
       "      <th>note_id</th>\n",
       "      <th>note_part_id</th>\n",
       "      <th>sheet_name</th>\n",
       "      <th>sheet_path</th>\n",
       "      <th>partName</th>\n",
       "      <th>sharps</th>\n",
       "      <th>key</th>\n",
       "      <th>time_signature</th>\n",
       "      <th>bpm (quarter note)</th>\n",
       "      <th>clef</th>\n",
       "      <th>measures</th>\n",
       "    </tr>\n",
       "  </thead>\n",
       "  <tbody>\n",
       "    <tr>\n",
       "      <th>0</th>\n",
       "      <td>2</td>\n",
       "      <td>2_1</td>\n",
       "      <td>int</td>\n",
       "      <td>test</td>\n",
       "      <td>Piano</td>\n",
       "      <td>-2</td>\n",
       "      <td>G minor  /  c minor</td>\n",
       "      <td>{4/4, 3/8, 5/4, 3/4}</td>\n",
       "      <td>{75.0, 30.0, 10.0}</td>\n",
       "      <td>treble</td>\n",
       "      <td>{0: (1, 'rest_4.0'), 1: (2, 'rest_4.0'), 2: (3...</td>\n",
       "    </tr>\n",
       "    <tr>\n",
       "      <th>1</th>\n",
       "      <td>2</td>\n",
       "      <td>2_2</td>\n",
       "      <td>int</td>\n",
       "      <td>test</td>\n",
       "      <td>Piano</td>\n",
       "      <td>-2</td>\n",
       "      <td>G minor</td>\n",
       "      <td>{4/4, 3/8, 5/4, 3/4}</td>\n",
       "      <td>{75.0, 30.0, 10.0}</td>\n",
       "      <td>bass</td>\n",
       "      <td>{0: (1, '43', 0.5, 0.0), 1: (1, '50', 0.5, 0.5...</td>\n",
       "    </tr>\n",
       "    <tr>\n",
       "      <th>2</th>\n",
       "      <td>3</td>\n",
       "      <td>3_1</td>\n",
       "      <td>int_changed</td>\n",
       "      <td>test</td>\n",
       "      <td>Piano</td>\n",
       "      <td>0</td>\n",
       "      <td>A minor  /  d minor</td>\n",
       "      <td>{4/4, 3/8, 5/4, 3/4}</td>\n",
       "      <td>{75.0, 30.0, 10.0}</td>\n",
       "      <td>treble</td>\n",
       "      <td>{0: (1, 'rest_4.0'), 1: (2, 'rest_4.0'), 2: (3...</td>\n",
       "    </tr>\n",
       "    <tr>\n",
       "      <th>3</th>\n",
       "      <td>3</td>\n",
       "      <td>3_2</td>\n",
       "      <td>int_changed</td>\n",
       "      <td>test</td>\n",
       "      <td>Piano</td>\n",
       "      <td>0</td>\n",
       "      <td>A minor</td>\n",
       "      <td>{4/4, 3/8, 5/4, 3/4}</td>\n",
       "      <td>{75.0, 30.0, 10.0}</td>\n",
       "      <td>bass</td>\n",
       "      <td>{0: (1, '45', 0.5, 0.0), 1: (1, '52', 0.5, 0.5...</td>\n",
       "    </tr>\n",
       "  </tbody>\n",
       "</table>\n",
       "</div>"
      ],
      "text/plain": [
       "   note_id note_part_id   sheet_name sheet_path partName  sharps  \\\n",
       "0        2          2_1          int       test    Piano      -2   \n",
       "1        2          2_2          int       test    Piano      -2   \n",
       "2        3          3_1  int_changed       test    Piano       0   \n",
       "3        3          3_2  int_changed       test    Piano       0   \n",
       "\n",
       "                   key        time_signature  bpm (quarter note)    clef  \\\n",
       "0  G minor  /  c minor  {4/4, 3/8, 5/4, 3/4}  {75.0, 30.0, 10.0}  treble   \n",
       "1              G minor  {4/4, 3/8, 5/4, 3/4}  {75.0, 30.0, 10.0}    bass   \n",
       "2  A minor  /  d minor  {4/4, 3/8, 5/4, 3/4}  {75.0, 30.0, 10.0}  treble   \n",
       "3              A minor  {4/4, 3/8, 5/4, 3/4}  {75.0, 30.0, 10.0}    bass   \n",
       "\n",
       "                                            measures  \n",
       "0  {0: (1, 'rest_4.0'), 1: (2, 'rest_4.0'), 2: (3...  \n",
       "1  {0: (1, '43', 0.5, 0.0), 1: (1, '50', 0.5, 0.5...  \n",
       "2  {0: (1, 'rest_4.0'), 1: (2, 'rest_4.0'), 2: (3...  \n",
       "3  {0: (1, '45', 0.5, 0.0), 1: (1, '52', 0.5, 0.5...  "
      ]
     },
     "execution_count": 148,
     "metadata": {},
     "output_type": "execute_result"
    }
   ],
   "source": [
    "df_test"
   ]
  },
  {
   "cell_type": "code",
   "execution_count": 178,
   "id": "d9dc62b5",
   "metadata": {},
   "outputs": [
    {
     "name": "stdout",
     "output_type": "stream",
     "text": [
      "[-2, -2, -1, -2, -2, 2, 2, 1, 4, 3, -2, -1, -4, 4, -2, -2, -3, 3, 4, 1, 4, -2, -2, -1, 1, -5, 2, -5, 7, 5, -4, -5, -1, 1, -5, 0, 4, 1, 4, 3, 2, -4, -1, -2, 3, -1, -2, -2, -1, -2, -2, 5, 0, -1, 1, -1, 1, -5, 0, 4, 1, 4, 3, 2, -4, -1, -2, 3, -1, -2, -2, -1, -2, -2, 5, 0, -1, 1, -1, 1, -5, 4, -4, 7, 2, -4, 0, -1, -2, 2, 5, 3, 2, -4, -1, -2, 3, -1, -2, -2, -1, -2, -2, -2, -1, -2, 3, -1, -2, 10, 2, 2, 1, 2, -5, 5, -2, -1, 5, -2, -2, 2, -2, -1, -2, -2, -3, 0, 2, 1, 4, -2, -2, 4, 1, -5, -1, -2, 2, 1, -1, 8, -3, 1, 2, -3, 1, 2, -12, 2, 2, 1, 2, 2, 1, -1, -4, 2, 2, -12, 1, 2, 2, -2, -2, 2, -3, 1, 2, -2, 4, -2, -2, -1, -2, 2, -2, -2, 2, 2, 1, 2, 2, -4, 4, -2, 2, 2, 1, -5, 2, 2, 1, 2, 2, 1, 2, 0, -3, 1, 2, -3, 1, 2, -12, 2, 2, 1, 2, 2, 1, -1, -4, 2, 2, -12, 1, 2, 2, -2, -2, 2, -3, 1, 2, -2, 4, -2, -2, -1, -2, 2, -2, -2, 2, 2, 1, 2, 2, -4, 4, -2, 2, 2, 1, -5, 2, 2, 1, 2, 2, 1, 2, -3, -4, 2, 2, -2, -2, 2, -3, 1, 2, 2, -2, -2, -1, 1, -3, 2, 1, 0, 2, 2, 1, -1, -2, 2, -4, -1, 1, -3, 3, -1, -2, -2, -2, 2, -2, -1, 1, 2, 2, 2, 1, -3, 3, -1, 1, -1, -2, 2, -4, 2, 2, 1, 2, 2, 1, -1, -4, 2, 2, -2, -2, 2, -3, 1, 2, 2, -2, -2, -1, 1, -3, 2, 1, 0, 2, 2, 1, -1, -2, 2, -4, -1, 1, -3, 3, -1, -2, -2, -2, 2, -2, -1, 1, 2, 2, 2, 1, -3, 3, -1, 1, -1, -2, 2, -4, 2, 2, 1, 2, 2, 1, 2, -7, 4, 3, 0, 2, -2, -2, -1, 0, 0, 1, -1, -2, -2, -2, -1, 1, 2, -5, 0, 5, -2, -1, 1, 2, -1, 8, 0, 0, 2, -2, -2, -1, 0, 0, 1, -1, -2, -2, -2, -1, 1, 2, -5, 0, 5, -2, -1, 1, 2, -1, 5, -12, 1, -1, -2, 12, 2, -2, -2, -8, 8, -3, -2, 0, -2, 2, 2, 0, 2, -2, -2, 0, -2, 2, 2, 0, -2, 2, 2, 0, -2, 2, 1, 0, 2, -2, -1, 0, 1, -1, -2, 0, -2, 2, 2, 0, 5, -2, -2, 0, 2, 3, -1, -12, 3, 9, 0, 1, -1, 1, -3, -7, 7, -3, 1, 2, 2, -4, -1, 1, 2, -3, -2, 2, 1, -3, 10, -2, -1, -2, 3, -1, -2, 3, -5, 2, 2, 3, 2, -2, -2, 4, -2, -2, -1, -2, -2, -1, 1, -5, 0, 2, 2, -4, 5, 2, -2, 4, -2, -2, -1, -2, -2, 2, 2, 5, -2, -2, 4, -4, -1, -2, 2, 0, 5, 0, 1, -1, -2, -2, 0, 0, 2, -2, -1, 1, -5, 0, 4, -1, -1, 1, 2, -5, -3, 8, -2, -1, 1, 1, -4, 0, 2, -2, -2, -1, 0, 0, 1, -1, -2, 10, -2, -1, 1, 2, -5, 0, 5, -2, -1, 1, 2, -1, -4, 0, 0, 2, -2, -2, 0, 2, 0, 7, 3, -3, 3, -10, -2, 11, -2, 0]\n",
      "[-2, -2, -1, -2, -2, 2, 2, 1, 4, 3, -2, -1, -4, 4, -2, -2, -3, 3, 4, 1, 4, -2, -2, -1, 1, -5, 2, -5, 7, 5, -4, -5, -1, 1, -5, 0, 4, 1, 4, 3, 2, -4, -1, -2, 3, -1, -2, -2, -1, -2, -2, 5, 0, -1, 1, -1, 1, -5, 0, 4, 1, 4, 3, 2, -4, -1, -2, 3, -1, -2, -2, -1, -2, -2, 5, 0, -1, 1, -1, 1, -5, 4, -4, 7, 2, -4, 0, -1, -2, 2, 5, 3, 2, -4, -1, -2, 3, -1, -2, -2, -1, -2, -2, -2, -1, -2, 3, -1, -2, 10, 2, 2, 1, 2, -5, 5, -2, -1, 5, -2, -2, 2, -2, -1, -2, -2, -3, 0, 2, 1, 4, -2, -2, 4, 1, -5, -1, -2, 2, 1, -1, 8, -3, 1, 2, -3, 1, 2, -12, 2, 2, 1, 2, 2, 1, -1, -4, 2, 2, -12, 1, 2, 2, -2, -2, 2, -3, 1, 2, -2, 4, -2, -2, -1, -2, 2, -2, -2, 2, 2, 1, 2, 2, -4, 4, -2, 2, 2, 1, -5, 2, 2, 1, 2, 2, 1, 2, 0, -3, 1, 2, -3, 1, 2, -12, 2, 2, 1, 2, 2, 1, -1, -4, 2, 2, -12, 1, 2, 2, -2, -2, 2, -3, 1, 2, -2, 4, -2, -2, -1, -2, 2, -2, -2, 2, 2, 1, 2, 2, -4, 4, -2, 2, 2, 1, -5, 2, 2, 1, 2, 2, 1, 2, -3, -4, 2, 2, -2, -2, 2, -3, 1, 2, 2, -2, -2, -1, 1, -3, 2, 1, 0, 2, 2, 1, -1, -2, 2, -4, -1, 1, -3, 3, -1, -2, -2, -2, 2, -2, -1, 1, 2, 2, 2, 1, -3, 3, -1, 1, -1, -2, 2, -4, 2, 2, 1, 2, 2, 1, -1, -4, 2, 2, -2, -2, 2, -3, 1, 2, 2, -2, -2, -1, 1, -3, 2, 1, 0, 2, 2, 1, -1, -2, 2, -4, -1, 1, -3, 3, -1, -2, -2, -2, 2, -2, -1, 1, 2, 2, 2, 1, -3, 3, -1, 1, -1, -2, 2, -4, 2, 2, 1, 2, 2, 1, 2, -7, 4, 3, 0, 2, -2, -2, -1, 0, 0, 1, -1, -2, -2, -2, -1, 1, 2, -5, 0, 5, -2, -1, 1, 2, -1, 8, 0, 0, 2, -2, -2, -1, 0, 0, 1, -1, -2, -2, -2, -1, 1, 2, -5, 0, 5, -2, -1, 1, 2, -1, 5, -12, 1, -1, -2, 12, 2, -2, -2, -8, 8, -3, -2, 0, -2, 2, 2, 0, 2, -2, -2, 0, -2, 2, 2, 0, -2, 2, 2, 0, -2, 2, 1, 0, 2, -2, -1, 0, 1, -1, -2, 0, -2, 2, 2, 0, 5, -2, -2, 0, 2, 3, -1, -12, 3, 9, 0, 1, -1, 1, -3, -7, 7, -3, 1, 2, 2, -4, -1, 1, 2, -3, -2, 2, 1, -3, 10, -2, -1, -2, 3, -1, -2, 3, -5, 2, 2, 3, 2, -2, -2, 4, -2, -2, -1, -2, -2, -1, 1, -5, 0, 2, 2, -4, 5, 2, -2, 4, -2, -2, -1, -2, -2, 2, 2, 5, -2, -2, 4, -4, -1, -2, 2, 0, 5, 0, 1, -1, -2, -2, 0, 0, 2, -2, -1, 1, -5, 0, 4, -1, -1, 1, 2, -5, -3, 8, -2, -1, 1, 1, -4, 0, 2, -2, -2, -1, 0, 0, 1, -1, -2, 10, -2, -1, 1, 2, -5, 0, 5, -2, -1, 1, 2, -1, -4, 0, 0, 2, -2, -2, 0, 2, 0, 7, 3, -3, 3, -10, -2, 11, -2, 0]\n"
     ]
    }
   ],
   "source": [
    "converted_1 = convert_to_interval(df_test['measures'][0])\n",
    "converted_2 = convert_to_interval(df_test['measures'][2])\n",
    "print(converted_1==converted_2)"
   ]
  }
 ],
 "metadata": {
  "kernelspec": {
   "display_name": "Python 3 (ipykernel)",
   "language": "python",
   "name": "python3"
  },
  "language_info": {
   "codemirror_mode": {
    "name": "ipython",
    "version": 3
   },
   "file_extension": ".py",
   "mimetype": "text/x-python",
   "name": "python",
   "nbconvert_exporter": "python",
   "pygments_lexer": "ipython3",
   "version": "3.9.6"
  }
 },
 "nbformat": 4,
 "nbformat_minor": 5
}
